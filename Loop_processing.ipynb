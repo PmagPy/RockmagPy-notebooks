{
 "cells": [
  {
   "cell_type": "code",
   "execution_count": 1,
   "id": "b0748faa-3b25-4325-a299-e397cb9c56df",
   "metadata": {},
   "outputs": [],
   "source": [
    "import rockmag as rmag\n",
    "import pandas as pd\n",
    "import numpy as np\n",
    "from numpy.linalg import svd, lstsq\n",
    "pd.set_option('display.max_columns', 500)\n",
    "\n",
    "import matplotlib.pyplot as plt\n",
    "%matplotlib inline\n",
    "%config InlineBackend.figure_format = 'retina'"
   ]
  },
  {
   "cell_type": "code",
   "execution_count": 2,
   "id": "26737059-1dc1-4e49-9467-cf0e596d361f",
   "metadata": {},
   "outputs": [],
   "source": [
    "# set the dir_path to the directory where the measurements.txt file is located\n",
    "dir_path = './example_data/ECMB'\n",
    "\n",
    "file = dir_path + '/measurements.txt'\n",
    "measurements = pd.read_csv(file, sep='\\t', skiprows=1)\n"
   ]
  },
  {
   "cell_type": "code",
   "execution_count": 4,
   "id": "5a8f51d8-314c-4927-8c41-0af6cfeb0db1",
   "metadata": {},
   "outputs": [
    {
     "data": {
      "application/vnd.jupyter.widget-view+json": {
       "model_id": "9a6a297f48a8403d87ee4b891d8a221c",
       "version_major": 2,
       "version_minor": 0
      },
      "text/plain": [
       "Dropdown(description='Specimen:', options=('NED1-5c', 'NED18-2c', 'NED2-8c', 'NED4-1c', 'NED6-6c'), value='NED…"
      ]
     },
     "metadata": {},
     "output_type": "display_data"
    },
    {
     "data": {
      "application/vnd.jupyter.widget-view+json": {
       "model_id": "d7a5dce9be5d4c0fad0406ca2008e242",
       "version_major": 2,
       "version_minor": 0
      },
      "text/plain": [
       "RadioButtons(description='Plot with:', options=(('matplotlib', False), ('plotly', True)), value=False)"
      ]
     },
     "metadata": {},
     "output_type": "display_data"
    },
    {
     "data": {
      "application/vnd.jupyter.widget-view+json": {
       "model_id": "21942e69f88541f0bf1e4fe338afc174",
       "version_major": 2,
       "version_minor": 0
      },
      "text/plain": [
       "Output()"
      ]
     },
     "metadata": {},
     "output_type": "display_data"
    }
   ],
   "source": [
    "rmag.make_hyst_plots(measurements)"
   ]
  },
  {
   "cell_type": "code",
   "execution_count": 5,
   "id": "e9205cde-9160-4fee-b966-a16cb00a7db0",
   "metadata": {},
   "outputs": [],
   "source": [
    "specimen_name = 'NED1-5c'\n",
    "hyst_data = rmag.extract_hysteresis_data(measurements, specimen_name)"
   ]
  },
  {
   "cell_type": "code",
   "execution_count": 6,
   "id": "2053c57d-961c-4a97-bd66-ca45146e71d6",
   "metadata": {},
   "outputs": [
    {
     "name": "stdout",
     "output_type": "stream",
     "text": [
      "802\n"
     ]
    }
   ],
   "source": [
    "#loop_fields = []\n",
    "#loop_moments = []\n",
    "#print(hyst_data['meas_field_dc'])\n",
    "loop_moments = hyst_data['magn_mass']\n",
    "loop_fields = hyst_data['meas_field_dc']\n",
    "\"\"\"\n",
    "for x in hyst_data['meas_field_dc']:\n",
    "    s1=x\n",
    "    loop_fields.append(float(s1))\n",
    "for x in hyst_data['magn_mass']:\n",
    "    s1=x\n",
    "    loop_moments.append(float(s1))  \n",
    "    \"\"\"\n",
    "n_loop = len(loop_fields)\n",
    "\n",
    "\n",
    "polydegree = 1\n",
    "nsmooth = 3\n",
    "B_offset = 0\n",
    "M_offset = 0\n",
    "acheckvar= 0\n",
    "print(n_loop)\n",
    "#plt.plot(loop_fields, loop_moments)"
   ]
  },
  {
   "cell_type": "code",
   "execution_count": null,
   "id": "22917267-fda3-4521-b835-402fd428b17f",
   "metadata": {},
   "outputs": [],
   "source": [
    "grid_fields, grid_moments =rmag.loop_grid(n_loop, polydegree, nsmooth, loop_fields, loop_moments, B_offset, M_offset)"
   ]
  },
  {
   "cell_type": "code",
   "execution_count": null,
   "id": "270e8e79-3343-4c7c-9254-2b4c3dcfa52e",
   "metadata": {},
   "outputs": [],
   "source": [
    "plt.plot(loop_fields, loop_moments)\n"
   ]
  },
  {
   "cell_type": "code",
   "execution_count": null,
   "id": "017184cb-54e4-4925-b02b-6434bbd7e0bd",
   "metadata": {},
   "outputs": [],
   "source": [
    "plt.plot(grid_fields, grid_moments)"
   ]
  },
  {
   "cell_type": "code",
   "execution_count": null,
   "id": "65ca7528-f121-4304-a165-b6218723d03d",
   "metadata": {},
   "outputs": [],
   "source": [
    "moment_sub = rmag.branch_sub(n_loop, grid_moments)"
   ]
  },
  {
   "cell_type": "code",
   "execution_count": null,
   "id": "b7ee459c-3571-434e-a141-1a8d76988bef",
   "metadata": {},
   "outputs": [],
   "source": [
    "plt.plot(grid_fields[721:], moment_sub)"
   ]
  },
  {
   "cell_type": "code",
   "execution_count": null,
   "id": "e44cdd47-e972-4495-b34f-f6857b7d8b50",
   "metadata": {},
   "outputs": [],
   "source": []
  },
  {
   "cell_type": "code",
   "execution_count": null,
   "id": "3b0cf910-448b-4af9-89ee-032ff1c73b07",
   "metadata": {},
   "outputs": [],
   "source": []
  }
 ],
 "metadata": {
  "kernelspec": {
   "display_name": "Python 3 (ipykernel)",
   "language": "python",
   "name": "python3"
  },
  "language_info": {
   "codemirror_mode": {
    "name": "ipython",
    "version": 3
   },
   "file_extension": ".py",
   "mimetype": "text/x-python",
   "name": "python",
   "nbconvert_exporter": "python",
   "pygments_lexer": "ipython3",
   "version": "3.11.7"
  }
 },
 "nbformat": 4,
 "nbformat_minor": 5
}
