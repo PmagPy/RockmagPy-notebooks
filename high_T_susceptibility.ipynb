{
 "cells": [
  {
   "cell_type": "markdown",
   "metadata": {},
   "source": [
    "#  Analysis of susceptibility-temperature, <span style=\"font-family: 'Times New Roman';\">*(Kappabridge $\\chi$-T)*</span>, data\n",
    "\n",
    "This notebook allows the user to: \n",
    "\n",
    "(1) Download a contribution from the MagIC database.\n",
    "\n",
    "(2) Extract any susceptibility-temperature, <span style=\"font-family: 'Times New Roman';\">*$\\chi$-T*</span>, data contained within it.\n",
    "\n",
    "(3) Correct for the diamagnetic signal of the measurement instrument and holder (optional).\n",
    "\n",
    "(4) Smooth the data prior to further anaysis (optional).\n",
    "\n",
    "(5) Calculate first derivative and the inverse susceptibility of the curves for qualitatively estimating Curie temperatures.\n",
    "\n",
    "The notebook is to be run cell-by-cell to allow users to select corrections/filters as needed. The code below runs an example dataset from [Doctor and Feinberg (2022)](https://doi.org/10.1029/2021JB023789), Differential thermal analysis using high temperature susceptibility instruments, *Journal of Geophysical Research: Solid Earth*, which is MagiC contribution [19369](http://dx.doi.org/10.7288/V4/MAGIC/19369). Any MagIC contribution which contains <span style=\"font-family: 'Times New Roman';\">*$\\chi$-T*</span> data can be used in place of this example dataset.\n",
    "\n",
    "**Nota bene:** We do not provide Curie Temperature estimation by the \"two-tangent\" method, as proposed for spontaneous magnetization  <span style=\"font-family: 'Times New Roman';\">*M<sub>s</sub>(T)*</span> curves by [Grommé et al. (1969)](https://doi.org/10.1029/JB074i022p05277). [Fabian et al. (2013)](https://doi.org/10.1029/2012GC004440) explain this well:\n",
    "\n",
    "_\"The importance of the difference between determining <span style=\"font-family: 'Times New Roman';\">*T<sub>c</sub>*</span> from <span style=\"font-family: 'Times New Roman';\">M<sub>s</sub>(T)</span> and <span style=\"font-family: 'Times New Roman';\">*$\\chi$-T*</span> is pointed out by [Petrovský and Kapicka (2006)](https://doi.org/10.1029/2006JB004507), where methods to determine <span style=\"font-family: 'Times New Roman';\">T<sub>c</sub></span> from measurements of the initial susceptibility are analyzed. They conclude that the two-tangent method is not suitable for <span style=\"font-family: 'Times New Roman';\">*$\\chi$-T*</span> and can considerably overestimate <span style=\"font-family: 'Times New Roman';\">T<sub>c</sub></span>. The physical origin of  <span style=\"font-family: 'Times New Roman';\">*$\\chi$-T*</span> close to <span style=\"font-family: 'Times New Roman';\">T<sub>c</sub></span> is more challenging than that of <span style=\"font-family: 'Times New Roman';\">M<sub>s</sub>(T)</span>, because a number of low-field effects are important for <span style=\"font-family: 'Times New Roman';\">*$\\chi$-T*</span>, but become negligible in the higher fields used to infer <span style=\"font-family: 'Times New Roman';\">M<sub>s</sub>(T)</span>. The variation of <span style=\"font-family: 'Times New Roman';\">m</span> depends not only on the variation of <span style=\"font-family: 'Times New Roman';\">M<sub>s</sub>(H,T)</span> with field  <span style=\"font-family: 'Times New Roman';\">H</span>, it also contains a contribution from a rotation of the ordered moment with respect to an easy magnetization axis, and contributions from thermally activated switching of small independent – but already magnetically ordered – regions (e.g., SP particles). In large bulk material domain-wall movement contributes to <span style=\"font-family: 'Times New Roman';\">*$\\chi$-T*</span> even slightly below  <span style=\"font-family: 'Times New Roman';\">Tc</span>. In nanoparticles the inhomogeneity of <span style=\"font-family: 'Times New Roman';\">M<sub>s</sub></span>, due to the different exchangecoupling of inner and surface atoms, is of additional importance.\"_\n",
    "\n",
    "And from [Petrovský and Kapicka (2006)](https://doi.org/10.1029/2006JB004507):\n",
    "\n",
    "_\"...susceptibility for T [to] <span style=\"font-family: 'Times New Roman';\">*T<sub>c</sub>*</span> and T < <span style=\"font-family: 'Times New Roman';\">*T<sub>c</sub>*</span> increases to infinity, and we have to use analytical formulas developed for susceptibility behavior above the Curie point. Here, due to the geometry of the susceptibility curve, the two-tangent method will always yield temperature above the inflection point, which is higher than the temperature at which the substance starts to obey the paramagnetic Curie-Weiss law. The resulting error in <span style=\"font-family: 'Times New Roman';\">*T<sub>c</sub>*</span> (or <span style=\"font-family: 'Times New Roman';\">T<sub>N</sub><sup>1</sup></span>) can be on the order of several degrees to several tens of degrees. Therefore, in the case of temperature dependence of magnetic susceptibility, application of the two-tangent method is not justified.\"_\n",
    "\n",
    "Furthermore:\n",
    "\n",
    "_\"In the case of synthetic magnetite and hematite, with sharp Hopkinson peak, the difference between transition\n",
    "temperatures determined using the two-tangent method and Curie-Weiss paramagnetic law is in the order of some few\n",
    "degrees. In the case of samples with wide susceptibility maximum and gradual decrease, reflecting e.g., wide distribution\n",
    "of grain sizes, or in the case of substituted hematite, application of the two-tangent method to susceptibility curves overestimates the transition temperature be several tens of degrees.\"_"
   ]
  },
  {
   "cell_type": "markdown",
   "metadata": {},
   "source": [
    "### Install and import packages\n",
    "\n",
    "Click inside the cell below, hold shift and then press enter. This will automatically run the script below."
   ]
  },
  {
   "cell_type": "code",
   "execution_count": 12,
   "metadata": {},
   "outputs": [],
   "source": [
    "import rockmag as rmag\n",
    "from rockmag import *\n",
    "import pmagpy.ipmag as ipmag\n",
    "import pmagpy.contribution_builder as cb"
   ]
  },
  {
   "cell_type": "markdown",
   "metadata": {},
   "source": [
    "## Import data\n",
    "\n",
    "We can take the same approach as in the `rockmag_data_unpack.ipynb` notebook to bring the MagIC data into the notebook as a Contribution. \n",
    "\n",
    "To bring in a different contribution than the one shown in this example:\n",
    "-  set the directory path (currently `'./example_data/X-T'`)\n",
    "-  set the `magic_id` (19369 for  *Doctor and Feinberg (2022)*)\n",
    "-  if the contribution is private, set the share key for your MagIC contribution which you can find by clicking on the \"Share\" button in the MagIC database.\n",
    "\n",
    "<figure>\n",
    "  <img src=\"https://raw.githubusercontent.com/PmagPy/RockmagPy-notebooks/main/book/images/MagIC_private_contribution_1.png\" alt=\"Description of the image\" width=\"800\">\n",
    "</figure>\n",
    "\n",
    "Copy the share key highlighted in grey in the following image to the `share_key` parameter in the cell below.\n",
    "\n",
    "<figure>\n",
    "  <img src=\"https://raw.githubusercontent.com/PmagPy/RockmagPy-notebooks/main/book/images/MagIC_private_contribution_2.png\" alt=\"Description of the image\" width=\"800\">\n",
    "</figure>"
   ]
  },
  {
   "cell_type": "code",
   "execution_count": 2,
   "metadata": {},
   "outputs": [
    {
     "name": "stdout",
     "output_type": "stream",
     "text": [
      "Download successful. File saved to: example_data/X-T/magic_contribution_19369.txt\n",
      "working on:  'contribution'\n",
      "1  records written to file  /Users/yimingzhang/Github/RockmagPy-notebooks/example_data/X-T/contribution.txt\n",
      "contribution  data put in  /Users/yimingzhang/Github/RockmagPy-notebooks/example_data/X-T/contribution.txt\n",
      "working on:  'locations'\n",
      "2  records written to file  /Users/yimingzhang/Github/RockmagPy-notebooks/example_data/X-T/locations.txt\n",
      "locations  data put in  /Users/yimingzhang/Github/RockmagPy-notebooks/example_data/X-T/locations.txt\n",
      "working on:  'sites'\n",
      "6  records written to file  /Users/yimingzhang/Github/RockmagPy-notebooks/example_data/X-T/sites.txt\n",
      "sites  data put in  /Users/yimingzhang/Github/RockmagPy-notebooks/example_data/X-T/sites.txt\n",
      "working on:  'samples'\n",
      "12  records written to file  /Users/yimingzhang/Github/RockmagPy-notebooks/example_data/X-T/samples.txt\n",
      "samples  data put in  /Users/yimingzhang/Github/RockmagPy-notebooks/example_data/X-T/samples.txt\n",
      "working on:  'specimens'\n",
      "52  records written to file  /Users/yimingzhang/Github/RockmagPy-notebooks/example_data/X-T/specimens.txt\n",
      "specimens  data put in  /Users/yimingzhang/Github/RockmagPy-notebooks/example_data/X-T/specimens.txt\n",
      "working on:  'measurements'\n",
      "20923  records written to file  /Users/yimingzhang/Github/RockmagPy-notebooks/example_data/X-T/measurements.txt\n",
      "measurements  data put in  /Users/yimingzhang/Github/RockmagPy-notebooks/example_data/X-T/measurements.txt\n",
      "-I- Using online data model\n",
      "-I- Getting method codes from earthref.org\n",
      "-I- Importing controlled vocabularies from https://earthref.org\n"
     ]
    },
    {
     "data": {
      "text/html": [
       "<div>\n",
       "<style scoped>\n",
       "    .dataframe tbody tr th:only-of-type {\n",
       "        vertical-align: middle;\n",
       "    }\n",
       "\n",
       "    .dataframe tbody tr th {\n",
       "        vertical-align: top;\n",
       "    }\n",
       "\n",
       "    .dataframe thead th {\n",
       "        text-align: right;\n",
       "    }\n",
       "</style>\n",
       "<table border=\"1\" class=\"dataframe\">\n",
       "  <thead>\n",
       "    <tr style=\"text-align: right;\">\n",
       "      <th></th>\n",
       "      <th>citations</th>\n",
       "      <th>experiment</th>\n",
       "      <th>instrument_codes</th>\n",
       "      <th>meas_field_ac</th>\n",
       "      <th>meas_freq</th>\n",
       "      <th>meas_temp</th>\n",
       "      <th>measurement</th>\n",
       "      <th>method_codes</th>\n",
       "      <th>quality</th>\n",
       "      <th>specimen</th>\n",
       "      <th>standard</th>\n",
       "      <th>susc_chi_mass</th>\n",
       "      <th>sequence</th>\n",
       "    </tr>\n",
       "    <tr>\n",
       "      <th>measurement name</th>\n",
       "      <th></th>\n",
       "      <th></th>\n",
       "      <th></th>\n",
       "      <th></th>\n",
       "      <th></th>\n",
       "      <th></th>\n",
       "      <th></th>\n",
       "      <th></th>\n",
       "      <th></th>\n",
       "      <th></th>\n",
       "      <th></th>\n",
       "      <th></th>\n",
       "      <th></th>\n",
       "    </tr>\n",
       "  </thead>\n",
       "  <tbody>\n",
       "    <tr>\n",
       "      <th>IRM-KappaF-5928-1</th>\n",
       "      <td>This study</td>\n",
       "      <td>IRM-KappaF-5928</td>\n",
       "      <td>IRM-KappaF</td>\n",
       "      <td>0.000377</td>\n",
       "      <td>920</td>\n",
       "      <td>298.9</td>\n",
       "      <td>IRM-KappaF-5928-1</td>\n",
       "      <td>LP-X:LP-X-T</td>\n",
       "      <td>g</td>\n",
       "      <td>BHRS13-2B5L1A_01</td>\n",
       "      <td>u</td>\n",
       "      <td>0.000001</td>\n",
       "      <td>1</td>\n",
       "    </tr>\n",
       "    <tr>\n",
       "      <th>IRM-KappaF-5928-2</th>\n",
       "      <td>This study</td>\n",
       "      <td>IRM-KappaF-5928</td>\n",
       "      <td>IRM-KappaF</td>\n",
       "      <td>0.000377</td>\n",
       "      <td>920</td>\n",
       "      <td>302.3</td>\n",
       "      <td>IRM-KappaF-5928-2</td>\n",
       "      <td>LP-X:LP-X-T</td>\n",
       "      <td>g</td>\n",
       "      <td>BHRS13-2B5L1A_01</td>\n",
       "      <td>u</td>\n",
       "      <td>0.000001</td>\n",
       "      <td>2</td>\n",
       "    </tr>\n",
       "    <tr>\n",
       "      <th>IRM-KappaF-5928-3</th>\n",
       "      <td>This study</td>\n",
       "      <td>IRM-KappaF-5928</td>\n",
       "      <td>IRM-KappaF</td>\n",
       "      <td>0.000377</td>\n",
       "      <td>920</td>\n",
       "      <td>307.4</td>\n",
       "      <td>IRM-KappaF-5928-3</td>\n",
       "      <td>LP-X:LP-X-T</td>\n",
       "      <td>g</td>\n",
       "      <td>BHRS13-2B5L1A_01</td>\n",
       "      <td>u</td>\n",
       "      <td>0.000001</td>\n",
       "      <td>3</td>\n",
       "    </tr>\n",
       "    <tr>\n",
       "      <th>IRM-KappaF-5928-4</th>\n",
       "      <td>This study</td>\n",
       "      <td>IRM-KappaF-5928</td>\n",
       "      <td>IRM-KappaF</td>\n",
       "      <td>0.000377</td>\n",
       "      <td>920</td>\n",
       "      <td>312.3</td>\n",
       "      <td>IRM-KappaF-5928-4</td>\n",
       "      <td>LP-X:LP-X-T</td>\n",
       "      <td>g</td>\n",
       "      <td>BHRS13-2B5L1A_01</td>\n",
       "      <td>u</td>\n",
       "      <td>0.000001</td>\n",
       "      <td>4</td>\n",
       "    </tr>\n",
       "    <tr>\n",
       "      <th>IRM-KappaF-5928-5</th>\n",
       "      <td>This study</td>\n",
       "      <td>IRM-KappaF-5928</td>\n",
       "      <td>IRM-KappaF</td>\n",
       "      <td>0.000377</td>\n",
       "      <td>920</td>\n",
       "      <td>316.9</td>\n",
       "      <td>IRM-KappaF-5928-5</td>\n",
       "      <td>LP-X:LP-X-T</td>\n",
       "      <td>g</td>\n",
       "      <td>BHRS13-2B5L1A_01</td>\n",
       "      <td>u</td>\n",
       "      <td>0.000001</td>\n",
       "      <td>5</td>\n",
       "    </tr>\n",
       "    <tr>\n",
       "      <th>...</th>\n",
       "      <td>...</td>\n",
       "      <td>...</td>\n",
       "      <td>...</td>\n",
       "      <td>...</td>\n",
       "      <td>...</td>\n",
       "      <td>...</td>\n",
       "      <td>...</td>\n",
       "      <td>...</td>\n",
       "      <td>...</td>\n",
       "      <td>...</td>\n",
       "      <td>...</td>\n",
       "      <td>...</td>\n",
       "      <td>...</td>\n",
       "    </tr>\n",
       "    <tr>\n",
       "      <th>IRM-KappaF-5913-426</th>\n",
       "      <td>This study</td>\n",
       "      <td>IRM-KappaF-5913</td>\n",
       "      <td>IRM-KappaF</td>\n",
       "      <td>0.000377</td>\n",
       "      <td>920</td>\n",
       "      <td>328.4</td>\n",
       "      <td>IRM-KappaF-5913-426</td>\n",
       "      <td>LP-X:LP-X-T</td>\n",
       "      <td>g</td>\n",
       "      <td>vivian_A03</td>\n",
       "      <td>u</td>\n",
       "      <td>0.000001</td>\n",
       "      <td>20919</td>\n",
       "    </tr>\n",
       "    <tr>\n",
       "      <th>IRM-KappaF-5913-427</th>\n",
       "      <td>This study</td>\n",
       "      <td>IRM-KappaF-5913</td>\n",
       "      <td>IRM-KappaF</td>\n",
       "      <td>0.000377</td>\n",
       "      <td>920</td>\n",
       "      <td>326.6</td>\n",
       "      <td>IRM-KappaF-5913-427</td>\n",
       "      <td>LP-X:LP-X-T</td>\n",
       "      <td>g</td>\n",
       "      <td>vivian_A03</td>\n",
       "      <td>u</td>\n",
       "      <td>0.000001</td>\n",
       "      <td>20920</td>\n",
       "    </tr>\n",
       "    <tr>\n",
       "      <th>IRM-KappaF-5913-428</th>\n",
       "      <td>This study</td>\n",
       "      <td>IRM-KappaF-5913</td>\n",
       "      <td>IRM-KappaF</td>\n",
       "      <td>0.000377</td>\n",
       "      <td>920</td>\n",
       "      <td>325.0</td>\n",
       "      <td>IRM-KappaF-5913-428</td>\n",
       "      <td>LP-X:LP-X-T</td>\n",
       "      <td>g</td>\n",
       "      <td>vivian_A03</td>\n",
       "      <td>u</td>\n",
       "      <td>0.000001</td>\n",
       "      <td>20921</td>\n",
       "    </tr>\n",
       "    <tr>\n",
       "      <th>IRM-KappaF-5913-429</th>\n",
       "      <td>This study</td>\n",
       "      <td>IRM-KappaF-5913</td>\n",
       "      <td>IRM-KappaF</td>\n",
       "      <td>0.000377</td>\n",
       "      <td>920</td>\n",
       "      <td>323.6</td>\n",
       "      <td>IRM-KappaF-5913-429</td>\n",
       "      <td>LP-X:LP-X-T</td>\n",
       "      <td>g</td>\n",
       "      <td>vivian_A03</td>\n",
       "      <td>u</td>\n",
       "      <td>0.000001</td>\n",
       "      <td>20922</td>\n",
       "    </tr>\n",
       "    <tr>\n",
       "      <th>IRM-KappaF-5913-430</th>\n",
       "      <td>This study</td>\n",
       "      <td>IRM-KappaF-5913</td>\n",
       "      <td>IRM-KappaF</td>\n",
       "      <td>0.000377</td>\n",
       "      <td>920</td>\n",
       "      <td>321.9</td>\n",
       "      <td>IRM-KappaF-5913-430</td>\n",
       "      <td>LP-X:LP-X-T</td>\n",
       "      <td>g</td>\n",
       "      <td>vivian_A03</td>\n",
       "      <td>u</td>\n",
       "      <td>0.000001</td>\n",
       "      <td>20923</td>\n",
       "    </tr>\n",
       "  </tbody>\n",
       "</table>\n",
       "<p>20923 rows × 13 columns</p>\n",
       "</div>"
      ],
      "text/plain": [
       "                      citations       experiment instrument_codes  \\\n",
       "measurement name                                                    \n",
       "IRM-KappaF-5928-1    This study  IRM-KappaF-5928       IRM-KappaF   \n",
       "IRM-KappaF-5928-2    This study  IRM-KappaF-5928       IRM-KappaF   \n",
       "IRM-KappaF-5928-3    This study  IRM-KappaF-5928       IRM-KappaF   \n",
       "IRM-KappaF-5928-4    This study  IRM-KappaF-5928       IRM-KappaF   \n",
       "IRM-KappaF-5928-5    This study  IRM-KappaF-5928       IRM-KappaF   \n",
       "...                         ...              ...              ...   \n",
       "IRM-KappaF-5913-426  This study  IRM-KappaF-5913       IRM-KappaF   \n",
       "IRM-KappaF-5913-427  This study  IRM-KappaF-5913       IRM-KappaF   \n",
       "IRM-KappaF-5913-428  This study  IRM-KappaF-5913       IRM-KappaF   \n",
       "IRM-KappaF-5913-429  This study  IRM-KappaF-5913       IRM-KappaF   \n",
       "IRM-KappaF-5913-430  This study  IRM-KappaF-5913       IRM-KappaF   \n",
       "\n",
       "                     meas_field_ac  meas_freq  meas_temp          measurement  \\\n",
       "measurement name                                                                \n",
       "IRM-KappaF-5928-1         0.000377        920      298.9    IRM-KappaF-5928-1   \n",
       "IRM-KappaF-5928-2         0.000377        920      302.3    IRM-KappaF-5928-2   \n",
       "IRM-KappaF-5928-3         0.000377        920      307.4    IRM-KappaF-5928-3   \n",
       "IRM-KappaF-5928-4         0.000377        920      312.3    IRM-KappaF-5928-4   \n",
       "IRM-KappaF-5928-5         0.000377        920      316.9    IRM-KappaF-5928-5   \n",
       "...                            ...        ...        ...                  ...   \n",
       "IRM-KappaF-5913-426       0.000377        920      328.4  IRM-KappaF-5913-426   \n",
       "IRM-KappaF-5913-427       0.000377        920      326.6  IRM-KappaF-5913-427   \n",
       "IRM-KappaF-5913-428       0.000377        920      325.0  IRM-KappaF-5913-428   \n",
       "IRM-KappaF-5913-429       0.000377        920      323.6  IRM-KappaF-5913-429   \n",
       "IRM-KappaF-5913-430       0.000377        920      321.9  IRM-KappaF-5913-430   \n",
       "\n",
       "                    method_codes quality          specimen standard  \\\n",
       "measurement name                                                      \n",
       "IRM-KappaF-5928-1    LP-X:LP-X-T       g  BHRS13-2B5L1A_01        u   \n",
       "IRM-KappaF-5928-2    LP-X:LP-X-T       g  BHRS13-2B5L1A_01        u   \n",
       "IRM-KappaF-5928-3    LP-X:LP-X-T       g  BHRS13-2B5L1A_01        u   \n",
       "IRM-KappaF-5928-4    LP-X:LP-X-T       g  BHRS13-2B5L1A_01        u   \n",
       "IRM-KappaF-5928-5    LP-X:LP-X-T       g  BHRS13-2B5L1A_01        u   \n",
       "...                          ...     ...               ...      ...   \n",
       "IRM-KappaF-5913-426  LP-X:LP-X-T       g        vivian_A03        u   \n",
       "IRM-KappaF-5913-427  LP-X:LP-X-T       g        vivian_A03        u   \n",
       "IRM-KappaF-5913-428  LP-X:LP-X-T       g        vivian_A03        u   \n",
       "IRM-KappaF-5913-429  LP-X:LP-X-T       g        vivian_A03        u   \n",
       "IRM-KappaF-5913-430  LP-X:LP-X-T       g        vivian_A03        u   \n",
       "\n",
       "                     susc_chi_mass  sequence  \n",
       "measurement name                              \n",
       "IRM-KappaF-5928-1         0.000001         1  \n",
       "IRM-KappaF-5928-2         0.000001         2  \n",
       "IRM-KappaF-5928-3         0.000001         3  \n",
       "IRM-KappaF-5928-4         0.000001         4  \n",
       "IRM-KappaF-5928-5         0.000001         5  \n",
       "...                            ...       ...  \n",
       "IRM-KappaF-5913-426       0.000001     20919  \n",
       "IRM-KappaF-5913-427       0.000001     20920  \n",
       "IRM-KappaF-5913-428       0.000001     20921  \n",
       "IRM-KappaF-5913-429       0.000001     20922  \n",
       "IRM-KappaF-5913-430       0.000001     20923  \n",
       "\n",
       "[20923 rows x 13 columns]"
      ]
     },
     "execution_count": 2,
     "metadata": {},
     "output_type": "execute_result"
    }
   ],
   "source": [
    "#define these three parameters to match your data\n",
    "magic_id = '19369'\n",
    "share_key = ''\n",
    "dir_path = 'example_data/X-T'\n",
    "\n",
    "result, magic_file = ipmag.download_magic_from_id(magic_id, directory=dir_path, share_key=share_key)\n",
    "ipmag.unpack_magic(magic_file, dir_path)\n",
    "contribution = cb.Contribution(dir_path)\n",
    "measurements = contribution.tables['measurements'].df\n",
    "measurements.dropna(axis=1, how='all')"
   ]
  },
  {
   "cell_type": "markdown",
   "metadata": {},
   "source": [
    "## The project export contains data from all the experiments\n",
    "\n",
    "Each measurement in a MagIC measurements table has a `method_codes` value. These method codes come from a \"controlled vocabulary\" (https://www2.earthref.org/MagIC/method-codes). \n",
    "\n",
    "In the method codes used for the example contribution:\n",
    "- `LP` refers to lab protocol\n",
    "- `X-T` refers to susceptibility vs. temperature experiments done on the Kappabridge"
   ]
  },
  {
   "cell_type": "code",
   "execution_count": 3,
   "metadata": {},
   "outputs": [
    {
     "data": {
      "text/plain": [
       "array(['LP-X:LP-X-T', 'LP-X-T'], dtype=object)"
      ]
     },
     "execution_count": 3,
     "metadata": {},
     "output_type": "execute_result"
    }
   ],
   "source": [
    "measurements.method_codes.unique()"
   ]
  },
  {
   "cell_type": "markdown",
   "metadata": {},
   "source": [
    "## Select a <span style=\"font-family: 'Times New Roman';\">*$\\chi$-T*</span> Experiment\n",
    "*Creates a dropdown to select specimens with <span style=\"font-family: 'Times New Roman';\">*$\\chi$*-T</span> data.*"
   ]
  },
  {
   "cell_type": "code",
   "execution_count": 4,
   "metadata": {},
   "outputs": [
    {
     "data": {
      "application/vnd.jupyter.widget-view+json": {
       "model_id": "c55f6ebaa5a740c1adb75bd7adc7923d",
       "version_major": 2,
       "version_minor": 0
      },
      "text/plain": [
       "Dropdown(description='specimen:', options=('BHRS13-2B5L1A_01', 'BHRS13-2B5L1B_01', 'blank_A01', 'blank_A10', '…"
      ]
     },
     "metadata": {},
     "output_type": "display_data"
    },
    {
     "data": {
      "application/vnd.jupyter.widget-view+json": {
       "model_id": "25c42e9a4da94c6bbc2b22bab264229f",
       "version_major": 2,
       "version_minor": 0
      },
      "text/plain": [
       "Dropdown(description='Experiment:', options=('IRM-KappaF-5928',), value='IRM-KappaF-5928')"
      ]
     },
     "metadata": {},
     "output_type": "display_data"
    }
   ],
   "source": [
    "specimen, experiment = rmag.interactive_specimen_experiment_selection(measurements)"
   ]
  },
  {
   "cell_type": "code",
   "execution_count": 6,
   "metadata": {},
   "outputs": [],
   "source": [
    "selected_experiment = measurements[(measurements['specimen']==specimen.value) & \n",
    "                                      (measurements['experiment']==experiment.value)].reset_index(drop=1)"
   ]
  },
  {
   "cell_type": "markdown",
   "metadata": {},
   "source": [
    "## Plot $\\chi$-T data, the derivatives, and inverse $\\chi$-T\n",
    "\n",
    "- Your data might be noisy, which may hinder assessing reversibility for understanding alteration. The following code will perform a running average of data over a temperature interval that you can define. In the following cell, change the value associated with variable `temp_window` to set the desired temperature window for the running average.\n",
    "\n",
    "- Holder removal: Set `remove_holder` parameter to be `True`. We assume that the lowest susceptibility value during the whole measurement is the holder signal, and that this happens after the specimen is heated above the critical temperature such that it is paramagnetic and the holder signal is dominant.\n",
    "\n",
    "Three graphs will be created. \n",
    "\n",
    "(1) The top graph shows the raw data as points and the smoothed data as lines, for the temperature window size selected. \n",
    "\n",
    "(2) The second graph plots the derivatives based on the smoothed data in the top graph.\n",
    "\n",
    "(3) The third graph plots the inverse susceptibility data, which can also be used to qualitatively assess the Curie temperature."
   ]
  },
  {
   "cell_type": "markdown",
   "metadata": {},
   "source": [
    "### Calculate <span style=\"font-family: 'Times New Roman';\">*T<sub>c</sub>*</span> using inverse susceptibility\n",
    "\n",
    "Above <span style=\"font-family: 'Times New Roman';\">*T<sub>c</sub>*</span> a mineral phase will be paramagnetic. This means that the inverse susceptibility should have a linear positive slope above <span style=\"font-family: 'Times New Roman';\">*T<sub>c</sub>*</span>. Using the intercept temperature at 0 inverse susceptibility is a good guess for  <span style=\"font-family: 'Times New Roman';\">*T<sub>c</sub>*</span>. This is essentially the break of slope between the ferromagnetic and paramagnetic signal."
   ]
  },
  {
   "cell_type": "code",
   "execution_count": 7,
   "metadata": {},
   "outputs": [
    {
     "data": {
      "application/vnd.plotly.v1+json": {
       "config": {
        "plotlyServerURL": "https://plot.ly"
       },
       "data": [
        {
         "marker": {
          "color": "red",
          "opacity": 0.5
         },
         "mode": "markers",
         "name": "Heating - zero corrected",
         "type": "scatter",
         "x": [
          23.950000000000045,
          27.05000000000001,
          31.950000000000045,
          37.450000000000045,
          42.75,
          47.650000000000034,
          52.35000000000002,
          56.25,
          60.150000000000034,
          63.25,
          66.15000000000003,
          68.85000000000002,
          71.45000000000005,
          74.45000000000005,
          77.35000000000002,
          80.05000000000001,
          82.65000000000003,
          85.25,
          87.85000000000002,
          90.45000000000005,
          93.15000000000003,
          95.95000000000005,
          98.65000000000003,
          100.95000000000005,
          103.55000000000001,
          106.15000000000003,
          108.95000000000005,
          111.35000000000002,
          114.05000000000001,
          116.45000000000005,
          119.35000000000002,
          121.75,
          124.75,
          127.25,
          130.25,
          133.25,
          136.35000000000002,
          139.35000000000002,
          142.35000000000002,
          145.05,
          147.75,
          150.95000000000005,
          154.05,
          157.05,
          160.25,
          162.85000000000002,
          165.65000000000003,
          168.15000000000003,
          170.85000000000002,
          173.55,
          176.75,
          179.45000000000005,
          182.75,
          185.65000000000003,
          188.55,
          191.85000000000002,
          195.25,
          198.15000000000003,
          200.95000000000005,
          204.15000000000003,
          207.55,
          210.45000000000005,
          213.35000000000002,
          216.65000000000003,
          219.45000000000005,
          222.65000000000003,
          225.45000000000005,
          228.25,
          231.05,
          234.55,
          237.95000000000005,
          241.45000000000005,
          244.95000000000005,
          248.45000000000005,
          251.95000000000005,
          255.45000000000005,
          258.45000000000005,
          262.15,
          265.25,
          268.95000000000005,
          272.55000000000007,
          276.25,
          279.75,
          283.25,
          286.65,
          289.95000000000005,
          293.25,
          296.55000000000007,
          299.75,
          302.95000000000005,
          306.05000000000007,
          309.15,
          312.25,
          315.25,
          318.25,
          321.65,
          324.75,
          328.05000000000007,
          330.75,
          333.95000000000005,
          337.05000000000007,
          339.95000000000005,
          342.45000000000005,
          345.85,
          349.45000000000005,
          353.35,
          357.45000000000005,
          362.05000000000007,
          366.65,
          370.85,
          374.35,
          378.25,
          381.35,
          384.85,
          388.25,
          391.55000000000007,
          394.65,
          397.85,
          400.45000000000005,
          403.45000000000005,
          406.55000000000007,
          409.65,
          412.15,
          415.55000000000007,
          418.25,
          421.65,
          425.05000000000007,
          428.45000000000005,
          431.95000000000005,
          435.45000000000005,
          438.65,
          442.45000000000005,
          445.55000000000007,
          448.55000000000007,
          451.45000000000005,
          454.85,
          457.85,
          461.65,
          464.85,
          467.95000000000005,
          471.35,
          474.75,
          477.75,
          480.75,
          483.45000000000005,
          486.25,
          489.45000000000005,
          492.35,
          495.15,
          498.25,
          501.45000000000005,
          504.25,
          507.25,
          510.45000000000005,
          513.65,
          516.25,
          519.15,
          522.0500000000001,
          525.0500000000001,
          527.75,
          530.95,
          533.5500000000001,
          536.25,
          539.5500000000001,
          542.5500000000001,
          545.95,
          548.65,
          551.35,
          554.15,
          557.65,
          561.15,
          564.5500000000001,
          567.85,
          570.95,
          573.65,
          576.75,
          579.75,
          582.75,
          585.35,
          588.15,
          590.95,
          594.35,
          597.15,
          599.95,
          603.25,
          606.65,
          609.5500000000001,
          612.85,
          616.0500000000001,
          619.0500000000001,
          621.85,
          624.5500000000001,
          627.65,
          630.65,
          634.0500000000001,
          637.35,
          640.0500000000001,
          642.85,
          644.75,
          645.85,
          646.65,
          647.15,
          647.25
         ],
         "y": [
          0.0000035899999999999995,
          0.000003649999999999999,
          0.0000036099999999999993,
          0.000003649999999999999,
          0.000003629999999999999,
          0.0000036699999999999987,
          0.0000036699999999999987,
          0.0000036899999999999986,
          0.0000036899999999999986,
          0.00000371,
          0.00000371,
          0.0000037399999999999998,
          0.0000037399999999999998,
          0.0000037799999999999994,
          0.0000037399999999999998,
          0.0000037799999999999994,
          0.0000037799999999999994,
          0.000003799999999999999,
          0.0000037799999999999994,
          0.000003819999999999999,
          0.000003819999999999999,
          0.000003839999999999999,
          0.000003839999999999999,
          0.00000389,
          0.000003859999999999999,
          0.00000393,
          0.00000389,
          0.00000393,
          0.00000393,
          0.000003969999999999999,
          0.0000039499999999999995,
          0.000003989999999999999,
          0.000003969999999999999,
          0.000004009999999999999,
          0.000003989999999999999,
          0.000004009999999999999,
          0.000004009999999999999,
          0.000004059999999999998,
          0.000004059999999999998,
          0.000004059999999999998,
          0.000004059999999999998,
          0.00000408,
          0.000004059999999999998,
          0.0000041,
          0.0000041,
          0.0000041,
          0.0000041,
          0.0000041199999999999995,
          0.0000041,
          0.0000041199999999999995,
          0.0000041199999999999995,
          0.000004169999999999999,
          0.000004139999999999999,
          0.000004189999999999999,
          0.000004169999999999999,
          0.000004189999999999999,
          0.000004209999999999999,
          0.000004209999999999999,
          0.0000042299999999999985,
          0.00000425,
          0.00000425,
          0.00000427,
          0.00000429,
          0.00000429,
          0.000004339999999999999,
          0.000004339999999999999,
          0.000004359999999999999,
          0.000004379999999999999,
          0.00000442,
          0.0000043999999999999985,
          0.0000044699999999999996,
          0.00000442,
          0.000004489999999999999,
          0.0000044699999999999996,
          0.000004509999999999999,
          0.000004489999999999999,
          0.000004529999999999999,
          0.000004489999999999999,
          0.000004509999999999999,
          0.000004489999999999999,
          0.000004529999999999999,
          0.000004509999999999999,
          0.000004529999999999999,
          0.000004489999999999999,
          0.000004509999999999999,
          0.0000044699999999999996,
          0.0000044699999999999996,
          0.00000442,
          0.00000442,
          0.000004359999999999999,
          0.000004359999999999999,
          0.00000427,
          0.00000425,
          0.000004169999999999999,
          0.0000041199999999999995,
          0.000004059999999999998,
          0.000003989999999999999,
          0.000003859999999999999,
          0.000003819999999999999,
          0.000003649999999999999,
          0.0000035199999999999985,
          0.0000033299999999999986,
          0.0000032,
          0.00000303,
          0.0000028999999999999993,
          0.0000027299999999999993,
          0.0000026199999999999986,
          0.0000024299999999999988,
          0.0000023,
          0.00000212,
          0.00000195,
          0.0000017399999999999986,
          0.000001519999999999999,
          0.0000013099999999999993,
          0.0000012699999999999997,
          0.0000012199999999999985,
          0.0000011999999999999987,
          0.0000011399999999999992,
          0.000001159999999999999,
          0.0000010899999999999997,
          0.0000011099999999999995,
          0.0000010499999999999984,
          0.00000107,
          0.0000010099999999999988,
          0.0000010099999999999988,
          9.89999999999999e-7,
          9.89999999999999e-7,
          9.599999999999993e-7,
          9.599999999999993e-7,
          8.999999999999999e-7,
          9.199999999999997e-7,
          8.999999999999999e-7,
          8.999999999999999e-7,
          8.599999999999985e-7,
          8.399999999999987e-7,
          8.09999999999999e-7,
          8.09999999999999e-7,
          7.899999999999992e-7,
          7.699999999999994e-7,
          7.499999999999996e-7,
          7.499999999999996e-7,
          7.1e-7,
          7.1e-7,
          7.1e-7,
          6.599999999999988e-7,
          6.39999999999999e-7,
          6.39999999999999e-7,
          6.39999999999999e-7,
          5.999999999999993e-7,
          6.39999999999999e-7,
          5.999999999999993e-7,
          5.999999999999993e-7,
          5.3e-7,
          5.59999999999998e-7,
          5.100000000000002e-7,
          5.3e-7,
          5.100000000000002e-7,
          4.900000000000004e-7,
          4.700000000000006e-7,
          4.700000000000006e-7,
          4.500000000000008e-7,
          4.299999999999976e-7,
          4.500000000000008e-7,
          4.0999999999999777e-7,
          4.299999999999976e-7,
          4.0999999999999777e-7,
          4.299999999999976e-7,
          3.7999999999999975e-7,
          3.7999999999999975e-7,
          3.4000000000000013e-7,
          3.7999999999999975e-7,
          3.4000000000000013e-7,
          3.4000000000000013e-7,
          3.000000000000005e-7,
          3.000000000000005e-7,
          2.299999999999995e-7,
          2.600000000000009e-7,
          2.0999999999999968e-7,
          1.7000000000000007e-7,
          1.5000000000000026e-7,
          1.7000000000000007e-7,
          1.3000000000000045e-7,
          7.999999999999923e-8,
          5.999999999999943e-8,
          9.999999999999904e-8,
          3.999999999999962e-8,
          3.999999999999962e-8,
          1.999999999999981e-8,
          3.999999999999962e-8,
          1.999999999999981e-8,
          0,
          1.999999999999981e-8,
          1.999999999999981e-8,
          1.999999999999981e-8,
          3.999999999999962e-8,
          3.999999999999962e-8,
          5.999999999999943e-8,
          5.999999999999943e-8,
          5.999999999999943e-8,
          5.999999999999943e-8,
          5.999999999999943e-8,
          3.999999999999962e-8,
          9.999999999999904e-8
         ]
        },
        {
         "line": {
          "color": "red"
         },
         "mode": "lines",
         "name": "Heating - zero corrected - smoothed",
         "type": "scatter",
         "x": [
          25.50000000000003,
          27.650000000000034,
          29.50000000000003,
          37.450000000000045,
          45.20000000000002,
          47.58333333333335,
          52.08333333333335,
          56.25000000000002,
          59.88333333333335,
          63.18333333333336,
          66.08333333333336,
          68.8166666666667,
          71.58333333333337,
          74.4166666666667,
          77.28333333333336,
          80.0166666666667,
          82.65000000000002,
          85.25000000000001,
          87.85000000000002,
          90.48333333333336,
          93.18333333333338,
          97.17500000000004,
          99.77500000000003,
          99.77500000000003,
          102.32500000000003,
          106.2166666666667,
          108.8166666666667,
          111.45000000000003,
          113.95000000000003,
          116.61666666666669,
          119.18333333333335,
          121.95,
          124.58333333333333,
          127.41666666666667,
          130.25,
          133.28333333333333,
          136.3166666666667,
          139.35000000000002,
          142.25000000000003,
          145.05,
          147.91666666666669,
          150.91666666666669,
          154.01666666666668,
          157.11666666666667,
          160.05,
          162.91666666666669,
          165.55000000000004,
          168.2166666666667,
          170.85000000000002,
          173.7166666666667,
          176.58333333333334,
          179.65,
          182.6166666666667,
          185.65,
          188.68333333333337,
          191.88333333333335,
          195.08333333333334,
          198.1166666666667,
          201.08333333333337,
          204.2166666666667,
          207.38333333333335,
          210.45000000000005,
          213.48333333333335,
          216.48333333333335,
          219.58333333333337,
          222.51666666666674,
          225.45000000000005,
          228.25,
          231.28333333333333,
          234.51666666666668,
          237.98333333333335,
          241.45000000000005,
          244.95000000000005,
          248.45000000000005,
          251.95000000000005,
          255.2833333333334,
          258.68333333333334,
          261.95,
          265.45,
          268.9166666666667,
          272.58333333333337,
          276.18333333333334,
          279.75,
          283.21666666666664,
          286.6166666666667,
          289.95,
          293.25000000000006,
          296.5166666666667,
          299.75000000000006,
          302.9166666666667,
          306.05,
          309.15000000000003,
          312.21666666666664,
          315.25,
          318.3833333333333,
          321.55,
          324.81666666666666,
          327.85,
          330.9166666666667,
          333.9166666666667,
          336.9833333333334,
          339.8166666666667,
          342.75,
          345.9166666666667,
          349.55,
          353.4166666666667,
          357.61666666666673,
          362.05,
          366.5166666666667,
          370.6166666666666,
          374.48333333333335,
          377.98333333333335,
          381.48333333333335,
          384.81666666666666,
          388.2166666666667,
          391.48333333333335,
          394.6833333333334,
          397.65000000000003,
          400.5833333333333,
          403.4833333333334,
          406.55,
          409.45,
          412.45,
          415.31666666666666,
          418.48333333333335,
          421.65000000000003,
          425.05,
          428.4833333333334,
          431.95000000000005,
          435.3500000000001,
          438.8500000000001,
          442.2166666666667,
          445.5166666666667,
          448.5166666666667,
          451.61666666666673,
          454.7166666666667,
          458.1166666666666,
          461.45,
          464.81666666666666,
          468.05,
          471.3500000000001,
          474.6166666666666,
          477.75,
          480.65000000000003,
          483.48333333333335,
          486.3833333333334,
          489.3500000000001,
          492.31666666666666,
          495.25,
          498.2833333333333,
          501.31666666666666,
          504.31666666666666,
          507.31666666666666,
          510.45,
          513.4499999999999,
          516.35,
          519.1500000000001,
          522.0833333333334,
          524.95,
          527.9166666666667,
          530.75,
          533.5833333333334,
          536.4500000000002,
          539.4500000000002,
          542.6833333333334,
          545.7166666666667,
          548.65,
          551.3833333333333,
          554.3833333333333,
          557.65,
          561.1166666666667,
          564.5166666666668,
          567.7833333333334,
          570.8166666666667,
          573.7833333333333,
          576.7166666666667,
          579.75,
          582.6166666666667,
          585.4166666666666,
          588.15,
          591.15,
          594.1500000000001,
          597.15,
          600.1166666666667,
          603.2833333333333,
          606.4833333333335,
          609.6833333333334,
          612.8166666666667,
          615.9833333333335,
          618.9833333333335,
          621.8166666666667,
          624.6833333333334,
          627.6166666666667,
          630.7833333333333,
          634.0166666666668,
          637.1500000000001,
          641.25,
          644.9357142857143,
          644.9357142857143,
          645.75,
          645.75,
          645.75,
          645.75
         ],
         "y": [
          0.0000036199999999999992,
          0.0000036166666666666658,
          0.000003629999999999999,
          0.000003649999999999999,
          0.000003649999999999999,
          0.0000036566666666666654,
          0.000003676666666666665,
          0.000003683333333333332,
          0.000003696666666666666,
          0.0000037033333333333327,
          0.00000372,
          0.00000373,
          0.000003753333333333333,
          0.000003753333333333333,
          0.000003766666666666666,
          0.000003766666666666666,
          0.000003786666666666666,
          0.000003786666666666666,
          0.000003799999999999999,
          0.0000038066666666666657,
          0.000003826666666666666,
          0.000003847499999999999,
          0.000003857499999999999,
          0.000003857499999999999,
          0.000003879999999999999,
          0.000003893333333333333,
          0.000003916666666666667,
          0.000003916666666666667,
          0.0000039433333333333326,
          0.0000039499999999999995,
          0.000003969999999999999,
          0.000003969999999999999,
          0.000003989999999999999,
          0.000003989999999999999,
          0.000004003333333333332,
          0.000004003333333333332,
          0.000004026666666666666,
          0.000004043333333333332,
          0.000004059999999999998,
          0.000004059999999999998,
          0.000004066666666666665,
          0.000004066666666666665,
          0.000004079999999999999,
          0.000004086666666666666,
          0.0000041,
          0.0000041,
          0.000004106666666666667,
          0.000004106666666666667,
          0.000004113333333333333,
          0.000004113333333333333,
          0.000004136666666666666,
          0.000004143333333333332,
          0.000004166666666666666,
          0.000004166666666666666,
          0.000004183333333333332,
          0.000004189999999999999,
          0.000004203333333333332,
          0.0000042166666666666655,
          0.000004229999999999999,
          0.000004243333333333333,
          0.000004256666666666667,
          0.00000427,
          0.000004283333333333333,
          0.000004306666666666666,
          0.000004323333333333332,
          0.000004346666666666666,
          0.000004359999999999999,
          0.000004386666666666666,
          0.000004399999999999999,
          0.000004429999999999999,
          0.000004429999999999999,
          0.00000446,
          0.00000446,
          0.000004489999999999999,
          0.000004489999999999999,
          0.000004509999999999999,
          0.000004503333333333332,
          0.000004509999999999999,
          0.000004496666666666666,
          0.000004509999999999999,
          0.000004509999999999999,
          0.000004523333333333332,
          0.000004509999999999999,
          0.000004509999999999999,
          0.000004489999999999999,
          0.0000044833333333333325,
          0.000004453333333333333,
          0.000004436666666666667,
          0.000004399999999999999,
          0.0000043799999999999996,
          0.000004329999999999999,
          0.000004293333333333333,
          0.000004229999999999999,
          0.00000418,
          0.000004116666666666666,
          0.000004056666666666665,
          0.000003969999999999998,
          0.000003889999999999999,
          0.0000037766666666666655,
          0.0000036633333333333323,
          0.0000034999999999999987,
          0.000003349999999999999,
          0.000003186666666666666,
          0.000003043333333333333,
          0.000002886666666666666,
          0.000002749999999999999,
          0.0000025933333333333324,
          0.000002449999999999999,
          0.000002283333333333333,
          0.0000021233333333333335,
          0.000001936666666666666,
          0.0000017366666666666658,
          0.0000015233333333333322,
          0.000001366666666666666,
          0.0000012666666666666658,
          0.000001229999999999999,
          0.0000011866666666666655,
          0.0000011666666666666657,
          0.0000011299999999999993,
          0.0000011199999999999994,
          0.0000010833333333333326,
          0.000001076666666666666,
          0.0000010433333333333324,
          0.0000010299999999999992,
          0.0000010033333333333321,
          9.966666666666657e-7,
          9.79999999999999e-7,
          9.699999999999992e-7,
          9.399999999999995e-7,
          9.266666666666662e-7,
          9.066666666666664e-7,
          9.066666666666664e-7,
          8.866666666666661e-7,
          8.666666666666657e-7,
          8.366666666666654e-7,
          8.199999999999989e-7,
          8.033333333333325e-7,
          7.899999999999992e-7,
          7.699999999999994e-7,
          7.566666666666662e-7,
          7.366666666666664e-7,
          7.233333333333332e-7,
          7.1e-7,
          6.933333333333329e-7,
          6.699999999999992e-7,
          6.466666666666655e-7,
          6.39999999999999e-7,
          6.266666666666657e-7,
          6.266666666666657e-7,
          6.133333333333326e-7,
          6.133333333333326e-7,
          5.766666666666662e-7,
          5.633333333333324e-7,
          5.333333333333327e-7,
          5.333333333333327e-7,
          5.166666666666668e-7,
          5.100000000000002e-7,
          4.900000000000004e-7,
          4.766666666666672e-7,
          4.6333333333333396e-7,
          4.4999999999999966e-7,
          4.4333333333333304e-7,
          4.299999999999987e-7,
          4.299999999999987e-7,
          4.166666666666644e-7,
          4.2333333333333096e-7,
          4.06666666666665e-7,
          3.966666666666657e-7,
          3.6666666666666656e-7,
          3.6666666666666656e-7,
          3.533333333333333e-7,
          3.533333333333333e-7,
          3.2666666666666694e-7,
          3.133333333333337e-7,
          2.7666666666666684e-7,
          2.6333333333333365e-7,
          2.3333333333333336e-7,
          2.1333333333333355e-7,
          1.7666666666666666e-7,
          1.6333333333333347e-7,
          1.5000000000000026e-7,
          1.2666666666666658e-7,
          8.999999999999971e-8,
          7.999999999999923e-8,
          6.666666666666603e-8,
          5.999999999999943e-8,
          3.3333333333333016e-8,
          3.3333333333333016e-8,
          2.6666666666666412e-8,
          1.999999999999981e-8,
          1.3333333333333206e-8,
          1.3333333333333206e-8,
          1.999999999999981e-8,
          2.6666666666666412e-8,
          3.3333333333333016e-8,
          4.666666666666622e-8,
          5.4999999999999473e-8,
          6.285714285714225e-8,
          6.285714285714225e-8,
          6.333333333333272e-8,
          6.333333333333272e-8,
          6.333333333333272e-8,
          6.333333333333272e-8
         ]
        },
        {
         "marker": {
          "color": "blue",
          "opacity": 0.5
         },
         "mode": "markers",
         "name": "Cooling - zero corrected",
         "type": "scatter",
         "x": [
          646.75,
          645.85,
          644.5500000000001,
          643.15,
          641.45,
          639.5500000000001,
          637.25,
          634.65,
          632.45,
          630.35,
          628.35,
          626.5500000000001,
          624.5500000000001,
          622.25,
          619.85,
          617.15,
          614.5500000000001,
          611.75,
          609.0500000000001,
          606.15,
          603.5500000000001,
          601.0500000000001,
          598.5500000000001,
          595.65,
          593.0500000000001,
          590.5500000000001,
          587.75,
          585.25,
          582.75,
          579.65,
          577.0500000000001,
          574.35,
          571.75,
          569.0500000000001,
          565.85,
          563.25,
          560.5500000000001,
          557.95,
          554.95,
          551.85,
          548.65,
          545.45,
          542.65,
          539.5500000000001,
          536.35,
          533.35,
          530.15,
          526.75,
          523.5500000000001,
          520.35,
          517.45,
          514.45,
          511.55000000000007,
          508.45000000000005,
          505.15,
          502.25,
          499.05000000000007,
          495.65,
          492.35,
          488.95000000000005,
          485.95000000000005,
          482.35,
          479.35,
          476.35,
          473.25,
          469.85,
          466.65,
          462.95000000000005,
          459.45000000000005,
          455.65,
          452.45000000000005,
          448.75,
          445.55000000000007,
          442.05000000000007,
          439.05000000000007,
          435.55000000000007,
          432.45000000000005,
          429.35,
          426.15,
          422.55000000000007,
          419.45000000000005,
          416.15,
          413.15,
          410.15,
          407.25,
          404.25,
          401.35,
          398.25,
          395.35,
          392.35,
          389.05000000000007,
          386.25,
          382.75,
          379.85,
          376.95000000000005,
          373.65,
          370.65,
          367.55000000000007,
          364.55000000000007,
          361.25,
          358.25,
          355.15,
          352.55000000000007,
          349.95000000000005,
          346.65,
          343.25,
          339.95000000000005,
          336.45000000000005,
          332.95000000000005,
          329.55000000000007,
          326.45000000000005,
          322.85,
          319.65,
          316.15,
          313.05000000000007,
          309.95000000000005,
          306.95000000000005,
          303.25,
          299.95000000000005,
          296.45000000000005,
          293.45000000000005,
          289.85,
          286.55000000000007,
          283.05000000000007,
          280.25,
          276.75,
          273.35,
          269.75,
          266.75,
          263.25,
          260.25,
          257.35,
          254.05000000000007,
          251.05000000000007,
          247.55000000000007,
          244.75,
          241.95000000000005,
          239.05000000000007,
          236.35000000000002,
          233.05,
          230.35000000000002,
          227.45000000000005,
          224.75,
          221.55,
          218.55,
          215.35000000000002,
          212.45000000000005,
          209.15000000000003,
          206.25,
          203.75,
          201.15000000000003,
          197.95000000000005,
          194.95000000000005,
          191.75,
          188.85000000000002,
          185.75,
          183.15000000000003,
          180.15000000000003,
          177.25,
          174.45000000000005,
          171.85000000000002,
          168.75,
          166.25,
          163.15000000000003,
          160.15000000000003,
          157.15000000000003,
          154.65000000000003,
          151.45000000000005,
          148.35000000000002,
          145.25,
          142.75,
          139.85000000000002,
          137.25,
          134.45000000000005,
          131.75,
          128.85000000000002,
          126.15000000000003,
          123.25,
          120.45000000000005,
          117.75,
          115.15000000000003,
          112.55000000000001,
          110.25,
          107.55000000000001,
          105.25,
          102.85000000000002,
          100.75,
          98.15000000000003,
          95.95000000000005,
          93.35000000000002,
          90.85000000000002,
          88.55000000000001,
          86.15000000000003,
          83.75,
          81.85000000000002,
          79.35000000000002,
          77.05000000000001,
          74.85000000000002,
          72.75,
          70.35000000000002,
          68.15000000000003,
          65.95000000000005,
          64.15000000000003,
          61.950000000000045,
          59.950000000000045,
          58.35000000000002,
          56.55000000000001,
          54.75,
          53.35000000000002,
          51.55000000000001,
          49.950000000000045,
          48.35000000000002
         ],
         "y": [
          5.999999999999943e-8,
          7.999999999999923e-8,
          7.999999999999923e-8,
          7.999999999999923e-8,
          5.999999999999943e-8,
          3.999999999999962e-8,
          5.999999999999943e-8,
          5.999999999999943e-8,
          5.999999999999943e-8,
          5.999999999999943e-8,
          3.999999999999962e-8,
          1.999999999999981e-8,
          3.999999999999962e-8,
          3.999999999999962e-8,
          5.999999999999943e-8,
          3.999999999999962e-8,
          5.999999999999943e-8,
          3.999999999999962e-8,
          0,
          3.999999999999962e-8,
          1.999999999999981e-8,
          1.999999999999981e-8,
          3.999999999999962e-8,
          3.999999999999962e-8,
          1.999999999999981e-8,
          5.999999999999943e-8,
          1.999999999999981e-8,
          1.999999999999981e-8,
          5.999999999999943e-8,
          1.999999999999981e-8,
          3.999999999999962e-8,
          3.999999999999962e-8,
          5.999999999999943e-8,
          7.999999999999923e-8,
          5.999999999999943e-8,
          5.999999999999943e-8,
          5.999999999999943e-8,
          3.999999999999962e-8,
          7.999999999999923e-8,
          3.999999999999962e-8,
          9.999999999999904e-8,
          7.999999999999923e-8,
          7.999999999999923e-8,
          7.999999999999923e-8,
          7.999999999999923e-8,
          5.999999999999943e-8,
          9.999999999999904e-8,
          5.999999999999943e-8,
          7.999999999999923e-8,
          7.999999999999923e-8,
          9.999999999999904e-8,
          7.999999999999923e-8,
          7.999999999999923e-8,
          7.999999999999923e-8,
          7.999999999999923e-8,
          7.999999999999923e-8,
          9.999999999999904e-8,
          5.999999999999943e-8,
          9.999999999999904e-8,
          5.999999999999943e-8,
          7.999999999999923e-8,
          7.999999999999923e-8,
          7.999999999999923e-8,
          7.999999999999923e-8,
          9.999999999999904e-8,
          5.999999999999943e-8,
          9.999999999999904e-8,
          7.999999999999923e-8,
          9.999999999999904e-8,
          7.999999999999923e-8,
          9.999999999999904e-8,
          5.999999999999943e-8,
          5.999999999999943e-8,
          5.999999999999943e-8,
          7.999999999999923e-8,
          5.999999999999943e-8,
          5.999999999999943e-8,
          5.999999999999943e-8,
          7.999999999999923e-8,
          5.999999999999943e-8,
          7.999999999999923e-8,
          7.999999999999923e-8,
          7.999999999999923e-8,
          5.999999999999943e-8,
          5.999999999999943e-8,
          5.999999999999943e-8,
          7.999999999999923e-8,
          7.999999999999923e-8,
          5.999999999999943e-8,
          5.999999999999943e-8,
          5.999999999999943e-8,
          7.999999999999923e-8,
          5.999999999999943e-8,
          5.999999999999943e-8,
          7.999999999999923e-8,
          7.999999999999923e-8,
          7.999999999999923e-8,
          7.999999999999923e-8,
          7.999999999999923e-8,
          5.999999999999943e-8,
          9.999999999999904e-8,
          5.999999999999943e-8,
          5.999999999999943e-8,
          3.999999999999962e-8,
          9.999999999999904e-8,
          5.999999999999943e-8,
          9.999999999999904e-8,
          5.999999999999943e-8,
          7.999999999999923e-8,
          5.999999999999943e-8,
          9.999999999999904e-8,
          5.999999999999943e-8,
          7.999999999999923e-8,
          7.999999999999923e-8,
          7.999999999999923e-8,
          5.999999999999943e-8,
          7.999999999999923e-8,
          3.999999999999962e-8,
          9.999999999999904e-8,
          5.999999999999943e-8,
          7.999999999999923e-8,
          5.999999999999943e-8,
          9.999999999999904e-8,
          5.999999999999943e-8,
          7.999999999999923e-8,
          5.999999999999943e-8,
          7.999999999999923e-8,
          5.999999999999943e-8,
          7.999999999999923e-8,
          7.999999999999923e-8,
          5.999999999999943e-8,
          5.999999999999943e-8,
          5.999999999999943e-8,
          7.999999999999923e-8,
          5.999999999999943e-8,
          5.999999999999943e-8,
          7.999999999999923e-8,
          5.999999999999943e-8,
          7.999999999999923e-8,
          5.999999999999943e-8,
          7.999999999999923e-8,
          5.999999999999943e-8,
          9.999999999999904e-8,
          5.999999999999943e-8,
          7.999999999999923e-8,
          5.999999999999943e-8,
          7.999999999999923e-8,
          5.999999999999943e-8,
          5.999999999999943e-8,
          7.999999999999923e-8,
          7.999999999999923e-8,
          7.999999999999923e-8,
          9.999999999999904e-8,
          7.999999999999923e-8,
          7.999999999999923e-8,
          7.999999999999923e-8,
          7.999999999999923e-8,
          5.999999999999943e-8,
          7.999999999999923e-8,
          5.999999999999943e-8,
          9.999999999999904e-8,
          5.999999999999943e-8,
          1.1999999999999885e-7,
          7.999999999999923e-8,
          9.999999999999904e-8,
          7.999999999999923e-8,
          9.999999999999904e-8,
          5.999999999999943e-8,
          7.999999999999923e-8,
          7.999999999999923e-8,
          7.999999999999923e-8,
          7.999999999999923e-8,
          7.999999999999923e-8,
          5.999999999999943e-8,
          9.999999999999904e-8,
          5.999999999999943e-8,
          9.999999999999904e-8,
          7.999999999999923e-8,
          9.999999999999904e-8,
          7.999999999999923e-8,
          7.999999999999923e-8,
          7.999999999999923e-8,
          9.999999999999904e-8,
          7.999999999999923e-8,
          7.999999999999923e-8,
          7.999999999999923e-8,
          9.999999999999904e-8,
          7.999999999999923e-8,
          9.999999999999904e-8,
          7.999999999999923e-8,
          9.999999999999904e-8,
          7.999999999999923e-8,
          9.999999999999904e-8,
          7.999999999999923e-8,
          9.999999999999904e-8,
          7.999999999999923e-8,
          9.999999999999904e-8,
          7.999999999999923e-8,
          1.1999999999999885e-7,
          7.999999999999923e-8,
          9.999999999999904e-8,
          7.999999999999923e-8,
          1.1999999999999885e-7,
          7.999999999999923e-8,
          9.999999999999904e-8,
          7.999999999999923e-8,
          9.999999999999904e-8,
          7.999999999999923e-8,
          1.1999999999999885e-7,
          7.999999999999923e-8,
          9.999999999999904e-8,
          7.999999999999923e-8
         ]
        },
        {
         "line": {
          "color": "blue"
         },
         "mode": "lines",
         "name": "Cooling - zero corrected - smoothed",
         "type": "scatter",
         "x": [
          645.075,
          644.35,
          643.5500000000001,
          643.5500000000001,
          641.9666666666667,
          640.1,
          637.07,
          634.8500000000001,
          632.61,
          630.47,
          628.45,
          626.4100000000001,
          624.3100000000001,
          623.3000000000001,
          620.95,
          617.1833333333334,
          614.4833333333333,
          611.7833333333334,
          608.9833333333335,
          606.25,
          602.325,
          601.0500000000001,
          599.7,
          595.75,
          593.0833333333334,
          590.45,
          586.575,
          585.25,
          583.85,
          579.8166666666667,
          577.0166666666668,
          574.3833333333333,
          571.7166666666667,
          568.8833333333333,
          566.0500000000001,
          563.2166666666667,
          560.5833333333334,
          557.8166666666667,
          554.9166666666666,
          551.8166666666667,
          548.65,
          545.5833333333334,
          542.5500000000001,
          539.5166666666668,
          536.4166666666666,
          533.2833333333333,
          530.0833333333334,
          526.8166666666667,
          523.5500000000001,
          520.45,
          517.4166666666667,
          514.4833333333335,
          511.48333333333335,
          508.3833333333334,
          505.2833333333333,
          502.15000000000003,
          498.98333333333335,
          495.6833333333334,
          492.31666666666666,
          489.0833333333333,
          485.75,
          482.55,
          479.3500000000001,
          476.31666666666666,
          473.15000000000003,
          469.9166666666667,
          466.48333333333335,
          463.0166666666667,
          459.3500000000001,
          455.8500000000001,
          452.2833333333333,
          448.9166666666667,
          445.45000000000005,
          442.2166666666667,
          438.8833333333334,
          435.6833333333334,
          432.45000000000005,
          429.31666666666666,
          426.0166666666667,
          422.7166666666667,
          419.3833333333334,
          416.25,
          413.1499999999999,
          410.18333333333334,
          407.2166666666667,
          404.2833333333333,
          401.2833333333333,
          398.31666666666666,
          395.31666666666666,
          392.25,
          389.2166666666667,
          386.0166666666667,
          382.95,
          379.8500000000001,
          376.81666666666666,
          373.75,
          370.6166666666666,
          367.5833333333333,
          364.45000000000005,
          361.3500000000001,
          358.2166666666667,
          355.31666666666666,
          352.55,
          349.7166666666667,
          346.6166666666666,
          343.2833333333333,
          339.8833333333334,
          336.45000000000005,
          332.9833333333334,
          329.65000000000003,
          326.28333333333336,
          322.98333333333335,
          319.55,
          316.28333333333336,
          313.05,
          309.9833333333334,
          306.7166666666667,
          303.3833333333334,
          299.8833333333334,
          296.61666666666673,
          293.25000000000006,
          289.95000000000005,
          286.4833333333334,
          283.28333333333336,
          280.0166666666667,
          276.78333333333336,
          273.28333333333336,
          269.95,
          266.5833333333333,
          263.4166666666667,
          260.28333333333336,
          257.2166666666667,
          254.15000000000006,
          250.8833333333334,
          247.7833333333334,
          244.75000000000003,
          241.9166666666667,
          239.1166666666667,
          236.15,
          233.25,
          230.2833333333334,
          227.51666666666668,
          224.58333333333334,
          221.61666666666667,
          218.48333333333335,
          215.45000000000005,
          212.3166666666667,
          209.2833333333334,
          206.38333333333335,
          203.7166666666667,
          200.95000000000005,
          198.01666666666674,
          194.88333333333335,
          191.85000000000002,
          188.78333333333333,
          185.91666666666666,
          183.01666666666668,
          180.18333333333337,
          177.2833333333334,
          174.51666666666668,
          171.68333333333337,
          168.95000000000002,
          166.05,
          163.18333333333337,
          160.15000000000003,
          157.3166666666667,
          154.4166666666667,
          151.48333333333338,
          148.35000000000002,
          145.45000000000002,
          142.61666666666667,
          139.95000000000002,
          137.18333333333337,
          134.48333333333335,
          131.68333333333337,
          128.91666666666669,
          126.08333333333336,
          123.28333333333336,
          120.48333333333335,
          117.78333333333336,
          113.92500000000001,
          111.37500000000001,
          110.15,
          107.69000000000001,
          105.33000000000001,
          102.91000000000001,
          100.59000000000002,
          98.21000000000002,
          97.05000000000003,
          93.37000000000003,
          89.72500000000002,
          88.53000000000002,
          86.23000000000002,
          83.93000000000002,
          81.63000000000002,
          79.37000000000002,
          77.17000000000002,
          74.87000000000002,
          72.63000000000002,
          70.41000000000003,
          68.27000000000002,
          66.11000000000004,
          64.03000000000004,
          62.070000000000036,
          60.19000000000003,
          57.483333333333356,
          55.75000000000002,
          54.08333333333335,
          53.264285714285734,
          52.416666666666686,
          51.59000000000002,
          50.800000000000026
         ],
         "y": [
          7.499999999999928e-8,
          7.199999999999931e-8,
          6.666666666666603e-8,
          6.666666666666603e-8,
          6.666666666666603e-8,
          6.333333333333272e-8,
          5.599999999999946e-8,
          5.599999999999946e-8,
          5.599999999999946e-8,
          4.799999999999954e-8,
          4.399999999999958e-8,
          3.999999999999962e-8,
          3.999999999999962e-8,
          3.999999999999962e-8,
          4.499999999999957e-8,
          5.3333333333332825e-8,
          4.666666666666622e-8,
          3.3333333333333016e-8,
          2.6666666666666412e-8,
          1.999999999999981e-8,
          2.999999999999971e-8,
          2.6666666666666412e-8,
          2.999999999999971e-8,
          3.3333333333333016e-8,
          3.999999999999962e-8,
          3.3333333333333016e-8,
          3.999999999999962e-8,
          3.3333333333333016e-8,
          2.999999999999971e-8,
          3.999999999999962e-8,
          3.3333333333333016e-8,
          4.666666666666622e-8,
          5.999999999999943e-8,
          6.666666666666603e-8,
          6.666666666666603e-8,
          5.999999999999943e-8,
          5.3333333333332825e-8,
          5.999999999999943e-8,
          5.3333333333332825e-8,
          7.333333333333263e-8,
          7.333333333333263e-8,
          8.666666666666584e-8,
          7.999999999999923e-8,
          7.999999999999923e-8,
          7.333333333333263e-8,
          7.999999999999923e-8,
          7.333333333333263e-8,
          7.999999999999923e-8,
          7.333333333333263e-8,
          8.666666666666584e-8,
          8.666666666666584e-8,
          8.666666666666584e-8,
          7.999999999999923e-8,
          7.999999999999923e-8,
          7.999999999999923e-8,
          8.666666666666584e-8,
          7.999999999999923e-8,
          8.666666666666584e-8,
          7.333333333333263e-8,
          7.999999999999923e-8,
          7.333333333333263e-8,
          7.999999999999923e-8,
          7.999999999999923e-8,
          8.666666666666584e-8,
          7.999999999999923e-8,
          8.666666666666584e-8,
          7.999999999999923e-8,
          9.333333333333244e-8,
          8.666666666666584e-8,
          9.333333333333244e-8,
          7.999999999999923e-8,
          7.333333333333263e-8,
          5.999999999999943e-8,
          6.666666666666603e-8,
          6.666666666666603e-8,
          6.666666666666603e-8,
          5.999999999999943e-8,
          6.666666666666603e-8,
          6.666666666666603e-8,
          7.333333333333263e-8,
          7.333333333333263e-8,
          7.999999999999923e-8,
          7.333333333333263e-8,
          6.666666666666603e-8,
          5.999999999999943e-8,
          6.666666666666603e-8,
          7.333333333333263e-8,
          7.333333333333263e-8,
          6.666666666666603e-8,
          5.999999999999943e-8,
          6.666666666666603e-8,
          6.666666666666603e-8,
          6.666666666666603e-8,
          6.666666666666603e-8,
          7.333333333333263e-8,
          7.999999999999923e-8,
          7.999999999999923e-8,
          7.999999999999923e-8,
          7.333333333333263e-8,
          7.999999999999923e-8,
          7.333333333333263e-8,
          7.333333333333263e-8,
          5.3333333333332825e-8,
          6.666666666666603e-8,
          6.666666666666603e-8,
          8.666666666666584e-8,
          7.333333333333263e-8,
          7.999999999999923e-8,
          6.666666666666603e-8,
          7.999999999999923e-8,
          7.333333333333263e-8,
          7.999999999999923e-8,
          7.333333333333263e-8,
          7.999999999999923e-8,
          7.333333333333263e-8,
          7.333333333333263e-8,
          5.999999999999943e-8,
          7.333333333333263e-8,
          6.666666666666603e-8,
          7.999999999999923e-8,
          6.666666666666603e-8,
          7.999999999999923e-8,
          7.333333333333263e-8,
          7.999999999999923e-8,
          6.666666666666603e-8,
          7.333333333333263e-8,
          6.666666666666603e-8,
          7.333333333333263e-8,
          7.333333333333263e-8,
          7.333333333333263e-8,
          6.666666666666603e-8,
          5.999999999999943e-8,
          6.666666666666603e-8,
          6.666666666666603e-8,
          6.666666666666603e-8,
          6.666666666666603e-8,
          6.666666666666603e-8,
          7.333333333333263e-8,
          6.666666666666603e-8,
          7.333333333333263e-8,
          6.666666666666603e-8,
          7.999999999999923e-8,
          7.333333333333263e-8,
          7.999999999999923e-8,
          6.666666666666603e-8,
          7.333333333333263e-8,
          6.666666666666603e-8,
          6.666666666666603e-8,
          6.666666666666603e-8,
          7.333333333333263e-8,
          7.999999999999923e-8,
          8.666666666666584e-8,
          8.666666666666584e-8,
          8.666666666666584e-8,
          7.999999999999923e-8,
          7.999999999999923e-8,
          7.333333333333263e-8,
          7.333333333333263e-8,
          6.666666666666603e-8,
          7.999999999999923e-8,
          7.333333333333263e-8,
          9.333333333333244e-8,
          8.666666666666584e-8,
          9.999999999999904e-8,
          8.666666666666584e-8,
          9.333333333333244e-8,
          7.999999999999923e-8,
          7.999999999999923e-8,
          7.333333333333263e-8,
          7.999999999999923e-8,
          7.999999999999923e-8,
          7.999999999999923e-8,
          7.333333333333263e-8,
          7.999999999999923e-8,
          7.333333333333263e-8,
          8.666666666666584e-8,
          7.999999999999923e-8,
          9.333333333333244e-8,
          8.666666666666584e-8,
          8.666666666666584e-8,
          8.499999999999919e-8,
          8.499999999999919e-8,
          8.399999999999919e-8,
          8.399999999999919e-8,
          8.799999999999916e-8,
          8.399999999999919e-8,
          8.799999999999916e-8,
          8.799999999999916e-8,
          8.999999999999914e-8,
          8.799999999999916e-8,
          8.999999999999914e-8,
          8.799999999999916e-8,
          9.199999999999912e-8,
          8.799999999999916e-8,
          9.199999999999912e-8,
          8.799999999999916e-8,
          9.599999999999909e-8,
          9.199999999999912e-8,
          9.599999999999909e-8,
          9.199999999999912e-8,
          9.999999999999904e-8,
          9.199999999999912e-8,
          9.599999999999909e-8,
          9.199999999999912e-8,
          9.599999999999909e-8,
          9.333333333333244e-8,
          9.333333333333244e-8,
          9.333333333333244e-8,
          9.142857142857056e-8,
          9.333333333333244e-8,
          9.199999999999912e-8,
          9.499999999999909e-8
         ]
        }
       ],
       "layout": {
        "font": {
         "color": "Black",
         "family": "Roboto, sans-serif",
         "size": 18
        },
        "height": 556,
        "margin": {
         "b": 50,
         "l": 50,
         "r": 50,
         "t": 80
        },
        "paper_bgcolor": "white",
        "plot_bgcolor": "white",
        "shapes": [
         {
          "line": {
           "color": "black",
           "width": 2
          },
          "type": "rect",
          "x0": 0,
          "x1": 1,
          "xref": "paper",
          "y0": 0,
          "y1": 1,
          "yref": "paper"
         }
        ],
        "showlegend": true,
        "template": {
         "data": {
          "bar": [
           {
            "error_x": {
             "color": "#2a3f5f"
            },
            "error_y": {
             "color": "#2a3f5f"
            },
            "marker": {
             "line": {
              "color": "#E5ECF6",
              "width": 0.5
             },
             "pattern": {
              "fillmode": "overlay",
              "size": 10,
              "solidity": 0.2
             }
            },
            "type": "bar"
           }
          ],
          "barpolar": [
           {
            "marker": {
             "line": {
              "color": "#E5ECF6",
              "width": 0.5
             },
             "pattern": {
              "fillmode": "overlay",
              "size": 10,
              "solidity": 0.2
             }
            },
            "type": "barpolar"
           }
          ],
          "carpet": [
           {
            "aaxis": {
             "endlinecolor": "#2a3f5f",
             "gridcolor": "white",
             "linecolor": "white",
             "minorgridcolor": "white",
             "startlinecolor": "#2a3f5f"
            },
            "baxis": {
             "endlinecolor": "#2a3f5f",
             "gridcolor": "white",
             "linecolor": "white",
             "minorgridcolor": "white",
             "startlinecolor": "#2a3f5f"
            },
            "type": "carpet"
           }
          ],
          "choropleth": [
           {
            "colorbar": {
             "outlinewidth": 0,
             "ticks": ""
            },
            "type": "choropleth"
           }
          ],
          "contour": [
           {
            "colorbar": {
             "outlinewidth": 0,
             "ticks": ""
            },
            "colorscale": [
             [
              0,
              "#0d0887"
             ],
             [
              0.1111111111111111,
              "#46039f"
             ],
             [
              0.2222222222222222,
              "#7201a8"
             ],
             [
              0.3333333333333333,
              "#9c179e"
             ],
             [
              0.4444444444444444,
              "#bd3786"
             ],
             [
              0.5555555555555556,
              "#d8576b"
             ],
             [
              0.6666666666666666,
              "#ed7953"
             ],
             [
              0.7777777777777778,
              "#fb9f3a"
             ],
             [
              0.8888888888888888,
              "#fdca26"
             ],
             [
              1,
              "#f0f921"
             ]
            ],
            "type": "contour"
           }
          ],
          "contourcarpet": [
           {
            "colorbar": {
             "outlinewidth": 0,
             "ticks": ""
            },
            "type": "contourcarpet"
           }
          ],
          "heatmap": [
           {
            "colorbar": {
             "outlinewidth": 0,
             "ticks": ""
            },
            "colorscale": [
             [
              0,
              "#0d0887"
             ],
             [
              0.1111111111111111,
              "#46039f"
             ],
             [
              0.2222222222222222,
              "#7201a8"
             ],
             [
              0.3333333333333333,
              "#9c179e"
             ],
             [
              0.4444444444444444,
              "#bd3786"
             ],
             [
              0.5555555555555556,
              "#d8576b"
             ],
             [
              0.6666666666666666,
              "#ed7953"
             ],
             [
              0.7777777777777778,
              "#fb9f3a"
             ],
             [
              0.8888888888888888,
              "#fdca26"
             ],
             [
              1,
              "#f0f921"
             ]
            ],
            "type": "heatmap"
           }
          ],
          "heatmapgl": [
           {
            "colorbar": {
             "outlinewidth": 0,
             "ticks": ""
            },
            "colorscale": [
             [
              0,
              "#0d0887"
             ],
             [
              0.1111111111111111,
              "#46039f"
             ],
             [
              0.2222222222222222,
              "#7201a8"
             ],
             [
              0.3333333333333333,
              "#9c179e"
             ],
             [
              0.4444444444444444,
              "#bd3786"
             ],
             [
              0.5555555555555556,
              "#d8576b"
             ],
             [
              0.6666666666666666,
              "#ed7953"
             ],
             [
              0.7777777777777778,
              "#fb9f3a"
             ],
             [
              0.8888888888888888,
              "#fdca26"
             ],
             [
              1,
              "#f0f921"
             ]
            ],
            "type": "heatmapgl"
           }
          ],
          "histogram": [
           {
            "marker": {
             "pattern": {
              "fillmode": "overlay",
              "size": 10,
              "solidity": 0.2
             }
            },
            "type": "histogram"
           }
          ],
          "histogram2d": [
           {
            "colorbar": {
             "outlinewidth": 0,
             "ticks": ""
            },
            "colorscale": [
             [
              0,
              "#0d0887"
             ],
             [
              0.1111111111111111,
              "#46039f"
             ],
             [
              0.2222222222222222,
              "#7201a8"
             ],
             [
              0.3333333333333333,
              "#9c179e"
             ],
             [
              0.4444444444444444,
              "#bd3786"
             ],
             [
              0.5555555555555556,
              "#d8576b"
             ],
             [
              0.6666666666666666,
              "#ed7953"
             ],
             [
              0.7777777777777778,
              "#fb9f3a"
             ],
             [
              0.8888888888888888,
              "#fdca26"
             ],
             [
              1,
              "#f0f921"
             ]
            ],
            "type": "histogram2d"
           }
          ],
          "histogram2dcontour": [
           {
            "colorbar": {
             "outlinewidth": 0,
             "ticks": ""
            },
            "colorscale": [
             [
              0,
              "#0d0887"
             ],
             [
              0.1111111111111111,
              "#46039f"
             ],
             [
              0.2222222222222222,
              "#7201a8"
             ],
             [
              0.3333333333333333,
              "#9c179e"
             ],
             [
              0.4444444444444444,
              "#bd3786"
             ],
             [
              0.5555555555555556,
              "#d8576b"
             ],
             [
              0.6666666666666666,
              "#ed7953"
             ],
             [
              0.7777777777777778,
              "#fb9f3a"
             ],
             [
              0.8888888888888888,
              "#fdca26"
             ],
             [
              1,
              "#f0f921"
             ]
            ],
            "type": "histogram2dcontour"
           }
          ],
          "mesh3d": [
           {
            "colorbar": {
             "outlinewidth": 0,
             "ticks": ""
            },
            "type": "mesh3d"
           }
          ],
          "parcoords": [
           {
            "line": {
             "colorbar": {
              "outlinewidth": 0,
              "ticks": ""
             }
            },
            "type": "parcoords"
           }
          ],
          "pie": [
           {
            "automargin": true,
            "type": "pie"
           }
          ],
          "scatter": [
           {
            "fillpattern": {
             "fillmode": "overlay",
             "size": 10,
             "solidity": 0.2
            },
            "type": "scatter"
           }
          ],
          "scatter3d": [
           {
            "line": {
             "colorbar": {
              "outlinewidth": 0,
              "ticks": ""
             }
            },
            "marker": {
             "colorbar": {
              "outlinewidth": 0,
              "ticks": ""
             }
            },
            "type": "scatter3d"
           }
          ],
          "scattercarpet": [
           {
            "marker": {
             "colorbar": {
              "outlinewidth": 0,
              "ticks": ""
             }
            },
            "type": "scattercarpet"
           }
          ],
          "scattergeo": [
           {
            "marker": {
             "colorbar": {
              "outlinewidth": 0,
              "ticks": ""
             }
            },
            "type": "scattergeo"
           }
          ],
          "scattergl": [
           {
            "marker": {
             "colorbar": {
              "outlinewidth": 0,
              "ticks": ""
             }
            },
            "type": "scattergl"
           }
          ],
          "scattermapbox": [
           {
            "marker": {
             "colorbar": {
              "outlinewidth": 0,
              "ticks": ""
             }
            },
            "type": "scattermapbox"
           }
          ],
          "scatterpolar": [
           {
            "marker": {
             "colorbar": {
              "outlinewidth": 0,
              "ticks": ""
             }
            },
            "type": "scatterpolar"
           }
          ],
          "scatterpolargl": [
           {
            "marker": {
             "colorbar": {
              "outlinewidth": 0,
              "ticks": ""
             }
            },
            "type": "scatterpolargl"
           }
          ],
          "scatterternary": [
           {
            "marker": {
             "colorbar": {
              "outlinewidth": 0,
              "ticks": ""
             }
            },
            "type": "scatterternary"
           }
          ],
          "surface": [
           {
            "colorbar": {
             "outlinewidth": 0,
             "ticks": ""
            },
            "colorscale": [
             [
              0,
              "#0d0887"
             ],
             [
              0.1111111111111111,
              "#46039f"
             ],
             [
              0.2222222222222222,
              "#7201a8"
             ],
             [
              0.3333333333333333,
              "#9c179e"
             ],
             [
              0.4444444444444444,
              "#bd3786"
             ],
             [
              0.5555555555555556,
              "#d8576b"
             ],
             [
              0.6666666666666666,
              "#ed7953"
             ],
             [
              0.7777777777777778,
              "#fb9f3a"
             ],
             [
              0.8888888888888888,
              "#fdca26"
             ],
             [
              1,
              "#f0f921"
             ]
            ],
            "type": "surface"
           }
          ],
          "table": [
           {
            "cells": {
             "fill": {
              "color": "#EBF0F8"
             },
             "line": {
              "color": "white"
             }
            },
            "header": {
             "fill": {
              "color": "#C8D4E3"
             },
             "line": {
              "color": "white"
             }
            },
            "type": "table"
           }
          ]
         },
         "layout": {
          "annotationdefaults": {
           "arrowcolor": "#2a3f5f",
           "arrowhead": 0,
           "arrowwidth": 1
          },
          "autotypenumbers": "strict",
          "coloraxis": {
           "colorbar": {
            "outlinewidth": 0,
            "ticks": ""
           }
          },
          "colorscale": {
           "diverging": [
            [
             0,
             "#8e0152"
            ],
            [
             0.1,
             "#c51b7d"
            ],
            [
             0.2,
             "#de77ae"
            ],
            [
             0.3,
             "#f1b6da"
            ],
            [
             0.4,
             "#fde0ef"
            ],
            [
             0.5,
             "#f7f7f7"
            ],
            [
             0.6,
             "#e6f5d0"
            ],
            [
             0.7,
             "#b8e186"
            ],
            [
             0.8,
             "#7fbc41"
            ],
            [
             0.9,
             "#4d9221"
            ],
            [
             1,
             "#276419"
            ]
           ],
           "sequential": [
            [
             0,
             "#0d0887"
            ],
            [
             0.1111111111111111,
             "#46039f"
            ],
            [
             0.2222222222222222,
             "#7201a8"
            ],
            [
             0.3333333333333333,
             "#9c179e"
            ],
            [
             0.4444444444444444,
             "#bd3786"
            ],
            [
             0.5555555555555556,
             "#d8576b"
            ],
            [
             0.6666666666666666,
             "#ed7953"
            ],
            [
             0.7777777777777778,
             "#fb9f3a"
            ],
            [
             0.8888888888888888,
             "#fdca26"
            ],
            [
             1,
             "#f0f921"
            ]
           ],
           "sequentialminus": [
            [
             0,
             "#0d0887"
            ],
            [
             0.1111111111111111,
             "#46039f"
            ],
            [
             0.2222222222222222,
             "#7201a8"
            ],
            [
             0.3333333333333333,
             "#9c179e"
            ],
            [
             0.4444444444444444,
             "#bd3786"
            ],
            [
             0.5555555555555556,
             "#d8576b"
            ],
            [
             0.6666666666666666,
             "#ed7953"
            ],
            [
             0.7777777777777778,
             "#fb9f3a"
            ],
            [
             0.8888888888888888,
             "#fdca26"
            ],
            [
             1,
             "#f0f921"
            ]
           ]
          },
          "colorway": [
           "#636efa",
           "#EF553B",
           "#00cc96",
           "#ab63fa",
           "#FFA15A",
           "#19d3f3",
           "#FF6692",
           "#B6E880",
           "#FF97FF",
           "#FECB52"
          ],
          "font": {
           "color": "#2a3f5f"
          },
          "geo": {
           "bgcolor": "white",
           "lakecolor": "white",
           "landcolor": "#E5ECF6",
           "showlakes": true,
           "showland": true,
           "subunitcolor": "white"
          },
          "hoverlabel": {
           "align": "left"
          },
          "hovermode": "closest",
          "mapbox": {
           "style": "light"
          },
          "paper_bgcolor": "white",
          "plot_bgcolor": "#E5ECF6",
          "polar": {
           "angularaxis": {
            "gridcolor": "white",
            "linecolor": "white",
            "ticks": ""
           },
           "bgcolor": "#E5ECF6",
           "radialaxis": {
            "gridcolor": "white",
            "linecolor": "white",
            "ticks": ""
           }
          },
          "scene": {
           "xaxis": {
            "backgroundcolor": "#E5ECF6",
            "gridcolor": "white",
            "gridwidth": 2,
            "linecolor": "white",
            "showbackground": true,
            "ticks": "",
            "zerolinecolor": "white"
           },
           "yaxis": {
            "backgroundcolor": "#E5ECF6",
            "gridcolor": "white",
            "gridwidth": 2,
            "linecolor": "white",
            "showbackground": true,
            "ticks": "",
            "zerolinecolor": "white"
           },
           "zaxis": {
            "backgroundcolor": "#E5ECF6",
            "gridcolor": "white",
            "gridwidth": 2,
            "linecolor": "white",
            "showbackground": true,
            "ticks": "",
            "zerolinecolor": "white"
           }
          },
          "shapedefaults": {
           "line": {
            "color": "#2a3f5f"
           }
          },
          "ternary": {
           "aaxis": {
            "gridcolor": "white",
            "linecolor": "white",
            "ticks": ""
           },
           "baxis": {
            "gridcolor": "white",
            "linecolor": "white",
            "ticks": ""
           },
           "bgcolor": "#E5ECF6",
           "caxis": {
            "gridcolor": "white",
            "linecolor": "white",
            "ticks": ""
           }
          },
          "title": {
           "x": 0.05
          },
          "xaxis": {
           "automargin": true,
           "gridcolor": "white",
           "linecolor": "white",
           "ticks": "",
           "title": {
            "standoff": 15
           },
           "zerolinecolor": "white",
           "zerolinewidth": 2
          },
          "yaxis": {
           "automargin": true,
           "gridcolor": "white",
           "linecolor": "white",
           "ticks": "",
           "title": {
            "standoff": 15
           },
           "zerolinecolor": "white",
           "zerolinewidth": 2
          }
         }
        },
        "title": {
         "text": "goeth_C02",
         "x": 0.5,
         "xanchor": "center"
        },
        "width": 900,
        "xaxis": {
         "dtick": 100,
         "gridcolor": "lightgray",
         "gridwidth": 1,
         "linecolor": "black",
         "linewidth": 1,
         "showline": true,
         "tick0": 0,
         "title": {
          "text": "Temperature (&deg;C)"
         }
        },
        "yaxis": {
         "autorange": true,
         "gridcolor": "lightgray",
         "gridwidth": 1,
         "linecolor": "black",
         "linewidth": 1,
         "showline": true,
         "tickformat": ".1e",
         "title": {
          "text": "<i>k</i> (m<sup>3</sup> kg<sup>-1</sup>)"
         }
        }
       }
      }
     },
     "metadata": {},
     "output_type": "display_data"
    },
    {
     "data": {
      "application/vnd.plotly.v1+json": {
       "config": {
        "plotlyServerURL": "https://plot.ly"
       },
       "data": [
        {
         "line": {
          "color": "red"
         },
         "mode": "markers+lines",
         "name": "Heating - dX/dT smoothed",
         "type": "scatter",
         "x": [
          25.50000000000003,
          27.650000000000034,
          29.50000000000003,
          37.450000000000045,
          45.20000000000002,
          47.58333333333335,
          52.08333333333335,
          56.25000000000002,
          59.88333333333335,
          63.18333333333336,
          66.08333333333336,
          68.8166666666667,
          71.58333333333337,
          74.4166666666667,
          77.28333333333336,
          80.0166666666667,
          82.65000000000002,
          85.25000000000001,
          87.85000000000002,
          90.48333333333336,
          93.18333333333338,
          97.17500000000004,
          99.77500000000003,
          99.77500000000003,
          102.32500000000003,
          106.2166666666667,
          108.8166666666667,
          111.45000000000003,
          113.95000000000003,
          116.61666666666669,
          119.18333333333335,
          121.95,
          124.58333333333333,
          127.41666666666667,
          130.25,
          133.28333333333333,
          136.3166666666667,
          139.35000000000002,
          142.25000000000003,
          145.05,
          147.91666666666669,
          150.91666666666669,
          154.01666666666668,
          157.11666666666667,
          160.05,
          162.91666666666669,
          165.55000000000004,
          168.2166666666667,
          170.85000000000002,
          173.7166666666667,
          176.58333333333334,
          179.65,
          182.6166666666667,
          185.65,
          188.68333333333337,
          191.88333333333335,
          195.08333333333334,
          198.1166666666667,
          201.08333333333337,
          204.2166666666667,
          207.38333333333335,
          210.45000000000005,
          213.48333333333335,
          216.48333333333335,
          219.58333333333337,
          222.51666666666674,
          225.45000000000005,
          228.25,
          231.28333333333333,
          234.51666666666668,
          237.98333333333335,
          241.45000000000005,
          244.95000000000005,
          248.45000000000005,
          251.95000000000005,
          255.2833333333334,
          258.68333333333334,
          261.95,
          265.45,
          268.9166666666667,
          272.58333333333337,
          276.18333333333334,
          279.75,
          283.21666666666664,
          286.6166666666667,
          289.95,
          293.25000000000006,
          296.5166666666667,
          299.75000000000006,
          302.9166666666667,
          306.05,
          309.15000000000003,
          312.21666666666664,
          315.25,
          318.3833333333333,
          321.55,
          324.81666666666666,
          327.85,
          330.9166666666667,
          333.9166666666667,
          336.9833333333334,
          339.8166666666667,
          342.75,
          345.9166666666667,
          349.55,
          353.4166666666667,
          357.61666666666673,
          362.05,
          366.5166666666667,
          370.6166666666666,
          374.48333333333335,
          377.98333333333335,
          381.48333333333335,
          384.81666666666666,
          388.2166666666667,
          391.48333333333335,
          394.6833333333334,
          397.65000000000003,
          400.5833333333333,
          403.4833333333334,
          406.55,
          409.45,
          412.45,
          415.31666666666666,
          418.48333333333335,
          421.65000000000003,
          425.05,
          428.4833333333334,
          431.95000000000005,
          435.3500000000001,
          438.8500000000001,
          442.2166666666667,
          445.5166666666667,
          448.5166666666667,
          451.61666666666673,
          454.7166666666667,
          458.1166666666666,
          461.45,
          464.81666666666666,
          468.05,
          471.3500000000001,
          474.6166666666666,
          477.75,
          480.65000000000003,
          483.48333333333335,
          486.3833333333334,
          489.3500000000001,
          492.31666666666666,
          495.25,
          498.2833333333333,
          501.31666666666666,
          504.31666666666666,
          507.31666666666666,
          510.45,
          513.4499999999999,
          516.35,
          519.1500000000001,
          522.0833333333334,
          524.95,
          527.9166666666667,
          530.75,
          533.5833333333334,
          536.4500000000002,
          539.4500000000002,
          542.6833333333334,
          545.7166666666667,
          548.65,
          551.3833333333333,
          554.3833333333333,
          557.65,
          561.1166666666667,
          564.5166666666668,
          567.7833333333334,
          570.8166666666667,
          573.7833333333333,
          576.7166666666667,
          579.75,
          582.6166666666667,
          585.4166666666666,
          588.15,
          591.15,
          594.1500000000001,
          597.15,
          600.1166666666667,
          603.2833333333333,
          606.4833333333335,
          609.6833333333334,
          612.8166666666667,
          615.9833333333335,
          618.9833333333335,
          621.8166666666667,
          624.6833333333334,
          627.6166666666667,
          630.7833333333333,
          634.0166666666668,
          637.1500000000001,
          641.25,
          644.9357142857143,
          644.9357142857143,
          645.75,
          645.75,
          645.75,
          645.75
         ],
         "y": [
          -1.5503875968992716e-9,
          3.156819610307976e-9,
          6.321569933429719e-9,
          1.2418379201217756e-9,
          2.139308060360437e-9,
          3.3675552319618598e-9,
          2.9675213675213357e-9,
          2.7056222065398288e-9,
          2.805311406228949e-9,
          4.0038875967688054e-9,
          4.671935211496695e-9,
          6.031665464518916e-9,
          4.267068273092398e-9,
          2.3119815041479867e-9,
          2.2702104097454126e-9,
          3.868228634326588e-9,
          3.77328065790534e-9,
          2.5641025641026563e-9,
          3.838194646869877e-9,
          4.9390529770274564e-9,
          6.524497026970736e-9,
          4.387737265044231e-9,
          null,
          null,
          6.686911047318047e-9,
          6.752216162375444e-9,
          4.515760248244302e-9,
          5.471861471861286e-9,
          6.715053763440799e-9,
          5.196666390933918e-9,
          4.042207792207774e-9,
          3.891233005157097e-9,
          3.936400123494953e-9,
          2.352941176470466e-9,
          2.4331550802138737e-9,
          3.846153846153826e-9,
          6.5934065934065885e-9,
          5.62365440319704e-9,
          2.8231498285944257e-9,
          1.1491108071135893e-9,
          1.189217758985293e-9,
          2.115282919090576e-9,
          3.2258064516130226e-9,
          3.3810750527914373e-9,
          2.24660397074192e-9,
          1.319524357499131e-9,
          1.273783934400024e-9,
          1.273783934400024e-9,
          1.3195243574989193e-9,
          4.0697674418605714e-9,
          5.257268151918295e-9,
          5.066705892196205e-9,
          3.976279650436933e-9,
          2.747252747252551e-9,
          3.834523319817351e-9,
          3.12499999999997e-9,
          4.2841961959609236e-9,
          4.445541973631803e-9,
          4.3781164719545144e-9,
          4.233041231921643e-9,
          4.280277536435847e-9,
          4.371845783107213e-9,
          6.096034107083753e-9,
          6.59674481461881e-9,
          6.701055286423333e-9,
          6.24999999999994e-9,
          7.092519883217531e-9,
          7.0622710622711534e-9,
          6.759061294047088e-9,
          4.800738575165514e-9,
          4.326923076923133e-9,
          4.3476260581522796e-9,
          4.2857142857143354e-9,
          4.2857142857143354e-9,
          3.0731707317071864e-9,
          2.059017666472457e-9,
          8.00320128051215e-11,
          -7.83485808116204e-10,
          3.6630036630148364e-11,
          1.9769949676490855e-9,
          1.8688413183825133e-9,
          -3.461405330557275e-11,
          -1.8425831598529261e-9,
          -2.969731581953043e-9,
          -3.921956901572551e-9,
          -5.563270899954145e-9,
          -7.0863509224638125e-9,
          -8.237118796765195e-9,
          -8.801828992584534e-9,
          -1.1162125171083855e-8,
          -1.38816604822499e-8,
          -1.62639146860749e-8,
          -1.8556455423882425e-8,
          -1.831790406258487e-8,
          -1.9583414801779964e-8,
          -2.2680053204810736e-8,
          -2.644921216349777e-8,
          -3.163615904171841e-8,
          -3.7371662154270816e-8,
          -4.543425173859904e-8,
          -5.3094701403036925e-8,
          -5.428773453680007e-8,
          -5.067175203283954e-8,
          -4.426477689095914e-8,
          -3.9352982530141784e-8,
          -3.6282778524157616e-8,
          -3.48833796202217e-8,
          -3.4812799229332815e-8,
          -3.820552735987915e-8,
          -4.378560796140341e-8,
          -5.293003142901699e-8,
          -5.9047619047619115e-8,
          -5.3806039488966426e-8,
          -3.829295282469425e-8,
          -2.0136254501800566e-8,
          -1.239502244196644e-8,
          -1.0012969430104158e-8,
          -9.637053259696678e-9,
          -7.948275862069083e-9,
          -7.583568550920226e-9,
          -6.9928024814410185e-9,
          -6.6303006688746316e-9,
          -7.807728447263365e-9,
          -6.442381168132974e-9,
          -5.263157894736836e-9,
          -3.4539244498226316e-9,
          -3.9121431191467826e-9,
          -5.769366063794082e-9,
          -6.264735169646619e-9,
          -4.804936467340478e-9,
          -2.8016643550623674e-9,
          -3.060606060606058e-9,
          -6.37806637806644e-9,
          -8.14736471003005e-9,
          -7.526881720430113e-9,
          -5.150099742130119e-9,
          -4.446515239759294e-9,
          -4.965469681296445e-9,
          -5.013800349107022e-9,
          -5.0822765844855966e-9,
          -5.06609658168752e-9,
          -4.170285135330724e-9,
          -5.030069895110059e-9,
          -7.005676368382298e-9,
          -8.14173624542048e-9,
          -5.179531659093836e-9,
          -3.3707865168539876e-9,
          -2.2344950168222606e-9,
          -2.1609675240960126e-9,
          -2.197802197802205e-9,
          -6.144874155923862e-9,
          -8.333333333333368e-9,
          -6.953695138246526e-9,
          -4.683163737280227e-9,
          -2.9222676797191582e-9,
          -4.03451156627171e-9,
          -4.547971408436557e-9,
          -5.722218172097891e-9,
          -4.574116241740949e-9,
          -4.602563225988014e-9,
          -3.5294117647061226e-9,
          -3.495332037343743e-9,
          -2.3784355179704406e-9,
          -1.9846739070513387e-9,
          -8.620793551701991e-10,
          -1.8080383303846362e-9,
          -4.634472414242659e-9,
          -6.681792399319078e-9,
          -5.212765957446653e-9,
          -1.8659558263518244e-9,
          -1.9044062733382985e-9,
          -4.163265306122482e-9,
          -6.209663352520464e-9,
          -8.421821624069067e-9,
          -8.430428836066082e-9,
          -7.172994603162261e-9,
          -8.392277804970018e-9,
          -1.007198228128474e-8,
          -8.937142297412797e-9,
          -4.671330434234513e-9,
          -6.1111111111109695e-9,
          -1.0000000000000258e-8,
          -7.771779688797257e-9,
          -3.776965006556525e-9,
          -3.1524983925782815e-9,
          -5.208333333333431e-9,
          -4.122807017543949e-9,
          -1.0470620996936298e-9,
          -2.1653232179547525e-9,
          -2.2894491129785357e-9,
          -1.183350533195772e-9,
          1.1233019853709724e-9,
          2.192198080895246e-9,
          2.0837854946644502e-9,
          3.175813562494717e-9,
          3.2924477690702804e-9,
          2.0847925675757626e-9,
          null,
          null,
          null,
          null,
          null,
          null
         ]
        },
        {
         "line": {
          "color": "blue"
         },
         "mode": "markers+lines",
         "name": "Cooling - dX/dT smoothed",
         "type": "scatter",
         "x": [
          645.075,
          644.35,
          643.5500000000001,
          643.5500000000001,
          641.9666666666667,
          640.1,
          637.07,
          634.8500000000001,
          632.61,
          630.47,
          628.45,
          626.4100000000001,
          624.3100000000001,
          623.3000000000001,
          620.95,
          617.1833333333334,
          614.4833333333333,
          611.7833333333334,
          608.9833333333335,
          606.25,
          602.325,
          601.0500000000001,
          599.7,
          595.75,
          593.0833333333334,
          590.45,
          586.575,
          585.25,
          583.85,
          579.8166666666667,
          577.0166666666668,
          574.3833333333333,
          571.7166666666667,
          568.8833333333333,
          566.0500000000001,
          563.2166666666667,
          560.5833333333334,
          557.8166666666667,
          554.9166666666666,
          551.8166666666667,
          548.65,
          545.5833333333334,
          542.5500000000001,
          539.5166666666668,
          536.4166666666666,
          533.2833333333333,
          530.0833333333334,
          526.8166666666667,
          523.5500000000001,
          520.45,
          517.4166666666667,
          514.4833333333335,
          511.48333333333335,
          508.3833333333334,
          505.2833333333333,
          502.15000000000003,
          498.98333333333335,
          495.6833333333334,
          492.31666666666666,
          489.0833333333333,
          485.75,
          482.55,
          479.3500000000001,
          476.31666666666666,
          473.15000000000003,
          469.9166666666667,
          466.48333333333335,
          463.0166666666667,
          459.3500000000001,
          455.8500000000001,
          452.2833333333333,
          448.9166666666667,
          445.45000000000005,
          442.2166666666667,
          438.8833333333334,
          435.6833333333334,
          432.45000000000005,
          429.31666666666666,
          426.0166666666667,
          422.7166666666667,
          419.3833333333334,
          416.25,
          413.1499999999999,
          410.18333333333334,
          407.2166666666667,
          404.2833333333333,
          401.2833333333333,
          398.31666666666666,
          395.31666666666666,
          392.25,
          389.2166666666667,
          386.0166666666667,
          382.95,
          379.8500000000001,
          376.81666666666666,
          373.75,
          370.6166666666666,
          367.5833333333333,
          364.45000000000005,
          361.3500000000001,
          358.2166666666667,
          355.31666666666666,
          352.55,
          349.7166666666667,
          346.6166666666666,
          343.2833333333333,
          339.8833333333334,
          336.45000000000005,
          332.9833333333334,
          329.65000000000003,
          326.28333333333336,
          322.98333333333335,
          319.55,
          316.28333333333336,
          313.05,
          309.9833333333334,
          306.7166666666667,
          303.3833333333334,
          299.8833333333334,
          296.61666666666673,
          293.25000000000006,
          289.95000000000005,
          286.4833333333334,
          283.28333333333336,
          280.0166666666667,
          276.78333333333336,
          273.28333333333336,
          269.95,
          266.5833333333333,
          263.4166666666667,
          260.28333333333336,
          257.2166666666667,
          254.15000000000006,
          250.8833333333334,
          247.7833333333334,
          244.75000000000003,
          241.9166666666667,
          239.1166666666667,
          236.15,
          233.25,
          230.2833333333334,
          227.51666666666668,
          224.58333333333334,
          221.61666666666667,
          218.48333333333335,
          215.45000000000005,
          212.3166666666667,
          209.2833333333334,
          206.38333333333335,
          203.7166666666667,
          200.95000000000005,
          198.01666666666674,
          194.88333333333335,
          191.85000000000002,
          188.78333333333333,
          185.91666666666666,
          183.01666666666668,
          180.18333333333337,
          177.2833333333334,
          174.51666666666668,
          171.68333333333337,
          168.95000000000002,
          166.05,
          163.18333333333337,
          160.15000000000003,
          157.3166666666667,
          154.4166666666667,
          151.48333333333338,
          148.35000000000002,
          145.45000000000002,
          142.61666666666667,
          139.95000000000002,
          137.18333333333337,
          134.48333333333335,
          131.68333333333337,
          128.91666666666669,
          126.08333333333336,
          123.28333333333336,
          120.48333333333335,
          117.78333333333336,
          113.92500000000001,
          111.37500000000001,
          110.15,
          107.69000000000001,
          105.33000000000001,
          102.91000000000001,
          100.59000000000002,
          98.21000000000002,
          97.05000000000003,
          93.37000000000003,
          89.72500000000002,
          88.53000000000002,
          86.23000000000002,
          83.93000000000002,
          81.63000000000002,
          79.37000000000002,
          77.17000000000002,
          74.87000000000002,
          72.63000000000002,
          70.41000000000003,
          68.27000000000002,
          66.11000000000004,
          64.03000000000004,
          62.070000000000036,
          60.19000000000003,
          57.483333333333356,
          55.75000000000002,
          54.08333333333335,
          53.264285714285734,
          52.416666666666686,
          51.59000000000002,
          50.800000000000026
         ],
         "y": [
          4.137931034482593e-9,
          5.3401168268325986e-9,
          null,
          null,
          8.195307108350579e-10,
          2.0276036890861983e-9,
          1.0234166273770056e-9,
          0,
          1.911833738744555e-9,
          2.833900392195932e-9,
          1.9705389837737854e-9,
          9.94600738846286e-10,
          0,
          -6.395643363728226e-10,
          -2.1602124427374484e-9,
          5.14478380700992e-10,
          3.7037037037037362e-9,
          3.6828603495270685e-9,
          2.410338216979353e-9,
          3.918794718345915e-10,
          1.3486596663816826e-9,
          1.4524328249826985e-10,
          -2.0551560237890363e-9,
          -1.8325468439456344e-9,
          3.164556962022474e-11,
          8.112154620933704e-10,
          3.3110164333534155e-9,
          3.742674151190543e-9,
          1.1286074030078685e-9,
          3.8941841602597626e-10,
          -1.4553448932572087e-9,
          -5.031844598359888e-9,
          -3.7165775401069576e-9,
          -1.1764705882352446e-9,
          1.1764705882352446e-9,
          2.445562355846904e-9,
          1.2200701540337847e-10,
          -1.1078797950430776e-10,
          -1.9305401062911832e-9,
          -3.2601235415238286e-9,
          -2.2087886538015134e-9,
          -1.0571277142909746e-9,
          1.0989010989010992e-9,
          1.0635811126693854e-9,
          2.2878059940415978e-11,
          -4.43262411347125e-11,
          4.251700680275388e-11,
          0,
          -1.2131385234383762e-9,
          -2.1271622253388883e-9,
          0,
          1.0986267166041624e-9,
          1.129326047358753e-9,
          1.6543612251060553e-24,
          -1.058140857890583e-9,
          -2.2396416573404748e-11,
          8.50611376926767e-11,
          9.401940194018317e-10,
          8.884393593997989e-10,
          -6.185567010306833e-11,
          -8.333333333332581e-11,
          -1.0416666666666528e-9,
          -1.1282834812245912e-9,
          -9.253903990737483e-11,
          4.3407487791679376e-11,
          -1.2010809728754917e-10,
          -9.382226984591029e-10,
          -1.093392588719683e-9,
          -8.658008658006613e-11,
          8.90159625832238e-10,
          2.833900392195854e-9,
          2.899522597663143e-9,
          7.892733004288922e-10,
          -1.046627243707133e-9,
          3.308722450212111e-24,
          1.0255862400512606e-9,
          -6.580390436496667e-11,
          -1.0913901444162289e-9,
          -1.0101010101009866e-9,
          -1.0151768945738603e-9,
          -1.0967317394164999e-9,
          2.2878059940495387e-11,
          2.199926447842346e-9,
          2.2471910112359746e-9,
          -2.5536261491252565e-11,
          -2.247758483713494e-9,
          -1.1049037864680164e-9,
          1.1049037864680164e-9,
          2.1983330678982664e-9,
          -2.3889154323953626e-11,
          -1.1282834812246607e-9,
          0,
          0,
          -1.1108456760629924e-9,
          -2.185922891553633e-9,
          -1.0986442262739607e-9,
          1.6543612251060553e-24,
          1.046578493387021e-9,
          -2.2878059940498696e-11,
          -2.2878059940573142e-11,
          1.02268719877745e-9,
          3.699503897944733e-9,
          1.3325571192332203e-9,
          -2.4586913417052503e-9,
          -2.891191709844598e-9,
          -1.088332362647946e-9,
          1.0042112985379597e-9,
          9.382226984591029e-10,
          -1.5384615384607454e-10,
          -1.0247771045760833e-9,
          -4.0004000400036435e-11,
          -7.845444738648071e-11,
          -9.906875371509081e-11,
          2.1039343572461666e-11,
          1.0036546119020084e-9,
          1.9763694951664107e-9,
          8.163265306114716e-11,
          -1.1196283391405455e-9,
          -1.1916490734224775e-9,
          -1.2123661345728976e-10,
          -8.000800080007452e-11,
          -1.1321054424502278e-9,
          -1.6025641025636473e-10,
          9.673714846763871e-10,
          9.941359573171239e-10,
          -1.5709376534117648e-10,
          -9.52380952380734e-11,
          -1.0049751243780814e-9,
          0,
          1.069458516267013e-9,
          2.1510349835377245e-9,
          -1.9852334701272664e-23,
          -1.1212814645308967e-9,
          -1.6543612251060553e-24,
          0,
          0,
          -1.197520428289636e-9,
          -1.337613697164411e-10,
          -5.165956347670537e-11,
          -5.165956347664581e-11,
          -1.4092953995232307e-9,
          -1.3769591924315306e-9,
          2.5536261491317085e-11,
          9.152319628368296e-10,
          9.764358700528672e-10,
          -7.01426233341471e-11,
          1.0465784933869746e-9,
          0,
          -1.3023952095808386e-9,
          -2.4556508241555038e-9,
          -2.3431845403944296e-9,
          -1.1738261738261892e-9,
          0,
          1.0810168686148505e-9,
          1.0503175378602615e-9,
          1.1427812105507983e-9,
          1.1360598770382242e-9,
          1.1360598770382225e-9,
          -1.3439559454856969e-9,
          -1.275859741486859e-9,
          -2.5689224134227125e-9,
          -2.6513586906935665e-9,
          -1.196242851823207e-9,
          -2.555583950933075e-10,
          9.062995827701731e-10,
          1.0819692752803124e-9,
          2.3119868637110077e-9,
          1.028758475566967e-9,
          -1.711910002445659e-10,
          -1.136059877038211e-9,
          0,
          1.182644689186189e-9,
          -5.94972482522414e-11,
          -8.818342151672244e-11,
          -1.2407199370621444e-9,
          -1.275859741486922e-9,
          -1.2255316327714368e-9,
          -1.1904761904761971e-9,
          1.1688311688311475e-9,
          1.778358366654645e-10,
          1.718874193575586e-10,
          5.514258683605777e-10,
          5.449561099880919e-10,
          -8.65039735565083e-10,
          -4.202269225381448e-11,
          -7.124536905101414e-11,
          -8.730741012472455e-10,
          -1.1591661796220423e-9,
          -1.1806596701649054e-9,
          -5.2185841235726854e-12,
          1.1249433223708501e-9,
          5.067557983896919e-10,
          0,
          0,
          3.0781069642160613e-11,
          -9.695911453917695e-10,
          -1.008344312692124e-9,
          -4.658385093167756e-11,
          1.6087516087509537e-11,
          -1.0190847625469837e-9,
          -3.4614053305612454e-11,
          8.372305542117019e-10,
          1.1773940345367868e-10,
          -8.684324793748127e-11,
          -8.517402251726296e-10,
          3.8462107427624115e-10,
          3.308722450212111e-24,
          1.5592978704446067e-9,
          7.839038411289236e-11,
          -2.9299085710185107e-10,
          -1.153637293572413e-9,
          -3.797468354430385e-9
         ]
        }
       ],
       "layout": {
        "font": {
         "color": "Black",
         "family": "Roboto, sans-serif",
         "size": 18
        },
        "height": 556,
        "margin": {
         "b": 50,
         "l": 50,
         "r": 50,
         "t": 80
        },
        "paper_bgcolor": "white",
        "plot_bgcolor": "white",
        "shapes": [
         {
          "line": {
           "color": "black",
           "width": 2
          },
          "type": "rect",
          "x0": 0,
          "x1": 1,
          "xref": "paper",
          "y0": 0,
          "y1": 1,
          "yref": "paper"
         }
        ],
        "showlegend": true,
        "template": {
         "data": {
          "bar": [
           {
            "error_x": {
             "color": "#2a3f5f"
            },
            "error_y": {
             "color": "#2a3f5f"
            },
            "marker": {
             "line": {
              "color": "#E5ECF6",
              "width": 0.5
             },
             "pattern": {
              "fillmode": "overlay",
              "size": 10,
              "solidity": 0.2
             }
            },
            "type": "bar"
           }
          ],
          "barpolar": [
           {
            "marker": {
             "line": {
              "color": "#E5ECF6",
              "width": 0.5
             },
             "pattern": {
              "fillmode": "overlay",
              "size": 10,
              "solidity": 0.2
             }
            },
            "type": "barpolar"
           }
          ],
          "carpet": [
           {
            "aaxis": {
             "endlinecolor": "#2a3f5f",
             "gridcolor": "white",
             "linecolor": "white",
             "minorgridcolor": "white",
             "startlinecolor": "#2a3f5f"
            },
            "baxis": {
             "endlinecolor": "#2a3f5f",
             "gridcolor": "white",
             "linecolor": "white",
             "minorgridcolor": "white",
             "startlinecolor": "#2a3f5f"
            },
            "type": "carpet"
           }
          ],
          "choropleth": [
           {
            "colorbar": {
             "outlinewidth": 0,
             "ticks": ""
            },
            "type": "choropleth"
           }
          ],
          "contour": [
           {
            "colorbar": {
             "outlinewidth": 0,
             "ticks": ""
            },
            "colorscale": [
             [
              0,
              "#0d0887"
             ],
             [
              0.1111111111111111,
              "#46039f"
             ],
             [
              0.2222222222222222,
              "#7201a8"
             ],
             [
              0.3333333333333333,
              "#9c179e"
             ],
             [
              0.4444444444444444,
              "#bd3786"
             ],
             [
              0.5555555555555556,
              "#d8576b"
             ],
             [
              0.6666666666666666,
              "#ed7953"
             ],
             [
              0.7777777777777778,
              "#fb9f3a"
             ],
             [
              0.8888888888888888,
              "#fdca26"
             ],
             [
              1,
              "#f0f921"
             ]
            ],
            "type": "contour"
           }
          ],
          "contourcarpet": [
           {
            "colorbar": {
             "outlinewidth": 0,
             "ticks": ""
            },
            "type": "contourcarpet"
           }
          ],
          "heatmap": [
           {
            "colorbar": {
             "outlinewidth": 0,
             "ticks": ""
            },
            "colorscale": [
             [
              0,
              "#0d0887"
             ],
             [
              0.1111111111111111,
              "#46039f"
             ],
             [
              0.2222222222222222,
              "#7201a8"
             ],
             [
              0.3333333333333333,
              "#9c179e"
             ],
             [
              0.4444444444444444,
              "#bd3786"
             ],
             [
              0.5555555555555556,
              "#d8576b"
             ],
             [
              0.6666666666666666,
              "#ed7953"
             ],
             [
              0.7777777777777778,
              "#fb9f3a"
             ],
             [
              0.8888888888888888,
              "#fdca26"
             ],
             [
              1,
              "#f0f921"
             ]
            ],
            "type": "heatmap"
           }
          ],
          "heatmapgl": [
           {
            "colorbar": {
             "outlinewidth": 0,
             "ticks": ""
            },
            "colorscale": [
             [
              0,
              "#0d0887"
             ],
             [
              0.1111111111111111,
              "#46039f"
             ],
             [
              0.2222222222222222,
              "#7201a8"
             ],
             [
              0.3333333333333333,
              "#9c179e"
             ],
             [
              0.4444444444444444,
              "#bd3786"
             ],
             [
              0.5555555555555556,
              "#d8576b"
             ],
             [
              0.6666666666666666,
              "#ed7953"
             ],
             [
              0.7777777777777778,
              "#fb9f3a"
             ],
             [
              0.8888888888888888,
              "#fdca26"
             ],
             [
              1,
              "#f0f921"
             ]
            ],
            "type": "heatmapgl"
           }
          ],
          "histogram": [
           {
            "marker": {
             "pattern": {
              "fillmode": "overlay",
              "size": 10,
              "solidity": 0.2
             }
            },
            "type": "histogram"
           }
          ],
          "histogram2d": [
           {
            "colorbar": {
             "outlinewidth": 0,
             "ticks": ""
            },
            "colorscale": [
             [
              0,
              "#0d0887"
             ],
             [
              0.1111111111111111,
              "#46039f"
             ],
             [
              0.2222222222222222,
              "#7201a8"
             ],
             [
              0.3333333333333333,
              "#9c179e"
             ],
             [
              0.4444444444444444,
              "#bd3786"
             ],
             [
              0.5555555555555556,
              "#d8576b"
             ],
             [
              0.6666666666666666,
              "#ed7953"
             ],
             [
              0.7777777777777778,
              "#fb9f3a"
             ],
             [
              0.8888888888888888,
              "#fdca26"
             ],
             [
              1,
              "#f0f921"
             ]
            ],
            "type": "histogram2d"
           }
          ],
          "histogram2dcontour": [
           {
            "colorbar": {
             "outlinewidth": 0,
             "ticks": ""
            },
            "colorscale": [
             [
              0,
              "#0d0887"
             ],
             [
              0.1111111111111111,
              "#46039f"
             ],
             [
              0.2222222222222222,
              "#7201a8"
             ],
             [
              0.3333333333333333,
              "#9c179e"
             ],
             [
              0.4444444444444444,
              "#bd3786"
             ],
             [
              0.5555555555555556,
              "#d8576b"
             ],
             [
              0.6666666666666666,
              "#ed7953"
             ],
             [
              0.7777777777777778,
              "#fb9f3a"
             ],
             [
              0.8888888888888888,
              "#fdca26"
             ],
             [
              1,
              "#f0f921"
             ]
            ],
            "type": "histogram2dcontour"
           }
          ],
          "mesh3d": [
           {
            "colorbar": {
             "outlinewidth": 0,
             "ticks": ""
            },
            "type": "mesh3d"
           }
          ],
          "parcoords": [
           {
            "line": {
             "colorbar": {
              "outlinewidth": 0,
              "ticks": ""
             }
            },
            "type": "parcoords"
           }
          ],
          "pie": [
           {
            "automargin": true,
            "type": "pie"
           }
          ],
          "scatter": [
           {
            "fillpattern": {
             "fillmode": "overlay",
             "size": 10,
             "solidity": 0.2
            },
            "type": "scatter"
           }
          ],
          "scatter3d": [
           {
            "line": {
             "colorbar": {
              "outlinewidth": 0,
              "ticks": ""
             }
            },
            "marker": {
             "colorbar": {
              "outlinewidth": 0,
              "ticks": ""
             }
            },
            "type": "scatter3d"
           }
          ],
          "scattercarpet": [
           {
            "marker": {
             "colorbar": {
              "outlinewidth": 0,
              "ticks": ""
             }
            },
            "type": "scattercarpet"
           }
          ],
          "scattergeo": [
           {
            "marker": {
             "colorbar": {
              "outlinewidth": 0,
              "ticks": ""
             }
            },
            "type": "scattergeo"
           }
          ],
          "scattergl": [
           {
            "marker": {
             "colorbar": {
              "outlinewidth": 0,
              "ticks": ""
             }
            },
            "type": "scattergl"
           }
          ],
          "scattermapbox": [
           {
            "marker": {
             "colorbar": {
              "outlinewidth": 0,
              "ticks": ""
             }
            },
            "type": "scattermapbox"
           }
          ],
          "scatterpolar": [
           {
            "marker": {
             "colorbar": {
              "outlinewidth": 0,
              "ticks": ""
             }
            },
            "type": "scatterpolar"
           }
          ],
          "scatterpolargl": [
           {
            "marker": {
             "colorbar": {
              "outlinewidth": 0,
              "ticks": ""
             }
            },
            "type": "scatterpolargl"
           }
          ],
          "scatterternary": [
           {
            "marker": {
             "colorbar": {
              "outlinewidth": 0,
              "ticks": ""
             }
            },
            "type": "scatterternary"
           }
          ],
          "surface": [
           {
            "colorbar": {
             "outlinewidth": 0,
             "ticks": ""
            },
            "colorscale": [
             [
              0,
              "#0d0887"
             ],
             [
              0.1111111111111111,
              "#46039f"
             ],
             [
              0.2222222222222222,
              "#7201a8"
             ],
             [
              0.3333333333333333,
              "#9c179e"
             ],
             [
              0.4444444444444444,
              "#bd3786"
             ],
             [
              0.5555555555555556,
              "#d8576b"
             ],
             [
              0.6666666666666666,
              "#ed7953"
             ],
             [
              0.7777777777777778,
              "#fb9f3a"
             ],
             [
              0.8888888888888888,
              "#fdca26"
             ],
             [
              1,
              "#f0f921"
             ]
            ],
            "type": "surface"
           }
          ],
          "table": [
           {
            "cells": {
             "fill": {
              "color": "#EBF0F8"
             },
             "line": {
              "color": "white"
             }
            },
            "header": {
             "fill": {
              "color": "#C8D4E3"
             },
             "line": {
              "color": "white"
             }
            },
            "type": "table"
           }
          ]
         },
         "layout": {
          "annotationdefaults": {
           "arrowcolor": "#2a3f5f",
           "arrowhead": 0,
           "arrowwidth": 1
          },
          "autotypenumbers": "strict",
          "coloraxis": {
           "colorbar": {
            "outlinewidth": 0,
            "ticks": ""
           }
          },
          "colorscale": {
           "diverging": [
            [
             0,
             "#8e0152"
            ],
            [
             0.1,
             "#c51b7d"
            ],
            [
             0.2,
             "#de77ae"
            ],
            [
             0.3,
             "#f1b6da"
            ],
            [
             0.4,
             "#fde0ef"
            ],
            [
             0.5,
             "#f7f7f7"
            ],
            [
             0.6,
             "#e6f5d0"
            ],
            [
             0.7,
             "#b8e186"
            ],
            [
             0.8,
             "#7fbc41"
            ],
            [
             0.9,
             "#4d9221"
            ],
            [
             1,
             "#276419"
            ]
           ],
           "sequential": [
            [
             0,
             "#0d0887"
            ],
            [
             0.1111111111111111,
             "#46039f"
            ],
            [
             0.2222222222222222,
             "#7201a8"
            ],
            [
             0.3333333333333333,
             "#9c179e"
            ],
            [
             0.4444444444444444,
             "#bd3786"
            ],
            [
             0.5555555555555556,
             "#d8576b"
            ],
            [
             0.6666666666666666,
             "#ed7953"
            ],
            [
             0.7777777777777778,
             "#fb9f3a"
            ],
            [
             0.8888888888888888,
             "#fdca26"
            ],
            [
             1,
             "#f0f921"
            ]
           ],
           "sequentialminus": [
            [
             0,
             "#0d0887"
            ],
            [
             0.1111111111111111,
             "#46039f"
            ],
            [
             0.2222222222222222,
             "#7201a8"
            ],
            [
             0.3333333333333333,
             "#9c179e"
            ],
            [
             0.4444444444444444,
             "#bd3786"
            ],
            [
             0.5555555555555556,
             "#d8576b"
            ],
            [
             0.6666666666666666,
             "#ed7953"
            ],
            [
             0.7777777777777778,
             "#fb9f3a"
            ],
            [
             0.8888888888888888,
             "#fdca26"
            ],
            [
             1,
             "#f0f921"
            ]
           ]
          },
          "colorway": [
           "#636efa",
           "#EF553B",
           "#00cc96",
           "#ab63fa",
           "#FFA15A",
           "#19d3f3",
           "#FF6692",
           "#B6E880",
           "#FF97FF",
           "#FECB52"
          ],
          "font": {
           "color": "#2a3f5f"
          },
          "geo": {
           "bgcolor": "white",
           "lakecolor": "white",
           "landcolor": "#E5ECF6",
           "showlakes": true,
           "showland": true,
           "subunitcolor": "white"
          },
          "hoverlabel": {
           "align": "left"
          },
          "hovermode": "closest",
          "mapbox": {
           "style": "light"
          },
          "paper_bgcolor": "white",
          "plot_bgcolor": "#E5ECF6",
          "polar": {
           "angularaxis": {
            "gridcolor": "white",
            "linecolor": "white",
            "ticks": ""
           },
           "bgcolor": "#E5ECF6",
           "radialaxis": {
            "gridcolor": "white",
            "linecolor": "white",
            "ticks": ""
           }
          },
          "scene": {
           "xaxis": {
            "backgroundcolor": "#E5ECF6",
            "gridcolor": "white",
            "gridwidth": 2,
            "linecolor": "white",
            "showbackground": true,
            "ticks": "",
            "zerolinecolor": "white"
           },
           "yaxis": {
            "backgroundcolor": "#E5ECF6",
            "gridcolor": "white",
            "gridwidth": 2,
            "linecolor": "white",
            "showbackground": true,
            "ticks": "",
            "zerolinecolor": "white"
           },
           "zaxis": {
            "backgroundcolor": "#E5ECF6",
            "gridcolor": "white",
            "gridwidth": 2,
            "linecolor": "white",
            "showbackground": true,
            "ticks": "",
            "zerolinecolor": "white"
           }
          },
          "shapedefaults": {
           "line": {
            "color": "#2a3f5f"
           }
          },
          "ternary": {
           "aaxis": {
            "gridcolor": "white",
            "linecolor": "white",
            "ticks": ""
           },
           "baxis": {
            "gridcolor": "white",
            "linecolor": "white",
            "ticks": ""
           },
           "bgcolor": "#E5ECF6",
           "caxis": {
            "gridcolor": "white",
            "linecolor": "white",
            "ticks": ""
           }
          },
          "title": {
           "x": 0.05
          },
          "xaxis": {
           "automargin": true,
           "gridcolor": "white",
           "linecolor": "white",
           "ticks": "",
           "title": {
            "standoff": 15
           },
           "zerolinecolor": "white",
           "zerolinewidth": 2
          },
          "yaxis": {
           "automargin": true,
           "gridcolor": "white",
           "linecolor": "white",
           "ticks": "",
           "title": {
            "standoff": 15
           },
           "zerolinecolor": "white",
           "zerolinewidth": 2
          }
         }
        },
        "title": {
         "text": "goeth_C02 - dX/dT",
         "x": 0.5,
         "xanchor": "center"
        },
        "width": 900,
        "xaxis": {
         "dtick": 100,
         "gridcolor": "lightgray",
         "gridwidth": 1,
         "linecolor": "black",
         "linewidth": 1,
         "showline": true,
         "tick0": 0,
         "title": {
          "text": "Temperature (&deg;C)"
         }
        },
        "yaxis": {
         "autorange": true,
         "gridcolor": "lightgray",
         "gridwidth": 1,
         "linecolor": "black",
         "linewidth": 1,
         "showline": true,
         "tickformat": ".1e",
         "title": {
          "text": "dX/dT"
         }
        }
       }
      }
     },
     "metadata": {},
     "output_type": "display_data"
    },
    {
     "data": {
      "application/vnd.plotly.v1+json": {
       "config": {
        "plotlyServerURL": "https://plot.ly"
       },
       "data": [
        {
         "line": {
          "color": "red"
         },
         "mode": "markers+lines",
         "name": "Heating - 1/X smoothed",
         "type": "scatter",
         "x": [
          25.50000000000003,
          27.650000000000034,
          29.50000000000003,
          37.450000000000045,
          45.20000000000002,
          47.58333333333335,
          52.08333333333335,
          56.25000000000002,
          59.88333333333335,
          63.18333333333336,
          66.08333333333336,
          68.8166666666667,
          71.58333333333337,
          74.4166666666667,
          77.28333333333336,
          80.0166666666667,
          82.65000000000002,
          85.25000000000001,
          87.85000000000002,
          90.48333333333336,
          93.18333333333338,
          97.17500000000004,
          99.77500000000003,
          99.77500000000003,
          102.32500000000003,
          106.2166666666667,
          108.8166666666667,
          111.45000000000003,
          113.95000000000003,
          116.61666666666669,
          119.18333333333335,
          121.95,
          124.58333333333333,
          127.41666666666667,
          130.25,
          133.28333333333333,
          136.3166666666667,
          139.35000000000002,
          142.25000000000003,
          145.05,
          147.91666666666669,
          150.91666666666669,
          154.01666666666668,
          157.11666666666667,
          160.05,
          162.91666666666669,
          165.55000000000004,
          168.2166666666667,
          170.85000000000002,
          173.7166666666667,
          176.58333333333334,
          179.65,
          182.6166666666667,
          185.65,
          188.68333333333337,
          191.88333333333335,
          195.08333333333334,
          198.1166666666667,
          201.08333333333337,
          204.2166666666667,
          207.38333333333335,
          210.45000000000005,
          213.48333333333335,
          216.48333333333335,
          219.58333333333337,
          222.51666666666674,
          225.45000000000005,
          228.25,
          231.28333333333333,
          234.51666666666668,
          237.98333333333335,
          241.45000000000005,
          244.95000000000005,
          248.45000000000005,
          251.95000000000005,
          255.2833333333334,
          258.68333333333334,
          261.95,
          265.45,
          268.9166666666667,
          272.58333333333337,
          276.18333333333334,
          279.75,
          283.21666666666664,
          286.6166666666667,
          289.95,
          293.25000000000006,
          296.5166666666667,
          299.75000000000006,
          302.9166666666667,
          306.05,
          309.15000000000003,
          312.21666666666664,
          315.25,
          318.3833333333333,
          321.55,
          324.81666666666666,
          327.85,
          330.9166666666667,
          333.9166666666667,
          336.9833333333334,
          339.8166666666667,
          342.75,
          345.9166666666667,
          349.55,
          353.4166666666667,
          357.61666666666673,
          362.05,
          366.5166666666667,
          370.6166666666666,
          374.48333333333335,
          377.98333333333335,
          381.48333333333335,
          384.81666666666666,
          388.2166666666667,
          391.48333333333335,
          394.6833333333334,
          397.65000000000003,
          400.5833333333333,
          403.4833333333334,
          406.55,
          409.45,
          412.45,
          415.31666666666666,
          418.48333333333335,
          421.65000000000003,
          425.05,
          428.4833333333334,
          431.95000000000005,
          435.3500000000001,
          438.8500000000001,
          442.2166666666667,
          445.5166666666667,
          448.5166666666667,
          451.61666666666673,
          454.7166666666667,
          458.1166666666666,
          461.45,
          464.81666666666666,
          468.05,
          471.3500000000001,
          474.6166666666666,
          477.75,
          480.65000000000003,
          483.48333333333335,
          486.3833333333334,
          489.3500000000001,
          492.31666666666666,
          495.25,
          498.2833333333333,
          501.31666666666666,
          504.31666666666666,
          507.31666666666666,
          510.45,
          513.4499999999999,
          516.35,
          519.1500000000001,
          522.0833333333334,
          524.95,
          527.9166666666667,
          530.75,
          533.5833333333334,
          536.4500000000002,
          539.4500000000002,
          542.6833333333334,
          545.7166666666667,
          548.65,
          551.3833333333333,
          554.3833333333333,
          557.65,
          561.1166666666667,
          564.5166666666668,
          567.7833333333334,
          570.8166666666667,
          573.7833333333333,
          576.7166666666667,
          579.75,
          582.6166666666667,
          585.4166666666666,
          588.15,
          591.15,
          594.1500000000001,
          597.15,
          600.1166666666667,
          603.2833333333333,
          606.4833333333335,
          609.6833333333334,
          612.8166666666667,
          615.9833333333335,
          618.9833333333335,
          621.8166666666667,
          624.6833333333334,
          627.6166666666667,
          630.7833333333333,
          634.0166666666668,
          637.1500000000001,
          641.25,
          644.9357142857143,
          644.9357142857143,
          645.75,
          645.75,
          645.75,
          645.75
         ],
         "y": [
          276243.093922652,
          276497.6958525346,
          275482.0936639119,
          273972.60273972614,
          273972.60273972614,
          273473.10847766645,
          271985.4941069811,
          271493.21266968333,
          270513.9765554554,
          270027.0027002701,
          268817.20430107525,
          268096.5147453083,
          266429.8401420959,
          266429.8401420959,
          265486.72566371685,
          265486.72566371685,
          264084.50704225356,
          264084.50704225356,
          263157.89473684214,
          262697.0227670754,
          261324.04181184675,
          259909.03183885646,
          259235.25599481535,
          259235.25599481535,
          257731.95876288664,
          256849.31506849316,
          255319.1489361702,
          255319.1489361702,
          253592.56128486904,
          253164.55696202535,
          251889.16876574312,
          251889.16876574312,
          250626.56641604015,
          250626.56641604015,
          249791.8401332224,
          249791.8401332224,
          248344.3708609272,
          247320.6924979391,
          246305.4187192119,
          246305.4187192119,
          245901.63934426237,
          245901.63934426237,
          245098.03921568632,
          244698.2055464927,
          243902.43902439027,
          243902.43902439027,
          243506.4935064935,
          243506.4935064935,
          243111.83144246356,
          243111.83144246356,
          241740.53182917004,
          241351.56878519716,
          240000.00000000003,
          240000.00000000003,
          239043.8247011953,
          238663.48448687358,
          237906.42347343388,
          237154.15019762854,
          236406.61938534284,
          235663.7863315004,
          234925.60689115114,
          234192.037470726,
          233463.03501945527,
          232198.1424148607,
          231303.00693909026,
          230061.34969325157,
          229357.79816513768,
          227963.5258358663,
          227272.7272727273,
          225733.63431151246,
          225733.63431151246,
          224215.2466367713,
          224215.2466367713,
          222717.14922049,
          222717.14922049,
          221729.49002217298,
          222057.73501110295,
          221729.49002217298,
          222386.95329873983,
          221729.49002217298,
          221729.49002217298,
          221075.90272660286,
          221729.49002217298,
          221729.49002217298,
          222717.14922049,
          223048.3271375465,
          224550.89820359283,
          225394.4402704733,
          227272.7272727273,
          228310.50228310504,
          230946.8822170901,
          232919.25465838512,
          236406.61938534284,
          239234.44976076556,
          242914.9797570851,
          246507.80608052597,
          251889.16876574318,
          257069.40874035994,
          264783.7599293911,
          272975.43221110106,
          285714.2857142858,
          298507.4626865673,
          313807.5313807532,
          328587.0755750274,
          346420.32332563517,
          363636.36363636376,
          385604.11311053997,
          408163.2653061226,
          437956.2043795622,
          470957.6138147566,
          516351.11876075744,
          575815.7389635319,
          656455.142231948,
          731707.3170731711,
          789473.6842105269,
          813008.1300813014,
          842696.629213484,
          857142.8571428579,
          884955.7522123898,
          892857.1428571433,
          923076.9230769237,
          928792.5696594433,
          958466.4536741222,
          970873.7864077677,
          996677.7408637885,
          1003344.4816053521,
          1020408.1632653071,
          1030927.8350515473,
          1063829.7872340432,
          1079136.6906474826,
          1102941.1764705884,
          1102941.1764705884,
          1127819.5488721812,
          1153846.1538461552,
          1195219.123505978,
          1219512.1951219528,
          1244813.2780083,
          1265822.784810128,
          1298701.2987012998,
          1321585.9030837014,
          1357466.063348417,
          1382488.479262673,
          1408450.7042253523,
          1442307.6923076932,
          1492537.3134328376,
          1546391.7525773223,
          1562500.0000000026,
          1595744.6808510663,
          1595744.6808510663,
          1630434.7826086977,
          1630434.7826086977,
          1734104.046242776,
          1775147.9289940856,
          1875000.000000002,
          1875000.000000002,
          1935483.8709677416,
          1960784.3137254894,
          2040816.3265306107,
          2097902.0979020954,
          2158273.381294961,
          2222222.222222224,
          2255639.0977443624,
          2325581.395348844,
          2325581.395348844,
          2400000.000000013,
          2362204.724409462,
          2459016.393442633,
          2521008.4033613508,
          2727272.727272728,
          2727272.727272728,
          2830188.679245283,
          2830188.679245283,
          3061224.489795916,
          3191489.3617021237,
          3614457.831325299,
          3797468.354430375,
          4285714.285714285,
          4687499.999999995,
          5660377.358490566,
          6122448.979591832,
          6666666.666666655,
          7894736.8421052685,
          11111111.111111147,
          12500000.00000012,
          15000000.000000143,
          16666666.666666826,
          30000000.000000287,
          30000000.000000287,
          37500000.00000036,
          50000000.00000048,
          75000000.00000072,
          75000000.00000072,
          50000000.00000048,
          37500000.00000036,
          30000000.000000287,
          21428571.428571634,
          18181818.181818355,
          15909090.909091063,
          15909090.909091063,
          15789473.684210679,
          15789473.684210679,
          15789473.684210679,
          15789473.684210679
         ]
        },
        {
         "line": {
          "color": "blue"
         },
         "mode": "markers+lines",
         "name": "Cooling - 1/X smoothed",
         "type": "scatter",
         "x": [
          645.075,
          644.35,
          643.5500000000001,
          643.5500000000001,
          641.9666666666667,
          640.1,
          637.07,
          634.8500000000001,
          632.61,
          630.47,
          628.45,
          626.4100000000001,
          624.3100000000001,
          623.3000000000001,
          620.95,
          617.1833333333334,
          614.4833333333333,
          611.7833333333334,
          608.9833333333335,
          606.25,
          602.325,
          601.0500000000001,
          599.7,
          595.75,
          593.0833333333334,
          590.45,
          586.575,
          585.25,
          583.85,
          579.8166666666667,
          577.0166666666668,
          574.3833333333333,
          571.7166666666667,
          568.8833333333333,
          566.0500000000001,
          563.2166666666667,
          560.5833333333334,
          557.8166666666667,
          554.9166666666666,
          551.8166666666667,
          548.65,
          545.5833333333334,
          542.5500000000001,
          539.5166666666668,
          536.4166666666666,
          533.2833333333333,
          530.0833333333334,
          526.8166666666667,
          523.5500000000001,
          520.45,
          517.4166666666667,
          514.4833333333335,
          511.48333333333335,
          508.3833333333334,
          505.2833333333333,
          502.15000000000003,
          498.98333333333335,
          495.6833333333334,
          492.31666666666666,
          489.0833333333333,
          485.75,
          482.55,
          479.3500000000001,
          476.31666666666666,
          473.15000000000003,
          469.9166666666667,
          466.48333333333335,
          463.0166666666667,
          459.3500000000001,
          455.8500000000001,
          452.2833333333333,
          448.9166666666667,
          445.45000000000005,
          442.2166666666667,
          438.8833333333334,
          435.6833333333334,
          432.45000000000005,
          429.31666666666666,
          426.0166666666667,
          422.7166666666667,
          419.3833333333334,
          416.25,
          413.1499999999999,
          410.18333333333334,
          407.2166666666667,
          404.2833333333333,
          401.2833333333333,
          398.31666666666666,
          395.31666666666666,
          392.25,
          389.2166666666667,
          386.0166666666667,
          382.95,
          379.8500000000001,
          376.81666666666666,
          373.75,
          370.6166666666666,
          367.5833333333333,
          364.45000000000005,
          361.3500000000001,
          358.2166666666667,
          355.31666666666666,
          352.55,
          349.7166666666667,
          346.6166666666666,
          343.2833333333333,
          339.8833333333334,
          336.45000000000005,
          332.9833333333334,
          329.65000000000003,
          326.28333333333336,
          322.98333333333335,
          319.55,
          316.28333333333336,
          313.05,
          309.9833333333334,
          306.7166666666667,
          303.3833333333334,
          299.8833333333334,
          296.61666666666673,
          293.25000000000006,
          289.95000000000005,
          286.4833333333334,
          283.28333333333336,
          280.0166666666667,
          276.78333333333336,
          273.28333333333336,
          269.95,
          266.5833333333333,
          263.4166666666667,
          260.28333333333336,
          257.2166666666667,
          254.15000000000006,
          250.8833333333334,
          247.7833333333334,
          244.75000000000003,
          241.9166666666667,
          239.1166666666667,
          236.15,
          233.25,
          230.2833333333334,
          227.51666666666668,
          224.58333333333334,
          221.61666666666667,
          218.48333333333335,
          215.45000000000005,
          212.3166666666667,
          209.2833333333334,
          206.38333333333335,
          203.7166666666667,
          200.95000000000005,
          198.01666666666674,
          194.88333333333335,
          191.85000000000002,
          188.78333333333333,
          185.91666666666666,
          183.01666666666668,
          180.18333333333337,
          177.2833333333334,
          174.51666666666668,
          171.68333333333337,
          168.95000000000002,
          166.05,
          163.18333333333337,
          160.15000000000003,
          157.3166666666667,
          154.4166666666667,
          151.48333333333338,
          148.35000000000002,
          145.45000000000002,
          142.61666666666667,
          139.95000000000002,
          137.18333333333337,
          134.48333333333335,
          131.68333333333337,
          128.91666666666669,
          126.08333333333336,
          123.28333333333336,
          120.48333333333335,
          117.78333333333336,
          113.92500000000001,
          111.37500000000001,
          110.15,
          107.69000000000001,
          105.33000000000001,
          102.91000000000001,
          100.59000000000002,
          98.21000000000002,
          97.05000000000003,
          93.37000000000003,
          89.72500000000002,
          88.53000000000002,
          86.23000000000002,
          83.93000000000002,
          81.63000000000002,
          79.37000000000002,
          77.17000000000002,
          74.87000000000002,
          72.63000000000002,
          70.41000000000003,
          68.27000000000002,
          66.11000000000004,
          64.03000000000004,
          62.070000000000036,
          60.19000000000003,
          57.483333333333356,
          55.75000000000002,
          54.08333333333335,
          53.264285714285734,
          52.416666666666686,
          51.59000000000002,
          50.800000000000026
         ],
         "y": [
          13333333.33333346,
          13888888.888889022,
          15000000.000000143,
          15000000.000000143,
          15000000.000000143,
          15789473.684210679,
          17857142.85714303,
          17857142.85714303,
          17857142.85714303,
          20833333.333333533,
          22727272.727272943,
          25000000.00000024,
          25000000.00000024,
          25000000.00000024,
          22222222.222222436,
          18750000.00000018,
          21428571.428571634,
          30000000.000000287,
          37500000.00000036,
          50000000.00000048,
          33333333.333333652,
          37500000.00000036,
          33333333.333333652,
          30000000.000000287,
          25000000.00000024,
          30000000.000000287,
          25000000.00000024,
          30000000.000000287,
          33333333.333333652,
          25000000.00000024,
          30000000.000000287,
          21428571.428571634,
          16666666.666666826,
          15000000.000000143,
          15000000.000000143,
          16666666.666666826,
          18750000.00000018,
          16666666.666666826,
          18750000.00000018,
          13636363.636363767,
          13636363.636363767,
          11538461.538461648,
          12500000.00000012,
          12500000.00000012,
          13636363.636363767,
          12500000.00000012,
          13636363.636363767,
          12500000.00000012,
          13636363.636363767,
          11538461.538461648,
          11538461.538461648,
          11538461.538461648,
          12500000.00000012,
          12500000.00000012,
          12500000.00000012,
          11538461.538461648,
          12500000.00000012,
          11538461.538461648,
          13636363.636363767,
          12500000.00000012,
          13636363.636363767,
          12500000.00000012,
          12500000.00000012,
          11538461.538461648,
          12500000.00000012,
          11538461.538461648,
          12500000.00000012,
          10714285.714285817,
          11538461.538461648,
          10714285.714285817,
          12500000.00000012,
          13636363.636363767,
          16666666.666666826,
          15000000.000000143,
          15000000.000000143,
          15000000.000000143,
          16666666.666666826,
          15000000.000000143,
          15000000.000000143,
          13636363.636363767,
          13636363.636363767,
          12500000.00000012,
          13636363.636363767,
          15000000.000000143,
          16666666.666666826,
          15000000.000000143,
          13636363.636363767,
          13636363.636363767,
          15000000.000000143,
          16666666.666666826,
          15000000.000000143,
          15000000.000000143,
          15000000.000000143,
          15000000.000000143,
          13636363.636363767,
          12500000.00000012,
          12500000.00000012,
          12500000.00000012,
          13636363.636363767,
          12500000.00000012,
          13636363.636363767,
          13636363.636363767,
          18750000.00000018,
          15000000.000000143,
          15000000.000000143,
          11538461.538461648,
          13636363.636363767,
          12500000.00000012,
          15000000.000000143,
          12500000.00000012,
          13636363.636363767,
          12500000.00000012,
          13636363.636363767,
          12500000.00000012,
          13636363.636363767,
          13636363.636363767,
          16666666.666666826,
          13636363.636363767,
          15000000.000000143,
          12500000.00000012,
          15000000.000000143,
          12500000.00000012,
          13636363.636363767,
          12500000.00000012,
          15000000.000000143,
          13636363.636363767,
          15000000.000000143,
          13636363.636363767,
          13636363.636363767,
          13636363.636363767,
          15000000.000000143,
          16666666.666666826,
          15000000.000000143,
          15000000.000000143,
          15000000.000000143,
          15000000.000000143,
          15000000.000000143,
          13636363.636363767,
          15000000.000000143,
          13636363.636363767,
          15000000.000000143,
          12500000.00000012,
          13636363.636363767,
          12500000.00000012,
          15000000.000000143,
          13636363.636363767,
          15000000.000000143,
          15000000.000000143,
          15000000.000000143,
          13636363.636363767,
          12500000.00000012,
          11538461.538461648,
          11538461.538461648,
          11538461.538461648,
          12500000.00000012,
          12500000.00000012,
          13636363.636363767,
          13636363.636363767,
          15000000.000000143,
          12500000.00000012,
          13636363.636363767,
          10714285.714285817,
          11538461.538461648,
          10000000.000000095,
          11538461.538461648,
          10714285.714285817,
          12500000.00000012,
          12500000.00000012,
          13636363.636363767,
          12500000.00000012,
          12500000.00000012,
          12500000.00000012,
          13636363.636363767,
          12500000.00000012,
          13636363.636363767,
          11538461.538461648,
          12500000.00000012,
          10714285.714285817,
          11538461.538461648,
          11538461.538461648,
          11764705.882353054,
          11764705.882353054,
          11904761.90476202,
          11904761.90476202,
          11363636.363636471,
          11904761.90476202,
          11363636.363636471,
          11363636.363636471,
          11111111.111111218,
          11363636.363636471,
          11111111.111111218,
          11363636.363636471,
          10869565.217391409,
          11363636.363636471,
          10869565.217391409,
          11363636.363636471,
          10416666.666666767,
          10869565.217391409,
          10416666.666666767,
          10869565.217391409,
          10000000.000000095,
          10869565.217391409,
          10416666.666666767,
          10869565.217391409,
          10416666.666666767,
          10714285.714285817,
          10714285.714285817,
          10714285.714285817,
          10937500.000000104,
          10714285.714285817,
          10869565.217391409,
          10526315.789473785
         ]
        }
       ],
       "layout": {
        "font": {
         "color": "Black",
         "family": "Roboto, sans-serif",
         "size": 18
        },
        "height": 556,
        "margin": {
         "b": 50,
         "l": 50,
         "r": 50,
         "t": 80
        },
        "paper_bgcolor": "white",
        "plot_bgcolor": "white",
        "shapes": [
         {
          "line": {
           "color": "black",
           "width": 2
          },
          "type": "rect",
          "x0": 0,
          "x1": 1,
          "xref": "paper",
          "y0": 0,
          "y1": 1,
          "yref": "paper"
         }
        ],
        "showlegend": true,
        "template": {
         "data": {
          "bar": [
           {
            "error_x": {
             "color": "#2a3f5f"
            },
            "error_y": {
             "color": "#2a3f5f"
            },
            "marker": {
             "line": {
              "color": "#E5ECF6",
              "width": 0.5
             },
             "pattern": {
              "fillmode": "overlay",
              "size": 10,
              "solidity": 0.2
             }
            },
            "type": "bar"
           }
          ],
          "barpolar": [
           {
            "marker": {
             "line": {
              "color": "#E5ECF6",
              "width": 0.5
             },
             "pattern": {
              "fillmode": "overlay",
              "size": 10,
              "solidity": 0.2
             }
            },
            "type": "barpolar"
           }
          ],
          "carpet": [
           {
            "aaxis": {
             "endlinecolor": "#2a3f5f",
             "gridcolor": "white",
             "linecolor": "white",
             "minorgridcolor": "white",
             "startlinecolor": "#2a3f5f"
            },
            "baxis": {
             "endlinecolor": "#2a3f5f",
             "gridcolor": "white",
             "linecolor": "white",
             "minorgridcolor": "white",
             "startlinecolor": "#2a3f5f"
            },
            "type": "carpet"
           }
          ],
          "choropleth": [
           {
            "colorbar": {
             "outlinewidth": 0,
             "ticks": ""
            },
            "type": "choropleth"
           }
          ],
          "contour": [
           {
            "colorbar": {
             "outlinewidth": 0,
             "ticks": ""
            },
            "colorscale": [
             [
              0,
              "#0d0887"
             ],
             [
              0.1111111111111111,
              "#46039f"
             ],
             [
              0.2222222222222222,
              "#7201a8"
             ],
             [
              0.3333333333333333,
              "#9c179e"
             ],
             [
              0.4444444444444444,
              "#bd3786"
             ],
             [
              0.5555555555555556,
              "#d8576b"
             ],
             [
              0.6666666666666666,
              "#ed7953"
             ],
             [
              0.7777777777777778,
              "#fb9f3a"
             ],
             [
              0.8888888888888888,
              "#fdca26"
             ],
             [
              1,
              "#f0f921"
             ]
            ],
            "type": "contour"
           }
          ],
          "contourcarpet": [
           {
            "colorbar": {
             "outlinewidth": 0,
             "ticks": ""
            },
            "type": "contourcarpet"
           }
          ],
          "heatmap": [
           {
            "colorbar": {
             "outlinewidth": 0,
             "ticks": ""
            },
            "colorscale": [
             [
              0,
              "#0d0887"
             ],
             [
              0.1111111111111111,
              "#46039f"
             ],
             [
              0.2222222222222222,
              "#7201a8"
             ],
             [
              0.3333333333333333,
              "#9c179e"
             ],
             [
              0.4444444444444444,
              "#bd3786"
             ],
             [
              0.5555555555555556,
              "#d8576b"
             ],
             [
              0.6666666666666666,
              "#ed7953"
             ],
             [
              0.7777777777777778,
              "#fb9f3a"
             ],
             [
              0.8888888888888888,
              "#fdca26"
             ],
             [
              1,
              "#f0f921"
             ]
            ],
            "type": "heatmap"
           }
          ],
          "heatmapgl": [
           {
            "colorbar": {
             "outlinewidth": 0,
             "ticks": ""
            },
            "colorscale": [
             [
              0,
              "#0d0887"
             ],
             [
              0.1111111111111111,
              "#46039f"
             ],
             [
              0.2222222222222222,
              "#7201a8"
             ],
             [
              0.3333333333333333,
              "#9c179e"
             ],
             [
              0.4444444444444444,
              "#bd3786"
             ],
             [
              0.5555555555555556,
              "#d8576b"
             ],
             [
              0.6666666666666666,
              "#ed7953"
             ],
             [
              0.7777777777777778,
              "#fb9f3a"
             ],
             [
              0.8888888888888888,
              "#fdca26"
             ],
             [
              1,
              "#f0f921"
             ]
            ],
            "type": "heatmapgl"
           }
          ],
          "histogram": [
           {
            "marker": {
             "pattern": {
              "fillmode": "overlay",
              "size": 10,
              "solidity": 0.2
             }
            },
            "type": "histogram"
           }
          ],
          "histogram2d": [
           {
            "colorbar": {
             "outlinewidth": 0,
             "ticks": ""
            },
            "colorscale": [
             [
              0,
              "#0d0887"
             ],
             [
              0.1111111111111111,
              "#46039f"
             ],
             [
              0.2222222222222222,
              "#7201a8"
             ],
             [
              0.3333333333333333,
              "#9c179e"
             ],
             [
              0.4444444444444444,
              "#bd3786"
             ],
             [
              0.5555555555555556,
              "#d8576b"
             ],
             [
              0.6666666666666666,
              "#ed7953"
             ],
             [
              0.7777777777777778,
              "#fb9f3a"
             ],
             [
              0.8888888888888888,
              "#fdca26"
             ],
             [
              1,
              "#f0f921"
             ]
            ],
            "type": "histogram2d"
           }
          ],
          "histogram2dcontour": [
           {
            "colorbar": {
             "outlinewidth": 0,
             "ticks": ""
            },
            "colorscale": [
             [
              0,
              "#0d0887"
             ],
             [
              0.1111111111111111,
              "#46039f"
             ],
             [
              0.2222222222222222,
              "#7201a8"
             ],
             [
              0.3333333333333333,
              "#9c179e"
             ],
             [
              0.4444444444444444,
              "#bd3786"
             ],
             [
              0.5555555555555556,
              "#d8576b"
             ],
             [
              0.6666666666666666,
              "#ed7953"
             ],
             [
              0.7777777777777778,
              "#fb9f3a"
             ],
             [
              0.8888888888888888,
              "#fdca26"
             ],
             [
              1,
              "#f0f921"
             ]
            ],
            "type": "histogram2dcontour"
           }
          ],
          "mesh3d": [
           {
            "colorbar": {
             "outlinewidth": 0,
             "ticks": ""
            },
            "type": "mesh3d"
           }
          ],
          "parcoords": [
           {
            "line": {
             "colorbar": {
              "outlinewidth": 0,
              "ticks": ""
             }
            },
            "type": "parcoords"
           }
          ],
          "pie": [
           {
            "automargin": true,
            "type": "pie"
           }
          ],
          "scatter": [
           {
            "fillpattern": {
             "fillmode": "overlay",
             "size": 10,
             "solidity": 0.2
            },
            "type": "scatter"
           }
          ],
          "scatter3d": [
           {
            "line": {
             "colorbar": {
              "outlinewidth": 0,
              "ticks": ""
             }
            },
            "marker": {
             "colorbar": {
              "outlinewidth": 0,
              "ticks": ""
             }
            },
            "type": "scatter3d"
           }
          ],
          "scattercarpet": [
           {
            "marker": {
             "colorbar": {
              "outlinewidth": 0,
              "ticks": ""
             }
            },
            "type": "scattercarpet"
           }
          ],
          "scattergeo": [
           {
            "marker": {
             "colorbar": {
              "outlinewidth": 0,
              "ticks": ""
             }
            },
            "type": "scattergeo"
           }
          ],
          "scattergl": [
           {
            "marker": {
             "colorbar": {
              "outlinewidth": 0,
              "ticks": ""
             }
            },
            "type": "scattergl"
           }
          ],
          "scattermapbox": [
           {
            "marker": {
             "colorbar": {
              "outlinewidth": 0,
              "ticks": ""
             }
            },
            "type": "scattermapbox"
           }
          ],
          "scatterpolar": [
           {
            "marker": {
             "colorbar": {
              "outlinewidth": 0,
              "ticks": ""
             }
            },
            "type": "scatterpolar"
           }
          ],
          "scatterpolargl": [
           {
            "marker": {
             "colorbar": {
              "outlinewidth": 0,
              "ticks": ""
             }
            },
            "type": "scatterpolargl"
           }
          ],
          "scatterternary": [
           {
            "marker": {
             "colorbar": {
              "outlinewidth": 0,
              "ticks": ""
             }
            },
            "type": "scatterternary"
           }
          ],
          "surface": [
           {
            "colorbar": {
             "outlinewidth": 0,
             "ticks": ""
            },
            "colorscale": [
             [
              0,
              "#0d0887"
             ],
             [
              0.1111111111111111,
              "#46039f"
             ],
             [
              0.2222222222222222,
              "#7201a8"
             ],
             [
              0.3333333333333333,
              "#9c179e"
             ],
             [
              0.4444444444444444,
              "#bd3786"
             ],
             [
              0.5555555555555556,
              "#d8576b"
             ],
             [
              0.6666666666666666,
              "#ed7953"
             ],
             [
              0.7777777777777778,
              "#fb9f3a"
             ],
             [
              0.8888888888888888,
              "#fdca26"
             ],
             [
              1,
              "#f0f921"
             ]
            ],
            "type": "surface"
           }
          ],
          "table": [
           {
            "cells": {
             "fill": {
              "color": "#EBF0F8"
             },
             "line": {
              "color": "white"
             }
            },
            "header": {
             "fill": {
              "color": "#C8D4E3"
             },
             "line": {
              "color": "white"
             }
            },
            "type": "table"
           }
          ]
         },
         "layout": {
          "annotationdefaults": {
           "arrowcolor": "#2a3f5f",
           "arrowhead": 0,
           "arrowwidth": 1
          },
          "autotypenumbers": "strict",
          "coloraxis": {
           "colorbar": {
            "outlinewidth": 0,
            "ticks": ""
           }
          },
          "colorscale": {
           "diverging": [
            [
             0,
             "#8e0152"
            ],
            [
             0.1,
             "#c51b7d"
            ],
            [
             0.2,
             "#de77ae"
            ],
            [
             0.3,
             "#f1b6da"
            ],
            [
             0.4,
             "#fde0ef"
            ],
            [
             0.5,
             "#f7f7f7"
            ],
            [
             0.6,
             "#e6f5d0"
            ],
            [
             0.7,
             "#b8e186"
            ],
            [
             0.8,
             "#7fbc41"
            ],
            [
             0.9,
             "#4d9221"
            ],
            [
             1,
             "#276419"
            ]
           ],
           "sequential": [
            [
             0,
             "#0d0887"
            ],
            [
             0.1111111111111111,
             "#46039f"
            ],
            [
             0.2222222222222222,
             "#7201a8"
            ],
            [
             0.3333333333333333,
             "#9c179e"
            ],
            [
             0.4444444444444444,
             "#bd3786"
            ],
            [
             0.5555555555555556,
             "#d8576b"
            ],
            [
             0.6666666666666666,
             "#ed7953"
            ],
            [
             0.7777777777777778,
             "#fb9f3a"
            ],
            [
             0.8888888888888888,
             "#fdca26"
            ],
            [
             1,
             "#f0f921"
            ]
           ],
           "sequentialminus": [
            [
             0,
             "#0d0887"
            ],
            [
             0.1111111111111111,
             "#46039f"
            ],
            [
             0.2222222222222222,
             "#7201a8"
            ],
            [
             0.3333333333333333,
             "#9c179e"
            ],
            [
             0.4444444444444444,
             "#bd3786"
            ],
            [
             0.5555555555555556,
             "#d8576b"
            ],
            [
             0.6666666666666666,
             "#ed7953"
            ],
            [
             0.7777777777777778,
             "#fb9f3a"
            ],
            [
             0.8888888888888888,
             "#fdca26"
            ],
            [
             1,
             "#f0f921"
            ]
           ]
          },
          "colorway": [
           "#636efa",
           "#EF553B",
           "#00cc96",
           "#ab63fa",
           "#FFA15A",
           "#19d3f3",
           "#FF6692",
           "#B6E880",
           "#FF97FF",
           "#FECB52"
          ],
          "font": {
           "color": "#2a3f5f"
          },
          "geo": {
           "bgcolor": "white",
           "lakecolor": "white",
           "landcolor": "#E5ECF6",
           "showlakes": true,
           "showland": true,
           "subunitcolor": "white"
          },
          "hoverlabel": {
           "align": "left"
          },
          "hovermode": "closest",
          "mapbox": {
           "style": "light"
          },
          "paper_bgcolor": "white",
          "plot_bgcolor": "#E5ECF6",
          "polar": {
           "angularaxis": {
            "gridcolor": "white",
            "linecolor": "white",
            "ticks": ""
           },
           "bgcolor": "#E5ECF6",
           "radialaxis": {
            "gridcolor": "white",
            "linecolor": "white",
            "ticks": ""
           }
          },
          "scene": {
           "xaxis": {
            "backgroundcolor": "#E5ECF6",
            "gridcolor": "white",
            "gridwidth": 2,
            "linecolor": "white",
            "showbackground": true,
            "ticks": "",
            "zerolinecolor": "white"
           },
           "yaxis": {
            "backgroundcolor": "#E5ECF6",
            "gridcolor": "white",
            "gridwidth": 2,
            "linecolor": "white",
            "showbackground": true,
            "ticks": "",
            "zerolinecolor": "white"
           },
           "zaxis": {
            "backgroundcolor": "#E5ECF6",
            "gridcolor": "white",
            "gridwidth": 2,
            "linecolor": "white",
            "showbackground": true,
            "ticks": "",
            "zerolinecolor": "white"
           }
          },
          "shapedefaults": {
           "line": {
            "color": "#2a3f5f"
           }
          },
          "ternary": {
           "aaxis": {
            "gridcolor": "white",
            "linecolor": "white",
            "ticks": ""
           },
           "baxis": {
            "gridcolor": "white",
            "linecolor": "white",
            "ticks": ""
           },
           "bgcolor": "#E5ECF6",
           "caxis": {
            "gridcolor": "white",
            "linecolor": "white",
            "ticks": ""
           }
          },
          "title": {
           "x": 0.05
          },
          "xaxis": {
           "automargin": true,
           "gridcolor": "white",
           "linecolor": "white",
           "ticks": "",
           "title": {
            "standoff": 15
           },
           "zerolinecolor": "white",
           "zerolinewidth": 2
          },
          "yaxis": {
           "automargin": true,
           "gridcolor": "white",
           "linecolor": "white",
           "ticks": "",
           "title": {
            "standoff": 15
           },
           "zerolinecolor": "white",
           "zerolinewidth": 2
          }
         }
        },
        "title": {
         "text": "goeth_C02 - 1/X",
         "x": 0.5,
         "xanchor": "center"
        },
        "width": 900,
        "xaxis": {
         "dtick": 100,
         "gridcolor": "lightgray",
         "gridwidth": 1,
         "linecolor": "black",
         "linewidth": 1,
         "showline": true,
         "tick0": 0,
         "title": {
          "text": "Temperature (&deg;C)"
         }
        },
        "yaxis": {
         "autorange": true,
         "gridcolor": "lightgray",
         "gridwidth": 1,
         "linecolor": "black",
         "linewidth": 1,
         "showline": true,
         "tickformat": ".1e",
         "title": {
          "text": "1/X"
         }
        }
       }
      }
     },
     "metadata": {},
     "output_type": "display_data"
    }
   ],
   "source": [
    "fig, fig_dXdT, fig_inv = rmag.plot_X_T(selected_experiment, \n",
    "                                       temp_unit='C', \n",
    "                                       remove_holder=True, \n",
    "                                       smooth_window=10)"
   ]
  },
  {
   "cell_type": "markdown",
   "metadata": {},
   "source": [
    "## Save the figures"
   ]
  },
  {
   "cell_type": "code",
   "execution_count": 7,
   "metadata": {},
   "outputs": [],
   "source": [
    "## code for saving the figures in png format\n",
    "# save the first figure\n",
    "fig.write_image(\"fig.png\")"
   ]
  },
  {
   "cell_type": "code",
   "execution_count": null,
   "metadata": {},
   "outputs": [],
   "source": [
    "# save the dX/dT figure\n",
    "fig_dXdT.write_image(\"fig_dXdT.png\")"
   ]
  },
  {
   "cell_type": "code",
   "execution_count": null,
   "metadata": {},
   "outputs": [],
   "source": [
    "# save the 1/X vs T figure\n",
    "fig_inv.write_image(\"fig_inv.png\")"
   ]
  },
  {
   "cell_type": "markdown",
   "metadata": {},
   "source": [
    "## Determining the best temperature window for smoothing\n",
    "\n",
    "The following function plots the **model roughness** against the **root mean square error** of the model **(note that the y-axis is inverted)** (a measure of the difference between the running average and the data). Each point on the graph is for a different temperature window size. The `knee` in the curve (the break of slope) is the optimal tempeature window. At this point (window) there is a decent trade off between the smoothness of the model (the running average) and error on the model.\n",
    "\n",
    "set values for `min_temp_window` and `max_temp_window` to set the temperature range for exploring the rms and variance tradeoff."
   ]
  },
  {
   "cell_type": "code",
   "execution_count": null,
   "metadata": {},
   "outputs": [],
   "source": []
  },
  {
   "cell_type": "code",
   "execution_count": 21,
   "metadata": {},
   "outputs": [
    {
     "data": {
      "image/png": "[encoded data removed]",
      "text/plain": [
       "<Figure size 1200x600 with 4 Axes>"
      ]
     },
     "metadata": {},
     "output_type": "display_data"
    }
   ],
   "source": [
    "min_temp_window = 0\n",
    "max_temp_window = 50\n",
    "steps = 20\n",
    "fig, ax = optimize_X_T_running_average_window(selected_experiment, min_temp_window, max_temp_window, steps=steps)\n"
   ]
  },
  {
   "cell_type": "markdown",
   "metadata": {},
   "source": [
    "- upon inspecting the plot, a smoothing window size of about 10 K seems to be a good choice for this dataset."
   ]
  },
  {
   "cell_type": "code",
   "execution_count": null,
   "metadata": {},
   "outputs": [],
   "source": [
    "# save the figure\n",
    "fig.savefig(\"optimize_window_size.png\")"
   ]
  }
 ],
 "metadata": {
  "celltoolbar": "Tags",
  "kernelspec": {
   "display_name": "base",
   "language": "python",
   "name": "python3"
  },
  "language_info": {
   "codemirror_mode": {
    "name": "ipython",
    "version": 3
   },
   "file_extension": ".py",
   "mimetype": "text/x-python",
   "name": "python",
   "nbconvert_exporter": "python",
   "pygments_lexer": "ipython3",
   "version": "3.9.13"
  }
 },
 "nbformat": 4,
 "nbformat_minor": 4
}
