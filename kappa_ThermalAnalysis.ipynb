{
 "cells": [
  {
   "cell_type": "code",
   "execution_count": 1,
   "id": "069e9921",
   "metadata": {},
   "outputs": [],
   "source": [
    "import rockmag as rmag\n",
    "import numpy as np\n",
    "import pmagpy.ipmag as ipmag\n",
    "import pmagpy.contribution_builder as cb"
   ]
  },
  {
   "cell_type": "code",
   "execution_count": 5,
   "id": "448a3be9",
   "metadata": {},
   "outputs": [],
   "source": [
    "a = np.arange(0,200,10)\n",
    "b = np.arange(0,230,10)\n",
    "c = np.random.random(len(a))\n",
    "d = np.random.random(len(b))"
   ]
  },
  {
   "cell_type": "code",
   "execution_count": 6,
   "id": "afd33b23",
   "metadata": {},
   "outputs": [
    {
     "data": {
      "text/plain": [
       "(array([  0,  15,  30,  45,  60,  75,  90, 105, 120, 135, 150, 165, 180,\n",
       "        195, 210, 225]),\n",
       " array([0.39756204, 0.47724662, 0.22682757, 0.7626302 , 0.31283226,\n",
       "        0.76357229, 0.539548  , 0.52217563, 0.04232948, 0.52519059,\n",
       "               nan,        nan,        nan,        nan,        nan,\n",
       "               nan]),\n",
       " array([0.57604779, 0.39283137, 0.42505355, 0.23012335, 0.83174744,\n",
       "        0.44411477, 0.05815577, 0.52045166, 0.61883541, 0.57528342,\n",
       "        0.79788625, 0.73626166,        nan,        nan,        nan,\n",
       "               nan]))"
      ]
     },
     "execution_count": 6,
     "metadata": {},
     "output_type": "execute_result"
    }
   ],
   "source": [
    "rmag.kDTA_interp(a, c, b, d)"
   ]
  },
  {
   "cell_type": "markdown",
   "id": "52ca05d8",
   "metadata": {},
   "source": [
    "## How to import magic data"
   ]
  },
  {
   "cell_type": "code",
   "execution_count": 4,
   "id": "2af6fd87",
   "metadata": {},
   "outputs": [
    {
     "name": "stdout",
     "output_type": "stream",
     "text": [
      "Download successful. File saved to: example_data/X-T/magic_contribution_19369.txt\n",
      "working on:  'contribution\\r'\n",
      "1  records written to file  C:\\Users\\docto\\Documents\\GitHub\\RockmagPy-notebooks\\example_data\\X-T\\contribution.txt\n",
      "  data put in  C:\\Users\\docto\\Documents\\GitHub\\RockmagPy-notebooks\\example_data\\X-T\\contribution.txt\n",
      "working on:  'locations\\r'\n",
      "2  records written to file  C:\\Users\\docto\\Documents\\GitHub\\RockmagPy-notebooks\\example_data\\X-T\\locations.txt\n",
      "  data put in  C:\\Users\\docto\\Documents\\GitHub\\RockmagPy-notebooks\\example_data\\X-T\\locations.txt\n",
      "working on:  'sites\\r'\n",
      "6  records written to file  C:\\Users\\docto\\Documents\\GitHub\\RockmagPy-notebooks\\example_data\\X-T\\sites.txt\n",
      "  data put in  C:\\Users\\docto\\Documents\\GitHub\\RockmagPy-notebooks\\example_data\\X-T\\sites.txt\n",
      "working on:  'samples\\r'\n",
      "12  records written to file  C:\\Users\\docto\\Documents\\GitHub\\RockmagPy-notebooks\\example_data\\X-T\\samples.txt\n",
      "  data put in  C:\\Users\\docto\\Documents\\GitHub\\RockmagPy-notebooks\\example_data\\X-T\\samples.txt\n",
      "working on:  'specimens\\r'\n",
      "52  records written to file  C:\\Users\\docto\\Documents\\GitHub\\RockmagPy-notebooks\\example_data\\X-T\\specimens.txt\n",
      "  data put in  C:\\Users\\docto\\Documents\\GitHub\\RockmagPy-notebooks\\example_data\\X-T\\specimens.txt\n",
      "working on:  'measurements\\r'\n",
      "20923  records written to file  C:\\Users\\docto\\Documents\\GitHub\\RockmagPy-notebooks\\example_data\\X-T\\measurements.txt\n",
      "  data put in  C:\\Users\\docto\\Documents\\GitHub\\RockmagPy-notebooks\\example_data\\X-T\\measurements.txt\n"
     ]
    }
   ],
   "source": [
    "#define these three parameters to match your data\n",
    "magic_id = '19369'\n",
    "share_key = ''\n",
    "dir_path = 'example_data/X-T'\n",
    "\n",
    "result, magic_file = ipmag.download_magic_from_id(magic_id, directory=dir_path, share_key=share_key)\n",
    "ipmag.unpack_magic(magic_file, dir_path)\n",
    "contribution = cb.Contribution(dir_path)\n",
    "measurements = contribution.tables['measurements'].df\n",
    "#measurements.dropna(axis=1, how='all')"
   ]
  },
  {
   "cell_type": "code",
   "execution_count": 5,
   "id": "e89b8bd2",
   "metadata": {},
   "outputs": [
    {
     "data": {
      "text/plain": [
       "Index(['citations', 'experiment', 'instrument_codes', 'meas_field_ac',\n",
       "       'meas_freq', 'meas_temp', 'measurement', 'method_codes', 'quality',\n",
       "       'specimen', 'standard', 'susc_chi_mass', 'sequence'],\n",
       "      dtype='object')"
      ]
     },
     "execution_count": 5,
     "metadata": {},
     "output_type": "execute_result"
    }
   ],
   "source": [
    "measurements.columns"
   ]
  },
  {
   "cell_type": "code",
   "execution_count": null,
   "id": "0b528e86",
   "metadata": {},
   "outputs": [],
   "source": []
  }
 ],
 "metadata": {
  "kernelspec": {
   "display_name": "Python 3",
   "language": "python",
   "name": "python3"
  },
  "language_info": {
   "codemirror_mode": {
    "name": "ipython",
    "version": 3
   },
   "file_extension": ".py",
   "mimetype": "text/x-python",
   "name": "python",
   "nbconvert_exporter": "python",
   "pygments_lexer": "ipython3",
   "version": "3.7.3"
  }
 },
 "nbformat": 4,
 "nbformat_minor": 5
}
