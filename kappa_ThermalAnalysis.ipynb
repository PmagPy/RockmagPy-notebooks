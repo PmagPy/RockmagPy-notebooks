{
 "cells": [
  {
   "cell_type": "code",
   "execution_count": 4,
   "id": "d2cf6eee",
   "metadata": {},
   "outputs": [],
   "source": [
    "import rockmag as rmag\n",
    "import numpy as np"
   ]
  },
  {
   "cell_type": "code",
   "execution_count": 5,
   "id": "81f373d1",
   "metadata": {},
   "outputs": [],
   "source": [
    "a = np.arange(0,200,10)\n",
    "b = np.arange(0,230,10)\n",
    "c = np.random.random(len(a))\n",
    "d = np.random.random(len(b))"
   ]
  },
  {
   "cell_type": "code",
   "execution_count": 6,
   "id": "78ddc211",
   "metadata": {},
   "outputs": [
    {
     "data": {
      "text/plain": [
       "(array([  0,  15,  30,  45,  60,  75,  90, 105, 120, 135, 150, 165, 180,\n",
       "        195, 210, 225]),\n",
       " array([0.39756204, 0.47724662, 0.22682757, 0.7626302 , 0.31283226,\n",
       "        0.76357229, 0.539548  , 0.52217563, 0.04232948, 0.52519059,\n",
       "               nan,        nan,        nan,        nan,        nan,\n",
       "               nan]),\n",
       " array([0.57604779, 0.39283137, 0.42505355, 0.23012335, 0.83174744,\n",
       "        0.44411477, 0.05815577, 0.52045166, 0.61883541, 0.57528342,\n",
       "        0.79788625, 0.73626166,        nan,        nan,        nan,\n",
       "               nan]))"
      ]
     },
     "execution_count": 6,
     "metadata": {},
     "output_type": "execute_result"
    }
   ],
   "source": [
    "rmag.kDTA_interp(a, c, b, d)"
   ]
  },
  {
   "cell_type": "markdown",
   "id": "abe4080e",
   "metadata": {},
   "source": [
    "## Hello"
   ]
  },
  {
   "cell_type": "markdown",
   "id": "4b865109",
   "metadata": {},
   "source": [
    "### Calculate <span style=\"font-family: 'Times New Roman';\">*T<sub>c</sub>*</span> using inverse susceptibility\n",
    "\n",
    "Above <span style=\"font-family: 'Times New Roman';\">*T<sub>c</sub>*</span> a mineral phase will be paramagnetic. This means that the inverse susceptibility should have a linear positive slope above <span style=\"font-family: 'Times New Roman';\">*T<sub>c</sub>*</span>. Using the intercept temperature at 0 inverse susceptibility is a good guess for  <span style=\"font-family: 'Times New Roman';\">*T<sub>c</sub>*</span>. This is essentially the break of slope between the ferromagnetic and paramagnetic signal."
   ]
  },
  {
   "cell_type": "code",
   "execution_count": null,
   "id": "00330d66",
   "metadata": {},
   "outputs": [],
   "source": []
  }
 ],
 "metadata": {
  "kernelspec": {
   "display_name": "Python 3",
   "language": "python",
   "name": "python3"
  },
  "language_info": {
   "codemirror_mode": {
    "name": "ipython",
    "version": 3
   },
   "file_extension": ".py",
   "mimetype": "text/x-python",
   "name": "python",
   "nbconvert_exporter": "python",
   "pygments_lexer": "ipython3",
   "version": "3.7.3"
  }
 },
 "nbformat": 4,
 "nbformat_minor": 5
}
