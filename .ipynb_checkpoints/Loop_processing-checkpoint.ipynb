{
 "cells": [
  {
   "cell_type": "code",
   "execution_count": 1,
   "id": "b0748faa-3b25-4325-a299-e397cb9c56df",
   "metadata": {},
   "outputs": [],
   "source": [
    "import rockmag as rmag\n",
    "import pandas as pd\n",
    "import numpy as np\n",
    "from numpy.linalg import svd, lstsq\n",
    "pd.set_option('display.max_columns', 500)\n",
    "\n",
    "import matplotlib.pyplot as plt\n",
    "%matplotlib inline\n",
    "%config InlineBackend.figure_format = 'retina'"
   ]
  },
  {
   "cell_type": "code",
   "execution_count": 2,
   "id": "26737059-1dc1-4e49-9467-cf0e596d361f",
   "metadata": {},
   "outputs": [],
   "source": [
    "# set the dir_path to the directory where the measurements.txt file is located\n",
    "dir_path = './example_data/ECMB'\n",
    "\n",
    "file = dir_path + '/measurements.txt'\n",
    "measurements = pd.read_csv(file, sep='\\t', skiprows=1)"
   ]
  },
  {
   "cell_type": "code",
   "execution_count": 3,
   "id": "5a8f51d8-314c-4927-8c41-0af6cfeb0db1",
   "metadata": {},
   "outputs": [
    {
     "data": {
      "application/vnd.jupyter.widget-view+json": {
       "model_id": "5610f32c64dc4ace99fe144b854d766d",
       "version_major": 2,
       "version_minor": 0
      },
      "text/plain": [
       "Dropdown(description='Specimen:', options=('NED1-5c', 'NED18-2c', 'NED2-8c', 'NED4-1c', 'NED6-6c'), value='NED…"
      ]
     },
     "metadata": {},
     "output_type": "display_data"
    },
    {
     "data": {
      "application/vnd.jupyter.widget-view+json": {
       "model_id": "a71c86860c2e45228b35b6ffdee673dd",
       "version_major": 2,
       "version_minor": 0
      },
      "text/plain": [
       "RadioButtons(description='Plot with:', options=(('matplotlib', False), ('plotly', True)), value=False)"
      ]
     },
     "metadata": {},
     "output_type": "display_data"
    },
    {
     "data": {
      "application/vnd.jupyter.widget-view+json": {
       "model_id": "f52b72b2aa834046abd2437f83e852cc",
       "version_major": 2,
       "version_minor": 0
      },
      "text/plain": [
       "Output()"
      ]
     },
     "metadata": {},
     "output_type": "display_data"
    }
   ],
   "source": [
    "rmag.make_hyst_plots(measurements)"
   ]
  },
  {
   "cell_type": "code",
   "execution_count": 4,
   "id": "6c75493f-a80d-4961-84e2-7ee8c09f9c94",
   "metadata": {},
   "outputs": [
    {
     "ename": "NameError",
     "evalue": "name 'specname' is not defined",
     "output_type": "error",
     "traceback": [
      "\u001b[1;31m---------------------------------------------------------------------------\u001b[0m",
      "\u001b[1;31mNameError\u001b[0m                                 Traceback (most recent call last)",
      "Cell \u001b[1;32mIn[4], line 1\u001b[0m\n\u001b[1;32m----> 1\u001b[0m \u001b[38;5;28mprint\u001b[39m(specname)\n",
      "\u001b[1;31mNameError\u001b[0m: name 'specname' is not defined"
     ]
    }
   ],
   "source": [
    "print(specimen_dropdown.value)"
   ]
  },
  {
   "cell_type": "code",
   "execution_count": null,
   "id": "2053c57d-961c-4a97-bd66-ca45146e71d6",
   "metadata": {},
   "outputs": [],
   "source": [
    "loop_fields = []\n",
    "loop_moments = []\n",
    "f=open(\"c:\\glop3_field.txt\")\n",
    "for x in f:\n",
    "    s1=x\n",
    "    if len(s1) >2:loop_fields.append(float(s1))\n",
    "f.close()\n",
    "f=open(\"c:\\glop3_moment.txt\")\n",
    "for x in f:\n",
    "    s1=x\n",
    "    if len(s1) >2:loop_moments.append(float(s1))\n",
    "f.close()"
   ]
  },
  {
   "cell_type": "code",
   "execution_count": null,
   "id": "bd89da7e-7195-49c4-a05b-a658bafd1732",
   "metadata": {},
   "outputs": [],
   "source": [
    "n_loop = 1442\n",
    "polydegree = 1\n",
    "nsmooth = 3\n",
    "B_offset = 0\n",
    "M_offset = 0\n",
    "acheckvar= 0"
   ]
  },
  {
   "cell_type": "code",
   "execution_count": null,
   "id": "22917267-fda3-4521-b835-402fd428b17f",
   "metadata": {},
   "outputs": [],
   "source": [
    "grid_fields, grid_moments =rmag.loop_grid(n_loop, polydegree, nsmooth, loop_fields, loop_moments, B_offset, M_offset)"
   ]
  },
  {
   "cell_type": "code",
   "execution_count": null,
   "id": "270e8e79-3343-4c7c-9254-2b4c3dcfa52e",
   "metadata": {},
   "outputs": [],
   "source": [
    "plt.plot(loop_fields, loop_moments)\n"
   ]
  },
  {
   "cell_type": "code",
   "execution_count": null,
   "id": "017184cb-54e4-4925-b02b-6434bbd7e0bd",
   "metadata": {},
   "outputs": [],
   "source": [
    "plt.plot(grid_fields, grid_moments)"
   ]
  },
  {
   "cell_type": "code",
   "execution_count": null,
   "id": "65ca7528-f121-4304-a165-b6218723d03d",
   "metadata": {},
   "outputs": [],
   "source": [
    "moment_sub = rmag.branch_sub(n_loop, grid_moments)"
   ]
  },
  {
   "cell_type": "code",
   "execution_count": null,
   "id": "b7ee459c-3571-434e-a141-1a8d76988bef",
   "metadata": {},
   "outputs": [],
   "source": [
    "plt.plot(grid_fields[721:], moment_sub)"
   ]
  },
  {
   "cell_type": "code",
   "execution_count": null,
   "id": "e44cdd47-e972-4495-b34f-f6857b7d8b50",
   "metadata": {},
   "outputs": [],
   "source": []
  },
  {
   "cell_type": "code",
   "execution_count": null,
   "id": "3b0cf910-448b-4af9-89ee-032ff1c73b07",
   "metadata": {},
   "outputs": [],
   "source": []
  }
 ],
 "metadata": {
  "kernelspec": {
   "display_name": "Python 3 (ipykernel)",
   "language": "python",
   "name": "python3"
  },
  "language_info": {
   "codemirror_mode": {
    "name": "ipython",
    "version": 3
   },
   "file_extension": ".py",
   "mimetype": "text/x-python",
   "name": "python",
   "nbconvert_exporter": "python",
   "pygments_lexer": "ipython3",
   "version": "3.11.7"
  }
 },
 "nbformat": 4,
 "nbformat_minor": 5
}
