{
 "cells": [
  {
   "cell_type": "markdown",
   "metadata": {},
   "source": [
    "#  Analysis of susceptibility-temperature, <span style=\"font-family: 'Times New Roman';\">*k(T)*</span>, data\n",
    "-------------------------------------------------------------------------------------------------------------------------\n",
    "\n",
    "This notebook allows the user to: \n",
    "\n",
    "(1) Download a contribution from the MagIC database.\n",
    "\n",
    "(2) Extract any susceptibility-temperature, <span style=\"font-family: 'Times New Roman';\">*k(T)*</span>, data contained within it.\n",
    "\n",
    "(3) Correct for the diamagnetic signal of the measurement instrument and holder (if required).\n",
    "\n",
    "(4) Smooth the data prior to further anaysis (if required).\n",
    "\n",
    "(5) Calculate Curie Temperatures, <span style=\"font-family: 'Times New Roman';\">*T<sub>c</sub>*</span>, using first and second-order derivatives.\n",
    "\n",
    "The notebook is to be run cell-by-cell to allow users to select corrections/filters as needed. The code below runs an example dataset from [Doctor and Feinberg (2022)](https://doi.org/10.1029/2021JB023789), D|ifferential thermal analysis using high temperature susceptibility instruments, *Journal of Geophysical Research: Solid Earth*, which is MagiC contribution [19369](http://dx.doi.org/10.7288/V4/MAGIC/19369). Any MagIC contribution which contains <span style=\"font-family: 'Times New Roman';\">*k(T)*</span> data can be used in place of this example dataset.\n",
    "\n",
    "**Nota bene:** We do not provide Curie Temperature estimation by the \"two-tangent\" method, as proposed for spontaneous magnetization  <span style=\"font-family: 'Times New Roman';\">*M<sub>s</sub>(T)*</span> curves by [Grommé et al. (1969)](https://doi.org/10.1029/JB074i022p05277). [Fabian et al. (2013)](https://doi.org/10.1029/2012GC004440) explain this well:\n",
    "\n",
    "_\"The importance of the difference between determining <span style=\"font-family: 'Times New Roman';\">*T<sub>c</sub>*</span> from <span style=\"font-family: 'Times New Roman';\">M<sub>s</sub>(T)</span> and <span style=\"font-family: 'Times New Roman';\">k(T)</span> is pointed out by [Petrovský and Kapicka (2006)](https://doi.org/10.1029/2006JB004507), where methods to determine <span style=\"font-family: 'Times New Roman';\">T<sub>c</sub></span> from measurements of the initial susceptibility are analyzed. They conclude that the two-tangent method is not suitable for <span style=\"font-family: 'Times New Roman';\">k(T)</span> and can considerably overestimate <span style=\"font-family: 'Times New Roman';\">T<sub>c</sub></span>. The physical origin of  <span style=\"font-family: 'Times New Roman';\">k(T)</span> close to <span style=\"font-family: 'Times New Roman';\">T<sub>c</sub></span> is more challenging than that of <span style=\"font-family: 'Times New Roman';\">M<sub>s</sub>(T)</span>, because a number of low-field effects are important for <span style=\"font-family: 'Times New Roman';\">k(T)</span>, but become negligible in the higher fields used to infer <span style=\"font-family: 'Times New Roman';\">M<sub>s</sub>(T)</span>. The variation of <span style=\"font-family: 'Times New Roman';\">m</span> depends not only on the variation of <span style=\"font-family: 'Times New Roman';\">M<sub>s</sub>(H,T)</span> with field  <span style=\"font-family: 'Times New Roman';\">H</span>, it also contains a contribution from a rotation of the ordered moment with respect to an easy magnetization axis, and contributions from thermally activated switching of small independent – but already magnetically ordered – regions (e.g., SP particles). In large bulk material domain-wall movement contributes to <span style=\"font-family: 'Times New Roman';\">k(T)</span> even slightly below  <span style=\"font-family: 'Times New Roman';\">Tc</span>. In nanoparticles the inhomogeneity of <span style=\"font-family: 'Times New Roman';\">M<sub>s</sub></span>, due to the different exchangecoupling of inner and surface atoms, is of additional importance.\"_\n",
    "\n",
    "And from [Petrovský and Kapicka (2006)](https://doi.org/10.1029/2006JB004507):\n",
    "\n",
    "_\"...susceptibility for T [to] <span style=\"font-family: 'Times New Roman';\">*T<sub>c</sub>*</span> and T < <span style=\"font-family: 'Times New Roman';\">*T<sub>c</sub>*</span> increases to infinity, and we have to use analytical formulas developed for susceptibility behavior above the Curie point. Here, due to the geometry of the susceptibility curve, the two-tangent method will always yield temperature above the inflection point, which is higher than the temperature at which the substance starts to obey the paramagnetic Curie-Weiss law. The resulting error in <span style=\"font-family: 'Times New Roman';\">*T<sub>c</sub>*</span> (or <span style=\"font-family: 'Times New Roman';\">T<sub>N</sub><sup>1</sup></span>) can be on the order of several degrees to several tens of degrees. Therefore, in the case of temperature dependence of magnetic susceptibility, application of the two-tangent method is not justified.\"_\n",
    "\n",
    "Furthermore:\n",
    "\n",
    "_\"In the case of synthetic magnetite and hematite, with sharp Hopkinson peak, the difference between transition\n",
    "temperatures determined using the two-tangent method and Curie-Weiss paramagnetic law is in the order of some few\n",
    "degrees. In the case of samples with wide susceptibility maximum and gradual decrease, reflecting e.g., wide distribution\n",
    "of grain sizes, or in the case of substituted hematite, application of the two-tangent method to susceptibility curves overestimates the transition temperature be several tens of degrees.\"_\n",
    "\n",
    "\n",
    "<sup>1</sup>Néel Temperature\n",
    "\n",
    "Key components here include portions of notebooks, and functions developed for the EarthRef JupyterHub:\n",
    "https://www2.earthref.org/MagIC/jupyter-notebooks"
   ]
  },
  {
   "cell_type": "markdown",
   "metadata": {},
   "source": [
    "### 1. Install and import packages\n",
    "\n",
    "Click inside the cell below, hold shift and then press enter. This will automatically run the script below."
   ]
  },
  {
   "cell_type": "code",
   "execution_count": 1,
   "metadata": {},
   "outputs": [
    {
     "name": "stdout",
     "output_type": "stream",
     "text": [
      "Requirement already satisfied: plotly in c:\\users\\boss\\anaconda3\\lib\\site-packages (5.9.0)\n",
      "Requirement already satisfied: tenacity>=6.2.0 in c:\\users\\boss\\anaconda3\\lib\\site-packages (from plotly) (8.0.1)\n",
      "Requirement already satisfied: statsmodels in c:\\users\\boss\\anaconda3\\lib\\site-packages (0.13.2)\n",
      "Requirement already satisfied: numpy>=1.17 in c:\\users\\boss\\anaconda3\\lib\\site-packages (from statsmodels) (1.21.5)\n",
      "Requirement already satisfied: scipy>=1.3 in c:\\users\\boss\\anaconda3\\lib\\site-packages (from statsmodels) (1.9.1)\n",
      "Requirement already satisfied: pandas>=0.25 in c:\\users\\boss\\anaconda3\\lib\\site-packages (from statsmodels) (1.4.4)\n",
      "Requirement already satisfied: patsy>=0.5.2 in c:\\users\\boss\\anaconda3\\lib\\site-packages (from statsmodels) (0.5.2)\n",
      "Requirement already satisfied: packaging>=21.3 in c:\\users\\boss\\anaconda3\\lib\\site-packages (from statsmodels) (21.3)\n",
      "Requirement already satisfied: pyparsing!=3.0.5,>=2.0.2 in c:\\users\\boss\\anaconda3\\lib\\site-packages (from packaging>=21.3->statsmodels) (3.0.9)\n",
      "Requirement already satisfied: pytz>=2020.1 in c:\\users\\boss\\anaconda3\\lib\\site-packages (from pandas>=0.25->statsmodels) (2022.1)\n",
      "Requirement already satisfied: python-dateutil>=2.8.1 in c:\\users\\boss\\anaconda3\\lib\\site-packages (from pandas>=0.25->statsmodels) (2.8.2)\n",
      "Requirement already satisfied: six in c:\\users\\boss\\anaconda3\\lib\\site-packages (from patsy>=0.5.2->statsmodels) (1.16.0)\n",
      "Requirement already satisfied: jupyter_core in c:\\users\\boss\\anaconda3\\lib\\site-packages (4.11.1)\n",
      "Requirement already satisfied: pywin32>=1.0 in c:\\users\\boss\\anaconda3\\lib\\site-packages (from jupyter_core) (302)\n",
      "Requirement already satisfied: traitlets in c:\\users\\boss\\anaconda3\\lib\\site-packages (from jupyter_core) (5.1.1)\n"
     ]
    },
    {
     "data": {
      "application/javascript": [
       "IPython.notebook.execute_cell_range(IPython.notebook.get_selected_index()+1, IPython.notebook.ncells())"
      ],
      "text/plain": [
       "<IPython.core.display.Javascript object>"
      ]
     },
     "metadata": {},
     "output_type": "display_data"
    }
   ],
   "source": [
    "# Import all packages needed for plotting and calculations\n",
    "!pip install --user plotly\n",
    "!pip install statsmodels\n",
    "!pip install jupyter_core\n",
    "\n",
    "import os\n",
    "import numpy as np\n",
    "import pmagpy.ipmag as ipmag\n",
    "import plotly.express as px\n",
    "import ipywidgets as widgets\n",
    "import pandas as pd\n",
    "import plotly.express as px\n",
    "import plotly.offline as pyo\n",
    "import plotly.graph_objects as go\n",
    "import statsmodels.api as sm\n",
    "import urllib\n",
    "import json\n",
    "import requests\n",
    "import matplotlib.pyplot as plt\n",
    "\n",
    "from IPython.core.interactiveshell import InteractiveShell\n",
    "from IPython.display import display, HTML, clear_output, Javascript \n",
    "from notebook import notebookapp\n",
    "from statsmodels.nonparametric.smoothers_lowess import lowess\n",
    "\n",
    "display(Javascript('IPython.notebook.execute_cell_range(IPython.notebook.get_selected_index()+1, IPython.notebook.ncells())'))"
   ]
  },
  {
   "cell_type": "markdown",
   "metadata": {},
   "source": [
    "### 2. Import the data from a MagIC contribution\n",
    "\n",
    "(1)    Run the following cell by pressing \"Import\". This will generate a box for you to type in the MagIC Contribution        ID of interest.\n",
    "\n",
    "(2)    The default is for the dataset of *Doctor and Feinberg (2022)*. MagIC ID = **19369**. But you will want to find the MagIC ID of the study you are interested in and add this in the box below.\n",
    "\n",
    "(3)    Click on 'Download MagIC File'. This will:\n",
    "\n",
    "      (a) create a subdirectory to the directory this notebook is saved in and will be given the name of the MagIC ID,     \n",
    "      e.g., 19369; \n",
    "\n",
    "      (b) download the MagIC contribution file, e.g., magic_contribution_19369.txt, to the subdirectory; \n",
    "\n",
    "      (c) \"unpack\" this file to a series of txt files called locations, sites, samples, specimens and measurements.  "
   ]
  },
  {
   "cell_type": "code",
   "execution_count": 7,
   "metadata": {},
   "outputs": [
    {
     "data": {
      "application/vnd.jupyter.widget-view+json": {
       "model_id": "970f8052768b413ab96cb936a153c4eb",
       "version_major": 2,
       "version_minor": 0
      },
      "text/plain": [
       "Button(description='Import', style=ButtonStyle())"
      ]
     },
     "metadata": {},
     "output_type": "display_data"
    },
    {
     "data": {
      "application/javascript": [
       "IPython.notebook.execute_cell_range(IPython.notebook.get_selected_index()+1, IPython.notebook.ncells())"
      ],
      "text/plain": [
       "<IPython.core.display.Javascript object>"
      ]
     },
     "metadata": {},
     "output_type": "display_data"
    },
    {
     "data": {
      "application/javascript": [
       "IPython.notebook.execute_cell_range(IPython.notebook.get_selected_index()+1, IPython.notebook.ncells())"
      ],
      "text/plain": [
       "<IPython.core.display.Javascript object>"
      ]
     },
     "metadata": {},
     "output_type": "display_data"
    }
   ],
   "source": [
    "import_button = widgets.Button(description=\"Import\")\n",
    "def import_file(button_click):\n",
    "    display(Javascript('IPython.notebook.execute_cell_range(IPython.notebook.get_selected_index()+1, IPython.notebook.ncells())'))\n",
    "import_button.on_click(import_file)\n",
    "display(import_button)"
   ]
  },
  {
   "cell_type": "code",
   "execution_count": 10,
   "metadata": {},
   "outputs": [
    {
     "data": {
      "application/vnd.jupyter.widget-view+json": {
       "model_id": "583e4a7304504afd8de6c885f00cd80c",
       "version_major": 2,
       "version_minor": 0
      },
      "text/plain": [
       "Text(value='19369', description='MagIC Contribution ID:', style=DescriptionStyle(description_width='initial'))"
      ]
     },
     "metadata": {},
     "output_type": "display_data"
    },
    {
     "data": {
      "application/vnd.jupyter.widget-view+json": {
       "model_id": "df63cffb340a4f1dbe19a4069a2495f7",
       "version_major": 2,
       "version_minor": 0
      },
      "text/plain": [
       "Button(description='Download Magic File', style=ButtonStyle())"
      ]
     },
     "metadata": {},
     "output_type": "display_data"
    },
    {
     "name": "stdout",
     "output_type": "stream",
     "text": [
      "Subdirectory created at: C:\\Users\\boss\\Documents\\GitHub\\RockmagPy-notebooks\\16769\n",
      "File downloaded and saved to: C:\\Users\\boss\\Documents\\GitHub\\RockmagPy-notebooks\\16769\\magic_contribution_16769.txt\n"
     ]
    },
    {
     "data": {
      "application/javascript": [
       "IPython.notebook.execute_cell_range(IPython.notebook.get_selected_index()+2, IPython.notebook.ncells())"
      ],
      "text/plain": [
       "<IPython.core.display.Javascript object>"
      ]
     },
     "metadata": {},
     "output_type": "display_data"
    },
    {
     "name": "stdout",
     "output_type": "stream",
     "text": [
      "working on:  'contribution'\n",
      "1  records written to file  C:\\Users\\boss\\Documents\\GitHub\\RockmagPy-notebooks\\16769\\contribution.txt\n",
      "contribution  data put in  C:\\Users\\boss\\Documents\\GitHub\\RockmagPy-notebooks\\16769\\contribution.txt\n",
      "working on:  'locations'\n",
      "1  records written to file  C:\\Users\\boss\\Documents\\GitHub\\RockmagPy-notebooks\\16769\\locations.txt\n",
      "locations  data put in  C:\\Users\\boss\\Documents\\GitHub\\RockmagPy-notebooks\\16769\\locations.txt\n",
      "working on:  'sites'\n",
      "53  records written to file  C:\\Users\\boss\\Documents\\GitHub\\RockmagPy-notebooks\\16769\\sites.txt\n",
      "sites  data put in  C:\\Users\\boss\\Documents\\GitHub\\RockmagPy-notebooks\\16769\\sites.txt\n",
      "working on:  'samples'\n",
      "53  records written to file  C:\\Users\\boss\\Documents\\GitHub\\RockmagPy-notebooks\\16769\\samples.txt\n",
      "samples  data put in  C:\\Users\\boss\\Documents\\GitHub\\RockmagPy-notebooks\\16769\\samples.txt\n",
      "working on:  'specimens'\n",
      "207  records written to file  C:\\Users\\boss\\Documents\\GitHub\\RockmagPy-notebooks\\16769\\specimens.txt\n",
      "specimens  data put in  C:\\Users\\boss\\Documents\\GitHub\\RockmagPy-notebooks\\16769\\specimens.txt\n",
      "working on:  'measurements'\n",
      "340827  records written to file  C:\\Users\\boss\\Documents\\GitHub\\RockmagPy-notebooks\\16769\\measurements.txt\n",
      "measurements  data put in  C:\\Users\\boss\\Documents\\GitHub\\RockmagPy-notebooks\\16769\\measurements.txt\n"
     ]
    }
   ],
   "source": [
    "# Get current notebook path\n",
    "current_path = os.getcwd()\n",
    "\n",
    "# Define the default value for magic_id\n",
    "magic_id = '19369'\n",
    "magic_file_name = None  # Initialize magic_file_name as None\n",
    "\n",
    "# Create a text box widget with the default value\n",
    "magic_id_textbox = widgets.Text(value=magic_id, description='MagIC Contribution ID:',style={'description_width': 'initial'})\n",
    "\n",
    "# Function to handle changes in the text box value\n",
    "def update_magic_id(change):\n",
    "    global magic_id\n",
    "    magic_id = change.new\n",
    "\n",
    "# Attach the event handler to the text box\n",
    "magic_id_textbox.observe(update_magic_id, names='value')\n",
    "\n",
    "# Display the text box\n",
    "display(magic_id_textbox)\n",
    "\n",
    "# Add a button to trigger the download\n",
    "download_button = widgets.Button(description=\"Download Magic File\")\n",
    "\n",
    "# Function to handle the button click event and trigger the download\n",
    "def download_magic_file(button_click):\n",
    "    global magic_file_name  # Declare magic_file_name as global\n",
    "    global save_path\n",
    "    global dpath\n",
    "    \n",
    "    #Creates a subdirectory with the name of the magic_id\n",
    "    subdirectory_name = magic_id\n",
    "    dpath = os.path.join(current_path, subdirectory_name)\n",
    "    os.makedirs(dpath, exist_ok=True)\n",
    "    print(f\"Subdirectory created at: {dpath}\")\n",
    "    \n",
    "    #Downloads the file from MagIC and saves it automatically in the subdirectory\n",
    "    magic_dlink = \"https://earthref.org/MagIC/download/\" + magic_id + \"/magic_contribution_\" + magic_id + \".txt\"\n",
    "#    print(magic_dlink)\n",
    "#    magic_dlink = \"https://earthref.org/MagIC/download/19369/magic_contribution_19369.txt\"\n",
    "    save_name = \"magic_contribution_\" + magic_id + \".txt\"\n",
    "#    print(save_name)\n",
    "    save_path = os.path.join(dpath, save_name)\n",
    "    response = requests.get(magic_dlink)\n",
    "    with open(save_path, 'wb') as file:\n",
    "        file.write(response.content)\n",
    "    print(f\"File downloaded and saved to: {save_path}\")\n",
    "    display(Javascript('IPython.notebook.execute_cell_range(IPython.notebook.get_selected_index()+2, IPython.notebook.ncells())'))\n",
    "                \n",
    "#   unpack the file into locations, sites, samples, specimens, etc \n",
    "    ipmag.unpack_magic(save_name, \n",
    "                      dpath,\n",
    "                      dpath)\n",
    "    \n",
    "# Attach the event handler to the download button\n",
    "download_button.on_click(download_magic_file)\n",
    "\n",
    "# Display the download button\n",
    "display(download_button)"
   ]
  },
  {
   "cell_type": "markdown",
   "metadata": {},
   "source": [
    "### 3. Select a <span style=\"font-family: 'Times New Roman';\">*k(T)*</span> Specimen\n",
    "*Creates a dropdown to select specimens with <span style=\"font-family: 'Times New Roman';\">k(T)</span> data.*"
   ]
  },
  {
   "cell_type": "code",
   "execution_count": 12,
   "metadata": {},
   "outputs": [
    {
     "data": {
      "application/vnd.jupyter.widget-view+json": {
       "model_id": "902eb475d34c4aabae079b3a4e5ad1d1",
       "version_major": 2,
       "version_minor": 0
      },
      "text/plain": [
       "Dropdown(description='Specimen:', options=('360-U1473A-03R-3-W-116-r4', '360-U1473A-05R-1-W-012-r4', '360-U147…"
      ]
     },
     "metadata": {},
     "output_type": "display_data"
    },
    {
     "name": "stdout",
     "output_type": "stream",
     "text": [
      "Initially selected value: 360-U1473A-03R-3-W-116-r4\n",
      "Selected value updated to: 360-U1473A-84R-1-W-143-r4\n"
     ]
    },
    {
     "data": {
      "application/javascript": [
       "IPython.notebook.execute_cell_range(IPython.notebook.get_selected_index()+2, IPython.notebook.ncells())"
      ],
      "text/plain": [
       "<IPython.core.display.Javascript object>"
      ]
     },
     "metadata": {},
     "output_type": "display_data"
    },
    {
     "data": {
      "application/javascript": [
       "IPython.notebook.execute_cell_range(IPython.notebook.get_selected_index()+4, IPython.notebook.ncells())"
      ],
      "text/plain": [
       "<IPython.core.display.Javascript object>"
      ]
     },
     "metadata": {},
     "output_type": "display_data"
    },
    {
     "data": {
      "application/javascript": [
       "IPython.notebook.execute_cell_range(IPython.notebook.get_selected_index()+5, IPython.notebook.ncells())"
      ],
      "text/plain": [
       "<IPython.core.display.Javascript object>"
      ]
     },
     "metadata": {},
     "output_type": "display_data"
    }
   ],
   "source": [
    "specimens = None\n",
    "spfile = os.path.join(dpath,'specimens.txt')\n",
    "specimens = pd.read_csv(spfile,sep='\\t',header=1)\n",
    "\n",
    "dfs = pd.DataFrame(specimens)\n",
    "\n",
    "# Filter DataFrame where method_code equals 'LP-X-T'\n",
    "filtered_dfs = dfs[dfs['method_codes'].str.contains('LP-X-T')]\n",
    "\n",
    "# Extract unique values from specimen column\n",
    "specimen_names = filtered_dfs['specimen'].unique().tolist()\n",
    "\n",
    "# Create a dropdown widget with these unique values\n",
    "dropdown = widgets.Dropdown(\n",
    "    options = specimen_names,\n",
    "    description = 'Specimen:',\n",
    "    style = {'description_width': 'initial'}\n",
    ")\n",
    "\n",
    "# Define a variable to store the selected value\n",
    "selected_specimen = specimen_names[0]  # Initialize with the first value\n",
    "\n",
    "# Define a callback function to update the variable\n",
    "def on_change(change):\n",
    "    global selected_specimen\n",
    "    selected_specimen = change['new']\n",
    "    print(f\"Selected value updated to: {selected_specimen}\")\n",
    "    display(Javascript('IPython.notebook.execute_cell_range(IPython.notebook.get_selected_index()+2, IPython.notebook.ncells())'))\n",
    "    display(Javascript('IPython.notebook.execute_cell_range(IPython.notebook.get_selected_index()+4, IPython.notebook.ncells())'))\n",
    "    display(Javascript('IPython.notebook.execute_cell_range(IPython.notebook.get_selected_index()+5, IPython.notebook.ncells())'))\n",
    "    \n",
    "# Link the callback function to the dropdown widget\n",
    "dropdown.observe(on_change, names = 'value')\n",
    "\n",
    "# Display the dropdown widget\n",
    "display(dropdown)\n",
    "\n",
    "# Example usage of the selected_value variable in other code\n",
    "print(f\"Initially selected value: {selected_specimen}\")"
   ]
  },
  {
   "cell_type": "markdown",
   "metadata": {},
   "source": [
    "### 4. Call the measurement data for the selected specimen\n",
    "\n",
    "\n",
    "\n"
   ]
  },
  {
   "cell_type": "code",
   "execution_count": 20,
   "metadata": {},
   "outputs": [],
   "source": [
    "# Filter by method code and specimen type\n",
    "# Split data up into heating and cooling curves\n",
    "\n",
    "filtered_dfm = None\n",
    "dfm = None\n",
    "mfile = os.path.join(dpath,'measurements.txt')\n",
    "\n",
    "# Read the data from the \"measurements.txt\" file into a DataFrame\n",
    "dfm = pd.read_csv(mfile, sep=\"\\t\", header=1)\n",
    "\n",
    "# Filter for k(T) data and the selected specimen name\n",
    "filtered_dfm = dfm[(dfm['method_codes'].str.contains('LP-X-T')) & (dfm['specimen'] == selected_specimen)]\n",
    "\n",
    "#Correct automatically for negative susceptibility values - will throw off derivatives and inverse susc calculations\n",
    "filtered_dfm['susc_chi_mass'].min()\n",
    "filtered_dfm['susc_chi_mass'] = filtered_dfm['susc_chi_mass']+(filtered_dfm['susc_chi_mass'].min())*-1\n",
    "\n",
    "if 'meas_temp' not in filtered_dfm:\n",
    "    filtered_dfm.rename(columns={'treat_temp': 'meas_temp'}, inplace=True)\n",
    "\n",
    "# Convert temperatures to degrees centigrade\n",
    "# Add a catch as some people forget to enter the temperatures in Kelvin...\n",
    "\n",
    "if filtered_dfm['meas_temp'].iloc[0]-273.15 > 0:\n",
    "    filtered_dfm['meas_temp'] -= 273.15\n",
    "else:\n",
    "    filtered_dfm['meas_temp']\n",
    "\n",
    "# Select only temperature in Kelvin and mass normalized susceptibilty (m3/kg)\n",
    "kT_all = filtered_dfm[['meas_temp', 'susc_chi_mass']].copy()\n",
    "\n",
    "# Max temperature\n",
    "max_T = kT_all['meas_temp'].max()\n",
    "\n",
    "# Row of max temperature\n",
    "max_T_step = kT_all.loc[kT_all['meas_temp'] == max_T].index[0]\n",
    "\n",
    "# Split data into heating and cooling curves, i.e. heating is less than max_T_step and cooling is greater than max_T_step\n",
    "heat = kT_all.loc[kT_all.index < max_T_step]\n",
    "cool = kT_all.loc[kT_all.index > max_T_step]"
   ]
  },
  {
   "cell_type": "markdown",
   "metadata": {},
   "source": [
    "### 5. Plot the heating and cooling <span style=\"font-family: 'Times New Roman';\">*k(T)*</span> curves"
   ]
  },
  {
   "cell_type": "code",
   "execution_count": 21,
   "metadata": {},
   "outputs": [
    {
     "data": {
      "application/vnd.plotly.v1+json": {
       "config": {
        "plotlyServerURL": "https://plot.ly"
       },
       "data": [
        {
         "line": {
          "color": "red"
         },
         "marker": {
          "color": "red"
         },
         "mode": "lines+markers",
         "name": "Heating - zero corrected",
         "type": "scatter",
         "x": [
          25.55000000000001,
          26.55000000000001,
          31.75,
          38.75,
          46.75,
          54.55000000000001,
          61.85000000000002,
          68.85000000000002,
          75.45000000000005,
          81.45000000000005,
          86.45000000000005,
          92.75,
          96.15000000000003,
          101.95000000000005,
          107.25,
          112.55000000000001,
          116.55000000000001,
          121.05000000000001,
          125.25,
          130.35000000000002,
          134.55,
          139.15000000000003,
          143.95000000000005,
          148.75,
          153.05,
          157.55,
          162.65000000000003,
          166.95000000000005,
          171.55,
          176.15000000000003,
          181.05,
          186.45000000000005,
          191.05,
          196.25,
          200.05,
          205.15000000000003,
          209.55,
          214.45000000000005,
          219.35000000000002,
          223.75,
          228.75,
          234.25,
          238.85000000000002,
          243.85000000000002,
          248.55000000000007,
          253.75,
          258.55000000000007,
          263.45000000000005,
          268.25,
          272.65,
          277.65,
          282.45000000000005,
          287.75,
          292.25,
          297.25,
          302.35,
          306.85,
          311.95000000000005,
          316.45000000000005,
          322.05000000000007,
          326.65,
          331.75,
          335.65,
          339.95000000000005,
          345.35,
          349.35,
          354.25,
          359.35,
          363.65,
          368.85,
          373.15,
          378.05000000000007,
          382.05000000000007,
          387.55000000000007,
          391.35,
          396.25,
          400.05000000000007,
          404.35,
          409.95000000000005,
          414.05000000000007,
          418.05000000000007,
          422.45000000000005,
          427.45000000000005,
          431.85,
          436.55000000000007,
          440.35,
          445.05000000000007,
          448.95000000000005,
          453.65,
          458.05000000000007,
          461.65,
          466.45000000000005,
          469.95000000000005,
          475.05000000000007,
          478.95000000000005,
          482.45000000000005,
          486.65,
          491.15,
          495.35,
          499.25,
          503.15,
          507.65,
          512.25,
          516.15,
          520.35,
          524.35,
          528.25,
          532.5500000000001,
          536.45,
          540.15,
          544.0500000000001,
          548.0500000000001,
          552.65,
          556.35,
          560.35,
          564.65,
          569.5500000000001,
          572.25,
          576.65,
          581.5500000000001,
          584.95,
          588.95,
          593.65,
          596.15,
          600.45,
          604.25,
          608.95,
          612.95,
          616.15,
          620.15,
          623.65,
          628.35,
          632.15,
          635.95,
          639.35,
          643.85,
          647.65,
          651.0500000000001,
          655.25,
          658.75,
          663.15,
          667.0500000000001,
          670.85,
          674.0500000000001,
          678.85,
          681.75,
          686.85,
          688.45,
          692.35,
          696.85,
          701.0500000000001,
          702.95
         ],
         "y": [
          0.42341029999999996,
          0.4272703,
          0.42724029999999996,
          0.4269403,
          0.4224503,
          0.42158029999999996,
          0.4167803,
          0.41193029999999997,
          0.41093029999999997,
          0.4100003,
          0.4092303,
          0.4082703,
          0.40776029999999996,
          0.4069203,
          0.4061903,
          0.40549029999999997,
          0.40499029999999997,
          0.4044603,
          0.4001503,
          0.40732029999999997,
          0.3992403,
          0.3988403,
          0.40232029999999996,
          0.40199029999999997,
          0.4017303,
          0.3976503,
          0.4012803,
          0.4011303,
          0.4010003,
          0.4047503,
          0.4008303,
          0.4008003,
          0.4046403,
          0.4046703,
          0.4047203,
          0.4048003,
          0.4048903,
          0.40116029999999997,
          0.4051403,
          0.4091203,
          0.4092803,
          0.40948029999999996,
          0.40965029999999997,
          0.4098403,
          0.4100203,
          0.4102303,
          0.41042029999999996,
          0.4106103,
          0.41464029999999996,
          0.4148003,
          0.4111403,
          0.41515029999999997,
          0.4153203,
          0.4154703,
          0.4156103,
          0.4196003,
          0.4197203,
          0.4159903,
          0.4199403,
          0.4200503,
          0.4162803,
          0.41637029999999997,
          0.4202703,
          0.41264029999999996,
          0.4127103,
          0.41276029999999997,
          0.4166603,
          0.41287029999999997,
          0.41292029999999996,
          0.4091403,
          0.41304029999999997,
          0.4092703,
          0.4131803,
          0.4171203,
          0.41720029999999997,
          0.41731029999999997,
          0.4212603,
          0.4175403,
          0.42158029999999996,
          0.4255903,
          0.4257603,
          0.4259803,
          0.42625029999999997,
          0.4303703,
          0.4345403,
          0.4348303,
          0.4352203,
          0.4394203,
          0.4398903,
          0.4442103,
          0.4446303,
          0.4452403,
          0.44956029999999997,
          0.4503003,
          0.4547503,
          0.4591803,
          0.4599103,
          0.4607503,
          0.4654203,
          0.4623903,
          0.4632403,
          0.4642803,
          0.4653903,
          0.46254029999999996,
          0.4598103,
          0.45322029999999996,
          0.4466503,
          0.43640029999999996,
          0.4222303,
          0.41187029999999997,
          0.3939303,
          0.3683703,
          0.3315303,
          0.2790203,
          0.21128029999999998,
          0.1321503,
          0.060984300000000005,
          0.0351393,
          0.0176953,
          0.0158803,
          0.013468300000000002,
          0.0113323,
          0.009523299999999998,
          0.0106183,
          0.008670299999999999,
          0.0103613,
          0.0124663,
          0.0104193,
          0.008014299999999999,
          0.0098163,
          0.011389300000000002,
          0.013492300000000002,
          0.011333300000000001,
          0.009159299999999999,
          0.0106393,
          0.012568300000000001,
          0.0103193,
          0.0117213,
          0.0095663,
          0.010935299999999998,
          0.008752300000000001,
          0.0063221,
          0.0076423,
          0.008704300000000002,
          0.0063591,
          0.0072083,
          0.008586300000000002,
          0.0012941000000000003,
          0.0022013,
          0.0031205,
          0,
          0.0041302
         ]
        },
        {
         "line": {
          "color": "blue"
         },
         "marker": {
          "color": "blue"
         },
         "mode": "lines+markers",
         "name": "Cooling - zero corrected",
         "type": "scatter",
         "x": [
          702.65,
          700.75,
          698.75,
          695.85,
          693.25,
          691.0500000000001,
          687.85,
          684.25,
          681.45,
          678.15,
          675.95,
          672.15,
          669.25,
          665.45,
          662.25,
          658.45,
          655.25,
          652.35,
          648.85,
          645.35,
          642.25,
          638.75,
          635.25,
          631.85,
          628.35,
          624.85,
          621.45,
          616.75,
          614.25,
          610.75,
          606.15,
          602.65,
          598.95,
          593.95,
          590.85,
          587.45,
          583.75,
          580.35,
          576.65,
          572.95,
          568.65,
          565.25,
          561.25,
          556.95,
          553.5500000000001,
          549.25,
          545.65,
          541.35,
          537.95,
          534.0500000000001,
          529.75,
          525.85,
          521.5500000000001,
          517.95,
          513.75,
          509.75,
          504.65,
          501.05000000000007,
          497.15,
          492.65,
          488.15,
          484.25,
          479.85,
          475.65,
          471.75,
          466.75,
          462.55000000000007,
          458.35,
          454.55000000000007,
          449.85,
          445.35,
          441.25,
          436.85,
          432.45000000000005,
          429.25,
          423.65,
          420.15,
          414.55000000000007,
          410.55000000000007,
          405.85,
          401.15,
          396.85,
          392.75,
          388.45000000000005,
          383.85,
          379.15,
          374.85,
          369.65,
          366.25,
          360.55000000000007,
          356.25,
          351.65,
          347.35,
          342.55000000000007,
          338.25,
          334.55000000000007,
          329.75,
          324.35,
          320.35,
          315.05000000000007,
          310.75,
          305.95000000000005,
          301.45000000000005,
          296.75,
          292.25,
          287.75,
          283.55000000000007,
          278.55000000000007,
          273.75,
          269.85,
          265.15,
          260.15,
          255.14999999999998,
          250.75,
          246.05000000000007,
          241.64999999999998,
          236.95000000000005,
          232.25,
          227.85000000000002,
          223.45000000000005,
          219.15000000000003,
          214.45000000000005,
          210.05,
          205.75,
          201.15000000000003,
          196.25,
          191.85000000000002,
          187.25,
          182.95000000000005,
          178.05,
          173.75,
          169.65000000000003,
          165.15000000000003,
          161.05,
          156.55,
          152.25,
          147.95000000000005,
          143.95000000000005,
          139.15000000000003,
          135.15000000000003,
          130.35000000000002,
          126.55000000000001,
          122.35000000000002,
          118.35000000000002,
          114.15000000000003,
          110.45000000000005,
          106.75,
          103.85000000000002,
          98.55000000000001,
          94.85000000000002,
          91.45000000000005,
          87.45000000000005,
          84.05000000000001,
          80.35000000000002,
          76.25,
          73.05000000000001,
          69.95000000000005,
          67.05000000000001,
          63.650000000000034,
          61.05000000000001,
          57.450000000000045,
          55.05000000000001,
          52.75,
          49.85000000000002,
          47.55000000000001,
          45.150000000000034,
          42.85000000000002,
          40.75,
          38.950000000000045
         ],
         "y": [
          0.0079333,
          0.0037987999999999997,
          0.0034650999999999996,
          0.006774700000000001,
          0.006242500000000001,
          0.009602300000000001,
          0.012684300000000003,
          0.0117483,
          0.014814300000000002,
          0.013839300000000002,
          0.013158300000000001,
          0.0119253,
          0.014786300000000002,
          0.017287300000000002,
          0.012264299999999999,
          0.0146653,
          0.0172583,
          0.0160963,
          0.0185103,
          0.0132023,
          0.0157323,
          0.0142253,
          0.0126993,
          0.018893300000000002,
          0.013492300000000002,
          0.0157733,
          0.014247300000000001,
          0.019823300000000002,
          0.0148503,
          0.017121300000000002,
          0.0150573,
          0.0134943,
          0.015698300000000002,
          0.0135003,
          0.0159983,
          0.018380300000000002,
          0.012960300000000001,
          0.015379300000000002,
          0.0176953,
          0.023882300000000002,
          0.0337063,
          0.0746853,
          0.13854029999999998,
          0.21386029999999998,
          0.2895403,
          0.3534003,
          0.39832029999999996,
          0.42380029999999996,
          0.4380903,
          0.4484003,
          0.45094029999999996,
          0.4536503,
          0.4562903,
          0.4591703,
          0.4580803,
          0.4570903,
          0.45589029999999997,
          0.4589303,
          0.45810029999999996,
          0.4610403,
          0.4601903,
          0.4556403,
          0.4587503,
          0.4542403,
          0.4498103,
          0.4529703,
          0.45244029999999996,
          0.45194029999999996,
          0.4476803,
          0.4472003,
          0.4467903,
          0.4464403,
          0.4461003,
          0.4458003,
          0.4417503,
          0.4414203,
          0.4450903,
          0.4409903,
          0.4408303,
          0.44067029999999996,
          0.4366703,
          0.4327103,
          0.4326103,
          0.43252029999999997,
          0.4362803,
          0.4285103,
          0.43230029999999997,
          0.4283803,
          0.4283403,
          0.4244303,
          0.4282203,
          0.4243203,
          0.4242703,
          0.4242103,
          0.4241603,
          0.4241003,
          0.42403029999999997,
          0.42009029999999997,
          0.42386029999999997,
          0.4199103,
          0.41981029999999997,
          0.41969029999999996,
          0.41958029999999996,
          0.4194503,
          0.4154703,
          0.4191703,
          0.4151903,
          0.4150103,
          0.4148403,
          0.41470029999999997,
          0.4106703,
          0.4143203,
          0.4141303,
          0.4101103,
          0.40992029999999996,
          0.4097503,
          0.4095803,
          0.4055603,
          0.4092503,
          0.4091103,
          0.40898029999999996,
          0.4088503,
          0.4049003,
          0.4048103,
          0.4085803,
          0.4046703,
          0.40465029999999996,
          0.4046403,
          0.4008103,
          0.4047203,
          0.4009503,
          0.40104029999999996,
          0.4050303,
          0.4013403,
          0.40155029999999997,
          0.4056303,
          0.4058903,
          0.40232029999999996,
          0.4026903,
          0.4068803,
          0.40732029999999997,
          0.4115503,
          0.4120103,
          0.4086203,
          0.4091403,
          0.4096103,
          0.4139503,
          0.4105003,
          0.4151003,
          0.4156503,
          0.4161603,
          0.4206103,
          0.42114029999999997,
          0.4217103,
          0.4223403,
          0.4189903,
          0.4271503,
          0.42758029999999997,
          0.4280703,
          0.4322803,
          0.4327603,
          0.4330603,
          0.4333403,
          0.4336703,
          0.4377503,
          0.4341403,
          0.43818029999999997,
          0.4421903,
          0.43462029999999996
         ]
        }
       ],
       "layout": {
        "font": {
         "color": "Black",
         "family": "Roboto, sans-serif",
         "size": 18
        },
        "height": 556,
        "margin": {
         "b": 50,
         "l": 50,
         "r": 50,
         "t": 80
        },
        "paper_bgcolor": "white",
        "plot_bgcolor": "white",
        "shapes": [
         {
          "line": {
           "color": "black",
           "width": 2
          },
          "type": "rect",
          "x0": 0,
          "x1": 1,
          "xref": "paper",
          "y0": 0,
          "y1": 1,
          "yref": "paper"
         }
        ],
        "showlegend": true,
        "template": {
         "data": {
          "bar": [
           {
            "error_x": {
             "color": "#2a3f5f"
            },
            "error_y": {
             "color": "#2a3f5f"
            },
            "marker": {
             "line": {
              "color": "#E5ECF6",
              "width": 0.5
             },
             "pattern": {
              "fillmode": "overlay",
              "size": 10,
              "solidity": 0.2
             }
            },
            "type": "bar"
           }
          ],
          "barpolar": [
           {
            "marker": {
             "line": {
              "color": "#E5ECF6",
              "width": 0.5
             },
             "pattern": {
              "fillmode": "overlay",
              "size": 10,
              "solidity": 0.2
             }
            },
            "type": "barpolar"
           }
          ],
          "carpet": [
           {
            "aaxis": {
             "endlinecolor": "#2a3f5f",
             "gridcolor": "white",
             "linecolor": "white",
             "minorgridcolor": "white",
             "startlinecolor": "#2a3f5f"
            },
            "baxis": {
             "endlinecolor": "#2a3f5f",
             "gridcolor": "white",
             "linecolor": "white",
             "minorgridcolor": "white",
             "startlinecolor": "#2a3f5f"
            },
            "type": "carpet"
           }
          ],
          "choropleth": [
           {
            "colorbar": {
             "outlinewidth": 0,
             "ticks": ""
            },
            "type": "choropleth"
           }
          ],
          "contour": [
           {
            "colorbar": {
             "outlinewidth": 0,
             "ticks": ""
            },
            "colorscale": [
             [
              0,
              "#0d0887"
             ],
             [
              0.1111111111111111,
              "#46039f"
             ],
             [
              0.2222222222222222,
              "#7201a8"
             ],
             [
              0.3333333333333333,
              "#9c179e"
             ],
             [
              0.4444444444444444,
              "#bd3786"
             ],
             [
              0.5555555555555556,
              "#d8576b"
             ],
             [
              0.6666666666666666,
              "#ed7953"
             ],
             [
              0.7777777777777778,
              "#fb9f3a"
             ],
             [
              0.8888888888888888,
              "#fdca26"
             ],
             [
              1,
              "#f0f921"
             ]
            ],
            "type": "contour"
           }
          ],
          "contourcarpet": [
           {
            "colorbar": {
             "outlinewidth": 0,
             "ticks": ""
            },
            "type": "contourcarpet"
           }
          ],
          "heatmap": [
           {
            "colorbar": {
             "outlinewidth": 0,
             "ticks": ""
            },
            "colorscale": [
             [
              0,
              "#0d0887"
             ],
             [
              0.1111111111111111,
              "#46039f"
             ],
             [
              0.2222222222222222,
              "#7201a8"
             ],
             [
              0.3333333333333333,
              "#9c179e"
             ],
             [
              0.4444444444444444,
              "#bd3786"
             ],
             [
              0.5555555555555556,
              "#d8576b"
             ],
             [
              0.6666666666666666,
              "#ed7953"
             ],
             [
              0.7777777777777778,
              "#fb9f3a"
             ],
             [
              0.8888888888888888,
              "#fdca26"
             ],
             [
              1,
              "#f0f921"
             ]
            ],
            "type": "heatmap"
           }
          ],
          "heatmapgl": [
           {
            "colorbar": {
             "outlinewidth": 0,
             "ticks": ""
            },
            "colorscale": [
             [
              0,
              "#0d0887"
             ],
             [
              0.1111111111111111,
              "#46039f"
             ],
             [
              0.2222222222222222,
              "#7201a8"
             ],
             [
              0.3333333333333333,
              "#9c179e"
             ],
             [
              0.4444444444444444,
              "#bd3786"
             ],
             [
              0.5555555555555556,
              "#d8576b"
             ],
             [
              0.6666666666666666,
              "#ed7953"
             ],
             [
              0.7777777777777778,
              "#fb9f3a"
             ],
             [
              0.8888888888888888,
              "#fdca26"
             ],
             [
              1,
              "#f0f921"
             ]
            ],
            "type": "heatmapgl"
           }
          ],
          "histogram": [
           {
            "marker": {
             "pattern": {
              "fillmode": "overlay",
              "size": 10,
              "solidity": 0.2
             }
            },
            "type": "histogram"
           }
          ],
          "histogram2d": [
           {
            "colorbar": {
             "outlinewidth": 0,
             "ticks": ""
            },
            "colorscale": [
             [
              0,
              "#0d0887"
             ],
             [
              0.1111111111111111,
              "#46039f"
             ],
             [
              0.2222222222222222,
              "#7201a8"
             ],
             [
              0.3333333333333333,
              "#9c179e"
             ],
             [
              0.4444444444444444,
              "#bd3786"
             ],
             [
              0.5555555555555556,
              "#d8576b"
             ],
             [
              0.6666666666666666,
              "#ed7953"
             ],
             [
              0.7777777777777778,
              "#fb9f3a"
             ],
             [
              0.8888888888888888,
              "#fdca26"
             ],
             [
              1,
              "#f0f921"
             ]
            ],
            "type": "histogram2d"
           }
          ],
          "histogram2dcontour": [
           {
            "colorbar": {
             "outlinewidth": 0,
             "ticks": ""
            },
            "colorscale": [
             [
              0,
              "#0d0887"
             ],
             [
              0.1111111111111111,
              "#46039f"
             ],
             [
              0.2222222222222222,
              "#7201a8"
             ],
             [
              0.3333333333333333,
              "#9c179e"
             ],
             [
              0.4444444444444444,
              "#bd3786"
             ],
             [
              0.5555555555555556,
              "#d8576b"
             ],
             [
              0.6666666666666666,
              "#ed7953"
             ],
             [
              0.7777777777777778,
              "#fb9f3a"
             ],
             [
              0.8888888888888888,
              "#fdca26"
             ],
             [
              1,
              "#f0f921"
             ]
            ],
            "type": "histogram2dcontour"
           }
          ],
          "mesh3d": [
           {
            "colorbar": {
             "outlinewidth": 0,
             "ticks": ""
            },
            "type": "mesh3d"
           }
          ],
          "parcoords": [
           {
            "line": {
             "colorbar": {
              "outlinewidth": 0,
              "ticks": ""
             }
            },
            "type": "parcoords"
           }
          ],
          "pie": [
           {
            "automargin": true,
            "type": "pie"
           }
          ],
          "scatter": [
           {
            "fillpattern": {
             "fillmode": "overlay",
             "size": 10,
             "solidity": 0.2
            },
            "type": "scatter"
           }
          ],
          "scatter3d": [
           {
            "line": {
             "colorbar": {
              "outlinewidth": 0,
              "ticks": ""
             }
            },
            "marker": {
             "colorbar": {
              "outlinewidth": 0,
              "ticks": ""
             }
            },
            "type": "scatter3d"
           }
          ],
          "scattercarpet": [
           {
            "marker": {
             "colorbar": {
              "outlinewidth": 0,
              "ticks": ""
             }
            },
            "type": "scattercarpet"
           }
          ],
          "scattergeo": [
           {
            "marker": {
             "colorbar": {
              "outlinewidth": 0,
              "ticks": ""
             }
            },
            "type": "scattergeo"
           }
          ],
          "scattergl": [
           {
            "marker": {
             "colorbar": {
              "outlinewidth": 0,
              "ticks": ""
             }
            },
            "type": "scattergl"
           }
          ],
          "scattermapbox": [
           {
            "marker": {
             "colorbar": {
              "outlinewidth": 0,
              "ticks": ""
             }
            },
            "type": "scattermapbox"
           }
          ],
          "scatterpolar": [
           {
            "marker": {
             "colorbar": {
              "outlinewidth": 0,
              "ticks": ""
             }
            },
            "type": "scatterpolar"
           }
          ],
          "scatterpolargl": [
           {
            "marker": {
             "colorbar": {
              "outlinewidth": 0,
              "ticks": ""
             }
            },
            "type": "scatterpolargl"
           }
          ],
          "scatterternary": [
           {
            "marker": {
             "colorbar": {
              "outlinewidth": 0,
              "ticks": ""
             }
            },
            "type": "scatterternary"
           }
          ],
          "surface": [
           {
            "colorbar": {
             "outlinewidth": 0,
             "ticks": ""
            },
            "colorscale": [
             [
              0,
              "#0d0887"
             ],
             [
              0.1111111111111111,
              "#46039f"
             ],
             [
              0.2222222222222222,
              "#7201a8"
             ],
             [
              0.3333333333333333,
              "#9c179e"
             ],
             [
              0.4444444444444444,
              "#bd3786"
             ],
             [
              0.5555555555555556,
              "#d8576b"
             ],
             [
              0.6666666666666666,
              "#ed7953"
             ],
             [
              0.7777777777777778,
              "#fb9f3a"
             ],
             [
              0.8888888888888888,
              "#fdca26"
             ],
             [
              1,
              "#f0f921"
             ]
            ],
            "type": "surface"
           }
          ],
          "table": [
           {
            "cells": {
             "fill": {
              "color": "#EBF0F8"
             },
             "line": {
              "color": "white"
             }
            },
            "header": {
             "fill": {
              "color": "#C8D4E3"
             },
             "line": {
              "color": "white"
             }
            },
            "type": "table"
           }
          ]
         },
         "layout": {
          "annotationdefaults": {
           "arrowcolor": "#2a3f5f",
           "arrowhead": 0,
           "arrowwidth": 1
          },
          "autotypenumbers": "strict",
          "coloraxis": {
           "colorbar": {
            "outlinewidth": 0,
            "ticks": ""
           }
          },
          "colorscale": {
           "diverging": [
            [
             0,
             "#8e0152"
            ],
            [
             0.1,
             "#c51b7d"
            ],
            [
             0.2,
             "#de77ae"
            ],
            [
             0.3,
             "#f1b6da"
            ],
            [
             0.4,
             "#fde0ef"
            ],
            [
             0.5,
             "#f7f7f7"
            ],
            [
             0.6,
             "#e6f5d0"
            ],
            [
             0.7,
             "#b8e186"
            ],
            [
             0.8,
             "#7fbc41"
            ],
            [
             0.9,
             "#4d9221"
            ],
            [
             1,
             "#276419"
            ]
           ],
           "sequential": [
            [
             0,
             "#0d0887"
            ],
            [
             0.1111111111111111,
             "#46039f"
            ],
            [
             0.2222222222222222,
             "#7201a8"
            ],
            [
             0.3333333333333333,
             "#9c179e"
            ],
            [
             0.4444444444444444,
             "#bd3786"
            ],
            [
             0.5555555555555556,
             "#d8576b"
            ],
            [
             0.6666666666666666,
             "#ed7953"
            ],
            [
             0.7777777777777778,
             "#fb9f3a"
            ],
            [
             0.8888888888888888,
             "#fdca26"
            ],
            [
             1,
             "#f0f921"
            ]
           ],
           "sequentialminus": [
            [
             0,
             "#0d0887"
            ],
            [
             0.1111111111111111,
             "#46039f"
            ],
            [
             0.2222222222222222,
             "#7201a8"
            ],
            [
             0.3333333333333333,
             "#9c179e"
            ],
            [
             0.4444444444444444,
             "#bd3786"
            ],
            [
             0.5555555555555556,
             "#d8576b"
            ],
            [
             0.6666666666666666,
             "#ed7953"
            ],
            [
             0.7777777777777778,
             "#fb9f3a"
            ],
            [
             0.8888888888888888,
             "#fdca26"
            ],
            [
             1,
             "#f0f921"
            ]
           ]
          },
          "colorway": [
           "#636efa",
           "#EF553B",
           "#00cc96",
           "#ab63fa",
           "#FFA15A",
           "#19d3f3",
           "#FF6692",
           "#B6E880",
           "#FF97FF",
           "#FECB52"
          ],
          "font": {
           "color": "#2a3f5f"
          },
          "geo": {
           "bgcolor": "white",
           "lakecolor": "white",
           "landcolor": "#E5ECF6",
           "showlakes": true,
           "showland": true,
           "subunitcolor": "white"
          },
          "hoverlabel": {
           "align": "left"
          },
          "hovermode": "closest",
          "mapbox": {
           "style": "light"
          },
          "paper_bgcolor": "white",
          "plot_bgcolor": "#E5ECF6",
          "polar": {
           "angularaxis": {
            "gridcolor": "white",
            "linecolor": "white",
            "ticks": ""
           },
           "bgcolor": "#E5ECF6",
           "radialaxis": {
            "gridcolor": "white",
            "linecolor": "white",
            "ticks": ""
           }
          },
          "scene": {
           "xaxis": {
            "backgroundcolor": "#E5ECF6",
            "gridcolor": "white",
            "gridwidth": 2,
            "linecolor": "white",
            "showbackground": true,
            "ticks": "",
            "zerolinecolor": "white"
           },
           "yaxis": {
            "backgroundcolor": "#E5ECF6",
            "gridcolor": "white",
            "gridwidth": 2,
            "linecolor": "white",
            "showbackground": true,
            "ticks": "",
            "zerolinecolor": "white"
           },
           "zaxis": {
            "backgroundcolor": "#E5ECF6",
            "gridcolor": "white",
            "gridwidth": 2,
            "linecolor": "white",
            "showbackground": true,
            "ticks": "",
            "zerolinecolor": "white"
           }
          },
          "shapedefaults": {
           "line": {
            "color": "#2a3f5f"
           }
          },
          "ternary": {
           "aaxis": {
            "gridcolor": "white",
            "linecolor": "white",
            "ticks": ""
           },
           "baxis": {
            "gridcolor": "white",
            "linecolor": "white",
            "ticks": ""
           },
           "bgcolor": "#E5ECF6",
           "caxis": {
            "gridcolor": "white",
            "linecolor": "white",
            "ticks": ""
           }
          },
          "title": {
           "x": 0.05
          },
          "xaxis": {
           "automargin": true,
           "gridcolor": "white",
           "linecolor": "white",
           "ticks": "",
           "title": {
            "standoff": 15
           },
           "zerolinecolor": "white",
           "zerolinewidth": 2
          },
          "yaxis": {
           "automargin": true,
           "gridcolor": "white",
           "linecolor": "white",
           "ticks": "",
           "title": {
            "standoff": 15
           },
           "zerolinecolor": "white",
           "zerolinewidth": 2
          }
         }
        },
        "title": {
         "text": "360-U1473A-84R-1-W-143-r4",
         "x": 0.5,
         "xanchor": "center"
        },
        "width": 900,
        "xaxis": {
         "dtick": 100,
         "gridcolor": "lightgray",
         "gridwidth": 1,
         "linecolor": "black",
         "linewidth": 1,
         "showline": true,
         "tick0": 0,
         "title": {
          "text": "Temperature (&deg;C)"
         }
        },
        "yaxis": {
         "autorange": true,
         "gridcolor": "lightgray",
         "gridwidth": 1,
         "linecolor": "black",
         "linewidth": 1,
         "showline": true,
         "tickformat": ".1e",
         "title": {
          "text": "<i>k</i> (m<sup>3</sup> kg<sup>-1</sup>)"
         }
        }
       }
      },
      "text/html": [
       "<div>                            <div id=\"c87f20d5-7e8b-4f52-95c9-b146ac382cc3\" class=\"plotly-graph-div\" style=\"height:556px; width:900px;\"></div>            <script type=\"text/javascript\">                require([\"plotly\"], function(Plotly) {                    window.PLOTLYENV=window.PLOTLYENV || {};                                    if (document.getElementById(\"c87f20d5-7e8b-4f52-95c9-b146ac382cc3\")) {                    Plotly.newPlot(                        \"c87f20d5-7e8b-4f52-95c9-b146ac382cc3\",                        [{\"line\":{\"color\":\"red\"},\"marker\":{\"color\":\"red\"},\"mode\":\"lines+markers\",\"name\":\"Heating - zero corrected\",\"x\":[25.55000000000001,26.55000000000001,31.75,38.75,46.75,54.55000000000001,61.85000000000002,68.85000000000002,75.45000000000005,81.45000000000005,86.45000000000005,92.75,96.15000000000003,101.95000000000005,107.25,112.55000000000001,116.55000000000001,121.05000000000001,125.25,130.35000000000002,134.55,139.15000000000003,143.95000000000005,148.75,153.05,157.55,162.65000000000003,166.95000000000005,171.55,176.15000000000003,181.05,186.45000000000005,191.05,196.25,200.05,205.15000000000003,209.55,214.45000000000005,219.35000000000002,223.75,228.75,234.25,238.85000000000002,243.85000000000002,248.55000000000007,253.75,258.55000000000007,263.45000000000005,268.25,272.65,277.65,282.45000000000005,287.75,292.25,297.25,302.35,306.85,311.95000000000005,316.45000000000005,322.05000000000007,326.65,331.75,335.65,339.95000000000005,345.35,349.35,354.25,359.35,363.65,368.85,373.15,378.05000000000007,382.05000000000007,387.55000000000007,391.35,396.25,400.05000000000007,404.35,409.95000000000005,414.05000000000007,418.05000000000007,422.45000000000005,427.45000000000005,431.85,436.55000000000007,440.35,445.05000000000007,448.95000000000005,453.65,458.05000000000007,461.65,466.45000000000005,469.95000000000005,475.05000000000007,478.95000000000005,482.45000000000005,486.65,491.15,495.35,499.25,503.15,507.65,512.25,516.15,520.35,524.35,528.25,532.5500000000001,536.45,540.15,544.0500000000001,548.0500000000001,552.65,556.35,560.35,564.65,569.5500000000001,572.25,576.65,581.5500000000001,584.95,588.95,593.65,596.15,600.45,604.25,608.95,612.95,616.15,620.15,623.65,628.35,632.15,635.95,639.35,643.85,647.65,651.0500000000001,655.25,658.75,663.15,667.0500000000001,670.85,674.0500000000001,678.85,681.75,686.85,688.45,692.35,696.85,701.0500000000001,702.95],\"y\":[0.42341029999999996,0.4272703,0.42724029999999996,0.4269403,0.4224503,0.42158029999999996,0.4167803,0.41193029999999997,0.41093029999999997,0.4100003,0.4092303,0.4082703,0.40776029999999996,0.4069203,0.4061903,0.40549029999999997,0.40499029999999997,0.4044603,0.4001503,0.40732029999999997,0.3992403,0.3988403,0.40232029999999996,0.40199029999999997,0.4017303,0.3976503,0.4012803,0.4011303,0.4010003,0.4047503,0.4008303,0.4008003,0.4046403,0.4046703,0.4047203,0.4048003,0.4048903,0.40116029999999997,0.4051403,0.4091203,0.4092803,0.40948029999999996,0.40965029999999997,0.4098403,0.4100203,0.4102303,0.41042029999999996,0.4106103,0.41464029999999996,0.4148003,0.4111403,0.41515029999999997,0.4153203,0.4154703,0.4156103,0.4196003,0.4197203,0.4159903,0.4199403,0.4200503,0.4162803,0.41637029999999997,0.4202703,0.41264029999999996,0.4127103,0.41276029999999997,0.4166603,0.41287029999999997,0.41292029999999996,0.4091403,0.41304029999999997,0.4092703,0.4131803,0.4171203,0.41720029999999997,0.41731029999999997,0.4212603,0.4175403,0.42158029999999996,0.4255903,0.4257603,0.4259803,0.42625029999999997,0.4303703,0.4345403,0.4348303,0.4352203,0.4394203,0.4398903,0.4442103,0.4446303,0.4452403,0.44956029999999997,0.4503003,0.4547503,0.4591803,0.4599103,0.4607503,0.4654203,0.4623903,0.4632403,0.4642803,0.4653903,0.46254029999999996,0.4598103,0.45322029999999996,0.4466503,0.43640029999999996,0.4222303,0.41187029999999997,0.3939303,0.3683703,0.3315303,0.2790203,0.21128029999999998,0.1321503,0.060984300000000005,0.0351393,0.0176953,0.0158803,0.013468300000000002,0.0113323,0.009523299999999998,0.0106183,0.008670299999999999,0.0103613,0.0124663,0.0104193,0.008014299999999999,0.0098163,0.011389300000000002,0.013492300000000002,0.011333300000000001,0.009159299999999999,0.0106393,0.012568300000000001,0.0103193,0.0117213,0.0095663,0.010935299999999998,0.008752300000000001,0.0063221,0.0076423,0.008704300000000002,0.0063591,0.0072083,0.008586300000000002,0.0012941000000000003,0.0022013,0.0031205,0.0,0.0041302],\"type\":\"scatter\"},{\"line\":{\"color\":\"blue\"},\"marker\":{\"color\":\"blue\"},\"mode\":\"lines+markers\",\"name\":\"Cooling - zero corrected\",\"x\":[702.65,700.75,698.75,695.85,693.25,691.0500000000001,687.85,684.25,681.45,678.15,675.95,672.15,669.25,665.45,662.25,658.45,655.25,652.35,648.85,645.35,642.25,638.75,635.25,631.85,628.35,624.85,621.45,616.75,614.25,610.75,606.15,602.65,598.95,593.95,590.85,587.45,583.75,580.35,576.65,572.95,568.65,565.25,561.25,556.95,553.5500000000001,549.25,545.65,541.35,537.95,534.0500000000001,529.75,525.85,521.5500000000001,517.95,513.75,509.75,504.65,501.05000000000007,497.15,492.65,488.15,484.25,479.85,475.65,471.75,466.75,462.55000000000007,458.35,454.55000000000007,449.85,445.35,441.25,436.85,432.45000000000005,429.25,423.65,420.15,414.55000000000007,410.55000000000007,405.85,401.15,396.85,392.75,388.45000000000005,383.85,379.15,374.85,369.65,366.25,360.55000000000007,356.25,351.65,347.35,342.55000000000007,338.25,334.55000000000007,329.75,324.35,320.35,315.05000000000007,310.75,305.95000000000005,301.45000000000005,296.75,292.25,287.75,283.55000000000007,278.55000000000007,273.75,269.85,265.15,260.15,255.14999999999998,250.75,246.05000000000007,241.64999999999998,236.95000000000005,232.25,227.85000000000002,223.45000000000005,219.15000000000003,214.45000000000005,210.05,205.75,201.15000000000003,196.25,191.85000000000002,187.25,182.95000000000005,178.05,173.75,169.65000000000003,165.15000000000003,161.05,156.55,152.25,147.95000000000005,143.95000000000005,139.15000000000003,135.15000000000003,130.35000000000002,126.55000000000001,122.35000000000002,118.35000000000002,114.15000000000003,110.45000000000005,106.75,103.85000000000002,98.55000000000001,94.85000000000002,91.45000000000005,87.45000000000005,84.05000000000001,80.35000000000002,76.25,73.05000000000001,69.95000000000005,67.05000000000001,63.650000000000034,61.05000000000001,57.450000000000045,55.05000000000001,52.75,49.85000000000002,47.55000000000001,45.150000000000034,42.85000000000002,40.75,38.950000000000045],\"y\":[0.0079333,0.0037987999999999997,0.0034650999999999996,0.006774700000000001,0.006242500000000001,0.009602300000000001,0.012684300000000003,0.0117483,0.014814300000000002,0.013839300000000002,0.013158300000000001,0.0119253,0.014786300000000002,0.017287300000000002,0.012264299999999999,0.0146653,0.0172583,0.0160963,0.0185103,0.0132023,0.0157323,0.0142253,0.0126993,0.018893300000000002,0.013492300000000002,0.0157733,0.014247300000000001,0.019823300000000002,0.0148503,0.017121300000000002,0.0150573,0.0134943,0.015698300000000002,0.0135003,0.0159983,0.018380300000000002,0.012960300000000001,0.015379300000000002,0.0176953,0.023882300000000002,0.0337063,0.0746853,0.13854029999999998,0.21386029999999998,0.2895403,0.3534003,0.39832029999999996,0.42380029999999996,0.4380903,0.4484003,0.45094029999999996,0.4536503,0.4562903,0.4591703,0.4580803,0.4570903,0.45589029999999997,0.4589303,0.45810029999999996,0.4610403,0.4601903,0.4556403,0.4587503,0.4542403,0.4498103,0.4529703,0.45244029999999996,0.45194029999999996,0.4476803,0.4472003,0.4467903,0.4464403,0.4461003,0.4458003,0.4417503,0.4414203,0.4450903,0.4409903,0.4408303,0.44067029999999996,0.4366703,0.4327103,0.4326103,0.43252029999999997,0.4362803,0.4285103,0.43230029999999997,0.4283803,0.4283403,0.4244303,0.4282203,0.4243203,0.4242703,0.4242103,0.4241603,0.4241003,0.42403029999999997,0.42009029999999997,0.42386029999999997,0.4199103,0.41981029999999997,0.41969029999999996,0.41958029999999996,0.4194503,0.4154703,0.4191703,0.4151903,0.4150103,0.4148403,0.41470029999999997,0.4106703,0.4143203,0.4141303,0.4101103,0.40992029999999996,0.4097503,0.4095803,0.4055603,0.4092503,0.4091103,0.40898029999999996,0.4088503,0.4049003,0.4048103,0.4085803,0.4046703,0.40465029999999996,0.4046403,0.4008103,0.4047203,0.4009503,0.40104029999999996,0.4050303,0.4013403,0.40155029999999997,0.4056303,0.4058903,0.40232029999999996,0.4026903,0.4068803,0.40732029999999997,0.4115503,0.4120103,0.4086203,0.4091403,0.4096103,0.4139503,0.4105003,0.4151003,0.4156503,0.4161603,0.4206103,0.42114029999999997,0.4217103,0.4223403,0.4189903,0.4271503,0.42758029999999997,0.4280703,0.4322803,0.4327603,0.4330603,0.4333403,0.4336703,0.4377503,0.4341403,0.43818029999999997,0.4421903,0.43462029999999996],\"type\":\"scatter\"}],                        {\"template\":{\"data\":{\"histogram2dcontour\":[{\"type\":\"histogram2dcontour\",\"colorbar\":{\"outlinewidth\":0,\"ticks\":\"\"},\"colorscale\":[[0.0,\"#0d0887\"],[0.1111111111111111,\"#46039f\"],[0.2222222222222222,\"#7201a8\"],[0.3333333333333333,\"#9c179e\"],[0.4444444444444444,\"#bd3786\"],[0.5555555555555556,\"#d8576b\"],[0.6666666666666666,\"#ed7953\"],[0.7777777777777778,\"#fb9f3a\"],[0.8888888888888888,\"#fdca26\"],[1.0,\"#f0f921\"]]}],\"choropleth\":[{\"type\":\"choropleth\",\"colorbar\":{\"outlinewidth\":0,\"ticks\":\"\"}}],\"histogram2d\":[{\"type\":\"histogram2d\",\"colorbar\":{\"outlinewidth\":0,\"ticks\":\"\"},\"colorscale\":[[0.0,\"#0d0887\"],[0.1111111111111111,\"#46039f\"],[0.2222222222222222,\"#7201a8\"],[0.3333333333333333,\"#9c179e\"],[0.4444444444444444,\"#bd3786\"],[0.5555555555555556,\"#d8576b\"],[0.6666666666666666,\"#ed7953\"],[0.7777777777777778,\"#fb9f3a\"],[0.8888888888888888,\"#fdca26\"],[1.0,\"#f0f921\"]]}],\"heatmap\":[{\"type\":\"heatmap\",\"colorbar\":{\"outlinewidth\":0,\"ticks\":\"\"},\"colorscale\":[[0.0,\"#0d0887\"],[0.1111111111111111,\"#46039f\"],[0.2222222222222222,\"#7201a8\"],[0.3333333333333333,\"#9c179e\"],[0.4444444444444444,\"#bd3786\"],[0.5555555555555556,\"#d8576b\"],[0.6666666666666666,\"#ed7953\"],[0.7777777777777778,\"#fb9f3a\"],[0.8888888888888888,\"#fdca26\"],[1.0,\"#f0f921\"]]}],\"heatmapgl\":[{\"type\":\"heatmapgl\",\"colorbar\":{\"outlinewidth\":0,\"ticks\":\"\"},\"colorscale\":[[0.0,\"#0d0887\"],[0.1111111111111111,\"#46039f\"],[0.2222222222222222,\"#7201a8\"],[0.3333333333333333,\"#9c179e\"],[0.4444444444444444,\"#bd3786\"],[0.5555555555555556,\"#d8576b\"],[0.6666666666666666,\"#ed7953\"],[0.7777777777777778,\"#fb9f3a\"],[0.8888888888888888,\"#fdca26\"],[1.0,\"#f0f921\"]]}],\"contourcarpet\":[{\"type\":\"contourcarpet\",\"colorbar\":{\"outlinewidth\":0,\"ticks\":\"\"}}],\"contour\":[{\"type\":\"contour\",\"colorbar\":{\"outlinewidth\":0,\"ticks\":\"\"},\"colorscale\":[[0.0,\"#0d0887\"],[0.1111111111111111,\"#46039f\"],[0.2222222222222222,\"#7201a8\"],[0.3333333333333333,\"#9c179e\"],[0.4444444444444444,\"#bd3786\"],[0.5555555555555556,\"#d8576b\"],[0.6666666666666666,\"#ed7953\"],[0.7777777777777778,\"#fb9f3a\"],[0.8888888888888888,\"#fdca26\"],[1.0,\"#f0f921\"]]}],\"surface\":[{\"type\":\"surface\",\"colorbar\":{\"outlinewidth\":0,\"ticks\":\"\"},\"colorscale\":[[0.0,\"#0d0887\"],[0.1111111111111111,\"#46039f\"],[0.2222222222222222,\"#7201a8\"],[0.3333333333333333,\"#9c179e\"],[0.4444444444444444,\"#bd3786\"],[0.5555555555555556,\"#d8576b\"],[0.6666666666666666,\"#ed7953\"],[0.7777777777777778,\"#fb9f3a\"],[0.8888888888888888,\"#fdca26\"],[1.0,\"#f0f921\"]]}],\"mesh3d\":[{\"type\":\"mesh3d\",\"colorbar\":{\"outlinewidth\":0,\"ticks\":\"\"}}],\"scatter\":[{\"fillpattern\":{\"fillmode\":\"overlay\",\"size\":10,\"solidity\":0.2},\"type\":\"scatter\"}],\"parcoords\":[{\"type\":\"parcoords\",\"line\":{\"colorbar\":{\"outlinewidth\":0,\"ticks\":\"\"}}}],\"scatterpolargl\":[{\"type\":\"scatterpolargl\",\"marker\":{\"colorbar\":{\"outlinewidth\":0,\"ticks\":\"\"}}}],\"bar\":[{\"error_x\":{\"color\":\"#2a3f5f\"},\"error_y\":{\"color\":\"#2a3f5f\"},\"marker\":{\"line\":{\"color\":\"#E5ECF6\",\"width\":0.5},\"pattern\":{\"fillmode\":\"overlay\",\"size\":10,\"solidity\":0.2}},\"type\":\"bar\"}],\"scattergeo\":[{\"type\":\"scattergeo\",\"marker\":{\"colorbar\":{\"outlinewidth\":0,\"ticks\":\"\"}}}],\"scatterpolar\":[{\"type\":\"scatterpolar\",\"marker\":{\"colorbar\":{\"outlinewidth\":0,\"ticks\":\"\"}}}],\"histogram\":[{\"marker\":{\"pattern\":{\"fillmode\":\"overlay\",\"size\":10,\"solidity\":0.2}},\"type\":\"histogram\"}],\"scattergl\":[{\"type\":\"scattergl\",\"marker\":{\"colorbar\":{\"outlinewidth\":0,\"ticks\":\"\"}}}],\"scatter3d\":[{\"type\":\"scatter3d\",\"line\":{\"colorbar\":{\"outlinewidth\":0,\"ticks\":\"\"}},\"marker\":{\"colorbar\":{\"outlinewidth\":0,\"ticks\":\"\"}}}],\"scattermapbox\":[{\"type\":\"scattermapbox\",\"marker\":{\"colorbar\":{\"outlinewidth\":0,\"ticks\":\"\"}}}],\"scatterternary\":[{\"type\":\"scatterternary\",\"marker\":{\"colorbar\":{\"outlinewidth\":0,\"ticks\":\"\"}}}],\"scattercarpet\":[{\"type\":\"scattercarpet\",\"marker\":{\"colorbar\":{\"outlinewidth\":0,\"ticks\":\"\"}}}],\"carpet\":[{\"aaxis\":{\"endlinecolor\":\"#2a3f5f\",\"gridcolor\":\"white\",\"linecolor\":\"white\",\"minorgridcolor\":\"white\",\"startlinecolor\":\"#2a3f5f\"},\"baxis\":{\"endlinecolor\":\"#2a3f5f\",\"gridcolor\":\"white\",\"linecolor\":\"white\",\"minorgridcolor\":\"white\",\"startlinecolor\":\"#2a3f5f\"},\"type\":\"carpet\"}],\"table\":[{\"cells\":{\"fill\":{\"color\":\"#EBF0F8\"},\"line\":{\"color\":\"white\"}},\"header\":{\"fill\":{\"color\":\"#C8D4E3\"},\"line\":{\"color\":\"white\"}},\"type\":\"table\"}],\"barpolar\":[{\"marker\":{\"line\":{\"color\":\"#E5ECF6\",\"width\":0.5},\"pattern\":{\"fillmode\":\"overlay\",\"size\":10,\"solidity\":0.2}},\"type\":\"barpolar\"}],\"pie\":[{\"automargin\":true,\"type\":\"pie\"}]},\"layout\":{\"autotypenumbers\":\"strict\",\"colorway\":[\"#636efa\",\"#EF553B\",\"#00cc96\",\"#ab63fa\",\"#FFA15A\",\"#19d3f3\",\"#FF6692\",\"#B6E880\",\"#FF97FF\",\"#FECB52\"],\"font\":{\"color\":\"#2a3f5f\"},\"hovermode\":\"closest\",\"hoverlabel\":{\"align\":\"left\"},\"paper_bgcolor\":\"white\",\"plot_bgcolor\":\"#E5ECF6\",\"polar\":{\"bgcolor\":\"#E5ECF6\",\"angularaxis\":{\"gridcolor\":\"white\",\"linecolor\":\"white\",\"ticks\":\"\"},\"radialaxis\":{\"gridcolor\":\"white\",\"linecolor\":\"white\",\"ticks\":\"\"}},\"ternary\":{\"bgcolor\":\"#E5ECF6\",\"aaxis\":{\"gridcolor\":\"white\",\"linecolor\":\"white\",\"ticks\":\"\"},\"baxis\":{\"gridcolor\":\"white\",\"linecolor\":\"white\",\"ticks\":\"\"},\"caxis\":{\"gridcolor\":\"white\",\"linecolor\":\"white\",\"ticks\":\"\"}},\"coloraxis\":{\"colorbar\":{\"outlinewidth\":0,\"ticks\":\"\"}},\"colorscale\":{\"sequential\":[[0.0,\"#0d0887\"],[0.1111111111111111,\"#46039f\"],[0.2222222222222222,\"#7201a8\"],[0.3333333333333333,\"#9c179e\"],[0.4444444444444444,\"#bd3786\"],[0.5555555555555556,\"#d8576b\"],[0.6666666666666666,\"#ed7953\"],[0.7777777777777778,\"#fb9f3a\"],[0.8888888888888888,\"#fdca26\"],[1.0,\"#f0f921\"]],\"sequentialminus\":[[0.0,\"#0d0887\"],[0.1111111111111111,\"#46039f\"],[0.2222222222222222,\"#7201a8\"],[0.3333333333333333,\"#9c179e\"],[0.4444444444444444,\"#bd3786\"],[0.5555555555555556,\"#d8576b\"],[0.6666666666666666,\"#ed7953\"],[0.7777777777777778,\"#fb9f3a\"],[0.8888888888888888,\"#fdca26\"],[1.0,\"#f0f921\"]],\"diverging\":[[0,\"#8e0152\"],[0.1,\"#c51b7d\"],[0.2,\"#de77ae\"],[0.3,\"#f1b6da\"],[0.4,\"#fde0ef\"],[0.5,\"#f7f7f7\"],[0.6,\"#e6f5d0\"],[0.7,\"#b8e186\"],[0.8,\"#7fbc41\"],[0.9,\"#4d9221\"],[1,\"#276419\"]]},\"xaxis\":{\"gridcolor\":\"white\",\"linecolor\":\"white\",\"ticks\":\"\",\"title\":{\"standoff\":15},\"zerolinecolor\":\"white\",\"automargin\":true,\"zerolinewidth\":2},\"yaxis\":{\"gridcolor\":\"white\",\"linecolor\":\"white\",\"ticks\":\"\",\"title\":{\"standoff\":15},\"zerolinecolor\":\"white\",\"automargin\":true,\"zerolinewidth\":2},\"scene\":{\"xaxis\":{\"backgroundcolor\":\"#E5ECF6\",\"gridcolor\":\"white\",\"linecolor\":\"white\",\"showbackground\":true,\"ticks\":\"\",\"zerolinecolor\":\"white\",\"gridwidth\":2},\"yaxis\":{\"backgroundcolor\":\"#E5ECF6\",\"gridcolor\":\"white\",\"linecolor\":\"white\",\"showbackground\":true,\"ticks\":\"\",\"zerolinecolor\":\"white\",\"gridwidth\":2},\"zaxis\":{\"backgroundcolor\":\"#E5ECF6\",\"gridcolor\":\"white\",\"linecolor\":\"white\",\"showbackground\":true,\"ticks\":\"\",\"zerolinecolor\":\"white\",\"gridwidth\":2}},\"shapedefaults\":{\"line\":{\"color\":\"#2a3f5f\"}},\"annotationdefaults\":{\"arrowcolor\":\"#2a3f5f\",\"arrowhead\":0,\"arrowwidth\":1},\"geo\":{\"bgcolor\":\"white\",\"landcolor\":\"#E5ECF6\",\"subunitcolor\":\"white\",\"showland\":true,\"showlakes\":true,\"lakecolor\":\"white\"},\"title\":{\"x\":0.05},\"mapbox\":{\"style\":\"light\"}}},\"title\":{\"text\":\"360-U1473A-84R-1-W-143-r4\",\"x\":0.5,\"xanchor\":\"center\"},\"font\":{\"family\":\"Roboto, sans-serif\",\"size\":18,\"color\":\"Black\"},\"xaxis\":{\"title\":{\"text\":\"Temperature (&deg;C)\"},\"tick0\":0,\"dtick\":100,\"gridcolor\":\"lightgray\",\"gridwidth\":1,\"showline\":true,\"linewidth\":1,\"linecolor\":\"black\"},\"yaxis\":{\"title\":{\"text\":\"<i>k</i> (m<sup>3</sup> kg<sup>-1</sup>)\"},\"autorange\":true,\"tickformat\":\".1e\",\"gridcolor\":\"lightgray\",\"gridwidth\":1,\"showline\":true,\"linewidth\":1,\"linecolor\":\"black\"},\"margin\":{\"l\":50,\"r\":50,\"b\":50,\"t\":80},\"width\":900,\"height\":556,\"showlegend\":true,\"paper_bgcolor\":\"white\",\"plot_bgcolor\":\"white\",\"shapes\":[{\"line\":{\"color\":\"black\",\"width\":2},\"type\":\"rect\",\"x0\":0,\"x1\":1,\"xref\":\"paper\",\"y0\":0,\"y1\":1,\"yref\":\"paper\"}]},                        {\"responsive\": true}                    ).then(function(){\n",
       "                            \n",
       "var gd = document.getElementById('c87f20d5-7e8b-4f52-95c9-b146ac382cc3');\n",
       "var x = new MutationObserver(function (mutations, observer) {{\n",
       "        var display = window.getComputedStyle(gd).display;\n",
       "        if (!display || display === 'none') {{\n",
       "            console.log([gd, 'removed!']);\n",
       "            Plotly.purge(gd);\n",
       "            observer.disconnect();\n",
       "        }}\n",
       "}});\n",
       "\n",
       "// Listen for the removal of the full notebook cells\n",
       "var notebookContainer = gd.closest('#notebook-container');\n",
       "if (notebookContainer) {{\n",
       "    x.observe(notebookContainer, {childList: true});\n",
       "}}\n",
       "\n",
       "// Listen for the clearing of the current output cell\n",
       "var outputEl = gd.closest('.output');\n",
       "if (outputEl) {{\n",
       "    x.observe(outputEl, {childList: true});\n",
       "}}\n",
       "\n",
       "                        })                };                });            </script>        </div>"
      ]
     },
     "metadata": {},
     "output_type": "display_data"
    }
   ],
   "source": [
    "# Create a plot for the 'heat' dataset with red points and a line\n",
    "fig_heat = go.Figure()\n",
    "\n",
    "# Add heat data as a scatter plot with red points and lines\n",
    "fig_heat.add_trace(go.Scatter(\n",
    "    x=heat['meas_temp'],\n",
    "    y=heat['susc_chi_mass'],\n",
    "    mode='lines+markers',\n",
    "    marker=dict(color='red'),\n",
    "    line=dict(color='red'),\n",
    "    name='Heating - zero corrected'\n",
    "))\n",
    "\n",
    "# Create a scatter plot for the 'cooling' dataset with blue points and a line\n",
    "fig_cool = go.Figure()\n",
    "\n",
    "# Add cooling data as a scatter plot with blue points and lines\n",
    "fig_cool.add_trace(go.Scatter(\n",
    "    x=cool['meas_temp'],\n",
    "    y=cool['susc_chi_mass'],\n",
    "    mode='lines+markers',\n",
    "    marker=dict(color='blue'),\n",
    "    line=dict(color='blue'),\n",
    "    name='Cooling - zero corrected'\n",
    "))\n",
    "\n",
    "# Combine the two figures\n",
    "fig = go.Figure(data=fig_heat.data + fig_cool.data)\n",
    "\n",
    "width = 900  # Adjust the width to your preference\n",
    "height = int(width / 1.618)  # Calculate height based on the golden ratio\n",
    "\n",
    "# Update the layout with a unified title and labels\n",
    "fig.update_layout(\n",
    "        title={\n",
    "        'text': f\"{selected_specimen}\",\n",
    "        'x': 0.5,  # Center the title\n",
    "        'xanchor': 'center'\n",
    "    },\n",
    "    width=width,\n",
    "    height=height,\n",
    "    xaxis_title='Temperature (&deg;C)',\n",
    "    yaxis_title='<i>k</i> (m<sup>3</sup> kg<sup>-1</sup>)',\n",
    "    showlegend=True,\n",
    "    paper_bgcolor='white',  # Background color of the entire plot\n",
    "    plot_bgcolor='white',   # Background color of the plotting area\n",
    "    font=dict(\n",
    "        family='Roboto, sans-serif',\n",
    "        size=18,\n",
    "        color=\"Black\"\n",
    "    ),\n",
    "    xaxis=dict(\n",
    "        tick0=0,  # Start at 0\n",
    "        dtick=100,  # Tick every 100 units\n",
    "        gridcolor='lightgray',  # Color of the grid lines\n",
    "        gridwidth=1,  # Width of the grid lines\n",
    "        showline=True,  # Show x-axis line\n",
    "        linewidth=1,  # Width of the x-axis line\n",
    "        linecolor='black'  # Color of the x-axis line\n",
    "    ),\n",
    "    yaxis=dict(\n",
    "        # Automatic tick marks on the y-axis\n",
    "        autorange= True,  # Reversed for easier reading\n",
    "        tickformat='.1e',  # Scientific notation format\n",
    "        gridcolor='lightgray',  # Color of the grid lines\n",
    "        gridwidth=1,  # Width of the grid lines\n",
    "        showline=True,  # Show y-axis line\n",
    "        linewidth=1,  # Width of the y-axis line\n",
    "        linecolor='black'  # Color of the y-axis line\n",
    "    ),\n",
    "        shapes=[\n",
    "        # Frame around the plot\n",
    "        dict(\n",
    "            type='rect',\n",
    "            xref='paper', yref='paper',\n",
    "            x0=0, y0=0, x1=1, y1=1,\n",
    "            line=dict(color='black', width=2)\n",
    "        )\n",
    "    ],\n",
    "    margin=dict(\n",
    "        l=50,  # Adjust left margin\n",
    "        r=50,  # Adjust right margin\n",
    "        b=50,  # Adjust bottom margin\n",
    "        t=80   # Adjust top margin for title\n",
    "    )\n",
    ")\n",
    "\n",
    "# Show the combined plot\n",
    "fig.show()"
   ]
  },
  {
   "cell_type": "code",
   "execution_count": 22,
   "metadata": {},
   "outputs": [],
   "source": [
    "matplotlib inline"
   ]
  },
  {
   "cell_type": "markdown",
   "metadata": {},
   "source": [
    "### 6. Running Average Smoothing\n",
    "\n",
    "Your data might be noisy, which may hinder interpretation of Curie Temperatures or assessing reversibility for understanding alteration. The following code will perform a running average of data over a temperature interval that you can define.\n",
    "\n",
    "Two graphs will be created. \n",
    "\n",
    "(1) The top graph shows the raw data as points and the smoothed data as lines, for the temperature window size selected.\n",
    "\n",
    "(2) The bottom graphs compares the model roughness against the root mean square error of the model (note that the y-axis is inverted) (a measure of the difference between the running average and the data). Each point on the graph is for a different temperature window size. The knee in the curve (the break of slope) is the optimal tempeature window. At this point (window) there is a decent trade off between the smoothness of the model (the running average) and error on the model.\n"
   ]
  },
  {
   "cell_type": "code",
   "execution_count": 23,
   "metadata": {},
   "outputs": [
    {
     "data": {
      "application/vnd.jupyter.widget-view+json": {
       "model_id": "502133b76fbb4462ba7f73116dd93c8c",
       "version_major": 2,
       "version_minor": 0
      },
      "text/plain": [
       "HBox(children=(Text(value='0.0', description='Temperature window size', style=DescriptionStyle(description_wid…"
      ]
     },
     "metadata": {},
     "output_type": "display_data"
    },
    {
     "data": {
      "application/vnd.jupyter.widget-view+json": {
       "model_id": "433c0c9741a94a99be513a63ee038875",
       "version_major": 2,
       "version_minor": 0
      },
      "text/plain": [
       "Button(description='Smooth', style=ButtonStyle())"
      ]
     },
     "metadata": {},
     "output_type": "display_data"
    },
    {
     "data": {
      "application/javascript": [
       "IPython.notebook.execute_cell_range(IPython.notebook.get_selected_index()+1, IPython.notebook.ncells())"
      ],
      "text/plain": [
       "<IPython.core.display.Javascript object>"
      ]
     },
     "metadata": {},
     "output_type": "display_data"
    },
    {
     "data": {
      "application/javascript": [
       "IPython.notebook.execute_cell_range(IPython.notebook.get_selected_index()+1, IPython.notebook.ncells())"
      ],
      "text/plain": [
       "<IPython.core.display.Javascript object>"
      ]
     },
     "metadata": {},
     "output_type": "display_data"
    },
    {
     "data": {
      "application/javascript": [
       "IPython.notebook.execute_cell_range(IPython.notebook.get_selected_index()+1, IPython.notebook.ncells())"
      ],
      "text/plain": [
       "<IPython.core.display.Javascript object>"
      ]
     },
     "metadata": {},
     "output_type": "display_data"
    },
    {
     "data": {
      "application/javascript": [
       "IPython.notebook.execute_cell_range(IPython.notebook.get_selected_index()+1, IPython.notebook.ncells())"
      ],
      "text/plain": [
       "<IPython.core.display.Javascript object>"
      ]
     },
     "metadata": {},
     "output_type": "display_data"
    }
   ],
   "source": [
    "#Create temperature window box\n",
    "temp_window = '0.0'\n",
    "\n",
    "# Create a text box widget for the LOESS smoothing fraction\n",
    "temp_window_textbox = widgets.Text(value=temp_window, description='Temperature window size', style={'description_width': 'initial'})\n",
    "\n",
    "# Add descriptive text next to the text box\n",
    "description_label = widgets.Label(value='\\u00B0C')\n",
    "description_box = widgets.HBox([temp_window_textbox, description_label])\n",
    "\n",
    "# Function to handle changes in the text box value\n",
    "def handle_textbox_change(change):\n",
    "    new_value = change.new\n",
    "    if new_value.strip() != '':\n",
    "        global temp_window\n",
    "        temp_window = new_value\n",
    "\n",
    "# Attach the event handler to monitor changes in the text box value\n",
    "temp_window_textbox.observe(handle_textbox_change, names='value')\n",
    "\n",
    "# Function to execute code when button is clicked\n",
    "def execute_code(button):\n",
    "    display(Javascript('IPython.notebook.execute_cell_range(IPython.notebook.get_selected_index()+1, IPython.notebook.ncells())'))\n",
    "\n",
    "# Create a button widget for executing code\n",
    "execute_button = widgets.Button(description='Smooth')\n",
    "\n",
    "# Attach the event handler to the button\n",
    "execute_button.on_click(execute_code)\n",
    "\n",
    "# Display the text box, button, and descriptive text\n",
    "display(description_box)\n",
    "display(execute_button)\n"
   ]
  },
  {
   "cell_type": "code",
   "execution_count": 38,
   "metadata": {},
   "outputs": [
    {
     "data": {
      "image/png": "[encoded data removed]",
      "text/plain": [
       "<Figure size 1000x600 with 1 Axes>"
      ]
     },
     "metadata": {},
     "output_type": "display_data"
    },
    {
     "data": {
      "image/png": "[encoded data removed]",
      "text/plain": [
       "<Figure size 1000x600 with 1 Axes>"
      ]
     },
     "metadata": {},
     "output_type": "display_data"
    }
   ],
   "source": [
    "temp_window = float(temp_window)\n",
    "\n",
    "def running_average(temp_list, chi_list, temp_window):\n",
    "    if not temp_list or not chi_list or temp_window <= 0:\n",
    "        return temp_list, chi_list, [], []\n",
    "    \n",
    "    avg_temps = []\n",
    "    avg_chis = []\n",
    "    temp_vars = []\n",
    "    chi_vars = []\n",
    "    n = len(temp_list)\n",
    "    \n",
    "    for i in range(n):\n",
    "        # Determine the temperature range for the current point\n",
    "        temp_center = temp_list[i]\n",
    "        start_temp = temp_center - temp_window / 2\n",
    "        end_temp = temp_center + temp_window / 2\n",
    "        \n",
    "        # Get the indices within the temperature range\n",
    "        indices = [j for j, t in enumerate(temp_list) if start_temp <= t <= end_temp]\n",
    "        \n",
    "        # Calculate the average temperature and susceptibility for the current window\n",
    "        if indices:\n",
    "            temp_range = [temp_list[j] for j in indices]\n",
    "            chi_range = [chi_list[j] for j in indices]\n",
    "            avg_temp = sum(temp_range) / len(temp_range)\n",
    "            avg_chi = sum(chi_range) / len(chi_range)\n",
    "            temp_var = np.var(temp_range)\n",
    "            chi_var = np.var(chi_range)\n",
    "        else:\n",
    "            avg_temp = temp_center\n",
    "            avg_chi = chi_list[i]\n",
    "            temp_var = 0\n",
    "            chi_var = 0\n",
    "        \n",
    "        avg_temps.append(avg_temp)\n",
    "        avg_chis.append(avg_chi)\n",
    "        temp_vars.append(temp_var)\n",
    "        chi_vars.append(chi_var)\n",
    "    \n",
    "    return avg_temps, avg_chis, temp_vars, chi_vars\n",
    "\n",
    "# From heating\n",
    "hT = heat['meas_temp'].tolist()\n",
    "hk = heat['susc_chi_mass'].tolist()\n",
    "\n",
    "# From cooling\n",
    "cT = cool['meas_temp'].tolist()\n",
    "ck = cool['susc_chi_mass'].tolist()\n",
    "\n",
    "avg_temp_heat, avg_chi_heat, temp_vars, chi_vars = running_average(hT, hk, temp_window)\n",
    "avg_temp_cool, avg_chi_cool, temp_vars, chi_vars = running_average(cT, ck, temp_window)\n",
    "\n",
    "def calculate_rms(chi_list, avg_chis):\n",
    "    mse = [(chi - avg_chi)**2 for chi, avg_chi in zip(chi_list, avg_chis)]\n",
    "    rms = np.sqrt(mse)\n",
    "    return rms\n",
    "\n",
    "def calculate_avg_variance_and_rms(chi_list, avg_chis, temp_vars, chi_vars):\n",
    "    rms_list = calculate_rms(chi_list, avg_chis)\n",
    "    total_rms = np.sum(rms_list)\n",
    "    avg_rms = total_rms / len(rms_list)\n",
    "    \n",
    "    total_variance = np.sum(chi_vars)\n",
    "    avg_variance = total_variance / len(chi_vars)\n",
    "    \n",
    "    return avg_rms, avg_variance\n",
    "\n",
    "def evaluate_window_sizes(temp_list, chi_list, window_sizes):\n",
    "    results = []\n",
    "    for window_size in window_sizes:\n",
    "        avg_temps, avg_chis, temp_vars, chi_vars = running_average(temp_list, chi_list, window_size)\n",
    "        avg_rms, avg_variance = calculate_avg_variance_and_rms(chi_list, avg_chis, temp_vars, chi_vars)\n",
    "        results.append((window_size, avg_rms, avg_variance))\n",
    "    return results\n",
    "\n",
    "# Define the range of window sizes to evaluate\n",
    "window_sizes = [1, 2, 5, 7.5, 10, 15, 20, 30, 40, 50]\n",
    "\n",
    "# Evaluate for heating data\n",
    "results_heat = evaluate_window_sizes(hT, hk, window_sizes)\n",
    "\n",
    "# Evaluate for cooling data\n",
    "results_cool = evaluate_window_sizes(cT, ck, window_sizes)\n",
    "\n",
    "plt.figure(figsize=(10, 6))\n",
    "plt.scatter(hT, hk, label='Original Heating Data', color='#FFCCCC')\n",
    "plt.scatter(cT, ck, label='Original Cooling Data', color='#9FCAF0')\n",
    "plt.plot(avg_temp_heat, avg_chi_heat, label='Running Average Heating', color='Red')\n",
    "plt.plot(avg_temp_cool, avg_chi_cool, label='Running Average Cooling', color='Blue')\n",
    "plt.xlabel('Temperature (\\u00B0C)')\n",
    "plt.ylabel('k (Am2/kg)')\n",
    "plt.title(selected_specimen + '| Running Average Smoothing | Temperature Window = ' + str(temp_window) + '\\u00B0C')\n",
    "plt.legend()\n",
    "plt.show()\n",
    "\n",
    "\n",
    "def plot_rms_vs_variance(results, title):\n",
    "    window_sizes, rmses, variances = zip(*results)\n",
    "    \n",
    "    plt.figure(figsize=(10, 6))\n",
    "    plt.scatter(variances, rmses, color='blue')\n",
    "    \n",
    "    for i, window_size in enumerate(window_sizes):\n",
    "        plt.text(variances[i], rmses[i], f'{window_size}°C', fontsize=12, ha='right')\n",
    "    \n",
    "    plt.title(title)\n",
    "    plt.xlabel('Average Variance')\n",
    "    plt.ylabel('Average RMS')\n",
    "    plt.grid(True)\n",
    "    plt.gca().invert_yaxis()\n",
    "    plt.show()\n",
    "\n",
    "# Plot for heating data\n",
    "plot_rms_vs_variance(results_heat, 'Heating Data: Average RMS vs Average Variance')"
   ]
  },
  {
   "cell_type": "markdown",
   "metadata": {},
   "source": [
    "### 7. Plot the first and second derivatives of the <span style=\"font-family: 'Times New Roman';\">*k(T)*</span> data\n",
    "\n",
    "Plotting the first and second derviatives of the data can help define practical Curie Temperatures for the phases in a specimen. For the first derviative one looks for the maximum in the derivative. In the second derivative, one looks for the zero crossing points. The second derivative can often be noisy and hard to work with. NB. The temperatures defined this way are only an estimate of the Curie Temperature."
   ]
  },
  {
   "cell_type": "code",
   "execution_count": 39,
   "metadata": {},
   "outputs": [
    {
     "data": {
      "application/vnd.plotly.v1+json": {
       "config": {
        "plotlyServerURL": "https://plot.ly"
       },
       "data": [
        {
         "line": {
          "color": "red"
         },
         "marker": {
          "color": "red"
         },
         "mode": "lines+markers",
         "name": "Heating (smoothed) - 1st Derivative",
         "type": "scatter",
         "x": [
          null,
          47.783333333333346,
          52.83333333333336,
          55.96363636363638,
          63.61083916083919,
          64.96510989010991,
          67.86214285714289,
          74.89980392156865,
          80.13328173374613,
          90.41929824561406,
          94.66111111111113,
          100.17222222222225,
          101.05964912280704,
          107.88684210526318,
          112.97894736842106,
          117.94210526315791,
          118.96565789473685,
          125.14250000000001,
          126.18,
          132.20952380952386,
          136.92619047619053,
          141.69761904761907,
          146.33809523809526,
          151.14761904761912,
          155.77142857142866,
          160.42857142857144,
          165.0261904761905,
          169.70952380952394,
          174.40000000000006,
          179.09523809523813,
          183.77857142857147,
          188.55714285714288,
          193.3047619047619,
          198.06666666666672,
          202.81666666666666,
          207.63333333333338,
          212.45,
          217.2452380952381,
          222.0809523809524,
          226.89047619047616,
          231.73333333333335,
          236.55952380952374,
          241.38095238095235,
          246.19761904761907,
          251.00238095238095,
          255.90476190476193,
          260.7333333333334,
          265.6261904761905,
          270.47380952380956,
          275.3809523809524,
          280.2857142857143,
          285.19285714285706,
          289.9833333333333,
          294.79047619047617,
          299.6333333333333,
          304.41666666666663,
          309.1952380952381,
          314.0023809523809,
          318.7595238095238,
          323.5595238095239,
          328.34285714285716,
          333.1214285714286,
          337.8452380952382,
          342.602380952381,
          347.30476190476196,
          352.01666666666677,
          356.6380952380953,
          361.2761904761905,
          365.954761904762,
          373.9870129870131,
          377.37727272727284,
          381.96818181818185,
          386.50227272727284,
          391.1068181818182,
          395.659090909091,
          400.175,
          404.70000000000016,
          409.21363636363645,
          413.68409090909097,
          418.1227272727273,
          419.19249011857715,
          424.6869565217392,
          429.13478260869573,
          433.5,
          437.85434782608695,
          442.1347826086958,
          446.48913043478257,
          450.7826086956522,
          458.23586956521734,
          461.48958333333326,
          462.5584239130435,
          471.03885869565204,
          471.10226449275353,
          479.5339673913043,
          482.6625,
          483.73940217391305,
          492.0410326086957,
          495.1583333333333,
          499.26666666666654,
          503.3979166666665,
          504.4123333333332,
          509.54799999999994,
          516.7529999999999,
          516.7256666666665,
          525.0095,
          524.9288333333334,
          530.0179999999998,
          537.2445,
          537.2058333333334,
          542.328,
          546.4319999999999,
          550.4300000000001,
          554.486,
          558.528,
          562.5840000000002,
          566.6000000000001,
          570.586,
          574.5740000000001,
          578.5360000000001,
          582.5559999999999,
          586.53,
          590.508,
          594.47,
          598.4740000000002,
          602.454,
          606.3659999999999,
          613.2394615384615,
          613.2888461538462,
          618.2,
          622.0799999999998,
          626.046,
          629.9179999999999,
          636.6861538461535,
          636.7106153846154,
          644.4233846153844,
          647.2211538461538,
          651.1326923076923,
          655.0000000000001,
          658.7596153846155,
          656.8615384615385,
          662.6004807692309,
          663.5921195652174,
          665.5198616600792,
          667.4762987012989,
          669.3638095238096,
          668.4100000000001,
          674.1366666666668,
          672.2277777777779,
          675.1287581699347,
          677.0034926470589,
          678.8968750000001,
          680.832142857143
         ],
         "y": [
          null,
          null,
          -0.0003251815181518145,
          -0.0003009348441926468,
          -0.00027119047619048015,
          -0.0002485236768802096,
          -0.00023510690386814004,
          -0.0002191913597341407,
          -0.00023974550898204244,
          -0.00019331012101953844,
          -0.0002723735408560272,
          -0.0002798804780876515,
          -0.0001321522309711108,
          -0.00020058823529411703,
          -0.00020152284263960532,
          -0.0001998955067920767,
          -7.922656859466974e-05,
          -0.00011009174311926296,
          -6.742734343019577e-05,
          -6.137040714995685e-05,
          -9.206827309238707e-05,
          -8.429999999996162e-05,
          -3.6927772126155894e-05,
          -3.086913086914003e-05,
          -2.24260958205869e-05,
          -1.4198161389165441e-05,
          -6.185567010298295e-06,
          -3.9121552604682296e-05,
          6.917599186140688e-06,
          9.106598984770228e-05,
          1.991869918701575e-05,
          0.00010270812437312456,
          0.00010842527582744829,
          7.527527527531605e-05,
          8.046092184366775e-05,
          8.440913604767811e-05,
          0.00012643564356434658,
          9.255952380952694e-05,
          0.0001333662388943836,
          0.00013649851632046377,
          6.295566502462776e-05,
          0.00014122287968443284,
          0.0001433366238894358,
          0.00010701581027667886,
          0.00010831683168318406,
          0.0001454545454545258,
          0.00014670599803343358,
          0.00010839843750000145,
          0.00018411764705880614,
          0.00014518013631938575,
          6.95821185617118e-05,
          6.88349514563078e-05,
          0.00010641025641025732,
          2.9574678536090527e-05,
          2.8275862068978593e-05,
          2.7182539682537617e-05,
          6.398009950248428e-05,
          2.430555555555282e-05,
          2.3053892215568785e-05,
          -5.4671968190849446e-05,
          -1.751243781093741e-05,
          -1.862549800798729e-05,
          -1.9779116465869106e-05,
          1.8036072144303408e-05,
          1.7457114026222792e-05,
          1.7171717171733755e-05,
          1.699078812692477e-05,
          -2.2358974358982642e-05,
          5.7040816326530213e-05,
          0.000103207417152157,
          5.906374501991692e-05,
          9.890873015871986e-05,
          0.00013986013986015626,
          0.00014142715559959548,
          0.00022101593625498941,
          0.00022577733199599415,
          0.00026767068273091083,
          0.0002337022132796764,
          0.00031752786220871676,
          0.0003235714285714344,
          0.0003883743930947787,
          0.0003998021760633021,
          0.0003656526005888271,
          0.00045074331020811796,
          0.0004581673306773061,
          0.00043178607467206067,
          0.0004363727454909866,
          0.00048546922300705606,
          0.0004209554248218079,
          0.0004524685382381444,
          0.0004601113642115843,
          0.00037319320799795584,
          0.00043989793357316096,
          0.00025243766600975125,
          0.00020238095238095434,
          0.0004249935848088188,
          -0.00018617005835048768,
          -0.00023006012024049467,
          -0.00041707070707072675,
          -0.0007169525731584146,
          -0.0022145501786294246,
          -0.001566407010710776,
          -0.0016427745976887302,
          -0.0057254494932986386,
          -0.0028311898747782837,
          -0.007144726038735105,
          -0.004257923228346638,
          -0.003611039045201647,
          -0.006445320754716708,
          -0.004384926686217007,
          -0.004402214634146438,
          -0.004511924603174559,
          -0.004483399209486169,
          -0.004479515331355125,
          -0.00446015794669284,
          -0.004518083416087357,
          -0.004545260000000132,
          -0.004508957915831586,
          -0.004449456193353498,
          -0.004327252747252851,
          -0.0042677409638553765,
          -0.004151467336683397,
          -0.004044667338709719,
          -0.0038212625250500245,
          -0.0035948895582329993,
          -0.0032500914634146995,
          -0.001934181609375393,
          -0.0036999183673469254,
          -0.001252771573604044,
          -0.000560637948717967,
          -0.0002788742393509074,
          -9.23100616016436e-05,
          -8.49716176859961e-05,
          -7.039492753622726e-05,
          -7.532575556381911e-05,
          -7.418439716311788e-05,
          -7.445680238331644e-05,
          -8.618588469184688e-05,
          -6.313171225937179e-05,
          null,
          -6.815095920247881e-05,
          8.72111516512358e-07,
          -4.147179854642143e-05,
          -8.347571952438644e-05,
          -0.00014888017973041322,
          null,
          -7.910768335273456e-05,
          null,
          -0.000103813450490032,
          -0.00018286396274014993,
          -0.00012815357535753106,
          -0.00019647038413878585
         ]
        },
        {
         "line": {
          "color": "blue"
         },
         "marker": {
          "color": "blue"
         },
         "mode": "lines+markers",
         "name": "Cooling (smoothed) - 1st Derivative",
         "type": "scatter",
         "x": [
          null,
          678.3833333333334,
          676.7783625730996,
          677.5763157894738,
          675.1593421052632,
          673.5567857142858,
          671.9316017316019,
          670.2958498023717,
          668.6570652173914,
          667.0075000000002,
          667.8300000000002,
          665.3503846153847,
          663.6920940170942,
          661.9612433862435,
          660.3023399014779,
          658.6201724137933,
          656.8804838709679,
          652.9016129032259,
          649.5887096774195,
          646.4648498331482,
          642.9172413793106,
          639.446551724138,
          635.9810344827588,
          632.5137931034483,
          629.0172413793105,
          622.9019704433501,
          620.207142857143,
          616.5892857142858,
          613.0178571428573,
          609.3964285714285,
          605.7625,
          602.1267857142859,
          598.4196428571429,
          592.0224206349205,
          589.162962962963,
          585.4314814814816,
          581.675925925926,
          580.7634615384616,
          576.0038461538463,
          572.1884615384615,
          568.3288461538461,
          564.55,
          560.6519230769229,
          556.7576923076922,
          552.8442307692308,
          548.9346153846152,
          545.0153846153846,
          541.1288461538461,
          537.1519230769231,
          533.1730769230769,
          526.2121538461538,
          526.2279999999998,
          518.0506666666665,
          518.1344999999999,
          512.96875,
          508.8520833333333,
          504.7458333333333,
          500.61249999999984,
          496.4625,
          492.26458333333335,
          488.09791666666666,
          483.86458333333326,
          479.6208333333334,
          472.30625000000015,
          472.2125000000001,
          463.766123188406,
          460.4717391304347,
          456.15869565217395,
          451.87173913043466,
          447.5043478260869,
          443.1347826086957,
          438.8,
          434.4695652173914,
          430.0891304347827,
          429.02776679841907,
          420.2117588932807,
          420.221837944664,
          411.3941699604743,
          408.05,
          403.608695652174,
          399.1173913043478,
          394.6695652173914,
          393.5942687747036,
          387.9659090909091,
          380.14871541501975,
          373.3807312252965,
          376.75454545454545,
          363.17954545454563,
          367.70454545454555,
          357.50098814229256,
          357.5170948616602,
          351.83409090909095,
          347.30681818181824,
          339.3386363636365,
          335.87857142857143,
          334.7313852813853,
          329.0386363636365,
          321.02305194805194,
          320.9976190476191,
          308.45227272727277,
          313.01818181818186,
          302.7587662337662,
          299.2857142857142,
          294.6833333333333,
          290.0904761904762,
          285.4880952380952,
          280.8166666666666,
          276.1761904761904,
          271.60476190476203,
          266.9809523809524,
          265.8695887445887,
          256.699025974026,
          249.8889610389611,
          246.46590909090912,
          241.89318181818186,
          237.3318181818183,
          232.76136363636368,
          228.1863636363637,
          223.6204545454546,
          219.08636363636361,
          214.52727272727276,
          209.9863636363636,
          205.50227272727267,
          204.41511857707508,
          198.8173913043479,
          194.35000000000002,
          189.92608695652171,
          185.4608695652174,
          181.05000000000007,
          176.61739130434788,
          172.22608695652178,
          167.8347826086957,
          163.4586956521739,
          159.10869565217394,
          151.6554347826087,
          148.49791666666667,
          144.20833333333337,
          140.00833333333338,
          135.8458333333333,
          131.7,
          124.63941666666668,
          124.53824999999998,
          116.58525,
          113.60400000000004,
          109.71200000000006,
          103.13415384615391,
          103.28461538461545,
          98.54444444444451,
          92.3843915343916,
          87.2894088669951,
          84.65172413793108,
          79.10258620689658,
          78.76005747126437,
          79.6844827586207,
          74.26609195402303,
          76.07222222222225,
          73.40235042735046,
          71.64884615384616,
          69.92875000000004,
          70.79583333333336,
          68.2096920289855,
          66.50276679841899,
          64.75259740259743,
          65.6214285714286,
          63.151785714285715,
          63.97500000000001,
          61.53750000000002,
          59.92500000000004,
          60.73333333333336
         ],
         "y": [
          null,
          -0.0001685772576636285,
          -0.00022873048735801098,
          null,
          -3.917867058631382e-05,
          -0.00011061708438380317,
          -5.74245787643766e-05,
          -1.1360451018428913e-05,
          -0.00016814186046511733,
          -2.250060790273606e-05,
          null,
          -7.373950674731901e-05,
          -3.401590850460381e-05,
          -0.0001473942471700971,
          -3.740630975143411e-05,
          -7.987689044002204e-05,
          -3.42675545551166e-05,
          -5.560999999999981e-05,
          -0.00011689096267190683,
          -0.00018955697930889907,
          -7.308962739174281e-05,
          -6.383233532933898e-05,
          -5.6733067729083925e-05,
          -1.2059701492536992e-05,
          -5.588526211671417e-06,
          -4.009238363892941e-05,
          -0.00012053427419354705,
          -0.0001880715705765343,
          -0.0005728343313373443,
          -0.0012502574257425233,
          -0.0019625123152709353,
          -0.002677305801376675,
          -0.0032716197866148656,
          -0.0028225151128344144,
          -0.004044281466798849,
          -0.004205009920635027,
          -0.004305345849802339,
          -0.001977204202131716,
          -0.004436592292089303,
          -0.004422999999999925,
          -0.004424854854854824,
          -0.004446831983805596,
          -0.004410248756218869,
          -0.004356128712871313,
          -0.004343182266009948,
          -0.0043842125984250874,
          -0.004345795677799621,
          -0.004417966436327706,
          -0.004325141187926069,
          -0.004237015503875978,
          -0.005045390826540085,
          -0.007042568273769235,
          -0.0033668036766309963,
          -0.007418392226148426,
          -0.0038404568527919225,
          -0.003180344478216848,
          -0.002414604462474619,
          -0.0015973737373737372,
          -0.0009436619718309922,
          -0.0004832502492522668,
          -0.00022617382617384302,
          -7.922848664686238e-05,
          2.5590551181086684e-05,
          6.424928688737792e-05,
          0.0002263471546079879,
          0.0001212785987333766,
          0.00017227822580645943,
          0.00016391129032259472,
          0.00015404858299591885,
          0.0002228228228228592,
          0.0002531405782652008,
          0.00028458458458459243,
          0.0002775325977933879,
          0.00019282868525895223,
          0.00030115142099973496,
          0.00024512834336718473,
          0.00015872915727808276,
          0.00025008513307640915,
          0.00027460784313727095,
          0.00023232125367286566,
          0.00022701652089409044,
          0.00022370731707317676,
          0.00022499102656138104,
          0.0002252279635258271,
          0.00020888705542622299,
          0.00020571713089067214,
          null,
          0.0002137619286790595,
          null,
          0.0001976873910517085,
          0.000252088624222793,
          0.00021001001001002466,
          0.00017141424272818398,
          0.00013857745629896858,
          0.00017723492723491875,
          0.00010090668681528439,
          0.00021026919242272043,
          0.00015771862878045923,
          0.00014091848234410112,
          0.0001560477849676589,
          null,
          0.00012597867021108504,
          0.00010559585492229082,
          0.00014658385093168152,
          0.00014808290155438956,
          0.00014917184265008531,
          0.00014877049180330083,
          0.0001894358974359128,
          0.00011233160621761372,
          0.00015221878224971696,
          0.00010128217304587405,
          0.00011807274444970215,
          0.00015301330798478654,
          0.00010967098703888338,
          0.00014706467661691132,
          0.00010776892430279515,
          0.00014457711442784823,
          0.00014294234592446322,
          0.00010238805970148956,
          0.00013890000000002045,
          0.00013632734530937528,
          5.6399999999981476e-05,
          0.00013097880928357133,
          9.523302263648949e-05,
          8.26044703595449e-05,
          4.1050583657587005e-05,
          7.443682664055932e-05,
          6.887804878049816e-05,
          2.6522593320240786e-05,
          -1.7271835132491913e-05,
          -2.2704837117495533e-05,
          -2.868447082096504e-05,
          3.5714285714122893e-06,
          -2.891326021933782e-06,
          -8.728421527699724e-05,
          -5.5839057899901547e-05,
          -6.354775828461451e-05,
          -0.00010828402366859968,
          -0.000114641434262942,
          -0.00016002004008015412,
          -0.00022426488689513798,
          -8.983400841875047e-05,
          -0.00020626232330805665,
          -0.0002618856569709288,
          -0.00022986748216106495,
          -0.00031341404096633154,
          -0.0003782849896972529,
          -0.00031044334975369116,
          -0.0003007280355380033,
          -0.0003202599315719253,
          -0.0003546983184965269,
          -0.00036588958505734767,
          -0.00029199253963318333,
          null,
          -0.0002797164474614911,
          null,
          -0.00026094437775111304,
          -0.0003615800960278904,
          -0.00038557424315239364,
          null,
          -0.00040969843438057237,
          -0.00033474498038308655,
          -0.00045589187842556405,
          null,
          -0.0003895733911786345,
          null,
          -0.0004184453441295196,
          -0.00044981009224089296,
          null
         ]
        }
       ],
       "layout": {
        "font": {
         "color": "Black",
         "family": "Roboto, sans-serif",
         "size": 18
        },
        "height": 556,
        "margin": {
         "b": 50,
         "l": 50,
         "r": 50,
         "t": 80
        },
        "paper_bgcolor": "white",
        "plot_bgcolor": "white",
        "shapes": [
         {
          "line": {
           "color": "black",
           "width": 2
          },
          "type": "rect",
          "x0": 0,
          "x1": 1,
          "xref": "paper",
          "y0": 0,
          "y1": 1,
          "yref": "paper"
         }
        ],
        "showlegend": true,
        "template": {
         "data": {
          "bar": [
           {
            "error_x": {
             "color": "#2a3f5f"
            },
            "error_y": {
             "color": "#2a3f5f"
            },
            "marker": {
             "line": {
              "color": "#E5ECF6",
              "width": 0.5
             },
             "pattern": {
              "fillmode": "overlay",
              "size": 10,
              "solidity": 0.2
             }
            },
            "type": "bar"
           }
          ],
          "barpolar": [
           {
            "marker": {
             "line": {
              "color": "#E5ECF6",
              "width": 0.5
             },
             "pattern": {
              "fillmode": "overlay",
              "size": 10,
              "solidity": 0.2
             }
            },
            "type": "barpolar"
           }
          ],
          "carpet": [
           {
            "aaxis": {
             "endlinecolor": "#2a3f5f",
             "gridcolor": "white",
             "linecolor": "white",
             "minorgridcolor": "white",
             "startlinecolor": "#2a3f5f"
            },
            "baxis": {
             "endlinecolor": "#2a3f5f",
             "gridcolor": "white",
             "linecolor": "white",
             "minorgridcolor": "white",
             "startlinecolor": "#2a3f5f"
            },
            "type": "carpet"
           }
          ],
          "choropleth": [
           {
            "colorbar": {
             "outlinewidth": 0,
             "ticks": ""
            },
            "type": "choropleth"
           }
          ],
          "contour": [
           {
            "colorbar": {
             "outlinewidth": 0,
             "ticks": ""
            },
            "colorscale": [
             [
              0,
              "#0d0887"
             ],
             [
              0.1111111111111111,
              "#46039f"
             ],
             [
              0.2222222222222222,
              "#7201a8"
             ],
             [
              0.3333333333333333,
              "#9c179e"
             ],
             [
              0.4444444444444444,
              "#bd3786"
             ],
             [
              0.5555555555555556,
              "#d8576b"
             ],
             [
              0.6666666666666666,
              "#ed7953"
             ],
             [
              0.7777777777777778,
              "#fb9f3a"
             ],
             [
              0.8888888888888888,
              "#fdca26"
             ],
             [
              1,
              "#f0f921"
             ]
            ],
            "type": "contour"
           }
          ],
          "contourcarpet": [
           {
            "colorbar": {
             "outlinewidth": 0,
             "ticks": ""
            },
            "type": "contourcarpet"
           }
          ],
          "heatmap": [
           {
            "colorbar": {
             "outlinewidth": 0,
             "ticks": ""
            },
            "colorscale": [
             [
              0,
              "#0d0887"
             ],
             [
              0.1111111111111111,
              "#46039f"
             ],
             [
              0.2222222222222222,
              "#7201a8"
             ],
             [
              0.3333333333333333,
              "#9c179e"
             ],
             [
              0.4444444444444444,
              "#bd3786"
             ],
             [
              0.5555555555555556,
              "#d8576b"
             ],
             [
              0.6666666666666666,
              "#ed7953"
             ],
             [
              0.7777777777777778,
              "#fb9f3a"
             ],
             [
              0.8888888888888888,
              "#fdca26"
             ],
             [
              1,
              "#f0f921"
             ]
            ],
            "type": "heatmap"
           }
          ],
          "heatmapgl": [
           {
            "colorbar": {
             "outlinewidth": 0,
             "ticks": ""
            },
            "colorscale": [
             [
              0,
              "#0d0887"
             ],
             [
              0.1111111111111111,
              "#46039f"
             ],
             [
              0.2222222222222222,
              "#7201a8"
             ],
             [
              0.3333333333333333,
              "#9c179e"
             ],
             [
              0.4444444444444444,
              "#bd3786"
             ],
             [
              0.5555555555555556,
              "#d8576b"
             ],
             [
              0.6666666666666666,
              "#ed7953"
             ],
             [
              0.7777777777777778,
              "#fb9f3a"
             ],
             [
              0.8888888888888888,
              "#fdca26"
             ],
             [
              1,
              "#f0f921"
             ]
            ],
            "type": "heatmapgl"
           }
          ],
          "histogram": [
           {
            "marker": {
             "pattern": {
              "fillmode": "overlay",
              "size": 10,
              "solidity": 0.2
             }
            },
            "type": "histogram"
           }
          ],
          "histogram2d": [
           {
            "colorbar": {
             "outlinewidth": 0,
             "ticks": ""
            },
            "colorscale": [
             [
              0,
              "#0d0887"
             ],
             [
              0.1111111111111111,
              "#46039f"
             ],
             [
              0.2222222222222222,
              "#7201a8"
             ],
             [
              0.3333333333333333,
              "#9c179e"
             ],
             [
              0.4444444444444444,
              "#bd3786"
             ],
             [
              0.5555555555555556,
              "#d8576b"
             ],
             [
              0.6666666666666666,
              "#ed7953"
             ],
             [
              0.7777777777777778,
              "#fb9f3a"
             ],
             [
              0.8888888888888888,
              "#fdca26"
             ],
             [
              1,
              "#f0f921"
             ]
            ],
            "type": "histogram2d"
           }
          ],
          "histogram2dcontour": [
           {
            "colorbar": {
             "outlinewidth": 0,
             "ticks": ""
            },
            "colorscale": [
             [
              0,
              "#0d0887"
             ],
             [
              0.1111111111111111,
              "#46039f"
             ],
             [
              0.2222222222222222,
              "#7201a8"
             ],
             [
              0.3333333333333333,
              "#9c179e"
             ],
             [
              0.4444444444444444,
              "#bd3786"
             ],
             [
              0.5555555555555556,
              "#d8576b"
             ],
             [
              0.6666666666666666,
              "#ed7953"
             ],
             [
              0.7777777777777778,
              "#fb9f3a"
             ],
             [
              0.8888888888888888,
              "#fdca26"
             ],
             [
              1,
              "#f0f921"
             ]
            ],
            "type": "histogram2dcontour"
           }
          ],
          "mesh3d": [
           {
            "colorbar": {
             "outlinewidth": 0,
             "ticks": ""
            },
            "type": "mesh3d"
           }
          ],
          "parcoords": [
           {
            "line": {
             "colorbar": {
              "outlinewidth": 0,
              "ticks": ""
             }
            },
            "type": "parcoords"
           }
          ],
          "pie": [
           {
            "automargin": true,
            "type": "pie"
           }
          ],
          "scatter": [
           {
            "fillpattern": {
             "fillmode": "overlay",
             "size": 10,
             "solidity": 0.2
            },
            "type": "scatter"
           }
          ],
          "scatter3d": [
           {
            "line": {
             "colorbar": {
              "outlinewidth": 0,
              "ticks": ""
             }
            },
            "marker": {
             "colorbar": {
              "outlinewidth": 0,
              "ticks": ""
             }
            },
            "type": "scatter3d"
           }
          ],
          "scattercarpet": [
           {
            "marker": {
             "colorbar": {
              "outlinewidth": 0,
              "ticks": ""
             }
            },
            "type": "scattercarpet"
           }
          ],
          "scattergeo": [
           {
            "marker": {
             "colorbar": {
              "outlinewidth": 0,
              "ticks": ""
             }
            },
            "type": "scattergeo"
           }
          ],
          "scattergl": [
           {
            "marker": {
             "colorbar": {
              "outlinewidth": 0,
              "ticks": ""
             }
            },
            "type": "scattergl"
           }
          ],
          "scattermapbox": [
           {
            "marker": {
             "colorbar": {
              "outlinewidth": 0,
              "ticks": ""
             }
            },
            "type": "scattermapbox"
           }
          ],
          "scatterpolar": [
           {
            "marker": {
             "colorbar": {
              "outlinewidth": 0,
              "ticks": ""
             }
            },
            "type": "scatterpolar"
           }
          ],
          "scatterpolargl": [
           {
            "marker": {
             "colorbar": {
              "outlinewidth": 0,
              "ticks": ""
             }
            },
            "type": "scatterpolargl"
           }
          ],
          "scatterternary": [
           {
            "marker": {
             "colorbar": {
              "outlinewidth": 0,
              "ticks": ""
             }
            },
            "type": "scatterternary"
           }
          ],
          "surface": [
           {
            "colorbar": {
             "outlinewidth": 0,
             "ticks": ""
            },
            "colorscale": [
             [
              0,
              "#0d0887"
             ],
             [
              0.1111111111111111,
              "#46039f"
             ],
             [
              0.2222222222222222,
              "#7201a8"
             ],
             [
              0.3333333333333333,
              "#9c179e"
             ],
             [
              0.4444444444444444,
              "#bd3786"
             ],
             [
              0.5555555555555556,
              "#d8576b"
             ],
             [
              0.6666666666666666,
              "#ed7953"
             ],
             [
              0.7777777777777778,
              "#fb9f3a"
             ],
             [
              0.8888888888888888,
              "#fdca26"
             ],
             [
              1,
              "#f0f921"
             ]
            ],
            "type": "surface"
           }
          ],
          "table": [
           {
            "cells": {
             "fill": {
              "color": "#EBF0F8"
             },
             "line": {
              "color": "white"
             }
            },
            "header": {
             "fill": {
              "color": "#C8D4E3"
             },
             "line": {
              "color": "white"
             }
            },
            "type": "table"
           }
          ]
         },
         "layout": {
          "annotationdefaults": {
           "arrowcolor": "#2a3f5f",
           "arrowhead": 0,
           "arrowwidth": 1
          },
          "autotypenumbers": "strict",
          "coloraxis": {
           "colorbar": {
            "outlinewidth": 0,
            "ticks": ""
           }
          },
          "colorscale": {
           "diverging": [
            [
             0,
             "#8e0152"
            ],
            [
             0.1,
             "#c51b7d"
            ],
            [
             0.2,
             "#de77ae"
            ],
            [
             0.3,
             "#f1b6da"
            ],
            [
             0.4,
             "#fde0ef"
            ],
            [
             0.5,
             "#f7f7f7"
            ],
            [
             0.6,
             "#e6f5d0"
            ],
            [
             0.7,
             "#b8e186"
            ],
            [
             0.8,
             "#7fbc41"
            ],
            [
             0.9,
             "#4d9221"
            ],
            [
             1,
             "#276419"
            ]
           ],
           "sequential": [
            [
             0,
             "#0d0887"
            ],
            [
             0.1111111111111111,
             "#46039f"
            ],
            [
             0.2222222222222222,
             "#7201a8"
            ],
            [
             0.3333333333333333,
             "#9c179e"
            ],
            [
             0.4444444444444444,
             "#bd3786"
            ],
            [
             0.5555555555555556,
             "#d8576b"
            ],
            [
             0.6666666666666666,
             "#ed7953"
            ],
            [
             0.7777777777777778,
             "#fb9f3a"
            ],
            [
             0.8888888888888888,
             "#fdca26"
            ],
            [
             1,
             "#f0f921"
            ]
           ],
           "sequentialminus": [
            [
             0,
             "#0d0887"
            ],
            [
             0.1111111111111111,
             "#46039f"
            ],
            [
             0.2222222222222222,
             "#7201a8"
            ],
            [
             0.3333333333333333,
             "#9c179e"
            ],
            [
             0.4444444444444444,
             "#bd3786"
            ],
            [
             0.5555555555555556,
             "#d8576b"
            ],
            [
             0.6666666666666666,
             "#ed7953"
            ],
            [
             0.7777777777777778,
             "#fb9f3a"
            ],
            [
             0.8888888888888888,
             "#fdca26"
            ],
            [
             1,
             "#f0f921"
            ]
           ]
          },
          "colorway": [
           "#636efa",
           "#EF553B",
           "#00cc96",
           "#ab63fa",
           "#FFA15A",
           "#19d3f3",
           "#FF6692",
           "#B6E880",
           "#FF97FF",
           "#FECB52"
          ],
          "font": {
           "color": "#2a3f5f"
          },
          "geo": {
           "bgcolor": "white",
           "lakecolor": "white",
           "landcolor": "#E5ECF6",
           "showlakes": true,
           "showland": true,
           "subunitcolor": "white"
          },
          "hoverlabel": {
           "align": "left"
          },
          "hovermode": "closest",
          "mapbox": {
           "style": "light"
          },
          "paper_bgcolor": "white",
          "plot_bgcolor": "#E5ECF6",
          "polar": {
           "angularaxis": {
            "gridcolor": "white",
            "linecolor": "white",
            "ticks": ""
           },
           "bgcolor": "#E5ECF6",
           "radialaxis": {
            "gridcolor": "white",
            "linecolor": "white",
            "ticks": ""
           }
          },
          "scene": {
           "xaxis": {
            "backgroundcolor": "#E5ECF6",
            "gridcolor": "white",
            "gridwidth": 2,
            "linecolor": "white",
            "showbackground": true,
            "ticks": "",
            "zerolinecolor": "white"
           },
           "yaxis": {
            "backgroundcolor": "#E5ECF6",
            "gridcolor": "white",
            "gridwidth": 2,
            "linecolor": "white",
            "showbackground": true,
            "ticks": "",
            "zerolinecolor": "white"
           },
           "zaxis": {
            "backgroundcolor": "#E5ECF6",
            "gridcolor": "white",
            "gridwidth": 2,
            "linecolor": "white",
            "showbackground": true,
            "ticks": "",
            "zerolinecolor": "white"
           }
          },
          "shapedefaults": {
           "line": {
            "color": "#2a3f5f"
           }
          },
          "ternary": {
           "aaxis": {
            "gridcolor": "white",
            "linecolor": "white",
            "ticks": ""
           },
           "baxis": {
            "gridcolor": "white",
            "linecolor": "white",
            "ticks": ""
           },
           "bgcolor": "#E5ECF6",
           "caxis": {
            "gridcolor": "white",
            "linecolor": "white",
            "ticks": ""
           }
          },
          "title": {
           "x": 0.05
          },
          "xaxis": {
           "automargin": true,
           "gridcolor": "white",
           "linecolor": "white",
           "ticks": "",
           "title": {
            "standoff": 15
           },
           "zerolinecolor": "white",
           "zerolinewidth": 2
          },
          "yaxis": {
           "automargin": true,
           "gridcolor": "white",
           "linecolor": "white",
           "ticks": "",
           "title": {
            "standoff": 15
           },
           "zerolinecolor": "white",
           "zerolinewidth": 2
          }
         }
        },
        "title": {
         "text": "360-U1473A-84R-1-W-143-r4",
         "x": 0.5,
         "xanchor": "center"
        },
        "width": 900,
        "xaxis": {
         "dtick": 100,
         "gridcolor": "lightgray",
         "gridwidth": 1,
         "linecolor": "black",
         "linewidth": 1,
         "showline": true,
         "tick0": 0,
         "title": {
          "text": "Temperature (&deg;C)"
         }
        },
        "yaxis": {
         "autorange": true,
         "gridcolor": "lightgray",
         "gridwidth": 1,
         "linecolor": "black",
         "linewidth": 1,
         "showline": true,
         "tickformat": ".1e",
         "title": {
          "text": "<i>dk/dT</i> (m<sup>3</sup> kg<sup>-1</sup>)"
         }
        }
       }
      },
      "text/html": [
       "<div>                            <div id=\"5eb9b7f4-4909-44ae-a386-cbf193b7460f\" class=\"plotly-graph-div\" style=\"height:556px; width:900px;\"></div>            <script type=\"text/javascript\">                require([\"plotly\"], function(Plotly) {                    window.PLOTLYENV=window.PLOTLYENV || {};                                    if (document.getElementById(\"5eb9b7f4-4909-44ae-a386-cbf193b7460f\")) {                    Plotly.newPlot(                        \"5eb9b7f4-4909-44ae-a386-cbf193b7460f\",                        [{\"line\":{\"color\":\"red\"},\"marker\":{\"color\":\"red\"},\"mode\":\"lines+markers\",\"name\":\"Heating (smoothed) - 1st Derivative\",\"x\":[null,47.783333333333346,52.83333333333336,55.96363636363638,63.61083916083919,64.96510989010991,67.86214285714289,74.89980392156865,80.13328173374613,90.41929824561406,94.66111111111113,100.17222222222225,101.05964912280704,107.88684210526318,112.97894736842106,117.94210526315791,118.96565789473685,125.14250000000001,126.18,132.20952380952386,136.92619047619053,141.69761904761907,146.33809523809526,151.14761904761912,155.77142857142866,160.42857142857144,165.0261904761905,169.70952380952394,174.40000000000006,179.09523809523813,183.77857142857147,188.55714285714288,193.3047619047619,198.06666666666672,202.81666666666666,207.63333333333338,212.45,217.2452380952381,222.0809523809524,226.89047619047616,231.73333333333335,236.55952380952374,241.38095238095235,246.19761904761907,251.00238095238095,255.90476190476193,260.7333333333334,265.6261904761905,270.47380952380956,275.3809523809524,280.2857142857143,285.19285714285706,289.9833333333333,294.79047619047617,299.6333333333333,304.41666666666663,309.1952380952381,314.0023809523809,318.7595238095238,323.5595238095239,328.34285714285716,333.1214285714286,337.8452380952382,342.602380952381,347.30476190476196,352.01666666666677,356.6380952380953,361.2761904761905,365.954761904762,373.9870129870131,377.37727272727284,381.96818181818185,386.50227272727284,391.1068181818182,395.659090909091,400.175,404.70000000000016,409.21363636363645,413.68409090909097,418.1227272727273,419.19249011857715,424.6869565217392,429.13478260869573,433.5,437.85434782608695,442.1347826086958,446.48913043478257,450.7826086956522,458.23586956521734,461.48958333333326,462.5584239130435,471.03885869565204,471.10226449275353,479.5339673913043,482.6625,483.73940217391305,492.0410326086957,495.1583333333333,499.26666666666654,503.3979166666665,504.4123333333332,509.54799999999994,516.7529999999999,516.7256666666665,525.0095,524.9288333333334,530.0179999999998,537.2445,537.2058333333334,542.328,546.4319999999999,550.4300000000001,554.486,558.528,562.5840000000002,566.6000000000001,570.586,574.5740000000001,578.5360000000001,582.5559999999999,586.53,590.508,594.47,598.4740000000002,602.454,606.3659999999999,613.2394615384615,613.2888461538462,618.2,622.0799999999998,626.046,629.9179999999999,636.6861538461535,636.7106153846154,644.4233846153844,647.2211538461538,651.1326923076923,655.0000000000001,658.7596153846155,656.8615384615385,662.6004807692309,663.5921195652174,665.5198616600792,667.4762987012989,669.3638095238096,668.4100000000001,674.1366666666668,672.2277777777779,675.1287581699347,677.0034926470589,678.8968750000001,680.832142857143],\"y\":[null,null,-0.0003251815181518145,-0.0003009348441926468,-0.00027119047619048015,-0.0002485236768802096,-0.00023510690386814004,-0.0002191913597341407,-0.00023974550898204244,-0.00019331012101953844,-0.0002723735408560272,-0.0002798804780876515,-0.0001321522309711108,-0.00020058823529411703,-0.00020152284263960532,-0.0001998955067920767,-7.922656859466974e-05,-0.00011009174311926296,-6.742734343019577e-05,-6.137040714995685e-05,-9.206827309238707e-05,-8.429999999996162e-05,-3.6927772126155894e-05,-3.086913086914003e-05,-2.24260958205869e-05,-1.4198161389165441e-05,-6.185567010298295e-06,-3.9121552604682296e-05,6.917599186140688e-06,9.106598984770228e-05,1.991869918701575e-05,0.00010270812437312456,0.00010842527582744829,7.527527527531605e-05,8.046092184366775e-05,8.440913604767811e-05,0.00012643564356434658,9.255952380952694e-05,0.0001333662388943836,0.00013649851632046377,6.295566502462776e-05,0.00014122287968443284,0.0001433366238894358,0.00010701581027667886,0.00010831683168318406,0.0001454545454545258,0.00014670599803343358,0.00010839843750000145,0.00018411764705880614,0.00014518013631938575,6.95821185617118e-05,6.88349514563078e-05,0.00010641025641025732,2.9574678536090527e-05,2.8275862068978593e-05,2.7182539682537617e-05,6.398009950248428e-05,2.430555555555282e-05,2.3053892215568785e-05,-5.4671968190849446e-05,-1.751243781093741e-05,-1.862549800798729e-05,-1.9779116465869106e-05,1.8036072144303408e-05,1.7457114026222792e-05,1.7171717171733755e-05,1.699078812692477e-05,-2.2358974358982642e-05,5.7040816326530213e-05,0.000103207417152157,5.906374501991692e-05,9.890873015871986e-05,0.00013986013986015626,0.00014142715559959548,0.00022101593625498941,0.00022577733199599415,0.00026767068273091083,0.0002337022132796764,0.00031752786220871676,0.0003235714285714344,0.0003883743930947787,0.0003998021760633021,0.0003656526005888271,0.00045074331020811796,0.0004581673306773061,0.00043178607467206067,0.0004363727454909866,0.00048546922300705606,0.0004209554248218079,0.0004524685382381444,0.0004601113642115843,0.00037319320799795584,0.00043989793357316096,0.00025243766600975125,0.00020238095238095434,0.0004249935848088188,-0.00018617005835048768,-0.00023006012024049467,-0.00041707070707072675,-0.0007169525731584146,-0.0022145501786294246,-0.001566407010710776,-0.0016427745976887302,-0.0057254494932986386,-0.0028311898747782837,-0.007144726038735105,-0.004257923228346638,-0.003611039045201647,-0.006445320754716708,-0.004384926686217007,-0.004402214634146438,-0.004511924603174559,-0.004483399209486169,-0.004479515331355125,-0.00446015794669284,-0.004518083416087357,-0.004545260000000132,-0.004508957915831586,-0.004449456193353498,-0.004327252747252851,-0.0042677409638553765,-0.004151467336683397,-0.004044667338709719,-0.0038212625250500245,-0.0035948895582329993,-0.0032500914634146995,-0.001934181609375393,-0.0036999183673469254,-0.001252771573604044,-0.000560637948717967,-0.0002788742393509074,-9.23100616016436e-05,-8.49716176859961e-05,-7.039492753622726e-05,-7.532575556381911e-05,-7.418439716311788e-05,-7.445680238331644e-05,-8.618588469184688e-05,-6.313171225937179e-05,null,-6.815095920247881e-05,8.72111516512358e-07,-4.147179854642143e-05,-8.347571952438644e-05,-0.00014888017973041322,null,-7.910768335273456e-05,null,-0.000103813450490032,-0.00018286396274014993,-0.00012815357535753106,-0.00019647038413878585],\"type\":\"scatter\"},{\"line\":{\"color\":\"blue\"},\"marker\":{\"color\":\"blue\"},\"mode\":\"lines+markers\",\"name\":\"Cooling (smoothed) - 1st Derivative\",\"x\":[null,678.3833333333334,676.7783625730996,677.5763157894738,675.1593421052632,673.5567857142858,671.9316017316019,670.2958498023717,668.6570652173914,667.0075000000002,667.8300000000002,665.3503846153847,663.6920940170942,661.9612433862435,660.3023399014779,658.6201724137933,656.8804838709679,652.9016129032259,649.5887096774195,646.4648498331482,642.9172413793106,639.446551724138,635.9810344827588,632.5137931034483,629.0172413793105,622.9019704433501,620.207142857143,616.5892857142858,613.0178571428573,609.3964285714285,605.7625,602.1267857142859,598.4196428571429,592.0224206349205,589.162962962963,585.4314814814816,581.675925925926,580.7634615384616,576.0038461538463,572.1884615384615,568.3288461538461,564.55,560.6519230769229,556.7576923076922,552.8442307692308,548.9346153846152,545.0153846153846,541.1288461538461,537.1519230769231,533.1730769230769,526.2121538461538,526.2279999999998,518.0506666666665,518.1344999999999,512.96875,508.8520833333333,504.7458333333333,500.61249999999984,496.4625,492.26458333333335,488.09791666666666,483.86458333333326,479.6208333333334,472.30625000000015,472.2125000000001,463.766123188406,460.4717391304347,456.15869565217395,451.87173913043466,447.5043478260869,443.1347826086957,438.8,434.4695652173914,430.0891304347827,429.02776679841907,420.2117588932807,420.221837944664,411.3941699604743,408.05,403.608695652174,399.1173913043478,394.6695652173914,393.5942687747036,387.9659090909091,380.14871541501975,373.3807312252965,376.75454545454545,363.17954545454563,367.70454545454555,357.50098814229256,357.5170948616602,351.83409090909095,347.30681818181824,339.3386363636365,335.87857142857143,334.7313852813853,329.0386363636365,321.02305194805194,320.9976190476191,308.45227272727277,313.01818181818186,302.7587662337662,299.2857142857142,294.6833333333333,290.0904761904762,285.4880952380952,280.8166666666666,276.1761904761904,271.60476190476203,266.9809523809524,265.8695887445887,256.699025974026,249.8889610389611,246.46590909090912,241.89318181818186,237.3318181818183,232.76136363636368,228.1863636363637,223.6204545454546,219.08636363636361,214.52727272727276,209.9863636363636,205.50227272727267,204.41511857707508,198.8173913043479,194.35000000000002,189.92608695652171,185.4608695652174,181.05000000000007,176.61739130434788,172.22608695652178,167.8347826086957,163.4586956521739,159.10869565217394,151.6554347826087,148.49791666666667,144.20833333333337,140.00833333333338,135.8458333333333,131.7,124.63941666666668,124.53824999999998,116.58525,113.60400000000004,109.71200000000006,103.13415384615391,103.28461538461545,98.54444444444451,92.3843915343916,87.2894088669951,84.65172413793108,79.10258620689658,78.76005747126437,79.6844827586207,74.26609195402303,76.07222222222225,73.40235042735046,71.64884615384616,69.92875000000004,70.79583333333336,68.2096920289855,66.50276679841899,64.75259740259743,65.6214285714286,63.151785714285715,63.97500000000001,61.53750000000002,59.92500000000004,60.73333333333336],\"y\":[null,-0.0001685772576636285,-0.00022873048735801098,null,-3.917867058631382e-05,-0.00011061708438380317,-5.74245787643766e-05,-1.1360451018428913e-05,-0.00016814186046511733,-2.250060790273606e-05,null,-7.373950674731901e-05,-3.401590850460381e-05,-0.0001473942471700971,-3.740630975143411e-05,-7.987689044002204e-05,-3.42675545551166e-05,-5.560999999999981e-05,-0.00011689096267190683,-0.00018955697930889907,-7.308962739174281e-05,-6.383233532933898e-05,-5.6733067729083925e-05,-1.2059701492536992e-05,-5.588526211671417e-06,-4.009238363892941e-05,-0.00012053427419354705,-0.0001880715705765343,-0.0005728343313373443,-0.0012502574257425233,-0.0019625123152709353,-0.002677305801376675,-0.0032716197866148656,-0.0028225151128344144,-0.004044281466798849,-0.004205009920635027,-0.004305345849802339,-0.001977204202131716,-0.004436592292089303,-0.004422999999999925,-0.004424854854854824,-0.004446831983805596,-0.004410248756218869,-0.004356128712871313,-0.004343182266009948,-0.0043842125984250874,-0.004345795677799621,-0.004417966436327706,-0.004325141187926069,-0.004237015503875978,-0.005045390826540085,-0.007042568273769235,-0.0033668036766309963,-0.007418392226148426,-0.0038404568527919225,-0.003180344478216848,-0.002414604462474619,-0.0015973737373737372,-0.0009436619718309922,-0.0004832502492522668,-0.00022617382617384302,-7.922848664686238e-05,2.5590551181086684e-05,6.424928688737792e-05,0.0002263471546079879,0.0001212785987333766,0.00017227822580645943,0.00016391129032259472,0.00015404858299591885,0.0002228228228228592,0.0002531405782652008,0.00028458458458459243,0.0002775325977933879,0.00019282868525895223,0.00030115142099973496,0.00024512834336718473,0.00015872915727808276,0.00025008513307640915,0.00027460784313727095,0.00023232125367286566,0.00022701652089409044,0.00022370731707317676,0.00022499102656138104,0.0002252279635258271,0.00020888705542622299,0.00020571713089067214,null,0.0002137619286790595,null,0.0001976873910517085,0.000252088624222793,0.00021001001001002466,0.00017141424272818398,0.00013857745629896858,0.00017723492723491875,0.00010090668681528439,0.00021026919242272043,0.00015771862878045923,0.00014091848234410112,0.0001560477849676589,null,0.00012597867021108504,0.00010559585492229082,0.00014658385093168152,0.00014808290155438956,0.00014917184265008531,0.00014877049180330083,0.0001894358974359128,0.00011233160621761372,0.00015221878224971696,0.00010128217304587405,0.00011807274444970215,0.00015301330798478654,0.00010967098703888338,0.00014706467661691132,0.00010776892430279515,0.00014457711442784823,0.00014294234592446322,0.00010238805970148956,0.00013890000000002045,0.00013632734530937528,5.6399999999981476e-05,0.00013097880928357133,9.523302263648949e-05,8.26044703595449e-05,4.1050583657587005e-05,7.443682664055932e-05,6.887804878049816e-05,2.6522593320240786e-05,-1.7271835132491913e-05,-2.2704837117495533e-05,-2.868447082096504e-05,3.5714285714122893e-06,-2.891326021933782e-06,-8.728421527699724e-05,-5.5839057899901547e-05,-6.354775828461451e-05,-0.00010828402366859968,-0.000114641434262942,-0.00016002004008015412,-0.00022426488689513798,-8.983400841875047e-05,-0.00020626232330805665,-0.0002618856569709288,-0.00022986748216106495,-0.00031341404096633154,-0.0003782849896972529,-0.00031044334975369116,-0.0003007280355380033,-0.0003202599315719253,-0.0003546983184965269,-0.00036588958505734767,-0.00029199253963318333,null,-0.0002797164474614911,null,-0.00026094437775111304,-0.0003615800960278904,-0.00038557424315239364,null,-0.00040969843438057237,-0.00033474498038308655,-0.00045589187842556405,null,-0.0003895733911786345,null,-0.0004184453441295196,-0.00044981009224089296,null],\"type\":\"scatter\"}],                        {\"template\":{\"data\":{\"histogram2dcontour\":[{\"type\":\"histogram2dcontour\",\"colorbar\":{\"outlinewidth\":0,\"ticks\":\"\"},\"colorscale\":[[0.0,\"#0d0887\"],[0.1111111111111111,\"#46039f\"],[0.2222222222222222,\"#7201a8\"],[0.3333333333333333,\"#9c179e\"],[0.4444444444444444,\"#bd3786\"],[0.5555555555555556,\"#d8576b\"],[0.6666666666666666,\"#ed7953\"],[0.7777777777777778,\"#fb9f3a\"],[0.8888888888888888,\"#fdca26\"],[1.0,\"#f0f921\"]]}],\"choropleth\":[{\"type\":\"choropleth\",\"colorbar\":{\"outlinewidth\":0,\"ticks\":\"\"}}],\"histogram2d\":[{\"type\":\"histogram2d\",\"colorbar\":{\"outlinewidth\":0,\"ticks\":\"\"},\"colorscale\":[[0.0,\"#0d0887\"],[0.1111111111111111,\"#46039f\"],[0.2222222222222222,\"#7201a8\"],[0.3333333333333333,\"#9c179e\"],[0.4444444444444444,\"#bd3786\"],[0.5555555555555556,\"#d8576b\"],[0.6666666666666666,\"#ed7953\"],[0.7777777777777778,\"#fb9f3a\"],[0.8888888888888888,\"#fdca26\"],[1.0,\"#f0f921\"]]}],\"heatmap\":[{\"type\":\"heatmap\",\"colorbar\":{\"outlinewidth\":0,\"ticks\":\"\"},\"colorscale\":[[0.0,\"#0d0887\"],[0.1111111111111111,\"#46039f\"],[0.2222222222222222,\"#7201a8\"],[0.3333333333333333,\"#9c179e\"],[0.4444444444444444,\"#bd3786\"],[0.5555555555555556,\"#d8576b\"],[0.6666666666666666,\"#ed7953\"],[0.7777777777777778,\"#fb9f3a\"],[0.8888888888888888,\"#fdca26\"],[1.0,\"#f0f921\"]]}],\"heatmapgl\":[{\"type\":\"heatmapgl\",\"colorbar\":{\"outlinewidth\":0,\"ticks\":\"\"},\"colorscale\":[[0.0,\"#0d0887\"],[0.1111111111111111,\"#46039f\"],[0.2222222222222222,\"#7201a8\"],[0.3333333333333333,\"#9c179e\"],[0.4444444444444444,\"#bd3786\"],[0.5555555555555556,\"#d8576b\"],[0.6666666666666666,\"#ed7953\"],[0.7777777777777778,\"#fb9f3a\"],[0.8888888888888888,\"#fdca26\"],[1.0,\"#f0f921\"]]}],\"contourcarpet\":[{\"type\":\"contourcarpet\",\"colorbar\":{\"outlinewidth\":0,\"ticks\":\"\"}}],\"contour\":[{\"type\":\"contour\",\"colorbar\":{\"outlinewidth\":0,\"ticks\":\"\"},\"colorscale\":[[0.0,\"#0d0887\"],[0.1111111111111111,\"#46039f\"],[0.2222222222222222,\"#7201a8\"],[0.3333333333333333,\"#9c179e\"],[0.4444444444444444,\"#bd3786\"],[0.5555555555555556,\"#d8576b\"],[0.6666666666666666,\"#ed7953\"],[0.7777777777777778,\"#fb9f3a\"],[0.8888888888888888,\"#fdca26\"],[1.0,\"#f0f921\"]]}],\"surface\":[{\"type\":\"surface\",\"colorbar\":{\"outlinewidth\":0,\"ticks\":\"\"},\"colorscale\":[[0.0,\"#0d0887\"],[0.1111111111111111,\"#46039f\"],[0.2222222222222222,\"#7201a8\"],[0.3333333333333333,\"#9c179e\"],[0.4444444444444444,\"#bd3786\"],[0.5555555555555556,\"#d8576b\"],[0.6666666666666666,\"#ed7953\"],[0.7777777777777778,\"#fb9f3a\"],[0.8888888888888888,\"#fdca26\"],[1.0,\"#f0f921\"]]}],\"mesh3d\":[{\"type\":\"mesh3d\",\"colorbar\":{\"outlinewidth\":0,\"ticks\":\"\"}}],\"scatter\":[{\"fillpattern\":{\"fillmode\":\"overlay\",\"size\":10,\"solidity\":0.2},\"type\":\"scatter\"}],\"parcoords\":[{\"type\":\"parcoords\",\"line\":{\"colorbar\":{\"outlinewidth\":0,\"ticks\":\"\"}}}],\"scatterpolargl\":[{\"type\":\"scatterpolargl\",\"marker\":{\"colorbar\":{\"outlinewidth\":0,\"ticks\":\"\"}}}],\"bar\":[{\"error_x\":{\"color\":\"#2a3f5f\"},\"error_y\":{\"color\":\"#2a3f5f\"},\"marker\":{\"line\":{\"color\":\"#E5ECF6\",\"width\":0.5},\"pattern\":{\"fillmode\":\"overlay\",\"size\":10,\"solidity\":0.2}},\"type\":\"bar\"}],\"scattergeo\":[{\"type\":\"scattergeo\",\"marker\":{\"colorbar\":{\"outlinewidth\":0,\"ticks\":\"\"}}}],\"scatterpolar\":[{\"type\":\"scatterpolar\",\"marker\":{\"colorbar\":{\"outlinewidth\":0,\"ticks\":\"\"}}}],\"histogram\":[{\"marker\":{\"pattern\":{\"fillmode\":\"overlay\",\"size\":10,\"solidity\":0.2}},\"type\":\"histogram\"}],\"scattergl\":[{\"type\":\"scattergl\",\"marker\":{\"colorbar\":{\"outlinewidth\":0,\"ticks\":\"\"}}}],\"scatter3d\":[{\"type\":\"scatter3d\",\"line\":{\"colorbar\":{\"outlinewidth\":0,\"ticks\":\"\"}},\"marker\":{\"colorbar\":{\"outlinewidth\":0,\"ticks\":\"\"}}}],\"scattermapbox\":[{\"type\":\"scattermapbox\",\"marker\":{\"colorbar\":{\"outlinewidth\":0,\"ticks\":\"\"}}}],\"scatterternary\":[{\"type\":\"scatterternary\",\"marker\":{\"colorbar\":{\"outlinewidth\":0,\"ticks\":\"\"}}}],\"scattercarpet\":[{\"type\":\"scattercarpet\",\"marker\":{\"colorbar\":{\"outlinewidth\":0,\"ticks\":\"\"}}}],\"carpet\":[{\"aaxis\":{\"endlinecolor\":\"#2a3f5f\",\"gridcolor\":\"white\",\"linecolor\":\"white\",\"minorgridcolor\":\"white\",\"startlinecolor\":\"#2a3f5f\"},\"baxis\":{\"endlinecolor\":\"#2a3f5f\",\"gridcolor\":\"white\",\"linecolor\":\"white\",\"minorgridcolor\":\"white\",\"startlinecolor\":\"#2a3f5f\"},\"type\":\"carpet\"}],\"table\":[{\"cells\":{\"fill\":{\"color\":\"#EBF0F8\"},\"line\":{\"color\":\"white\"}},\"header\":{\"fill\":{\"color\":\"#C8D4E3\"},\"line\":{\"color\":\"white\"}},\"type\":\"table\"}],\"barpolar\":[{\"marker\":{\"line\":{\"color\":\"#E5ECF6\",\"width\":0.5},\"pattern\":{\"fillmode\":\"overlay\",\"size\":10,\"solidity\":0.2}},\"type\":\"barpolar\"}],\"pie\":[{\"automargin\":true,\"type\":\"pie\"}]},\"layout\":{\"autotypenumbers\":\"strict\",\"colorway\":[\"#636efa\",\"#EF553B\",\"#00cc96\",\"#ab63fa\",\"#FFA15A\",\"#19d3f3\",\"#FF6692\",\"#B6E880\",\"#FF97FF\",\"#FECB52\"],\"font\":{\"color\":\"#2a3f5f\"},\"hovermode\":\"closest\",\"hoverlabel\":{\"align\":\"left\"},\"paper_bgcolor\":\"white\",\"plot_bgcolor\":\"#E5ECF6\",\"polar\":{\"bgcolor\":\"#E5ECF6\",\"angularaxis\":{\"gridcolor\":\"white\",\"linecolor\":\"white\",\"ticks\":\"\"},\"radialaxis\":{\"gridcolor\":\"white\",\"linecolor\":\"white\",\"ticks\":\"\"}},\"ternary\":{\"bgcolor\":\"#E5ECF6\",\"aaxis\":{\"gridcolor\":\"white\",\"linecolor\":\"white\",\"ticks\":\"\"},\"baxis\":{\"gridcolor\":\"white\",\"linecolor\":\"white\",\"ticks\":\"\"},\"caxis\":{\"gridcolor\":\"white\",\"linecolor\":\"white\",\"ticks\":\"\"}},\"coloraxis\":{\"colorbar\":{\"outlinewidth\":0,\"ticks\":\"\"}},\"colorscale\":{\"sequential\":[[0.0,\"#0d0887\"],[0.1111111111111111,\"#46039f\"],[0.2222222222222222,\"#7201a8\"],[0.3333333333333333,\"#9c179e\"],[0.4444444444444444,\"#bd3786\"],[0.5555555555555556,\"#d8576b\"],[0.6666666666666666,\"#ed7953\"],[0.7777777777777778,\"#fb9f3a\"],[0.8888888888888888,\"#fdca26\"],[1.0,\"#f0f921\"]],\"sequentialminus\":[[0.0,\"#0d0887\"],[0.1111111111111111,\"#46039f\"],[0.2222222222222222,\"#7201a8\"],[0.3333333333333333,\"#9c179e\"],[0.4444444444444444,\"#bd3786\"],[0.5555555555555556,\"#d8576b\"],[0.6666666666666666,\"#ed7953\"],[0.7777777777777778,\"#fb9f3a\"],[0.8888888888888888,\"#fdca26\"],[1.0,\"#f0f921\"]],\"diverging\":[[0,\"#8e0152\"],[0.1,\"#c51b7d\"],[0.2,\"#de77ae\"],[0.3,\"#f1b6da\"],[0.4,\"#fde0ef\"],[0.5,\"#f7f7f7\"],[0.6,\"#e6f5d0\"],[0.7,\"#b8e186\"],[0.8,\"#7fbc41\"],[0.9,\"#4d9221\"],[1,\"#276419\"]]},\"xaxis\":{\"gridcolor\":\"white\",\"linecolor\":\"white\",\"ticks\":\"\",\"title\":{\"standoff\":15},\"zerolinecolor\":\"white\",\"automargin\":true,\"zerolinewidth\":2},\"yaxis\":{\"gridcolor\":\"white\",\"linecolor\":\"white\",\"ticks\":\"\",\"title\":{\"standoff\":15},\"zerolinecolor\":\"white\",\"automargin\":true,\"zerolinewidth\":2},\"scene\":{\"xaxis\":{\"backgroundcolor\":\"#E5ECF6\",\"gridcolor\":\"white\",\"linecolor\":\"white\",\"showbackground\":true,\"ticks\":\"\",\"zerolinecolor\":\"white\",\"gridwidth\":2},\"yaxis\":{\"backgroundcolor\":\"#E5ECF6\",\"gridcolor\":\"white\",\"linecolor\":\"white\",\"showbackground\":true,\"ticks\":\"\",\"zerolinecolor\":\"white\",\"gridwidth\":2},\"zaxis\":{\"backgroundcolor\":\"#E5ECF6\",\"gridcolor\":\"white\",\"linecolor\":\"white\",\"showbackground\":true,\"ticks\":\"\",\"zerolinecolor\":\"white\",\"gridwidth\":2}},\"shapedefaults\":{\"line\":{\"color\":\"#2a3f5f\"}},\"annotationdefaults\":{\"arrowcolor\":\"#2a3f5f\",\"arrowhead\":0,\"arrowwidth\":1},\"geo\":{\"bgcolor\":\"white\",\"landcolor\":\"#E5ECF6\",\"subunitcolor\":\"white\",\"showland\":true,\"showlakes\":true,\"lakecolor\":\"white\"},\"title\":{\"x\":0.05},\"mapbox\":{\"style\":\"light\"}}},\"title\":{\"text\":\"360-U1473A-84R-1-W-143-r4\",\"x\":0.5,\"xanchor\":\"center\"},\"font\":{\"family\":\"Roboto, sans-serif\",\"size\":18,\"color\":\"Black\"},\"xaxis\":{\"title\":{\"text\":\"Temperature (&deg;C)\"},\"tick0\":0,\"dtick\":100,\"gridcolor\":\"lightgray\",\"gridwidth\":1,\"showline\":true,\"linewidth\":1,\"linecolor\":\"black\"},\"yaxis\":{\"title\":{\"text\":\"<i>dk/dT</i> (m<sup>3</sup> kg<sup>-1</sup>)\"},\"autorange\":true,\"tickformat\":\".1e\",\"gridcolor\":\"lightgray\",\"gridwidth\":1,\"showline\":true,\"linewidth\":1,\"linecolor\":\"black\"},\"margin\":{\"l\":50,\"r\":50,\"b\":50,\"t\":80},\"width\":900,\"height\":556,\"showlegend\":true,\"paper_bgcolor\":\"white\",\"plot_bgcolor\":\"white\",\"shapes\":[{\"line\":{\"color\":\"black\",\"width\":2},\"type\":\"rect\",\"x0\":0,\"x1\":1,\"xref\":\"paper\",\"y0\":0,\"y1\":1,\"yref\":\"paper\"}]},                        {\"responsive\": true}                    ).then(function(){\n",
       "                            \n",
       "var gd = document.getElementById('5eb9b7f4-4909-44ae-a386-cbf193b7460f');\n",
       "var x = new MutationObserver(function (mutations, observer) {{\n",
       "        var display = window.getComputedStyle(gd).display;\n",
       "        if (!display || display === 'none') {{\n",
       "            console.log([gd, 'removed!']);\n",
       "            Plotly.purge(gd);\n",
       "            observer.disconnect();\n",
       "        }}\n",
       "}});\n",
       "\n",
       "// Listen for the removal of the full notebook cells\n",
       "var notebookContainer = gd.closest('#notebook-container');\n",
       "if (notebookContainer) {{\n",
       "    x.observe(notebookContainer, {childList: true});\n",
       "}}\n",
       "\n",
       "// Listen for the clearing of the current output cell\n",
       "var outputEl = gd.closest('.output');\n",
       "if (outputEl) {{\n",
       "    x.observe(outputEl, {childList: true});\n",
       "}}\n",
       "\n",
       "                        })                };                });            </script>        </div>"
      ]
     },
     "metadata": {},
     "output_type": "display_data"
    },
    {
     "data": {
      "application/vnd.plotly.v1+json": {
       "config": {
        "plotlyServerURL": "https://plot.ly"
       },
       "data": [
        {
         "line": {
          "color": "red"
         },
         "marker": {
          "color": "red"
         },
         "mode": "lines+markers",
         "name": "Heating (smoothed) - 2nd Derivative",
         "type": "scatter",
         "x": [
          null,
          47.783333333333346,
          52.83333333333336,
          55.96363636363638,
          63.61083916083919,
          64.96510989010991,
          67.86214285714289,
          74.89980392156865,
          80.13328173374613,
          90.41929824561406,
          94.66111111111113,
          100.17222222222225,
          101.05964912280704,
          107.88684210526318,
          112.97894736842106,
          117.94210526315791,
          118.96565789473685,
          125.14250000000001,
          126.18,
          132.20952380952386,
          136.92619047619053,
          141.69761904761907,
          146.33809523809526,
          151.14761904761912,
          155.77142857142866,
          160.42857142857144,
          165.0261904761905,
          169.70952380952394,
          174.40000000000006,
          179.09523809523813,
          183.77857142857147,
          188.55714285714288,
          193.3047619047619,
          198.06666666666672,
          202.81666666666666,
          207.63333333333338,
          212.45,
          217.2452380952381,
          222.0809523809524,
          226.89047619047616,
          231.73333333333335,
          236.55952380952374,
          241.38095238095235,
          246.19761904761907,
          251.00238095238095,
          255.90476190476193,
          260.7333333333334,
          265.6261904761905,
          270.47380952380956,
          275.3809523809524,
          280.2857142857143,
          285.19285714285706,
          289.9833333333333,
          294.79047619047617,
          299.6333333333333,
          304.41666666666663,
          309.1952380952381,
          314.0023809523809,
          318.7595238095238,
          323.5595238095239,
          328.34285714285716,
          333.1214285714286,
          337.8452380952382,
          342.602380952381,
          347.30476190476196,
          352.01666666666677,
          356.6380952380953,
          361.2761904761905,
          365.954761904762,
          373.9870129870131,
          377.37727272727284,
          381.96818181818185,
          386.50227272727284,
          391.1068181818182,
          395.659090909091,
          400.175,
          404.70000000000016,
          409.21363636363645,
          413.68409090909097,
          418.1227272727273,
          419.19249011857715,
          424.6869565217392,
          429.13478260869573,
          433.5,
          437.85434782608695,
          442.1347826086958,
          446.48913043478257,
          450.7826086956522,
          458.23586956521734,
          461.48958333333326,
          462.5584239130435,
          471.03885869565204,
          471.10226449275353,
          479.5339673913043,
          482.6625,
          483.73940217391305,
          492.0410326086957,
          495.1583333333333,
          499.26666666666654,
          503.3979166666665,
          504.4123333333332,
          509.54799999999994,
          516.7529999999999,
          516.7256666666665,
          525.0095,
          524.9288333333334,
          530.0179999999998,
          537.2445,
          537.2058333333334,
          542.328,
          546.4319999999999,
          550.4300000000001,
          554.486,
          558.528,
          562.5840000000002,
          566.6000000000001,
          570.586,
          574.5740000000001,
          578.5360000000001,
          582.5559999999999,
          586.53,
          590.508,
          594.47,
          598.4740000000002,
          602.454,
          606.3659999999999,
          613.2394615384615,
          613.2888461538462,
          618.2,
          622.0799999999998,
          626.046,
          629.9179999999999,
          636.6861538461535,
          636.7106153846154,
          644.4233846153844,
          647.2211538461538,
          651.1326923076923,
          655.0000000000001,
          658.7596153846155,
          656.8615384615385,
          662.6004807692309,
          663.5921195652174,
          665.5198616600792,
          667.4762987012989,
          669.3638095238096,
          668.4100000000001,
          674.1366666666668,
          672.2277777777779,
          675.1287581699347,
          677.0034926470589,
          678.8968750000001,
          680.832142857143
         ],
         "y": [
          null,
          null,
          -0.0003251815181518145,
          -0.0008189743589740762,
          -0.0002389293311273881,
          -0.0002920896567826488,
          -0.0011992882562256745,
          -0.0002022854054274289,
          0.00016560074734139785,
          -0.00011701424291794757,
          -3.96517412935394e-05,
          4.1666666666942005e-05,
          -0.0003956704694221237,
          -0.0002580777710964262,
          -0.00017428571428537612,
          -0.0002571428571426411,
          -0.00030639323300879023,
          -0.00013874405131388055,
          -0.00014859174439006958,
          -5.566165123459281e-05,
          0.002718181818182554,
          0.0018500000000190387,
          -0.002823529411763185,
          0.0003000000000001036,
          -0.00044500000000076824,
          -0.004049999999963797,
          -0.0008777777777792932,
          -0.0035888888888834496,
          0.011275000000036487,
          0.04144999999998978,
          0.07010000000014627,
          0.0063692307692313575,
          null,
          -0.01644999999985779,
          -0.0050999999998605034,
          0.000522222222225116,
          0.014233333333391083,
          0.01720000000008908,
          0.008360000000003379,
          -0.0014499999999838197,
          -0.018524999999963224,
          -0.07929999999927732,
          -0.0020000000000019585,
          0.036900000000315326,
          -0.0005500000000042806,
          0.003030769230764724,
          -6.666666667047577e-05,
          -0.005457142857152777,
          -0.01919999999998796,
          -0.005528571428563042,
          -0.03875000000010538,
          -0.0007000000000064162,
          -0.0023125000000011366,
          0.026000000000072337,
          -0.0002999999999944231,
          0.0001857142857166229,
          -0.012299999999982754,
          -0.013266666666648328,
          0.00023333333333260074,
          -0.019524999999875097,
          -0.03739999999920844,
          0.0011000000000300665,
          0.00012499999999846122,
          0.018850000000172045,
          0.00010000000000407674,
          0.0002999999999711084,
          3.076923077006855e-05,
          0.01919999999994232,
          0.015539999999967986,
          0.00019922824618944348,
          0.0001890518354546968,
          0.010100000000007351,
          -0.005757142857152027,
          0.00033749999999710563,
          -0.015840000000018034,
          -0.0004571428571418032,
          -0.04150000000106336,
          0.017149999999798573,
          -0.01158571428570453,
          -0.0005285714285725172,
          0.00026044841478367316,
          0.0004112320143884749,
          -0.0039499999999982075,
          -0.008219999999986783,
          -0.0010400000000068998,
          0.0024692307692342004,
          0.0010857142857162998,
          -0.006514285714303871,
          0.00028835983408226595,
          0.000356393894972819,
          0.00044485973458761603,
          0.00032898824337081233,
          0.00033883478410756305,
          0.0001552688638334521,
          0.0003505452700988585,
          -2.4066823283721235e-05,
          -0.0005001582000351182,
          -9.851213782293234e-05,
          0.02291249999998199,
          -0.29760000000023523,
          0.0007634561361265403,
          -0.0009191047680829999,
          -0.0017947206974491966,
          0.0003715645161290169,
          -0.001413375770678156,
          -0.0007574932357154305,
          -0.001422745894976625,
          -0.0023641122529640918,
          -0.0022203654805989276,
          -0.0023532001294289764,
          -0.013245000000133924,
          0.0021029411764746726,
          0.002705000000004985,
          -0.008409999999953266,
          0.005324999999906308,
          0.005261666666640652,
          -0.0006357142857097052,
          -0.022660000000533104,
          -0.016325999999923273,
          0.010841250000025284,
          -0.016182000000108093,
          -0.11995999999942256,
          -0.03946666666647745,
          0.03311499999984269,
          -0.11655499999778621,
          -0.03186833333333195,
          0.0007106638384790248,
          -0.001028934775742248,
          0.0012641552475247302,
          -0.06873579999967196,
          0.02469563636351835,
          -0.015421666666629549,
          -7.00400128555394e-05,
          -9.235239690516704e-05,
          -7.783404118920235e-05,
          -7.749564681409316e-05,
          -8.79000000001326e-05,
          0.011725000000170273,
          -0.001283789473682905,
          -6.313171225937179e-05,
          -6.815095920247881e-05,
          -0.00013888593890584264,
          0.014143014245274926,
          -0.004797404813976521,
          0.0030189063508969743,
          -0.00014888017973041322,
          -7.910768335273456e-05,
          -7.910768335273456e-05,
          -0.000103813450490032,
          0.003687422957603241,
          -0.1410894666777014,
          -0.004870662365602326
         ]
        },
        {
         "line": {
          "color": "blue"
         },
         "marker": {
          "color": "blue"
         },
         "mode": "lines+markers",
         "name": "Cooling (smoothed) - 2nd Derivative",
         "type": "scatter",
         "x": [
          null,
          678.3833333333334,
          676.7783625730996,
          677.5763157894738,
          675.1593421052632,
          673.5567857142858,
          671.9316017316019,
          670.2958498023717,
          668.6570652173914,
          667.0075000000002,
          667.8300000000002,
          665.3503846153847,
          663.6920940170942,
          661.9612433862435,
          660.3023399014779,
          658.6201724137933,
          656.8804838709679,
          652.9016129032259,
          649.5887096774195,
          646.4648498331482,
          642.9172413793106,
          639.446551724138,
          635.9810344827588,
          632.5137931034483,
          629.0172413793105,
          622.9019704433501,
          620.207142857143,
          616.5892857142858,
          613.0178571428573,
          609.3964285714285,
          605.7625,
          602.1267857142859,
          598.4196428571429,
          592.0224206349205,
          589.162962962963,
          585.4314814814816,
          581.675925925926,
          580.7634615384616,
          576.0038461538463,
          572.1884615384615,
          568.3288461538461,
          564.55,
          560.6519230769229,
          556.7576923076922,
          552.8442307692308,
          548.9346153846152,
          545.0153846153846,
          541.1288461538461,
          537.1519230769231,
          533.1730769230769,
          526.2121538461538,
          526.2279999999998,
          518.0506666666665,
          518.1344999999999,
          512.96875,
          508.8520833333333,
          504.7458333333333,
          500.61249999999984,
          496.4625,
          492.26458333333335,
          488.09791666666666,
          483.86458333333326,
          479.6208333333334,
          472.30625000000015,
          472.2125000000001,
          463.766123188406,
          460.4717391304347,
          456.15869565217395,
          451.87173913043466,
          447.5043478260869,
          443.1347826086957,
          438.8,
          434.4695652173914,
          430.0891304347827,
          429.02776679841907,
          420.2117588932807,
          420.221837944664,
          411.3941699604743,
          408.05,
          403.608695652174,
          399.1173913043478,
          394.6695652173914,
          393.5942687747036,
          387.9659090909091,
          380.14871541501975,
          373.3807312252965,
          376.75454545454545,
          363.17954545454563,
          367.70454545454555,
          357.50098814229256,
          357.5170948616602,
          351.83409090909095,
          347.30681818181824,
          339.3386363636365,
          335.87857142857143,
          334.7313852813853,
          329.0386363636365,
          321.02305194805194,
          320.9976190476191,
          308.45227272727277,
          313.01818181818186,
          302.7587662337662,
          299.2857142857142,
          294.6833333333333,
          290.0904761904762,
          285.4880952380952,
          280.8166666666666,
          276.1761904761904,
          271.60476190476203,
          266.9809523809524,
          265.8695887445887,
          256.699025974026,
          249.8889610389611,
          246.46590909090912,
          241.89318181818186,
          237.3318181818183,
          232.76136363636368,
          228.1863636363637,
          223.6204545454546,
          219.08636363636361,
          214.52727272727276,
          209.9863636363636,
          205.50227272727267,
          204.41511857707508,
          198.8173913043479,
          194.35000000000002,
          189.92608695652171,
          185.4608695652174,
          181.05000000000007,
          176.61739130434788,
          172.22608695652178,
          167.8347826086957,
          163.4586956521739,
          159.10869565217394,
          151.6554347826087,
          148.49791666666667,
          144.20833333333337,
          140.00833333333338,
          135.8458333333333,
          131.7,
          124.63941666666668,
          124.53824999999998,
          116.58525,
          113.60400000000004,
          109.71200000000006,
          103.13415384615391,
          103.28461538461545,
          98.54444444444451,
          92.3843915343916,
          87.2894088669951,
          84.65172413793108,
          79.10258620689658,
          78.76005747126437,
          79.6844827586207,
          74.26609195402303,
          76.07222222222225,
          73.40235042735046,
          71.64884615384616,
          69.92875000000004,
          70.79583333333336,
          68.2096920289855,
          66.50276679841899,
          64.75259740259743,
          65.6214285714286,
          63.151785714285715,
          63.97500000000001,
          61.53750000000002,
          59.92500000000004,
          60.73333333333336
         ],
         "y": [
          null,
          null,
          -0.005464001897544159,
          -0.00022873048735801098,
          -3.917867058631382e-05,
          0.01960132618039019,
          0.006442489291619732,
          0.006514795716633128,
          -0.0440031610170636,
          0.02607155714286661,
          -2.250060790273606e-05,
          -7.373950674731901e-05,
          0.018858462296342825,
          -0.003939233566131202,
          -0.006003199245925986,
          -0.01423465522892974,
          0.001879866777835387,
          -7.99785107446292e-05,
          -0.003521388888892083,
          0.0020474045881122174,
          0.0014254045045043024,
          0.0009575555555519045,
          0.0035000000000566275,
          0.044839999998511536,
          0.001078333333345011,
          -0.0001087218943226562,
          0.0001279407493465157,
          -0.004973571428564611,
          0.09619499999833761,
          -0.08609749999919737,
          -0.14583800000119368,
          -0.3654350000053185,
          -0.04644428571411653,
          -0.0019089133294358147,
          -0.00022116286080337564,
          0.15796999999744904,
          -0.029589999999750073,
          -0.006593138422123411,
          -0.006798191591193824,
          -0.0010724999999938054,
          -0.0046288888888939604,
          -0.0024509090909104426,
          -0.002284117647059423,
          0.0065220000000171564,
          -0.001728000000006998,
          -0.04602999999793502,
          0.015170000000222046,
          0.010276000000030655,
          0.002391428571433724,
          0.013863999999954855,
          -0.006654159981487143,
          -0.004054741072117777,
          -0.0016083653225806296,
          -0.0014232577286302072,
          -0.0005020990658607719,
          0.3219250000003001,
          -0.7582000000110444,
          0.19984999999949046,
          0.1608500000012514,
          0.050366666666633024,
          -0.12915000000099852,
          0.014629999999997265,
          0.021220000000069666,
          0.00014391921686221048,
          -2.0479971921178475e-05,
          6.718236819361136e-05,
          1.3311399608697554e-05,
          211616150.96907553,
          0.0026000000000276544,
          0.006400000000025075,
          0.007824999999990367,
          -0.007600000000028987,
          0.003799999999977233,
          -0.011871428571420675,
          8.646926873033757e-05,
          0.00021781322402424205,
          0.0002881302709492169,
          0.0002953712804931949,
          0.0002002265108270911,
          -0.04290000000030469,
          -0.00044999999999491085,
          0.001074999999997717,
          0.0002224530948623624,
          0.0002254564333304292,
          0.00017587219651120814,
          -0.0003165048543673518,
          0.00020571713089067214,
          0.0002137619286790595,
          0.0002137619286790595,
          0.0001976873910517085,
          0.00017067953567235093,
          0.00016843744592492428,
          0.019450000000025208,
          7.362055933482309e-05,
          5.958289079848453e-05,
          0.00025364977307106224,
          0.0003208114558472117,
          5.374788653014242e-05,
          0.00016621243055883338,
          0.0001611553216448614,
          0.0001560477849676589,
          0.00012597867021108504,
          0.0001677114475841303,
          0.039700000000097435,
          -0.0012999999999680869,
          0.0011999999999866826,
          0.00011000000000390977,
          -0.03950000000009727,
          0.007629999999976602,
          0.009774999999904634,
          0.00020192788951705061,
          0.00012640158296430262,
          -0.00553692307692111,
          0.00023998285224348606,
          0.018900000000015,
          0.03959999999953155,
          0.037099999999321065,
          -0.0014999999999789945,
          0.04089999999979516,
          -0.007200000000020533,
          -0.001150000000022432,
          0.040100000000292894,
          -0.00815555555555585,
          0.00016590909090912363,
          7.009584102693416e-05,
          0.042800000000533196,
          -0.0048285714285779486,
          -0.0013500000000025228,
          0.006228571428560986,
          -0.04459999999943351,
          0.000900000000002339,
          0.0029999999999865174,
          -0.010866666666684066,
          0.001299999999993312,
          -0.0002657996485061571,
          -0.00014862255513941813,
          -0.0011857142857174222,
          0.003716666666663417,
          0.0005300000000039542,
          0.00743333333332304,
          -0.00036233956413123493,
          -0.0002948848464619027,
          -0.0002688615594841295,
          -9.60930386556951e-05,
          -0.002225000000000909,
          -0.0004987130434782528,
          -0.00028348398155949206,
          -0.00024828637815858096,
          -0.00027790909090909054,
          0.00027274183546874297,
          -0.00024951378809865907,
          -0.0003942582532386839,
          -0.0004112399847386788,
          -0.00029199253963318333,
          -0.0002797164474614911,
          -0.0002797164474614911,
          -0.00026094437775111304,
          0.009811909385109402,
          0.0011170387243790844,
          -0.00038557424315239364,
          -0.00040969843438057237,
          -0.011624892086309312,
          -0.008750489089547621,
          -0.00045589187842556405,
          -0.0003895733911786345,
          -0.0003895733911786345,
          -0.0004184453441295196,
          0.005666315789472008,
          -0.00044981009224089296
         ]
        }
       ],
       "layout": {
        "font": {
         "color": "Black",
         "family": "Roboto, sans-serif",
         "size": 18
        },
        "height": 556,
        "margin": {
         "b": 50,
         "l": 50,
         "r": 50,
         "t": 80
        },
        "paper_bgcolor": "white",
        "plot_bgcolor": "white",
        "shapes": [
         {
          "line": {
           "color": "black",
           "width": 2
          },
          "type": "rect",
          "x0": 0,
          "x1": 1,
          "xref": "paper",
          "y0": 0,
          "y1": 1,
          "yref": "paper"
         }
        ],
        "showlegend": true,
        "template": {
         "data": {
          "bar": [
           {
            "error_x": {
             "color": "#2a3f5f"
            },
            "error_y": {
             "color": "#2a3f5f"
            },
            "marker": {
             "line": {
              "color": "#E5ECF6",
              "width": 0.5
             },
             "pattern": {
              "fillmode": "overlay",
              "size": 10,
              "solidity": 0.2
             }
            },
            "type": "bar"
           }
          ],
          "barpolar": [
           {
            "marker": {
             "line": {
              "color": "#E5ECF6",
              "width": 0.5
             },
             "pattern": {
              "fillmode": "overlay",
              "size": 10,
              "solidity": 0.2
             }
            },
            "type": "barpolar"
           }
          ],
          "carpet": [
           {
            "aaxis": {
             "endlinecolor": "#2a3f5f",
             "gridcolor": "white",
             "linecolor": "white",
             "minorgridcolor": "white",
             "startlinecolor": "#2a3f5f"
            },
            "baxis": {
             "endlinecolor": "#2a3f5f",
             "gridcolor": "white",
             "linecolor": "white",
             "minorgridcolor": "white",
             "startlinecolor": "#2a3f5f"
            },
            "type": "carpet"
           }
          ],
          "choropleth": [
           {
            "colorbar": {
             "outlinewidth": 0,
             "ticks": ""
            },
            "type": "choropleth"
           }
          ],
          "contour": [
           {
            "colorbar": {
             "outlinewidth": 0,
             "ticks": ""
            },
            "colorscale": [
             [
              0,
              "#0d0887"
             ],
             [
              0.1111111111111111,
              "#46039f"
             ],
             [
              0.2222222222222222,
              "#7201a8"
             ],
             [
              0.3333333333333333,
              "#9c179e"
             ],
             [
              0.4444444444444444,
              "#bd3786"
             ],
             [
              0.5555555555555556,
              "#d8576b"
             ],
             [
              0.6666666666666666,
              "#ed7953"
             ],
             [
              0.7777777777777778,
              "#fb9f3a"
             ],
             [
              0.8888888888888888,
              "#fdca26"
             ],
             [
              1,
              "#f0f921"
             ]
            ],
            "type": "contour"
           }
          ],
          "contourcarpet": [
           {
            "colorbar": {
             "outlinewidth": 0,
             "ticks": ""
            },
            "type": "contourcarpet"
           }
          ],
          "heatmap": [
           {
            "colorbar": {
             "outlinewidth": 0,
             "ticks": ""
            },
            "colorscale": [
             [
              0,
              "#0d0887"
             ],
             [
              0.1111111111111111,
              "#46039f"
             ],
             [
              0.2222222222222222,
              "#7201a8"
             ],
             [
              0.3333333333333333,
              "#9c179e"
             ],
             [
              0.4444444444444444,
              "#bd3786"
             ],
             [
              0.5555555555555556,
              "#d8576b"
             ],
             [
              0.6666666666666666,
              "#ed7953"
             ],
             [
              0.7777777777777778,
              "#fb9f3a"
             ],
             [
              0.8888888888888888,
              "#fdca26"
             ],
             [
              1,
              "#f0f921"
             ]
            ],
            "type": "heatmap"
           }
          ],
          "heatmapgl": [
           {
            "colorbar": {
             "outlinewidth": 0,
             "ticks": ""
            },
            "colorscale": [
             [
              0,
              "#0d0887"
             ],
             [
              0.1111111111111111,
              "#46039f"
             ],
             [
              0.2222222222222222,
              "#7201a8"
             ],
             [
              0.3333333333333333,
              "#9c179e"
             ],
             [
              0.4444444444444444,
              "#bd3786"
             ],
             [
              0.5555555555555556,
              "#d8576b"
             ],
             [
              0.6666666666666666,
              "#ed7953"
             ],
             [
              0.7777777777777778,
              "#fb9f3a"
             ],
             [
              0.8888888888888888,
              "#fdca26"
             ],
             [
              1,
              "#f0f921"
             ]
            ],
            "type": "heatmapgl"
           }
          ],
          "histogram": [
           {
            "marker": {
             "pattern": {
              "fillmode": "overlay",
              "size": 10,
              "solidity": 0.2
             }
            },
            "type": "histogram"
           }
          ],
          "histogram2d": [
           {
            "colorbar": {
             "outlinewidth": 0,
             "ticks": ""
            },
            "colorscale": [
             [
              0,
              "#0d0887"
             ],
             [
              0.1111111111111111,
              "#46039f"
             ],
             [
              0.2222222222222222,
              "#7201a8"
             ],
             [
              0.3333333333333333,
              "#9c179e"
             ],
             [
              0.4444444444444444,
              "#bd3786"
             ],
             [
              0.5555555555555556,
              "#d8576b"
             ],
             [
              0.6666666666666666,
              "#ed7953"
             ],
             [
              0.7777777777777778,
              "#fb9f3a"
             ],
             [
              0.8888888888888888,
              "#fdca26"
             ],
             [
              1,
              "#f0f921"
             ]
            ],
            "type": "histogram2d"
           }
          ],
          "histogram2dcontour": [
           {
            "colorbar": {
             "outlinewidth": 0,
             "ticks": ""
            },
            "colorscale": [
             [
              0,
              "#0d0887"
             ],
             [
              0.1111111111111111,
              "#46039f"
             ],
             [
              0.2222222222222222,
              "#7201a8"
             ],
             [
              0.3333333333333333,
              "#9c179e"
             ],
             [
              0.4444444444444444,
              "#bd3786"
             ],
             [
              0.5555555555555556,
              "#d8576b"
             ],
             [
              0.6666666666666666,
              "#ed7953"
             ],
             [
              0.7777777777777778,
              "#fb9f3a"
             ],
             [
              0.8888888888888888,
              "#fdca26"
             ],
             [
              1,
              "#f0f921"
             ]
            ],
            "type": "histogram2dcontour"
           }
          ],
          "mesh3d": [
           {
            "colorbar": {
             "outlinewidth": 0,
             "ticks": ""
            },
            "type": "mesh3d"
           }
          ],
          "parcoords": [
           {
            "line": {
             "colorbar": {
              "outlinewidth": 0,
              "ticks": ""
             }
            },
            "type": "parcoords"
           }
          ],
          "pie": [
           {
            "automargin": true,
            "type": "pie"
           }
          ],
          "scatter": [
           {
            "fillpattern": {
             "fillmode": "overlay",
             "size": 10,
             "solidity": 0.2
            },
            "type": "scatter"
           }
          ],
          "scatter3d": [
           {
            "line": {
             "colorbar": {
              "outlinewidth": 0,
              "ticks": ""
             }
            },
            "marker": {
             "colorbar": {
              "outlinewidth": 0,
              "ticks": ""
             }
            },
            "type": "scatter3d"
           }
          ],
          "scattercarpet": [
           {
            "marker": {
             "colorbar": {
              "outlinewidth": 0,
              "ticks": ""
             }
            },
            "type": "scattercarpet"
           }
          ],
          "scattergeo": [
           {
            "marker": {
             "colorbar": {
              "outlinewidth": 0,
              "ticks": ""
             }
            },
            "type": "scattergeo"
           }
          ],
          "scattergl": [
           {
            "marker": {
             "colorbar": {
              "outlinewidth": 0,
              "ticks": ""
             }
            },
            "type": "scattergl"
           }
          ],
          "scattermapbox": [
           {
            "marker": {
             "colorbar": {
              "outlinewidth": 0,
              "ticks": ""
             }
            },
            "type": "scattermapbox"
           }
          ],
          "scatterpolar": [
           {
            "marker": {
             "colorbar": {
              "outlinewidth": 0,
              "ticks": ""
             }
            },
            "type": "scatterpolar"
           }
          ],
          "scatterpolargl": [
           {
            "marker": {
             "colorbar": {
              "outlinewidth": 0,
              "ticks": ""
             }
            },
            "type": "scatterpolargl"
           }
          ],
          "scatterternary": [
           {
            "marker": {
             "colorbar": {
              "outlinewidth": 0,
              "ticks": ""
             }
            },
            "type": "scatterternary"
           }
          ],
          "surface": [
           {
            "colorbar": {
             "outlinewidth": 0,
             "ticks": ""
            },
            "colorscale": [
             [
              0,
              "#0d0887"
             ],
             [
              0.1111111111111111,
              "#46039f"
             ],
             [
              0.2222222222222222,
              "#7201a8"
             ],
             [
              0.3333333333333333,
              "#9c179e"
             ],
             [
              0.4444444444444444,
              "#bd3786"
             ],
             [
              0.5555555555555556,
              "#d8576b"
             ],
             [
              0.6666666666666666,
              "#ed7953"
             ],
             [
              0.7777777777777778,
              "#fb9f3a"
             ],
             [
              0.8888888888888888,
              "#fdca26"
             ],
             [
              1,
              "#f0f921"
             ]
            ],
            "type": "surface"
           }
          ],
          "table": [
           {
            "cells": {
             "fill": {
              "color": "#EBF0F8"
             },
             "line": {
              "color": "white"
             }
            },
            "header": {
             "fill": {
              "color": "#C8D4E3"
             },
             "line": {
              "color": "white"
             }
            },
            "type": "table"
           }
          ]
         },
         "layout": {
          "annotationdefaults": {
           "arrowcolor": "#2a3f5f",
           "arrowhead": 0,
           "arrowwidth": 1
          },
          "autotypenumbers": "strict",
          "coloraxis": {
           "colorbar": {
            "outlinewidth": 0,
            "ticks": ""
           }
          },
          "colorscale": {
           "diverging": [
            [
             0,
             "#8e0152"
            ],
            [
             0.1,
             "#c51b7d"
            ],
            [
             0.2,
             "#de77ae"
            ],
            [
             0.3,
             "#f1b6da"
            ],
            [
             0.4,
             "#fde0ef"
            ],
            [
             0.5,
             "#f7f7f7"
            ],
            [
             0.6,
             "#e6f5d0"
            ],
            [
             0.7,
             "#b8e186"
            ],
            [
             0.8,
             "#7fbc41"
            ],
            [
             0.9,
             "#4d9221"
            ],
            [
             1,
             "#276419"
            ]
           ],
           "sequential": [
            [
             0,
             "#0d0887"
            ],
            [
             0.1111111111111111,
             "#46039f"
            ],
            [
             0.2222222222222222,
             "#7201a8"
            ],
            [
             0.3333333333333333,
             "#9c179e"
            ],
            [
             0.4444444444444444,
             "#bd3786"
            ],
            [
             0.5555555555555556,
             "#d8576b"
            ],
            [
             0.6666666666666666,
             "#ed7953"
            ],
            [
             0.7777777777777778,
             "#fb9f3a"
            ],
            [
             0.8888888888888888,
             "#fdca26"
            ],
            [
             1,
             "#f0f921"
            ]
           ],
           "sequentialminus": [
            [
             0,
             "#0d0887"
            ],
            [
             0.1111111111111111,
             "#46039f"
            ],
            [
             0.2222222222222222,
             "#7201a8"
            ],
            [
             0.3333333333333333,
             "#9c179e"
            ],
            [
             0.4444444444444444,
             "#bd3786"
            ],
            [
             0.5555555555555556,
             "#d8576b"
            ],
            [
             0.6666666666666666,
             "#ed7953"
            ],
            [
             0.7777777777777778,
             "#fb9f3a"
            ],
            [
             0.8888888888888888,
             "#fdca26"
            ],
            [
             1,
             "#f0f921"
            ]
           ]
          },
          "colorway": [
           "#636efa",
           "#EF553B",
           "#00cc96",
           "#ab63fa",
           "#FFA15A",
           "#19d3f3",
           "#FF6692",
           "#B6E880",
           "#FF97FF",
           "#FECB52"
          ],
          "font": {
           "color": "#2a3f5f"
          },
          "geo": {
           "bgcolor": "white",
           "lakecolor": "white",
           "landcolor": "#E5ECF6",
           "showlakes": true,
           "showland": true,
           "subunitcolor": "white"
          },
          "hoverlabel": {
           "align": "left"
          },
          "hovermode": "closest",
          "mapbox": {
           "style": "light"
          },
          "paper_bgcolor": "white",
          "plot_bgcolor": "#E5ECF6",
          "polar": {
           "angularaxis": {
            "gridcolor": "white",
            "linecolor": "white",
            "ticks": ""
           },
           "bgcolor": "#E5ECF6",
           "radialaxis": {
            "gridcolor": "white",
            "linecolor": "white",
            "ticks": ""
           }
          },
          "scene": {
           "xaxis": {
            "backgroundcolor": "#E5ECF6",
            "gridcolor": "white",
            "gridwidth": 2,
            "linecolor": "white",
            "showbackground": true,
            "ticks": "",
            "zerolinecolor": "white"
           },
           "yaxis": {
            "backgroundcolor": "#E5ECF6",
            "gridcolor": "white",
            "gridwidth": 2,
            "linecolor": "white",
            "showbackground": true,
            "ticks": "",
            "zerolinecolor": "white"
           },
           "zaxis": {
            "backgroundcolor": "#E5ECF6",
            "gridcolor": "white",
            "gridwidth": 2,
            "linecolor": "white",
            "showbackground": true,
            "ticks": "",
            "zerolinecolor": "white"
           }
          },
          "shapedefaults": {
           "line": {
            "color": "#2a3f5f"
           }
          },
          "ternary": {
           "aaxis": {
            "gridcolor": "white",
            "linecolor": "white",
            "ticks": ""
           },
           "baxis": {
            "gridcolor": "white",
            "linecolor": "white",
            "ticks": ""
           },
           "bgcolor": "#E5ECF6",
           "caxis": {
            "gridcolor": "white",
            "linecolor": "white",
            "ticks": ""
           }
          },
          "title": {
           "x": 0.05
          },
          "xaxis": {
           "automargin": true,
           "gridcolor": "white",
           "linecolor": "white",
           "ticks": "",
           "title": {
            "standoff": 15
           },
           "zerolinecolor": "white",
           "zerolinewidth": 2
          },
          "yaxis": {
           "automargin": true,
           "gridcolor": "white",
           "linecolor": "white",
           "ticks": "",
           "title": {
            "standoff": 15
           },
           "zerolinecolor": "white",
           "zerolinewidth": 2
          }
         }
        },
        "title": {
         "text": "360-U1473A-84R-1-W-143-r4",
         "x": 0.5,
         "xanchor": "center"
        },
        "width": 900,
        "xaxis": {
         "dtick": 100,
         "gridcolor": "lightgray",
         "gridwidth": 1,
         "linecolor": "black",
         "linewidth": 1,
         "showline": true,
         "tick0": 0,
         "title": {
          "text": "Temperature (&deg;C)"
         }
        },
        "yaxis": {
         "autorange": true,
         "gridcolor": "lightgray",
         "gridwidth": 1,
         "linecolor": "black",
         "linewidth": 1,
         "showline": true,
         "tickformat": ".1e",
         "title": {
          "text": "<i>dk/dT</i> (m<sup>3</sup> kg<sup>-1</sup>)"
         }
        }
       }
      },
      "text/html": [
       "<div>                            <div id=\"e3ae7d8d-b265-46d6-8b93-3b9e29ef4d3b\" class=\"plotly-graph-div\" style=\"height:556px; width:900px;\"></div>            <script type=\"text/javascript\">                require([\"plotly\"], function(Plotly) {                    window.PLOTLYENV=window.PLOTLYENV || {};                                    if (document.getElementById(\"e3ae7d8d-b265-46d6-8b93-3b9e29ef4d3b\")) {                    Plotly.newPlot(                        \"e3ae7d8d-b265-46d6-8b93-3b9e29ef4d3b\",                        [{\"line\":{\"color\":\"red\"},\"marker\":{\"color\":\"red\"},\"mode\":\"lines+markers\",\"name\":\"Heating (smoothed) - 2nd Derivative\",\"x\":[null,47.783333333333346,52.83333333333336,55.96363636363638,63.61083916083919,64.96510989010991,67.86214285714289,74.89980392156865,80.13328173374613,90.41929824561406,94.66111111111113,100.17222222222225,101.05964912280704,107.88684210526318,112.97894736842106,117.94210526315791,118.96565789473685,125.14250000000001,126.18,132.20952380952386,136.92619047619053,141.69761904761907,146.33809523809526,151.14761904761912,155.77142857142866,160.42857142857144,165.0261904761905,169.70952380952394,174.40000000000006,179.09523809523813,183.77857142857147,188.55714285714288,193.3047619047619,198.06666666666672,202.81666666666666,207.63333333333338,212.45,217.2452380952381,222.0809523809524,226.89047619047616,231.73333333333335,236.55952380952374,241.38095238095235,246.19761904761907,251.00238095238095,255.90476190476193,260.7333333333334,265.6261904761905,270.47380952380956,275.3809523809524,280.2857142857143,285.19285714285706,289.9833333333333,294.79047619047617,299.6333333333333,304.41666666666663,309.1952380952381,314.0023809523809,318.7595238095238,323.5595238095239,328.34285714285716,333.1214285714286,337.8452380952382,342.602380952381,347.30476190476196,352.01666666666677,356.6380952380953,361.2761904761905,365.954761904762,373.9870129870131,377.37727272727284,381.96818181818185,386.50227272727284,391.1068181818182,395.659090909091,400.175,404.70000000000016,409.21363636363645,413.68409090909097,418.1227272727273,419.19249011857715,424.6869565217392,429.13478260869573,433.5,437.85434782608695,442.1347826086958,446.48913043478257,450.7826086956522,458.23586956521734,461.48958333333326,462.5584239130435,471.03885869565204,471.10226449275353,479.5339673913043,482.6625,483.73940217391305,492.0410326086957,495.1583333333333,499.26666666666654,503.3979166666665,504.4123333333332,509.54799999999994,516.7529999999999,516.7256666666665,525.0095,524.9288333333334,530.0179999999998,537.2445,537.2058333333334,542.328,546.4319999999999,550.4300000000001,554.486,558.528,562.5840000000002,566.6000000000001,570.586,574.5740000000001,578.5360000000001,582.5559999999999,586.53,590.508,594.47,598.4740000000002,602.454,606.3659999999999,613.2394615384615,613.2888461538462,618.2,622.0799999999998,626.046,629.9179999999999,636.6861538461535,636.7106153846154,644.4233846153844,647.2211538461538,651.1326923076923,655.0000000000001,658.7596153846155,656.8615384615385,662.6004807692309,663.5921195652174,665.5198616600792,667.4762987012989,669.3638095238096,668.4100000000001,674.1366666666668,672.2277777777779,675.1287581699347,677.0034926470589,678.8968750000001,680.832142857143],\"y\":[null,null,-0.0003251815181518145,-0.0008189743589740762,-0.0002389293311273881,-0.0002920896567826488,-0.0011992882562256745,-0.0002022854054274289,0.00016560074734139785,-0.00011701424291794757,-3.96517412935394e-05,4.1666666666942005e-05,-0.0003956704694221237,-0.0002580777710964262,-0.00017428571428537612,-0.0002571428571426411,-0.00030639323300879023,-0.00013874405131388055,-0.00014859174439006958,-5.566165123459281e-05,0.002718181818182554,0.0018500000000190387,-0.002823529411763185,0.0003000000000001036,-0.00044500000000076824,-0.004049999999963797,-0.0008777777777792932,-0.0035888888888834496,0.011275000000036487,0.04144999999998978,0.07010000000014627,0.0063692307692313575,null,-0.01644999999985779,-0.0050999999998605034,0.000522222222225116,0.014233333333391083,0.01720000000008908,0.008360000000003379,-0.0014499999999838197,-0.018524999999963224,-0.07929999999927732,-0.0020000000000019585,0.036900000000315326,-0.0005500000000042806,0.003030769230764724,-6.666666667047577e-05,-0.005457142857152777,-0.01919999999998796,-0.005528571428563042,-0.03875000000010538,-0.0007000000000064162,-0.0023125000000011366,0.026000000000072337,-0.0002999999999944231,0.0001857142857166229,-0.012299999999982754,-0.013266666666648328,0.00023333333333260074,-0.019524999999875097,-0.03739999999920844,0.0011000000000300665,0.00012499999999846122,0.018850000000172045,0.00010000000000407674,0.0002999999999711084,3.076923077006855e-05,0.01919999999994232,0.015539999999967986,0.00019922824618944348,0.0001890518354546968,0.010100000000007351,-0.005757142857152027,0.00033749999999710563,-0.015840000000018034,-0.0004571428571418032,-0.04150000000106336,0.017149999999798573,-0.01158571428570453,-0.0005285714285725172,0.00026044841478367316,0.0004112320143884749,-0.0039499999999982075,-0.008219999999986783,-0.0010400000000068998,0.0024692307692342004,0.0010857142857162998,-0.006514285714303871,0.00028835983408226595,0.000356393894972819,0.00044485973458761603,0.00032898824337081233,0.00033883478410756305,0.0001552688638334521,0.0003505452700988585,-2.4066823283721235e-05,-0.0005001582000351182,-9.851213782293234e-05,0.02291249999998199,-0.29760000000023523,0.0007634561361265403,-0.0009191047680829999,-0.0017947206974491966,0.0003715645161290169,-0.001413375770678156,-0.0007574932357154305,-0.001422745894976625,-0.0023641122529640918,-0.0022203654805989276,-0.0023532001294289764,-0.013245000000133924,0.0021029411764746726,0.002705000000004985,-0.008409999999953266,0.005324999999906308,0.005261666666640652,-0.0006357142857097052,-0.022660000000533104,-0.016325999999923273,0.010841250000025284,-0.016182000000108093,-0.11995999999942256,-0.03946666666647745,0.03311499999984269,-0.11655499999778621,-0.03186833333333195,0.0007106638384790248,-0.001028934775742248,0.0012641552475247302,-0.06873579999967196,0.02469563636351835,-0.015421666666629549,-7.00400128555394e-05,-9.235239690516704e-05,-7.783404118920235e-05,-7.749564681409316e-05,-8.79000000001326e-05,0.011725000000170273,-0.001283789473682905,-6.313171225937179e-05,-6.815095920247881e-05,-0.00013888593890584264,0.014143014245274926,-0.004797404813976521,0.0030189063508969743,-0.00014888017973041322,-7.910768335273456e-05,-7.910768335273456e-05,-0.000103813450490032,0.003687422957603241,-0.1410894666777014,-0.004870662365602326],\"type\":\"scatter\"},{\"line\":{\"color\":\"blue\"},\"marker\":{\"color\":\"blue\"},\"mode\":\"lines+markers\",\"name\":\"Cooling (smoothed) - 2nd Derivative\",\"x\":[null,678.3833333333334,676.7783625730996,677.5763157894738,675.1593421052632,673.5567857142858,671.9316017316019,670.2958498023717,668.6570652173914,667.0075000000002,667.8300000000002,665.3503846153847,663.6920940170942,661.9612433862435,660.3023399014779,658.6201724137933,656.8804838709679,652.9016129032259,649.5887096774195,646.4648498331482,642.9172413793106,639.446551724138,635.9810344827588,632.5137931034483,629.0172413793105,622.9019704433501,620.207142857143,616.5892857142858,613.0178571428573,609.3964285714285,605.7625,602.1267857142859,598.4196428571429,592.0224206349205,589.162962962963,585.4314814814816,581.675925925926,580.7634615384616,576.0038461538463,572.1884615384615,568.3288461538461,564.55,560.6519230769229,556.7576923076922,552.8442307692308,548.9346153846152,545.0153846153846,541.1288461538461,537.1519230769231,533.1730769230769,526.2121538461538,526.2279999999998,518.0506666666665,518.1344999999999,512.96875,508.8520833333333,504.7458333333333,500.61249999999984,496.4625,492.26458333333335,488.09791666666666,483.86458333333326,479.6208333333334,472.30625000000015,472.2125000000001,463.766123188406,460.4717391304347,456.15869565217395,451.87173913043466,447.5043478260869,443.1347826086957,438.8,434.4695652173914,430.0891304347827,429.02776679841907,420.2117588932807,420.221837944664,411.3941699604743,408.05,403.608695652174,399.1173913043478,394.6695652173914,393.5942687747036,387.9659090909091,380.14871541501975,373.3807312252965,376.75454545454545,363.17954545454563,367.70454545454555,357.50098814229256,357.5170948616602,351.83409090909095,347.30681818181824,339.3386363636365,335.87857142857143,334.7313852813853,329.0386363636365,321.02305194805194,320.9976190476191,308.45227272727277,313.01818181818186,302.7587662337662,299.2857142857142,294.6833333333333,290.0904761904762,285.4880952380952,280.8166666666666,276.1761904761904,271.60476190476203,266.9809523809524,265.8695887445887,256.699025974026,249.8889610389611,246.46590909090912,241.89318181818186,237.3318181818183,232.76136363636368,228.1863636363637,223.6204545454546,219.08636363636361,214.52727272727276,209.9863636363636,205.50227272727267,204.41511857707508,198.8173913043479,194.35000000000002,189.92608695652171,185.4608695652174,181.05000000000007,176.61739130434788,172.22608695652178,167.8347826086957,163.4586956521739,159.10869565217394,151.6554347826087,148.49791666666667,144.20833333333337,140.00833333333338,135.8458333333333,131.7,124.63941666666668,124.53824999999998,116.58525,113.60400000000004,109.71200000000006,103.13415384615391,103.28461538461545,98.54444444444451,92.3843915343916,87.2894088669951,84.65172413793108,79.10258620689658,78.76005747126437,79.6844827586207,74.26609195402303,76.07222222222225,73.40235042735046,71.64884615384616,69.92875000000004,70.79583333333336,68.2096920289855,66.50276679841899,64.75259740259743,65.6214285714286,63.151785714285715,63.97500000000001,61.53750000000002,59.92500000000004,60.73333333333336],\"y\":[null,null,-0.005464001897544159,-0.00022873048735801098,-3.917867058631382e-05,0.01960132618039019,0.006442489291619732,0.006514795716633128,-0.0440031610170636,0.02607155714286661,-2.250060790273606e-05,-7.373950674731901e-05,0.018858462296342825,-0.003939233566131202,-0.006003199245925986,-0.01423465522892974,0.001879866777835387,-7.99785107446292e-05,-0.003521388888892083,0.0020474045881122174,0.0014254045045043024,0.0009575555555519045,0.0035000000000566275,0.044839999998511536,0.001078333333345011,-0.0001087218943226562,0.0001279407493465157,-0.004973571428564611,0.09619499999833761,-0.08609749999919737,-0.14583800000119368,-0.3654350000053185,-0.04644428571411653,-0.0019089133294358147,-0.00022116286080337564,0.15796999999744904,-0.029589999999750073,-0.006593138422123411,-0.006798191591193824,-0.0010724999999938054,-0.0046288888888939604,-0.0024509090909104426,-0.002284117647059423,0.0065220000000171564,-0.001728000000006998,-0.04602999999793502,0.015170000000222046,0.010276000000030655,0.002391428571433724,0.013863999999954855,-0.006654159981487143,-0.004054741072117777,-0.0016083653225806296,-0.0014232577286302072,-0.0005020990658607719,0.3219250000003001,-0.7582000000110444,0.19984999999949046,0.1608500000012514,0.050366666666633024,-0.12915000000099852,0.014629999999997265,0.021220000000069666,0.00014391921686221048,-2.0479971921178475e-05,6.718236819361136e-05,1.3311399608697554e-05,211616150.96907553,0.0026000000000276544,0.006400000000025075,0.007824999999990367,-0.007600000000028987,0.003799999999977233,-0.011871428571420675,8.646926873033757e-05,0.00021781322402424205,0.0002881302709492169,0.0002953712804931949,0.0002002265108270911,-0.04290000000030469,-0.00044999999999491085,0.001074999999997717,0.0002224530948623624,0.0002254564333304292,0.00017587219651120814,-0.0003165048543673518,0.00020571713089067214,0.0002137619286790595,0.0002137619286790595,0.0001976873910517085,0.00017067953567235093,0.00016843744592492428,0.019450000000025208,7.362055933482309e-05,5.958289079848453e-05,0.00025364977307106224,0.0003208114558472117,5.374788653014242e-05,0.00016621243055883338,0.0001611553216448614,0.0001560477849676589,0.00012597867021108504,0.0001677114475841303,0.039700000000097435,-0.0012999999999680869,0.0011999999999866826,0.00011000000000390977,-0.03950000000009727,0.007629999999976602,0.009774999999904634,0.00020192788951705061,0.00012640158296430262,-0.00553692307692111,0.00023998285224348606,0.018900000000015,0.03959999999953155,0.037099999999321065,-0.0014999999999789945,0.04089999999979516,-0.007200000000020533,-0.001150000000022432,0.040100000000292894,-0.00815555555555585,0.00016590909090912363,7.009584102693416e-05,0.042800000000533196,-0.0048285714285779486,-0.0013500000000025228,0.006228571428560986,-0.04459999999943351,0.000900000000002339,0.0029999999999865174,-0.010866666666684066,0.001299999999993312,-0.0002657996485061571,-0.00014862255513941813,-0.0011857142857174222,0.003716666666663417,0.0005300000000039542,0.00743333333332304,-0.00036233956413123493,-0.0002948848464619027,-0.0002688615594841295,-9.60930386556951e-05,-0.002225000000000909,-0.0004987130434782528,-0.00028348398155949206,-0.00024828637815858096,-0.00027790909090909054,0.00027274183546874297,-0.00024951378809865907,-0.0003942582532386839,-0.0004112399847386788,-0.00029199253963318333,-0.0002797164474614911,-0.0002797164474614911,-0.00026094437775111304,0.009811909385109402,0.0011170387243790844,-0.00038557424315239364,-0.00040969843438057237,-0.011624892086309312,-0.008750489089547621,-0.00045589187842556405,-0.0003895733911786345,-0.0003895733911786345,-0.0004184453441295196,0.005666315789472008,-0.00044981009224089296],\"type\":\"scatter\"}],                        {\"template\":{\"data\":{\"histogram2dcontour\":[{\"type\":\"histogram2dcontour\",\"colorbar\":{\"outlinewidth\":0,\"ticks\":\"\"},\"colorscale\":[[0.0,\"#0d0887\"],[0.1111111111111111,\"#46039f\"],[0.2222222222222222,\"#7201a8\"],[0.3333333333333333,\"#9c179e\"],[0.4444444444444444,\"#bd3786\"],[0.5555555555555556,\"#d8576b\"],[0.6666666666666666,\"#ed7953\"],[0.7777777777777778,\"#fb9f3a\"],[0.8888888888888888,\"#fdca26\"],[1.0,\"#f0f921\"]]}],\"choropleth\":[{\"type\":\"choropleth\",\"colorbar\":{\"outlinewidth\":0,\"ticks\":\"\"}}],\"histogram2d\":[{\"type\":\"histogram2d\",\"colorbar\":{\"outlinewidth\":0,\"ticks\":\"\"},\"colorscale\":[[0.0,\"#0d0887\"],[0.1111111111111111,\"#46039f\"],[0.2222222222222222,\"#7201a8\"],[0.3333333333333333,\"#9c179e\"],[0.4444444444444444,\"#bd3786\"],[0.5555555555555556,\"#d8576b\"],[0.6666666666666666,\"#ed7953\"],[0.7777777777777778,\"#fb9f3a\"],[0.8888888888888888,\"#fdca26\"],[1.0,\"#f0f921\"]]}],\"heatmap\":[{\"type\":\"heatmap\",\"colorbar\":{\"outlinewidth\":0,\"ticks\":\"\"},\"colorscale\":[[0.0,\"#0d0887\"],[0.1111111111111111,\"#46039f\"],[0.2222222222222222,\"#7201a8\"],[0.3333333333333333,\"#9c179e\"],[0.4444444444444444,\"#bd3786\"],[0.5555555555555556,\"#d8576b\"],[0.6666666666666666,\"#ed7953\"],[0.7777777777777778,\"#fb9f3a\"],[0.8888888888888888,\"#fdca26\"],[1.0,\"#f0f921\"]]}],\"heatmapgl\":[{\"type\":\"heatmapgl\",\"colorbar\":{\"outlinewidth\":0,\"ticks\":\"\"},\"colorscale\":[[0.0,\"#0d0887\"],[0.1111111111111111,\"#46039f\"],[0.2222222222222222,\"#7201a8\"],[0.3333333333333333,\"#9c179e\"],[0.4444444444444444,\"#bd3786\"],[0.5555555555555556,\"#d8576b\"],[0.6666666666666666,\"#ed7953\"],[0.7777777777777778,\"#fb9f3a\"],[0.8888888888888888,\"#fdca26\"],[1.0,\"#f0f921\"]]}],\"contourcarpet\":[{\"type\":\"contourcarpet\",\"colorbar\":{\"outlinewidth\":0,\"ticks\":\"\"}}],\"contour\":[{\"type\":\"contour\",\"colorbar\":{\"outlinewidth\":0,\"ticks\":\"\"},\"colorscale\":[[0.0,\"#0d0887\"],[0.1111111111111111,\"#46039f\"],[0.2222222222222222,\"#7201a8\"],[0.3333333333333333,\"#9c179e\"],[0.4444444444444444,\"#bd3786\"],[0.5555555555555556,\"#d8576b\"],[0.6666666666666666,\"#ed7953\"],[0.7777777777777778,\"#fb9f3a\"],[0.8888888888888888,\"#fdca26\"],[1.0,\"#f0f921\"]]}],\"surface\":[{\"type\":\"surface\",\"colorbar\":{\"outlinewidth\":0,\"ticks\":\"\"},\"colorscale\":[[0.0,\"#0d0887\"],[0.1111111111111111,\"#46039f\"],[0.2222222222222222,\"#7201a8\"],[0.3333333333333333,\"#9c179e\"],[0.4444444444444444,\"#bd3786\"],[0.5555555555555556,\"#d8576b\"],[0.6666666666666666,\"#ed7953\"],[0.7777777777777778,\"#fb9f3a\"],[0.8888888888888888,\"#fdca26\"],[1.0,\"#f0f921\"]]}],\"mesh3d\":[{\"type\":\"mesh3d\",\"colorbar\":{\"outlinewidth\":0,\"ticks\":\"\"}}],\"scatter\":[{\"fillpattern\":{\"fillmode\":\"overlay\",\"size\":10,\"solidity\":0.2},\"type\":\"scatter\"}],\"parcoords\":[{\"type\":\"parcoords\",\"line\":{\"colorbar\":{\"outlinewidth\":0,\"ticks\":\"\"}}}],\"scatterpolargl\":[{\"type\":\"scatterpolargl\",\"marker\":{\"colorbar\":{\"outlinewidth\":0,\"ticks\":\"\"}}}],\"bar\":[{\"error_x\":{\"color\":\"#2a3f5f\"},\"error_y\":{\"color\":\"#2a3f5f\"},\"marker\":{\"line\":{\"color\":\"#E5ECF6\",\"width\":0.5},\"pattern\":{\"fillmode\":\"overlay\",\"size\":10,\"solidity\":0.2}},\"type\":\"bar\"}],\"scattergeo\":[{\"type\":\"scattergeo\",\"marker\":{\"colorbar\":{\"outlinewidth\":0,\"ticks\":\"\"}}}],\"scatterpolar\":[{\"type\":\"scatterpolar\",\"marker\":{\"colorbar\":{\"outlinewidth\":0,\"ticks\":\"\"}}}],\"histogram\":[{\"marker\":{\"pattern\":{\"fillmode\":\"overlay\",\"size\":10,\"solidity\":0.2}},\"type\":\"histogram\"}],\"scattergl\":[{\"type\":\"scattergl\",\"marker\":{\"colorbar\":{\"outlinewidth\":0,\"ticks\":\"\"}}}],\"scatter3d\":[{\"type\":\"scatter3d\",\"line\":{\"colorbar\":{\"outlinewidth\":0,\"ticks\":\"\"}},\"marker\":{\"colorbar\":{\"outlinewidth\":0,\"ticks\":\"\"}}}],\"scattermapbox\":[{\"type\":\"scattermapbox\",\"marker\":{\"colorbar\":{\"outlinewidth\":0,\"ticks\":\"\"}}}],\"scatterternary\":[{\"type\":\"scatterternary\",\"marker\":{\"colorbar\":{\"outlinewidth\":0,\"ticks\":\"\"}}}],\"scattercarpet\":[{\"type\":\"scattercarpet\",\"marker\":{\"colorbar\":{\"outlinewidth\":0,\"ticks\":\"\"}}}],\"carpet\":[{\"aaxis\":{\"endlinecolor\":\"#2a3f5f\",\"gridcolor\":\"white\",\"linecolor\":\"white\",\"minorgridcolor\":\"white\",\"startlinecolor\":\"#2a3f5f\"},\"baxis\":{\"endlinecolor\":\"#2a3f5f\",\"gridcolor\":\"white\",\"linecolor\":\"white\",\"minorgridcolor\":\"white\",\"startlinecolor\":\"#2a3f5f\"},\"type\":\"carpet\"}],\"table\":[{\"cells\":{\"fill\":{\"color\":\"#EBF0F8\"},\"line\":{\"color\":\"white\"}},\"header\":{\"fill\":{\"color\":\"#C8D4E3\"},\"line\":{\"color\":\"white\"}},\"type\":\"table\"}],\"barpolar\":[{\"marker\":{\"line\":{\"color\":\"#E5ECF6\",\"width\":0.5},\"pattern\":{\"fillmode\":\"overlay\",\"size\":10,\"solidity\":0.2}},\"type\":\"barpolar\"}],\"pie\":[{\"automargin\":true,\"type\":\"pie\"}]},\"layout\":{\"autotypenumbers\":\"strict\",\"colorway\":[\"#636efa\",\"#EF553B\",\"#00cc96\",\"#ab63fa\",\"#FFA15A\",\"#19d3f3\",\"#FF6692\",\"#B6E880\",\"#FF97FF\",\"#FECB52\"],\"font\":{\"color\":\"#2a3f5f\"},\"hovermode\":\"closest\",\"hoverlabel\":{\"align\":\"left\"},\"paper_bgcolor\":\"white\",\"plot_bgcolor\":\"#E5ECF6\",\"polar\":{\"bgcolor\":\"#E5ECF6\",\"angularaxis\":{\"gridcolor\":\"white\",\"linecolor\":\"white\",\"ticks\":\"\"},\"radialaxis\":{\"gridcolor\":\"white\",\"linecolor\":\"white\",\"ticks\":\"\"}},\"ternary\":{\"bgcolor\":\"#E5ECF6\",\"aaxis\":{\"gridcolor\":\"white\",\"linecolor\":\"white\",\"ticks\":\"\"},\"baxis\":{\"gridcolor\":\"white\",\"linecolor\":\"white\",\"ticks\":\"\"},\"caxis\":{\"gridcolor\":\"white\",\"linecolor\":\"white\",\"ticks\":\"\"}},\"coloraxis\":{\"colorbar\":{\"outlinewidth\":0,\"ticks\":\"\"}},\"colorscale\":{\"sequential\":[[0.0,\"#0d0887\"],[0.1111111111111111,\"#46039f\"],[0.2222222222222222,\"#7201a8\"],[0.3333333333333333,\"#9c179e\"],[0.4444444444444444,\"#bd3786\"],[0.5555555555555556,\"#d8576b\"],[0.6666666666666666,\"#ed7953\"],[0.7777777777777778,\"#fb9f3a\"],[0.8888888888888888,\"#fdca26\"],[1.0,\"#f0f921\"]],\"sequentialminus\":[[0.0,\"#0d0887\"],[0.1111111111111111,\"#46039f\"],[0.2222222222222222,\"#7201a8\"],[0.3333333333333333,\"#9c179e\"],[0.4444444444444444,\"#bd3786\"],[0.5555555555555556,\"#d8576b\"],[0.6666666666666666,\"#ed7953\"],[0.7777777777777778,\"#fb9f3a\"],[0.8888888888888888,\"#fdca26\"],[1.0,\"#f0f921\"]],\"diverging\":[[0,\"#8e0152\"],[0.1,\"#c51b7d\"],[0.2,\"#de77ae\"],[0.3,\"#f1b6da\"],[0.4,\"#fde0ef\"],[0.5,\"#f7f7f7\"],[0.6,\"#e6f5d0\"],[0.7,\"#b8e186\"],[0.8,\"#7fbc41\"],[0.9,\"#4d9221\"],[1,\"#276419\"]]},\"xaxis\":{\"gridcolor\":\"white\",\"linecolor\":\"white\",\"ticks\":\"\",\"title\":{\"standoff\":15},\"zerolinecolor\":\"white\",\"automargin\":true,\"zerolinewidth\":2},\"yaxis\":{\"gridcolor\":\"white\",\"linecolor\":\"white\",\"ticks\":\"\",\"title\":{\"standoff\":15},\"zerolinecolor\":\"white\",\"automargin\":true,\"zerolinewidth\":2},\"scene\":{\"xaxis\":{\"backgroundcolor\":\"#E5ECF6\",\"gridcolor\":\"white\",\"linecolor\":\"white\",\"showbackground\":true,\"ticks\":\"\",\"zerolinecolor\":\"white\",\"gridwidth\":2},\"yaxis\":{\"backgroundcolor\":\"#E5ECF6\",\"gridcolor\":\"white\",\"linecolor\":\"white\",\"showbackground\":true,\"ticks\":\"\",\"zerolinecolor\":\"white\",\"gridwidth\":2},\"zaxis\":{\"backgroundcolor\":\"#E5ECF6\",\"gridcolor\":\"white\",\"linecolor\":\"white\",\"showbackground\":true,\"ticks\":\"\",\"zerolinecolor\":\"white\",\"gridwidth\":2}},\"shapedefaults\":{\"line\":{\"color\":\"#2a3f5f\"}},\"annotationdefaults\":{\"arrowcolor\":\"#2a3f5f\",\"arrowhead\":0,\"arrowwidth\":1},\"geo\":{\"bgcolor\":\"white\",\"landcolor\":\"#E5ECF6\",\"subunitcolor\":\"white\",\"showland\":true,\"showlakes\":true,\"lakecolor\":\"white\"},\"title\":{\"x\":0.05},\"mapbox\":{\"style\":\"light\"}}},\"title\":{\"text\":\"360-U1473A-84R-1-W-143-r4\",\"x\":0.5,\"xanchor\":\"center\"},\"font\":{\"family\":\"Roboto, sans-serif\",\"size\":18,\"color\":\"Black\"},\"xaxis\":{\"title\":{\"text\":\"Temperature (&deg;C)\"},\"tick0\":0,\"dtick\":100,\"gridcolor\":\"lightgray\",\"gridwidth\":1,\"showline\":true,\"linewidth\":1,\"linecolor\":\"black\"},\"yaxis\":{\"title\":{\"text\":\"<i>dk/dT</i> (m<sup>3</sup> kg<sup>-1</sup>)\"},\"autorange\":true,\"tickformat\":\".1e\",\"gridcolor\":\"lightgray\",\"gridwidth\":1,\"showline\":true,\"linewidth\":1,\"linecolor\":\"black\"},\"margin\":{\"l\":50,\"r\":50,\"b\":50,\"t\":80},\"width\":900,\"height\":556,\"showlegend\":true,\"paper_bgcolor\":\"white\",\"plot_bgcolor\":\"white\",\"shapes\":[{\"line\":{\"color\":\"black\",\"width\":2},\"type\":\"rect\",\"x0\":0,\"x1\":1,\"xref\":\"paper\",\"y0\":0,\"y1\":1,\"yref\":\"paper\"}]},                        {\"responsive\": true}                    ).then(function(){\n",
       "                            \n",
       "var gd = document.getElementById('e3ae7d8d-b265-46d6-8b93-3b9e29ef4d3b');\n",
       "var x = new MutationObserver(function (mutations, observer) {{\n",
       "        var display = window.getComputedStyle(gd).display;\n",
       "        if (!display || display === 'none') {{\n",
       "            console.log([gd, 'removed!']);\n",
       "            Plotly.purge(gd);\n",
       "            observer.disconnect();\n",
       "        }}\n",
       "}});\n",
       "\n",
       "// Listen for the removal of the full notebook cells\n",
       "var notebookContainer = gd.closest('#notebook-container');\n",
       "if (notebookContainer) {{\n",
       "    x.observe(notebookContainer, {childList: true});\n",
       "}}\n",
       "\n",
       "// Listen for the clearing of the current output cell\n",
       "var outputEl = gd.closest('.output');\n",
       "if (outputEl) {{\n",
       "    x.observe(outputEl, {childList: true});\n",
       "}}\n",
       "\n",
       "                        })                };                });            </script>        </div>"
      ]
     },
     "metadata": {},
     "output_type": "display_data"
    }
   ],
   "source": [
    "#Created dataframes from the smoothed data\n",
    "\n",
    "df_hsmoothed = pd.DataFrame({\n",
    "    'temp': avg_temp_heat,\n",
    "    'susc': avg_chi_heat\n",
    "})\n",
    "\n",
    "df_csmoothed = pd.DataFrame({\n",
    "    'temp': avg_temp_cool,\n",
    "    'susc': avg_chi_cool\n",
    "})\n",
    "\n",
    "# ----------------------------------------------------------------------------------------------------------------\n",
    "# Calculate first order derivative\n",
    "df_hsmoothed['first_derivative_susc'] = df_hsmoothed['susc'].diff()\n",
    "df_hsmoothed['first_derivative_temp'] = df_hsmoothed['temp'].diff()\n",
    "df_hsmoothed['first_derivative_kT'] = df_hsmoothed['first_derivative_susc']/df_hsmoothed['first_derivative_temp']\n",
    "df_hsmoothed['first_derivative_tstep'] = df_hsmoothed['temp']+(df_hsmoothed['first_derivative_temp']/2)\n",
    "\n",
    "df_csmoothed['first_derivative_susc'] = df_csmoothed['susc'].diff()\n",
    "df_csmoothed['first_derivative_temp'] = df_csmoothed['temp'].diff()\n",
    "df_csmoothed['first_derivative_kT'] = df_csmoothed['first_derivative_susc']/df_csmoothed['first_derivative_temp']\n",
    "df_csmoothed['first_derivative_tstep'] = df_csmoothed['temp']+(df_csmoothed['first_derivative_temp']/2)\n",
    "\n",
    "# Create a plot for the 'heat' dataset with red points and a line\n",
    "fig_dheat = go.Figure()\n",
    "\n",
    "# Add heat data as a scatter plot with red points and lines\n",
    "fig_dheat.add_trace(go.Scatter(\n",
    "    x=df_hsmoothed['first_derivative_tstep'],\n",
    "    y=df_hsmoothed['first_derivative_kT'],\n",
    "    mode='lines+markers',\n",
    "    marker=dict(color='red'),\n",
    "    line=dict(color='red'),\n",
    "    name='Heating (smoothed) - 1st Derivative'\n",
    "))\n",
    "\n",
    "# Create a scatter plot for the 'cooling' dataset with blue points and a line\n",
    "fig_dcool = go.Figure()\n",
    "\n",
    "# Add cooling data as a scatter plot with blue points and lines\n",
    "fig_dcool.add_trace(go.Scatter(\n",
    "    x=df_csmoothed['first_derivative_tstep'],\n",
    "    y=df_csmoothed['first_derivative_kT'],\n",
    "    mode='lines+markers',\n",
    "    marker=dict(color='blue'),\n",
    "    line=dict(color='blue'),\n",
    "    name='Cooling (smoothed) - 1st Derivative'\n",
    "))\n",
    "\n",
    "# Combine the two figures\n",
    "fig = go.Figure(data=fig_dheat.data + fig_dcool.data)\n",
    "\n",
    "width = 900  # Adjust the width to your preference\n",
    "height = int(width / 1.618)  # Calculate height based on the golden ratio\n",
    "\n",
    "# Update the layout with a unified title and labels\n",
    "fig.update_layout(\n",
    "        title={\n",
    "        'text': f\"{selected_specimen}\",\n",
    "        'x': 0.5,  # Center the title\n",
    "        'xanchor': 'center'\n",
    "    },\n",
    "    width=width,\n",
    "    height=height,\n",
    "    xaxis_title='Temperature (&deg;C)',\n",
    "    yaxis_title='<i>dk/dT</i> (m<sup>3</sup> kg<sup>-1</sup>)',\n",
    "    showlegend=True,\n",
    "    paper_bgcolor='white',  # Background color of the entire plot\n",
    "    plot_bgcolor='white',   # Background color of the plotting area\n",
    "    font=dict(\n",
    "        family='Roboto, sans-serif',\n",
    "        size=18,\n",
    "        color=\"Black\"\n",
    "    ),\n",
    "    xaxis=dict(\n",
    "        tick0=0,  # Start at 0\n",
    "        dtick=100,  # Tick every 100 units\n",
    "        gridcolor='lightgray',  # Color of the grid lines\n",
    "        gridwidth=1,  # Width of the grid lines\n",
    "        showline=True,  # Show x-axis line\n",
    "        linewidth=1,  # Width of the x-axis line\n",
    "        linecolor='black'  # Color of the x-axis line\n",
    "    ),\n",
    "    yaxis=dict(\n",
    "        # Automatic tick marks on the y-axis\n",
    "        autorange= True,  # Reversed for easier reading\n",
    "        tickformat='.1e',  # Scientific notation format\n",
    "        gridcolor='lightgray',  # Color of the grid lines\n",
    "        gridwidth=1,  # Width of the grid lines\n",
    "        showline=True,  # Show y-axis line\n",
    "        linewidth=1,  # Width of the y-axis line\n",
    "        linecolor='black'  # Color of the y-axis line\n",
    "    ),\n",
    "        shapes=[\n",
    "        # Frame around the plot\n",
    "        dict(\n",
    "            type='rect',\n",
    "            xref='paper', yref='paper',\n",
    "            x0=0, y0=0, x1=1, y1=1,\n",
    "            line=dict(color='black', width=2)\n",
    "        )\n",
    "    ],\n",
    "    margin=dict(\n",
    "        l=50,  # Adjust left margin\n",
    "        r=50,  # Adjust right margin\n",
    "        b=50,  # Adjust bottom margin\n",
    "        t=80   # Adjust top margin for title\n",
    "    )\n",
    ")\n",
    "\n",
    "# Plot first order derviative\n",
    "fig.show()\n",
    "\n",
    "# -----------------------------------------------------------------------------------------------------------------\n",
    "# Calculate second order derivative\n",
    "df_hsmoothed['second_derivative_susc'] = df_hsmoothed['susc'].diff().diff()\n",
    "df_hsmoothed['second_derivative_temp'] = df_hsmoothed['temp'].diff().diff()\n",
    "df_hsmoothed['second_derivative_kT'] = df_hsmoothed['second_derivative_susc']/df_hsmoothed['second_derivative_temp']\n",
    "df_hsmoothed['second_derivative_tstep'] = df_hsmoothed['temp']+(df_hsmoothed['first_derivative_temp']/2)\n",
    "\n",
    "df_csmoothed['second_derivative_susc'] = df_csmoothed['susc'].diff().diff()\n",
    "df_csmoothed['second_derivative_temp'] = df_csmoothed['temp'].diff().diff()\n",
    "df_csmoothed['second_derivative_kT'] = df_csmoothed['second_derivative_susc']/df_csmoothed['second_derivative_temp']\n",
    "df_csmoothed['second_derivative_tstep'] = df_csmoothed['temp']+(df_csmoothed['first_derivative_temp']/2)\n",
    "\n",
    "# Create a plot for the 'heat' dataset with red points and a line\n",
    "fig_d2heat = go.Figure()\n",
    "\n",
    "# Add heat data as a scatter plot with red points and lines\n",
    "fig_d2heat.add_trace(go.Scatter(\n",
    "    x=df_hsmoothed['second_derivative_tstep'],\n",
    "    y=df_hsmoothed['second_derivative_kT'],\n",
    "    mode='lines+markers',\n",
    "    marker=dict(color='red'),\n",
    "    line=dict(color='red'),\n",
    "    name='Heating (smoothed) - 2nd Derivative'\n",
    "))\n",
    "\n",
    "# Create a scatter plot for the 'cooling' dataset with blue points and a line\n",
    "fig_d2cool = go.Figure()\n",
    "\n",
    "# Add cooling data as a scatter plot with blue points and lines\n",
    "fig_d2cool.add_trace(go.Scatter(\n",
    "    x=df_csmoothed['second_derivative_tstep'],\n",
    "    y=df_csmoothed['second_derivative_kT'],\n",
    "    mode='lines+markers',\n",
    "    marker=dict(color='blue'),\n",
    "    line=dict(color='blue'),\n",
    "    name='Cooling (smoothed) - 2nd Derivative'\n",
    "))\n",
    "\n",
    "# Combine the two figures\n",
    "figd2 = go.Figure(data=fig_d2heat.data + fig_d2cool.data)\n",
    "\n",
    "width = 900  # Adjust the width to your preference\n",
    "height = int(width / 1.618)  # Calculate height based on the golden ratio\n",
    "\n",
    "# Update the layout with a unified title and labels\n",
    "figd2.update_layout(\n",
    "        title={\n",
    "        'text': f\"{selected_specimen}\",\n",
    "        'x': 0.5,  # Center the title\n",
    "        'xanchor': 'center'\n",
    "    },\n",
    "    width=width,\n",
    "    height=height,\n",
    "    xaxis_title='Temperature (&deg;C)',\n",
    "    yaxis_title='<i>dk/dT</i> (m<sup>3</sup> kg<sup>-1</sup>)',\n",
    "    showlegend=True,\n",
    "    paper_bgcolor='white',  # Background color of the entire plot\n",
    "    plot_bgcolor='white',   # Background color of the plotting area\n",
    "    font=dict(\n",
    "        family='Roboto, sans-serif',\n",
    "        size=18,\n",
    "        color=\"Black\"\n",
    "    ),\n",
    "    xaxis=dict(\n",
    "        tick0=0,  # Start at 0\n",
    "        dtick=100,  # Tick every 100 units\n",
    "        gridcolor='lightgray',  # Color of the grid lines\n",
    "        gridwidth=1,  # Width of the grid lines\n",
    "        showline=True,  # Show x-axis line\n",
    "        linewidth=1,  # Width of the x-axis line\n",
    "        linecolor='black'  # Color of the x-axis line\n",
    "    ),\n",
    "    yaxis=dict(\n",
    "        # Automatic tick marks on the y-axis\n",
    "        autorange= True,  # Reversed for easier reading\n",
    "        tickformat='.1e',  # Scientific notation format\n",
    "        gridcolor='lightgray',  # Color of the grid lines\n",
    "        gridwidth=1,  # Width of the grid lines\n",
    "        showline=True,  # Show y-axis line\n",
    "        linewidth=1,  # Width of the y-axis line\n",
    "        linecolor='black'  # Color of the y-axis line\n",
    "    ),\n",
    "        shapes=[\n",
    "        # Frame around the plot\n",
    "        dict(\n",
    "            type='rect',\n",
    "            xref='paper', yref='paper',\n",
    "            x0=0, y0=0, x1=1, y1=1,\n",
    "            line=dict(color='black', width=2)\n",
    "        )\n",
    "    ],\n",
    "    margin=dict(\n",
    "        l=50,  # Adjust left margin\n",
    "        r=50,  # Adjust right margin\n",
    "        b=50,  # Adjust bottom margin\n",
    "        t=80   # Adjust top margin for title\n",
    "    )\n",
    ")\n",
    "\n",
    "# Plot first order derviative\n",
    "figd2.show()"
   ]
  },
  {
   "cell_type": "markdown",
   "metadata": {},
   "source": [
    "### 8. Calculate <span style=\"font-family: 'Times New Roman';\">*T<sub>c</sub>*</span> using inverse susceptibility\n",
    "\n",
    "Above <span style=\"font-family: 'Times New Roman';\">*T<sub>c</sub>*</span> a mineral phase will be paramagnetic. This means that the inverse susceptibility should have a linear positive slope above <span style=\"font-family: 'Times New Roman';\">*T<sub>c</sub>*</span>. Using the intercept temperature at 0 inverse susceptibility is a good guess for  <span style=\"font-family: 'Times New Roman';\">*T<sub>c</sub>*</span>. This is essentially the break of slope between the ferromagnetic and paramagnetic signal."
   ]
  },
  {
   "cell_type": "code",
   "execution_count": 40,
   "metadata": {},
   "outputs": [
    {
     "data": {
      "application/vnd.plotly.v1+json": {
       "config": {
        "plotlyServerURL": "https://plot.ly"
       },
       "data": [
        {
         "line": {
          "color": "red"
         },
         "marker": {
          "color": "red"
         },
         "mode": "lines+markers",
         "name": "Heating (smoothed) - Inverse",
         "type": "scatter",
         "x": [
          47.783333333333346,
          47.783333333333346,
          51.15000000000002,
          54.35909090909093,
          60.526923076923104,
          63.485714285714316,
          66.40333333333336,
          72.06764705882355,
          77.44473684210527,
          86.09444444444446,
          91.80555555555557,
          97.38333333333335,
          99.83421052631581,
          105.20263157894739,
          110.38684210526317,
          115.42368421052633,
          117.78500000000001,
          122.69000000000001,
          125.01666666666668,
          129.8119047619048,
          134.55476190476196,
          139.3166666666667,
          143.99761904761908,
          148.76428571428576,
          153.43571428571437,
          158.09761904761908,
          162.7166666666667,
          167.37857142857152,
          172.05952380952388,
          176.75000000000006,
          181.43571428571434,
          186.18333333333337,
          190.9309523809524,
          195.6880952380953,
          200.4404761904762,
          205.23571428571432,
          210.0452380952381,
          214.8452380952381,
          219.66904761904763,
          224.48333333333332,
          229.31666666666666,
          234.14523809523806,
          238.9690476190476,
          243.78809523809525,
          248.59761904761905,
          253.46904761904764,
          258.3119047619048,
          263.1880952380953,
          268.0452380952381,
          272.9357142857143,
          277.8357142857143,
          282.74047619047616,
          287.5690476190476,
          292.3833333333333,
          297.21666666666664,
          302.01666666666665,
          306.80238095238093,
          311.60238095238094,
          316.3738095238095,
          321.16428571428577,
          325.95000000000005,
          330.73095238095243,
          335.4738095238096,
          340.22619047619054,
          344.94523809523815,
          349.6595238095239,
          354.3119047619048,
          358.95476190476194,
          363.6214285714286,
          370.53181818181827,
          375.09545454545463,
          379.6772727272728,
          384.2272727272728,
          388.8136363636364,
          393.3772727272728,
          397.90909090909093,
          402.43636363636375,
          406.95454545454555,
          411.44090909090914,
          415.8954545454546,
          418.09347826086963,
          422.4891304347827,
          426.9195652173914,
          431.30652173913046,
          435.6717391304348,
          439.98043478260877,
          444.3195652173913,
          448.6282608695652,
          455.0333333333333,
          459.3374999999999,
          461.48478260869564,
          467.8541666666666,
          470.01956521739123,
          476.36249999999995,
          480.5625,
          482.6804347826087,
          488.92083333333335,
          493.07916666666665,
          497.2041666666666,
          501.3333333333332,
          503.38599999999985,
          507.4939999999999,
          513.6666666666666,
          515.7059999999999,
          521.9083333333333,
          523.922,
          527.9859999999999,
          534.1583333333333,
          536.19,
          540.282,
          544.382,
          548.414,
          552.462,
          556.506,
          560.5580000000001,
          564.5860000000001,
          568.586,
          572.5780000000001,
          576.5500000000001,
          580.554,
          584.538,
          588.518,
          592.486,
          596.4780000000001,
          600.462,
          604.3979999999999,
          610.2923076923076,
          612.29,
          616.23,
          620.1299999999999,
          624.074,
          627.9699999999999,
          633.780769230769,
          635.7339999999999,
          641.5269230769229,
          645.3230769230769,
          649.1961538461538,
          653.0653846153847,
          656.8615384615385,
          656.8615384615385,
          660.6875000000001,
          662.6239130434783,
          664.5545454545455,
          666.5023809523811,
          668.4100000000001,
          668.4100000000001,
          672.2277777777779,
          672.2277777777779,
          674.1617647058824,
          676.0562500000001,
          677.9500000000002,
          679.8714285714287
         ],
         "y": [
          2.3755898952647283,
          2.3755898952647283,
          2.3817843041843423,
          2.3872754054011414,
          2.3968462370961405,
          2.4010780703331336,
          2.40503923059909,
          2.412242237195183,
          2.419766989938622,
          2.4295972238018355,
          2.4388144142711616,
          2.4481351018044744,
          2.4500778267221657,
          2.456559081920259,
          2.462879959347444,
          2.4690024217924975,
          2.4701433770021755,
          2.4734426463066064,
          2.4744028037670267,
          2.476205930859874,
          2.478886292576836,
          2.4813554789504666,
          2.482420238685179,
          2.4833273246666554,
          2.4839735505076934,
          2.484382021151958,
          2.4845583809283025,
          2.4856847344737707,
          2.485484680697417,
          2.482848746876089,
          2.48227352330346,
          2.479272602197181,
          2.4761125005443034,
          2.4739189159881048,
          2.471580851241398,
          2.4691107484705945,
          2.4654090489880653,
          2.4627115277169445,
          2.4588159164493413,
          2.4548493872164046,
          2.4530170433404774,
          2.4489206749463275,
          2.444781040345837,
          2.4417025210334358,
          2.4386005948815184,
          2.434394149951469,
          2.4301909425325454,
          2.427073295290462,
          2.421816749360753,
          2.417659608102213,
          2.4156683562502996,
          2.4136998014662954,
          2.410710082346068,
          2.4098829160680357,
          2.4090894808450027,
          2.408332472545612,
          2.40655785640695,
          2.405882368643434,
          2.4052458274053095,
          2.40676195587367,
          2.4072475207442547,
          2.407763648141666,
          2.4083076153794667,
          2.407810579788978,
          2.407333066669611,
          2.4068640185897925,
          2.406406183281314,
          2.4070074727151662,
          2.4054662364578125,
          2.401346517948221,
          2.3997931989118992,
          2.3971861567381,
          2.393534862150779,
          2.389824578837413,
          2.3840778450831857,
          2.378276408170435,
          2.3714418213207846,
          2.3655184991825955,
          2.3575739732234897,
          2.3495897819159897,
          2.3448865451623266,
          2.335263198224786,
          2.3264618988406016,
          2.315808426217976,
          2.305131938285524,
          2.2952884842812002,
          2.285356146275074,
          2.2744832772028767,
          2.2606198551824312,
          2.2507109714619977,
          2.245717219541579,
          2.2337930218763167,
          2.22905002859532,
          2.2211225197835387,
          2.2169370443085907,
          2.212521991386383,
          2.218223832685587,
          2.2229411378524344,
          2.231475157935444,
          2.246314527911918,
          2.269488609323195,
          2.303122735022735,
          2.358196903781793,
          2.4249672690042865,
          2.532820819854681,
          2.6286070995207993,
          2.7538694481923085,
          2.9339547710334366,
          3.0511791983783354,
          3.227899171533854,
          3.4275928214415394,
          3.6555337872580225,
          3.915287891510191,
          4.214183339731869,
          4.561599705576109,
          4.974567523535922,
          5.469219070991885,
          6.066426153091117,
          6.794934186305953,
          7.701659877140043,
          8.862148046436948,
          10.38242413406949,
          12.458361042804688,
          15.381562736010853,
          19.727422261133466,
          26.386268585827935,
          37.73892732614764,
          52.33809993855508,
          70.56854251966396,
          83.44367368450216,
          91.87585880959023,
          95.01537918927558,
          99.69233411962468,
          101.0778538018009,
          105.74169256660305,
          108.98716550371773,
          112.52371653717786,
          116.91062767067717,
          120.28071668802423,
          120.28071668802423,
          124.17514075769603,
          124.14910631535709,
          125.39556601278579,
          128.00546156636017,
          132.8345837495484,
          132.8345837495484,
          138.38638400991456,
          138.38638400991456,
          142.3412455528827,
          149.72441350139894,
          155.3700552185176,
          165.05074131361528
         ]
        }
       ],
       "layout": {
        "font": {
         "color": "Black",
         "family": "Roboto, sans-serif",
         "size": 18
        },
        "height": 556,
        "margin": {
         "b": 50,
         "l": 50,
         "r": 50,
         "t": 80
        },
        "paper_bgcolor": "white",
        "plot_bgcolor": "white",
        "shapes": [
         {
          "line": {
           "color": "black",
           "width": 2
          },
          "type": "rect",
          "x0": 0,
          "x1": 1,
          "xref": "paper",
          "y0": 0,
          "y1": 1,
          "yref": "paper"
         }
        ],
        "showlegend": true,
        "template": {
         "data": {
          "bar": [
           {
            "error_x": {
             "color": "#2a3f5f"
            },
            "error_y": {
             "color": "#2a3f5f"
            },
            "marker": {
             "line": {
              "color": "#E5ECF6",
              "width": 0.5
             },
             "pattern": {
              "fillmode": "overlay",
              "size": 10,
              "solidity": 0.2
             }
            },
            "type": "bar"
           }
          ],
          "barpolar": [
           {
            "marker": {
             "line": {
              "color": "#E5ECF6",
              "width": 0.5
             },
             "pattern": {
              "fillmode": "overlay",
              "size": 10,
              "solidity": 0.2
             }
            },
            "type": "barpolar"
           }
          ],
          "carpet": [
           {
            "aaxis": {
             "endlinecolor": "#2a3f5f",
             "gridcolor": "white",
             "linecolor": "white",
             "minorgridcolor": "white",
             "startlinecolor": "#2a3f5f"
            },
            "baxis": {
             "endlinecolor": "#2a3f5f",
             "gridcolor": "white",
             "linecolor": "white",
             "minorgridcolor": "white",
             "startlinecolor": "#2a3f5f"
            },
            "type": "carpet"
           }
          ],
          "choropleth": [
           {
            "colorbar": {
             "outlinewidth": 0,
             "ticks": ""
            },
            "type": "choropleth"
           }
          ],
          "contour": [
           {
            "colorbar": {
             "outlinewidth": 0,
             "ticks": ""
            },
            "colorscale": [
             [
              0,
              "#0d0887"
             ],
             [
              0.1111111111111111,
              "#46039f"
             ],
             [
              0.2222222222222222,
              "#7201a8"
             ],
             [
              0.3333333333333333,
              "#9c179e"
             ],
             [
              0.4444444444444444,
              "#bd3786"
             ],
             [
              0.5555555555555556,
              "#d8576b"
             ],
             [
              0.6666666666666666,
              "#ed7953"
             ],
             [
              0.7777777777777778,
              "#fb9f3a"
             ],
             [
              0.8888888888888888,
              "#fdca26"
             ],
             [
              1,
              "#f0f921"
             ]
            ],
            "type": "contour"
           }
          ],
          "contourcarpet": [
           {
            "colorbar": {
             "outlinewidth": 0,
             "ticks": ""
            },
            "type": "contourcarpet"
           }
          ],
          "heatmap": [
           {
            "colorbar": {
             "outlinewidth": 0,
             "ticks": ""
            },
            "colorscale": [
             [
              0,
              "#0d0887"
             ],
             [
              0.1111111111111111,
              "#46039f"
             ],
             [
              0.2222222222222222,
              "#7201a8"
             ],
             [
              0.3333333333333333,
              "#9c179e"
             ],
             [
              0.4444444444444444,
              "#bd3786"
             ],
             [
              0.5555555555555556,
              "#d8576b"
             ],
             [
              0.6666666666666666,
              "#ed7953"
             ],
             [
              0.7777777777777778,
              "#fb9f3a"
             ],
             [
              0.8888888888888888,
              "#fdca26"
             ],
             [
              1,
              "#f0f921"
             ]
            ],
            "type": "heatmap"
           }
          ],
          "heatmapgl": [
           {
            "colorbar": {
             "outlinewidth": 0,
             "ticks": ""
            },
            "colorscale": [
             [
              0,
              "#0d0887"
             ],
             [
              0.1111111111111111,
              "#46039f"
             ],
             [
              0.2222222222222222,
              "#7201a8"
             ],
             [
              0.3333333333333333,
              "#9c179e"
             ],
             [
              0.4444444444444444,
              "#bd3786"
             ],
             [
              0.5555555555555556,
              "#d8576b"
             ],
             [
              0.6666666666666666,
              "#ed7953"
             ],
             [
              0.7777777777777778,
              "#fb9f3a"
             ],
             [
              0.8888888888888888,
              "#fdca26"
             ],
             [
              1,
              "#f0f921"
             ]
            ],
            "type": "heatmapgl"
           }
          ],
          "histogram": [
           {
            "marker": {
             "pattern": {
              "fillmode": "overlay",
              "size": 10,
              "solidity": 0.2
             }
            },
            "type": "histogram"
           }
          ],
          "histogram2d": [
           {
            "colorbar": {
             "outlinewidth": 0,
             "ticks": ""
            },
            "colorscale": [
             [
              0,
              "#0d0887"
             ],
             [
              0.1111111111111111,
              "#46039f"
             ],
             [
              0.2222222222222222,
              "#7201a8"
             ],
             [
              0.3333333333333333,
              "#9c179e"
             ],
             [
              0.4444444444444444,
              "#bd3786"
             ],
             [
              0.5555555555555556,
              "#d8576b"
             ],
             [
              0.6666666666666666,
              "#ed7953"
             ],
             [
              0.7777777777777778,
              "#fb9f3a"
             ],
             [
              0.8888888888888888,
              "#fdca26"
             ],
             [
              1,
              "#f0f921"
             ]
            ],
            "type": "histogram2d"
           }
          ],
          "histogram2dcontour": [
           {
            "colorbar": {
             "outlinewidth": 0,
             "ticks": ""
            },
            "colorscale": [
             [
              0,
              "#0d0887"
             ],
             [
              0.1111111111111111,
              "#46039f"
             ],
             [
              0.2222222222222222,
              "#7201a8"
             ],
             [
              0.3333333333333333,
              "#9c179e"
             ],
             [
              0.4444444444444444,
              "#bd3786"
             ],
             [
              0.5555555555555556,
              "#d8576b"
             ],
             [
              0.6666666666666666,
              "#ed7953"
             ],
             [
              0.7777777777777778,
              "#fb9f3a"
             ],
             [
              0.8888888888888888,
              "#fdca26"
             ],
             [
              1,
              "#f0f921"
             ]
            ],
            "type": "histogram2dcontour"
           }
          ],
          "mesh3d": [
           {
            "colorbar": {
             "outlinewidth": 0,
             "ticks": ""
            },
            "type": "mesh3d"
           }
          ],
          "parcoords": [
           {
            "line": {
             "colorbar": {
              "outlinewidth": 0,
              "ticks": ""
             }
            },
            "type": "parcoords"
           }
          ],
          "pie": [
           {
            "automargin": true,
            "type": "pie"
           }
          ],
          "scatter": [
           {
            "fillpattern": {
             "fillmode": "overlay",
             "size": 10,
             "solidity": 0.2
            },
            "type": "scatter"
           }
          ],
          "scatter3d": [
           {
            "line": {
             "colorbar": {
              "outlinewidth": 0,
              "ticks": ""
             }
            },
            "marker": {
             "colorbar": {
              "outlinewidth": 0,
              "ticks": ""
             }
            },
            "type": "scatter3d"
           }
          ],
          "scattercarpet": [
           {
            "marker": {
             "colorbar": {
              "outlinewidth": 0,
              "ticks": ""
             }
            },
            "type": "scattercarpet"
           }
          ],
          "scattergeo": [
           {
            "marker": {
             "colorbar": {
              "outlinewidth": 0,
              "ticks": ""
             }
            },
            "type": "scattergeo"
           }
          ],
          "scattergl": [
           {
            "marker": {
             "colorbar": {
              "outlinewidth": 0,
              "ticks": ""
             }
            },
            "type": "scattergl"
           }
          ],
          "scattermapbox": [
           {
            "marker": {
             "colorbar": {
              "outlinewidth": 0,
              "ticks": ""
             }
            },
            "type": "scattermapbox"
           }
          ],
          "scatterpolar": [
           {
            "marker": {
             "colorbar": {
              "outlinewidth": 0,
              "ticks": ""
             }
            },
            "type": "scatterpolar"
           }
          ],
          "scatterpolargl": [
           {
            "marker": {
             "colorbar": {
              "outlinewidth": 0,
              "ticks": ""
             }
            },
            "type": "scatterpolargl"
           }
          ],
          "scatterternary": [
           {
            "marker": {
             "colorbar": {
              "outlinewidth": 0,
              "ticks": ""
             }
            },
            "type": "scatterternary"
           }
          ],
          "surface": [
           {
            "colorbar": {
             "outlinewidth": 0,
             "ticks": ""
            },
            "colorscale": [
             [
              0,
              "#0d0887"
             ],
             [
              0.1111111111111111,
              "#46039f"
             ],
             [
              0.2222222222222222,
              "#7201a8"
             ],
             [
              0.3333333333333333,
              "#9c179e"
             ],
             [
              0.4444444444444444,
              "#bd3786"
             ],
             [
              0.5555555555555556,
              "#d8576b"
             ],
             [
              0.6666666666666666,
              "#ed7953"
             ],
             [
              0.7777777777777778,
              "#fb9f3a"
             ],
             [
              0.8888888888888888,
              "#fdca26"
             ],
             [
              1,
              "#f0f921"
             ]
            ],
            "type": "surface"
           }
          ],
          "table": [
           {
            "cells": {
             "fill": {
              "color": "#EBF0F8"
             },
             "line": {
              "color": "white"
             }
            },
            "header": {
             "fill": {
              "color": "#C8D4E3"
             },
             "line": {
              "color": "white"
             }
            },
            "type": "table"
           }
          ]
         },
         "layout": {
          "annotationdefaults": {
           "arrowcolor": "#2a3f5f",
           "arrowhead": 0,
           "arrowwidth": 1
          },
          "autotypenumbers": "strict",
          "coloraxis": {
           "colorbar": {
            "outlinewidth": 0,
            "ticks": ""
           }
          },
          "colorscale": {
           "diverging": [
            [
             0,
             "#8e0152"
            ],
            [
             0.1,
             "#c51b7d"
            ],
            [
             0.2,
             "#de77ae"
            ],
            [
             0.3,
             "#f1b6da"
            ],
            [
             0.4,
             "#fde0ef"
            ],
            [
             0.5,
             "#f7f7f7"
            ],
            [
             0.6,
             "#e6f5d0"
            ],
            [
             0.7,
             "#b8e186"
            ],
            [
             0.8,
             "#7fbc41"
            ],
            [
             0.9,
             "#4d9221"
            ],
            [
             1,
             "#276419"
            ]
           ],
           "sequential": [
            [
             0,
             "#0d0887"
            ],
            [
             0.1111111111111111,
             "#46039f"
            ],
            [
             0.2222222222222222,
             "#7201a8"
            ],
            [
             0.3333333333333333,
             "#9c179e"
            ],
            [
             0.4444444444444444,
             "#bd3786"
            ],
            [
             0.5555555555555556,
             "#d8576b"
            ],
            [
             0.6666666666666666,
             "#ed7953"
            ],
            [
             0.7777777777777778,
             "#fb9f3a"
            ],
            [
             0.8888888888888888,
             "#fdca26"
            ],
            [
             1,
             "#f0f921"
            ]
           ],
           "sequentialminus": [
            [
             0,
             "#0d0887"
            ],
            [
             0.1111111111111111,
             "#46039f"
            ],
            [
             0.2222222222222222,
             "#7201a8"
            ],
            [
             0.3333333333333333,
             "#9c179e"
            ],
            [
             0.4444444444444444,
             "#bd3786"
            ],
            [
             0.5555555555555556,
             "#d8576b"
            ],
            [
             0.6666666666666666,
             "#ed7953"
            ],
            [
             0.7777777777777778,
             "#fb9f3a"
            ],
            [
             0.8888888888888888,
             "#fdca26"
            ],
            [
             1,
             "#f0f921"
            ]
           ]
          },
          "colorway": [
           "#636efa",
           "#EF553B",
           "#00cc96",
           "#ab63fa",
           "#FFA15A",
           "#19d3f3",
           "#FF6692",
           "#B6E880",
           "#FF97FF",
           "#FECB52"
          ],
          "font": {
           "color": "#2a3f5f"
          },
          "geo": {
           "bgcolor": "white",
           "lakecolor": "white",
           "landcolor": "#E5ECF6",
           "showlakes": true,
           "showland": true,
           "subunitcolor": "white"
          },
          "hoverlabel": {
           "align": "left"
          },
          "hovermode": "closest",
          "mapbox": {
           "style": "light"
          },
          "paper_bgcolor": "white",
          "plot_bgcolor": "#E5ECF6",
          "polar": {
           "angularaxis": {
            "gridcolor": "white",
            "linecolor": "white",
            "ticks": ""
           },
           "bgcolor": "#E5ECF6",
           "radialaxis": {
            "gridcolor": "white",
            "linecolor": "white",
            "ticks": ""
           }
          },
          "scene": {
           "xaxis": {
            "backgroundcolor": "#E5ECF6",
            "gridcolor": "white",
            "gridwidth": 2,
            "linecolor": "white",
            "showbackground": true,
            "ticks": "",
            "zerolinecolor": "white"
           },
           "yaxis": {
            "backgroundcolor": "#E5ECF6",
            "gridcolor": "white",
            "gridwidth": 2,
            "linecolor": "white",
            "showbackground": true,
            "ticks": "",
            "zerolinecolor": "white"
           },
           "zaxis": {
            "backgroundcolor": "#E5ECF6",
            "gridcolor": "white",
            "gridwidth": 2,
            "linecolor": "white",
            "showbackground": true,
            "ticks": "",
            "zerolinecolor": "white"
           }
          },
          "shapedefaults": {
           "line": {
            "color": "#2a3f5f"
           }
          },
          "ternary": {
           "aaxis": {
            "gridcolor": "white",
            "linecolor": "white",
            "ticks": ""
           },
           "baxis": {
            "gridcolor": "white",
            "linecolor": "white",
            "ticks": ""
           },
           "bgcolor": "#E5ECF6",
           "caxis": {
            "gridcolor": "white",
            "linecolor": "white",
            "ticks": ""
           }
          },
          "title": {
           "x": 0.05
          },
          "xaxis": {
           "automargin": true,
           "gridcolor": "white",
           "linecolor": "white",
           "ticks": "",
           "title": {
            "standoff": 15
           },
           "zerolinecolor": "white",
           "zerolinewidth": 2
          },
          "yaxis": {
           "automargin": true,
           "gridcolor": "white",
           "linecolor": "white",
           "ticks": "",
           "title": {
            "standoff": 15
           },
           "zerolinecolor": "white",
           "zerolinewidth": 2
          }
         }
        },
        "title": {
         "text": "360-U1473A-84R-1-W-143-r4",
         "x": 0.5,
         "xanchor": "center"
        },
        "width": 900,
        "xaxis": {
         "dtick": 100,
         "gridcolor": "lightgray",
         "gridwidth": 1,
         "linecolor": "black",
         "linewidth": 1,
         "showline": true,
         "tick0": 0,
         "title": {
          "text": "Temperature (&deg;C)"
         }
        },
        "yaxis": {
         "autorange": true,
         "gridcolor": "lightgray",
         "gridwidth": 1,
         "linecolor": "black",
         "linewidth": 1,
         "showline": true,
         "tickformat": ".1e",
         "title": {
          "text": "Inverse <i>k</i> (m<sup>-3</sup> kg<sup>1</sup>)"
         }
        }
       }
      },
      "text/html": [
       "<div>                            <div id=\"98932381-fa38-4e5f-b11d-d717550f823b\" class=\"plotly-graph-div\" style=\"height:556px; width:900px;\"></div>            <script type=\"text/javascript\">                require([\"plotly\"], function(Plotly) {                    window.PLOTLYENV=window.PLOTLYENV || {};                                    if (document.getElementById(\"98932381-fa38-4e5f-b11d-d717550f823b\")) {                    Plotly.newPlot(                        \"98932381-fa38-4e5f-b11d-d717550f823b\",                        [{\"line\":{\"color\":\"red\"},\"marker\":{\"color\":\"red\"},\"mode\":\"lines+markers\",\"name\":\"Heating (smoothed) - Inverse\",\"x\":[47.783333333333346,47.783333333333346,51.15000000000002,54.35909090909093,60.526923076923104,63.485714285714316,66.40333333333336,72.06764705882355,77.44473684210527,86.09444444444446,91.80555555555557,97.38333333333335,99.83421052631581,105.20263157894739,110.38684210526317,115.42368421052633,117.78500000000001,122.69000000000001,125.01666666666668,129.8119047619048,134.55476190476196,139.3166666666667,143.99761904761908,148.76428571428576,153.43571428571437,158.09761904761908,162.7166666666667,167.37857142857152,172.05952380952388,176.75000000000006,181.43571428571434,186.18333333333337,190.9309523809524,195.6880952380953,200.4404761904762,205.23571428571432,210.0452380952381,214.8452380952381,219.66904761904763,224.48333333333332,229.31666666666666,234.14523809523806,238.9690476190476,243.78809523809525,248.59761904761905,253.46904761904764,258.3119047619048,263.1880952380953,268.0452380952381,272.9357142857143,277.8357142857143,282.74047619047616,287.5690476190476,292.3833333333333,297.21666666666664,302.01666666666665,306.80238095238093,311.60238095238094,316.3738095238095,321.16428571428577,325.95000000000005,330.73095238095243,335.4738095238096,340.22619047619054,344.94523809523815,349.6595238095239,354.3119047619048,358.95476190476194,363.6214285714286,370.53181818181827,375.09545454545463,379.6772727272728,384.2272727272728,388.8136363636364,393.3772727272728,397.90909090909093,402.43636363636375,406.95454545454555,411.44090909090914,415.8954545454546,418.09347826086963,422.4891304347827,426.9195652173914,431.30652173913046,435.6717391304348,439.98043478260877,444.3195652173913,448.6282608695652,455.0333333333333,459.3374999999999,461.48478260869564,467.8541666666666,470.01956521739123,476.36249999999995,480.5625,482.6804347826087,488.92083333333335,493.07916666666665,497.2041666666666,501.3333333333332,503.38599999999985,507.4939999999999,513.6666666666666,515.7059999999999,521.9083333333333,523.922,527.9859999999999,534.1583333333333,536.19,540.282,544.382,548.414,552.462,556.506,560.5580000000001,564.5860000000001,568.586,572.5780000000001,576.5500000000001,580.554,584.538,588.518,592.486,596.4780000000001,600.462,604.3979999999999,610.2923076923076,612.29,616.23,620.1299999999999,624.074,627.9699999999999,633.780769230769,635.7339999999999,641.5269230769229,645.3230769230769,649.1961538461538,653.0653846153847,656.8615384615385,656.8615384615385,660.6875000000001,662.6239130434783,664.5545454545455,666.5023809523811,668.4100000000001,668.4100000000001,672.2277777777779,672.2277777777779,674.1617647058824,676.0562500000001,677.9500000000002,679.8714285714287],\"y\":[2.3755898952647283,2.3755898952647283,2.3817843041843423,2.3872754054011414,2.3968462370961405,2.4010780703331336,2.40503923059909,2.412242237195183,2.419766989938622,2.4295972238018355,2.4388144142711616,2.4481351018044744,2.4500778267221657,2.456559081920259,2.462879959347444,2.4690024217924975,2.4701433770021755,2.4734426463066064,2.4744028037670267,2.476205930859874,2.478886292576836,2.4813554789504666,2.482420238685179,2.4833273246666554,2.4839735505076934,2.484382021151958,2.4845583809283025,2.4856847344737707,2.485484680697417,2.482848746876089,2.48227352330346,2.479272602197181,2.4761125005443034,2.4739189159881048,2.471580851241398,2.4691107484705945,2.4654090489880653,2.4627115277169445,2.4588159164493413,2.4548493872164046,2.4530170433404774,2.4489206749463275,2.444781040345837,2.4417025210334358,2.4386005948815184,2.434394149951469,2.4301909425325454,2.427073295290462,2.421816749360753,2.417659608102213,2.4156683562502996,2.4136998014662954,2.410710082346068,2.4098829160680357,2.4090894808450027,2.408332472545612,2.40655785640695,2.405882368643434,2.4052458274053095,2.40676195587367,2.4072475207442547,2.407763648141666,2.4083076153794667,2.407810579788978,2.407333066669611,2.4068640185897925,2.406406183281314,2.4070074727151662,2.4054662364578125,2.401346517948221,2.3997931989118992,2.3971861567381,2.393534862150779,2.389824578837413,2.3840778450831857,2.378276408170435,2.3714418213207846,2.3655184991825955,2.3575739732234897,2.3495897819159897,2.3448865451623266,2.335263198224786,2.3264618988406016,2.315808426217976,2.305131938285524,2.2952884842812002,2.285356146275074,2.2744832772028767,2.2606198551824312,2.2507109714619977,2.245717219541579,2.2337930218763167,2.22905002859532,2.2211225197835387,2.2169370443085907,2.212521991386383,2.218223832685587,2.2229411378524344,2.231475157935444,2.246314527911918,2.269488609323195,2.303122735022735,2.358196903781793,2.4249672690042865,2.532820819854681,2.6286070995207993,2.7538694481923085,2.9339547710334366,3.0511791983783354,3.227899171533854,3.4275928214415394,3.6555337872580225,3.915287891510191,4.214183339731869,4.561599705576109,4.974567523535922,5.469219070991885,6.066426153091117,6.794934186305953,7.701659877140043,8.862148046436948,10.38242413406949,12.458361042804688,15.381562736010853,19.727422261133466,26.386268585827935,37.73892732614764,52.33809993855508,70.56854251966396,83.44367368450216,91.87585880959023,95.01537918927558,99.69233411962468,101.0778538018009,105.74169256660305,108.98716550371773,112.52371653717786,116.91062767067717,120.28071668802423,120.28071668802423,124.17514075769603,124.14910631535709,125.39556601278579,128.00546156636017,132.8345837495484,132.8345837495484,138.38638400991456,138.38638400991456,142.3412455528827,149.72441350139894,155.3700552185176,165.05074131361528],\"type\":\"scatter\"}],                        {\"template\":{\"data\":{\"histogram2dcontour\":[{\"type\":\"histogram2dcontour\",\"colorbar\":{\"outlinewidth\":0,\"ticks\":\"\"},\"colorscale\":[[0.0,\"#0d0887\"],[0.1111111111111111,\"#46039f\"],[0.2222222222222222,\"#7201a8\"],[0.3333333333333333,\"#9c179e\"],[0.4444444444444444,\"#bd3786\"],[0.5555555555555556,\"#d8576b\"],[0.6666666666666666,\"#ed7953\"],[0.7777777777777778,\"#fb9f3a\"],[0.8888888888888888,\"#fdca26\"],[1.0,\"#f0f921\"]]}],\"choropleth\":[{\"type\":\"choropleth\",\"colorbar\":{\"outlinewidth\":0,\"ticks\":\"\"}}],\"histogram2d\":[{\"type\":\"histogram2d\",\"colorbar\":{\"outlinewidth\":0,\"ticks\":\"\"},\"colorscale\":[[0.0,\"#0d0887\"],[0.1111111111111111,\"#46039f\"],[0.2222222222222222,\"#7201a8\"],[0.3333333333333333,\"#9c179e\"],[0.4444444444444444,\"#bd3786\"],[0.5555555555555556,\"#d8576b\"],[0.6666666666666666,\"#ed7953\"],[0.7777777777777778,\"#fb9f3a\"],[0.8888888888888888,\"#fdca26\"],[1.0,\"#f0f921\"]]}],\"heatmap\":[{\"type\":\"heatmap\",\"colorbar\":{\"outlinewidth\":0,\"ticks\":\"\"},\"colorscale\":[[0.0,\"#0d0887\"],[0.1111111111111111,\"#46039f\"],[0.2222222222222222,\"#7201a8\"],[0.3333333333333333,\"#9c179e\"],[0.4444444444444444,\"#bd3786\"],[0.5555555555555556,\"#d8576b\"],[0.6666666666666666,\"#ed7953\"],[0.7777777777777778,\"#fb9f3a\"],[0.8888888888888888,\"#fdca26\"],[1.0,\"#f0f921\"]]}],\"heatmapgl\":[{\"type\":\"heatmapgl\",\"colorbar\":{\"outlinewidth\":0,\"ticks\":\"\"},\"colorscale\":[[0.0,\"#0d0887\"],[0.1111111111111111,\"#46039f\"],[0.2222222222222222,\"#7201a8\"],[0.3333333333333333,\"#9c179e\"],[0.4444444444444444,\"#bd3786\"],[0.5555555555555556,\"#d8576b\"],[0.6666666666666666,\"#ed7953\"],[0.7777777777777778,\"#fb9f3a\"],[0.8888888888888888,\"#fdca26\"],[1.0,\"#f0f921\"]]}],\"contourcarpet\":[{\"type\":\"contourcarpet\",\"colorbar\":{\"outlinewidth\":0,\"ticks\":\"\"}}],\"contour\":[{\"type\":\"contour\",\"colorbar\":{\"outlinewidth\":0,\"ticks\":\"\"},\"colorscale\":[[0.0,\"#0d0887\"],[0.1111111111111111,\"#46039f\"],[0.2222222222222222,\"#7201a8\"],[0.3333333333333333,\"#9c179e\"],[0.4444444444444444,\"#bd3786\"],[0.5555555555555556,\"#d8576b\"],[0.6666666666666666,\"#ed7953\"],[0.7777777777777778,\"#fb9f3a\"],[0.8888888888888888,\"#fdca26\"],[1.0,\"#f0f921\"]]}],\"surface\":[{\"type\":\"surface\",\"colorbar\":{\"outlinewidth\":0,\"ticks\":\"\"},\"colorscale\":[[0.0,\"#0d0887\"],[0.1111111111111111,\"#46039f\"],[0.2222222222222222,\"#7201a8\"],[0.3333333333333333,\"#9c179e\"],[0.4444444444444444,\"#bd3786\"],[0.5555555555555556,\"#d8576b\"],[0.6666666666666666,\"#ed7953\"],[0.7777777777777778,\"#fb9f3a\"],[0.8888888888888888,\"#fdca26\"],[1.0,\"#f0f921\"]]}],\"mesh3d\":[{\"type\":\"mesh3d\",\"colorbar\":{\"outlinewidth\":0,\"ticks\":\"\"}}],\"scatter\":[{\"fillpattern\":{\"fillmode\":\"overlay\",\"size\":10,\"solidity\":0.2},\"type\":\"scatter\"}],\"parcoords\":[{\"type\":\"parcoords\",\"line\":{\"colorbar\":{\"outlinewidth\":0,\"ticks\":\"\"}}}],\"scatterpolargl\":[{\"type\":\"scatterpolargl\",\"marker\":{\"colorbar\":{\"outlinewidth\":0,\"ticks\":\"\"}}}],\"bar\":[{\"error_x\":{\"color\":\"#2a3f5f\"},\"error_y\":{\"color\":\"#2a3f5f\"},\"marker\":{\"line\":{\"color\":\"#E5ECF6\",\"width\":0.5},\"pattern\":{\"fillmode\":\"overlay\",\"size\":10,\"solidity\":0.2}},\"type\":\"bar\"}],\"scattergeo\":[{\"type\":\"scattergeo\",\"marker\":{\"colorbar\":{\"outlinewidth\":0,\"ticks\":\"\"}}}],\"scatterpolar\":[{\"type\":\"scatterpolar\",\"marker\":{\"colorbar\":{\"outlinewidth\":0,\"ticks\":\"\"}}}],\"histogram\":[{\"marker\":{\"pattern\":{\"fillmode\":\"overlay\",\"size\":10,\"solidity\":0.2}},\"type\":\"histogram\"}],\"scattergl\":[{\"type\":\"scattergl\",\"marker\":{\"colorbar\":{\"outlinewidth\":0,\"ticks\":\"\"}}}],\"scatter3d\":[{\"type\":\"scatter3d\",\"line\":{\"colorbar\":{\"outlinewidth\":0,\"ticks\":\"\"}},\"marker\":{\"colorbar\":{\"outlinewidth\":0,\"ticks\":\"\"}}}],\"scattermapbox\":[{\"type\":\"scattermapbox\",\"marker\":{\"colorbar\":{\"outlinewidth\":0,\"ticks\":\"\"}}}],\"scatterternary\":[{\"type\":\"scatterternary\",\"marker\":{\"colorbar\":{\"outlinewidth\":0,\"ticks\":\"\"}}}],\"scattercarpet\":[{\"type\":\"scattercarpet\",\"marker\":{\"colorbar\":{\"outlinewidth\":0,\"ticks\":\"\"}}}],\"carpet\":[{\"aaxis\":{\"endlinecolor\":\"#2a3f5f\",\"gridcolor\":\"white\",\"linecolor\":\"white\",\"minorgridcolor\":\"white\",\"startlinecolor\":\"#2a3f5f\"},\"baxis\":{\"endlinecolor\":\"#2a3f5f\",\"gridcolor\":\"white\",\"linecolor\":\"white\",\"minorgridcolor\":\"white\",\"startlinecolor\":\"#2a3f5f\"},\"type\":\"carpet\"}],\"table\":[{\"cells\":{\"fill\":{\"color\":\"#EBF0F8\"},\"line\":{\"color\":\"white\"}},\"header\":{\"fill\":{\"color\":\"#C8D4E3\"},\"line\":{\"color\":\"white\"}},\"type\":\"table\"}],\"barpolar\":[{\"marker\":{\"line\":{\"color\":\"#E5ECF6\",\"width\":0.5},\"pattern\":{\"fillmode\":\"overlay\",\"size\":10,\"solidity\":0.2}},\"type\":\"barpolar\"}],\"pie\":[{\"automargin\":true,\"type\":\"pie\"}]},\"layout\":{\"autotypenumbers\":\"strict\",\"colorway\":[\"#636efa\",\"#EF553B\",\"#00cc96\",\"#ab63fa\",\"#FFA15A\",\"#19d3f3\",\"#FF6692\",\"#B6E880\",\"#FF97FF\",\"#FECB52\"],\"font\":{\"color\":\"#2a3f5f\"},\"hovermode\":\"closest\",\"hoverlabel\":{\"align\":\"left\"},\"paper_bgcolor\":\"white\",\"plot_bgcolor\":\"#E5ECF6\",\"polar\":{\"bgcolor\":\"#E5ECF6\",\"angularaxis\":{\"gridcolor\":\"white\",\"linecolor\":\"white\",\"ticks\":\"\"},\"radialaxis\":{\"gridcolor\":\"white\",\"linecolor\":\"white\",\"ticks\":\"\"}},\"ternary\":{\"bgcolor\":\"#E5ECF6\",\"aaxis\":{\"gridcolor\":\"white\",\"linecolor\":\"white\",\"ticks\":\"\"},\"baxis\":{\"gridcolor\":\"white\",\"linecolor\":\"white\",\"ticks\":\"\"},\"caxis\":{\"gridcolor\":\"white\",\"linecolor\":\"white\",\"ticks\":\"\"}},\"coloraxis\":{\"colorbar\":{\"outlinewidth\":0,\"ticks\":\"\"}},\"colorscale\":{\"sequential\":[[0.0,\"#0d0887\"],[0.1111111111111111,\"#46039f\"],[0.2222222222222222,\"#7201a8\"],[0.3333333333333333,\"#9c179e\"],[0.4444444444444444,\"#bd3786\"],[0.5555555555555556,\"#d8576b\"],[0.6666666666666666,\"#ed7953\"],[0.7777777777777778,\"#fb9f3a\"],[0.8888888888888888,\"#fdca26\"],[1.0,\"#f0f921\"]],\"sequentialminus\":[[0.0,\"#0d0887\"],[0.1111111111111111,\"#46039f\"],[0.2222222222222222,\"#7201a8\"],[0.3333333333333333,\"#9c179e\"],[0.4444444444444444,\"#bd3786\"],[0.5555555555555556,\"#d8576b\"],[0.6666666666666666,\"#ed7953\"],[0.7777777777777778,\"#fb9f3a\"],[0.8888888888888888,\"#fdca26\"],[1.0,\"#f0f921\"]],\"diverging\":[[0,\"#8e0152\"],[0.1,\"#c51b7d\"],[0.2,\"#de77ae\"],[0.3,\"#f1b6da\"],[0.4,\"#fde0ef\"],[0.5,\"#f7f7f7\"],[0.6,\"#e6f5d0\"],[0.7,\"#b8e186\"],[0.8,\"#7fbc41\"],[0.9,\"#4d9221\"],[1,\"#276419\"]]},\"xaxis\":{\"gridcolor\":\"white\",\"linecolor\":\"white\",\"ticks\":\"\",\"title\":{\"standoff\":15},\"zerolinecolor\":\"white\",\"automargin\":true,\"zerolinewidth\":2},\"yaxis\":{\"gridcolor\":\"white\",\"linecolor\":\"white\",\"ticks\":\"\",\"title\":{\"standoff\":15},\"zerolinecolor\":\"white\",\"automargin\":true,\"zerolinewidth\":2},\"scene\":{\"xaxis\":{\"backgroundcolor\":\"#E5ECF6\",\"gridcolor\":\"white\",\"linecolor\":\"white\",\"showbackground\":true,\"ticks\":\"\",\"zerolinecolor\":\"white\",\"gridwidth\":2},\"yaxis\":{\"backgroundcolor\":\"#E5ECF6\",\"gridcolor\":\"white\",\"linecolor\":\"white\",\"showbackground\":true,\"ticks\":\"\",\"zerolinecolor\":\"white\",\"gridwidth\":2},\"zaxis\":{\"backgroundcolor\":\"#E5ECF6\",\"gridcolor\":\"white\",\"linecolor\":\"white\",\"showbackground\":true,\"ticks\":\"\",\"zerolinecolor\":\"white\",\"gridwidth\":2}},\"shapedefaults\":{\"line\":{\"color\":\"#2a3f5f\"}},\"annotationdefaults\":{\"arrowcolor\":\"#2a3f5f\",\"arrowhead\":0,\"arrowwidth\":1},\"geo\":{\"bgcolor\":\"white\",\"landcolor\":\"#E5ECF6\",\"subunitcolor\":\"white\",\"showland\":true,\"showlakes\":true,\"lakecolor\":\"white\"},\"title\":{\"x\":0.05},\"mapbox\":{\"style\":\"light\"}}},\"title\":{\"text\":\"360-U1473A-84R-1-W-143-r4\",\"x\":0.5,\"xanchor\":\"center\"},\"font\":{\"family\":\"Roboto, sans-serif\",\"size\":18,\"color\":\"Black\"},\"xaxis\":{\"title\":{\"text\":\"Temperature (&deg;C)\"},\"tick0\":0,\"dtick\":100,\"gridcolor\":\"lightgray\",\"gridwidth\":1,\"showline\":true,\"linewidth\":1,\"linecolor\":\"black\"},\"yaxis\":{\"title\":{\"text\":\"Inverse <i>k</i> (m<sup>-3</sup> kg<sup>1</sup>)\"},\"autorange\":true,\"tickformat\":\".1e\",\"gridcolor\":\"lightgray\",\"gridwidth\":1,\"showline\":true,\"linewidth\":1,\"linecolor\":\"black\"},\"margin\":{\"l\":50,\"r\":50,\"b\":50,\"t\":80},\"width\":900,\"height\":556,\"showlegend\":true,\"paper_bgcolor\":\"white\",\"plot_bgcolor\":\"white\",\"shapes\":[{\"line\":{\"color\":\"black\",\"width\":2},\"type\":\"rect\",\"x0\":0,\"x1\":1,\"xref\":\"paper\",\"y0\":0,\"y1\":1,\"yref\":\"paper\"}]},                        {\"responsive\": true}                    ).then(function(){\n",
       "                            \n",
       "var gd = document.getElementById('98932381-fa38-4e5f-b11d-d717550f823b');\n",
       "var x = new MutationObserver(function (mutations, observer) {{\n",
       "        var display = window.getComputedStyle(gd).display;\n",
       "        if (!display || display === 'none') {{\n",
       "            console.log([gd, 'removed!']);\n",
       "            Plotly.purge(gd);\n",
       "            observer.disconnect();\n",
       "        }}\n",
       "}});\n",
       "\n",
       "// Listen for the removal of the full notebook cells\n",
       "var notebookContainer = gd.closest('#notebook-container');\n",
       "if (notebookContainer) {{\n",
       "    x.observe(notebookContainer, {childList: true});\n",
       "}}\n",
       "\n",
       "// Listen for the clearing of the current output cell\n",
       "var outputEl = gd.closest('.output');\n",
       "if (outputEl) {{\n",
       "    x.observe(outputEl, {childList: true});\n",
       "}}\n",
       "\n",
       "                        })                };                });            </script>        </div>"
      ]
     },
     "metadata": {},
     "output_type": "display_data"
    }
   ],
   "source": [
    "df_hsmoothed['inverse_susc'] = 1/df_hsmoothed['susc']\n",
    "\n",
    "# Create a plot for the 'heat' dataset with red points and a line\n",
    "fig_iheat = go.Figure()\n",
    "\n",
    "# Add heat data as a scatter plot with red points and lines\n",
    "fig_iheat.add_trace(go.Scatter(\n",
    "    x=df_hsmoothed['temp'],\n",
    "    y=df_hsmoothed['inverse_susc'],\n",
    "    mode='lines+markers',\n",
    "    marker=dict(color='red'),\n",
    "    line=dict(color='red'),\n",
    "    name='Heating (smoothed) - Inverse'\n",
    "))\n",
    "\n",
    "fig_iheat.update_layout(\n",
    "        title={\n",
    "        'text': f\"{selected_specimen}\",\n",
    "        'x': 0.5,  # Center the title\n",
    "        'xanchor': 'center'\n",
    "    },\n",
    "    width=width,\n",
    "    height=height,\n",
    "    xaxis_title='Temperature (&deg;C)',\n",
    "    yaxis_title='Inverse <i>k</i> (m<sup>-3</sup> kg<sup>1</sup>)',\n",
    "    showlegend=True,\n",
    "    paper_bgcolor='white',  # Background color of the entire plot\n",
    "    plot_bgcolor='white',   # Background color of the plotting area\n",
    "    font=dict(\n",
    "        family='Roboto, sans-serif',\n",
    "        size=18,\n",
    "        color=\"Black\"\n",
    "    ),\n",
    "    xaxis=dict(\n",
    "        tick0=0,  # Start at 0\n",
    "        dtick=100,  # Tick every 100 units\n",
    "        gridcolor='lightgray',  # Color of the grid lines\n",
    "        gridwidth=1,  # Width of the grid lines\n",
    "        showline=True,  # Show x-axis line\n",
    "        linewidth=1,  # Width of the x-axis line\n",
    "        linecolor='black'  # Color of the x-axis line\n",
    "    ),\n",
    "    yaxis=dict(\n",
    "        # Automatic tick marks on the y-axis\n",
    "        autorange= True,  # Reversed for easier reading\n",
    "        tickformat='.1e',  # Scientific notation format\n",
    "        gridcolor='lightgray',  # Color of the grid lines\n",
    "        gridwidth=1,  # Width of the grid lines\n",
    "        showline=True,  # Show y-axis line\n",
    "        linewidth=1,  # Width of the y-axis line\n",
    "        linecolor='black'  # Color of the y-axis line\n",
    "    ),\n",
    "        shapes=[\n",
    "        # Frame around the plot\n",
    "        dict(\n",
    "            type='rect',\n",
    "            xref='paper', yref='paper',\n",
    "            x0=0, y0=0, x1=1, y1=1,\n",
    "            line=dict(color='black', width=2)\n",
    "        )\n",
    "    ],\n",
    "    margin=dict(\n",
    "        l=50,  # Adjust left margin\n",
    "        r=50,  # Adjust right margin\n",
    "        b=50,  # Adjust bottom margin\n",
    "        t=80   # Adjust top margin for title\n",
    "    )\n",
    ")\n",
    "\n",
    "# Plot first order derviative\n",
    "fig_iheat.show()"
   ]
  }
 ],
 "metadata": {
  "celltoolbar": "Tags",
  "kernelspec": {
   "display_name": "Python 3 (ipykernel)",
   "language": "python",
   "name": "python3"
  },
  "language_info": {
   "codemirror_mode": {
    "name": "ipython",
    "version": 3
   },
   "file_extension": ".py",
   "mimetype": "text/x-python",
   "name": "python",
   "nbconvert_exporter": "python",
   "pygments_lexer": "ipython3",
   "version": "3.9.13"
  }
 },
 "nbformat": 4,
 "nbformat_minor": 4
}
