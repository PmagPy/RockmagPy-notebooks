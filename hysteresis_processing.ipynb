{
 "cells": [
  {
   "cell_type": "markdown",
   "id": "edbd8cbd",
   "metadata": {},
   "source": [
    "## Install and import packages"
   ]
  },
  {
   "cell_type": "code",
   "execution_count": 1,
   "id": "035e0f36",
   "metadata": {},
   "outputs": [],
   "source": [
    "import rockmag as rmag\n",
    "import pmagpy.ipmag as ipmag\n",
    "import pmagpy.contribution_builder as cb\n",
    "import pandas as pd\n",
    "import numpy as np\n",
    "from numpy.linalg import svd, lstsq\n",
    "pd.set_option('display.max_columns', 500)\n",
    "import ipywidgets as widgets\n",
    "\n",
    "\n",
    "import matplotlib.pyplot as plt\n",
    "import math\n",
    "%matplotlib inline\n",
    "%config InlineBackend.figure_format = 'retina'\n",
    "\n",
    "from IPython.display import display, HTML, clear_output, Javascript "
   ]
  },
  {
   "cell_type": "markdown",
   "id": "b11b94ff",
   "metadata": {},
   "source": [
    "## Import data"
   ]
  },
  {
   "cell_type": "code",
   "execution_count": 2,
   "id": "a07bd6ef",
   "metadata": {},
   "outputs": [
    {
     "name": "stdout",
     "output_type": "stream",
     "text": [
      "Download successful. File saved to: example_data/hyst/magic_contribution_19548.txt\n",
      "working on:  'contribution\\r'\n",
      "1  records written to file  C:\\Users\\docto\\Documents\\GitHub\\RockmagPy-notebooks\\example_data\\hyst\\contribution.txt\n",
      "  data put in  C:\\Users\\docto\\Documents\\GitHub\\RockmagPy-notebooks\\example_data\\hyst\\contribution.txt\n",
      "working on:  'locations\\r'\n",
      "1  records written to file  C:\\Users\\docto\\Documents\\GitHub\\RockmagPy-notebooks\\example_data\\hyst\\locations.txt\n",
      "  data put in  C:\\Users\\docto\\Documents\\GitHub\\RockmagPy-notebooks\\example_data\\hyst\\locations.txt\n",
      "working on:  'sites\\r'\n",
      "138  records written to file  C:\\Users\\docto\\Documents\\GitHub\\RockmagPy-notebooks\\example_data\\hyst\\sites.txt\n",
      "  data put in  C:\\Users\\docto\\Documents\\GitHub\\RockmagPy-notebooks\\example_data\\hyst\\sites.txt\n",
      "working on:  'samples\\r'\n",
      "1094  records written to file  C:\\Users\\docto\\Documents\\GitHub\\RockmagPy-notebooks\\example_data\\hyst\\samples.txt\n",
      "  data put in  C:\\Users\\docto\\Documents\\GitHub\\RockmagPy-notebooks\\example_data\\hyst\\samples.txt\n",
      "working on:  'specimens\\r'\n",
      "1790  records written to file  C:\\Users\\docto\\Documents\\GitHub\\RockmagPy-notebooks\\example_data\\hyst\\specimens.txt\n",
      "  data put in  C:\\Users\\docto\\Documents\\GitHub\\RockmagPy-notebooks\\example_data\\hyst\\specimens.txt\n",
      "working on:  'measurements\\r'\n",
      "33061  records written to file  C:\\Users\\docto\\Documents\\GitHub\\RockmagPy-notebooks\\example_data\\hyst\\measurements.txt\n",
      "  data put in  C:\\Users\\docto\\Documents\\GitHub\\RockmagPy-notebooks\\example_data\\hyst\\measurements.txt\n",
      "working on:  'criteria\\r'\n",
      "12  records written to file  C:\\Users\\docto\\Documents\\GitHub\\RockmagPy-notebooks\\example_data\\hyst\\criteria.txt\n",
      "  data put in  C:\\Users\\docto\\Documents\\GitHub\\RockmagPy-notebooks\\example_data\\hyst\\criteria.txt\n",
      "-I- Using online data model\n",
      "-I- Getting method codes from earthref.org\n",
      "-I- Importing controlled vocabularies from https://earthref.org\n"
     ]
    },
    {
     "data": {
      "text/html": [
       "<div>\n",
       "<style scoped>\n",
       "    .dataframe tbody tr th:only-of-type {\n",
       "        vertical-align: middle;\n",
       "    }\n",
       "\n",
       "    .dataframe tbody tr th {\n",
       "        vertical-align: top;\n",
       "    }\n",
       "\n",
       "    .dataframe thead th {\n",
       "        text-align: right;\n",
       "    }\n",
       "</style>\n",
       "<table border=\"1\" class=\"dataframe\">\n",
       "  <thead>\n",
       "    <tr style=\"text-align: right;\">\n",
       "      <th></th>\n",
       "      <th>analysts</th>\n",
       "      <th>citations</th>\n",
       "      <th>description</th>\n",
       "      <th>dir_csd</th>\n",
       "      <th>dir_dec</th>\n",
       "      <th>dir_inc</th>\n",
       "      <th>experiment</th>\n",
       "      <th>magn_moment</th>\n",
       "      <th>meas_field_dc</th>\n",
       "      <th>meas_n_orient</th>\n",
       "      <th>meas_temp</th>\n",
       "      <th>measurement</th>\n",
       "      <th>method_codes</th>\n",
       "      <th>quality</th>\n",
       "      <th>sequence</th>\n",
       "      <th>software_packages</th>\n",
       "      <th>specimen</th>\n",
       "      <th>standard</th>\n",
       "      <th>timestamp</th>\n",
       "      <th>treat_ac_field</th>\n",
       "      <th>treat_dc_field</th>\n",
       "      <th>treat_dc_field_phi</th>\n",
       "      <th>treat_dc_field_theta</th>\n",
       "      <th>treat_step_num</th>\n",
       "      <th>treat_temp</th>\n",
       "    </tr>\n",
       "    <tr>\n",
       "      <th>measurement name</th>\n",
       "      <th></th>\n",
       "      <th></th>\n",
       "      <th></th>\n",
       "      <th></th>\n",
       "      <th></th>\n",
       "      <th></th>\n",
       "      <th></th>\n",
       "      <th></th>\n",
       "      <th></th>\n",
       "      <th></th>\n",
       "      <th></th>\n",
       "      <th></th>\n",
       "      <th></th>\n",
       "      <th></th>\n",
       "      <th></th>\n",
       "      <th></th>\n",
       "      <th></th>\n",
       "      <th></th>\n",
       "      <th></th>\n",
       "      <th></th>\n",
       "      <th></th>\n",
       "      <th></th>\n",
       "      <th></th>\n",
       "      <th></th>\n",
       "      <th></th>\n",
       "    </tr>\n",
       "  </thead>\n",
       "  <tbody>\n",
       "    <tr>\n",
       "      <th>mc1002A01_LP-PI-TRM_LP-PI-ALT-PTRM_LP-PI-BT-IZZI-1</th>\n",
       "      <td>None</td>\n",
       "      <td>This study</td>\n",
       "      <td>None</td>\n",
       "      <td>0.4</td>\n",
       "      <td>261.2</td>\n",
       "      <td>-54.2</td>\n",
       "      <td>mc1002A01_LP-PI-TRM_LP-PI-ALT-PTRM_LP-PI-BT-IZZI</td>\n",
       "      <td>7.420000e-07</td>\n",
       "      <td>NaN</td>\n",
       "      <td>3.0</td>\n",
       "      <td>273</td>\n",
       "      <td>mc1002A01_LP-PI-TRM_LP-PI-ALT-PTRM_LP-PI-BT-IZ...</td>\n",
       "      <td>LT-NO:LP-PI-TRM:LP-PI-ALT-PTRM:LP-PI-BT-IZZI</td>\n",
       "      <td>g</td>\n",
       "      <td>1</td>\n",
       "      <td>pmagpy-4.2.43</td>\n",
       "      <td>mc1002a01</td>\n",
       "      <td>u</td>\n",
       "      <td>2017-02-16T08:38:00Z</td>\n",
       "      <td>0.0</td>\n",
       "      <td>0.00000</td>\n",
       "      <td>0.0</td>\n",
       "      <td>0.0</td>\n",
       "      <td>NaN</td>\n",
       "      <td>273</td>\n",
       "    </tr>\n",
       "    <tr>\n",
       "      <th>mc1002A01_LP-PI-TRM_LP-PI-ALT-PTRM_LP-PI-BT-IZZI-2</th>\n",
       "      <td>None</td>\n",
       "      <td>This study</td>\n",
       "      <td>None</td>\n",
       "      <td>0.4</td>\n",
       "      <td>261.7</td>\n",
       "      <td>-54.6</td>\n",
       "      <td>mc1002A01_LP-PI-TRM_LP-PI-ALT-PTRM_LP-PI-BT-IZZI</td>\n",
       "      <td>7.490000e-07</td>\n",
       "      <td>NaN</td>\n",
       "      <td>3.0</td>\n",
       "      <td>273</td>\n",
       "      <td>mc1002A01_LP-PI-TRM_LP-PI-ALT-PTRM_LP-PI-BT-IZ...</td>\n",
       "      <td>LT-T-Z:LP-PI-TRM-ZI:LP-PI-TRM:LP-PI-ALT-PTRM:L...</td>\n",
       "      <td>g</td>\n",
       "      <td>2</td>\n",
       "      <td>pmagpy-4.2.43</td>\n",
       "      <td>mc1002a01</td>\n",
       "      <td>u</td>\n",
       "      <td>2017-02-21T09:22:00Z</td>\n",
       "      <td>0.0</td>\n",
       "      <td>0.00000</td>\n",
       "      <td>0.0</td>\n",
       "      <td>0.0</td>\n",
       "      <td>1.0</td>\n",
       "      <td>373</td>\n",
       "    </tr>\n",
       "    <tr>\n",
       "      <th>mc1002A01_LP-PI-TRM_LP-PI-ALT-PTRM_LP-PI-BT-IZZI-3</th>\n",
       "      <td>None</td>\n",
       "      <td>This study</td>\n",
       "      <td>None</td>\n",
       "      <td>0.8</td>\n",
       "      <td>263.0</td>\n",
       "      <td>-54.5</td>\n",
       "      <td>mc1002A01_LP-PI-TRM_LP-PI-ALT-PTRM_LP-PI-BT-IZZI</td>\n",
       "      <td>7.530000e-07</td>\n",
       "      <td>NaN</td>\n",
       "      <td>3.0</td>\n",
       "      <td>273</td>\n",
       "      <td>mc1002A01_LP-PI-TRM_LP-PI-ALT-PTRM_LP-PI-BT-IZ...</td>\n",
       "      <td>LT-T-I:LP-PI-TRM-ZI:LP-PI-TRM:LP-PI-ALT-PTRM:L...</td>\n",
       "      <td>g</td>\n",
       "      <td>3</td>\n",
       "      <td>pmagpy-4.2.43</td>\n",
       "      <td>mc1002a01</td>\n",
       "      <td>u</td>\n",
       "      <td>2017-02-22T16:47:00Z</td>\n",
       "      <td>0.0</td>\n",
       "      <td>0.00003</td>\n",
       "      <td>0.0</td>\n",
       "      <td>-90.0</td>\n",
       "      <td>2.0</td>\n",
       "      <td>373</td>\n",
       "    </tr>\n",
       "    <tr>\n",
       "      <th>mc1002A01_LP-PI-TRM_LP-PI-ALT-PTRM_LP-PI-BT-IZZI-4</th>\n",
       "      <td>Asefaw</td>\n",
       "      <td>This study</td>\n",
       "      <td>None</td>\n",
       "      <td>0.4</td>\n",
       "      <td>260.5</td>\n",
       "      <td>-57.0</td>\n",
       "      <td>mc1002A01_LP-PI-TRM_LP-PI-ALT-PTRM_LP-PI-BT-IZZI</td>\n",
       "      <td>7.420000e-07</td>\n",
       "      <td>NaN</td>\n",
       "      <td>3.0</td>\n",
       "      <td>273</td>\n",
       "      <td>mc1002A01_LP-PI-TRM_LP-PI-ALT-PTRM_LP-PI-BT-IZ...</td>\n",
       "      <td>LT-T-I:LP-PI-TRM-IZ:LP-PI-TRM:LP-PI-ALT-PTRM:L...</td>\n",
       "      <td>g</td>\n",
       "      <td>4</td>\n",
       "      <td>pmagpy-4.2.43</td>\n",
       "      <td>mc1002a01</td>\n",
       "      <td>u</td>\n",
       "      <td>2017-03-21T11:41:00Z</td>\n",
       "      <td>0.0</td>\n",
       "      <td>0.00003</td>\n",
       "      <td>0.0</td>\n",
       "      <td>-90.0</td>\n",
       "      <td>3.0</td>\n",
       "      <td>473</td>\n",
       "    </tr>\n",
       "    <tr>\n",
       "      <th>mc1002A01_LP-PI-TRM_LP-PI-ALT-PTRM_LP-PI-BT-IZZI-5</th>\n",
       "      <td>Asefaw</td>\n",
       "      <td>This study</td>\n",
       "      <td>None</td>\n",
       "      <td>0.4</td>\n",
       "      <td>262.4</td>\n",
       "      <td>-56.4</td>\n",
       "      <td>mc1002A01_LP-PI-TRM_LP-PI-ALT-PTRM_LP-PI-BT-IZZI</td>\n",
       "      <td>7.250000e-07</td>\n",
       "      <td>NaN</td>\n",
       "      <td>3.0</td>\n",
       "      <td>273</td>\n",
       "      <td>mc1002A01_LP-PI-TRM_LP-PI-ALT-PTRM_LP-PI-BT-IZ...</td>\n",
       "      <td>LT-T-Z:LP-PI-TRM-IZ:LP-PI-TRM:LP-PI-ALT-PTRM:L...</td>\n",
       "      <td>g</td>\n",
       "      <td>5</td>\n",
       "      <td>pmagpy-4.2.43</td>\n",
       "      <td>mc1002a01</td>\n",
       "      <td>u</td>\n",
       "      <td>2017-03-22T10:16:00Z</td>\n",
       "      <td>0.0</td>\n",
       "      <td>0.00000</td>\n",
       "      <td>0.0</td>\n",
       "      <td>0.0</td>\n",
       "      <td>4.0</td>\n",
       "      <td>473</td>\n",
       "    </tr>\n",
       "    <tr>\n",
       "      <th>...</th>\n",
       "      <td>...</td>\n",
       "      <td>...</td>\n",
       "      <td>...</td>\n",
       "      <td>...</td>\n",
       "      <td>...</td>\n",
       "      <td>...</td>\n",
       "      <td>...</td>\n",
       "      <td>...</td>\n",
       "      <td>...</td>\n",
       "      <td>...</td>\n",
       "      <td>...</td>\n",
       "      <td>...</td>\n",
       "      <td>...</td>\n",
       "      <td>...</td>\n",
       "      <td>...</td>\n",
       "      <td>...</td>\n",
       "      <td>...</td>\n",
       "      <td>...</td>\n",
       "      <td>...</td>\n",
       "      <td>...</td>\n",
       "      <td>...</td>\n",
       "      <td>...</td>\n",
       "      <td>...</td>\n",
       "      <td>...</td>\n",
       "      <td>...</td>\n",
       "    </tr>\n",
       "    <tr>\n",
       "      <th>mc1227h1_LP-DIR-T-319</th>\n",
       "      <td>Asefaw</td>\n",
       "      <td>This study</td>\n",
       "      <td>None</td>\n",
       "      <td>0.3</td>\n",
       "      <td>66.3</td>\n",
       "      <td>69.4</td>\n",
       "      <td>mc1227h1_LP-DIR-T</td>\n",
       "      <td>1.560000e-05</td>\n",
       "      <td>NaN</td>\n",
       "      <td>3.0</td>\n",
       "      <td>273</td>\n",
       "      <td>mc1227h1_LP-DIR-T-319</td>\n",
       "      <td>LT-T-Z:LP-DIR-T</td>\n",
       "      <td>g</td>\n",
       "      <td>33077</td>\n",
       "      <td>pmagpy-4.2.43</td>\n",
       "      <td>mc1227h1</td>\n",
       "      <td>u</td>\n",
       "      <td>2020-06-25T20:41:00Z</td>\n",
       "      <td>0.0</td>\n",
       "      <td>0.00000</td>\n",
       "      <td>0.0</td>\n",
       "      <td>0.0</td>\n",
       "      <td>2.0</td>\n",
       "      <td>473</td>\n",
       "    </tr>\n",
       "    <tr>\n",
       "      <th>mc1227h1_LP-DIR-T-320</th>\n",
       "      <td>Asefaw</td>\n",
       "      <td>This study</td>\n",
       "      <td>None</td>\n",
       "      <td>0.3</td>\n",
       "      <td>69.5</td>\n",
       "      <td>71.1</td>\n",
       "      <td>mc1227h1_LP-DIR-T</td>\n",
       "      <td>1.200000e-05</td>\n",
       "      <td>NaN</td>\n",
       "      <td>3.0</td>\n",
       "      <td>273</td>\n",
       "      <td>mc1227h1_LP-DIR-T-320</td>\n",
       "      <td>LT-T-Z:LP-DIR-T</td>\n",
       "      <td>g</td>\n",
       "      <td>33078</td>\n",
       "      <td>pmagpy-4.2.43</td>\n",
       "      <td>mc1227h1</td>\n",
       "      <td>u</td>\n",
       "      <td>2020-06-26T11:37:00Z</td>\n",
       "      <td>0.0</td>\n",
       "      <td>0.00000</td>\n",
       "      <td>0.0</td>\n",
       "      <td>0.0</td>\n",
       "      <td>3.0</td>\n",
       "      <td>573</td>\n",
       "    </tr>\n",
       "    <tr>\n",
       "      <th>mc1227h1_LP-DIR-T-321</th>\n",
       "      <td>Asefaw</td>\n",
       "      <td>This study</td>\n",
       "      <td>None</td>\n",
       "      <td>0.3</td>\n",
       "      <td>76.8</td>\n",
       "      <td>72.6</td>\n",
       "      <td>mc1227h1_LP-DIR-T</td>\n",
       "      <td>1.040000e-05</td>\n",
       "      <td>NaN</td>\n",
       "      <td>3.0</td>\n",
       "      <td>273</td>\n",
       "      <td>mc1227h1_LP-DIR-T-321</td>\n",
       "      <td>LT-T-Z:LP-DIR-T</td>\n",
       "      <td>g</td>\n",
       "      <td>33079</td>\n",
       "      <td>pmagpy-4.2.43</td>\n",
       "      <td>mc1227h1</td>\n",
       "      <td>u</td>\n",
       "      <td>2020-06-26T13:40:00Z</td>\n",
       "      <td>0.0</td>\n",
       "      <td>0.00000</td>\n",
       "      <td>0.0</td>\n",
       "      <td>0.0</td>\n",
       "      <td>4.0</td>\n",
       "      <td>673</td>\n",
       "    </tr>\n",
       "    <tr>\n",
       "      <th>mc1227h1_LP-DIR-T-322</th>\n",
       "      <td>Asefaw</td>\n",
       "      <td>This study</td>\n",
       "      <td>None</td>\n",
       "      <td>0.3</td>\n",
       "      <td>77.3</td>\n",
       "      <td>67.6</td>\n",
       "      <td>mc1227h1_LP-DIR-T</td>\n",
       "      <td>3.860000e-06</td>\n",
       "      <td>NaN</td>\n",
       "      <td>3.0</td>\n",
       "      <td>273</td>\n",
       "      <td>mc1227h1_LP-DIR-T-322</td>\n",
       "      <td>LT-T-Z:LP-DIR-T</td>\n",
       "      <td>g</td>\n",
       "      <td>3308</td>\n",
       "      <td>pmagpy-4.2.43</td>\n",
       "      <td>mc1227h1</td>\n",
       "      <td>u</td>\n",
       "      <td>2020-06-26T16:28:00Z</td>\n",
       "      <td>0.0</td>\n",
       "      <td>0.00000</td>\n",
       "      <td>0.0</td>\n",
       "      <td>0.0</td>\n",
       "      <td>5.0</td>\n",
       "      <td>773</td>\n",
       "    </tr>\n",
       "    <tr>\n",
       "      <th>mc1227h1_LP-DIR-T-323</th>\n",
       "      <td>Asefaw</td>\n",
       "      <td>This study</td>\n",
       "      <td>None</td>\n",
       "      <td>0.4</td>\n",
       "      <td>134.9</td>\n",
       "      <td>14.0</td>\n",
       "      <td>mc1227h1_LP-DIR-T</td>\n",
       "      <td>5.500000e-07</td>\n",
       "      <td>NaN</td>\n",
       "      <td>3.0</td>\n",
       "      <td>273</td>\n",
       "      <td>mc1227h1_LP-DIR-T-323</td>\n",
       "      <td>LT-T-Z:LP-DIR-T</td>\n",
       "      <td>g</td>\n",
       "      <td>33081</td>\n",
       "      <td>pmagpy-4.2.43</td>\n",
       "      <td>mc1227h1</td>\n",
       "      <td>u</td>\n",
       "      <td>2020-06-26T18:45:00Z</td>\n",
       "      <td>0.0</td>\n",
       "      <td>0.00000</td>\n",
       "      <td>0.0</td>\n",
       "      <td>0.0</td>\n",
       "      <td>6.0</td>\n",
       "      <td>873</td>\n",
       "    </tr>\n",
       "  </tbody>\n",
       "</table>\n",
       "<p>33061 rows × 25 columns</p>\n",
       "</div>"
      ],
      "text/plain": [
       "                                                   analysts   citations  \\\n",
       "measurement name                                                          \n",
       "mc1002A01_LP-PI-TRM_LP-PI-ALT-PTRM_LP-PI-BT-IZZI-1     None  This study   \n",
       "mc1002A01_LP-PI-TRM_LP-PI-ALT-PTRM_LP-PI-BT-IZZI-2     None  This study   \n",
       "mc1002A01_LP-PI-TRM_LP-PI-ALT-PTRM_LP-PI-BT-IZZI-3     None  This study   \n",
       "mc1002A01_LP-PI-TRM_LP-PI-ALT-PTRM_LP-PI-BT-IZZI-4   Asefaw  This study   \n",
       "mc1002A01_LP-PI-TRM_LP-PI-ALT-PTRM_LP-PI-BT-IZZI-5   Asefaw  This study   \n",
       "...                                                     ...         ...   \n",
       "mc1227h1_LP-DIR-T-319                                Asefaw  This study   \n",
       "mc1227h1_LP-DIR-T-320                                Asefaw  This study   \n",
       "mc1227h1_LP-DIR-T-321                                Asefaw  This study   \n",
       "mc1227h1_LP-DIR-T-322                                Asefaw  This study   \n",
       "mc1227h1_LP-DIR-T-323                                Asefaw  This study   \n",
       "\n",
       "                                                   description  dir_csd  \\\n",
       "measurement name                                                          \n",
       "mc1002A01_LP-PI-TRM_LP-PI-ALT-PTRM_LP-PI-BT-IZZI-1        None      0.4   \n",
       "mc1002A01_LP-PI-TRM_LP-PI-ALT-PTRM_LP-PI-BT-IZZI-2        None      0.4   \n",
       "mc1002A01_LP-PI-TRM_LP-PI-ALT-PTRM_LP-PI-BT-IZZI-3        None      0.8   \n",
       "mc1002A01_LP-PI-TRM_LP-PI-ALT-PTRM_LP-PI-BT-IZZI-4        None      0.4   \n",
       "mc1002A01_LP-PI-TRM_LP-PI-ALT-PTRM_LP-PI-BT-IZZI-5        None      0.4   \n",
       "...                                                        ...      ...   \n",
       "mc1227h1_LP-DIR-T-319                                     None      0.3   \n",
       "mc1227h1_LP-DIR-T-320                                     None      0.3   \n",
       "mc1227h1_LP-DIR-T-321                                     None      0.3   \n",
       "mc1227h1_LP-DIR-T-322                                     None      0.3   \n",
       "mc1227h1_LP-DIR-T-323                                     None      0.4   \n",
       "\n",
       "                                                    dir_dec  dir_inc  \\\n",
       "measurement name                                                       \n",
       "mc1002A01_LP-PI-TRM_LP-PI-ALT-PTRM_LP-PI-BT-IZZI-1    261.2    -54.2   \n",
       "mc1002A01_LP-PI-TRM_LP-PI-ALT-PTRM_LP-PI-BT-IZZI-2    261.7    -54.6   \n",
       "mc1002A01_LP-PI-TRM_LP-PI-ALT-PTRM_LP-PI-BT-IZZI-3    263.0    -54.5   \n",
       "mc1002A01_LP-PI-TRM_LP-PI-ALT-PTRM_LP-PI-BT-IZZI-4    260.5    -57.0   \n",
       "mc1002A01_LP-PI-TRM_LP-PI-ALT-PTRM_LP-PI-BT-IZZI-5    262.4    -56.4   \n",
       "...                                                     ...      ...   \n",
       "mc1227h1_LP-DIR-T-319                                  66.3     69.4   \n",
       "mc1227h1_LP-DIR-T-320                                  69.5     71.1   \n",
       "mc1227h1_LP-DIR-T-321                                  76.8     72.6   \n",
       "mc1227h1_LP-DIR-T-322                                  77.3     67.6   \n",
       "mc1227h1_LP-DIR-T-323                                 134.9     14.0   \n",
       "\n",
       "                                                                                          experiment  \\\n",
       "measurement name                                                                                       \n",
       "mc1002A01_LP-PI-TRM_LP-PI-ALT-PTRM_LP-PI-BT-IZZI-1  mc1002A01_LP-PI-TRM_LP-PI-ALT-PTRM_LP-PI-BT-IZZI   \n",
       "mc1002A01_LP-PI-TRM_LP-PI-ALT-PTRM_LP-PI-BT-IZZI-2  mc1002A01_LP-PI-TRM_LP-PI-ALT-PTRM_LP-PI-BT-IZZI   \n",
       "mc1002A01_LP-PI-TRM_LP-PI-ALT-PTRM_LP-PI-BT-IZZI-3  mc1002A01_LP-PI-TRM_LP-PI-ALT-PTRM_LP-PI-BT-IZZI   \n",
       "mc1002A01_LP-PI-TRM_LP-PI-ALT-PTRM_LP-PI-BT-IZZI-4  mc1002A01_LP-PI-TRM_LP-PI-ALT-PTRM_LP-PI-BT-IZZI   \n",
       "mc1002A01_LP-PI-TRM_LP-PI-ALT-PTRM_LP-PI-BT-IZZI-5  mc1002A01_LP-PI-TRM_LP-PI-ALT-PTRM_LP-PI-BT-IZZI   \n",
       "...                                                                                              ...   \n",
       "mc1227h1_LP-DIR-T-319                                                              mc1227h1_LP-DIR-T   \n",
       "mc1227h1_LP-DIR-T-320                                                              mc1227h1_LP-DIR-T   \n",
       "mc1227h1_LP-DIR-T-321                                                              mc1227h1_LP-DIR-T   \n",
       "mc1227h1_LP-DIR-T-322                                                              mc1227h1_LP-DIR-T   \n",
       "mc1227h1_LP-DIR-T-323                                                              mc1227h1_LP-DIR-T   \n",
       "\n",
       "                                                     magn_moment  \\\n",
       "measurement name                                                   \n",
       "mc1002A01_LP-PI-TRM_LP-PI-ALT-PTRM_LP-PI-BT-IZZI-1  7.420000e-07   \n",
       "mc1002A01_LP-PI-TRM_LP-PI-ALT-PTRM_LP-PI-BT-IZZI-2  7.490000e-07   \n",
       "mc1002A01_LP-PI-TRM_LP-PI-ALT-PTRM_LP-PI-BT-IZZI-3  7.530000e-07   \n",
       "mc1002A01_LP-PI-TRM_LP-PI-ALT-PTRM_LP-PI-BT-IZZI-4  7.420000e-07   \n",
       "mc1002A01_LP-PI-TRM_LP-PI-ALT-PTRM_LP-PI-BT-IZZI-5  7.250000e-07   \n",
       "...                                                          ...   \n",
       "mc1227h1_LP-DIR-T-319                               1.560000e-05   \n",
       "mc1227h1_LP-DIR-T-320                               1.200000e-05   \n",
       "mc1227h1_LP-DIR-T-321                               1.040000e-05   \n",
       "mc1227h1_LP-DIR-T-322                               3.860000e-06   \n",
       "mc1227h1_LP-DIR-T-323                               5.500000e-07   \n",
       "\n",
       "                                                    meas_field_dc  \\\n",
       "measurement name                                                    \n",
       "mc1002A01_LP-PI-TRM_LP-PI-ALT-PTRM_LP-PI-BT-IZZI-1            NaN   \n",
       "mc1002A01_LP-PI-TRM_LP-PI-ALT-PTRM_LP-PI-BT-IZZI-2            NaN   \n",
       "mc1002A01_LP-PI-TRM_LP-PI-ALT-PTRM_LP-PI-BT-IZZI-3            NaN   \n",
       "mc1002A01_LP-PI-TRM_LP-PI-ALT-PTRM_LP-PI-BT-IZZI-4            NaN   \n",
       "mc1002A01_LP-PI-TRM_LP-PI-ALT-PTRM_LP-PI-BT-IZZI-5            NaN   \n",
       "...                                                           ...   \n",
       "mc1227h1_LP-DIR-T-319                                         NaN   \n",
       "mc1227h1_LP-DIR-T-320                                         NaN   \n",
       "mc1227h1_LP-DIR-T-321                                         NaN   \n",
       "mc1227h1_LP-DIR-T-322                                         NaN   \n",
       "mc1227h1_LP-DIR-T-323                                         NaN   \n",
       "\n",
       "                                                    meas_n_orient  meas_temp  \\\n",
       "measurement name                                                               \n",
       "mc1002A01_LP-PI-TRM_LP-PI-ALT-PTRM_LP-PI-BT-IZZI-1            3.0        273   \n",
       "mc1002A01_LP-PI-TRM_LP-PI-ALT-PTRM_LP-PI-BT-IZZI-2            3.0        273   \n",
       "mc1002A01_LP-PI-TRM_LP-PI-ALT-PTRM_LP-PI-BT-IZZI-3            3.0        273   \n",
       "mc1002A01_LP-PI-TRM_LP-PI-ALT-PTRM_LP-PI-BT-IZZI-4            3.0        273   \n",
       "mc1002A01_LP-PI-TRM_LP-PI-ALT-PTRM_LP-PI-BT-IZZI-5            3.0        273   \n",
       "...                                                           ...        ...   \n",
       "mc1227h1_LP-DIR-T-319                                         3.0        273   \n",
       "mc1227h1_LP-DIR-T-320                                         3.0        273   \n",
       "mc1227h1_LP-DIR-T-321                                         3.0        273   \n",
       "mc1227h1_LP-DIR-T-322                                         3.0        273   \n",
       "mc1227h1_LP-DIR-T-323                                         3.0        273   \n",
       "\n",
       "                                                                                          measurement  \\\n",
       "measurement name                                                                                        \n",
       "mc1002A01_LP-PI-TRM_LP-PI-ALT-PTRM_LP-PI-BT-IZZI-1  mc1002A01_LP-PI-TRM_LP-PI-ALT-PTRM_LP-PI-BT-IZ...   \n",
       "mc1002A01_LP-PI-TRM_LP-PI-ALT-PTRM_LP-PI-BT-IZZI-2  mc1002A01_LP-PI-TRM_LP-PI-ALT-PTRM_LP-PI-BT-IZ...   \n",
       "mc1002A01_LP-PI-TRM_LP-PI-ALT-PTRM_LP-PI-BT-IZZI-3  mc1002A01_LP-PI-TRM_LP-PI-ALT-PTRM_LP-PI-BT-IZ...   \n",
       "mc1002A01_LP-PI-TRM_LP-PI-ALT-PTRM_LP-PI-BT-IZZI-4  mc1002A01_LP-PI-TRM_LP-PI-ALT-PTRM_LP-PI-BT-IZ...   \n",
       "mc1002A01_LP-PI-TRM_LP-PI-ALT-PTRM_LP-PI-BT-IZZI-5  mc1002A01_LP-PI-TRM_LP-PI-ALT-PTRM_LP-PI-BT-IZ...   \n",
       "...                                                                                               ...   \n",
       "mc1227h1_LP-DIR-T-319                                                           mc1227h1_LP-DIR-T-319   \n",
       "mc1227h1_LP-DIR-T-320                                                           mc1227h1_LP-DIR-T-320   \n",
       "mc1227h1_LP-DIR-T-321                                                           mc1227h1_LP-DIR-T-321   \n",
       "mc1227h1_LP-DIR-T-322                                                           mc1227h1_LP-DIR-T-322   \n",
       "mc1227h1_LP-DIR-T-323                                                           mc1227h1_LP-DIR-T-323   \n",
       "\n",
       "                                                                                         method_codes  \\\n",
       "measurement name                                                                                        \n",
       "mc1002A01_LP-PI-TRM_LP-PI-ALT-PTRM_LP-PI-BT-IZZI-1       LT-NO:LP-PI-TRM:LP-PI-ALT-PTRM:LP-PI-BT-IZZI   \n",
       "mc1002A01_LP-PI-TRM_LP-PI-ALT-PTRM_LP-PI-BT-IZZI-2  LT-T-Z:LP-PI-TRM-ZI:LP-PI-TRM:LP-PI-ALT-PTRM:L...   \n",
       "mc1002A01_LP-PI-TRM_LP-PI-ALT-PTRM_LP-PI-BT-IZZI-3  LT-T-I:LP-PI-TRM-ZI:LP-PI-TRM:LP-PI-ALT-PTRM:L...   \n",
       "mc1002A01_LP-PI-TRM_LP-PI-ALT-PTRM_LP-PI-BT-IZZI-4  LT-T-I:LP-PI-TRM-IZ:LP-PI-TRM:LP-PI-ALT-PTRM:L...   \n",
       "mc1002A01_LP-PI-TRM_LP-PI-ALT-PTRM_LP-PI-BT-IZZI-5  LT-T-Z:LP-PI-TRM-IZ:LP-PI-TRM:LP-PI-ALT-PTRM:L...   \n",
       "...                                                                                               ...   \n",
       "mc1227h1_LP-DIR-T-319                                                                 LT-T-Z:LP-DIR-T   \n",
       "mc1227h1_LP-DIR-T-320                                                                 LT-T-Z:LP-DIR-T   \n",
       "mc1227h1_LP-DIR-T-321                                                                 LT-T-Z:LP-DIR-T   \n",
       "mc1227h1_LP-DIR-T-322                                                                 LT-T-Z:LP-DIR-T   \n",
       "mc1227h1_LP-DIR-T-323                                                                 LT-T-Z:LP-DIR-T   \n",
       "\n",
       "                                                   quality  sequence  \\\n",
       "measurement name                                                       \n",
       "mc1002A01_LP-PI-TRM_LP-PI-ALT-PTRM_LP-PI-BT-IZZI-1       g         1   \n",
       "mc1002A01_LP-PI-TRM_LP-PI-ALT-PTRM_LP-PI-BT-IZZI-2       g         2   \n",
       "mc1002A01_LP-PI-TRM_LP-PI-ALT-PTRM_LP-PI-BT-IZZI-3       g         3   \n",
       "mc1002A01_LP-PI-TRM_LP-PI-ALT-PTRM_LP-PI-BT-IZZI-4       g         4   \n",
       "mc1002A01_LP-PI-TRM_LP-PI-ALT-PTRM_LP-PI-BT-IZZI-5       g         5   \n",
       "...                                                    ...       ...   \n",
       "mc1227h1_LP-DIR-T-319                                    g     33077   \n",
       "mc1227h1_LP-DIR-T-320                                    g     33078   \n",
       "mc1227h1_LP-DIR-T-321                                    g     33079   \n",
       "mc1227h1_LP-DIR-T-322                                    g      3308   \n",
       "mc1227h1_LP-DIR-T-323                                    g     33081   \n",
       "\n",
       "                                                   software_packages  \\\n",
       "measurement name                                                       \n",
       "mc1002A01_LP-PI-TRM_LP-PI-ALT-PTRM_LP-PI-BT-IZZI-1     pmagpy-4.2.43   \n",
       "mc1002A01_LP-PI-TRM_LP-PI-ALT-PTRM_LP-PI-BT-IZZI-2     pmagpy-4.2.43   \n",
       "mc1002A01_LP-PI-TRM_LP-PI-ALT-PTRM_LP-PI-BT-IZZI-3     pmagpy-4.2.43   \n",
       "mc1002A01_LP-PI-TRM_LP-PI-ALT-PTRM_LP-PI-BT-IZZI-4     pmagpy-4.2.43   \n",
       "mc1002A01_LP-PI-TRM_LP-PI-ALT-PTRM_LP-PI-BT-IZZI-5     pmagpy-4.2.43   \n",
       "...                                                              ...   \n",
       "mc1227h1_LP-DIR-T-319                                  pmagpy-4.2.43   \n",
       "mc1227h1_LP-DIR-T-320                                  pmagpy-4.2.43   \n",
       "mc1227h1_LP-DIR-T-321                                  pmagpy-4.2.43   \n",
       "mc1227h1_LP-DIR-T-322                                  pmagpy-4.2.43   \n",
       "mc1227h1_LP-DIR-T-323                                  pmagpy-4.2.43   \n",
       "\n",
       "                                                     specimen standard  \\\n",
       "measurement name                                                         \n",
       "mc1002A01_LP-PI-TRM_LP-PI-ALT-PTRM_LP-PI-BT-IZZI-1  mc1002a01        u   \n",
       "mc1002A01_LP-PI-TRM_LP-PI-ALT-PTRM_LP-PI-BT-IZZI-2  mc1002a01        u   \n",
       "mc1002A01_LP-PI-TRM_LP-PI-ALT-PTRM_LP-PI-BT-IZZI-3  mc1002a01        u   \n",
       "mc1002A01_LP-PI-TRM_LP-PI-ALT-PTRM_LP-PI-BT-IZZI-4  mc1002a01        u   \n",
       "mc1002A01_LP-PI-TRM_LP-PI-ALT-PTRM_LP-PI-BT-IZZI-5  mc1002a01        u   \n",
       "...                                                       ...      ...   \n",
       "mc1227h1_LP-DIR-T-319                                mc1227h1        u   \n",
       "mc1227h1_LP-DIR-T-320                                mc1227h1        u   \n",
       "mc1227h1_LP-DIR-T-321                                mc1227h1        u   \n",
       "mc1227h1_LP-DIR-T-322                                mc1227h1        u   \n",
       "mc1227h1_LP-DIR-T-323                                mc1227h1        u   \n",
       "\n",
       "                                                               timestamp  \\\n",
       "measurement name                                                           \n",
       "mc1002A01_LP-PI-TRM_LP-PI-ALT-PTRM_LP-PI-BT-IZZI-1  2017-02-16T08:38:00Z   \n",
       "mc1002A01_LP-PI-TRM_LP-PI-ALT-PTRM_LP-PI-BT-IZZI-2  2017-02-21T09:22:00Z   \n",
       "mc1002A01_LP-PI-TRM_LP-PI-ALT-PTRM_LP-PI-BT-IZZI-3  2017-02-22T16:47:00Z   \n",
       "mc1002A01_LP-PI-TRM_LP-PI-ALT-PTRM_LP-PI-BT-IZZI-4  2017-03-21T11:41:00Z   \n",
       "mc1002A01_LP-PI-TRM_LP-PI-ALT-PTRM_LP-PI-BT-IZZI-5  2017-03-22T10:16:00Z   \n",
       "...                                                                  ...   \n",
       "mc1227h1_LP-DIR-T-319                               2020-06-25T20:41:00Z   \n",
       "mc1227h1_LP-DIR-T-320                               2020-06-26T11:37:00Z   \n",
       "mc1227h1_LP-DIR-T-321                               2020-06-26T13:40:00Z   \n",
       "mc1227h1_LP-DIR-T-322                               2020-06-26T16:28:00Z   \n",
       "mc1227h1_LP-DIR-T-323                               2020-06-26T18:45:00Z   \n",
       "\n",
       "                                                    treat_ac_field  \\\n",
       "measurement name                                                     \n",
       "mc1002A01_LP-PI-TRM_LP-PI-ALT-PTRM_LP-PI-BT-IZZI-1             0.0   \n",
       "mc1002A01_LP-PI-TRM_LP-PI-ALT-PTRM_LP-PI-BT-IZZI-2             0.0   \n",
       "mc1002A01_LP-PI-TRM_LP-PI-ALT-PTRM_LP-PI-BT-IZZI-3             0.0   \n",
       "mc1002A01_LP-PI-TRM_LP-PI-ALT-PTRM_LP-PI-BT-IZZI-4             0.0   \n",
       "mc1002A01_LP-PI-TRM_LP-PI-ALT-PTRM_LP-PI-BT-IZZI-5             0.0   \n",
       "...                                                            ...   \n",
       "mc1227h1_LP-DIR-T-319                                          0.0   \n",
       "mc1227h1_LP-DIR-T-320                                          0.0   \n",
       "mc1227h1_LP-DIR-T-321                                          0.0   \n",
       "mc1227h1_LP-DIR-T-322                                          0.0   \n",
       "mc1227h1_LP-DIR-T-323                                          0.0   \n",
       "\n",
       "                                                    treat_dc_field  \\\n",
       "measurement name                                                     \n",
       "mc1002A01_LP-PI-TRM_LP-PI-ALT-PTRM_LP-PI-BT-IZZI-1         0.00000   \n",
       "mc1002A01_LP-PI-TRM_LP-PI-ALT-PTRM_LP-PI-BT-IZZI-2         0.00000   \n",
       "mc1002A01_LP-PI-TRM_LP-PI-ALT-PTRM_LP-PI-BT-IZZI-3         0.00003   \n",
       "mc1002A01_LP-PI-TRM_LP-PI-ALT-PTRM_LP-PI-BT-IZZI-4         0.00003   \n",
       "mc1002A01_LP-PI-TRM_LP-PI-ALT-PTRM_LP-PI-BT-IZZI-5         0.00000   \n",
       "...                                                            ...   \n",
       "mc1227h1_LP-DIR-T-319                                      0.00000   \n",
       "mc1227h1_LP-DIR-T-320                                      0.00000   \n",
       "mc1227h1_LP-DIR-T-321                                      0.00000   \n",
       "mc1227h1_LP-DIR-T-322                                      0.00000   \n",
       "mc1227h1_LP-DIR-T-323                                      0.00000   \n",
       "\n",
       "                                                    treat_dc_field_phi  \\\n",
       "measurement name                                                         \n",
       "mc1002A01_LP-PI-TRM_LP-PI-ALT-PTRM_LP-PI-BT-IZZI-1                 0.0   \n",
       "mc1002A01_LP-PI-TRM_LP-PI-ALT-PTRM_LP-PI-BT-IZZI-2                 0.0   \n",
       "mc1002A01_LP-PI-TRM_LP-PI-ALT-PTRM_LP-PI-BT-IZZI-3                 0.0   \n",
       "mc1002A01_LP-PI-TRM_LP-PI-ALT-PTRM_LP-PI-BT-IZZI-4                 0.0   \n",
       "mc1002A01_LP-PI-TRM_LP-PI-ALT-PTRM_LP-PI-BT-IZZI-5                 0.0   \n",
       "...                                                                ...   \n",
       "mc1227h1_LP-DIR-T-319                                              0.0   \n",
       "mc1227h1_LP-DIR-T-320                                              0.0   \n",
       "mc1227h1_LP-DIR-T-321                                              0.0   \n",
       "mc1227h1_LP-DIR-T-322                                              0.0   \n",
       "mc1227h1_LP-DIR-T-323                                              0.0   \n",
       "\n",
       "                                                    treat_dc_field_theta  \\\n",
       "measurement name                                                           \n",
       "mc1002A01_LP-PI-TRM_LP-PI-ALT-PTRM_LP-PI-BT-IZZI-1                   0.0   \n",
       "mc1002A01_LP-PI-TRM_LP-PI-ALT-PTRM_LP-PI-BT-IZZI-2                   0.0   \n",
       "mc1002A01_LP-PI-TRM_LP-PI-ALT-PTRM_LP-PI-BT-IZZI-3                 -90.0   \n",
       "mc1002A01_LP-PI-TRM_LP-PI-ALT-PTRM_LP-PI-BT-IZZI-4                 -90.0   \n",
       "mc1002A01_LP-PI-TRM_LP-PI-ALT-PTRM_LP-PI-BT-IZZI-5                   0.0   \n",
       "...                                                                  ...   \n",
       "mc1227h1_LP-DIR-T-319                                                0.0   \n",
       "mc1227h1_LP-DIR-T-320                                                0.0   \n",
       "mc1227h1_LP-DIR-T-321                                                0.0   \n",
       "mc1227h1_LP-DIR-T-322                                                0.0   \n",
       "mc1227h1_LP-DIR-T-323                                                0.0   \n",
       "\n",
       "                                                    treat_step_num  treat_temp  \n",
       "measurement name                                                                \n",
       "mc1002A01_LP-PI-TRM_LP-PI-ALT-PTRM_LP-PI-BT-IZZI-1             NaN         273  \n",
       "mc1002A01_LP-PI-TRM_LP-PI-ALT-PTRM_LP-PI-BT-IZZI-2             1.0         373  \n",
       "mc1002A01_LP-PI-TRM_LP-PI-ALT-PTRM_LP-PI-BT-IZZI-3             2.0         373  \n",
       "mc1002A01_LP-PI-TRM_LP-PI-ALT-PTRM_LP-PI-BT-IZZI-4             3.0         473  \n",
       "mc1002A01_LP-PI-TRM_LP-PI-ALT-PTRM_LP-PI-BT-IZZI-5             4.0         473  \n",
       "...                                                            ...         ...  \n",
       "mc1227h1_LP-DIR-T-319                                          2.0         473  \n",
       "mc1227h1_LP-DIR-T-320                                          3.0         573  \n",
       "mc1227h1_LP-DIR-T-321                                          4.0         673  \n",
       "mc1227h1_LP-DIR-T-322                                          5.0         773  \n",
       "mc1227h1_LP-DIR-T-323                                          6.0         873  \n",
       "\n",
       "[33061 rows x 25 columns]"
      ]
     },
     "execution_count": 2,
     "metadata": {},
     "output_type": "execute_result"
    }
   ],
   "source": [
    "#define these three parameters to match your data\n",
    "magic_id = '19548'\n",
    "share_key = ''\n",
    "dir_path = 'example_data/hyst'\n",
    "\n",
    "result, magic_file = ipmag.download_magic_from_id(magic_id, directory=dir_path, share_key=share_key)\n",
    "ipmag.unpack_magic(magic_file, dir_path)\n",
    "contribution = cb.Contribution(dir_path)\n",
    "measurements = contribution.tables['measurements'].df\n",
    "measurements.dropna(axis=1, how='all')"
   ]
  },
  {
   "cell_type": "markdown",
   "id": "817f74bf",
   "metadata": {},
   "source": [
    "## All of the project data is now stored in the $measurements$ variable\n",
    "\n",
    "The method codes relevent to hysteresis loops are:\n",
    " - `LP-HYS` for regular hysteresis loops\n",
    " - `LP-HYS-O` for hysteresis loops as a function of orientation\n",
    " - `LP-HYS-T` for hysteresis loops as a function of temperature"
   ]
  },
  {
   "cell_type": "code",
   "execution_count": 3,
   "id": "b014b1e6",
   "metadata": {},
   "outputs": [
    {
     "data": {
      "application/vnd.jupyter.widget-view+json": {
       "model_id": "5f220dad50114865948f827bf617e3b4",
       "version_major": 2,
       "version_minor": 0
      },
      "text/plain": [
       "Dropdown(description='Specimen:', options=('mc04c-1', 'mc113a1-1', 'mc117a2-1', 'mc120a2-1', 'mc129a1-1', 'mc1…"
      ]
     },
     "metadata": {},
     "output_type": "display_data"
    },
    {
     "data": {
      "application/vnd.jupyter.widget-view+json": {
       "model_id": "aa7d0e0fef9943efaad0e9a7b50817ff",
       "version_major": 2,
       "version_minor": 0
      },
      "text/plain": [
       "RadioButtons(description='Plot with:', options=(('matplotlib', False), ('plotly', True)), value=False)"
      ]
     },
     "metadata": {},
     "output_type": "display_data"
    },
    {
     "data": {
      "application/vnd.jupyter.widget-view+json": {
       "model_id": "7eaea4a66a214323b86b0247cb4963f5",
       "version_major": 2,
       "version_minor": 0
      },
      "text/plain": [
       "Output()"
      ]
     },
     "metadata": {},
     "output_type": "display_data"
    }
   ],
   "source": [
    "# plot the hysteresis loop (looking for 'LP-HYS')\n",
    "rmag.make_hyst_plots(measurements, data_type = 'magn_moment')"
   ]
  },
  {
   "cell_type": "code",
   "execution_count": 4,
   "id": "81683eca",
   "metadata": {},
   "outputs": [
    {
     "data": {
      "application/vnd.jupyter.widget-view+json": {
       "model_id": "0575a3135e8847f3b9416599a315590d",
       "version_major": 2,
       "version_minor": 0
      },
      "text/plain": [
       "Dropdown(description='Method Code:', options=('LT-NO:LP-PI-TRM:LP-PI-ALT-PTRM:LP-PI-BT-IZZI', 'LT-T-Z:LP-PI-TR…"
      ]
     },
     "metadata": {},
     "output_type": "display_data"
    },
    {
     "data": {
      "application/vnd.jupyter.widget-view+json": {
       "model_id": "346080d504f44caa8fefcb122c58aadf",
       "version_major": 2,
       "version_minor": 0
      },
      "text/plain": [
       "Dropdown(description='Specimen:', options=('mc1002a01', 'mc1003b01', 'mc1004d02', 'mc1006b01', 'mc1007a02', 'm…"
      ]
     },
     "metadata": {},
     "output_type": "display_data"
    },
    {
     "data": {
      "application/vnd.jupyter.widget-view+json": {
       "model_id": "e47116daf87e4dd5a3cec21491fef713",
       "version_major": 2,
       "version_minor": 0
      },
      "text/plain": [
       "Dropdown(description='Experiment:', options=('mc1002A01_LP-PI-TRM_LP-PI-ALT-PTRM_LP-PI-BT-IZZI',), value='mc10…"
      ]
     },
     "metadata": {},
     "output_type": "display_data"
    }
   ],
   "source": [
    "# select method code, specimen, and experiment that you want to focus on\n",
    "method, specimen, experiment = rmag.interactive_method_specimen_selection(measurements)"
   ]
  },
  {
   "cell_type": "code",
   "execution_count": 29,
   "id": "d3331f77",
   "metadata": {},
   "outputs": [],
   "source": [
    "# extract the specimen specific data\n",
    "hyst_data = rmag.extract_hysteresis_data(measurements, specimen.value)"
   ]
  },
  {
   "cell_type": "markdown",
   "id": "23a0b0d7",
   "metadata": {},
   "source": [
    "## old import\n",
    "\n",
    "####set the dir_path to the directory where the measurements.txt file is located\n",
    "dir_path = './example_data/ECMB'\n",
    "\n",
    "file = dir_path + '/measurements.txt'\n",
    "measurements = pd.read_csv(file, sep='\\t', skiprows=1)\n"
   ]
  },
  {
   "cell_type": "markdown",
   "id": "850395f4",
   "metadata": {},
   "source": [
    "## old plot\n",
    "\n",
    "rmag.make_hyst_plots(measurements)"
   ]
  },
  {
   "cell_type": "markdown",
   "id": "6b9d492f",
   "metadata": {},
   "source": [
    "## old selection\n",
    "\n",
    "specimen_name = 'NED1-5c'\n",
    "hyst_data = rmag.extract_hysteresis_data(measurements, specimen_name)"
   ]
  },
  {
   "cell_type": "code",
   "execution_count": 30,
   "id": "dfc62131",
   "metadata": {},
   "outputs": [
    {
     "name": "stdout",
     "output_type": "stream",
     "text": [
      "502\n"
     ]
    }
   ],
   "source": [
    "#loop_fields = []\n",
    "#loop_moments = []\n",
    "#print(hyst_data['meas_field_dc'])\n",
    "loop_moments = hyst_data['magn_moment'] # change as necessary\n",
    "loop_fields = hyst_data['meas_field_dc']\n",
    "\"\"\"\n",
    "for x in hyst_data['meas_field_dc']:\n",
    "    s1=x\n",
    "    loop_fields.append(float(s1))\n",
    "for x in hyst_data['magn_mass']:\n",
    "    s1=x\n",
    "    loop_moments.append(float(s1))  \n",
    "    \"\"\"\n",
    "n_loop = len(loop_fields)\n",
    "\n",
    "\n",
    "polydegree = 1\n",
    "nsmooth = 3\n",
    "B_offset = 0\n",
    "M_offset = 0\n",
    "acheckvar= 0\n",
    "print(n_loop)\n",
    "#plt.plot(loop_fields, loop_moments)"
   ]
  },
  {
   "cell_type": "code",
   "execution_count": 31,
   "id": "4fe4e202",
   "metadata": {},
   "outputs": [
    {
     "data": {
      "text/plain": [
       "measurement name\n",
       "1      0.5000\n",
       "2      0.4970\n",
       "3      0.4930\n",
       "4      0.4890\n",
       "5      0.4850\n",
       "        ...  \n",
       "498    0.4830\n",
       "499    0.4870\n",
       "500    0.4910\n",
       "501    0.4950\n",
       "502    0.4999\n",
       "Name: meas_field_dc, Length: 502, dtype: float64"
      ]
     },
     "execution_count": 31,
     "metadata": {},
     "output_type": "execute_result"
    }
   ],
   "source": [
    "loop_fields"
   ]
  },
  {
   "cell_type": "code",
   "execution_count": 32,
   "id": "a772a149",
   "metadata": {},
   "outputs": [
    {
     "data": {
      "text/plain": [
       "measurement name\n",
       "1      0.000004\n",
       "2      0.000004\n",
       "3      0.000004\n",
       "4      0.000004\n",
       "5      0.000004\n",
       "         ...   \n",
       "498    0.000004\n",
       "499    0.000004\n",
       "500    0.000004\n",
       "501    0.000004\n",
       "502    0.000004\n",
       "Name: magn_moment, Length: 502, dtype: float64"
      ]
     },
     "execution_count": 32,
     "metadata": {},
     "output_type": "execute_result"
    }
   ],
   "source": [
    "loop_moments"
   ]
  },
  {
   "cell_type": "code",
   "execution_count": 26,
   "id": "92d4b8b6",
   "metadata": {},
   "outputs": [],
   "source": [
    "# first call to loop_grid ignores offsets\n",
    "grid_fields, grid_moments =rmag.loop_grid(n_loop, polydegree, nsmooth, loop_fields, loop_moments, B_offset, M_offset)"
   ]
  },
  {
   "cell_type": "code",
   "execution_count": 27,
   "id": "2eb9a89c",
   "metadata": {},
   "outputs": [
    {
     "data": {
      "text/plain": [
       "[<matplotlib.lines.Line2D at 0x16c2e1d23e0>]"
      ]
     },
     "execution_count": 27,
     "metadata": {},
     "output_type": "execute_result"
    },
    {
     "data": {
      "image/png": "[encoded data removed]",
      "text/plain": [
       "<Figure size 640x480 with 1 Axes>"
      ]
     },
     "metadata": {
      "image/png": {
       "height": 428,
       "width": 559
      }
     },
     "output_type": "display_data"
    }
   ],
   "source": [
    "plt.plot(loop_fields, loop_moments)\n"
   ]
  },
  {
   "cell_type": "code",
   "execution_count": 28,
   "id": "fa50da43",
   "metadata": {},
   "outputs": [
    {
     "data": {
      "text/plain": [
       "[<matplotlib.lines.Line2D at 0x16c2f111e70>]"
      ]
     },
     "execution_count": 28,
     "metadata": {},
     "output_type": "execute_result"
    },
    {
     "data": {
      "image/png": "[encoded data removed]",
      "text/plain": [
       "<Figure size 640x480 with 1 Axes>"
      ]
     },
     "metadata": {
      "image/png": {
       "height": 428,
       "width": 559
      }
     },
     "output_type": "display_data"
    }
   ],
   "source": [
    "plt.plot(grid_fields, grid_moments)"
   ]
  },
  {
   "cell_type": "code",
   "execution_count": 12,
   "id": "938a8880",
   "metadata": {},
   "outputs": [],
   "source": [
    "#This is just testing\n",
    "moment_sub = rmag.branch_sub(n_loop, grid_moments)"
   ]
  },
  {
   "cell_type": "code",
   "execution_count": 13,
   "id": "9b05985c",
   "metadata": {},
   "outputs": [
    {
     "data": {
      "text/plain": [
       "251"
      ]
     },
     "execution_count": 13,
     "metadata": {},
     "output_type": "execute_result"
    }
   ],
   "source": [
    "len(moment_sub)"
   ]
  },
  {
   "cell_type": "code",
   "execution_count": 14,
   "id": "2f096aa2",
   "metadata": {},
   "outputs": [
    {
     "data": {
      "text/plain": [
       "502"
      ]
     },
     "execution_count": 14,
     "metadata": {},
     "output_type": "execute_result"
    }
   ],
   "source": [
    "len(grid_fields)"
   ]
  },
  {
   "cell_type": "code",
   "execution_count": 16,
   "id": "1f3ba201",
   "metadata": {},
   "outputs": [
    {
     "data": {
      "text/plain": [
       "[<matplotlib.lines.Line2D at 0x16c2e08cb20>]"
      ]
     },
     "execution_count": 16,
     "metadata": {},
     "output_type": "execute_result"
    },
    {
     "data": {
      "image/png": "[encoded data removed]",
      "text/plain": [
       "<Figure size 640x480 with 1 Axes>"
      ]
     },
     "metadata": {
      "image/png": {
       "height": 428,
       "width": 556
      }
     },
     "output_type": "display_data"
    }
   ],
   "source": [
    "plt.plot(grid_fields[251:], moment_sub)"
   ]
  },
  {
   "cell_type": "code",
   "execution_count": 17,
   "id": "e35cd1dd",
   "metadata": {},
   "outputs": [
    {
     "name": "stdout",
     "output_type": "stream",
     "text": [
      "FNL =  7841.442858855786\n",
      "slope =  7.580305357344855e-06\n",
      "intercept =  9.171232597574122e-09\n"
     ]
    }
   ],
   "source": [
    "n_looppoints = n_loop\n",
    "FNL, slope, intercept = rmag.loop_test_linearity(n_looppoints, grid_fields, grid_moments)\n",
    "print(\"FNL = \",FNL)\n",
    "print(\"slope = \",slope)\n",
    "print(\"intercept = \",intercept)"
   ]
  },
  {
   "cell_type": "code",
   "execution_count": 18,
   "id": "204156de",
   "metadata": {},
   "outputs": [
    {
     "name": "stdout",
     "output_type": "stream",
     "text": [
      "good luck\n",
      "M_offset =  4.597958872454077e-10\n",
      "B_offset =  -0.0016295603530292978\n",
      "Q =  3.1645108166720513\n"
     ]
    }
   ],
   "source": [
    "M_offset, B_offset, M_sn = rmag.loop_errorcal(n_looppoints, grid_fields, grid_moments);\n",
    "print('good luck')\n",
    "print(\"M_offset = \",M_offset)\n",
    "print(\"B_offset = \",B_offset)\n",
    "\n",
    "\"\"\"\n",
    "A quality factor Q is calculated for both the whole curve, Q, and the ferromagnetic part, Qf.\n",
    "Q is the decimal log of the signal/noise ratio, calculated from the mean square mismatch\n",
    "between symmetrically equivalent moments, and typically ranges between 0 (s/n~1) and ~3 (s/n~1000).\n",
    "A higher value indicates better quality data.\n",
    "\n",
    "\"\"\"\n",
    "\n",
    "\n",
    "if M_sn > 0:\n",
    "    Q = math.log(M_sn, 10) * -1\n",
    "else:\n",
    "    Q = 10\n",
    "print(\"Q = \",Q)"
   ]
  },
  {
   "cell_type": "code",
   "execution_count": 19,
   "id": "1bf54d2f",
   "metadata": {},
   "outputs": [
    {
     "name": "stdout",
     "output_type": "stream",
     "text": [
      "grid_moments =  5.359540204112755e-06\n",
      "grid_fields =  0.998\n"
     ]
    }
   ],
   "source": [
    "# second call to grid routine removes offsets\n",
    "grid_fields, grid_moments = rmag.loop_grid(n_loop, polydegree, nsmooth, loop_fields, loop_moments, B_offset, M_offset)\n",
    "print (\"grid_moments = \",grid_moments[0])\n",
    "print (\"grid_fields = \",grid_fields[0])"
   ]
  },
  {
   "cell_type": "code",
   "execution_count": 20,
   "id": "4316c211",
   "metadata": {},
   "outputs": [
    {
     "name": "stdout",
     "output_type": "stream",
     "text": [
      "error x and y =  0.0 ,  0.0\n",
      "error x and y =  0.990016 ,  1.1825723550534852e-08\n",
      "error x and y =  0.982032 ,  9.080408225509523e-09\n",
      "error x and y =  0.974048 ,  4.59566722490798e-09\n",
      "error x and y =  0.966064 ,  9.080408225509523e-09\n",
      "error x and y =  0.95808 ,  9.080408225509523e-09\n",
      "error x and y =  0.950096 ,  4.506507342905738e-09\n",
      "error x and y =  0.9421120000000001 ,  9.080408225612013e-09\n",
      "error x and y =  0.9341280000000001 ,  1.953457784345079e-09\n",
      "error x and y =  0.9261440000000001 ,  1.488457784065216e-09\n",
      "n_looppoints =  251\n",
      "M_err =  8.118040962189836e-09\n"
     ]
    }
   ],
   "source": [
    "ErrX, ErrY = rmag.loop_errorcal2(n_looppoints, grid_fields, grid_moments, 0, 0)\n",
    "for i in range(10):\n",
    "    print(\"error x and y = \",ErrX[i],\", \",ErrY[i])\n",
    "\n",
    "\n",
    "M_err = 0\n",
    "for i in range(0, n_looppoints//2 -2):\n",
    "    M_err += (ErrY[i])**2\n",
    "M_err = math.sqrt(M_err / (n_looppoints//2 ) )\n",
    "print(\"n_looppoints = \", n_looppoints//2)\n",
    "print(\"M_err = \", M_err)"
   ]
  },
  {
   "cell_type": "code",
   "execution_count": 21,
   "id": "a9d4f4ec",
   "metadata": {},
   "outputs": [
    {
     "ename": "IndexError",
     "evalue": "index 502 is out of bounds for axis 0 with size 502",
     "output_type": "error",
     "traceback": [
      "\u001b[1;31m---------------------------------------------------------------------------\u001b[0m",
      "\u001b[1;31mIndexError\u001b[0m                                Traceback (most recent call last)",
      "Cell \u001b[1;32mIn[21], line 1\u001b[0m\n\u001b[1;32m----> 1\u001b[0m mrh, E_hys, Brh, Bih \u001b[38;5;241m=\u001b[39m \u001b[43mrmag\u001b[49m\u001b[38;5;241;43m.\u001b[39;49m\u001b[43mloop_delta_M\u001b[49m\u001b[43m(\u001b[49m\u001b[43mn_looppoints\u001b[49m\u001b[43m,\u001b[49m\u001b[43m \u001b[49m\u001b[43mgrid_fields\u001b[49m\u001b[43m,\u001b[49m\u001b[43m \u001b[49m\u001b[43mgrid_moments\u001b[49m\u001b[43m)\u001b[49m\n\u001b[0;32m      2\u001b[0m \u001b[38;5;28mprint\u001b[39m(\u001b[38;5;124m'\u001b[39m\u001b[38;5;124mloop_delta_m first go\u001b[39m\u001b[38;5;124m'\u001b[39m)\n\u001b[0;32m      3\u001b[0m \u001b[38;5;66;03m#print(\"mrh =\", mrh)\u001b[39;00m\n",
      "File \u001b[1;32m~\\Documents\\GitHub\\RockmagPy-notebooks\\rockmag.py:1268\u001b[0m, in \u001b[0;36mloop_delta_M\u001b[1;34m(n_looppoints, loopfields, moments)\u001b[0m\n\u001b[0;32m   1265\u001b[0m     j \u001b[38;5;241m-\u001b[39m\u001b[38;5;241m=\u001b[39m \u001b[38;5;241m1\u001b[39m\n\u001b[0;32m   1267\u001b[0m xarr[\u001b[38;5;241m0\u001b[39m] \u001b[38;5;241m=\u001b[39m loopfields[j \u001b[38;5;241m-\u001b[39m \u001b[38;5;241m1\u001b[39m]\n\u001b[1;32m-> 1268\u001b[0m xarr[\u001b[38;5;241m1\u001b[39m] \u001b[38;5;241m=\u001b[39m \u001b[43mloopfields\u001b[49m\u001b[43m[\u001b[49m\u001b[43mj\u001b[49m\u001b[43m]\u001b[49m\n\u001b[0;32m   1269\u001b[0m yarr[\u001b[38;5;241m0\u001b[39m] \u001b[38;5;241m=\u001b[39m moments[j \u001b[38;5;241m-\u001b[39m \u001b[38;5;241m1\u001b[39m]\n\u001b[0;32m   1270\u001b[0m yarr[\u001b[38;5;241m1\u001b[39m] \u001b[38;5;241m=\u001b[39m moments[j]\n",
      "\u001b[1;31mIndexError\u001b[0m: index 502 is out of bounds for axis 0 with size 502"
     ]
    }
   ],
   "source": [
    "mrh, E_hys, Brh, Bih = rmag.loop_delta_M(n_looppoints, grid_fields, grid_moments)\n",
    "print('loop_delta_m first go')\n",
    "#print(\"mrh =\", mrh)\n",
    "print(\"E_hys =\", E_hys)\n",
    "print(\"Brh =\", Brh)\n",
    "print(\"Bih =\", Bih)\n",
    "\n",
    "plt.subplot(1,4,1)\n",
    "plt.plot(loop_fields, loop_moments)\n",
    "\n",
    "plt.subplot(1,4,2)\n",
    "plt.plot(grid_fields, grid_moments)\n",
    "\n",
    "xpoints = grid_fields[n_loop // 2:]\n",
    "apoints = grid_fields[n_loop // 2:]\n",
    "plt.subplot(1,4,3)\n",
    "ypoints = moment_sub\n",
    "plt.plot(xpoints, ypoints)\n",
    "\n",
    "plt.subplot(1,4,4)\n",
    "zpoints = mrh[:-1]\n",
    "plt.plot(apoints, zpoints)\n",
    "plt.show()"
   ]
  },
  {
   "cell_type": "code",
   "execution_count": null,
   "id": "00e00fa7",
   "metadata": {},
   "outputs": [],
   "source": []
  },
  {
   "cell_type": "code",
   "execution_count": null,
   "id": "9b00f054",
   "metadata": {},
   "outputs": [],
   "source": []
  }
 ],
 "metadata": {
  "kernelspec": {
   "display_name": "rockmagenv",
   "language": "python",
   "name": "rockmagenv"
  },
  "language_info": {
   "codemirror_mode": {
    "name": "ipython",
    "version": 3
   },
   "file_extension": ".py",
   "mimetype": "text/x-python",
   "name": "python",
   "nbconvert_exporter": "python",
   "pygments_lexer": "ipython3",
   "version": "3.10.14"
  }
 },
 "nbformat": 4,
 "nbformat_minor": 5
}
