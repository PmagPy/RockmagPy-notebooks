{
 "cells": [
  {
   "cell_type": "markdown",
   "metadata": {},
   "source": [
    "# MPMS rock magnetic experiments data analysis\n",
    "\n",
    "This notebook visualizes and analyzes data from low-temperature experiments conducted on an MPMS instrument and exported to MagIC format.\n",
    "\n",
    "In the following example, specimens from samples of diabase dikes from the East Central Minnesota batholith have undergone the following experiments:\n",
    "- **RTSIRM**: in this experiment, a pulsed field was applied at room temperature (300 K) with the specimen then being cycled down to 10 K (-263.15ºC) and back to room temperature.\n",
    "- **FC LTSIRM**: in this experiment, the specimens were cooled down to 10 K in the presence of a strong field and then warmed back up to room temperature.\n",
    "- **ZFC LTSIRM**: in this experiment, the specimens were cooled down in a zero-field environment, pulsed with a strong field at 10 K and then warmed back up to room temperature."
   ]
  },
  {
   "cell_type": "markdown",
   "metadata": {},
   "source": [
    "## Import scientific python libraries"
   ]
  },
  {
   "cell_type": "code",
   "execution_count": 1,
   "metadata": {},
   "outputs": [],
   "source": [
    "import rockmag as rmag\n",
    "import pmagpy.ipmag as ipmag\n",
    "import pmagpy.pmag as pmag\n",
    "import pandas as pd\n",
    "import numpy as np\n",
    "pd.set_option('display.max_columns', 500)\n",
    "\n",
    "import matplotlib.pyplot as plt\n",
    "%matplotlib inline\n",
    "%config InlineBackend.figure_format = 'retina'"
   ]
  },
  {
   "cell_type": "markdown",
   "metadata": {},
   "source": [
    "## Download and import data\n",
    "\n",
    "### Download and unpack data from MagIC\n",
    "\n",
    "*At the moment, the ipmag.download_magic/ipmag.unpack_magic code is having a hard time with the IRM export file (see error below). This issue needs to be worked out. For the moment, we will manually unpack and work with the measurements file.*"
   ]
  },
  {
   "cell_type": "code",
   "execution_count": 2,
   "metadata": {},
   "outputs": [
    {
     "name": "stdout",
     "output_type": "stream",
     "text": [
      "working on:  'specimens\\r'\n"
     ]
    },
    {
     "ename": "IndexError",
     "evalue": "string index out of range",
     "output_type": "error",
     "traceback": [
      "\u001b[0;31m---------------------------------------------------------------------------\u001b[0m",
      "\u001b[0;31mIndexError\u001b[0m                                Traceback (most recent call last)",
      "\u001b[0;32m/var/folders/57/lmgz7h4x11v34k53c6ldrlrw0000gn/T/ipykernel_28226/3310303074.py\u001b[0m in \u001b[0;36m<module>\u001b[0;34m\u001b[0m\n\u001b[0;32m----> 1\u001b[0;31m ipmag.download_magic('ECMB 2018.TXT', \n\u001b[0m\u001b[1;32m      2\u001b[0m                      \u001b[0mdir_path\u001b[0m \u001b[0;34m=\u001b[0m \u001b[0;34m'MPMS_data'\u001b[0m\u001b[0;34m,\u001b[0m\u001b[0;34m\u001b[0m\u001b[0;34m\u001b[0m\u001b[0m\n\u001b[1;32m      3\u001b[0m                      input_dir_path = 'MPMS_data')\n",
      "\u001b[0;32m~/0000_GitHub/PmagPy/pmagpy/ipmag.py\u001b[0m in \u001b[0;36mdownload_magic\u001b[0;34m(infile, dir_path, input_dir_path, overwrite, print_progress, data_model, separate_locs, txt, excel)\u001b[0m\n\u001b[1;32m   4744\u001b[0m             \u001b[0;32mcontinue\u001b[0m\u001b[0;34m\u001b[0m\u001b[0;34m\u001b[0m\u001b[0m\n\u001b[1;32m   4745\u001b[0m         \u001b[0mkeys\u001b[0m \u001b[0;34m=\u001b[0m \u001b[0mline\u001b[0m\u001b[0;34m.\u001b[0m\u001b[0mreplace\u001b[0m\u001b[0;34m(\u001b[0m\u001b[0;34m'\\n'\u001b[0m\u001b[0;34m,\u001b[0m \u001b[0;34m''\u001b[0m\u001b[0;34m)\u001b[0m\u001b[0;34m.\u001b[0m\u001b[0msplit\u001b[0m\u001b[0;34m(\u001b[0m\u001b[0;34m'\\t'\u001b[0m\u001b[0;34m)\u001b[0m\u001b[0;34m\u001b[0m\u001b[0;34m\u001b[0m\u001b[0m\n\u001b[0;32m-> 4746\u001b[0;31m         \u001b[0;32mif\u001b[0m \u001b[0mkeys\u001b[0m\u001b[0;34m[\u001b[0m\u001b[0;36m0\u001b[0m\u001b[0;34m]\u001b[0m\u001b[0;34m[\u001b[0m\u001b[0;36m0\u001b[0m\u001b[0;34m]\u001b[0m \u001b[0;34m==\u001b[0m \u001b[0;34m'.'\u001b[0m\u001b[0;34m:\u001b[0m\u001b[0;34m\u001b[0m\u001b[0;34m\u001b[0m\u001b[0m\n\u001b[0m\u001b[1;32m   4747\u001b[0m             \u001b[0mkeys\u001b[0m \u001b[0;34m=\u001b[0m \u001b[0mline\u001b[0m\u001b[0;34m.\u001b[0m\u001b[0mreplace\u001b[0m\u001b[0;34m(\u001b[0m\u001b[0;34m'\\n'\u001b[0m\u001b[0;34m,\u001b[0m \u001b[0;34m''\u001b[0m\u001b[0;34m)\u001b[0m\u001b[0;34m.\u001b[0m\u001b[0mreplace\u001b[0m\u001b[0;34m(\u001b[0m\u001b[0;34m'.'\u001b[0m\u001b[0;34m,\u001b[0m \u001b[0;34m''\u001b[0m\u001b[0;34m)\u001b[0m\u001b[0;34m.\u001b[0m\u001b[0msplit\u001b[0m\u001b[0;34m(\u001b[0m\u001b[0;34m'\\t'\u001b[0m\u001b[0;34m)\u001b[0m\u001b[0;34m\u001b[0m\u001b[0;34m\u001b[0m\u001b[0m\n\u001b[1;32m   4748\u001b[0m             \u001b[0mkeys\u001b[0m\u001b[0;34m.\u001b[0m\u001b[0mappend\u001b[0m\u001b[0;34m(\u001b[0m\u001b[0;34m'RecNo'\u001b[0m\u001b[0;34m)\u001b[0m  \u001b[0;31m# cludge for new MagIC download format\u001b[0m\u001b[0;34m\u001b[0m\u001b[0;34m\u001b[0m\u001b[0m\n",
      "\u001b[0;31mIndexError\u001b[0m: string index out of range"
     ]
    }
   ],
   "source": [
    "ipmag.download_magic('ECMB 2018.TXT', \n",
    "                     dir_path = 'MPMS_data',\n",
    "                     input_dir_path = 'MPMS_data')"
   ]
  },
  {
   "cell_type": "markdown",
   "metadata": {},
   "source": [
    "### Import the measurements table\n",
    "\n",
    "After unpacking the MagIC data, there is now a measurements table that we can import for analysis. "
   ]
  },
  {
   "cell_type": "code",
   "execution_count": 2,
   "metadata": {},
   "outputs": [
    {
     "data": {
      "text/html": [
       "<div>\n",
       "<style scoped>\n",
       "    .dataframe tbody tr th:only-of-type {\n",
       "        vertical-align: middle;\n",
       "    }\n",
       "\n",
       "    .dataframe tbody tr th {\n",
       "        vertical-align: top;\n",
       "    }\n",
       "\n",
       "    .dataframe thead th {\n",
       "        text-align: right;\n",
       "    }\n",
       "</style>\n",
       "<table border=\"1\" class=\"dataframe\">\n",
       "  <thead>\n",
       "    <tr style=\"text-align: right;\">\n",
       "      <th></th>\n",
       "      <th>Unnamed: 0</th>\n",
       "      <th>contribution_id</th>\n",
       "      <th>row_id</th>\n",
       "      <th>measurement</th>\n",
       "      <th>experiment</th>\n",
       "      <th>specimen</th>\n",
       "      <th>sequence</th>\n",
       "      <th>standard</th>\n",
       "      <th>quality</th>\n",
       "      <th>method_codes</th>\n",
       "      <th>instrument_codes</th>\n",
       "      <th>display_order</th>\n",
       "      <th>result_type</th>\n",
       "      <th>citations</th>\n",
       "      <th>treat_temp</th>\n",
       "      <th>treat_temp_decay_rate</th>\n",
       "      <th>treat_temp_dc_on</th>\n",
       "      <th>treat_temp_dc_off</th>\n",
       "      <th>treat_ac_field</th>\n",
       "      <th>treat_ac_field_decay_rate</th>\n",
       "      <th>treat_ac_field_dc_on</th>\n",
       "      <th>treat_ac_field_dc_off</th>\n",
       "      <th>treat_dc_field</th>\n",
       "      <th>treat_dc_field_decay_rate</th>\n",
       "      <th>treat_dc_field_ac_on</th>\n",
       "      <th>treat_dc_field_ac_off</th>\n",
       "      <th>treat_dc_field_theta</th>\n",
       "      <th>treat_dc_field_phi</th>\n",
       "      <th>treat_mw_power</th>\n",
       "      <th>treat_mw_time</th>\n",
       "      <th>treat_mw_integral</th>\n",
       "      <th>treat_mw_step</th>\n",
       "      <th>treat_step_num</th>\n",
       "      <th>meas_pos_x</th>\n",
       "      <th>meas_pos_y</th>\n",
       "      <th>meas_pos_z</th>\n",
       "      <th>meas_orient_theta</th>\n",
       "      <th>meas_orient_phi</th>\n",
       "      <th>meas_n_orient</th>\n",
       "      <th>meas_temp</th>\n",
       "      <th>meas_temp_change</th>\n",
       "      <th>meas_freq</th>\n",
       "      <th>meas_duration</th>\n",
       "      <th>meas_field_ac</th>\n",
       "      <th>meas_field_ac_theta</th>\n",
       "      <th>meas_field_ac_phi</th>\n",
       "      <th>meas_field_dc</th>\n",
       "      <th>meas_field_dc_theta</th>\n",
       "      <th>meas_field_dc_phi</th>\n",
       "      <th>inversion_height</th>\n",
       "      <th>inversion_residuals</th>\n",
       "      <th>magn_moment</th>\n",
       "      <th>magn_x</th>\n",
       "      <th>magn_x_sigma</th>\n",
       "      <th>magn_y</th>\n",
       "      <th>magn_y_sigma</th>\n",
       "      <th>magn_z</th>\n",
       "      <th>magn_z_sigma</th>\n",
       "      <th>magn_xyz_sigma</th>\n",
       "      <th>magn_induction</th>\n",
       "      <th>magn_b_x</th>\n",
       "      <th>magn_b_x_sigma</th>\n",
       "      <th>magn_b_y</th>\n",
       "      <th>magn_b_y_sigma</th>\n",
       "      <th>magn_b_z</th>\n",
       "      <th>magn_b_z_sigma</th>\n",
       "      <th>magn_b_111</th>\n",
       "      <th>magn_b_111_sigma</th>\n",
       "      <th>magn_b_xyz_sigma</th>\n",
       "      <th>magn_r2_det</th>\n",
       "      <th>dir_dec</th>\n",
       "      <th>dir_inc</th>\n",
       "      <th>dir_csd</th>\n",
       "      <th>magn_volume</th>\n",
       "      <th>magn_mass</th>\n",
       "      <th>magn_uncal</th>\n",
       "      <th>aniso_type</th>\n",
       "      <th>aniso_s</th>\n",
       "      <th>hyst_loop</th>\n",
       "      <th>hyst_sweep_rate</th>\n",
       "      <th>hyst_charging_mode</th>\n",
       "      <th>susc_chi_volume</th>\n",
       "      <th>susc_chi_mass</th>\n",
       "      <th>susc_chi_qdr_volume</th>\n",
       "      <th>susc_chi_qdr_mass</th>\n",
       "      <th>description</th>\n",
       "      <th>timestamp</th>\n",
       "      <th>software_packages</th>\n",
       "      <th>files</th>\n",
       "      <th>external_database_ids</th>\n",
       "      <th>derived_value</th>\n",
       "      <th>analysts</th>\n",
       "    </tr>\n",
       "  </thead>\n",
       "  <tbody>\n",
       "    <tr>\n",
       "      <th>0</th>\n",
       "      <td>NaN</td>\n",
       "      <td>NaN</td>\n",
       "      <td>NaN</td>\n",
       "      <td>NED1-5c-IRM-VSM3-LP-HYS-218845-1</td>\n",
       "      <td>IRM-VSM3-LP-HYS-218845</td>\n",
       "      <td>NED1-5c</td>\n",
       "      <td>NaN</td>\n",
       "      <td>u</td>\n",
       "      <td>g</td>\n",
       "      <td>LP-HYS:LP-HYS-M</td>\n",
       "      <td>IRM-VSM3</td>\n",
       "      <td>NaN</td>\n",
       "      <td>NaN</td>\n",
       "      <td>NaN</td>\n",
       "      <td>NaN</td>\n",
       "      <td>NaN</td>\n",
       "      <td>NaN</td>\n",
       "      <td>NaN</td>\n",
       "      <td>NaN</td>\n",
       "      <td>NaN</td>\n",
       "      <td>NaN</td>\n",
       "      <td>NaN</td>\n",
       "      <td>NaN</td>\n",
       "      <td>NaN</td>\n",
       "      <td>NaN</td>\n",
       "      <td>NaN</td>\n",
       "      <td>NaN</td>\n",
       "      <td>NaN</td>\n",
       "      <td>NaN</td>\n",
       "      <td>NaN</td>\n",
       "      <td>NaN</td>\n",
       "      <td>NaN</td>\n",
       "      <td>NaN</td>\n",
       "      <td>NaN</td>\n",
       "      <td>NaN</td>\n",
       "      <td>NaN</td>\n",
       "      <td>NaN</td>\n",
       "      <td>NaN</td>\n",
       "      <td>NaN</td>\n",
       "      <td>300.0</td>\n",
       "      <td>NaN</td>\n",
       "      <td>NaN</td>\n",
       "      <td>NaN</td>\n",
       "      <td>NaN</td>\n",
       "      <td>NaN</td>\n",
       "      <td>NaN</td>\n",
       "      <td>1.001</td>\n",
       "      <td>NaN</td>\n",
       "      <td>NaN</td>\n",
       "      <td>NaN</td>\n",
       "      <td>NaN</td>\n",
       "      <td>NaN</td>\n",
       "      <td>NaN</td>\n",
       "      <td>NaN</td>\n",
       "      <td>NaN</td>\n",
       "      <td>NaN</td>\n",
       "      <td>NaN</td>\n",
       "      <td>NaN</td>\n",
       "      <td>NaN</td>\n",
       "      <td>NaN</td>\n",
       "      <td>NaN</td>\n",
       "      <td>NaN</td>\n",
       "      <td>NaN</td>\n",
       "      <td>NaN</td>\n",
       "      <td>NaN</td>\n",
       "      <td>NaN</td>\n",
       "      <td>NaN</td>\n",
       "      <td>NaN</td>\n",
       "      <td>NaN</td>\n",
       "      <td>NaN</td>\n",
       "      <td>NaN</td>\n",
       "      <td>NaN</td>\n",
       "      <td>NaN</td>\n",
       "      <td>NaN</td>\n",
       "      <td>0.1988</td>\n",
       "      <td>NaN</td>\n",
       "      <td>NaN</td>\n",
       "      <td>NaN</td>\n",
       "      <td>NaN</td>\n",
       "      <td>NaN</td>\n",
       "      <td>NaN</td>\n",
       "      <td>NaN</td>\n",
       "      <td>NaN</td>\n",
       "      <td>NaN</td>\n",
       "      <td>NaN</td>\n",
       "      <td>NaN</td>\n",
       "      <td>2020:01:06:10:14:00.00</td>\n",
       "      <td>NaN</td>\n",
       "      <td>NaN</td>\n",
       "      <td>NaN</td>\n",
       "      <td>NaN</td>\n",
       "      <td>NaN</td>\n",
       "    </tr>\n",
       "  </tbody>\n",
       "</table>\n",
       "</div>"
      ],
      "text/plain": [
       "   Unnamed: 0  contribution_id  row_id                       measurement  \\\n",
       "0         NaN              NaN     NaN  NED1-5c-IRM-VSM3-LP-HYS-218845-1   \n",
       "\n",
       "               experiment specimen  sequence standard quality  \\\n",
       "0  IRM-VSM3-LP-HYS-218845  NED1-5c       NaN        u       g   \n",
       "\n",
       "      method_codes instrument_codes  display_order  result_type  citations  \\\n",
       "0  LP-HYS:LP-HYS-M         IRM-VSM3            NaN          NaN        NaN   \n",
       "\n",
       "   treat_temp  treat_temp_decay_rate  treat_temp_dc_on  treat_temp_dc_off  \\\n",
       "0         NaN                    NaN               NaN                NaN   \n",
       "\n",
       "   treat_ac_field  treat_ac_field_decay_rate  treat_ac_field_dc_on  \\\n",
       "0             NaN                        NaN                   NaN   \n",
       "\n",
       "   treat_ac_field_dc_off  treat_dc_field  treat_dc_field_decay_rate  \\\n",
       "0                    NaN             NaN                        NaN   \n",
       "\n",
       "   treat_dc_field_ac_on  treat_dc_field_ac_off  treat_dc_field_theta  \\\n",
       "0                   NaN                    NaN                   NaN   \n",
       "\n",
       "   treat_dc_field_phi  treat_mw_power  treat_mw_time  treat_mw_integral  \\\n",
       "0                 NaN             NaN            NaN                NaN   \n",
       "\n",
       "   treat_mw_step  treat_step_num  meas_pos_x  meas_pos_y  meas_pos_z  \\\n",
       "0            NaN             NaN         NaN         NaN         NaN   \n",
       "\n",
       "   meas_orient_theta  meas_orient_phi  meas_n_orient  meas_temp  \\\n",
       "0                NaN              NaN            NaN      300.0   \n",
       "\n",
       "   meas_temp_change  meas_freq  meas_duration  meas_field_ac  \\\n",
       "0               NaN        NaN            NaN            NaN   \n",
       "\n",
       "   meas_field_ac_theta  meas_field_ac_phi  meas_field_dc  meas_field_dc_theta  \\\n",
       "0                  NaN                NaN          1.001                  NaN   \n",
       "\n",
       "   meas_field_dc_phi  inversion_height  inversion_residuals  magn_moment  \\\n",
       "0                NaN               NaN                  NaN          NaN   \n",
       "\n",
       "   magn_x  magn_x_sigma  magn_y  magn_y_sigma  magn_z  magn_z_sigma  \\\n",
       "0     NaN           NaN     NaN           NaN     NaN           NaN   \n",
       "\n",
       "   magn_xyz_sigma  magn_induction  magn_b_x  magn_b_x_sigma  magn_b_y  \\\n",
       "0             NaN             NaN       NaN             NaN       NaN   \n",
       "\n",
       "   magn_b_y_sigma  magn_b_z  magn_b_z_sigma  magn_b_111  magn_b_111_sigma  \\\n",
       "0             NaN       NaN             NaN         NaN               NaN   \n",
       "\n",
       "   magn_b_xyz_sigma  magn_r2_det  dir_dec  dir_inc  dir_csd  magn_volume  \\\n",
       "0               NaN          NaN      NaN      NaN      NaN          NaN   \n",
       "\n",
       "   magn_mass  magn_uncal  aniso_type  aniso_s  hyst_loop  hyst_sweep_rate  \\\n",
       "0     0.1988         NaN         NaN      NaN        NaN              NaN   \n",
       "\n",
       "   hyst_charging_mode  susc_chi_volume  susc_chi_mass  susc_chi_qdr_volume  \\\n",
       "0                 NaN              NaN            NaN                  NaN   \n",
       "\n",
       "   susc_chi_qdr_mass  description               timestamp  software_packages  \\\n",
       "0                NaN          NaN  2020:01:06:10:14:00.00                NaN   \n",
       "\n",
       "   files  external_database_ids  derived_value  analysts  \n",
       "0    NaN                    NaN            NaN       NaN  "
      ]
     },
     "execution_count": 2,
     "metadata": {},
     "output_type": "execute_result"
    }
   ],
   "source": [
    "file = './MPMS_data/measurements.txt'\n",
    "measurements = pd.read_csv(file, sep='\\t', skiprows=1)\n",
    "measurements.head(1)"
   ]
  },
  {
   "cell_type": "markdown",
   "metadata": {},
   "source": [
    "### Get list of specimens and experiments\n",
    "\n",
    "Now that we have imported the measurement pairs, we can look at the different experimental methods that have been applied to different specimens. The method codes correspond to the controlled vocabularies in the MagIC database.\n",
    "\n",
    "| Method Code    | Definition |\n",
    "| -------------- | ---------- |\n",
    "| LP-BCR-BF      | Coercivity of remanence: Back field method | \n",
    "| LP-HYS:LP-HYS-M| Hysteresis loops |\n",
    "| LP-CW-SIRM:LP-MC| Cycling between cooling and warming: Room temperature SIRM; Measured while cooling |\n",
    "| LP-CW-SIRM:LP-MW| Cycling between cooling and warming: Room temperature SIRM; Measured while warming |\n",
    "| LP-FC          | Field cooled: Remanent magnetization measured on warming |\n",
    "| LP-ZFC         | Zero field cooled: Remanent magnetization measured on warming |\n"
   ]
  },
  {
   "cell_type": "code",
   "execution_count": 3,
   "metadata": {},
   "outputs": [
    {
     "data": {
      "text/html": [
       "<div>\n",
       "<style scoped>\n",
       "    .dataframe tbody tr th:only-of-type {\n",
       "        vertical-align: middle;\n",
       "    }\n",
       "\n",
       "    .dataframe tbody tr th {\n",
       "        vertical-align: top;\n",
       "    }\n",
       "\n",
       "    .dataframe thead th {\n",
       "        text-align: right;\n",
       "    }\n",
       "</style>\n",
       "<table border=\"1\" class=\"dataframe\">\n",
       "  <thead>\n",
       "    <tr style=\"text-align: right;\">\n",
       "      <th></th>\n",
       "      <th>specimen</th>\n",
       "      <th>method_codes</th>\n",
       "    </tr>\n",
       "  </thead>\n",
       "  <tbody>\n",
       "    <tr>\n",
       "      <th>0</th>\n",
       "      <td>NED1-5c</td>\n",
       "      <td>LP-BCR-BF</td>\n",
       "    </tr>\n",
       "    <tr>\n",
       "      <th>1</th>\n",
       "      <td>NED1-5c</td>\n",
       "      <td>LP-HYS:LP-HYS-M</td>\n",
       "    </tr>\n",
       "    <tr>\n",
       "      <th>2</th>\n",
       "      <td>NED18-2c</td>\n",
       "      <td>LP-BCR-BF</td>\n",
       "    </tr>\n",
       "    <tr>\n",
       "      <th>3</th>\n",
       "      <td>NED18-2c</td>\n",
       "      <td>LP-CW-SIRM:LP-MC</td>\n",
       "    </tr>\n",
       "    <tr>\n",
       "      <th>4</th>\n",
       "      <td>NED18-2c</td>\n",
       "      <td>LP-CW-SIRM:LP-MW</td>\n",
       "    </tr>\n",
       "    <tr>\n",
       "      <th>5</th>\n",
       "      <td>NED18-2c</td>\n",
       "      <td>LP-FC</td>\n",
       "    </tr>\n",
       "    <tr>\n",
       "      <th>6</th>\n",
       "      <td>NED18-2c</td>\n",
       "      <td>LP-HYS:LP-HYS-M</td>\n",
       "    </tr>\n",
       "    <tr>\n",
       "      <th>7</th>\n",
       "      <td>NED18-2c</td>\n",
       "      <td>LP-ZFC</td>\n",
       "    </tr>\n",
       "    <tr>\n",
       "      <th>8</th>\n",
       "      <td>NED2-8c</td>\n",
       "      <td>LP-BCR-BF</td>\n",
       "    </tr>\n",
       "    <tr>\n",
       "      <th>9</th>\n",
       "      <td>NED2-8c</td>\n",
       "      <td>LP-CW-SIRM:LP-MC</td>\n",
       "    </tr>\n",
       "    <tr>\n",
       "      <th>10</th>\n",
       "      <td>NED2-8c</td>\n",
       "      <td>LP-CW-SIRM:LP-MW</td>\n",
       "    </tr>\n",
       "    <tr>\n",
       "      <th>11</th>\n",
       "      <td>NED2-8c</td>\n",
       "      <td>LP-FC</td>\n",
       "    </tr>\n",
       "    <tr>\n",
       "      <th>12</th>\n",
       "      <td>NED2-8c</td>\n",
       "      <td>LP-HYS:LP-HYS-M</td>\n",
       "    </tr>\n",
       "    <tr>\n",
       "      <th>13</th>\n",
       "      <td>NED2-8c</td>\n",
       "      <td>LP-ZFC</td>\n",
       "    </tr>\n",
       "    <tr>\n",
       "      <th>14</th>\n",
       "      <td>NED4-1c</td>\n",
       "      <td>LP-CW-SIRM:LP-MC</td>\n",
       "    </tr>\n",
       "    <tr>\n",
       "      <th>15</th>\n",
       "      <td>NED4-1c</td>\n",
       "      <td>LP-CW-SIRM:LP-MW</td>\n",
       "    </tr>\n",
       "    <tr>\n",
       "      <th>16</th>\n",
       "      <td>NED4-1c</td>\n",
       "      <td>LP-FC</td>\n",
       "    </tr>\n",
       "    <tr>\n",
       "      <th>17</th>\n",
       "      <td>NED4-1c</td>\n",
       "      <td>LP-HYS:LP-HYS-M</td>\n",
       "    </tr>\n",
       "    <tr>\n",
       "      <th>18</th>\n",
       "      <td>NED4-1c</td>\n",
       "      <td>LP-ZFC</td>\n",
       "    </tr>\n",
       "    <tr>\n",
       "      <th>19</th>\n",
       "      <td>NED6-6c</td>\n",
       "      <td>LP-HYS:LP-HYS-M</td>\n",
       "    </tr>\n",
       "  </tbody>\n",
       "</table>\n",
       "</div>"
      ],
      "text/plain": [
       "    specimen      method_codes\n",
       "0    NED1-5c         LP-BCR-BF\n",
       "1    NED1-5c   LP-HYS:LP-HYS-M\n",
       "2   NED18-2c         LP-BCR-BF\n",
       "3   NED18-2c  LP-CW-SIRM:LP-MC\n",
       "4   NED18-2c  LP-CW-SIRM:LP-MW\n",
       "5   NED18-2c             LP-FC\n",
       "6   NED18-2c   LP-HYS:LP-HYS-M\n",
       "7   NED18-2c            LP-ZFC\n",
       "8    NED2-8c         LP-BCR-BF\n",
       "9    NED2-8c  LP-CW-SIRM:LP-MC\n",
       "10   NED2-8c  LP-CW-SIRM:LP-MW\n",
       "11   NED2-8c             LP-FC\n",
       "12   NED2-8c   LP-HYS:LP-HYS-M\n",
       "13   NED2-8c            LP-ZFC\n",
       "14   NED4-1c  LP-CW-SIRM:LP-MC\n",
       "15   NED4-1c  LP-CW-SIRM:LP-MW\n",
       "16   NED4-1c             LP-FC\n",
       "17   NED4-1c   LP-HYS:LP-HYS-M\n",
       "18   NED4-1c            LP-ZFC\n",
       "19   NED6-6c   LP-HYS:LP-HYS-M"
      ]
     },
     "execution_count": 3,
     "metadata": {},
     "output_type": "execute_result"
    }
   ],
   "source": [
    "experiments = measurements.groupby(['specimen', 'method_codes']).size().reset_index().iloc[:, :2]\n",
    "experiments"
   ]
  },
  {
   "cell_type": "markdown",
   "metadata": {},
   "source": [
    "### Extract MPMS data\n",
    "\n",
    "We can now extract the MPMS data for a specific specimen.\n",
    "\n",
    "First, we need to define the specimen for which we are extracting the data. To do this, we set `specimen_name` to be equal to a string (i.e. the specimen name within quotation marks).\n",
    "\n",
    "Then, we can apply the `rmag.extract_mpms_data` function to extract the data for that specimen."
   ]
  },
  {
   "cell_type": "code",
   "execution_count": 4,
   "metadata": {},
   "outputs": [],
   "source": [
    "specimen_name = 'NED4-1c'\n",
    "\n",
    "fc_data, zfc_data, rtsirm_cool_data, rtsirm_warm_data = rmag.extract_mpms_data(measurements, specimen_name)"
   ]
  },
  {
   "cell_type": "markdown",
   "metadata": {},
   "source": [
    "## Plot data\n",
    "\n",
    " We can now plot these data using the `rmag.plot_mpms_data()` function."
   ]
  },
  {
   "cell_type": "code",
   "execution_count": 5,
   "metadata": {},
   "outputs": [
    {
     "data": {
      "image/png": "[encoded data removed]",
      "text/plain": [
       "<Figure size 900x450 with 2 Axes>"
      ]
     },
     "metadata": {
      "image/png": {
       "height": 440,
       "width": 889
      }
     },
     "output_type": "display_data"
    }
   ],
   "source": [
    "rmag.plot_mpms_data(fc_data, zfc_data, rtsirm_cool_data, rtsirm_warm_data)"
   ]
  },
  {
   "cell_type": "markdown",
   "metadata": {},
   "source": [
    "### Plot the derivative\n",
    "\n",
    "By setting `plot_derivative=True`, the derivative of the experimental data will be calculated and plotted. "
   ]
  },
  {
   "cell_type": "code",
   "execution_count": 6,
   "metadata": {},
   "outputs": [
    {
     "data": {
      "image/png": "[encoded data removed]",
      "text/plain": [
       "<Figure size 900x450 with 2 Axes>"
      ]
     },
     "metadata": {
      "image/png": {
       "height": 440,
       "width": 889
      }
     },
     "output_type": "display_data"
    }
   ],
   "source": [
    "rmag.plot_mpms_data(fc_data, zfc_data, rtsirm_cool_data, rtsirm_warm_data, plot_derivative=True)"
   ]
  },
  {
   "cell_type": "markdown",
   "metadata": {},
   "source": [
    "### Make interactive plots\n",
    "\n",
    "Rather than the static plots made above (which are made using matplotlib), you may want to make interactive plots. This can be done by putting in the parameter `use_plotly=True` which generates plots using Plotly."
   ]
  },
  {
   "cell_type": "code",
   "execution_count": 7,
   "metadata": {},
   "outputs": [
    {
     "data": {
      "application/vnd.plotly.v1+json": {
       "config": {
        "plotlyServerURL": "https://plot.ly"
       },
       "data": [
        {
         "marker": {
          "color": "#1f77b4",
          "symbol": "circle"
         },
         "mode": "markers+lines",
         "name": "FC",
         "type": "scatter",
         "x": [
          9.993444,
          15.52808,
          20.45139,
          25.53432,
          30.48436,
          35.55673,
          40.5531,
          45.61046,
          50.5309,
          56.65334,
          60.57661,
          65.54152,
          70.62405,
          75.47702,
          80.52849,
          85.64301,
          90.48668,
          95.51427,
          100.6399,
          105.6259,
          110.4999,
          115.5145,
          120.6355,
          125.4697,
          130.5779,
          135.5832,
          140.5775,
          145.8856,
          150.479,
          155.4962,
          160.695,
          165.5963,
          170.4697,
          175.657,
          180.6149,
          185.5229,
          190.4504,
          195.5132,
          200.5206,
          205.5045,
          210.5502,
          215.5802,
          220.5948,
          225.5612,
          230.6011,
          235.5234,
          240.7021,
          245.6045,
          250.5749,
          255.4734,
          260.4015,
          265.5765,
          270.591,
          275.5123,
          280.5828,
          285.4443,
          290.5139,
          296.7784,
          300.027
         ],
         "xaxis": "x",
         "y": [
          0.0062280226042359,
          0.0045447278943869,
          0.0042547886788868,
          0.0040881057080444,
          0.0039629679931617,
          0.0038561520562256,
          0.0037732206287396,
          0.003705948333175,
          0.0036458391110266,
          0.0035793081014341,
          0.0035380791148257,
          0.0034876403267166,
          0.0034365519042644,
          0.0033880154810523,
          0.0033364303352645,
          0.0032873786684395,
          0.0032371697217209,
          0.0031835160034191,
          0.0031232676417513,
          0.0030557137429955,
          0.0029775505746034,
          0.0028545483901605,
          0.0026565101149207,
          0.0025469147117485,
          0.0024960713268116,
          0.0024579869883179,
          0.0024222419033146,
          0.00238773435274,
          0.0023534651913762,
          0.0023204501852027,
          0.002286871497768,
          0.002254697027258,
          0.0022225315794472,
          0.0021893498907778,
          0.0021581171051381,
          0.0021271212840725,
          0.0020926275049862,
          0.002060009972457,
          0.0020292743850318,
          0.001997593313705,
          0.0019675040364707,
          0.0019372665970177,
          0.0019070125368031,
          0.0018770567005413,
          0.001847209611549,
          0.0018161686769873,
          0.00178649301928,
          0.0017584238769113,
          0.0017291001044733,
          0.0017015946433659,
          0.0016711634533194,
          0.0016393024028872,
          0.0016110456833507,
          0.0015823772438028,
          0.0015543038275239,
          0.0015233621426536,
          0.0014944154240668,
          0.0014630102573843,
          0.0014149368411055
         ],
         "yaxis": "y"
        },
        {
         "marker": {
          "color": "#ff7f0e",
          "symbol": "circle"
         },
         "mode": "markers+lines",
         "name": "ZFC",
         "type": "scatter",
         "x": [
          9.997728,
          15.47616,
          20.60415,
          25.63534,
          30.51311,
          35.54745,
          41.63927,
          45.52538,
          50.52353,
          55.58108,
          60.50237,
          65.49533,
          70.6203,
          75.43393,
          80.493,
          85.60182,
          90.52661,
          95.48183,
          100.5665,
          105.5524,
          110.6582,
          115.6642,
          120.6606,
          125.5465,
          130.6533,
          135.4807,
          140.4564,
          145.5859,
          150.4883,
          155.6387,
          160.4478,
          165.5448,
          170.478,
          175.666,
          180.489,
          185.501,
          190.6062,
          195.5736,
          200.6543,
          205.9735,
          210.5087,
          215.5198,
          220.4994,
          225.5462,
          230.5163,
          235.5558,
          240.511,
          245.5202,
          250.524,
          255.4976,
          260.5021,
          265.5396,
          270.4983,
          275.5807,
          280.3991,
          285.4381,
          290.5779,
          296.9525,
          300.027
         ],
         "xaxis": "x",
         "y": [
          0.0051765742235729,
          0.0033266753727799,
          0.0031397649349415,
          0.0030511663025928,
          0.0029831057080444,
          0.0029222376294045,
          0.0028695293950042,
          0.0028438607655048,
          0.0028136389970557,
          0.0027855855256909,
          0.0027601975496248,
          0.0027335644410675,
          0.0027074052616582,
          0.002681069427296,
          0.0026542981289771,
          0.0026286988317978,
          0.0026016212365846,
          0.0025733474214075,
          0.002541543831323,
          0.0025080396998765,
          0.002465201348656,
          0.0023994638617152,
          0.0022833773387786,
          0.0022065348086238,
          0.0021712854971982,
          0.0021489699876531,
          0.0021275068857441,
          0.0021066625510494,
          0.0020850489125273,
          0.0020638607655048,
          0.0020425619716972,
          0.0020215647259948,
          0.0020006980719916,
          0.0019784158039699,
          0.0019580387501187,
          0.0019365656757526,
          0.0019133915851457,
          0.0018924247316934,
          0.0018714265362332,
          0.0018491803590084,
          0.0018286119289581,
          0.0018061420837686,
          0.0017835430715167,
          0.0017615390825339,
          0.0017396386171526,
          0.0017167409060689,
          0.0016942017285592,
          0.0016727576218064,
          0.0016517632253775,
          0.001630267356824,
          0.0016076702440877,
          0.0015832125557982,
          0.0015604824769683,
          0.0015373924399278,
          0.0015149857536328,
          0.0014910528065343,
          0.0014674945388925,
          0.0014430078829898,
          0.0014079523221578
         ],
         "yaxis": "y"
        },
        {
         "marker": {
          "color": "#2ca02c",
          "symbol": "circle"
         },
         "mode": "markers+lines",
         "name": "RTSIRM cooling",
         "type": "scatter",
         "x": [
          300.0064,
          294.556,
          289.3453,
          284.3994,
          279.336,
          274.2528,
          269.3586,
          264.3058,
          259.4528,
          254.4384,
          249.4492,
          244.4167,
          239.4675,
          234.4543,
          229.3917,
          224.501,
          219.402,
          214.48,
          209.5122,
          204.4854,
          199.4318,
          194.3875,
          189.4812,
          184.4202,
          179.5168,
          174.4359,
          169.4113,
          164.461,
          159.478,
          154.4416,
          149.4083,
          144.4035,
          139.3689,
          134.391,
          129.322,
          124.3591,
          119.448,
          114.3504,
          109.4485,
          104.4307,
          99.32497,
          94.45539,
          89.27872,
          84.28921,
          79.3783,
          74.3131,
          69.33739,
          64.32932,
          59.22739,
          54.16668,
          49.26535,
          44.21569,
          39.22641,
          34.28947,
          29.30019,
          24.10604,
          19.03899,
          14.17306,
          10.03531
         ],
         "xaxis": "x2",
         "y": [
          0.0016788868838446,
          0.0016937206762275,
          0.0017124826669199,
          0.0017306985468705,
          0.0017495403172191,
          0.0017667333080064,
          0.0017830525216069,
          0.0017997340678127,
          0.0018150636337733,
          0.0018298404406876,
          0.0018444866559027,
          0.001858284262513,
          0.0018717333080064,
          0.001885322442777,
          0.0018999924019375,
          0.0019125885649159,
          0.0019258362617532,
          0.0019382082818881,
          0.0019508281888118,
          0.0019621550004748,
          0.0019736883844619,
          0.0019840792098015,
          0.0019941746604615,
          0.0020042003039225,
          0.0020129637192515,
          0.0020219451039984,
          0.0020299539367461,
          0.0020387292240478,
          0.0020450394149491,
          0.0020544458163168,
          0.0020609345616867,
          0.0020664027922879,
          0.0020697810808243,
          0.0020734101054231,
          0.0020765528540222,
          0.0020723482761895,
          0.0020578877386266,
          0.0020387957070946,
          0.0020346443156995,
          0.0020373121853927,
          0.0020426664450565,
          0.0020494814322347,
          0.0020570510019944,
          0.0020638640896571,
          0.0020711758001709,
          0.0020791931807389,
          0.002087149301928,
          0.0020938788109032,
          0.0020991020039889,
          0.0021027514483806,
          0.0021113595783075,
          0.0021127319783455,
          0.0021156543831323,
          0.0021110129167062,
          0.0020998404406876,
          0.0020993190236489,
          0.0021066212365846,
          0.0021189030297274,
          0.002134268211606
         ],
         "yaxis": "y2"
        },
        {
         "marker": {
          "color": "#d62728",
          "symbol": "circle"
         },
         "mode": "markers+lines",
         "name": "RTSIRM warming",
         "type": "scatter",
         "x": [
          10.00177,
          15.55578,
          20.4992,
          25.6255,
          30.58297,
          35.46664,
          40.54918,
          45.56458,
          50.48057,
          55.65141,
          60.6192,
          65.54671,
          70.54596,
          75.55618,
          80.62691,
          85.64963,
          90.50684,
          95.50174,
          100.5923,
          105.5202,
          110.5936,
          115.645,
          120.5266,
          125.5758,
          130.6752,
          135.486,
          140.4252,
          145.6526,
          150.5665,
          155.5692,
          160.6284,
          165.5686,
          170.5941,
          175.5446,
          180.5631,
          185.5354,
          190.5594,
          195.5626,
          200.4948,
          205.5535,
          210.5695,
          215.5436,
          220.6511,
          225.6317,
          230.377,
          235.5398,
          240.4771,
          245.5731,
          251.2651,
          255.4973,
          260.5674,
          265.5607,
          270.5474,
          275.5237,
          280.6299,
          285.5181,
          290.5842,
          295.619,
          300.0338
         ],
         "xaxis": "x2",
         "y": [
          0.0021354677557222,
          0.0021148404406876,
          0.0021054672808433,
          0.0020971412289866,
          0.0020993484661411,
          0.002111467850698,
          0.0021109288631399,
          0.0021067703485611,
          0.0021027766169626,
          0.0020967499287681,
          0.0020908657042454,
          0.0020844040269731,
          0.0020759896476398,
          0.0020685687149776,
          0.0020610133915851,
          0.0020523449520372,
          0.0020443052521607,
          0.0020357678791908,
          0.0020280691423687,
          0.0020210466331085,
          0.0020158799506125,
          0.0020127234305252,
          0.00201730031342,
          0.002021619337069,
          0.0020143508405356,
          0.0020072575743185,
          0.0019982614683255,
          0.0019901244182733,
          0.0019800964004178,
          0.0019703404881755,
          0.0019596656852502,
          0.0019483915851457,
          0.0019373278563966,
          0.001925352835027,
          0.0019135406971222,
          0.0019018031152056,
          0.001888062494064,
          0.0018745445911292,
          0.0018624964384082,
          0.0018491029537467,
          0.0018356330135815,
          0.0018225149586855,
          0.0018082852122708,
          0.0017950417893437,
          0.0017799567860195,
          0.0017643631873872,
          0.001749262987938,
          0.0017344686105043,
          0.001718476113591,
          0.0017041390445436,
          0.0016869270586,
          0.0016708101434134,
          0.0016541186247506,
          0.0016371782695412,
          0.0016195213220628,
          0.0016019588754867,
          0.0015839324722195,
          0.0015657199164213,
          0.0015343280463481
         ],
         "yaxis": "y2"
        }
       ],
       "layout": {
        "annotations": [
         {
          "font": {
           "size": 16
          },
          "showarrow": false,
          "text": "FC and ZFC Data",
          "x": 0.225,
          "xanchor": "center",
          "xref": "paper",
          "y": 1,
          "yanchor": "bottom",
          "yref": "paper"
         },
         {
          "font": {
           "size": 16
          },
          "showarrow": false,
          "text": "RTSIRM Cooling and Warming Data",
          "x": 0.775,
          "xanchor": "center",
          "xref": "paper",
          "y": 1,
          "yanchor": "bottom",
          "yref": "paper"
         }
        ],
        "template": {
         "data": {
          "bar": [
           {
            "error_x": {
             "color": "#2a3f5f"
            },
            "error_y": {
             "color": "#2a3f5f"
            },
            "marker": {
             "line": {
              "color": "#E5ECF6",
              "width": 0.5
             },
             "pattern": {
              "fillmode": "overlay",
              "size": 10,
              "solidity": 0.2
             }
            },
            "type": "bar"
           }
          ],
          "barpolar": [
           {
            "marker": {
             "line": {
              "color": "#E5ECF6",
              "width": 0.5
             },
             "pattern": {
              "fillmode": "overlay",
              "size": 10,
              "solidity": 0.2
             }
            },
            "type": "barpolar"
           }
          ],
          "carpet": [
           {
            "aaxis": {
             "endlinecolor": "#2a3f5f",
             "gridcolor": "white",
             "linecolor": "white",
             "minorgridcolor": "white",
             "startlinecolor": "#2a3f5f"
            },
            "baxis": {
             "endlinecolor": "#2a3f5f",
             "gridcolor": "white",
             "linecolor": "white",
             "minorgridcolor": "white",
             "startlinecolor": "#2a3f5f"
            },
            "type": "carpet"
           }
          ],
          "choropleth": [
           {
            "colorbar": {
             "outlinewidth": 0,
             "ticks": ""
            },
            "type": "choropleth"
           }
          ],
          "contour": [
           {
            "colorbar": {
             "outlinewidth": 0,
             "ticks": ""
            },
            "colorscale": [
             [
              0,
              "#0d0887"
             ],
             [
              0.1111111111111111,
              "#46039f"
             ],
             [
              0.2222222222222222,
              "#7201a8"
             ],
             [
              0.3333333333333333,
              "#9c179e"
             ],
             [
              0.4444444444444444,
              "#bd3786"
             ],
             [
              0.5555555555555556,
              "#d8576b"
             ],
             [
              0.6666666666666666,
              "#ed7953"
             ],
             [
              0.7777777777777778,
              "#fb9f3a"
             ],
             [
              0.8888888888888888,
              "#fdca26"
             ],
             [
              1,
              "#f0f921"
             ]
            ],
            "type": "contour"
           }
          ],
          "contourcarpet": [
           {
            "colorbar": {
             "outlinewidth": 0,
             "ticks": ""
            },
            "type": "contourcarpet"
           }
          ],
          "heatmap": [
           {
            "colorbar": {
             "outlinewidth": 0,
             "ticks": ""
            },
            "colorscale": [
             [
              0,
              "#0d0887"
             ],
             [
              0.1111111111111111,
              "#46039f"
             ],
             [
              0.2222222222222222,
              "#7201a8"
             ],
             [
              0.3333333333333333,
              "#9c179e"
             ],
             [
              0.4444444444444444,
              "#bd3786"
             ],
             [
              0.5555555555555556,
              "#d8576b"
             ],
             [
              0.6666666666666666,
              "#ed7953"
             ],
             [
              0.7777777777777778,
              "#fb9f3a"
             ],
             [
              0.8888888888888888,
              "#fdca26"
             ],
             [
              1,
              "#f0f921"
             ]
            ],
            "type": "heatmap"
           }
          ],
          "heatmapgl": [
           {
            "colorbar": {
             "outlinewidth": 0,
             "ticks": ""
            },
            "colorscale": [
             [
              0,
              "#0d0887"
             ],
             [
              0.1111111111111111,
              "#46039f"
             ],
             [
              0.2222222222222222,
              "#7201a8"
             ],
             [
              0.3333333333333333,
              "#9c179e"
             ],
             [
              0.4444444444444444,
              "#bd3786"
             ],
             [
              0.5555555555555556,
              "#d8576b"
             ],
             [
              0.6666666666666666,
              "#ed7953"
             ],
             [
              0.7777777777777778,
              "#fb9f3a"
             ],
             [
              0.8888888888888888,
              "#fdca26"
             ],
             [
              1,
              "#f0f921"
             ]
            ],
            "type": "heatmapgl"
           }
          ],
          "histogram": [
           {
            "marker": {
             "pattern": {
              "fillmode": "overlay",
              "size": 10,
              "solidity": 0.2
             }
            },
            "type": "histogram"
           }
          ],
          "histogram2d": [
           {
            "colorbar": {
             "outlinewidth": 0,
             "ticks": ""
            },
            "colorscale": [
             [
              0,
              "#0d0887"
             ],
             [
              0.1111111111111111,
              "#46039f"
             ],
             [
              0.2222222222222222,
              "#7201a8"
             ],
             [
              0.3333333333333333,
              "#9c179e"
             ],
             [
              0.4444444444444444,
              "#bd3786"
             ],
             [
              0.5555555555555556,
              "#d8576b"
             ],
             [
              0.6666666666666666,
              "#ed7953"
             ],
             [
              0.7777777777777778,
              "#fb9f3a"
             ],
             [
              0.8888888888888888,
              "#fdca26"
             ],
             [
              1,
              "#f0f921"
             ]
            ],
            "type": "histogram2d"
           }
          ],
          "histogram2dcontour": [
           {
            "colorbar": {
             "outlinewidth": 0,
             "ticks": ""
            },
            "colorscale": [
             [
              0,
              "#0d0887"
             ],
             [
              0.1111111111111111,
              "#46039f"
             ],
             [
              0.2222222222222222,
              "#7201a8"
             ],
             [
              0.3333333333333333,
              "#9c179e"
             ],
             [
              0.4444444444444444,
              "#bd3786"
             ],
             [
              0.5555555555555556,
              "#d8576b"
             ],
             [
              0.6666666666666666,
              "#ed7953"
             ],
             [
              0.7777777777777778,
              "#fb9f3a"
             ],
             [
              0.8888888888888888,
              "#fdca26"
             ],
             [
              1,
              "#f0f921"
             ]
            ],
            "type": "histogram2dcontour"
           }
          ],
          "mesh3d": [
           {
            "colorbar": {
             "outlinewidth": 0,
             "ticks": ""
            },
            "type": "mesh3d"
           }
          ],
          "parcoords": [
           {
            "line": {
             "colorbar": {
              "outlinewidth": 0,
              "ticks": ""
             }
            },
            "type": "parcoords"
           }
          ],
          "pie": [
           {
            "automargin": true,
            "type": "pie"
           }
          ],
          "scatter": [
           {
            "fillpattern": {
             "fillmode": "overlay",
             "size": 10,
             "solidity": 0.2
            },
            "type": "scatter"
           }
          ],
          "scatter3d": [
           {
            "line": {
             "colorbar": {
              "outlinewidth": 0,
              "ticks": ""
             }
            },
            "marker": {
             "colorbar": {
              "outlinewidth": 0,
              "ticks": ""
             }
            },
            "type": "scatter3d"
           }
          ],
          "scattercarpet": [
           {
            "marker": {
             "colorbar": {
              "outlinewidth": 0,
              "ticks": ""
             }
            },
            "type": "scattercarpet"
           }
          ],
          "scattergeo": [
           {
            "marker": {
             "colorbar": {
              "outlinewidth": 0,
              "ticks": ""
             }
            },
            "type": "scattergeo"
           }
          ],
          "scattergl": [
           {
            "marker": {
             "colorbar": {
              "outlinewidth": 0,
              "ticks": ""
             }
            },
            "type": "scattergl"
           }
          ],
          "scattermapbox": [
           {
            "marker": {
             "colorbar": {
              "outlinewidth": 0,
              "ticks": ""
             }
            },
            "type": "scattermapbox"
           }
          ],
          "scatterpolar": [
           {
            "marker": {
             "colorbar": {
              "outlinewidth": 0,
              "ticks": ""
             }
            },
            "type": "scatterpolar"
           }
          ],
          "scatterpolargl": [
           {
            "marker": {
             "colorbar": {
              "outlinewidth": 0,
              "ticks": ""
             }
            },
            "type": "scatterpolargl"
           }
          ],
          "scatterternary": [
           {
            "marker": {
             "colorbar": {
              "outlinewidth": 0,
              "ticks": ""
             }
            },
            "type": "scatterternary"
           }
          ],
          "surface": [
           {
            "colorbar": {
             "outlinewidth": 0,
             "ticks": ""
            },
            "colorscale": [
             [
              0,
              "#0d0887"
             ],
             [
              0.1111111111111111,
              "#46039f"
             ],
             [
              0.2222222222222222,
              "#7201a8"
             ],
             [
              0.3333333333333333,
              "#9c179e"
             ],
             [
              0.4444444444444444,
              "#bd3786"
             ],
             [
              0.5555555555555556,
              "#d8576b"
             ],
             [
              0.6666666666666666,
              "#ed7953"
             ],
             [
              0.7777777777777778,
              "#fb9f3a"
             ],
             [
              0.8888888888888888,
              "#fdca26"
             ],
             [
              1,
              "#f0f921"
             ]
            ],
            "type": "surface"
           }
          ],
          "table": [
           {
            "cells": {
             "fill": {
              "color": "#EBF0F8"
             },
             "line": {
              "color": "white"
             }
            },
            "header": {
             "fill": {
              "color": "#C8D4E3"
             },
             "line": {
              "color": "white"
             }
            },
            "type": "table"
           }
          ]
         },
         "layout": {
          "annotationdefaults": {
           "arrowcolor": "#2a3f5f",
           "arrowhead": 0,
           "arrowwidth": 1
          },
          "autotypenumbers": "strict",
          "coloraxis": {
           "colorbar": {
            "outlinewidth": 0,
            "ticks": ""
           }
          },
          "colorscale": {
           "diverging": [
            [
             0,
             "#8e0152"
            ],
            [
             0.1,
             "#c51b7d"
            ],
            [
             0.2,
             "#de77ae"
            ],
            [
             0.3,
             "#f1b6da"
            ],
            [
             0.4,
             "#fde0ef"
            ],
            [
             0.5,
             "#f7f7f7"
            ],
            [
             0.6,
             "#e6f5d0"
            ],
            [
             0.7,
             "#b8e186"
            ],
            [
             0.8,
             "#7fbc41"
            ],
            [
             0.9,
             "#4d9221"
            ],
            [
             1,
             "#276419"
            ]
           ],
           "sequential": [
            [
             0,
             "#0d0887"
            ],
            [
             0.1111111111111111,
             "#46039f"
            ],
            [
             0.2222222222222222,
             "#7201a8"
            ],
            [
             0.3333333333333333,
             "#9c179e"
            ],
            [
             0.4444444444444444,
             "#bd3786"
            ],
            [
             0.5555555555555556,
             "#d8576b"
            ],
            [
             0.6666666666666666,
             "#ed7953"
            ],
            [
             0.7777777777777778,
             "#fb9f3a"
            ],
            [
             0.8888888888888888,
             "#fdca26"
            ],
            [
             1,
             "#f0f921"
            ]
           ],
           "sequentialminus": [
            [
             0,
             "#0d0887"
            ],
            [
             0.1111111111111111,
             "#46039f"
            ],
            [
             0.2222222222222222,
             "#7201a8"
            ],
            [
             0.3333333333333333,
             "#9c179e"
            ],
            [
             0.4444444444444444,
             "#bd3786"
            ],
            [
             0.5555555555555556,
             "#d8576b"
            ],
            [
             0.6666666666666666,
             "#ed7953"
            ],
            [
             0.7777777777777778,
             "#fb9f3a"
            ],
            [
             0.8888888888888888,
             "#fdca26"
            ],
            [
             1,
             "#f0f921"
            ]
           ]
          },
          "colorway": [
           "#636efa",
           "#EF553B",
           "#00cc96",
           "#ab63fa",
           "#FFA15A",
           "#19d3f3",
           "#FF6692",
           "#B6E880",
           "#FF97FF",
           "#FECB52"
          ],
          "font": {
           "color": "#2a3f5f"
          },
          "geo": {
           "bgcolor": "white",
           "lakecolor": "white",
           "landcolor": "#E5ECF6",
           "showlakes": true,
           "showland": true,
           "subunitcolor": "white"
          },
          "hoverlabel": {
           "align": "left"
          },
          "hovermode": "closest",
          "mapbox": {
           "style": "light"
          },
          "paper_bgcolor": "white",
          "plot_bgcolor": "#E5ECF6",
          "polar": {
           "angularaxis": {
            "gridcolor": "white",
            "linecolor": "white",
            "ticks": ""
           },
           "bgcolor": "#E5ECF6",
           "radialaxis": {
            "gridcolor": "white",
            "linecolor": "white",
            "ticks": ""
           }
          },
          "scene": {
           "xaxis": {
            "backgroundcolor": "#E5ECF6",
            "gridcolor": "white",
            "gridwidth": 2,
            "linecolor": "white",
            "showbackground": true,
            "ticks": "",
            "zerolinecolor": "white"
           },
           "yaxis": {
            "backgroundcolor": "#E5ECF6",
            "gridcolor": "white",
            "gridwidth": 2,
            "linecolor": "white",
            "showbackground": true,
            "ticks": "",
            "zerolinecolor": "white"
           },
           "zaxis": {
            "backgroundcolor": "#E5ECF6",
            "gridcolor": "white",
            "gridwidth": 2,
            "linecolor": "white",
            "showbackground": true,
            "ticks": "",
            "zerolinecolor": "white"
           }
          },
          "shapedefaults": {
           "line": {
            "color": "#2a3f5f"
           }
          },
          "ternary": {
           "aaxis": {
            "gridcolor": "white",
            "linecolor": "white",
            "ticks": ""
           },
           "baxis": {
            "gridcolor": "white",
            "linecolor": "white",
            "ticks": ""
           },
           "bgcolor": "#E5ECF6",
           "caxis": {
            "gridcolor": "white",
            "linecolor": "white",
            "ticks": ""
           }
          },
          "title": {
           "x": 0.05
          },
          "xaxis": {
           "automargin": true,
           "gridcolor": "white",
           "linecolor": "white",
           "ticks": "",
           "title": {
            "standoff": 15
           },
           "zerolinecolor": "white",
           "zerolinewidth": 2
          },
          "yaxis": {
           "automargin": true,
           "gridcolor": "white",
           "linecolor": "white",
           "ticks": "",
           "title": {
            "standoff": 15
           },
           "zerolinecolor": "white",
           "zerolinewidth": 2
          }
         }
        },
        "title": {
         "text": "MPMS Data"
        },
        "xaxis": {
         "anchor": "y",
         "domain": [
          0,
          0.45
         ],
         "title": {
          "text": "T (K)"
         }
        },
        "xaxis2": {
         "anchor": "y2",
         "domain": [
          0.55,
          1
         ],
         "title": {
          "text": "T (K)"
         }
        },
        "yaxis": {
         "anchor": "x",
         "domain": [
          0,
          1
         ],
         "title": {
          "text": "M (Am2/kg)"
         }
        },
        "yaxis2": {
         "anchor": "x2",
         "domain": [
          0,
          1
         ],
         "title": {
          "text": "M (Am2/kg)"
         }
        }
       }
      }
     },
     "metadata": {},
     "output_type": "display_data"
    }
   ],
   "source": [
    "rmag.plot_mpms_data(fc_data, zfc_data, rtsirm_cool_data, rtsirm_warm_data, use_plotly=True)"
   ]
  },
  {
   "cell_type": "code",
   "execution_count": 9,
   "metadata": {},
   "outputs": [
    {
     "data": {
      "application/vnd.plotly.v1+json": {
       "config": {
        "plotlyServerURL": "https://plot.ly"
       },
       "data": [
        {
         "marker": {
          "color": "#1f77b4",
          "symbol": "circle"
         },
         "mode": "markers+lines",
         "name": "FC Derivative",
         "type": "scatter",
         "x": [
          12.747282,
          18.03858,
          23.0872,
          28.109225000000002,
          33.080585,
          38.035205,
          43.03924,
          48.041055,
          53.017295000000004,
          57.983705,
          63.01479,
          68.09385,
          73.05748,
          78.086855,
          83.108755,
          87.989085,
          93.00492,
          98.111885,
          103.06569999999999,
          108.0264,
          113.0941,
          118.00710000000001,
          122.97485,
          128.6285,
          133.6532,
          138.12765000000002,
          143.09519999999998,
          148.0005,
          153.01695,
          158.1465,
          163.1528,
          168.05829999999997,
          173.1594,
          178.1394,
          183.03235,
          188.0609,
          193.0267,
          198.0161,
          203.0156,
          207.97685,
          213.01715000000002,
          218.1071,
          223.09355,
          228.0797,
          233.0682,
          237.98965,
          242.9903,
          248.0359,
          252.99099999999999,
          257.951,
          262.9981,
          268.00265,
          273.03999999999996,
          278.78565,
          283.73974999999996,
          287.9683,
          292.9952,
          297.79295
         ],
         "xaxis": "x",
         "y": [
          -0.00024044604920249994,
          -0.00022592497279732274,
          -0.0001732827723624071,
          -0.00015338492343598508,
          -0.00016159163998607533,
          -0.000149272967380926,
          -0.00011386045074757372,
          -0.00007287376355502824,
          -0.00006195857939574592,
          -0.00006056576839005054,
          -0.000059716007238545506,
          -0.000058001244740212155,
          -0.00006056893273169525,
          -0.000055031073964369584,
          -0.00006564369599395102,
          -0.00006663801113578561,
          -0.00006451963881837359,
          -0.00007165676255838556,
          -0.00007785100550789186,
          -0.00008057777328792444,
          -0.00008433060626045895,
          -0.00008464189198096627,
          -0.00006280102014024953,
          -0.000050210992660247216,
          -0.00004297511317470595,
          -0.00003871932683605311,
          -0.000037662013030326736,
          -0.00003292366143440003,
          -0.000028508261090071257,
          -0.000022410205996286144,
          -0.000018418418826236874,
          -0.00001369065215673689,
          -0.000009862821997325168,
          -0.000008327773031189164,
          -0.000006809699825925458,
          -0.000006265800437224799,
          -0.000005733563456590439,
          -0.000005263862557549014,
          -0.0000048485848908489105,
          -0.000004646567767930049,
          -0.000004385672588397586,
          -0.000004266842629894208,
          -0.000004218700688158639,
          -0.0000038095876198042175,
          -0.000003851037980347797,
          -0.0000036788122096502998,
          -0.0000036431531193774277,
          -0.0000033113251737415533,
          -0.0000034918771391833345,
          -0.000003470115038392747,
          -0.000003185977288640831,
          -0.000003360757905298095,
          -0.0000030463190885209225,
          -0.000002352138778572217,
          -0.000003312098348060333,
          -0.0000033324210713675364,
          -0.0000034455517184314782,
          -0.000005419479667085708
         ],
         "yaxis": "y"
        },
        {
         "marker": {
          "color": "#ff7f0e",
          "symbol": "circle"
         },
         "mode": "markers+lines",
         "name": "ZFC Derivative",
         "type": "scatter",
         "x": [
          12.7657425,
          18.082684999999998,
          23.12419,
          28.039405000000002,
          33.514675,
          38.567170000000004,
          43.072465,
          48.06376,
          53.046365,
          58.030965,
          63.03372,
          68.08376,
          73.070525,
          78.01512500000001,
          82.99498,
          88.00172,
          93.016685,
          98.019165,
          103.06075,
          108.04589999999999,
          113.10925,
          118.10024999999999,
          123.45955000000001,
          128.4908,
          133.0717,
          138.0837,
          143.087,
          148.038,
          152.9847,
          158.01415,
          163.0762,
          168.1125,
          173.0892,
          178.07825000000003,
          183.0772,
          188.10585,
          193.0455,
          197.9984,
          203.08395000000002,
          208.06099999999998,
          212.99475,
          218.02435,
          223.05845,
          228.05385,
          233.07999999999998,
          238.04665,
          243.02975,
          248.0808,
          253.00005,
          257.96605,
          263.04409999999996,
          268.0288,
          273.0059,
          278.0384,
          283.0113,
          288.0071,
          293.06595,
          297.813
         ],
         "xaxis": "x",
         "y": [
          -0.00018661853717655356,
          -0.00014605602778629368,
          -0.00009322037122165833,
          -0.00007547195559606207,
          -0.00008140801824585615,
          -0.00009285496016296444,
          -0.0000791801847376274,
          -0.00004511705815725723,
          -0.00003738833176912003,
          -0.00003620644167140178,
          -0.000033652700530473815,
          -0.000031219821317407626,
          -0.000029770254841293553,
          -0.00003126718389615943,
          -0.00003301658929854055,
          -0.000035645134857607044,
          -0.00003859766199214312,
          -0.000043270831422244166,
          -0.000045093001100714846,
          -0.000049637785171769574,
          -0.000049947710384822704,
          -0.00005507743578291449,
          -0.00004030790067675477,
          -0.000028556788121804674,
          -0.000025858405274023747,
          -0.00002425865611846984,
          -0.00002308817298588838,
          -0.000021747123723450346,
          -0.00002049096275366779,
          -0.00001809002184729503,
          -0.000014274303648203252,
          -0.000011405385895978526,
          -0.00000890739023456915,
          -0.000006968163625368371,
          -0.000005677892797117674,
          -0.000005317617719306558,
          -0.000004986363766857057,
          -0.0000044667845729208016,
          -0.00000417022605677739,
          -0.000004221847485505465,
          -0.0000036288785825965527,
          -0.0000036062747665735136,
          -0.0000036042250967228174,
          -0.0000035479848867298677,
          -0.000002968896368057408,
          -0.0000032615296260536076,
          -0.000003184788190813281,
          -0.0000028509192950964443,
          -0.000003010169211285907,
          -0.0000030576919242969993,
          -0.0000028590710430198235,
          -0.0000028776685617773816,
          -0.0000030007466615670556,
          -0.000002766087668144926,
          -0.0000027773758117207013,
          -0.000002955806206192021,
          -0.0000025557826802866347,
          -0.0000055995148811427585
         ],
         "yaxis": "y"
        },
        {
         "marker": {
          "color": "#2ca02c",
          "symbol": "circle"
         },
         "mode": "markers+lines",
         "name": "RTSIRM Cooling Derivative",
         "type": "scatter",
         "x": [
          297.3039,
          292.0277,
          286.92285,
          281.821,
          276.78125,
          271.79395,
          266.80735000000004,
          261.85065,
          256.8148,
          251.8628,
          246.91750000000002,
          241.9417,
          236.97775000000001,
          231.9119,
          226.91845,
          221.9562,
          216.9205,
          211.93775,
          206.911,
          201.87695,
          196.91575,
          191.8896,
          186.8723,
          181.89475,
          176.87355000000002,
          171.83115,
          166.89280000000002,
          161.9346,
          156.8705,
          151.8442,
          146.8617,
          141.82625000000002,
          136.84335,
          131.8635,
          126.83945,
          121.84515,
          116.83155,
          111.8694,
          106.9453,
          101.923785,
          96.85635500000001,
          91.86508,
          86.89545,
          81.845565,
          76.77913000000001,
          71.77737,
          66.824995,
          61.8909,
          56.864000000000004,
          51.81944,
          46.796495,
          41.744915,
          36.712875,
          31.737755,
          26.75446,
          21.851105,
          17.141805,
          12.430990000000001
         ],
         "xaxis": "x2",
         "y": [
          5.84426414106594e-7,
          0.0000011981901103811626,
          0.0000014758753463424421,
          0.0000029010485104473395,
          0.0000035318911673692516,
          0.000003452389409921279,
          0.000004287002902328276,
          0.000005041410176175479,
          0.000004804798880495682,
          0.000005777931564221312,
          0.00000629726262914005,
          0.0000064629886080574415,
          0.000007085103459854916,
          0.000008529227488531948,
          0.000009017736572957938,
          0.00000922580296421761,
          0.000010754998593848175,
          0.000011395672156540757,
          0.000012072316498437571,
          0.000013564899887539205,
          0.000014744019773382503,
          0.000015760921589002128,
          0.00001672764504169687,
          0.000018907424418735935,
          0.0000193600030099119,
          0.000021002720417237072,
          0.000022823820936398983,
          0.00002416877816230299,
          0.00002554894600211962,
          0.00002691564199300625,
          0.000028976215172902454,
          0.000028656601159070764,
          0.000030125734126434157,
          0.000030838286796285205,
          0.00003354766135227265,
          0.00003496076879019556,
          0.000034520331093306595,
          0.00003253909168086524,
          0.00003050999546107127,
          0.000026384643654185706,
          0.000022900985018256493,
          0.00001911454289756673,
          0.000015129905279438312,
          0.000010898608048137634,
          0.000007637509320735187,
          0.000006152899698333984,
          0.000005794330947953417,
          0.000005460190567733505,
          0.0000036361643100329804,
          0.000002009617790013986,
          0.0000017525033088351091,
          0.0000011912932379508435,
          0.00000329419363227751,
          0.000008911109701694582,
          0.0000022192337703537216,
          1.9007668330625628e-7,
          -3.1874497293760644e-7,
          -8.558038348033004e-7
         ],
         "yaxis": "y2"
        },
        {
         "marker": {
          "color": "#d62728",
          "symbol": "circle"
         },
         "mode": "markers+lines",
         "name": "RTSIRM Warming Derivative",
         "type": "scatter",
         "x": [
          12.768338499999999,
          18.01283,
          23.00657,
          28.024465,
          33.01963,
          38.072605,
          43.05597,
          47.96568,
          53.013435,
          58.047505,
          63.040915,
          68.029665,
          73.036625,
          78.04262,
          83.055815,
          88.072265,
          93.06159500000001,
          98.10768999999999,
          103.06825,
          108.05680000000001,
          113.0616,
          117.9734,
          122.97355,
          128.03765,
          133.07094999999998,
          138.12705,
          143.14475,
          148.1023,
          153.02695,
          158.0337,
          163.04944999999998,
          168.0023,
          173.08745,
          178.1132,
          183.03485,
          187.99615,
          192.9674,
          197.99115,
          203.1311,
          208.0951,
          212.9873,
          218.04325,
          223.03224999999998,
          227.982,
          233.05935,
          238.1284,
          243.07760000000002,
          248.0769,
          253.04275,
          258.0478,
          263.05255,
          268.01715,
          273.04705,
          278.06745,
          283.0474,
          288.02575,
          293.0958,
          297.8396
         ],
         "xaxis": "x2",
         "y": [
          -0.0000017248618640752457,
          -3.272177529429671e-7,
          7.083874757928412e-7,
          0.000002740044653766917,
          0.000007882243489584566,
          0.0000018056557452475494,
          9.388647687771841e-7,
          0.0000011409968948047469,
          0.0000013692357265195382,
          0.0000023441961856437086,
          0.0000037981460401149147,
          0.000004494271482465692,
          0.0000033162096357408383,
          0.000004062842232562548,
          0.000005923166044414683,
          0.000007872389979675862,
          0.0000097457389896347,
          0.000011727656496603651,
          0.000013521496665094812,
          0.000015076232871440856,
          0.000015539715952505155,
          0.000015300671098644493,
          0.00001336029959199479,
          0.000010847482541148508,
          0.000008932625857893407,
          0.000006595593233354899,
          0.000005408074177232603,
          0.000004373577924921499,
          0.0000031310559780645187,
          0.000001897237459267163,
          0.0000019734320608102097,
          0.0000022885696558378538,
          0.0000024296540361077192,
          0.0000031296471046169575,
          0.000003125003905586087,
          0.0000027016419839700772,
          0.0000019149204945145536,
          0.000002062983044628936,
          0.000001304703794325415,
          0.0000011764834384801361,
          9.73852785652224e-7,
          8.224063570140601e-7,
          6.264662266580408e-9,
          1.0551089697652123e-7,
          1.3761419788274202e-8,
          -5.291080566933374e-7,
          -7.048275202538441e-7,
          -5.990724519341497e-7,
          -0.0000011740067496464764,
          -0.0000013986248476353925,
          -0.0000010474135216919187,
          -0.0000017260538133676722,
          -0.0000018493836856874242,
          -0.0000017730230508300262,
          -0.000002093157363553305,
          -0.0000023450503901696633,
          -0.0000024711772117040027,
          -0.000004631056916270407
         ],
         "yaxis": "y2"
        }
       ],
       "layout": {
        "annotations": [
         {
          "font": {
           "size": 16
          },
          "showarrow": false,
          "text": "FC and ZFC Data",
          "x": 0.225,
          "xanchor": "center",
          "xref": "paper",
          "y": 1,
          "yanchor": "bottom",
          "yref": "paper"
         },
         {
          "font": {
           "size": 16
          },
          "showarrow": false,
          "text": "RTSIRM Cooling and Warming Data",
          "x": 0.775,
          "xanchor": "center",
          "xref": "paper",
          "y": 1,
          "yanchor": "bottom",
          "yref": "paper"
         }
        ],
        "template": {
         "data": {
          "bar": [
           {
            "error_x": {
             "color": "#2a3f5f"
            },
            "error_y": {
             "color": "#2a3f5f"
            },
            "marker": {
             "line": {
              "color": "#E5ECF6",
              "width": 0.5
             },
             "pattern": {
              "fillmode": "overlay",
              "size": 10,
              "solidity": 0.2
             }
            },
            "type": "bar"
           }
          ],
          "barpolar": [
           {
            "marker": {
             "line": {
              "color": "#E5ECF6",
              "width": 0.5
             },
             "pattern": {
              "fillmode": "overlay",
              "size": 10,
              "solidity": 0.2
             }
            },
            "type": "barpolar"
           }
          ],
          "carpet": [
           {
            "aaxis": {
             "endlinecolor": "#2a3f5f",
             "gridcolor": "white",
             "linecolor": "white",
             "minorgridcolor": "white",
             "startlinecolor": "#2a3f5f"
            },
            "baxis": {
             "endlinecolor": "#2a3f5f",
             "gridcolor": "white",
             "linecolor": "white",
             "minorgridcolor": "white",
             "startlinecolor": "#2a3f5f"
            },
            "type": "carpet"
           }
          ],
          "choropleth": [
           {
            "colorbar": {
             "outlinewidth": 0,
             "ticks": ""
            },
            "type": "choropleth"
           }
          ],
          "contour": [
           {
            "colorbar": {
             "outlinewidth": 0,
             "ticks": ""
            },
            "colorscale": [
             [
              0,
              "#0d0887"
             ],
             [
              0.1111111111111111,
              "#46039f"
             ],
             [
              0.2222222222222222,
              "#7201a8"
             ],
             [
              0.3333333333333333,
              "#9c179e"
             ],
             [
              0.4444444444444444,
              "#bd3786"
             ],
             [
              0.5555555555555556,
              "#d8576b"
             ],
             [
              0.6666666666666666,
              "#ed7953"
             ],
             [
              0.7777777777777778,
              "#fb9f3a"
             ],
             [
              0.8888888888888888,
              "#fdca26"
             ],
             [
              1,
              "#f0f921"
             ]
            ],
            "type": "contour"
           }
          ],
          "contourcarpet": [
           {
            "colorbar": {
             "outlinewidth": 0,
             "ticks": ""
            },
            "type": "contourcarpet"
           }
          ],
          "heatmap": [
           {
            "colorbar": {
             "outlinewidth": 0,
             "ticks": ""
            },
            "colorscale": [
             [
              0,
              "#0d0887"
             ],
             [
              0.1111111111111111,
              "#46039f"
             ],
             [
              0.2222222222222222,
              "#7201a8"
             ],
             [
              0.3333333333333333,
              "#9c179e"
             ],
             [
              0.4444444444444444,
              "#bd3786"
             ],
             [
              0.5555555555555556,
              "#d8576b"
             ],
             [
              0.6666666666666666,
              "#ed7953"
             ],
             [
              0.7777777777777778,
              "#fb9f3a"
             ],
             [
              0.8888888888888888,
              "#fdca26"
             ],
             [
              1,
              "#f0f921"
             ]
            ],
            "type": "heatmap"
           }
          ],
          "heatmapgl": [
           {
            "colorbar": {
             "outlinewidth": 0,
             "ticks": ""
            },
            "colorscale": [
             [
              0,
              "#0d0887"
             ],
             [
              0.1111111111111111,
              "#46039f"
             ],
             [
              0.2222222222222222,
              "#7201a8"
             ],
             [
              0.3333333333333333,
              "#9c179e"
             ],
             [
              0.4444444444444444,
              "#bd3786"
             ],
             [
              0.5555555555555556,
              "#d8576b"
             ],
             [
              0.6666666666666666,
              "#ed7953"
             ],
             [
              0.7777777777777778,
              "#fb9f3a"
             ],
             [
              0.8888888888888888,
              "#fdca26"
             ],
             [
              1,
              "#f0f921"
             ]
            ],
            "type": "heatmapgl"
           }
          ],
          "histogram": [
           {
            "marker": {
             "pattern": {
              "fillmode": "overlay",
              "size": 10,
              "solidity": 0.2
             }
            },
            "type": "histogram"
           }
          ],
          "histogram2d": [
           {
            "colorbar": {
             "outlinewidth": 0,
             "ticks": ""
            },
            "colorscale": [
             [
              0,
              "#0d0887"
             ],
             [
              0.1111111111111111,
              "#46039f"
             ],
             [
              0.2222222222222222,
              "#7201a8"
             ],
             [
              0.3333333333333333,
              "#9c179e"
             ],
             [
              0.4444444444444444,
              "#bd3786"
             ],
             [
              0.5555555555555556,
              "#d8576b"
             ],
             [
              0.6666666666666666,
              "#ed7953"
             ],
             [
              0.7777777777777778,
              "#fb9f3a"
             ],
             [
              0.8888888888888888,
              "#fdca26"
             ],
             [
              1,
              "#f0f921"
             ]
            ],
            "type": "histogram2d"
           }
          ],
          "histogram2dcontour": [
           {
            "colorbar": {
             "outlinewidth": 0,
             "ticks": ""
            },
            "colorscale": [
             [
              0,
              "#0d0887"
             ],
             [
              0.1111111111111111,
              "#46039f"
             ],
             [
              0.2222222222222222,
              "#7201a8"
             ],
             [
              0.3333333333333333,
              "#9c179e"
             ],
             [
              0.4444444444444444,
              "#bd3786"
             ],
             [
              0.5555555555555556,
              "#d8576b"
             ],
             [
              0.6666666666666666,
              "#ed7953"
             ],
             [
              0.7777777777777778,
              "#fb9f3a"
             ],
             [
              0.8888888888888888,
              "#fdca26"
             ],
             [
              1,
              "#f0f921"
             ]
            ],
            "type": "histogram2dcontour"
           }
          ],
          "mesh3d": [
           {
            "colorbar": {
             "outlinewidth": 0,
             "ticks": ""
            },
            "type": "mesh3d"
           }
          ],
          "parcoords": [
           {
            "line": {
             "colorbar": {
              "outlinewidth": 0,
              "ticks": ""
             }
            },
            "type": "parcoords"
           }
          ],
          "pie": [
           {
            "automargin": true,
            "type": "pie"
           }
          ],
          "scatter": [
           {
            "fillpattern": {
             "fillmode": "overlay",
             "size": 10,
             "solidity": 0.2
            },
            "type": "scatter"
           }
          ],
          "scatter3d": [
           {
            "line": {
             "colorbar": {
              "outlinewidth": 0,
              "ticks": ""
             }
            },
            "marker": {
             "colorbar": {
              "outlinewidth": 0,
              "ticks": ""
             }
            },
            "type": "scatter3d"
           }
          ],
          "scattercarpet": [
           {
            "marker": {
             "colorbar": {
              "outlinewidth": 0,
              "ticks": ""
             }
            },
            "type": "scattercarpet"
           }
          ],
          "scattergeo": [
           {
            "marker": {
             "colorbar": {
              "outlinewidth": 0,
              "ticks": ""
             }
            },
            "type": "scattergeo"
           }
          ],
          "scattergl": [
           {
            "marker": {
             "colorbar": {
              "outlinewidth": 0,
              "ticks": ""
             }
            },
            "type": "scattergl"
           }
          ],
          "scattermapbox": [
           {
            "marker": {
             "colorbar": {
              "outlinewidth": 0,
              "ticks": ""
             }
            },
            "type": "scattermapbox"
           }
          ],
          "scatterpolar": [
           {
            "marker": {
             "colorbar": {
              "outlinewidth": 0,
              "ticks": ""
             }
            },
            "type": "scatterpolar"
           }
          ],
          "scatterpolargl": [
           {
            "marker": {
             "colorbar": {
              "outlinewidth": 0,
              "ticks": ""
             }
            },
            "type": "scatterpolargl"
           }
          ],
          "scatterternary": [
           {
            "marker": {
             "colorbar": {
              "outlinewidth": 0,
              "ticks": ""
             }
            },
            "type": "scatterternary"
           }
          ],
          "surface": [
           {
            "colorbar": {
             "outlinewidth": 0,
             "ticks": ""
            },
            "colorscale": [
             [
              0,
              "#0d0887"
             ],
             [
              0.1111111111111111,
              "#46039f"
             ],
             [
              0.2222222222222222,
              "#7201a8"
             ],
             [
              0.3333333333333333,
              "#9c179e"
             ],
             [
              0.4444444444444444,
              "#bd3786"
             ],
             [
              0.5555555555555556,
              "#d8576b"
             ],
             [
              0.6666666666666666,
              "#ed7953"
             ],
             [
              0.7777777777777778,
              "#fb9f3a"
             ],
             [
              0.8888888888888888,
              "#fdca26"
             ],
             [
              1,
              "#f0f921"
             ]
            ],
            "type": "surface"
           }
          ],
          "table": [
           {
            "cells": {
             "fill": {
              "color": "#EBF0F8"
             },
             "line": {
              "color": "white"
             }
            },
            "header": {
             "fill": {
              "color": "#C8D4E3"
             },
             "line": {
              "color": "white"
             }
            },
            "type": "table"
           }
          ]
         },
         "layout": {
          "annotationdefaults": {
           "arrowcolor": "#2a3f5f",
           "arrowhead": 0,
           "arrowwidth": 1
          },
          "autotypenumbers": "strict",
          "coloraxis": {
           "colorbar": {
            "outlinewidth": 0,
            "ticks": ""
           }
          },
          "colorscale": {
           "diverging": [
            [
             0,
             "#8e0152"
            ],
            [
             0.1,
             "#c51b7d"
            ],
            [
             0.2,
             "#de77ae"
            ],
            [
             0.3,
             "#f1b6da"
            ],
            [
             0.4,
             "#fde0ef"
            ],
            [
             0.5,
             "#f7f7f7"
            ],
            [
             0.6,
             "#e6f5d0"
            ],
            [
             0.7,
             "#b8e186"
            ],
            [
             0.8,
             "#7fbc41"
            ],
            [
             0.9,
             "#4d9221"
            ],
            [
             1,
             "#276419"
            ]
           ],
           "sequential": [
            [
             0,
             "#0d0887"
            ],
            [
             0.1111111111111111,
             "#46039f"
            ],
            [
             0.2222222222222222,
             "#7201a8"
            ],
            [
             0.3333333333333333,
             "#9c179e"
            ],
            [
             0.4444444444444444,
             "#bd3786"
            ],
            [
             0.5555555555555556,
             "#d8576b"
            ],
            [
             0.6666666666666666,
             "#ed7953"
            ],
            [
             0.7777777777777778,
             "#fb9f3a"
            ],
            [
             0.8888888888888888,
             "#fdca26"
            ],
            [
             1,
             "#f0f921"
            ]
           ],
           "sequentialminus": [
            [
             0,
             "#0d0887"
            ],
            [
             0.1111111111111111,
             "#46039f"
            ],
            [
             0.2222222222222222,
             "#7201a8"
            ],
            [
             0.3333333333333333,
             "#9c179e"
            ],
            [
             0.4444444444444444,
             "#bd3786"
            ],
            [
             0.5555555555555556,
             "#d8576b"
            ],
            [
             0.6666666666666666,
             "#ed7953"
            ],
            [
             0.7777777777777778,
             "#fb9f3a"
            ],
            [
             0.8888888888888888,
             "#fdca26"
            ],
            [
             1,
             "#f0f921"
            ]
           ]
          },
          "colorway": [
           "#636efa",
           "#EF553B",
           "#00cc96",
           "#ab63fa",
           "#FFA15A",
           "#19d3f3",
           "#FF6692",
           "#B6E880",
           "#FF97FF",
           "#FECB52"
          ],
          "font": {
           "color": "#2a3f5f"
          },
          "geo": {
           "bgcolor": "white",
           "lakecolor": "white",
           "landcolor": "#E5ECF6",
           "showlakes": true,
           "showland": true,
           "subunitcolor": "white"
          },
          "hoverlabel": {
           "align": "left"
          },
          "hovermode": "closest",
          "mapbox": {
           "style": "light"
          },
          "paper_bgcolor": "white",
          "plot_bgcolor": "#E5ECF6",
          "polar": {
           "angularaxis": {
            "gridcolor": "white",
            "linecolor": "white",
            "ticks": ""
           },
           "bgcolor": "#E5ECF6",
           "radialaxis": {
            "gridcolor": "white",
            "linecolor": "white",
            "ticks": ""
           }
          },
          "scene": {
           "xaxis": {
            "backgroundcolor": "#E5ECF6",
            "gridcolor": "white",
            "gridwidth": 2,
            "linecolor": "white",
            "showbackground": true,
            "ticks": "",
            "zerolinecolor": "white"
           },
           "yaxis": {
            "backgroundcolor": "#E5ECF6",
            "gridcolor": "white",
            "gridwidth": 2,
            "linecolor": "white",
            "showbackground": true,
            "ticks": "",
            "zerolinecolor": "white"
           },
           "zaxis": {
            "backgroundcolor": "#E5ECF6",
            "gridcolor": "white",
            "gridwidth": 2,
            "linecolor": "white",
            "showbackground": true,
            "ticks": "",
            "zerolinecolor": "white"
           }
          },
          "shapedefaults": {
           "line": {
            "color": "#2a3f5f"
           }
          },
          "ternary": {
           "aaxis": {
            "gridcolor": "white",
            "linecolor": "white",
            "ticks": ""
           },
           "baxis": {
            "gridcolor": "white",
            "linecolor": "white",
            "ticks": ""
           },
           "bgcolor": "#E5ECF6",
           "caxis": {
            "gridcolor": "white",
            "linecolor": "white",
            "ticks": ""
           }
          },
          "title": {
           "x": 0.05
          },
          "xaxis": {
           "automargin": true,
           "gridcolor": "white",
           "linecolor": "white",
           "ticks": "",
           "title": {
            "standoff": 15
           },
           "zerolinecolor": "white",
           "zerolinewidth": 2
          },
          "yaxis": {
           "automargin": true,
           "gridcolor": "white",
           "linecolor": "white",
           "ticks": "",
           "title": {
            "standoff": 15
           },
           "zerolinecolor": "white",
           "zerolinewidth": 2
          }
         }
        },
        "title": {
         "text": "MPMS Data"
        },
        "xaxis": {
         "anchor": "y",
         "domain": [
          0,
          0.45
         ],
         "title": {
          "text": "T (K)"
         }
        },
        "xaxis2": {
         "anchor": "y2",
         "domain": [
          0.55,
          1
         ],
         "title": {
          "text": "T (K)"
         }
        },
        "yaxis": {
         "anchor": "x",
         "domain": [
          0,
          1
         ],
         "title": {
          "text": "dM/dT"
         }
        },
        "yaxis2": {
         "anchor": "x2",
         "domain": [
          0,
          1
         ],
         "title": {
          "text": "dM/dT"
         }
        }
       }
      }
     },
     "metadata": {},
     "output_type": "display_data"
    }
   ],
   "source": [
    "rmag.plot_mpms_data(fc_data, zfc_data, rtsirm_cool_data, rtsirm_warm_data, use_plotly=True, plot_derivative=True)"
   ]
  },
  {
   "cell_type": "markdown",
   "metadata": {},
   "source": [
    "The colors and symbols of the plots can be customized by providing other values than the default parameters as in the example below:"
   ]
  },
  {
   "cell_type": "code",
   "execution_count": 11,
   "metadata": {},
   "outputs": [
    {
     "data": {
      "application/vnd.plotly.v1+json": {
       "config": {
        "plotlyServerURL": "https://plot.ly"
       },
       "data": [
        {
         "marker": {
          "color": "orange",
          "symbol": "triangle-up"
         },
         "mode": "markers+lines",
         "name": "FC",
         "type": "scatter",
         "x": [
          9.994304,
          15.50026,
          20.5769,
          25.5975,
          30.62095,
          35.54022,
          40.53019,
          45.54829,
          50.53382,
          55.50077,
          60.46664,
          65.56294,
          70.62476,
          75.4902,
          80.68351,
          85.534,
          90.44417,
          95.56567,
          100.6581,
          105.4733,
          110.5795,
          115.6087,
          120.4055,
          125.5442,
          131.7128,
          135.5936,
          140.6617,
          145.5287,
          150.4723,
          155.5616,
          160.7314,
          165.5742,
          170.5424,
          175.7764,
          180.5024,
          185.5623,
          190.5595,
          195.4939,
          200.5383,
          205.4929,
          210.4608,
          215.5735,
          220.6407,
          225.5464,
          230.613,
          235.5234,
          240.4559,
          245.5247,
          250.5471,
          255.4349,
          260.4671,
          265.5291,
          270.4762,
          275.6038,
          281.9675,
          285.512,
          290.4246,
          295.5658,
          300.0201
         ],
         "xaxis": "x",
         "y": [
          0.0155291802056144,
          0.0142052948383316,
          0.0130583550844298,
          0.0121883715975071,
          0.0114178501038726,
          0.0106229371970383,
          0.0098780695679965,
          0.0093067064401001,
          0.0089433921056836,
          0.0086356469397539,
          0.0083348852074788,
          0.008030554519789,
          0.0077369626591381,
          0.007442268151068,
          0.0071564747243381,
          0.0068380706333564,
          0.0065108666702178,
          0.0061804293400095,
          0.0058155222926543,
          0.0054406541309327,
          0.0050292079049699,
          0.0046050924199648,
          0.0041990821925105,
          0.0038763665903158,
          0.0035666350609918,
          0.0033998572417834,
          0.0032036238214456,
          0.003020322804027,
          0.0028575613913599,
          0.0027124742981942,
          0.0025966180152346,
          0.0025074212965429,
          0.0024394033984978,
          0.0023877813881638,
          0.0023484243328184,
          0.0023139679326692,
          0.0022826564747243,
          0.0022543647792041,
          0.0022278117509188,
          0.0022037889522186,
          0.0021807052682043,
          0.0021582826399616,
          0.0021366616949874,
          0.0021159660150215,
          0.002096664358387,
          0.0020777542214883,
          0.0020596084802642,
          0.0020411420657327,
          0.0020245112661801,
          0.0020074436690992,
          0.001989981356203,
          0.0019738539391679,
          0.0019572279337346,
          0.0019416076279763,
          0.0019266393224311,
          0.0019148995898364,
          0.0018985287380812,
          0.0018808144675864,
          0.0018566744793053
         ],
         "yaxis": "y"
        },
        {
         "marker": {
          "color": "purple",
          "symbol": "circle"
         },
         "mode": "markers+lines",
         "name": "ZFC",
         "type": "scatter",
         "x": [
          9.993085,
          15.5384,
          20.62697,
          25.62141,
          30.4574,
          36.57195,
          40.56239,
          45.58254,
          50.54498,
          55.54775,
          60.51418,
          65.55326,
          70.61426,
          75.52679,
          80.50346,
          85.4865,
          90.51694,
          95.51643,
          100.5219,
          105.5996,
          110.4922,
          115.7263,
          120.4742,
          126.4449,
          130.5367,
          135.6067,
          140.5607,
          145.6133,
          150.4627,
          155.5067,
          160.5216,
          165.6308,
          170.5942,
          175.5842,
          180.5723,
          185.5821,
          190.6296,
          195.4614,
          200.5354,
          205.6325,
          210.4895,
          215.5,
          220.5487,
          225.5682,
          230.5395,
          235.6205,
          240.4728,
          245.5867,
          250.5749,
          255.4252,
          260.5069,
          265.5813,
          270.4763,
          275.5355,
          280.5413,
          285.4813,
          290.5329,
          295.599,
          300.027
         ],
         "xaxis": "x",
         "y": [
          0.010424316838012,
          0.0093894582645288,
          0.0086462419432163,
          0.008180658392372,
          0.007815676769829,
          0.0073179033718638,
          0.0069473712246311,
          0.0065498748202205,
          0.0063259841261386,
          0.006138938901614,
          0.0059591221435039,
          0.0057895434933148,
          0.0056315399776274,
          0.0054852927076119,
          0.0053296862515314,
          0.0051651632663932,
          0.0049858525542001,
          0.004792883929047,
          0.0045762930804879,
          0.0043473243487988,
          0.0041044665210674,
          0.0038430352101422,
          0.0035815330527885,
          0.0033408666702178,
          0.003224018004581,
          0.0030929158898417,
          0.0029727385074308,
          0.0028560832046023,
          0.0027506227028178,
          0.0026472662866883,
          0.0025565466361263,
          0.0024836163639269,
          0.0024270068715708,
          0.0023825589943003,
          0.0023478010973206,
          0.0023193559899856,
          0.0022925153145474,
          0.0022684222020987,
          0.0022457577371757,
          0.0022245016779417,
          0.0022039961647046,
          0.0021858136685665,
          0.0021676066691525,
          0.0021495152612795,
          0.0021318771640121,
          0.002116792201566,
          0.0021009662813615,
          0.0020846795930325,
          0.0020704586374047,
          0.0020558584136792,
          0.0020403201406275,
          0.0020258120705268,
          0.0020117258829169,
          0.0019965445054067,
          0.0019826980237575,
          0.0019689777872476,
          0.0019540462366164,
          0.0019410983859798,
          0.0019163037340861
         ],
         "yaxis": "y"
        },
        {
         "marker": {
          "color": "blue",
          "symbol": "star"
         },
         "mode": "markers+lines",
         "name": "RTSIRM cooling",
         "type": "scatter",
         "x": [
          299.9927,
          294.6151,
          289.4403,
          284.4054,
          279.2366,
          274.3259,
          269.262,
          264.3527,
          259.3486,
          254.281,
          249.4446,
          244.3904,
          239.493,
          234.4625,
          229.3613,
          224.4756,
          219.4368,
          214.4042,
          209.4713,
          204.3507,
          199.4032,
          194.4283,
          189.3509,
          184.3937,
          179.3958,
          174.3513,
          169.311,
          164.4746,
          159.3946,
          154.3464,
          149.342,
          144.3814,
          139.2711,
          134.4156,
          129.3114,
          124.3675,
          119.3228,
          114.3403,
          109.3985,
          104.4921,
          99.35547,
          94.35724,
          89.37292,
          84.41798,
          79.27315,
          74.28511,
          69.26963,
          64.38036,
          59.40144,
          54.32656,
          49.31232,
          44.28067,
          39.20916,
          34.21659,
          29.25892,
          24.25,
          19.45221,
          14.8314,
          10.03058
         ],
         "xaxis": "x2",
         "y": [
          0.006458157992862,
          0.0064550151813775,
          0.0064488147871943,
          0.006441383902413,
          0.0064263889628722,
          0.0064090449049166,
          0.0063915623501837,
          0.0063705161668353,
          0.0063452884461727,
          0.0063209396473659,
          0.0062929952591487,
          0.0062611676343685,
          0.0062295157939594,
          0.0061938741810046,
          0.0061503648857401,
          0.0061063069301656,
          0.0060598199541895,
          0.0060056943482661,
          0.0059494806370851,
          0.0058876631332232,
          0.0058205507910296,
          0.005747200767059,
          0.005667176263783,
          0.0055842539817823,
          0.0054897565652799,
          0.0053920950300964,
          0.0052862350183774,
          0.0051758498908006,
          0.0050530724977361,
          0.0049240963085282,
          0.0047893996697384,
          0.0046456602567517,
          0.0044992164278485,
          0.0043529409257976,
          0.004195536142332,
          0.0040296798593725,
          0.0038533132690566,
          0.0036813157193842,
          0.0035205140361157,
          0.0033708197943855,
          0.0032352916422521,
          0.0031208272519043,
          0.0030255542534491,
          0.0029505864805838,
          0.0028945149949395,
          0.0028564187929473,
          0.0028255590475683,
          0.0027972289990944,
          0.0027700431470729,
          0.0027515900495392,
          0.0027415133436318,
          0.0027326953603579,
          0.0027266537047887,
          0.002710207212486,
          0.0026660288712512,
          0.0026549129068342,
          0.0026540009588238,
          0.0026554738187822,
          0.0026595823789484
         ],
         "yaxis": "y2"
        },
        {
         "marker": {
          "color": "darkred",
          "symbol": "square"
         },
         "mode": "markers+lines",
         "name": "RTSIRM warming",
         "type": "scatter",
         "x": [
          9.996637,
          15.54004,
          20.48562,
          25.52752,
          30.52141,
          35.51785,
          40.62736,
          45.48458,
          50.44678,
          55.58009,
          60.51492,
          65.56691,
          70.49242,
          75.58083,
          80.50441,
          85.60722,
          90.53731,
          95.58588,
          100.6295,
          105.507,
          110.6066,
          115.5166,
          120.4302,
          125.5169,
          130.5584,
          135.5835,
          140.6706,
          145.6189,
          150.5857,
          155.4682,
          160.5992,
          165.4997,
          170.5049,
          175.67,
          180.5564,
          185.5133,
          190.479,
          195.4558,
          200.5265,
          205.7357,
          210.4545,
          215.5201,
          220.5664,
          225.4981,
          230.4659,
          235.6528,
          240.604,
          245.5512,
          250.6026,
          255.4829,
          260.6127,
          265.4924,
          270.5419,
          275.5522,
          280.5827,
          285.5121,
          290.5394,
          295.6522,
          300.027
         ],
         "xaxis": "x2",
         "y": [
          0.0026633388376924,
          0.0026537772332605,
          0.0026521589516859,
          0.0026557305705001,
          0.0026694140520961,
          0.0027087972087572,
          0.0027180232248441,
          0.0027225834975763,
          0.0027282453523677,
          0.002735274063815,
          0.0027468422734778,
          0.002766030469291,
          0.0027881670484206,
          0.0028050412826932,
          0.0028250450114526,
          0.0028552698023757,
          0.0028940813934906,
          0.0029432834389815,
          0.0030024332818409,
          0.0030683843818249,
          0.0031452671389761,
          0.0032215671443029,
          0.0032967485218132,
          0.0033647083577478,
          0.003419395940979,
          0.0034642832791775,
          0.0034978357215149,
          0.0035245964949661,
          0.0035463191818036,
          0.0035616065626165,
          0.00357134128802,
          0.003581012091834,
          0.0035924668406754,
          0.0036050162467373,
          0.0036203089543493,
          0.0036357992862089,
          0.0036492148298087,
          0.0036587450061258,
          0.0036692057742502,
          0.0036760022372556,
          0.0036815538273051,
          0.0036864869759761,
          0.0036906370851755,
          0.0036906679806104,
          0.0036911921376444,
          0.0036912635167527,
          0.0036886437969424,
          0.0036851568742342,
          0.0036821307196505,
          0.0036764012145102,
          0.0036692265487668,
          0.003664115485005,
          0.0036553997762744,
          0.003646133809194,
          0.0036372146167368,
          0.0036268966068289,
          0.0036151073350024,
          0.0036024727001544,
          0.0035822127523571
         ],
         "yaxis": "y2"
        }
       ],
       "layout": {
        "annotations": [
         {
          "font": {
           "size": 16
          },
          "showarrow": false,
          "text": "FC and ZFC Data",
          "x": 0.225,
          "xanchor": "center",
          "xref": "paper",
          "y": 1,
          "yanchor": "bottom",
          "yref": "paper"
         },
         {
          "font": {
           "size": 16
          },
          "showarrow": false,
          "text": "RTSIRM Cooling and Warming Data",
          "x": 0.775,
          "xanchor": "center",
          "xref": "paper",
          "y": 1,
          "yanchor": "bottom",
          "yref": "paper"
         }
        ],
        "template": {
         "data": {
          "bar": [
           {
            "error_x": {
             "color": "#2a3f5f"
            },
            "error_y": {
             "color": "#2a3f5f"
            },
            "marker": {
             "line": {
              "color": "#E5ECF6",
              "width": 0.5
             },
             "pattern": {
              "fillmode": "overlay",
              "size": 10,
              "solidity": 0.2
             }
            },
            "type": "bar"
           }
          ],
          "barpolar": [
           {
            "marker": {
             "line": {
              "color": "#E5ECF6",
              "width": 0.5
             },
             "pattern": {
              "fillmode": "overlay",
              "size": 10,
              "solidity": 0.2
             }
            },
            "type": "barpolar"
           }
          ],
          "carpet": [
           {
            "aaxis": {
             "endlinecolor": "#2a3f5f",
             "gridcolor": "white",
             "linecolor": "white",
             "minorgridcolor": "white",
             "startlinecolor": "#2a3f5f"
            },
            "baxis": {
             "endlinecolor": "#2a3f5f",
             "gridcolor": "white",
             "linecolor": "white",
             "minorgridcolor": "white",
             "startlinecolor": "#2a3f5f"
            },
            "type": "carpet"
           }
          ],
          "choropleth": [
           {
            "colorbar": {
             "outlinewidth": 0,
             "ticks": ""
            },
            "type": "choropleth"
           }
          ],
          "contour": [
           {
            "colorbar": {
             "outlinewidth": 0,
             "ticks": ""
            },
            "colorscale": [
             [
              0,
              "#0d0887"
             ],
             [
              0.1111111111111111,
              "#46039f"
             ],
             [
              0.2222222222222222,
              "#7201a8"
             ],
             [
              0.3333333333333333,
              "#9c179e"
             ],
             [
              0.4444444444444444,
              "#bd3786"
             ],
             [
              0.5555555555555556,
              "#d8576b"
             ],
             [
              0.6666666666666666,
              "#ed7953"
             ],
             [
              0.7777777777777778,
              "#fb9f3a"
             ],
             [
              0.8888888888888888,
              "#fdca26"
             ],
             [
              1,
              "#f0f921"
             ]
            ],
            "type": "contour"
           }
          ],
          "contourcarpet": [
           {
            "colorbar": {
             "outlinewidth": 0,
             "ticks": ""
            },
            "type": "contourcarpet"
           }
          ],
          "heatmap": [
           {
            "colorbar": {
             "outlinewidth": 0,
             "ticks": ""
            },
            "colorscale": [
             [
              0,
              "#0d0887"
             ],
             [
              0.1111111111111111,
              "#46039f"
             ],
             [
              0.2222222222222222,
              "#7201a8"
             ],
             [
              0.3333333333333333,
              "#9c179e"
             ],
             [
              0.4444444444444444,
              "#bd3786"
             ],
             [
              0.5555555555555556,
              "#d8576b"
             ],
             [
              0.6666666666666666,
              "#ed7953"
             ],
             [
              0.7777777777777778,
              "#fb9f3a"
             ],
             [
              0.8888888888888888,
              "#fdca26"
             ],
             [
              1,
              "#f0f921"
             ]
            ],
            "type": "heatmap"
           }
          ],
          "heatmapgl": [
           {
            "colorbar": {
             "outlinewidth": 0,
             "ticks": ""
            },
            "colorscale": [
             [
              0,
              "#0d0887"
             ],
             [
              0.1111111111111111,
              "#46039f"
             ],
             [
              0.2222222222222222,
              "#7201a8"
             ],
             [
              0.3333333333333333,
              "#9c179e"
             ],
             [
              0.4444444444444444,
              "#bd3786"
             ],
             [
              0.5555555555555556,
              "#d8576b"
             ],
             [
              0.6666666666666666,
              "#ed7953"
             ],
             [
              0.7777777777777778,
              "#fb9f3a"
             ],
             [
              0.8888888888888888,
              "#fdca26"
             ],
             [
              1,
              "#f0f921"
             ]
            ],
            "type": "heatmapgl"
           }
          ],
          "histogram": [
           {
            "marker": {
             "pattern": {
              "fillmode": "overlay",
              "size": 10,
              "solidity": 0.2
             }
            },
            "type": "histogram"
           }
          ],
          "histogram2d": [
           {
            "colorbar": {
             "outlinewidth": 0,
             "ticks": ""
            },
            "colorscale": [
             [
              0,
              "#0d0887"
             ],
             [
              0.1111111111111111,
              "#46039f"
             ],
             [
              0.2222222222222222,
              "#7201a8"
             ],
             [
              0.3333333333333333,
              "#9c179e"
             ],
             [
              0.4444444444444444,
              "#bd3786"
             ],
             [
              0.5555555555555556,
              "#d8576b"
             ],
             [
              0.6666666666666666,
              "#ed7953"
             ],
             [
              0.7777777777777778,
              "#fb9f3a"
             ],
             [
              0.8888888888888888,
              "#fdca26"
             ],
             [
              1,
              "#f0f921"
             ]
            ],
            "type": "histogram2d"
           }
          ],
          "histogram2dcontour": [
           {
            "colorbar": {
             "outlinewidth": 0,
             "ticks": ""
            },
            "colorscale": [
             [
              0,
              "#0d0887"
             ],
             [
              0.1111111111111111,
              "#46039f"
             ],
             [
              0.2222222222222222,
              "#7201a8"
             ],
             [
              0.3333333333333333,
              "#9c179e"
             ],
             [
              0.4444444444444444,
              "#bd3786"
             ],
             [
              0.5555555555555556,
              "#d8576b"
             ],
             [
              0.6666666666666666,
              "#ed7953"
             ],
             [
              0.7777777777777778,
              "#fb9f3a"
             ],
             [
              0.8888888888888888,
              "#fdca26"
             ],
             [
              1,
              "#f0f921"
             ]
            ],
            "type": "histogram2dcontour"
           }
          ],
          "mesh3d": [
           {
            "colorbar": {
             "outlinewidth": 0,
             "ticks": ""
            },
            "type": "mesh3d"
           }
          ],
          "parcoords": [
           {
            "line": {
             "colorbar": {
              "outlinewidth": 0,
              "ticks": ""
             }
            },
            "type": "parcoords"
           }
          ],
          "pie": [
           {
            "automargin": true,
            "type": "pie"
           }
          ],
          "scatter": [
           {
            "fillpattern": {
             "fillmode": "overlay",
             "size": 10,
             "solidity": 0.2
            },
            "type": "scatter"
           }
          ],
          "scatter3d": [
           {
            "line": {
             "colorbar": {
              "outlinewidth": 0,
              "ticks": ""
             }
            },
            "marker": {
             "colorbar": {
              "outlinewidth": 0,
              "ticks": ""
             }
            },
            "type": "scatter3d"
           }
          ],
          "scattercarpet": [
           {
            "marker": {
             "colorbar": {
              "outlinewidth": 0,
              "ticks": ""
             }
            },
            "type": "scattercarpet"
           }
          ],
          "scattergeo": [
           {
            "marker": {
             "colorbar": {
              "outlinewidth": 0,
              "ticks": ""
             }
            },
            "type": "scattergeo"
           }
          ],
          "scattergl": [
           {
            "marker": {
             "colorbar": {
              "outlinewidth": 0,
              "ticks": ""
             }
            },
            "type": "scattergl"
           }
          ],
          "scattermapbox": [
           {
            "marker": {
             "colorbar": {
              "outlinewidth": 0,
              "ticks": ""
             }
            },
            "type": "scattermapbox"
           }
          ],
          "scatterpolar": [
           {
            "marker": {
             "colorbar": {
              "outlinewidth": 0,
              "ticks": ""
             }
            },
            "type": "scatterpolar"
           }
          ],
          "scatterpolargl": [
           {
            "marker": {
             "colorbar": {
              "outlinewidth": 0,
              "ticks": ""
             }
            },
            "type": "scatterpolargl"
           }
          ],
          "scatterternary": [
           {
            "marker": {
             "colorbar": {
              "outlinewidth": 0,
              "ticks": ""
             }
            },
            "type": "scatterternary"
           }
          ],
          "surface": [
           {
            "colorbar": {
             "outlinewidth": 0,
             "ticks": ""
            },
            "colorscale": [
             [
              0,
              "#0d0887"
             ],
             [
              0.1111111111111111,
              "#46039f"
             ],
             [
              0.2222222222222222,
              "#7201a8"
             ],
             [
              0.3333333333333333,
              "#9c179e"
             ],
             [
              0.4444444444444444,
              "#bd3786"
             ],
             [
              0.5555555555555556,
              "#d8576b"
             ],
             [
              0.6666666666666666,
              "#ed7953"
             ],
             [
              0.7777777777777778,
              "#fb9f3a"
             ],
             [
              0.8888888888888888,
              "#fdca26"
             ],
             [
              1,
              "#f0f921"
             ]
            ],
            "type": "surface"
           }
          ],
          "table": [
           {
            "cells": {
             "fill": {
              "color": "#EBF0F8"
             },
             "line": {
              "color": "white"
             }
            },
            "header": {
             "fill": {
              "color": "#C8D4E3"
             },
             "line": {
              "color": "white"
             }
            },
            "type": "table"
           }
          ]
         },
         "layout": {
          "annotationdefaults": {
           "arrowcolor": "#2a3f5f",
           "arrowhead": 0,
           "arrowwidth": 1
          },
          "autotypenumbers": "strict",
          "coloraxis": {
           "colorbar": {
            "outlinewidth": 0,
            "ticks": ""
           }
          },
          "colorscale": {
           "diverging": [
            [
             0,
             "#8e0152"
            ],
            [
             0.1,
             "#c51b7d"
            ],
            [
             0.2,
             "#de77ae"
            ],
            [
             0.3,
             "#f1b6da"
            ],
            [
             0.4,
             "#fde0ef"
            ],
            [
             0.5,
             "#f7f7f7"
            ],
            [
             0.6,
             "#e6f5d0"
            ],
            [
             0.7,
             "#b8e186"
            ],
            [
             0.8,
             "#7fbc41"
            ],
            [
             0.9,
             "#4d9221"
            ],
            [
             1,
             "#276419"
            ]
           ],
           "sequential": [
            [
             0,
             "#0d0887"
            ],
            [
             0.1111111111111111,
             "#46039f"
            ],
            [
             0.2222222222222222,
             "#7201a8"
            ],
            [
             0.3333333333333333,
             "#9c179e"
            ],
            [
             0.4444444444444444,
             "#bd3786"
            ],
            [
             0.5555555555555556,
             "#d8576b"
            ],
            [
             0.6666666666666666,
             "#ed7953"
            ],
            [
             0.7777777777777778,
             "#fb9f3a"
            ],
            [
             0.8888888888888888,
             "#fdca26"
            ],
            [
             1,
             "#f0f921"
            ]
           ],
           "sequentialminus": [
            [
             0,
             "#0d0887"
            ],
            [
             0.1111111111111111,
             "#46039f"
            ],
            [
             0.2222222222222222,
             "#7201a8"
            ],
            [
             0.3333333333333333,
             "#9c179e"
            ],
            [
             0.4444444444444444,
             "#bd3786"
            ],
            [
             0.5555555555555556,
             "#d8576b"
            ],
            [
             0.6666666666666666,
             "#ed7953"
            ],
            [
             0.7777777777777778,
             "#fb9f3a"
            ],
            [
             0.8888888888888888,
             "#fdca26"
            ],
            [
             1,
             "#f0f921"
            ]
           ]
          },
          "colorway": [
           "#636efa",
           "#EF553B",
           "#00cc96",
           "#ab63fa",
           "#FFA15A",
           "#19d3f3",
           "#FF6692",
           "#B6E880",
           "#FF97FF",
           "#FECB52"
          ],
          "font": {
           "color": "#2a3f5f"
          },
          "geo": {
           "bgcolor": "white",
           "lakecolor": "white",
           "landcolor": "#E5ECF6",
           "showlakes": true,
           "showland": true,
           "subunitcolor": "white"
          },
          "hoverlabel": {
           "align": "left"
          },
          "hovermode": "closest",
          "mapbox": {
           "style": "light"
          },
          "paper_bgcolor": "white",
          "plot_bgcolor": "#E5ECF6",
          "polar": {
           "angularaxis": {
            "gridcolor": "white",
            "linecolor": "white",
            "ticks": ""
           },
           "bgcolor": "#E5ECF6",
           "radialaxis": {
            "gridcolor": "white",
            "linecolor": "white",
            "ticks": ""
           }
          },
          "scene": {
           "xaxis": {
            "backgroundcolor": "#E5ECF6",
            "gridcolor": "white",
            "gridwidth": 2,
            "linecolor": "white",
            "showbackground": true,
            "ticks": "",
            "zerolinecolor": "white"
           },
           "yaxis": {
            "backgroundcolor": "#E5ECF6",
            "gridcolor": "white",
            "gridwidth": 2,
            "linecolor": "white",
            "showbackground": true,
            "ticks": "",
            "zerolinecolor": "white"
           },
           "zaxis": {
            "backgroundcolor": "#E5ECF6",
            "gridcolor": "white",
            "gridwidth": 2,
            "linecolor": "white",
            "showbackground": true,
            "ticks": "",
            "zerolinecolor": "white"
           }
          },
          "shapedefaults": {
           "line": {
            "color": "#2a3f5f"
           }
          },
          "ternary": {
           "aaxis": {
            "gridcolor": "white",
            "linecolor": "white",
            "ticks": ""
           },
           "baxis": {
            "gridcolor": "white",
            "linecolor": "white",
            "ticks": ""
           },
           "bgcolor": "#E5ECF6",
           "caxis": {
            "gridcolor": "white",
            "linecolor": "white",
            "ticks": ""
           }
          },
          "title": {
           "x": 0.05
          },
          "xaxis": {
           "automargin": true,
           "gridcolor": "white",
           "linecolor": "white",
           "ticks": "",
           "title": {
            "standoff": 15
           },
           "zerolinecolor": "white",
           "zerolinewidth": 2
          },
          "yaxis": {
           "automargin": true,
           "gridcolor": "white",
           "linecolor": "white",
           "ticks": "",
           "title": {
            "standoff": 15
           },
           "zerolinecolor": "white",
           "zerolinewidth": 2
          }
         }
        },
        "title": {
         "text": "MPMS Data"
        },
        "xaxis": {
         "anchor": "y",
         "domain": [
          0,
          0.45
         ],
         "title": {
          "text": "T (K)"
         }
        },
        "xaxis2": {
         "anchor": "y2",
         "domain": [
          0.55,
          1
         ],
         "title": {
          "text": "T (K)"
         }
        },
        "yaxis": {
         "anchor": "x",
         "domain": [
          0,
          1
         ],
         "title": {
          "text": "M (Am2/kg)"
         }
        },
        "yaxis2": {
         "anchor": "x2",
         "domain": [
          0,
          1
         ],
         "title": {
          "text": "M (Am2/kg)"
         }
        }
       }
      }
     },
     "metadata": {},
     "output_type": "display_data"
    }
   ],
   "source": [
    "rmag.plot_mpms_data(fc_data, zfc_data, rtsirm_cool_data, rtsirm_warm_data, \n",
    "                   fc_color='orange', zfc_color='purple', rtsirm_cool_color='blue', rtsirm_warm_color='darkred',\n",
    "                   fc_marker='^', zfc_marker='o', rtsirm_cool_marker='*', rtsirm_warm_marker='s',\n",
    "                   symbol_size=5, use_plotly=True)"
   ]
  },
  {
   "cell_type": "markdown",
   "metadata": {},
   "source": [
    "## Fit the Verwey transition\n",
    "\n",
    "For these mafic dikes from the East Central Minnesota batholith, the specimens exhibit a significant loss of remanence across the Verwey transition. The Verwey transition as defined by Jackson and Moskowitz (2020) is:\n",
    "\n",
    "> The Verwey transition is a reorganization of the magnetite crystal structure occurring at a temperature T<sub>V</sub> in the range 80–125 K, where the room-temperature cubic inverse-spinel structure transforms to a monoclinic arrangement, and many physical properties of the mineral (e.g. electrical resistivity, heat capacity, magnetic susceptibility, remanence and coercivity) change significantly\n",
    "\n",
    "It is of interest to determine the Verwey transition temperature (T<sub>V</sub>) as it is highly sensitive to changes in magnetite stoichiometry associated with cation substitution or oxidation.\n",
    "\n",
    "It is preferable to estimate the temperature of the Verwey transition (T<sub>V</sub>) associated with warming curves (e.g. the FC/ZFC data) than cooling curves. The rationale is that cooling curves also pass through the isotropic point at a temperature of ∼130 K prior to going through the Verwey transition. The loss of magnetization associated with going through the isotropic point can be very large (particularly for multidomain magnetites) which can obscure the Verwey transition (Jackson and Moskowitz, 2020).\n",
    "\n",
    "We can apply the method described in Jackson and Moskowitz (2020) to estimate the temperature of the Verwey transition. In this method, \n",
    "\n",
    "> [This approach] assumes that the loss of remanence on warming is due to the superposition of (1) progressive unblocking over the 20–300 K temperature range [e.g. due to the transition from the stable single-domain (SSD) to the superparamagnetic (SP) state in nanoparticle populations of magnetite or other magnetic phases] and (2) domain reorganization and intraparticle remanence rotation in a discrete temperature window around T<sub>V</sub>, due to the monoclinic-to-cubic transformation in magnetite.\n",
    "\n",
    "The method to estimate the temperature of the Verwey transition of Jackson and Moskowitz (2020) is to fit the derivative of the data outside of the Verwey transition and then subtract that fit from the derivative. This approach seeks to isolate the signal that is due to the Verwey transition. The peak of the derivative curve can then be used to estimate T<sub>V</sub>. This is done as the interpolated zero crossing of the derivative of the spectrum curve.\n",
    "\n",
    "In the code cell below, we define the temperature and magnetization values that will be used for estimating T<sub>V</sub>. The following parameters can be adjusted:\n",
    "\n",
    "`t_range_background_min` and `t_range_background_max`: The temperature range over which the polynomial fit is applied to the background\n",
    "`excluded_t_min` and `excluded_t_max`: The temperature range that is excluded from the background fit due to remanence loss associated with the Verwey transition.\n",
    "`poly_deg`: the degree of the polynomial fit that is made to the background. Following Jackson and Moskowitz (2020), the default is set to be 3 (cubic).\n",
    "\n",
    "As described in Jackson and Moskowitz (2020), these temperature ranges and polynomial degree can be adjusted to obtain ‘reasonable’ looking curves for the magnetite demagnetization and the progressive unblocking. The goal is for curves that are monotonic with and fits that are within the measurement noise, while seeking to minimizing the polynomial degree."
   ]
  },
  {
   "cell_type": "code",
   "execution_count": 7,
   "metadata": {},
   "outputs": [
    {
     "data": {
      "image/png": "[encoded data removed]",
      "text/plain": [
       "<Figure size 1200x600 with 2 Axes>"
      ]
     },
     "metadata": {
      "image/png": {
       "height": 540,
       "width": 992
      }
     },
     "output_type": "display_data"
    },
    {
     "name": "stdout",
     "output_type": "stream",
     "text": [
      "The T range for background fit is: 60 K to 250 K\n",
      "The excluded T range is: 75 K to 150 K\n",
      "The polynomial degree for background fit is: 3\n",
      "The r-squared value for the background fit is: 0.975\n",
      "The Verwey temperature estimate is: 118.1 K\n"
     ]
    }
   ],
   "source": [
    "temps = fc_data['meas_temp']\n",
    "mags = fc_data['magn_mass']\n",
    "\n",
    "#Enter the minimum temperature for the background fit\n",
    "t_range_background_min = 60 \n",
    "\n",
    "#Enter the maximum temperature for the background fit\n",
    "t_range_background_max = 250 \n",
    "\n",
    "#Enter the minimum temperature to exclude from the background fit\n",
    "excluded_t_min = 75 \n",
    "\n",
    "#Enter the maximum temperature to exclude from the background fit\n",
    "excluded_t_max = 150 \n",
    "\n",
    "verwey_estimate = rmag.verwey_estimate(temps, mags, \n",
    "                                       t_range_background_min,\n",
    "                                       t_range_background_max,\n",
    "                                       excluded_t_min,\n",
    "                                       excluded_t_max,\n",
    "                                       poly_deg = 3)"
   ]
  },
  {
   "cell_type": "markdown",
   "metadata": {},
   "source": [
    "*sandbox for 2nd derivative crossing code*\n",
    "\n",
    "Working on refining the Verwey estimate to use the second derivative crossing rather than the max value of the derivative. More to be done here!"
   ]
  },
  {
   "cell_type": "code",
   "execution_count": 15,
   "metadata": {},
   "outputs": [],
   "source": [
    "t_range_background_min = 50\n",
    "t_range_background_max = 250\n",
    "excluded_t_min=75\n",
    "excluded_t_max = 150\n",
    "poly_deg = 3\n",
    "    \n",
    "dM_dT_df = rmag.thermomag_derivative(temps, mags)\n",
    "temps_dM_dT = dM_dT_df['T']\n"
   ]
  },
  {
   "cell_type": "code",
   "execution_count": 16,
   "metadata": {},
   "outputs": [
    {
     "data": {
      "text/plain": [
       "118.00710000000001"
      ]
     },
     "execution_count": 16,
     "metadata": {},
     "output_type": "execute_result"
    }
   ],
   "source": [
    "temps_filtered_indices = [i for i in np.arange(len(temps_dM_dT)) if ((float(temps_dM_dT[i]) > float(t_range_background_min)) and (float(temps_dM_dT[i])  < float(excluded_t_min)) ) or ((float(temps_dM_dT[i]) > float(excluded_t_max)) and (float(temps_dM_dT[i])  < float(t_range_background_max)))]\n",
    "temps_filtered = dM_dT_df['T'][temps_filtered_indices]\n",
    "dM_dT_filtered = dM_dT_df['dM_dT'][temps_filtered_indices]\n",
    "\n",
    "poly_background_fit = np.polyfit(temps_filtered, dM_dT_filtered, poly_deg)\n",
    "dM_dT_filtered_polyfit = np.poly1d(poly_background_fit)(temps_filtered)\n",
    "\n",
    "residuals = dM_dT_filtered - dM_dT_filtered_polyfit\n",
    "ss_tot = np.sum((dM_dT_filtered - np.mean(dM_dT_filtered)) ** 2)\n",
    "ss_res = np.sum(residuals ** 2)\n",
    "r_squared = 1 - (ss_res / ss_tot)\n",
    "\n",
    "temps_background_indices = [i for i in np.arange(len(temps_dM_dT)) if ((float(temps_dM_dT[i]) > float(t_range_background_min)) and (float(temps_dM_dT[i])  < float(t_range_background_max)))]\n",
    "temps_background_indices = [i for i in np.arange(len(temps_dM_dT)) if ((float(temps_dM_dT[i]) > float(t_range_background_min)) and (float(temps_dM_dT[i])  < float(t_range_background_max)))]\n",
    "temps_background = dM_dT_df['T'][temps_background_indices]\n",
    "temps_background.reset_index(drop = True, inplace=True)\n",
    "dM_dT_background = dM_dT_df['dM_dT'][temps_background_indices]\n",
    "\n",
    "dM_dT_polyfit = np.poly1d(poly_background_fit)(temps_background)\n",
    "\n",
    "mgt_dM_dT = dM_dT_polyfit - dM_dT_background \n",
    "mgt_dM_dT.reset_index(drop = True, inplace=True)\n",
    "\n",
    "max_mgt_dM_dT = max(mgt_dM_dT)\n",
    "max_mgt_dM_dT_index = mgt_dM_dT.argmax()\n",
    "max_value_verwey_estimate = temps_background[max_mgt_dM_dT_index]\n",
    "max_value_verwey_estimate"
   ]
  },
  {
   "cell_type": "code",
   "execution_count": 23,
   "metadata": {},
   "outputs": [
    {
     "ename": "ValueError",
     "evalue": "x and y must have same first dimension, but have shapes (39,) and (40,)",
     "output_type": "error",
     "traceback": [
      "\u001b[0;31m---------------------------------------------------------------------------\u001b[0m",
      "\u001b[0;31mValueError\u001b[0m                                Traceback (most recent call last)",
      "\u001b[0;32m/var/folders/57/lmgz7h4x11v34k53c6ldrlrw0000gn/T/ipykernel_28226/1702041226.py\u001b[0m in \u001b[0;36m<module>\u001b[0;34m\u001b[0m\n\u001b[1;32m     14\u001b[0m \u001b[0max0\u001b[0m \u001b[0;34m=\u001b[0m \u001b[0mfig\u001b[0m\u001b[0;34m.\u001b[0m\u001b[0madd_subplot\u001b[0m\u001b[0;34m(\u001b[0m\u001b[0;36m1\u001b[0m\u001b[0;34m,\u001b[0m\u001b[0;36m1\u001b[0m\u001b[0;34m,\u001b[0m\u001b[0;36m1\u001b[0m\u001b[0;34m)\u001b[0m\u001b[0;34m\u001b[0m\u001b[0;34m\u001b[0m\u001b[0m\n\u001b[1;32m     15\u001b[0m \u001b[0max0\u001b[0m\u001b[0;34m.\u001b[0m\u001b[0mplot\u001b[0m\u001b[0;34m(\u001b[0m\u001b[0mtemps_background\u001b[0m\u001b[0;34m,\u001b[0m\u001b[0mmgt_dM_dT\u001b[0m\u001b[0;34m,\u001b[0m\u001b[0;34m'.-'\u001b[0m\u001b[0;34m,\u001b[0m\u001b[0mcolor\u001b[0m\u001b[0;34m=\u001b[0m\u001b[0;34m'blue'\u001b[0m\u001b[0;34m)\u001b[0m\u001b[0;34m\u001b[0m\u001b[0;34m\u001b[0m\u001b[0m\n\u001b[0;32m---> 16\u001b[0;31m \u001b[0max0\u001b[0m\u001b[0;34m.\u001b[0m\u001b[0mplot\u001b[0m\u001b[0;34m(\u001b[0m\u001b[0msecond_derivative_temps\u001b[0m\u001b[0;34m,\u001b[0m\u001b[0msecond_derivative\u001b[0m\u001b[0;34m,\u001b[0m\u001b[0;34m'.-'\u001b[0m\u001b[0;34m,\u001b[0m\u001b[0mcolor\u001b[0m\u001b[0;34m=\u001b[0m\u001b[0;34m'black'\u001b[0m\u001b[0;34m)\u001b[0m\u001b[0;34m\u001b[0m\u001b[0;34m\u001b[0m\u001b[0m\n\u001b[0m\u001b[1;32m     17\u001b[0m \u001b[0max0\u001b[0m\u001b[0;34m.\u001b[0m\u001b[0maxhline\u001b[0m\u001b[0;34m(\u001b[0m\u001b[0my\u001b[0m\u001b[0;34m=\u001b[0m\u001b[0;36m0\u001b[0m\u001b[0;34m,\u001b[0m \u001b[0mcolor\u001b[0m\u001b[0;34m=\u001b[0m\u001b[0;34m'gray'\u001b[0m\u001b[0;34m,\u001b[0m \u001b[0mlinestyle\u001b[0m\u001b[0;34m=\u001b[0m\u001b[0;34m'--'\u001b[0m\u001b[0;34m)\u001b[0m\u001b[0;34m\u001b[0m\u001b[0;34m\u001b[0m\u001b[0m\n",
      "\u001b[0;32m~/opt/anaconda3/envs/pmagpy_tests/lib/python3.9/site-packages/matplotlib/axes/_axes.py\u001b[0m in \u001b[0;36mplot\u001b[0;34m(self, scalex, scaley, data, *args, **kwargs)\u001b[0m\n\u001b[1;32m   1630\u001b[0m         \"\"\"\n\u001b[1;32m   1631\u001b[0m         \u001b[0mkwargs\u001b[0m \u001b[0;34m=\u001b[0m \u001b[0mcbook\u001b[0m\u001b[0;34m.\u001b[0m\u001b[0mnormalize_kwargs\u001b[0m\u001b[0;34m(\u001b[0m\u001b[0mkwargs\u001b[0m\u001b[0;34m,\u001b[0m \u001b[0mmlines\u001b[0m\u001b[0;34m.\u001b[0m\u001b[0mLine2D\u001b[0m\u001b[0;34m)\u001b[0m\u001b[0;34m\u001b[0m\u001b[0;34m\u001b[0m\u001b[0m\n\u001b[0;32m-> 1632\u001b[0;31m         \u001b[0mlines\u001b[0m \u001b[0;34m=\u001b[0m \u001b[0;34m[\u001b[0m\u001b[0;34m*\u001b[0m\u001b[0mself\u001b[0m\u001b[0;34m.\u001b[0m\u001b[0m_get_lines\u001b[0m\u001b[0;34m(\u001b[0m\u001b[0;34m*\u001b[0m\u001b[0margs\u001b[0m\u001b[0;34m,\u001b[0m \u001b[0mdata\u001b[0m\u001b[0;34m=\u001b[0m\u001b[0mdata\u001b[0m\u001b[0;34m,\u001b[0m \u001b[0;34m**\u001b[0m\u001b[0mkwargs\u001b[0m\u001b[0;34m)\u001b[0m\u001b[0;34m]\u001b[0m\u001b[0;34m\u001b[0m\u001b[0;34m\u001b[0m\u001b[0m\n\u001b[0m\u001b[1;32m   1633\u001b[0m         \u001b[0;32mfor\u001b[0m \u001b[0mline\u001b[0m \u001b[0;32min\u001b[0m \u001b[0mlines\u001b[0m\u001b[0;34m:\u001b[0m\u001b[0;34m\u001b[0m\u001b[0;34m\u001b[0m\u001b[0m\n\u001b[1;32m   1634\u001b[0m             \u001b[0mself\u001b[0m\u001b[0;34m.\u001b[0m\u001b[0madd_line\u001b[0m\u001b[0;34m(\u001b[0m\u001b[0mline\u001b[0m\u001b[0;34m)\u001b[0m\u001b[0;34m\u001b[0m\u001b[0;34m\u001b[0m\u001b[0m\n",
      "\u001b[0;32m~/opt/anaconda3/envs/pmagpy_tests/lib/python3.9/site-packages/matplotlib/axes/_base.py\u001b[0m in \u001b[0;36m__call__\u001b[0;34m(self, data, *args, **kwargs)\u001b[0m\n\u001b[1;32m    310\u001b[0m                 \u001b[0mthis\u001b[0m \u001b[0;34m+=\u001b[0m \u001b[0margs\u001b[0m\u001b[0;34m[\u001b[0m\u001b[0;36m0\u001b[0m\u001b[0;34m]\u001b[0m\u001b[0;34m,\u001b[0m\u001b[0;34m\u001b[0m\u001b[0;34m\u001b[0m\u001b[0m\n\u001b[1;32m    311\u001b[0m                 \u001b[0margs\u001b[0m \u001b[0;34m=\u001b[0m \u001b[0margs\u001b[0m\u001b[0;34m[\u001b[0m\u001b[0;36m1\u001b[0m\u001b[0;34m:\u001b[0m\u001b[0;34m]\u001b[0m\u001b[0;34m\u001b[0m\u001b[0;34m\u001b[0m\u001b[0m\n\u001b[0;32m--> 312\u001b[0;31m             \u001b[0;32myield\u001b[0m \u001b[0;32mfrom\u001b[0m \u001b[0mself\u001b[0m\u001b[0;34m.\u001b[0m\u001b[0m_plot_args\u001b[0m\u001b[0;34m(\u001b[0m\u001b[0mthis\u001b[0m\u001b[0;34m,\u001b[0m \u001b[0mkwargs\u001b[0m\u001b[0;34m)\u001b[0m\u001b[0;34m\u001b[0m\u001b[0;34m\u001b[0m\u001b[0m\n\u001b[0m\u001b[1;32m    313\u001b[0m \u001b[0;34m\u001b[0m\u001b[0m\n\u001b[1;32m    314\u001b[0m     \u001b[0;32mdef\u001b[0m \u001b[0mget_next_color\u001b[0m\u001b[0;34m(\u001b[0m\u001b[0mself\u001b[0m\u001b[0;34m)\u001b[0m\u001b[0;34m:\u001b[0m\u001b[0;34m\u001b[0m\u001b[0;34m\u001b[0m\u001b[0m\n",
      "\u001b[0;32m~/opt/anaconda3/envs/pmagpy_tests/lib/python3.9/site-packages/matplotlib/axes/_base.py\u001b[0m in \u001b[0;36m_plot_args\u001b[0;34m(self, tup, kwargs, return_kwargs)\u001b[0m\n\u001b[1;32m    496\u001b[0m \u001b[0;34m\u001b[0m\u001b[0m\n\u001b[1;32m    497\u001b[0m         \u001b[0;32mif\u001b[0m \u001b[0mx\u001b[0m\u001b[0;34m.\u001b[0m\u001b[0mshape\u001b[0m\u001b[0;34m[\u001b[0m\u001b[0;36m0\u001b[0m\u001b[0;34m]\u001b[0m \u001b[0;34m!=\u001b[0m \u001b[0my\u001b[0m\u001b[0;34m.\u001b[0m\u001b[0mshape\u001b[0m\u001b[0;34m[\u001b[0m\u001b[0;36m0\u001b[0m\u001b[0;34m]\u001b[0m\u001b[0;34m:\u001b[0m\u001b[0;34m\u001b[0m\u001b[0;34m\u001b[0m\u001b[0m\n\u001b[0;32m--> 498\u001b[0;31m             raise ValueError(f\"x and y must have same first dimension, but \"\n\u001b[0m\u001b[1;32m    499\u001b[0m                              f\"have shapes {x.shape} and {y.shape}\")\n\u001b[1;32m    500\u001b[0m         \u001b[0;32mif\u001b[0m \u001b[0mx\u001b[0m\u001b[0;34m.\u001b[0m\u001b[0mndim\u001b[0m \u001b[0;34m>\u001b[0m \u001b[0;36m2\u001b[0m \u001b[0;32mor\u001b[0m \u001b[0my\u001b[0m\u001b[0;34m.\u001b[0m\u001b[0mndim\u001b[0m \u001b[0;34m>\u001b[0m \u001b[0;36m2\u001b[0m\u001b[0;34m:\u001b[0m\u001b[0;34m\u001b[0m\u001b[0;34m\u001b[0m\u001b[0m\n",
      "\u001b[0;31mValueError\u001b[0m: x and y must have same first dimension, but have shapes (39,) and (40,)"
     ]
    },
    {
     "data": {
      "image/png": "[encoded data removed]",
      "text/plain": [
       "<Figure size 700x700 with 1 Axes>"
      ]
     },
     "metadata": {
      "image/png": {
       "height": 597,
       "width": 581
      }
     },
     "output_type": "display_data"
    }
   ],
   "source": [
    "# Calculate the second derivative\n",
    "second_derivative = mgt_dM_dT.diff() / temps_background.diff()\n",
    "\n",
    "dT = temps_background.diff()\n",
    "\n",
    "second_derivative_temps = []\n",
    "for n in range(len(temps_background)-1):\n",
    "    second_derivative_temps.append(temps_background[n] + dT[n+1]/2)\n",
    "second_derivative_temps = pd.Series(second_derivative_temps)\n",
    "\n",
    "temps_background_mid = temps_background.diff().shift(-1) / 2\n",
    "\n",
    "fig = plt.figure(figsize=(7,7))\n",
    "ax0 = fig.add_subplot(1,1,1)\n",
    "ax0.plot(temps_background,mgt_dM_dT,'.-',color='blue')\n",
    "ax0.plot(second_derivative_temps,second_derivative,'.-',color='black')\n",
    "ax0.axhline(y=0, color='gray', linestyle='--')"
   ]
  },
  {
   "cell_type": "code",
   "execution_count": null,
   "metadata": {},
   "outputs": [],
   "source": [
    "\n",
    "# Define a window around the max_mgt_dM_dT_index\n",
    "window_size = 2  # Adjust as needed\n",
    "start_index = max(0, max_mgt_dM_dT_index - window_size)\n",
    "end_index = min(len(temps), max_mgt_dM_dT_index + window_size)\n",
    "\n",
    "# Find index where second derivative changes sign within the window\n",
    "window_indices = np.arange(start_index, end_index)\n",
    "sign_change_indices = window_indices[np.where(np.diff(np.sign(second_derivative.iloc[window_indices])))[0]]\n",
    "\n",
    "# Interpolate to find more precise zero crossing\n",
    "verwey_estimate = temps.iloc[max_mgt_dM_dT_index]  # Default if no zero crossing is found\n",
    "for index in sign_change_indices:\n",
    "    if index + 1 < len(temps_background):\n",
    "        x1, x2 = temps_background.iloc[index], temps_background.iloc[index + 1]\n",
    "        y1, y2 = second_derivative.iloc[index], second_derivative.iloc[index + 1]\n",
    "        if y1 * y2 < 0:  # Zero crossing between index and index + 1\n",
    "            verwey_estimate = x1 - y1 * (x2 - x1) / (y2 - y1)\n",
    "\n",
    "ax0.plot(temps_background,dM_dT_polyfit,'.-',color='green',label='background fit')\n",
    "ax0.plot(temps_background,mgt_dM_dT,'.-',color='blue',label='magnetic (background fit minus total)')\n",
    "ax0.scatter(verwey_estimate,max_mgt_dM_dT,color='black',label='Verwey temperature estimate')\n",
    "ax0.set_ylabel('dM/dT (Am2/kg/K)')\n",
    "ax0.set_xlabel('T (K)')\n",
    "ax0.legend(loc='lower right')\n",
    "ax0.grid(True)\n",
    "ax0.ticklabel_format(axis='y', style='scientific', scilimits=(0,0))\n",
    "plt.show()\n",
    "\n",
    "print('The T range for background fit is: ' + str(t_range_background_min) + ' K to ' + str(t_range_background_max) + ' K')\n",
    "print('The excluded T range is: ' + str(excluded_t_min) + ' K to ' + str(excluded_t_max) + ' K')\n",
    "print('The polynomial degree for background fit is: ' + str(poly_deg))\n",
    "print('The r-squared value for the background fit is: ' + str(round(r_squared,3)))\n",
    "print('The Verwey temperature estimate is: ' + str(round(verwey_estimate,1)) + ' K')"
   ]
  }
 ],
 "metadata": {
  "kernelspec": {
   "display_name": "Python 3",
   "language": "python",
   "name": "python3"
  },
  "language_info": {
   "codemirror_mode": {
    "name": "ipython",
    "version": 3
   },
   "file_extension": ".py",
   "mimetype": "text/x-python",
   "name": "python",
   "nbconvert_exporter": "python",
   "pygments_lexer": "ipython3",
   "version": "3.9.13"
  }
 },
 "nbformat": 4,
 "nbformat_minor": 4
}
