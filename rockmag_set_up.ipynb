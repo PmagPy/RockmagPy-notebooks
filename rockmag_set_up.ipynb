{
 "cells": [
  {
   "cell_type": "markdown",
   "metadata": {},
   "source": [
    "# Getting going with rockmag.py on JupyterHub\n",
    "\n",
    "## First step!\n",
    "\n",
    "**Log into your JupyterHub server**\n",
    "\n",
    "<figure>\n",
    "  <img src=\"https://raw.githubusercontent.com/PmagPy/RockmagPy-notebooks/main/book/images/JupyterHub_login.png\" alt=\"Description of the image\" width=\"250\">\n",
    "</figure>\n",
    "\n",
    "**Then upload this notebook into your own EarthRef JupyterHub server**\n",
    "\n",
    "<figure>\n",
    "  <img src=\"https://raw.githubusercontent.com/PmagPy/RockmagPy-notebooks/main/book/images/JupyterHub_upload.png\" alt=\"Description of the image\" width=\"800\">\n",
    "</figure>\n",
    "\n",
    "<span style=\"color: red;\">**Then change kernel in JupyterHub to Python 3.10**</span>\n",
    "\n",
    "<figure>\n",
    "  <img src=\"https://raw.githubusercontent.com/PmagPy/RockmagPy-notebooks/main/book/images/JupyterHub_change_kernel.png\" alt=\"Description of the image\" width=\"800\">\n",
    "</figure>\n",
    "\n",
    "**Finally, execute this notebook by clicking `Cell` -> `Run All`**\n",
    "\n",
    "This will run all the cells in the notebook, which includes the installation of the `PmagPy` package and the `rockmag.py` scripts that are in development. You will find a new folder called `rockmag` in your JupyterHub directory.\n",
    "\n",
    "> **Warning:** Every time you execute this notebook, the `rockmag` folder will be overwritten! If you have any data in the `rockmag` folder, make sure to back it up (or simply rename it) before running this notebook again.\n",
    "\n",
    "<figure>\n",
    "  <img src=\"https://raw.githubusercontent.com/PmagPy/RockmagPy-notebooks/main/book/images/JupyterHub_Cell_run_all.png\" alt=\"Description of the image\" width=\"800\">\n",
    "</figure>\n"
   ]
  },
  {
   "cell_type": "markdown",
   "metadata": {},
   "source": [
    "## Jupyter notebooks and JupyterHub\n",
    "\n",
    "The [Jupyter notebook](https://jupyter-notebook-beginner-guide.readthedocs.io/en/latest/what_is_jupyter.html) environment enables us to interactively run code and visualize the output complete with annotated notes (like this one!). Such a notebook can be run locally on one's computer with a Python installation or can be run on a JupyterHub such as the [EarthRef JupyterHub](https://jupyterhub.earthref.org/) server.\n",
    "\n",
    "### Upload and download from JupyterHub\n",
    "\n",
    "To upload data from a computer, click the 'Upload' button.  To download a particular image or data file, it can be opened and then downloaded using the File menu. You can upload this notebook (which you can [download here](https://github.com/PmagPy/RockmagPy-notebooks/blob/main/rockmag_set_up.ipynb)\n",
    "[click the download button]) to JupyterHub (if you haven't already) to get setup with RockmagPy notebooks.\n",
    "\n",
    "### Jupyter notebook anatomy\n",
    "\n",
    "Jupyter notebooks have two basic cell type:\n",
    "\n",
    "- Markdown: for typesetting notes. This cell is an example of a markdown cell.  Here is a \"cheatsheet\" for markdown typesetting: https://medium.com/ibm-data-science-experience/markdown-for-jupyter-notebooks-cheatsheet-386c05aeebed if you are hungry for more. \n",
    "\n",
    "- Code: for writing python code\n",
    "\n",
    "Insert a new cell by selecting 'Insert Cell Below' in the drop-down menu under 'Insert'. Cell types default to 'Code' but the cell type can be changed to 'Markdown' with the box labeled 'Markdown' on the menu bar.  \n",
    "\n",
    "To 'execute' a cell of either flavor, click on the Run key, select Run Cells under the _Cell_ drop-down menu, or type `Shift+Enter`. \n",
    "\n",
    "## What is `PmagPy`?  \n",
    "\n",
    "`PmagPy` (Tauxe et al., 2016; [doi:10.1002/2016GC006307](https://agupubs.onlinelibrary.wiley.com/doi/full/10.1002/2016GC006307)) is a software package including programs and functions for analyzing paleomagnetic and rock magnetic data using Python. In addition to providing tools for the working paleomagnetist, **PmagPy** serves  as an interface between paleomagnetic laboratory data and the [MagIC database](https://earthref.org/MagIC). \n",
    "\n",
    "The documentation for PmagPy is located here: https://pmagpy.github.io/PmagPy-docs/\n",
    "\n",
    "## What is `RockmagPy`?  \n",
    "\n",
    "`RockmagPy` is a module within `PmagPy` focused on functions for analyzing rock magnetic data in MagIC format using Python. \n",
    "\n",
    "The documentation for RockmagPy is located here: https://pmagpy.github.io/RockmagPy-notebooks/\n",
    "\n",
    "## Installing the latest release of `PmagPy`\n",
    "\n",
    "Running the cell (by selecting it and then pressing run), will install the latest version of `PmagPy`."
   ]
  },
  {
   "cell_type": "code",
   "execution_count": 1,
   "metadata": {},
   "outputs": [
    {
     "name": "stdout",
     "output_type": "stream",
     "text": [
      "Collecting pmagpy\n",
      "  Downloading pmagpy-4.2.121-py3-none-any.whl (42.7 MB)\n",
      "\u001b[2K     \u001b[90m━━━━━━━━━━━━━━━━━━━━━━━━━━━━━━━━━━━━━━━━\u001b[0m \u001b[32m42.7/42.7 MB\u001b[0m \u001b[31m11.3 MB/s\u001b[0m eta \u001b[36m0:00:00\u001b[0m00:01\u001b[0m00:01\u001b[0m\n",
      "\u001b[?25hInstalling collected packages: pmagpy\n",
      "\u001b[33m  WARNING: The script pmagpy is installed in '/Users/yimingzhang/.local/bin' which is not on PATH.\n",
      "  Consider adding this directory to PATH or, if you prefer to suppress this warning, use --no-warn-script-location.\u001b[0m\u001b[33m\n",
      "\u001b[0mSuccessfully installed pmagpy-4.2.121\n",
      "Note: you may need to restart the kernel to use updated packages.\n",
      "Requirement already satisfied: cartopy in /Users/yimingzhang/opt/anaconda3/lib/python3.9/site-packages (0.22.1.dev74+g234a077)\n",
      "Collecting cartopy\n",
      "  Downloading Cartopy-0.23.0-cp39-cp39-macosx_10_9_x86_64.whl (10.9 MB)\n",
      "\u001b[2K     \u001b[90m━━━━━━━━━━━━━━━━━━━━━━━━━━━━━━━━━━━━━━━━\u001b[0m \u001b[32m10.9/10.9 MB\u001b[0m \u001b[31m11.4 MB/s\u001b[0m eta \u001b[36m0:00:00\u001b[0m00:01\u001b[0m00:01\u001b[0m\n",
      "\u001b[?25hRequirement already satisfied: packaging>=20 in /Users/yimingzhang/opt/anaconda3/lib/python3.9/site-packages (from cartopy) (23.1)\n",
      "Requirement already satisfied: pyshp>=2.3 in /Users/yimingzhang/opt/anaconda3/lib/python3.9/site-packages (from cartopy) (2.3.1)\n",
      "Requirement already satisfied: shapely>=1.7 in /Users/yimingzhang/opt/anaconda3/lib/python3.9/site-packages (from cartopy) (2.0.2)\n",
      "Requirement already satisfied: matplotlib>=3.5 in /Users/yimingzhang/opt/anaconda3/lib/python3.9/site-packages (from cartopy) (3.5.2)\n",
      "Requirement already satisfied: numpy>=1.21 in /Users/yimingzhang/opt/anaconda3/lib/python3.9/site-packages (from cartopy) (1.24.2)\n",
      "Requirement already satisfied: pyproj>=3.3.1 in /Users/yimingzhang/opt/anaconda3/lib/python3.9/site-packages (from cartopy) (3.6.1)\n",
      "Requirement already satisfied: cycler>=0.10 in /Users/yimingzhang/opt/anaconda3/lib/python3.9/site-packages (from matplotlib>=3.5->cartopy) (0.11.0)\n",
      "Requirement already satisfied: python-dateutil>=2.7 in /Users/yimingzhang/opt/anaconda3/lib/python3.9/site-packages (from matplotlib>=3.5->cartopy) (2.8.2)\n",
      "Requirement already satisfied: pyparsing>=2.2.1 in /Users/yimingzhang/opt/anaconda3/lib/python3.9/site-packages (from matplotlib>=3.5->cartopy) (3.0.9)\n",
      "Requirement already satisfied: pillow>=6.2.0 in /Users/yimingzhang/opt/anaconda3/lib/python3.9/site-packages (from matplotlib>=3.5->cartopy) (9.4.0)\n",
      "Requirement already satisfied: kiwisolver>=1.0.1 in /Users/yimingzhang/opt/anaconda3/lib/python3.9/site-packages (from matplotlib>=3.5->cartopy) (1.4.2)\n",
      "Requirement already satisfied: fonttools>=4.22.0 in /Users/yimingzhang/opt/anaconda3/lib/python3.9/site-packages (from matplotlib>=3.5->cartopy) (4.25.0)\n",
      "Requirement already satisfied: certifi in /Users/yimingzhang/opt/anaconda3/lib/python3.9/site-packages (from pyproj>=3.3.1->cartopy) (2023.11.17)\n",
      "Requirement already satisfied: six>=1.5 in /Users/yimingzhang/opt/anaconda3/lib/python3.9/site-packages (from python-dateutil>=2.7->matplotlib>=3.5->cartopy) (1.16.0)\n",
      "Installing collected packages: cartopy\n",
      "\u001b[33m  WARNING: The script cartopy_feature_download is installed in '/Users/yimingzhang/.local/bin' which is not on PATH.\n",
      "  Consider adding this directory to PATH or, if you prefer to suppress this warning, use --no-warn-script-location.\u001b[0m\u001b[33m\n",
      "\u001b[0mSuccessfully installed cartopy-0.23.0\n",
      "Note: you may need to restart the kernel to use updated packages.\n"
     ]
    }
   ],
   "source": [
    "%pip install pmagpy --user --upgrade # install or upgrade pmagpy in your user packages\n",
    "%pip install cartopy --user --upgrade # install or upgrade cartopy in your user packages"
   ]
  },
  {
   "cell_type": "markdown",
   "metadata": {},
   "source": [
    "## Get the RockmagPy-notebook materials from GitHub:\n",
    "\n",
    "Run the code block below to pull in the files and RockmagPy Jupyter Notebooks from Github (https://github.com/PmagPy/RockmagPy-notebooks)."
   ]
  },
  {
   "cell_type": "code",
   "execution_count": 2,
   "metadata": {},
   "outputs": [
    {
     "name": "stdout",
     "output_type": "stream",
     "text": [
      "--2024-05-29 15:32:17--  https://github.com/PmagPy/RockmagPy-notebooks/tarball/master\n",
      "Resolving github.com (github.com)... 140.82.113.4\n",
      "Connecting to github.com (github.com)|140.82.113.4|:443... connected.\n",
      "HTTP request sent, awaiting response... 302 Found\n",
      "Location: https://codeload.github.com/PmagPy/RockmagPy-notebooks/legacy.tar.gz/main [following]\n",
      "--2024-05-29 15:32:17--  https://codeload.github.com/PmagPy/RockmagPy-notebooks/legacy.tar.gz/main\n",
      "Resolving codeload.github.com (codeload.github.com)... 140.82.114.9\n",
      "Connecting to codeload.github.com (codeload.github.com)|140.82.114.9|:443... connected.\n",
      "HTTP request sent, awaiting response... 200 OK\n",
      "Length: unspecified [application/x-gzip]\n",
      "Saving to: 'STDOUT'\n",
      "\n",
      "-                       [     <=>            ]   9.55M  10.4MB/s    in 0.9s    \n",
      "\n",
      "2024-05-29 15:32:18 (10.4 MB/s) - written to stdout [10014943]\n",
      "\n"
     ]
    }
   ],
   "source": [
    "!rm -Rf ~/rockmag # remove any existing downloaded files\n",
    "!mkdir ~/rockmag # make space for downloaded files\n",
    "!wget -O - https://github.com/PmagPy/RockmagPy-notebooks/tarball/master | tar xz -C ~/rockmag # download the latest files"
   ]
  },
  {
   "cell_type": "markdown",
   "metadata": {},
   "source": [
    "## Next step:\n",
    "\n",
    "- Click on 'Open' under the 'File' menu. You may need to refresh your browser to see the new **rockmag** directory). Open the  **rockmag** directory and navigate through to your notebook of choice. \n",
    "\n",
    "- You can return to this notebook and re-run the cells above to **upgrade the packages** or **reset and update the  notebook library and data files** in the future."
   ]
  }
 ],
 "metadata": {
  "kernelspec": {
   "display_name": "Python 3",
   "language": "python",
   "name": "python3"
  },
  "language_info": {
   "codemirror_mode": {
    "name": "ipython",
    "version": 3
   },
   "file_extension": ".py",
   "mimetype": "text/x-python",
   "name": "python",
   "nbconvert_exporter": "python",
   "pygments_lexer": "ipython3",
   "version": "3.9.13"
  }
 },
 "nbformat": 4,
 "nbformat_minor": 2
}
