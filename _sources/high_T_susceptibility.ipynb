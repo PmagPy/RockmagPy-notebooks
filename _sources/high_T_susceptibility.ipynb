{
 "cells": [
  {
   "cell_type": "markdown",
   "metadata": {},
   "source": [
    "#  Analysis of susceptibility-temperature, <span style=\"font-family: 'Times New Roman';\">*(Kappabridge $\\chi$-T)*</span>, data\n",
    "-------------------------------------------------------------------------------------------------------------------------\n",
    "\n",
    "This notebook allows the user to: \n",
    "\n",
    "(1) Download a contribution from the MagIC database.\n",
    "\n",
    "(2) Extract any susceptibility-temperature, <span style=\"font-family: 'Times New Roman';\">*$\\chi$-T*</span>, data contained within it.\n",
    "\n",
    "(3) Correct for the diamagnetic signal of the measurement instrument and holder (optional).\n",
    "\n",
    "(4) Smooth the data prior to further anaysis (optional).\n",
    "\n",
    "(5) Calculate first and second-order derivatives of the curves for qualitatively estimating Curie temperatures.\n",
    "\n",
    "The notebook is to be run cell-by-cell to allow users to select corrections/filters as needed. The code below runs an example dataset from [Doctor and Feinberg (2022)](https://doi.org/10.1029/2021JB023789), Differential thermal analysis using high temperature susceptibility instruments, *Journal of Geophysical Research: Solid Earth*, which is MagiC contribution [19369](http://dx.doi.org/10.7288/V4/MAGIC/19369). Any MagIC contribution which contains <span style=\"font-family: 'Times New Roman';\">*$\\chi$-T*</span> data can be used in place of this example dataset.\n",
    "\n",
    "**Nota bene:** We do not provide Curie Temperature estimation by the \"two-tangent\" method, as proposed for spontaneous magnetization  <span style=\"font-family: 'Times New Roman';\">*M<sub>s</sub>(T)*</span> curves by [Grommé et al. (1969)](https://doi.org/10.1029/JB074i022p05277). [Fabian et al. (2013)](https://doi.org/10.1029/2012GC004440) explain this well:\n",
    "\n",
    "_\"The importance of the difference between determining <span style=\"font-family: 'Times New Roman';\">*T<sub>c</sub>*</span> from <span style=\"font-family: 'Times New Roman';\">M<sub>s</sub>(T)</span> and <span style=\"font-family: 'Times New Roman';\">*$\\chi$-T*</span> is pointed out by [Petrovský and Kapicka (2006)](https://doi.org/10.1029/2006JB004507), where methods to determine <span style=\"font-family: 'Times New Roman';\">T<sub>c</sub></span> from measurements of the initial susceptibility are analyzed. They conclude that the two-tangent method is not suitable for <span style=\"font-family: 'Times New Roman';\">*$\\chi$-T*</span> and can considerably overestimate <span style=\"font-family: 'Times New Roman';\">T<sub>c</sub></span>. The physical origin of  <span style=\"font-family: 'Times New Roman';\">*$\\chi$-T*</span> close to <span style=\"font-family: 'Times New Roman';\">T<sub>c</sub></span> is more challenging than that of <span style=\"font-family: 'Times New Roman';\">M<sub>s</sub>(T)</span>, because a number of low-field effects are important for <span style=\"font-family: 'Times New Roman';\">*$\\chi$-T*</span>, but become negligible in the higher fields used to infer <span style=\"font-family: 'Times New Roman';\">M<sub>s</sub>(T)</span>. The variation of <span style=\"font-family: 'Times New Roman';\">m</span> depends not only on the variation of <span style=\"font-family: 'Times New Roman';\">M<sub>s</sub>(H,T)</span> with field  <span style=\"font-family: 'Times New Roman';\">H</span>, it also contains a contribution from a rotation of the ordered moment with respect to an easy magnetization axis, and contributions from thermally activated switching of small independent – but already magnetically ordered – regions (e.g., SP particles). In large bulk material domain-wall movement contributes to <span style=\"font-family: 'Times New Roman';\">*$\\chi$-T*</span> even slightly below  <span style=\"font-family: 'Times New Roman';\">Tc</span>. In nanoparticles the inhomogeneity of <span style=\"font-family: 'Times New Roman';\">M<sub>s</sub></span>, due to the different exchangecoupling of inner and surface atoms, is of additional importance.\"_\n",
    "\n",
    "And from [Petrovský and Kapicka (2006)](https://doi.org/10.1029/2006JB004507):\n",
    "\n",
    "_\"...susceptibility for T [to] <span style=\"font-family: 'Times New Roman';\">*T<sub>c</sub>*</span> and T < <span style=\"font-family: 'Times New Roman';\">*T<sub>c</sub>*</span> increases to infinity, and we have to use analytical formulas developed for susceptibility behavior above the Curie point. Here, due to the geometry of the susceptibility curve, the two-tangent method will always yield temperature above the inflection point, which is higher than the temperature at which the substance starts to obey the paramagnetic Curie-Weiss law. The resulting error in <span style=\"font-family: 'Times New Roman';\">*T<sub>c</sub>*</span> (or <span style=\"font-family: 'Times New Roman';\">T<sub>N</sub><sup>1</sup></span>) can be on the order of several degrees to several tens of degrees. Therefore, in the case of temperature dependence of magnetic susceptibility, application of the two-tangent method is not justified.\"_\n",
    "\n",
    "Furthermore:\n",
    "\n",
    "_\"In the case of synthetic magnetite and hematite, with sharp Hopkinson peak, the difference between transition\n",
    "temperatures determined using the two-tangent method and Curie-Weiss paramagnetic law is in the order of some few\n",
    "degrees. In the case of samples with wide susceptibility maximum and gradual decrease, reflecting e.g., wide distribution\n",
    "of grain sizes, or in the case of substituted hematite, application of the two-tangent method to susceptibility curves overestimates the transition temperature be several tens of degrees.\"_"
   ]
  },
  {
   "cell_type": "markdown",
   "metadata": {},
   "source": [
    "### Install and import packages\n",
    "\n",
    "Click inside the cell below, hold shift and then press enter. This will automatically run the script below."
   ]
  },
  {
   "cell_type": "code",
   "execution_count": 1,
   "metadata": {},
   "outputs": [],
   "source": [
    "import rockmag as rmag\n",
    "import pmagpy.ipmag as ipmag\n",
    "import pmagpy.contribution_builder as cb"
   ]
  },
  {
   "cell_type": "markdown",
   "metadata": {},
   "source": [
    "## Import data\n",
    "\n",
    "We can take the same approach as in the `rockmag_data_unpack.ipynb` notebook to bring the MagIC data into the notebook as a Contribution. \n",
    "\n",
    "To bring in a different contribution than the one shown in this example:\n",
    "-  set the directory path (currently `'./example_data/X-T'`)\n",
    "-  set the `magic_id` (19369 for  *Doctor and Feinberg (2022)*)\n",
    "-  if the contribution is private, set the share key for your MagIC contribution which you can find by clicking on the \"Share\" button in the MagIC database.\n",
    "\n",
    "<figure>\n",
    "  <img src=\"https://raw.githubusercontent.com/PmagPy/RockmagPy-notebooks/main/book/images/MagIC_private_contribution_1.png\" alt=\"Description of the image\" width=\"800\">\n",
    "</figure>\n",
    "\n",
    "Copy the share key highlighted in grey in the following image to the `share_key` parameter in the cell below.\n",
    "\n",
    "<figure>\n",
    "  <img src=\"https://raw.githubusercontent.com/PmagPy/RockmagPy-notebooks/main/book/images/MagIC_private_contribution_2.png\" alt=\"Description of the image\" width=\"800\">\n",
    "</figure>"
   ]
  },
  {
   "cell_type": "code",
   "execution_count": 2,
   "metadata": {},
   "outputs": [
    {
     "name": "stdout",
     "output_type": "stream",
     "text": [
      "Download successful. File saved to: example_data/X-T/magic_contribution_19369.txt\n",
      "working on:  'contribution'\n",
      "1  records written to file  /Users/yimingzhang/Github/RockmagPy-notebooks/example_data/X-T/contribution.txt\n",
      "contribution  data put in  /Users/yimingzhang/Github/RockmagPy-notebooks/example_data/X-T/contribution.txt\n",
      "working on:  'locations'\n",
      "2  records written to file  /Users/yimingzhang/Github/RockmagPy-notebooks/example_data/X-T/locations.txt\n",
      "locations  data put in  /Users/yimingzhang/Github/RockmagPy-notebooks/example_data/X-T/locations.txt\n",
      "working on:  'sites'\n",
      "6  records written to file  /Users/yimingzhang/Github/RockmagPy-notebooks/example_data/X-T/sites.txt\n",
      "sites  data put in  /Users/yimingzhang/Github/RockmagPy-notebooks/example_data/X-T/sites.txt\n",
      "working on:  'samples'\n",
      "12  records written to file  /Users/yimingzhang/Github/RockmagPy-notebooks/example_data/X-T/samples.txt\n",
      "samples  data put in  /Users/yimingzhang/Github/RockmagPy-notebooks/example_data/X-T/samples.txt\n",
      "working on:  'specimens'\n",
      "52  records written to file  /Users/yimingzhang/Github/RockmagPy-notebooks/example_data/X-T/specimens.txt\n",
      "specimens  data put in  /Users/yimingzhang/Github/RockmagPy-notebooks/example_data/X-T/specimens.txt\n",
      "working on:  'measurements'\n",
      "20923  records written to file  /Users/yimingzhang/Github/RockmagPy-notebooks/example_data/X-T/measurements.txt\n",
      "measurements  data put in  /Users/yimingzhang/Github/RockmagPy-notebooks/example_data/X-T/measurements.txt\n",
      "-I- Using online data model\n",
      "-I- Getting method codes from earthref.org\n",
      "-I- Importing controlled vocabularies from https://earthref.org\n"
     ]
    },
    {
     "data": {
      "text/html": [
       "<div>\n",
       "<style scoped>\n",
       "    .dataframe tbody tr th:only-of-type {\n",
       "        vertical-align: middle;\n",
       "    }\n",
       "\n",
       "    .dataframe tbody tr th {\n",
       "        vertical-align: top;\n",
       "    }\n",
       "\n",
       "    .dataframe thead th {\n",
       "        text-align: right;\n",
       "    }\n",
       "</style>\n",
       "<table border=\"1\" class=\"dataframe\">\n",
       "  <thead>\n",
       "    <tr style=\"text-align: right;\">\n",
       "      <th></th>\n",
       "      <th>citations</th>\n",
       "      <th>experiment</th>\n",
       "      <th>instrument_codes</th>\n",
       "      <th>meas_field_ac</th>\n",
       "      <th>meas_freq</th>\n",
       "      <th>meas_temp</th>\n",
       "      <th>measurement</th>\n",
       "      <th>method_codes</th>\n",
       "      <th>quality</th>\n",
       "      <th>specimen</th>\n",
       "      <th>standard</th>\n",
       "      <th>susc_chi_mass</th>\n",
       "      <th>sequence</th>\n",
       "    </tr>\n",
       "    <tr>\n",
       "      <th>measurement name</th>\n",
       "      <th></th>\n",
       "      <th></th>\n",
       "      <th></th>\n",
       "      <th></th>\n",
       "      <th></th>\n",
       "      <th></th>\n",
       "      <th></th>\n",
       "      <th></th>\n",
       "      <th></th>\n",
       "      <th></th>\n",
       "      <th></th>\n",
       "      <th></th>\n",
       "      <th></th>\n",
       "    </tr>\n",
       "  </thead>\n",
       "  <tbody>\n",
       "    <tr>\n",
       "      <th>IRM-KappaF-5928-1</th>\n",
       "      <td>This study</td>\n",
       "      <td>IRM-KappaF-5928</td>\n",
       "      <td>IRM-KappaF</td>\n",
       "      <td>0.000377</td>\n",
       "      <td>920</td>\n",
       "      <td>298.9</td>\n",
       "      <td>IRM-KappaF-5928-1</td>\n",
       "      <td>LP-X:LP-X-T</td>\n",
       "      <td>g</td>\n",
       "      <td>BHRS13-2B5L1A_01</td>\n",
       "      <td>u</td>\n",
       "      <td>0.000001</td>\n",
       "      <td>1</td>\n",
       "    </tr>\n",
       "    <tr>\n",
       "      <th>IRM-KappaF-5928-2</th>\n",
       "      <td>This study</td>\n",
       "      <td>IRM-KappaF-5928</td>\n",
       "      <td>IRM-KappaF</td>\n",
       "      <td>0.000377</td>\n",
       "      <td>920</td>\n",
       "      <td>302.3</td>\n",
       "      <td>IRM-KappaF-5928-2</td>\n",
       "      <td>LP-X:LP-X-T</td>\n",
       "      <td>g</td>\n",
       "      <td>BHRS13-2B5L1A_01</td>\n",
       "      <td>u</td>\n",
       "      <td>0.000001</td>\n",
       "      <td>2</td>\n",
       "    </tr>\n",
       "    <tr>\n",
       "      <th>IRM-KappaF-5928-3</th>\n",
       "      <td>This study</td>\n",
       "      <td>IRM-KappaF-5928</td>\n",
       "      <td>IRM-KappaF</td>\n",
       "      <td>0.000377</td>\n",
       "      <td>920</td>\n",
       "      <td>307.4</td>\n",
       "      <td>IRM-KappaF-5928-3</td>\n",
       "      <td>LP-X:LP-X-T</td>\n",
       "      <td>g</td>\n",
       "      <td>BHRS13-2B5L1A_01</td>\n",
       "      <td>u</td>\n",
       "      <td>0.000001</td>\n",
       "      <td>3</td>\n",
       "    </tr>\n",
       "    <tr>\n",
       "      <th>IRM-KappaF-5928-4</th>\n",
       "      <td>This study</td>\n",
       "      <td>IRM-KappaF-5928</td>\n",
       "      <td>IRM-KappaF</td>\n",
       "      <td>0.000377</td>\n",
       "      <td>920</td>\n",
       "      <td>312.3</td>\n",
       "      <td>IRM-KappaF-5928-4</td>\n",
       "      <td>LP-X:LP-X-T</td>\n",
       "      <td>g</td>\n",
       "      <td>BHRS13-2B5L1A_01</td>\n",
       "      <td>u</td>\n",
       "      <td>0.000001</td>\n",
       "      <td>4</td>\n",
       "    </tr>\n",
       "    <tr>\n",
       "      <th>IRM-KappaF-5928-5</th>\n",
       "      <td>This study</td>\n",
       "      <td>IRM-KappaF-5928</td>\n",
       "      <td>IRM-KappaF</td>\n",
       "      <td>0.000377</td>\n",
       "      <td>920</td>\n",
       "      <td>316.9</td>\n",
       "      <td>IRM-KappaF-5928-5</td>\n",
       "      <td>LP-X:LP-X-T</td>\n",
       "      <td>g</td>\n",
       "      <td>BHRS13-2B5L1A_01</td>\n",
       "      <td>u</td>\n",
       "      <td>0.000001</td>\n",
       "      <td>5</td>\n",
       "    </tr>\n",
       "    <tr>\n",
       "      <th>...</th>\n",
       "      <td>...</td>\n",
       "      <td>...</td>\n",
       "      <td>...</td>\n",
       "      <td>...</td>\n",
       "      <td>...</td>\n",
       "      <td>...</td>\n",
       "      <td>...</td>\n",
       "      <td>...</td>\n",
       "      <td>...</td>\n",
       "      <td>...</td>\n",
       "      <td>...</td>\n",
       "      <td>...</td>\n",
       "      <td>...</td>\n",
       "    </tr>\n",
       "    <tr>\n",
       "      <th>IRM-KappaF-5913-426</th>\n",
       "      <td>This study</td>\n",
       "      <td>IRM-KappaF-5913</td>\n",
       "      <td>IRM-KappaF</td>\n",
       "      <td>0.000377</td>\n",
       "      <td>920</td>\n",
       "      <td>328.4</td>\n",
       "      <td>IRM-KappaF-5913-426</td>\n",
       "      <td>LP-X:LP-X-T</td>\n",
       "      <td>g</td>\n",
       "      <td>vivian_A03</td>\n",
       "      <td>u</td>\n",
       "      <td>0.000001</td>\n",
       "      <td>20919</td>\n",
       "    </tr>\n",
       "    <tr>\n",
       "      <th>IRM-KappaF-5913-427</th>\n",
       "      <td>This study</td>\n",
       "      <td>IRM-KappaF-5913</td>\n",
       "      <td>IRM-KappaF</td>\n",
       "      <td>0.000377</td>\n",
       "      <td>920</td>\n",
       "      <td>326.6</td>\n",
       "      <td>IRM-KappaF-5913-427</td>\n",
       "      <td>LP-X:LP-X-T</td>\n",
       "      <td>g</td>\n",
       "      <td>vivian_A03</td>\n",
       "      <td>u</td>\n",
       "      <td>0.000001</td>\n",
       "      <td>20920</td>\n",
       "    </tr>\n",
       "    <tr>\n",
       "      <th>IRM-KappaF-5913-428</th>\n",
       "      <td>This study</td>\n",
       "      <td>IRM-KappaF-5913</td>\n",
       "      <td>IRM-KappaF</td>\n",
       "      <td>0.000377</td>\n",
       "      <td>920</td>\n",
       "      <td>325.0</td>\n",
       "      <td>IRM-KappaF-5913-428</td>\n",
       "      <td>LP-X:LP-X-T</td>\n",
       "      <td>g</td>\n",
       "      <td>vivian_A03</td>\n",
       "      <td>u</td>\n",
       "      <td>0.000001</td>\n",
       "      <td>20921</td>\n",
       "    </tr>\n",
       "    <tr>\n",
       "      <th>IRM-KappaF-5913-429</th>\n",
       "      <td>This study</td>\n",
       "      <td>IRM-KappaF-5913</td>\n",
       "      <td>IRM-KappaF</td>\n",
       "      <td>0.000377</td>\n",
       "      <td>920</td>\n",
       "      <td>323.6</td>\n",
       "      <td>IRM-KappaF-5913-429</td>\n",
       "      <td>LP-X:LP-X-T</td>\n",
       "      <td>g</td>\n",
       "      <td>vivian_A03</td>\n",
       "      <td>u</td>\n",
       "      <td>0.000001</td>\n",
       "      <td>20922</td>\n",
       "    </tr>\n",
       "    <tr>\n",
       "      <th>IRM-KappaF-5913-430</th>\n",
       "      <td>This study</td>\n",
       "      <td>IRM-KappaF-5913</td>\n",
       "      <td>IRM-KappaF</td>\n",
       "      <td>0.000377</td>\n",
       "      <td>920</td>\n",
       "      <td>321.9</td>\n",
       "      <td>IRM-KappaF-5913-430</td>\n",
       "      <td>LP-X:LP-X-T</td>\n",
       "      <td>g</td>\n",
       "      <td>vivian_A03</td>\n",
       "      <td>u</td>\n",
       "      <td>0.000001</td>\n",
       "      <td>20923</td>\n",
       "    </tr>\n",
       "  </tbody>\n",
       "</table>\n",
       "<p>20923 rows × 13 columns</p>\n",
       "</div>"
      ],
      "text/plain": [
       "                      citations       experiment instrument_codes  \\\n",
       "measurement name                                                    \n",
       "IRM-KappaF-5928-1    This study  IRM-KappaF-5928       IRM-KappaF   \n",
       "IRM-KappaF-5928-2    This study  IRM-KappaF-5928       IRM-KappaF   \n",
       "IRM-KappaF-5928-3    This study  IRM-KappaF-5928       IRM-KappaF   \n",
       "IRM-KappaF-5928-4    This study  IRM-KappaF-5928       IRM-KappaF   \n",
       "IRM-KappaF-5928-5    This study  IRM-KappaF-5928       IRM-KappaF   \n",
       "...                         ...              ...              ...   \n",
       "IRM-KappaF-5913-426  This study  IRM-KappaF-5913       IRM-KappaF   \n",
       "IRM-KappaF-5913-427  This study  IRM-KappaF-5913       IRM-KappaF   \n",
       "IRM-KappaF-5913-428  This study  IRM-KappaF-5913       IRM-KappaF   \n",
       "IRM-KappaF-5913-429  This study  IRM-KappaF-5913       IRM-KappaF   \n",
       "IRM-KappaF-5913-430  This study  IRM-KappaF-5913       IRM-KappaF   \n",
       "\n",
       "                     meas_field_ac  meas_freq  meas_temp          measurement  \\\n",
       "measurement name                                                                \n",
       "IRM-KappaF-5928-1         0.000377        920      298.9    IRM-KappaF-5928-1   \n",
       "IRM-KappaF-5928-2         0.000377        920      302.3    IRM-KappaF-5928-2   \n",
       "IRM-KappaF-5928-3         0.000377        920      307.4    IRM-KappaF-5928-3   \n",
       "IRM-KappaF-5928-4         0.000377        920      312.3    IRM-KappaF-5928-4   \n",
       "IRM-KappaF-5928-5         0.000377        920      316.9    IRM-KappaF-5928-5   \n",
       "...                            ...        ...        ...                  ...   \n",
       "IRM-KappaF-5913-426       0.000377        920      328.4  IRM-KappaF-5913-426   \n",
       "IRM-KappaF-5913-427       0.000377        920      326.6  IRM-KappaF-5913-427   \n",
       "IRM-KappaF-5913-428       0.000377        920      325.0  IRM-KappaF-5913-428   \n",
       "IRM-KappaF-5913-429       0.000377        920      323.6  IRM-KappaF-5913-429   \n",
       "IRM-KappaF-5913-430       0.000377        920      321.9  IRM-KappaF-5913-430   \n",
       "\n",
       "                    method_codes quality          specimen standard  \\\n",
       "measurement name                                                      \n",
       "IRM-KappaF-5928-1    LP-X:LP-X-T       g  BHRS13-2B5L1A_01        u   \n",
       "IRM-KappaF-5928-2    LP-X:LP-X-T       g  BHRS13-2B5L1A_01        u   \n",
       "IRM-KappaF-5928-3    LP-X:LP-X-T       g  BHRS13-2B5L1A_01        u   \n",
       "IRM-KappaF-5928-4    LP-X:LP-X-T       g  BHRS13-2B5L1A_01        u   \n",
       "IRM-KappaF-5928-5    LP-X:LP-X-T       g  BHRS13-2B5L1A_01        u   \n",
       "...                          ...     ...               ...      ...   \n",
       "IRM-KappaF-5913-426  LP-X:LP-X-T       g        vivian_A03        u   \n",
       "IRM-KappaF-5913-427  LP-X:LP-X-T       g        vivian_A03        u   \n",
       "IRM-KappaF-5913-428  LP-X:LP-X-T       g        vivian_A03        u   \n",
       "IRM-KappaF-5913-429  LP-X:LP-X-T       g        vivian_A03        u   \n",
       "IRM-KappaF-5913-430  LP-X:LP-X-T       g        vivian_A03        u   \n",
       "\n",
       "                     susc_chi_mass  sequence  \n",
       "measurement name                              \n",
       "IRM-KappaF-5928-1         0.000001         1  \n",
       "IRM-KappaF-5928-2         0.000001         2  \n",
       "IRM-KappaF-5928-3         0.000001         3  \n",
       "IRM-KappaF-5928-4         0.000001         4  \n",
       "IRM-KappaF-5928-5         0.000001         5  \n",
       "...                            ...       ...  \n",
       "IRM-KappaF-5913-426       0.000001     20919  \n",
       "IRM-KappaF-5913-427       0.000001     20920  \n",
       "IRM-KappaF-5913-428       0.000001     20921  \n",
       "IRM-KappaF-5913-429       0.000001     20922  \n",
       "IRM-KappaF-5913-430       0.000001     20923  \n",
       "\n",
       "[20923 rows x 13 columns]"
      ]
     },
     "execution_count": 2,
     "metadata": {},
     "output_type": "execute_result"
    }
   ],
   "source": [
    "#define these three parameters to match your data\n",
    "magic_id = '19369'\n",
    "share_key = ''\n",
    "dir_path = 'example_data/X-T'\n",
    "\n",
    "result, magic_file = ipmag.download_magic_from_id(magic_id, directory=dir_path, share_key=share_key)\n",
    "ipmag.unpack_magic(magic_file, dir_path)\n",
    "contribution = cb.Contribution(dir_path)\n",
    "measurements = contribution.tables['measurements'].df\n",
    "measurements.dropna(axis=1, how='all')"
   ]
  },
  {
   "cell_type": "markdown",
   "metadata": {},
   "source": [
    "## The project export contains data from all the experiments\n",
    "\n",
    "Each measurement in a MagIC measurements table has a `method_codes` value. These method codes come from a \"controlled vocabulary\" (https://www2.earthref.org/MagIC/method-codes). \n",
    "\n",
    "In the method codes used for the example contribution:\n",
    "- `LP` refers to lab protocol\n",
    "- `X-T` refers to susceptibility vs. temperature experiments done on the Kappabridge"
   ]
  },
  {
   "cell_type": "code",
   "execution_count": 3,
   "metadata": {},
   "outputs": [
    {
     "data": {
      "text/plain": [
       "array(['LP-X:LP-X-T', 'LP-X-T'], dtype=object)"
      ]
     },
     "execution_count": 3,
     "metadata": {},
     "output_type": "execute_result"
    }
   ],
   "source": [
    "measurements.method_codes.unique()"
   ]
  },
  {
   "cell_type": "markdown",
   "metadata": {},
   "source": [
    "## Select a <span style=\"font-family: 'Times New Roman';\">*$\\chi$-T*</span> Experiment\n",
    "*Creates a dropdown to select specimens with <span style=\"font-family: 'Times New Roman';\">*$\\chi$*-T</span> data.*"
   ]
  },
  {
   "cell_type": "code",
   "execution_count": 4,
   "metadata": {},
   "outputs": [
    {
     "data": {
      "application/vnd.jupyter.widget-view+json": {
       "model_id": "c1ac31b485a24e43b4474096271824ba",
       "version_major": 2,
       "version_minor": 0
      },
      "text/plain": [
       "Dropdown(description='specimen:', options=('BHRS13-2B5L1A_01', 'BHRS13-2B5L1B_01', 'blank_A01', 'blank_A10', '…"
      ]
     },
     "metadata": {},
     "output_type": "display_data"
    },
    {
     "data": {
      "application/vnd.jupyter.widget-view+json": {
       "model_id": "27126e51cf4549fabffb52667784cf44",
       "version_major": 2,
       "version_minor": 0
      },
      "text/plain": [
       "Dropdown(description='Experiment:', options=('IRM-KappaF-5928',), value='IRM-KappaF-5928')"
      ]
     },
     "metadata": {},
     "output_type": "display_data"
    }
   ],
   "source": [
    "specimen, experiment = rmag.interactive_specimen_experiment_selection(measurements)"
   ]
  },
  {
   "cell_type": "code",
   "execution_count": 5,
   "metadata": {},
   "outputs": [],
   "source": [
    "selected_experiment = measurements[(measurements['specimen']==specimen.value) & \n",
    "                                      (measurements['experiment']==experiment.value)].reset_index(drop=1)"
   ]
  },
  {
   "cell_type": "markdown",
   "metadata": {},
   "source": [
    "## Plot $\\chi$-T data, the derivatives, and inverse $\\chi$-T\n",
    "\n",
    "- Your data might be noisy, which may hinder assessing reversibility for understanding alteration. The following code will perform a running average of data over a temperature interval that you can define. In the following cell, change the value associated with variable `temp_window` to set the desired temperature window for the running average.\n",
    "\n",
    "- Holder removal: Set `remove_holder` parameter to be `True`. We assume that the lowest susceptibility value during the whole measurement is the holder signal, and that this happens after the specimen is heated above the critical temperature such that it is paramagnetic and the holder signal is dominant.\n",
    "\n",
    "Three graphs will be created. \n",
    "\n",
    "(1) The top graph shows the raw data as points and the smoothed data as lines, for the temperature window size selected. \n",
    "\n",
    "(2) The second graph plots the derivatives based on the smoothed data in the top graph.\n",
    "\n",
    "(3) The third graph plots the inverse susceptibility data, which can also be used to qualitatively assess the Curie temperature."
   ]
  },
  {
   "cell_type": "markdown",
   "metadata": {},
   "source": [
    "### Calculate <span style=\"font-family: 'Times New Roman';\">*T<sub>c</sub>*</span> using inverse susceptibility\n",
    "\n",
    "Above <span style=\"font-family: 'Times New Roman';\">*T<sub>c</sub>*</span> a mineral phase will be paramagnetic. This means that the inverse susceptibility should have a linear positive slope above <span style=\"font-family: 'Times New Roman';\">*T<sub>c</sub>*</span>. Using the intercept temperature at 0 inverse susceptibility is a good guess for  <span style=\"font-family: 'Times New Roman';\">*T<sub>c</sub>*</span>. This is essentially the break of slope between the ferromagnetic and paramagnetic signal."
   ]
  },
  {
   "cell_type": "code",
   "execution_count": 8,
   "metadata": {},
   "outputs": [
    {
     "data": {
      "application/vnd.plotly.v1+json": {
       "config": {
        "plotlyServerURL": "https://plot.ly"
       },
       "data": [
        {
         "marker": {
          "color": "red",
          "opacity": 0.5
         },
         "mode": "markers",
         "name": "Heating - zero corrected",
         "type": "scatter",
         "x": [
          25.75,
          29.150000000000034,
          34.25,
          39.150000000000034,
          43.75,
          48.650000000000034,
          52.75,
          56.450000000000045,
          60.25,
          64.15000000000003,
          67.25,
          70.05000000000001,
          73.05000000000001,
          76.15000000000003,
          78.85000000000002,
          81.55000000000001,
          83.85000000000002,
          86.55000000000001,
          89.25,
          91.85000000000002,
          93.95000000000005,
          96.65000000000003,
          99.25,
          101.95000000000005,
          104.15000000000003,
          106.85000000000002,
          109.55000000000001,
          112.15000000000003,
          114.15000000000003,
          116.35000000000002,
          118.55000000000001,
          120.75,
          122.95000000000005,
          125.55000000000001,
          127.65000000000003,
          130.35000000000002,
          132.55,
          135.25,
          137.75,
          140.05,
          142.55,
          145.25,
          147.85000000000002,
          150.85000000000002,
          153.65000000000003,
          156.65000000000003,
          159.45000000000005,
          162.35000000000002,
          164.75,
          167.35000000000002,
          170.25,
          172.75,
          175.15000000000003,
          177.55,
          180.05,
          182.85000000000002,
          185.45000000000005,
          188.35000000000002,
          190.75,
          193.75,
          196.75,
          199.55,
          202.45000000000005,
          205.95000000000005,
          209.05,
          212.05,
          215.25,
          219.05,
          222.95000000000005,
          227.25,
          231.15000000000003,
          235.35000000000002,
          239.75,
          244.14999999999998,
          248.14999999999998,
          252.45000000000005,
          256.35,
          259.95000000000005,
          263.55000000000007,
          266.45000000000005,
          269.35,
          272.85,
          275.95000000000005,
          279.15,
          282.15,
          285.75,
          289.05000000000007,
          292.65,
          295.65,
          299.15,
          302.75,
          306.45000000000005,
          309.55000000000007,
          313.25,
          316.65,
          320.15,
          323.25,
          326.65,
          329.65,
          332.95000000000005,
          335.75,
          339.15,
          342.05000000000007,
          345.05000000000007,
          347.75,
          350.15,
          353.45000000000005,
          356.35,
          359.55000000000007,
          362.55000000000007,
          365.45000000000005,
          367.75,
          371.25,
          374.35,
          377.05000000000007,
          380.55000000000007,
          383.65,
          386.95000000000005,
          390.05000000000007,
          393.15,
          396.25,
          399.65,
          403.15,
          406.35,
          409.65,
          412.45000000000005,
          415.05000000000007,
          418.75,
          422.65,
          426.75,
          430.05000000000007,
          433.45000000000005,
          436.65,
          439.65,
          443.05000000000007,
          448.35,
          451.25,
          453.95000000000005,
          457.05000000000007,
          459.75,
          462.75,
          465.55000000000007,
          468.75,
          471.55000000000007,
          474.45000000000005,
          477.15,
          480.25,
          483.15,
          486.15,
          489.25,
          492.25,
          495.35,
          498.95000000000005,
          502.45000000000005,
          506.25,
          509.65,
          512.75,
          515.65,
          518.5500000000001,
          521.15,
          524.15,
          527.0500000000001,
          529.85,
          532.45,
          535.45,
          538.15,
          541.25,
          544.45,
          547.75,
          550.5500000000001,
          553.95,
          556.5500000000001,
          559.15,
          561.75,
          564.95,
          567.5500000000001,
          570.45,
          573.25,
          576.5500000000001,
          579.35,
          582.15,
          584.35,
          587.35,
          589.65,
          592.35,
          595.0500000000001,
          598.75,
          601.65,
          604.45,
          607.45,
          610.75,
          613.0500000000001,
          614.85,
          618.95,
          621.85,
          625.35,
          628.25,
          631.35,
          635.85,
          639.15,
          642.15,
          643.25,
          646.0500000000001,
          647.65,
          648.5500000000001,
          648.65,
          596.35
         ],
         "y": [
          0.000001045,
          0.000001069,
          0.000001057,
          0.000001045,
          0.000001022,
          0.000001022,
          9.978e-7,
          0.000001022,
          0.00000101,
          0.00000101,
          0.00000101,
          9.859e-7,
          0.000001022,
          9.622e-7,
          9.859e-7,
          9.74e-7,
          9.859e-7,
          9.74e-7,
          9.978e-7,
          9.74e-7,
          9.74e-7,
          9.503e-7,
          9.859e-7,
          9.503e-7,
          9.503e-7,
          9.265e-7,
          9.384e-7,
          9.503e-7,
          9.503e-7,
          9.622e-7,
          9.384e-7,
          9.384e-7,
          9.503e-7,
          9.503e-7,
          9.265e-7,
          9.265e-7,
          9.503e-7,
          9.384e-7,
          9.265e-7,
          8.909e-7,
          9.147e-7,
          9.028e-7,
          8.909e-7,
          8.79e-7,
          9.028e-7,
          8.909e-7,
          9.147e-7,
          8.909e-7,
          8.671e-7,
          9.147e-7,
          8.79e-7,
          8.79e-7,
          9.028e-7,
          9.028e-7,
          8.909e-7,
          8.671e-7,
          8.79e-7,
          8.79e-7,
          8.909e-7,
          8.909e-7,
          8.434e-7,
          8.553e-7,
          8.909e-7,
          8.671e-7,
          8.79e-7,
          8.671e-7,
          8.553e-7,
          9.147e-7,
          8.553e-7,
          8.79e-7,
          8.79e-7,
          8.671e-7,
          8.671e-7,
          8.315e-7,
          8.553e-7,
          8.671e-7,
          8.671e-7,
          8.434e-7,
          8.553e-7,
          8.196e-7,
          8.434e-7,
          8.671e-7,
          8.909e-7,
          8.434e-7,
          8.671e-7,
          8.315e-7,
          8.434e-7,
          8.315e-7,
          8.79e-7,
          8.671e-7,
          8.315e-7,
          8.077e-7,
          8.434e-7,
          8.196e-7,
          8.553e-7,
          8.196e-7,
          9.147e-7,
          9.265e-7,
          9.978e-7,
          0.00000101,
          0.000001128,
          0.000001235,
          0.000001425,
          0.000001509,
          0.000001687,
          0.000001841,
          0.000002091,
          0.000002328,
          0.000002578,
          0.000002815,
          0.000002982,
          0.000003219,
          0.000003504,
          0.000003706,
          0.000003991,
          0.000004359,
          0.000004751,
          0.000005298,
          0.000005975,
          0.000006747,
          0.00000765,
          0.000008659,
          0.0000098,
          0.0000109,
          0.00001221,
          0.00001352,
          0.00001512,
          0.00001726,
          0.00001933,
          0.00002143,
          0.00002335,
          0.00002553,
          0.00002734,
          0.0000293,
          0.00003149,
          0.00003498,
          0.000037,
          0.00003878,
          0.00004074,
          0.00004258,
          0.00004437,
          0.00004597,
          0.00004769,
          0.00004912,
          0.00005054,
          0.00005167,
          0.00005292,
          0.00005375,
          0.0000544,
          0.00005458,
          0.00005458,
          0.00005417,
          0.00005351,
          0.00005221,
          0.00005025,
          0.00004787,
          0.00004508,
          0.00004229,
          0.00003908,
          0.00003581,
          0.00003189,
          0.00002738,
          0.00002275,
          0.00001871,
          0.00001425,
          0.00001099,
          0.000007662,
          0.000005345,
          0.000003564,
          0.000002732,
          0.000002019,
          0.000001604,
          0.000001366,
          0.000001188,
          8.315e-7,
          8.315e-7,
          6.533e-7,
          5.939e-7,
          3.564e-7,
          2.97e-7,
          1.188e-7,
          2.376e-7,
          1.782e-7,
          1.188e-7,
          1.188e-7,
          2.376e-7,
          5.939e-8,
          1.782e-7,
          0,
          0,
          1.782e-7,
          5.939e-8,
          1.782e-7,
          5.939e-8,
          2.97e-7,
          5.939e-8,
          1.188e-7,
          5.939e-8,
          1.188e-7,
          1.782e-7,
          1.188e-7,
          2.376e-7,
          1.188e-7,
          1.782e-7,
          2.376e-7,
          2.376e-7,
          3.564e-7
         ]
        },
        {
         "line": {
          "color": "red"
         },
         "mode": "lines",
         "name": "Heating - zero corrected - smoothed",
         "type": "scatter",
         "x": [
          27.450000000000017,
          27.450000000000017,
          36.70000000000002,
          39.05000000000001,
          43.85000000000002,
          48.38333333333335,
          52.616666666666696,
          56.48333333333335,
          60.28333333333336,
          63.88333333333335,
          67.15000000000002,
          70.11666666666667,
          73.08333333333336,
          76.0166666666667,
          80.10000000000002,
          82.70000000000002,
          82.70000000000002,
          85.30000000000001,
          90.40000000000002,
          92.92500000000003,
          92.92500000000003,
          95.42500000000003,
          100.50000000000003,
          103.05000000000003,
          103.05000000000003,
          105.62500000000003,
          110.67500000000003,
          113.05000000000003,
          114.15000000000002,
          116.39000000000001,
          118.55000000000003,
          120.83000000000001,
          123.09,
          125.45000000000002,
          127.81000000000003,
          130.27000000000004,
          131.45000000000002,
          135.19,
          138.9,
          138.9,
          141.4,
          145.21666666666667,
          147.98333333333335,
          150.78333333333336,
          153.7166666666667,
          156.58333333333337,
          159.48333333333338,
          163.47500000000002,
          164.8166666666667,
          166.175,
          171.375,
          173.925,
          175.15,
          176.375,
          178.9,
          182.7833333333334,
          185.55000000000004,
          188.18333333333337,
          190.95000000000002,
          193.75,
          196.6833333333333,
          199.58333333333334,
          202.65,
          205.8166666666667,
          209.01666666666668,
          212.11666666666667,
          215.45000000000002,
          219.08333333333334,
          223.08333333333334,
          227.1166666666667,
          231.25,
          235.41666666666666,
          239.75,
          244.01666666666665,
          248.25,
          252.3166666666667,
          256.25000000000006,
          259.95000000000005,
          263.3166666666667,
          266.45000000000005,
          269.55,
          272.7166666666667,
          275.98333333333335,
          279.0833333333333,
          282.34999999999997,
          285.65000000000003,
          289.15000000000003,
          292.45,
          295.81666666666666,
          299.18333333333334,
          302.78333333333336,
          306.25000000000006,
          309.75000000000006,
          313.15000000000003,
          316.68333333333334,
          320.01666666666665,
          323.34999999999997,
          326.51666666666665,
          329.75,
          332.78333333333336,
          335.95,
          338.98333333333335,
          342.0833333333333,
          344.95000000000005,
          347.65000000000003,
          350.45,
          353.31666666666666,
          356.45000000000005,
          359.4833333333334,
          362.5166666666667,
          365.25,
          368.15000000000003,
          371.1166666666666,
          374.2166666666667,
          377.3166666666668,
          380.4166666666667,
          383.7166666666667,
          386.8833333333334,
          390.05,
          393.15000000000003,
          396.34999999999997,
          399.68333333333334,
          403.05,
          406.3833333333334,
          409.48333333333335,
          412.3833333333334,
          415.4166666666667,
          418.81666666666666,
          422.7166666666667,
          426.48333333333335,
          430.0833333333333,
          433.3833333333334,
          436.5833333333333,
          439.7833333333333,
          441.35,
          449.8,
          451.1833333333334,
          454.0833333333333,
          456.9166666666667,
          459.8500000000001,
          462.6833333333334,
          465.6833333333334,
          468.61666666666673,
          471.5833333333333,
          474.3833333333334,
          477.2833333333333,
          480.18333333333334,
          483.18333333333334,
          486.18333333333334,
          489.2166666666667,
          492.2833333333333,
          495.5166666666667,
          498.9166666666667,
          502.55,
          506.1166666666666,
          509.55,
          512.6833333333333,
          515.6500000000001,
          518.4499999999999,
          521.2833333333333,
          524.1166666666667,
          527.0166666666668,
          529.7833333333334,
          532.5833333333334,
          535.35,
          538.2833333333333,
          541.2833333333334,
          544.4833333333333,
          547.5833333333334,
          550.7500000000001,
          553.6833333333334,
          556.5500000000001,
          559.15,
          561.95,
          564.75,
          567.65,
          570.4166666666666,
          573.4166666666666,
          576.3833333333333,
          580.6,
          581.9499999999999,
          583.3,
          588.425,
          589.7833333333333,
          592.15,
          595.625,
          597.95,
          601.6166666666667,
          604.5166666666667,
          607.5500000000001,
          611.525,
          612.8833333333333,
          614.4000000000001,
          618.5500000000001,
          622.0500000000001,
          625.15,
          628.3166666666666,
          631.8166666666666,
          635.4499999999999,
          640.1,
          642.65,
          643.65,
          646.0500000000001,
          646.8300000000002,
          647.725,
          647.725,
          595.625
         ],
         "y": [
          0.000001057,
          0.000001057,
          0.000001051,
          0.0000010413333333333333,
          0.0000010296666666666665,
          0.0000010139333333333333,
          0.0000010139333333333331,
          0.0000010099333333333333,
          0.0000010140000000000002,
          0.00000101,
          0.0000010019666666666667,
          0.0000010059666666666666,
          9.900333333333332e-7,
          9.900333333333332e-7,
          9.77e-7,
          9.799499999999998e-7,
          9.799499999999998e-7,
          9.82925e-7,
          9.799499999999998e-7,
          9.74025e-7,
          9.74025e-7,
          9.7105e-7,
          9.592e-7,
          9.5325e-7,
          9.5325e-7,
          9.413749999999999e-7,
          9.41375e-7,
          9.503e-7,
          9.479200000000001e-7,
          9.479200000000001e-7,
          9.479200000000001e-7,
          9.479200000000001e-7,
          9.4078e-7,
          9.384e-7,
          9.4078e-7,
          9.384e-7,
          9.35425e-7,
          9.265199999999999e-7,
          9.17625e-7,
          9.17625e-7,
          9.08725e-7,
          9.028000000000001e-7,
          8.908999999999999e-7,
          8.908999999999999e-7,
          8.908999999999999e-7,
          9.028e-7,
          8.988333333333335e-7,
          8.9685e-7,
          8.908999999999999e-7,
          8.87925e-7,
          8.93875e-7,
          8.909e-7,
          8.909e-7,
          8.93875e-7,
          8.909e-7,
          8.79e-7,
          8.750333333333334e-7,
          8.829666666666668e-7,
          8.869333333333333e-7,
          8.750666666666666e-7,
          8.632000000000001e-7,
          8.632e-7,
          8.711e-7,
          8.79e-7,
          8.710666666666667e-7,
          8.671333333333334e-7,
          8.790333333333334e-7,
          8.751e-7,
          8.83e-7,
          8.711e-7,
          8.750333333333334e-7,
          8.710666666666667e-7,
          8.552333333333333e-7,
          8.513000000000001e-7,
          8.513000000000001e-7,
          8.631666666666666e-7,
          8.592000000000001e-7,
          8.552666666666667e-7,
          8.394333333333334e-7,
          8.394333333333334e-7,
          8.433666666666667e-7,
          8.671333333333334e-7,
          8.671333333333334e-7,
          8.671333333333334e-7,
          8.473333333333333e-7,
          8.473333333333334e-7,
          8.354666666666668e-7,
          8.513000000000001e-7,
          8.592000000000001e-7,
          8.592000000000001e-7,
          8.354333333333334e-7,
          8.275333333333332e-7,
          8.235666666666666e-7,
          8.394333333333334e-7,
          8.314999999999999e-7,
          8.632e-7,
          8.869333333333333e-7,
          9.463333333333335e-7,
          9.781e-7,
          0.0000010452666666666668,
          0.0000011243333333333334,
          0.0000012626666666666666,
          0.0000013896666666666668,
          0.0000015403333333333335,
          0.0000016790000000000001,
          0.000001873,
          0.0000020866666666666665,
          0.000002332333333333333,
          0.0000025736666666666666,
          0.000002791666666666667,
          0.0000030053333333333332,
          0.000003235,
          0.000003476333333333333,
          0.0000037336666666666665,
          0.000004018666666666667,
          0.000004367,
          0.000004802666666666666,
          0.000005341333333333333,
          0.000006006666666666667,
          0.000006790666666666667,
          0.000007685333333333332,
          0.000008703,
          0.000009786333333333333,
          0.00001097,
          0.00001221,
          0.000013616666666666666,
          0.0000153,
          0.000017236666666666667,
          0.00001934,
          0.000021369999999999997,
          0.000023436666666666665,
          0.000025406666666666665,
          0.000027390000000000004,
          0.000029376666666666666,
          0.000030395,
          0.00003599,
          0.00003692,
          0.00003884,
          0.00004069999999999999,
          0.00004256333333333334,
          0.00004430666666666667,
          0.00004601,
          0.00004759333333333333,
          0.00004911666666666666,
          0.00005044333333333333,
          0.000051710000000000005,
          0.00005278,
          0.00005369,
          0.000054243333333333336,
          0.000054520000000000007,
          0.000054443333333333334,
          0.00005408666666666667,
          0.00005329666666666666,
          0.00005199,
          0.00005011,
          0.00004773333333333334,
          0.00004508,
          0.00004215,
          0.00003906,
          0.00003559333333333334,
          0.00003169333333333333,
          0.000027340000000000003,
          0.000022946666666666665,
          0.00001857,
          0.000014649999999999999,
          0.000010967333333333334,
          0.000007999,
          0.000005523666666666667,
          0.000003880333333333333,
          0.000002771666666666667,
          0.0000021183333333333335,
          0.000001663,
          0.000001386,
          0.0000011285,
          9.503333333333333e-7,
          7.721000000000001e-7,
          6.929000000000001e-7,
          5.345333333333334e-7,
          4.157666666666667e-7,
          2.5245e-7,
          2.1779999999999998e-7,
          2.079e-7,
          1.6335000000000002e-7,
          1.386e-7,
          2.0196000000000002e-7,
          1.9304749999999998e-7,
          2.0789749999999999e-7,
          7.919666666666666e-8,
          5.9399999999999996e-8,
          5.9399999999999996e-8,
          1.039475e-7,
          1.3859666666666666e-7,
          1.18795e-7,
          1.781966666666667e-7,
          1.3859333333333334e-7,
          1.583966666666667e-7,
          7.919333333333334e-8,
          9.899666666666667e-8,
          1.1879666666666667e-7,
          1.6335e-7,
          1.6335e-7,
          1.6632e-7,
          1.8810000000000002e-7,
          2.0196000000000002e-7,
          1.9305e-7,
          1.9305e-7,
          1.9304749999999998e-7
         ]
        },
        {
         "marker": {
          "color": "blue",
          "opacity": 0.5
         },
         "mode": "markers",
         "name": "Cooling - zero corrected",
         "type": "scatter",
         "x": [
          631.0500000000001,
          648.5500000000001,
          648.0500000000001,
          646.45,
          644.5500000000001,
          642.25,
          637.15,
          637.0500000000001,
          635.45,
          633.15,
          631.15,
          628.65,
          626.5500000000001,
          623.75,
          621.15,
          618.5500000000001,
          616.25,
          613.5500000000001,
          611.25,
          608.45,
          606.0500000000001,
          603.15,
          595.85,
          594.45,
          591.95,
          589.35,
          586.25,
          583.85,
          581.25,
          578.5500000000001,
          575.5500000000001,
          572.95,
          570.25,
          567.65,
          564.65,
          562.15,
          558.85,
          556.0500000000001,
          553.35,
          550.75,
          547.75,
          545.0500000000001,
          541.95,
          539.25,
          536.0500000000001,
          530.85,
          528.5500000000001,
          525.75,
          523.0500000000001,
          520.15,
          517.5500000000001,
          514.65,
          511.95000000000005,
          508.75,
          505.65,
          502.55000000000007,
          499.45000000000005,
          496.65,
          494.15,
          490.75,
          487.25,
          483.75,
          480.05000000000007,
          476.55000000000007,
          473.35,
          470.25,
          467.45000000000005,
          464.05000000000007,
          460.65,
          457.35,
          454.05000000000007,
          450.65,
          447.75,
          444.15,
          440.35,
          436.85,
          433.75,
          430.35,
          427.45000000000005,
          423.95000000000005,
          420.55000000000007,
          417.25,
          414.45000000000005,
          411.25,
          408.55000000000007,
          405.45000000000005,
          402.25,
          399.15,
          396.35,
          392.95000000000005,
          389.45000000000005,
          386.15,
          383.25,
          380.35,
          377.35,
          374.55000000000007,
          371.55000000000007,
          368.85,
          365.75,
          362.45000000000005,
          359.65,
          356.65,
          353.35,
          350.05000000000007,
          347.05000000000007,
          343.75,
          340.95000000000005,
          337.85,
          335.15,
          332.15,
          329.15,
          326.25,
          322.75,
          319.25,
          315.95000000000005,
          313.25,
          310.35,
          307.55000000000007,
          304.25,
          300.75,
          297.55000000000007,
          294.05000000000007,
          290.45000000000005,
          286.85,
          283.55000000000007,
          280.65,
          277.15,
          273.55000000000007,
          270.15,
          267.35,
          263.85,
          260.95000000000005,
          257.55000000000007,
          253.95000000000005,
          250.55000000000007,
          247.75,
          244.45000000000005,
          241.64999999999998,
          238.95000000000005,
          236.15000000000003,
          233.55,
          230.85000000000002,
          227.85000000000002,
          225.15000000000003,
          222.45000000000005,
          219.75,
          216.75,
          214.15000000000003,
          210.95000000000005,
          208.15000000000003,
          204.95000000000005,
          201.95000000000005,
          198.95000000000005,
          195.65000000000003,
          192.35000000000002,
          189.75,
          186.95000000000005,
          184.35000000000002,
          181.35000000000002,
          178.15000000000003,
          175.15000000000003,
          171.95000000000005,
          169.05,
          166.65000000000003,
          163.75,
          160.95000000000005,
          158.25,
          155.15000000000003,
          152.15000000000003,
          149.05,
          146.05,
          143.55,
          140.65000000000003,
          137.75,
          134.95000000000005,
          132.65000000000003,
          129.95000000000005,
          127.45000000000005,
          125.05000000000001,
          122.35000000000002,
          119.95000000000005,
          117.25,
          114.85000000000002,
          112.25,
          109.55000000000001,
          106.85000000000002,
          104.35000000000002,
          101.85000000000002,
          99.75,
          97.25,
          94.75,
          92.25,
          90.25,
          87.95000000000005,
          85.85000000000002,
          83.65000000000003,
          81.25,
          79.25,
          77.35000000000002,
          75.35000000000002,
          73.35000000000002,
          71.25,
          68.95000000000005,
          67.15000000000003,
          65.05000000000001,
          62.950000000000045,
          60.85000000000002,
          59.150000000000034,
          57.650000000000034,
          55.950000000000045,
          54.25,
          52.55000000000001,
          50.85000000000002,
          49.35000000000002
         ],
         "y": [
          1.188e-7,
          0,
          1.7820000000000002e-7,
          1.188e-7,
          5.939999999999999e-8,
          1.7820000000000002e-7,
          5.939999999999999e-8,
          1.188e-7,
          2.3759999999999998e-7,
          5.939999999999999e-8,
          5.939999999999999e-8,
          0,
          5.939999999999999e-8,
          1.188e-7,
          0,
          1.188e-7,
          1.188e-7,
          1.7820000000000002e-7,
          2.3759999999999998e-7,
          5.939999999999999e-8,
          1.188e-7,
          1.188e-7,
          1.7820000000000002e-7,
          2.3759999999999998e-7,
          5.939999999999999e-8,
          1.188e-7,
          1.7820000000000002e-7,
          1.7820000000000002e-7,
          1.7820000000000002e-7,
          1.7820000000000002e-7,
          2.3759999999999998e-7,
          4.751e-7,
          7.127e-7,
          0.0000010692,
          0.0000013662,
          0.0000019602,
          0.0000026722,
          0.0000034452,
          0.000004276200000000001,
          0.0000050482,
          0.000006058200000000001,
          0.0000069492,
          0.0000078992,
          0.0000088492,
          0.0000102112,
          0.0000135112,
          0.0000153212,
          0.000018141200000000002,
          0.0000213512,
          0.0000250012,
          0.0000285412,
          0.000032341199999999995,
          0.000035401199999999996,
          0.000038571199999999994,
          0.000041041199999999996,
          0.000042941199999999995,
          0.0000441012,
          0.0000452612,
          0.0000461812,
          0.0000476612,
          0.0000490312,
          0.0000503312,
          0.000051341199999999996,
          0.0000520912,
          0.000052441199999999995,
          0.0000528912,
          0.0000531912,
          0.000053631199999999996,
          0.000053841199999999995,
          0.0000541912,
          0.0000544912,
          0.0000546712,
          0.000054941199999999995,
          0.0000552612,
          0.000055201199999999996,
          0.000055231199999999994,
          0.0000551712,
          0.000054851199999999994,
          0.0000547612,
          0.000054611199999999996,
          0.000054431199999999995,
          0.0000542512,
          0.0000539912,
          0.0000538112,
          0.000053751199999999995,
          0.0000536012,
          0.000053331199999999995,
          0.0000533012,
          0.000053041199999999996,
          0.000053071199999999994,
          0.0000528012,
          0.0000526812,
          0.000052651199999999995,
          0.0000525912,
          0.000052561199999999994,
          0.000052531199999999996,
          0.000052531199999999996,
          0.000052741199999999996,
          0.000052771199999999994,
          0.0000530112,
          0.0000533612,
          0.000053661199999999994,
          0.0000541912,
          0.000054821199999999996,
          0.000055231199999999994,
          0.0000556512,
          0.0000558612,
          0.000055921199999999996,
          0.000055921199999999996,
          0.0000558012,
          0.000055621199999999995,
          0.0000553512,
          0.000055201199999999996,
          0.0000550012,
          0.0000547912,
          0.0000546712,
          0.000054551199999999994,
          0.0000544012,
          0.0000543712,
          0.000054141199999999996,
          0.000054141199999999996,
          0.000053961199999999994,
          0.0000540212,
          0.0000538112,
          0.0000538112,
          0.000053721199999999997,
          0.000053721199999999997,
          0.0000535112,
          0.000053451199999999994,
          0.0000533612,
          0.0000533012,
          0.0000531912,
          0.000053161199999999995,
          0.0000530112,
          0.0000528012,
          0.0000528012,
          0.0000526212,
          0.000052531199999999996,
          0.000052441199999999995,
          0.000052321199999999996,
          0.0000522112,
          0.0000521212,
          0.0000520312,
          0.0000519112,
          0.0000518212,
          0.0000517312,
          0.0000516112,
          0.0000514912,
          0.0000514012,
          0.0000513112,
          0.0000512312,
          0.000051081199999999995,
          0.0000510212,
          0.000050871199999999995,
          0.000050781199999999994,
          0.000050661199999999995,
          0.000050571199999999994,
          0.0000505112,
          0.0000504212,
          0.0000503312,
          0.0000502212,
          0.000050071199999999996,
          0.000049981199999999995,
          0.0000499212,
          0.000049861199999999996,
          0.0000497412,
          0.000049651199999999997,
          0.0000495312,
          0.000049471199999999995,
          0.000049351199999999996,
          0.0000493212,
          0.000049211199999999994,
          0.0000491212,
          0.0000489412,
          0.000048971199999999996,
          0.0000489112,
          0.000048761199999999997,
          0.000048761199999999997,
          0.000048581199999999995,
          0.000048581199999999995,
          0.000048491199999999994,
          0.0000484012,
          0.0000483112,
          0.0000483112,
          0.000048201199999999995,
          0.000048111199999999994,
          0.0000480212,
          0.0000479612,
          0.000047901199999999995,
          0.0000478712,
          0.0000477512,
          0.0000477512,
          0.0000476312,
          0.0000476612,
          0.000047601199999999994,
          0.0000476312,
          0.0000475412,
          0.000047481199999999995,
          0.0000474512,
          0.000047391199999999994,
          0.000047361199999999996,
          0.0000473412,
          0.0000472512,
          0.0000472512,
          0.0000471312,
          0.0000471312,
          0.0000470412,
          0.000047011199999999995,
          0.0000469812,
          0.0000469512,
          0.0000468612,
          0.0000468612,
          0.000046801199999999995,
          0.000046801199999999995
         ]
        },
        {
         "line": {
          "color": "blue"
         },
         "mode": "lines",
         "name": "Cooling - zero corrected - smoothed",
         "type": "scatter",
         "x": [
          631.0000000000001,
          646.9000000000001,
          646.9000000000001,
          645.97,
          645.97,
          644.4166666666666,
          635.7,
          635.7,
          634.1666666666666,
          633.3785714285714,
          631.0000000000001,
          629.0500000000001,
          628.23,
          625.025,
          619.9250000000001,
          617.375,
          616.15,
          614.9000000000001,
          612.375,
          608.5833333333334,
          605.8833333333333,
          604.6,
          594.0833333333334,
          594.0833333333334,
          592.9000000000001,
          589.1833333333334,
          585.175,
          583.7833333333333,
          582.475,
          578.4500000000002,
          575.6833333333334,
          572.9166666666666,
          570.2833333333333,
          567.5166666666668,
          564.8166666666666,
          561.8833333333333,
          559.0166666666668,
          556.0833333333334,
          553.3833333333333,
          550.6166666666667,
          547.85,
          544.9166666666667,
          542.0833333333334,
          539.0833333333334,
          537.6500000000001,
          529.7,
          528.3833333333333,
          525.7833333333334,
          522.9833333333335,
          520.25,
          517.4499999999999,
          514.7166666666667,
          511.7833333333333,
          508.7833333333333,
          505.65000000000003,
          502.55,
          499.55,
          496.75,
          493.84999999999997,
          490.7166666666667,
          487.25,
          483.6833333333334,
          480.11666666666673,
          476.6500000000001,
          473.3833333333334,
          470.3500000000001,
          467.25,
          464.05,
          460.6833333333334,
          457.3500000000001,
          454.0166666666667,
          450.81666666666666,
          447.51666666666665,
          444.0833333333333,
          440.45,
          436.98333333333335,
          433.65000000000003,
          430.5166666666667,
          427.25,
          423.9833333333334,
          420.5833333333333,
          417.4166666666667,
          414.31666666666666,
          411.4166666666667,
          408.4166666666667,
          405.4166666666667,
          402.2833333333333,
          399.25,
          396.15000000000003,
          392.9166666666667,
          389.5166666666667,
          386.2833333333333,
          383.25,
          380.31666666666666,
          377.4166666666667,
          374.4833333333334,
          371.6500000000001,
          368.7166666666667,
          365.6833333333334,
          362.6166666666666,
          359.5833333333333,
          356.55,
          353.3500000000001,
          350.1500000000001,
          346.95000000000005,
          343.9166666666667,
          340.85,
          337.98333333333335,
          335.05,
          332.15,
          329.18333333333334,
          326.05,
          322.75,
          319.31666666666666,
          316.15000000000003,
          313.18333333333334,
          310.3833333333334,
          307.3833333333334,
          304.18333333333334,
          300.85,
          297.45000000000005,
          294.0166666666667,
          290.45000000000005,
          286.95000000000005,
          283.68333333333334,
          280.45,
          277.1166666666667,
          273.6166666666667,
          270.35,
          267.1166666666667,
          264.05,
          260.78333333333336,
          257.4833333333334,
          254.01666666666674,
          250.75000000000003,
          247.58333333333337,
          244.61666666666667,
          241.68333333333337,
          238.91666666666666,
          236.2166666666667,
          233.51666666666668,
          230.75,
          227.95000000000005,
          225.15,
          222.45000000000005,
          219.65,
          216.88333333333335,
          213.95000000000005,
          211.08333333333337,
          208.01666666666674,
          205.01666666666674,
          201.95000000000005,
          198.85000000000005,
          195.65,
          192.58333333333334,
          189.68333333333337,
          187.01666666666668,
          184.2166666666667,
          181.2833333333334,
          178.2166666666667,
          175.08333333333337,
          172.05000000000004,
          169.2166666666667,
          166.48333333333335,
          163.78333333333336,
          160.98333333333335,
          158.1166666666667,
          155.18333333333337,
          152.1166666666667,
          149.08333333333334,
          146.21666666666667,
          143.41666666666669,
          140.65,
          137.78333333333336,
          133.82500000000005,
          132.5166666666667,
          130.01000000000005,
          127.48333333333336,
          126.20000000000003,
          122.45000000000003,
          119.85000000000002,
          116.07500000000002,
          114.78333333333335,
          113.47500000000001,
          109.55000000000001,
          105.65000000000002,
          103.20000000000002,
          102.01000000000002,
          99.59,
          97.17,
          94.85,
          92.49000000000001,
          90.21000000000001,
          87.99000000000002,
          85.79000000000002,
          83.59000000000002,
          81.47000000000001,
          79.37000000000002,
          77.31000000000002,
          75.31000000000002,
          73.25000000000003,
          71.21000000000002,
          69.15000000000002,
          67.07000000000002,
          64.99000000000004,
          63.03000000000003,
          60.2666666666667,
          58.4666666666667,
          57.57000000000003,
          56.733333333333356,
          54.25000000000002,
          52.59000000000002,
          51.750000000000014,
          51.750000000000014
         ],
         "y": [
          8.910000000000001e-8,
          8.91e-8,
          8.91e-8,
          1.0692000000000001e-7,
          1.0692000000000001e-7,
          1.1879999999999999e-7,
          1.188e-7,
          1.188e-7,
          1.0889999999999999e-7,
          9.334285714285714e-8,
          8.910000000000001e-8,
          6.93e-8,
          7.128e-8,
          4.455e-8,
          8.91e-8,
          1.0395e-7,
          1.3068e-7,
          1.6335e-7,
          1.485e-7,
          1.386e-7,
          9.899999999999999e-8,
          1.188e-7,
          1.5840000000000002e-7,
          1.5840000000000002e-7,
          1.485e-7,
          1.1879999999999999e-7,
          1.6335000000000002e-7,
          1.7820000000000002e-7,
          1.7820000000000002e-7,
          1.9800000000000003e-7,
          2.9696666666666667e-7,
          4.751333333333333e-7,
          7.523333333333333e-7,
          0.0000010493666666666667,
          0.0000014652,
          0.0000019995333333333335,
          0.0000026925333333333335,
          0.000003464533333333334,
          0.000004256533333333333,
          0.000005127533333333335,
          0.0000060185333333333335,
          0.000006968866666666667,
          0.0000078992,
          0.000008986533333333333,
          0.000009530199999999999,
          0.000014416200000000001,
          0.000015657866666666668,
          0.0000182712,
          0.00002149786666666667,
          0.000024964533333333335,
          0.000028627866666666664,
          0.00003209453333333333,
          0.00003543786666666666,
          0.00003833786666666666,
          0.00004085119999999999,
          0.00004269453333333333,
          0.0000441012,
          0.0000451812,
          0.00004636786666666667,
          0.00004762453333333333,
          0.00004900786666666666,
          0.000050234533333333335,
          0.000051254533333333335,
          0.000051957866666666666,
          0.000052474533333333334,
          0.0000528412,
          0.00005323786666666666,
          0.000053554533333333324,
          0.000053887866666666656,
          0.00005417453333333333,
          0.0000544512,
          0.0000547012,
          0.000054957866666666664,
          0.00005513453333333333,
          0.0000552312,
          0.000055201199999999996,
          0.00005508453333333333,
          0.00005492786666666666,
          0.000054741200000000004,
          0.0000546012,
          0.0000544312,
          0.00005422453333333333,
          0.00005401786666666666,
          0.00005385119999999999,
          0.000053721199999999997,
          0.0000535612,
          0.000053411199999999994,
          0.000053224533333333325,
          0.000053137866666666665,
          0.0000529712,
          0.00005285119999999999,
          0.000052711200000000004,
          0.00005264120000000001,
          0.0000526012,
          0.000052561199999999994,
          0.00005254119999999999,
          0.0000526012,
          0.00005268119999999999,
          0.00005284119999999999,
          0.00005304786666666666,
          0.00005334453333333334,
          0.000053737866666666666,
          0.00005422453333333333,
          0.000054747866666666665,
          0.000055234533333333335,
          0.0000555812,
          0.0000558112,
          0.0000559012,
          0.000055881199999999996,
          0.000055781199999999994,
          0.0000555912,
          0.0000553912,
          0.00005518453333333333,
          0.000054997866666666664,
          0.000054821199999999996,
          0.0000546712,
          0.0000545412,
          0.000054441199999999996,
          0.00005430453333333333,
          0.00005421786666666667,
          0.0000540812,
          0.000054041199999999993,
          0.000053931199999999996,
          0.000053881199999999995,
          0.00005378119999999999,
          0.0000537512,
          0.0000536512,
          0.0000535612,
          0.0000534412,
          0.000053371199999999995,
          0.00005328453333333333,
          0.000053217866666666664,
          0.00005312119999999999,
          0.0000529912,
          0.000052871199999999996,
          0.000052741199999999996,
          0.0000526512,
          0.00005253119999999999,
          0.000052431199999999994,
          0.00005232453333333333,
          0.00005221786666666667,
          0.000052121200000000005,
          0.0000520212,
          0.0000519212,
          0.0000518212,
          0.0000517212,
          0.0000516112,
          0.0000515012,
          0.0000514012,
          0.00005131453333333334,
          0.00005120786666666666,
          0.0000511112,
          0.000050991199999999994,
          0.0000508912,
          0.0000507712,
          0.0000506712,
          0.000050581199999999996,
          0.00005050119999999999,
          0.0000504212,
          0.00005032453333333333,
          0.000050207866666666664,
          0.0000500912,
          0.000049991200000000003,
          0.00004992119999999999,
          0.0000498412,
          0.00004975119999999999,
          0.000049641199999999995,
          0.000049551199999999994,
          0.00004945119999999999,
          0.000049381199999999994,
          0.00004929453333333333,
          0.00004921786666666666,
          0.0000490912,
          0.000049011199999999996,
          0.000048896199999999994,
          0.0000488812,
          0.0000487972,
          0.000048701199999999994,
          0.000048671199999999996,
          0.00004855119999999999,
          0.0000484912,
          0.0000483787,
          0.0000483412,
          0.000048306199999999995,
          0.00004820786666666666,
          0.000048073699999999993,
          0.0000479987,
          0.0000479732,
          0.000047901199999999995,
          0.0000478472,
          0.000047781199999999996,
          0.0000477332,
          0.000047679199999999996,
          0.0000476552,
          0.0000476132,
          0.000047583199999999995,
          0.0000475412,
          0.0000474992,
          0.0000474452,
          0.00004740519999999999,
          0.00004735919999999999,
          0.0000473192,
          0.0000472672,
          0.000047221199999999994,
          0.00004716119999999999,
          0.0000471132,
          0.00004704119999999999,
          0.0000469962,
          0.0000469692,
          0.0000469512,
          0.00004689548571428571,
          0.0000468552,
          0.0000468312,
          0.0000468312
         ]
        }
       ],
       "layout": {
        "font": {
         "color": "Black",
         "family": "Roboto, sans-serif",
         "size": 18
        },
        "height": 556,
        "margin": {
         "b": 50,
         "l": 50,
         "r": 50,
         "t": 80
        },
        "paper_bgcolor": "white",
        "plot_bgcolor": "white",
        "shapes": [
         {
          "line": {
           "color": "black",
           "width": 2
          },
          "type": "rect",
          "x0": 0,
          "x1": 1,
          "xref": "paper",
          "y0": 0,
          "y1": 1,
          "yref": "paper"
         }
        ],
        "showlegend": true,
        "template": {
         "data": {
          "bar": [
           {
            "error_x": {
             "color": "#2a3f5f"
            },
            "error_y": {
             "color": "#2a3f5f"
            },
            "marker": {
             "line": {
              "color": "#E5ECF6",
              "width": 0.5
             },
             "pattern": {
              "fillmode": "overlay",
              "size": 10,
              "solidity": 0.2
             }
            },
            "type": "bar"
           }
          ],
          "barpolar": [
           {
            "marker": {
             "line": {
              "color": "#E5ECF6",
              "width": 0.5
             },
             "pattern": {
              "fillmode": "overlay",
              "size": 10,
              "solidity": 0.2
             }
            },
            "type": "barpolar"
           }
          ],
          "carpet": [
           {
            "aaxis": {
             "endlinecolor": "#2a3f5f",
             "gridcolor": "white",
             "linecolor": "white",
             "minorgridcolor": "white",
             "startlinecolor": "#2a3f5f"
            },
            "baxis": {
             "endlinecolor": "#2a3f5f",
             "gridcolor": "white",
             "linecolor": "white",
             "minorgridcolor": "white",
             "startlinecolor": "#2a3f5f"
            },
            "type": "carpet"
           }
          ],
          "choropleth": [
           {
            "colorbar": {
             "outlinewidth": 0,
             "ticks": ""
            },
            "type": "choropleth"
           }
          ],
          "contour": [
           {
            "colorbar": {
             "outlinewidth": 0,
             "ticks": ""
            },
            "colorscale": [
             [
              0,
              "#0d0887"
             ],
             [
              0.1111111111111111,
              "#46039f"
             ],
             [
              0.2222222222222222,
              "#7201a8"
             ],
             [
              0.3333333333333333,
              "#9c179e"
             ],
             [
              0.4444444444444444,
              "#bd3786"
             ],
             [
              0.5555555555555556,
              "#d8576b"
             ],
             [
              0.6666666666666666,
              "#ed7953"
             ],
             [
              0.7777777777777778,
              "#fb9f3a"
             ],
             [
              0.8888888888888888,
              "#fdca26"
             ],
             [
              1,
              "#f0f921"
             ]
            ],
            "type": "contour"
           }
          ],
          "contourcarpet": [
           {
            "colorbar": {
             "outlinewidth": 0,
             "ticks": ""
            },
            "type": "contourcarpet"
           }
          ],
          "heatmap": [
           {
            "colorbar": {
             "outlinewidth": 0,
             "ticks": ""
            },
            "colorscale": [
             [
              0,
              "#0d0887"
             ],
             [
              0.1111111111111111,
              "#46039f"
             ],
             [
              0.2222222222222222,
              "#7201a8"
             ],
             [
              0.3333333333333333,
              "#9c179e"
             ],
             [
              0.4444444444444444,
              "#bd3786"
             ],
             [
              0.5555555555555556,
              "#d8576b"
             ],
             [
              0.6666666666666666,
              "#ed7953"
             ],
             [
              0.7777777777777778,
              "#fb9f3a"
             ],
             [
              0.8888888888888888,
              "#fdca26"
             ],
             [
              1,
              "#f0f921"
             ]
            ],
            "type": "heatmap"
           }
          ],
          "heatmapgl": [
           {
            "colorbar": {
             "outlinewidth": 0,
             "ticks": ""
            },
            "colorscale": [
             [
              0,
              "#0d0887"
             ],
             [
              0.1111111111111111,
              "#46039f"
             ],
             [
              0.2222222222222222,
              "#7201a8"
             ],
             [
              0.3333333333333333,
              "#9c179e"
             ],
             [
              0.4444444444444444,
              "#bd3786"
             ],
             [
              0.5555555555555556,
              "#d8576b"
             ],
             [
              0.6666666666666666,
              "#ed7953"
             ],
             [
              0.7777777777777778,
              "#fb9f3a"
             ],
             [
              0.8888888888888888,
              "#fdca26"
             ],
             [
              1,
              "#f0f921"
             ]
            ],
            "type": "heatmapgl"
           }
          ],
          "histogram": [
           {
            "marker": {
             "pattern": {
              "fillmode": "overlay",
              "size": 10,
              "solidity": 0.2
             }
            },
            "type": "histogram"
           }
          ],
          "histogram2d": [
           {
            "colorbar": {
             "outlinewidth": 0,
             "ticks": ""
            },
            "colorscale": [
             [
              0,
              "#0d0887"
             ],
             [
              0.1111111111111111,
              "#46039f"
             ],
             [
              0.2222222222222222,
              "#7201a8"
             ],
             [
              0.3333333333333333,
              "#9c179e"
             ],
             [
              0.4444444444444444,
              "#bd3786"
             ],
             [
              0.5555555555555556,
              "#d8576b"
             ],
             [
              0.6666666666666666,
              "#ed7953"
             ],
             [
              0.7777777777777778,
              "#fb9f3a"
             ],
             [
              0.8888888888888888,
              "#fdca26"
             ],
             [
              1,
              "#f0f921"
             ]
            ],
            "type": "histogram2d"
           }
          ],
          "histogram2dcontour": [
           {
            "colorbar": {
             "outlinewidth": 0,
             "ticks": ""
            },
            "colorscale": [
             [
              0,
              "#0d0887"
             ],
             [
              0.1111111111111111,
              "#46039f"
             ],
             [
              0.2222222222222222,
              "#7201a8"
             ],
             [
              0.3333333333333333,
              "#9c179e"
             ],
             [
              0.4444444444444444,
              "#bd3786"
             ],
             [
              0.5555555555555556,
              "#d8576b"
             ],
             [
              0.6666666666666666,
              "#ed7953"
             ],
             [
              0.7777777777777778,
              "#fb9f3a"
             ],
             [
              0.8888888888888888,
              "#fdca26"
             ],
             [
              1,
              "#f0f921"
             ]
            ],
            "type": "histogram2dcontour"
           }
          ],
          "mesh3d": [
           {
            "colorbar": {
             "outlinewidth": 0,
             "ticks": ""
            },
            "type": "mesh3d"
           }
          ],
          "parcoords": [
           {
            "line": {
             "colorbar": {
              "outlinewidth": 0,
              "ticks": ""
             }
            },
            "type": "parcoords"
           }
          ],
          "pie": [
           {
            "automargin": true,
            "type": "pie"
           }
          ],
          "scatter": [
           {
            "fillpattern": {
             "fillmode": "overlay",
             "size": 10,
             "solidity": 0.2
            },
            "type": "scatter"
           }
          ],
          "scatter3d": [
           {
            "line": {
             "colorbar": {
              "outlinewidth": 0,
              "ticks": ""
             }
            },
            "marker": {
             "colorbar": {
              "outlinewidth": 0,
              "ticks": ""
             }
            },
            "type": "scatter3d"
           }
          ],
          "scattercarpet": [
           {
            "marker": {
             "colorbar": {
              "outlinewidth": 0,
              "ticks": ""
             }
            },
            "type": "scattercarpet"
           }
          ],
          "scattergeo": [
           {
            "marker": {
             "colorbar": {
              "outlinewidth": 0,
              "ticks": ""
             }
            },
            "type": "scattergeo"
           }
          ],
          "scattergl": [
           {
            "marker": {
             "colorbar": {
              "outlinewidth": 0,
              "ticks": ""
             }
            },
            "type": "scattergl"
           }
          ],
          "scattermapbox": [
           {
            "marker": {
             "colorbar": {
              "outlinewidth": 0,
              "ticks": ""
             }
            },
            "type": "scattermapbox"
           }
          ],
          "scatterpolar": [
           {
            "marker": {
             "colorbar": {
              "outlinewidth": 0,
              "ticks": ""
             }
            },
            "type": "scatterpolar"
           }
          ],
          "scatterpolargl": [
           {
            "marker": {
             "colorbar": {
              "outlinewidth": 0,
              "ticks": ""
             }
            },
            "type": "scatterpolargl"
           }
          ],
          "scatterternary": [
           {
            "marker": {
             "colorbar": {
              "outlinewidth": 0,
              "ticks": ""
             }
            },
            "type": "scatterternary"
           }
          ],
          "surface": [
           {
            "colorbar": {
             "outlinewidth": 0,
             "ticks": ""
            },
            "colorscale": [
             [
              0,
              "#0d0887"
             ],
             [
              0.1111111111111111,
              "#46039f"
             ],
             [
              0.2222222222222222,
              "#7201a8"
             ],
             [
              0.3333333333333333,
              "#9c179e"
             ],
             [
              0.4444444444444444,
              "#bd3786"
             ],
             [
              0.5555555555555556,
              "#d8576b"
             ],
             [
              0.6666666666666666,
              "#ed7953"
             ],
             [
              0.7777777777777778,
              "#fb9f3a"
             ],
             [
              0.8888888888888888,
              "#fdca26"
             ],
             [
              1,
              "#f0f921"
             ]
            ],
            "type": "surface"
           }
          ],
          "table": [
           {
            "cells": {
             "fill": {
              "color": "#EBF0F8"
             },
             "line": {
              "color": "white"
             }
            },
            "header": {
             "fill": {
              "color": "#C8D4E3"
             },
             "line": {
              "color": "white"
             }
            },
            "type": "table"
           }
          ]
         },
         "layout": {
          "annotationdefaults": {
           "arrowcolor": "#2a3f5f",
           "arrowhead": 0,
           "arrowwidth": 1
          },
          "autotypenumbers": "strict",
          "coloraxis": {
           "colorbar": {
            "outlinewidth": 0,
            "ticks": ""
           }
          },
          "colorscale": {
           "diverging": [
            [
             0,
             "#8e0152"
            ],
            [
             0.1,
             "#c51b7d"
            ],
            [
             0.2,
             "#de77ae"
            ],
            [
             0.3,
             "#f1b6da"
            ],
            [
             0.4,
             "#fde0ef"
            ],
            [
             0.5,
             "#f7f7f7"
            ],
            [
             0.6,
             "#e6f5d0"
            ],
            [
             0.7,
             "#b8e186"
            ],
            [
             0.8,
             "#7fbc41"
            ],
            [
             0.9,
             "#4d9221"
            ],
            [
             1,
             "#276419"
            ]
           ],
           "sequential": [
            [
             0,
             "#0d0887"
            ],
            [
             0.1111111111111111,
             "#46039f"
            ],
            [
             0.2222222222222222,
             "#7201a8"
            ],
            [
             0.3333333333333333,
             "#9c179e"
            ],
            [
             0.4444444444444444,
             "#bd3786"
            ],
            [
             0.5555555555555556,
             "#d8576b"
            ],
            [
             0.6666666666666666,
             "#ed7953"
            ],
            [
             0.7777777777777778,
             "#fb9f3a"
            ],
            [
             0.8888888888888888,
             "#fdca26"
            ],
            [
             1,
             "#f0f921"
            ]
           ],
           "sequentialminus": [
            [
             0,
             "#0d0887"
            ],
            [
             0.1111111111111111,
             "#46039f"
            ],
            [
             0.2222222222222222,
             "#7201a8"
            ],
            [
             0.3333333333333333,
             "#9c179e"
            ],
            [
             0.4444444444444444,
             "#bd3786"
            ],
            [
             0.5555555555555556,
             "#d8576b"
            ],
            [
             0.6666666666666666,
             "#ed7953"
            ],
            [
             0.7777777777777778,
             "#fb9f3a"
            ],
            [
             0.8888888888888888,
             "#fdca26"
            ],
            [
             1,
             "#f0f921"
            ]
           ]
          },
          "colorway": [
           "#636efa",
           "#EF553B",
           "#00cc96",
           "#ab63fa",
           "#FFA15A",
           "#19d3f3",
           "#FF6692",
           "#B6E880",
           "#FF97FF",
           "#FECB52"
          ],
          "font": {
           "color": "#2a3f5f"
          },
          "geo": {
           "bgcolor": "white",
           "lakecolor": "white",
           "landcolor": "#E5ECF6",
           "showlakes": true,
           "showland": true,
           "subunitcolor": "white"
          },
          "hoverlabel": {
           "align": "left"
          },
          "hovermode": "closest",
          "mapbox": {
           "style": "light"
          },
          "paper_bgcolor": "white",
          "plot_bgcolor": "#E5ECF6",
          "polar": {
           "angularaxis": {
            "gridcolor": "white",
            "linecolor": "white",
            "ticks": ""
           },
           "bgcolor": "#E5ECF6",
           "radialaxis": {
            "gridcolor": "white",
            "linecolor": "white",
            "ticks": ""
           }
          },
          "scene": {
           "xaxis": {
            "backgroundcolor": "#E5ECF6",
            "gridcolor": "white",
            "gridwidth": 2,
            "linecolor": "white",
            "showbackground": true,
            "ticks": "",
            "zerolinecolor": "white"
           },
           "yaxis": {
            "backgroundcolor": "#E5ECF6",
            "gridcolor": "white",
            "gridwidth": 2,
            "linecolor": "white",
            "showbackground": true,
            "ticks": "",
            "zerolinecolor": "white"
           },
           "zaxis": {
            "backgroundcolor": "#E5ECF6",
            "gridcolor": "white",
            "gridwidth": 2,
            "linecolor": "white",
            "showbackground": true,
            "ticks": "",
            "zerolinecolor": "white"
           }
          },
          "shapedefaults": {
           "line": {
            "color": "#2a3f5f"
           }
          },
          "ternary": {
           "aaxis": {
            "gridcolor": "white",
            "linecolor": "white",
            "ticks": ""
           },
           "baxis": {
            "gridcolor": "white",
            "linecolor": "white",
            "ticks": ""
           },
           "bgcolor": "#E5ECF6",
           "caxis": {
            "gridcolor": "white",
            "linecolor": "white",
            "ticks": ""
           }
          },
          "title": {
           "x": 0.05
          },
          "xaxis": {
           "automargin": true,
           "gridcolor": "white",
           "linecolor": "white",
           "ticks": "",
           "title": {
            "standoff": 15
           },
           "zerolinecolor": "white",
           "zerolinewidth": 2
          },
          "yaxis": {
           "automargin": true,
           "gridcolor": "white",
           "linecolor": "white",
           "ticks": "",
           "title": {
            "standoff": 15
           },
           "zerolinecolor": "white",
           "zerolinewidth": 2
          }
         }
        },
        "title": {
         "text": "BHRS13-2B5L1A_01",
         "x": 0.5,
         "xanchor": "center"
        },
        "width": 900,
        "xaxis": {
         "dtick": 100,
         "gridcolor": "lightgray",
         "gridwidth": 1,
         "linecolor": "black",
         "linewidth": 1,
         "showline": true,
         "tick0": 0,
         "title": {
          "text": "Temperature (&deg;C)"
         }
        },
        "yaxis": {
         "autorange": true,
         "gridcolor": "lightgray",
         "gridwidth": 1,
         "linecolor": "black",
         "linewidth": 1,
         "showline": true,
         "tickformat": ".1e",
         "title": {
          "text": "<i>k</i> (m<sup>3</sup> kg<sup>-1</sup>)"
         }
        }
       }
      }
     },
     "metadata": {},
     "output_type": "display_data"
    },
    {
     "data": {
      "application/vnd.plotly.v1+json": {
       "config": {
        "plotlyServerURL": "https://plot.ly"
       },
       "data": [
        {
         "line": {
          "color": "red"
         },
         "mode": "markers+lines",
         "name": "Heating - dX/dT smoothed",
         "type": "scatter",
         "x": [
          27.450000000000017,
          27.450000000000017,
          36.70000000000002,
          39.05000000000001,
          43.85000000000002,
          48.38333333333335,
          52.616666666666696,
          56.48333333333335,
          60.28333333333336,
          63.88333333333335,
          67.15000000000002,
          70.11666666666667,
          73.08333333333336,
          76.0166666666667,
          80.10000000000002,
          82.70000000000002,
          82.70000000000002,
          85.30000000000001,
          90.40000000000002,
          92.92500000000003,
          92.92500000000003,
          95.42500000000003,
          100.50000000000003,
          103.05000000000003,
          103.05000000000003,
          105.62500000000003,
          110.67500000000003,
          113.05000000000003,
          114.15000000000002,
          116.39000000000001,
          118.55000000000003,
          120.83000000000001,
          123.09,
          125.45000000000002,
          127.81000000000003,
          130.27000000000004,
          131.45000000000002,
          135.19,
          138.9,
          138.9,
          141.4,
          145.21666666666667,
          147.98333333333335,
          150.78333333333336,
          153.7166666666667,
          156.58333333333337,
          159.48333333333338,
          163.47500000000002,
          164.8166666666667,
          166.175,
          171.375,
          173.925,
          175.15,
          176.375,
          178.9,
          182.7833333333334,
          185.55000000000004,
          188.18333333333337,
          190.95000000000002,
          193.75,
          196.6833333333333,
          199.58333333333334,
          202.65,
          205.8166666666667,
          209.01666666666668,
          212.11666666666667,
          215.45000000000002,
          219.08333333333334,
          223.08333333333334,
          227.1166666666667,
          231.25,
          235.41666666666666,
          239.75,
          244.01666666666665,
          248.25,
          252.3166666666667,
          256.25000000000006,
          259.95000000000005,
          263.3166666666667,
          266.45000000000005,
          269.55,
          272.7166666666667,
          275.98333333333335,
          279.0833333333333,
          282.34999999999997,
          285.65000000000003,
          289.15000000000003,
          292.45,
          295.81666666666666,
          299.18333333333334,
          302.78333333333336,
          306.25000000000006,
          309.75000000000006,
          313.15000000000003,
          316.68333333333334,
          320.01666666666665,
          323.34999999999997,
          326.51666666666665,
          329.75,
          332.78333333333336,
          335.95,
          338.98333333333335,
          342.0833333333333,
          344.95000000000005,
          347.65000000000003,
          350.45,
          353.31666666666666,
          356.45000000000005,
          359.4833333333334,
          362.5166666666667,
          365.25,
          368.15000000000003,
          371.1166666666666,
          374.2166666666667,
          377.3166666666668,
          380.4166666666667,
          383.7166666666667,
          386.8833333333334,
          390.05,
          393.15000000000003,
          396.34999999999997,
          399.68333333333334,
          403.05,
          406.3833333333334,
          409.48333333333335,
          412.3833333333334,
          415.4166666666667,
          418.81666666666666,
          422.7166666666667,
          426.48333333333335,
          430.0833333333333,
          433.3833333333334,
          436.5833333333333,
          439.7833333333333,
          441.35,
          449.8,
          451.1833333333334,
          454.0833333333333,
          456.9166666666667,
          459.8500000000001,
          462.6833333333334,
          465.6833333333334,
          468.61666666666673,
          471.5833333333333,
          474.3833333333334,
          477.2833333333333,
          480.18333333333334,
          483.18333333333334,
          486.18333333333334,
          489.2166666666667,
          492.2833333333333,
          495.5166666666667,
          498.9166666666667,
          502.55,
          506.1166666666666,
          509.55,
          512.6833333333333,
          515.6500000000001,
          518.4499999999999,
          521.2833333333333,
          524.1166666666667,
          527.0166666666668,
          529.7833333333334,
          532.5833333333334,
          535.35,
          538.2833333333333,
          541.2833333333334,
          544.4833333333333,
          547.5833333333334,
          550.7500000000001,
          553.6833333333334,
          556.5500000000001,
          559.15,
          561.95,
          564.75,
          567.65,
          570.4166666666666,
          573.4166666666666,
          576.3833333333333,
          580.6,
          581.9499999999999,
          583.3,
          588.425,
          589.7833333333333,
          592.15,
          595.625,
          597.95,
          601.6166666666667,
          604.5166666666667,
          607.5500000000001,
          611.525,
          612.8833333333333,
          614.4000000000001,
          618.5500000000001,
          622.0500000000001,
          625.15,
          628.3166666666666,
          631.8166666666666,
          635.4499999999999,
          640.1,
          642.65,
          643.65,
          646.0500000000001,
          646.8300000000002,
          647.725,
          647.725,
          595.625
         ],
         "y": [
          null,
          null,
          -3.411549113309989e-9,
          -3.560347749177509e-9,
          -2.9654295051353854e-9,
          -1.6759114292104832e-9,
          -5.406555981268866e-10,
          2.6997027801943933e-11,
          -4.994468152362171e-11,
          -1.817867600114496e-9,
          -4.638102431984544e-10,
          -2.0112359550561536e-9,
          -2.6702215451024857e-9,
          -1.334354549420739e-9,
          -5.484931705273739e-10,
          null,
          null,
          5.608974358974726e-10,
          -1.762654872044536e-9,
          null,
          null,
          -1.5678796598871212e-9,
          -2.3338824732832542e-9,
          null,
          null,
          -3.0542734362565702e-9,
          2.555874534821956e-9,
          -2.891948642043159e-10,
          -1.4510615133369463e-9,
          2.6469779601696886e-23,
          5.293955920339377e-23,
          -1.5866048107286047e-9,
          -2.1071605510634145e-9,
          0,
          4.099490147442648e-11,
          -2.0175122693209434e-9,
          -2.487568337117343e-9,
          -2.3893284218035425e-9,
          null,
          null,
          -2.765436047516436e-9,
          -3.1460116292931564e-9,
          -2.163480268378907e-9,
          -2.6469779601696886e-23,
          2.099438652766601e-9,
          1.4076241553911002e-9,
          -1.0013230201826417e-9,
          -3.444151084687313e-9,
          -3.319411102219923e-9,
          -1.499574626735874e-9,
          -4.0630686517780455e-10,
          -3.785871964678796e-10,
          1.2142857142856543e-9,
          1.2503536067892419e-9,
          -1.921399145277889e-9,
          -2.112147709881733e-9,
          8.443553868545267e-10,
          2.2426894639034404e-9,
          -1.385198621689532e-9,
          -4.144014899828893e-9,
          -2.0111688311688717e-9,
          1.252064610153021e-9,
          2.5360644403382147e-9,
          2.0805777532839806e-11,
          -1.8643859873698586e-9,
          1.062840826787023e-9,
          1.3438905228040875e-9,
          3.7278053763872687e-10,
          -4.774879119371823e-10,
          -1.0232901158330146e-9,
          3.6289674828506005e-12,
          -2.276434389140263e-9,
          -2.2772715414430523e-9,
          -4.591299019607665e-10,
          1.4883139113831953e-9,
          9.220582106140659e-10,
          -1.0366031415176595e-9,
          -2.968863548772011e-9,
          -2.26707286113226e-9,
          6.378011615203437e-10,
          4.353867596238331e-9,
          3.8109626397599894e-9,
          -2.6469779601696886e-23,
          -2.9512768458168525e-9,
          -3.0459960634000174e-9,
          -1.6453781512604775e-9,
          8.241702741703401e-10,
          3.584514451445161e-9,
          1.1732673267326849e-9,
          -3.1903685982633037e-9,
          -4.3995659302262966e-9,
          -1.7088302048828416e-9,
          1.8086956521739361e-9,
          1.2771528785679848e-9,
          3.803551932588395e-9,
          8.315000000000058e-9,
          1.3088151147098478e-8,
          1.4337845338216602e-8,
          1.6180365368345066e-8,
          2.352525669011244e-8,
          3.5508300527994764e-8,
          4.3311267974662124e-8,
          4.6989568621205116e-8,
          5.194011632204968e-8,
          6.015889049222448e-8,
          7.18794215360566e-8,
          7.638358348452294e-8,
          7.899172190661456e-8,
          7.571428571428575e-8,
          7.518337224597018e-8,
          7.866790915409677e-8,
          8.025962599650194e-8,
          8.21612650971115e-8,
          8.747311827956768e-8,
          1.0215053763440935e-7,
          1.2188579341805277e-7,
          1.5145536208531254e-7,
          1.9010526315789575e-7,
          2.3173189321966572e-7,
          2.660315326847603e-7,
          2.9217925170068127e-7,
          3.1350008866558086e-7,
          3.385239692625957e-7,
          3.7836424870466403e-7,
          4.439463601532555e-7,
          5.192160093554896e-7,
          5.618585975641798e-7,
          5.554994249192478e-7,
          5.391238576309744e-7,
          5.569035298863549e-7,
          5.860196164543942e-7,
          6.085562354312369e-7,
          6.203125000000083e-7,
          6.404137529137382e-7,
          6.518972324232633e-7,
          6.708600121073818e-7,
          6.689884723382884e-7,
          6.592372281711433e-7,
          6.460331210781638e-7,
          6.250878643627692e-7,
          5.922147525676952e-7,
          5.536179207808406e-7,
          5.267022010237629e-7,
          4.930730166977518e-7,
          4.556203727710085e-7,
          4.028735632183955e-7,
          3.367056302357267e-7,
          2.438888888888889e-7,
          1.3808417487975635e-7,
          3.3421905962887274e-8,
          -6.652620956744665e-8,
          -1.697978979189443e-7,
          -2.9388170329656325e-7,
          -4.441432386686665e-7,
          -6.112405753518123e-7,
          -7.730516726313041e-7,
          -9.19148413628393e-7,
          -0.0000010472812421714933,
          -0.0000011631955148923693,
          -0.0000012999999999999842,
          -0.0000014380851298016883,
          -0.0000015455718207515477,
          -0.0000015755979435277634,
          -0.0000014895435462981265,
          -0.0000013385208457434348,
          -0.0000011239439337192108,
          -8.849753584229246e-7,
          -6.498925797917812e-7,
          -4.41063853869397e-7,
          -2.8398007686877077e-7,
          -1.9041505674224416e-7,
          -1.3141225620664207e-7,
          -9.952126577126682e-8,
          -7.779761904761814e-8,
          -6.256440670642203e-8,
          -4.465686437433336e-8,
          -4.021886312107783e-8,
          -4.6375669379755583e-8,
          -3.949579163028837e-8,
          -2.8835017711613438e-8,
          -1.6500000000001187e-8,
          -7.61674985089607e-9,
          -1.6224595807110446e-8,
          -1.8141285809307772e-9,
          1.4886540701737675e-8,
          2.798641676202878e-9,
          -9.71160059589168e-9,
          -1.9312831567027034e-8,
          -3.4899199276767e-9,
          4.8505567645587635e-9,
          2.1866132196048682e-8,
          7.288197174925067e-9,
          -5.730624631686673e-9,
          4.1039909404197177e-10,
          -1.9270660522271077e-9,
          -9.144683500102271e-9,
          -1.0443483709273436e-8,
          5.555767363620404e-9,
          7.261889207064988e-9,
          3.3933990442053533e-9,
          2.133380281690149e-9,
          4.765588235293979e-9,
          1.563668359941778e-8,
          4.858699626060379e-9,
          null,
          null,
          4.7984644913936056e-14
         ]
        },
        {
         "line": {
          "color": "blue"
         },
         "mode": "markers+lines",
         "name": "Cooling - dX/dT smoothed",
         "type": "scatter",
         "x": [
          631.0000000000001,
          646.9000000000001,
          646.9000000000001,
          645.97,
          645.97,
          644.4166666666666,
          635.7,
          635.7,
          634.1666666666666,
          633.3785714285714,
          631.0000000000001,
          629.0500000000001,
          628.23,
          625.025,
          619.9250000000001,
          617.375,
          616.15,
          614.9000000000001,
          612.375,
          608.5833333333334,
          605.8833333333333,
          604.6,
          594.0833333333334,
          594.0833333333334,
          592.9000000000001,
          589.1833333333334,
          585.175,
          583.7833333333333,
          582.475,
          578.4500000000002,
          575.6833333333334,
          572.9166666666666,
          570.2833333333333,
          567.5166666666668,
          564.8166666666666,
          561.8833333333333,
          559.0166666666668,
          556.0833333333334,
          553.3833333333333,
          550.6166666666667,
          547.85,
          544.9166666666667,
          542.0833333333334,
          539.0833333333334,
          537.6500000000001,
          529.7,
          528.3833333333333,
          525.7833333333334,
          522.9833333333335,
          520.25,
          517.4499999999999,
          514.7166666666667,
          511.7833333333333,
          508.7833333333333,
          505.65000000000003,
          502.55,
          499.55,
          496.75,
          493.84999999999997,
          490.7166666666667,
          487.25,
          483.6833333333334,
          480.11666666666673,
          476.6500000000001,
          473.3833333333334,
          470.3500000000001,
          467.25,
          464.05,
          460.6833333333334,
          457.3500000000001,
          454.0166666666667,
          450.81666666666666,
          447.51666666666665,
          444.0833333333333,
          440.45,
          436.98333333333335,
          433.65000000000003,
          430.5166666666667,
          427.25,
          423.9833333333334,
          420.5833333333333,
          417.4166666666667,
          414.31666666666666,
          411.4166666666667,
          408.4166666666667,
          405.4166666666667,
          402.2833333333333,
          399.25,
          396.15000000000003,
          392.9166666666667,
          389.5166666666667,
          386.2833333333333,
          383.25,
          380.31666666666666,
          377.4166666666667,
          374.4833333333334,
          371.6500000000001,
          368.7166666666667,
          365.6833333333334,
          362.6166666666666,
          359.5833333333333,
          356.55,
          353.3500000000001,
          350.1500000000001,
          346.95000000000005,
          343.9166666666667,
          340.85,
          337.98333333333335,
          335.05,
          332.15,
          329.18333333333334,
          326.05,
          322.75,
          319.31666666666666,
          316.15000000000003,
          313.18333333333334,
          310.3833333333334,
          307.3833333333334,
          304.18333333333334,
          300.85,
          297.45000000000005,
          294.0166666666667,
          290.45000000000005,
          286.95000000000005,
          283.68333333333334,
          280.45,
          277.1166666666667,
          273.6166666666667,
          270.35,
          267.1166666666667,
          264.05,
          260.78333333333336,
          257.4833333333334,
          254.01666666666674,
          250.75000000000003,
          247.58333333333337,
          244.61666666666667,
          241.68333333333337,
          238.91666666666666,
          236.2166666666667,
          233.51666666666668,
          230.75,
          227.95000000000005,
          225.15,
          222.45000000000005,
          219.65,
          216.88333333333335,
          213.95000000000005,
          211.08333333333337,
          208.01666666666674,
          205.01666666666674,
          201.95000000000005,
          198.85000000000005,
          195.65,
          192.58333333333334,
          189.68333333333337,
          187.01666666666668,
          184.2166666666667,
          181.2833333333334,
          178.2166666666667,
          175.08333333333337,
          172.05000000000004,
          169.2166666666667,
          166.48333333333335,
          163.78333333333336,
          160.98333333333335,
          158.1166666666667,
          155.18333333333337,
          152.1166666666667,
          149.08333333333334,
          146.21666666666667,
          143.41666666666669,
          140.65,
          137.78333333333336,
          133.82500000000005,
          132.5166666666667,
          130.01000000000005,
          127.48333333333336,
          126.20000000000003,
          122.45000000000003,
          119.85000000000002,
          116.07500000000002,
          114.78333333333335,
          113.47500000000001,
          109.55000000000001,
          105.65000000000002,
          103.20000000000002,
          102.01000000000002,
          99.59,
          97.17,
          94.85,
          92.49000000000001,
          90.21000000000001,
          87.99000000000002,
          85.79000000000002,
          83.59000000000002,
          81.47000000000001,
          79.37000000000002,
          77.31000000000002,
          75.31000000000002,
          73.25000000000003,
          71.21000000000002,
          69.15000000000002,
          67.07000000000002,
          64.99000000000004,
          63.03000000000003,
          60.2666666666667,
          58.4666666666667,
          57.57000000000003,
          56.733333333333356,
          54.25000000000002,
          52.59000000000002,
          51.750000000000014,
          51.750000000000014
         ],
         "y": [
          -8.323830063426705e-25,
          null,
          null,
          null,
          null,
          -6.491301386178006e-9,
          null,
          null,
          1.523054916185851e-8,
          1.5271333473718054e-8,
          6.383174492085115e-9,
          1.3059990111149334e-9,
          -2.2360886557849292e-10,
          1.7504948503352544e-9,
          -6.794117647058804e-9,
          -1.6629368038605877e-8,
          -2.3956408163266392e-8,
          -1.5534282079866173e-8,
          4.573971325051394e-9,
          9.652495215524534e-9,
          -5.7326160589764945e-9,
          -1.4160124787512391e-8,
          null,
          null,
          8.275595920172149e-9,
          -1.2009836271230075e-9,
          -1.0785003796979863e-8,
          -5.170658682634709e-9,
          -1.2067546583851191e-9,
          -2.320322243131611e-8,
          -5.00843373493958e-8,
          -8.533625265242819e-8,
          -1.0628776239510577e-7,
          -1.309713524377513e-7,
          -1.675027975348463e-7,
          -2.1229408155331018e-7,
          -2.5233979733177973e-7,
          -2.788820154204718e-7,
          -3.039452933685949e-7,
          -3.184337349397608e-7,
          -3.229845298258458e-7,
          -3.2620304627368607e-7,
          -3.449116713351984e-7,
          -3.7385203318374336e-7,
          -4.1524343174001214e-7,
          -8.963701768463069e-7,
          -9.639108606628001e-7,
          -0.0000010760276760277026,
          -0.0000012110350810908913,
          -0.0000012880717993926462,
          -0.0000012880717993926992,
          -0.000001206300704317217,
          -0.000001054192202928146,
          -8.861856305889681e-7,
          -6.978208342050331e-7,
          -5.307256595569647e-7,
          -4.2586754241926756e-7,
          -3.97248869299684e-7,
          -4.0528685639547876e-7,
          -4.001022913256966e-7,
          -3.718736477899569e-7,
          -3.149532710280418e-7,
          -2.438422271133644e-7,
          -1.7985976187885577e-7,
          -1.38830745973602e-7,
          -1.2437958838730083e-7,
          -1.1368780935312846e-7,
          -9.89834627498272e-8,
          -9.247258755726313e-8,
          -8.450000000000232e-8,
          -8.051275510204048e-8,
          -7.795405982905831e-8,
          -6.48776528138257e-8,
          -3.938256998374976e-8,
          -8.561987071806874e-9,
          2.20852187028668e-8,
          4.273195876288501e-8,
          5.349702380952241e-8,
          4.999999999999783e-8,
          4.635714285714383e-8,
          5.7902751803366105e-8,
          6.597237775289534e-8,
          6.191570881226225e-8,
          5.0522111825442964e-8,
          4.833333333333259e-8,
          5.066219549799648e-8,
          5.4816207369400295e-8,
          4.493023339446755e-8,
          3.950338099988701e-8,
          4.362442899762438e-8,
          3.93971068197249e-8,
          3.286525385121241e-8,
          1.82775325233424e-8,
          1.3715181370357833e-8,
          1.0325570980744653e-8,
          -7.421872585083625e-9,
          -2.417174121356284e-8,
          -3.9796516332827713e-8,
          -6.002926747759257e-8,
          -8.267984094783813e-8,
          -1.1373626373626497e-7,
          -1.405771924154301e-7,
          -1.578125000000013e-7,
          -1.578124999999996e-7,
          -1.3267920804685403e-7,
          -9.475019516003098e-8,
          -5.246276456754675e-8,
          -1.250820150178643e-8,
          2.0729511867443557e-8,
          4.9095884259097195e-8,
          6.39403048247577e-8,
          6.324361462714289e-8,
          5.857935308093794e-8,
          5.510790067254329e-8,
          5.30904018718025e-8,
          4.843545588658156e-8,
          4.0106732348114564e-8,
          3.786962365591406e-8,
          3.452465986394484e-8,
          3.3027761599688053e-8,
          2.5992905331679718e-8,
          2.1063035503649552e-8,
          2.248532634707908e-8,
          2.2730471498946353e-8,
          1.9890595413423536e-8,
          1.9481396200741986e-8,
          2.7909407665504584e-8,
          3.14144968332173e-8,
          2.9153409182862923e-8,
          2.5042629233575396e-8,
          2.4458506514734698e-8,
          2.4827996111537803e-8,
          3.329539234711789e-8,
          3.7105981006261716e-8,
          3.8927221829556245e-8,
          3.552014501323959e-8,
          3.5652949221794554e-8,
          3.845717799427577e-8,
          3.784587310397726e-8,
          3.950617283950552e-8,
          3.7250809924429116e-8,
          3.5324703433064906e-8,
          3.5714285714288034e-8,
          3.638768638768676e-8,
          3.638768638768676e-8,
          3.7748770960658356e-8,
          3.866254491650809e-8,
          3.617682437850638e-8,
          3.1683916338148834e-8,
          3.1948293252640514e-8,
          3.356081116950931e-8,
          3.509628141465508e-8,
          3.503904249871992e-8,
          3.527405180388456e-8,
          3.674168502341148e-8,
          3.410102209374444e-8,
          3.122386759581916e-8,
          2.7937179099973242e-8,
          2.9350021958715887e-8,
          3.434717953308778e-8,
          3.7857743176893317e-8,
          3.6823837926776206e-8,
          3.0364951588931184e-8,
          2.763202376400103e-8,
          3.0863395863394533e-8,
          3.52208325190553e-8,
          3.45711525843833e-8,
          3.1623847167326746e-8,
          2.7816766270080705e-8,
          2.675580890007256e-8,
          2.878998110872051e-8,
          3.663713880328585e-8,
          3.700371874176196e-8,
          2.8388179751706182e-8,
          1.5834055428013685e-8,
          1.902540985834031e-8,
          3.574377184904549e-8,
          2.830048019004312e-8,
          2.5575298873311918e-8,
          2.6730466384007758e-8,
          2.581942405082026e-8,
          2.922831940993387e-8,
          2.789923503659358e-8,
          2.6326963906581633e-8,
          2.9742327894076122e-8,
          3.207432175373523e-8,
          2.443092621664465e-8,
          2.417232729496716e-8,
          2.6033057851238678e-8,
          2.54458697526405e-8,
          2.4428284553941584e-8,
          2.2040434956473724e-8,
          1.716168800379255e-8,
          1.49695932048854e-8,
          1.6363636363636515e-8,
          1.6781017724416093e-8,
          1.9906107484572128e-8,
          2.31366691560876e-8,
          2.3060882873405337e-8,
          2.1147831077530693e-8,
          2.0962330468533554e-8,
          2.2411537193609514e-8,
          2.3686605477449485e-8,
          2.5480769230772456e-8,
          2.660327649719427e-8,
          2.5139497585099444e-8,
          2.5416335874227223e-8,
          2.8411894991754207e-8,
          2.5663929925144146e-8,
          2.1746128954360256e-8,
          2.3534034816340995e-8,
          2.7125645438889152e-8,
          null,
          null
         ]
        }
       ],
       "layout": {
        "font": {
         "color": "Black",
         "family": "Roboto, sans-serif",
         "size": 18
        },
        "height": 556,
        "margin": {
         "b": 50,
         "l": 50,
         "r": 50,
         "t": 80
        },
        "paper_bgcolor": "white",
        "plot_bgcolor": "white",
        "shapes": [
         {
          "line": {
           "color": "black",
           "width": 2
          },
          "type": "rect",
          "x0": 0,
          "x1": 1,
          "xref": "paper",
          "y0": 0,
          "y1": 1,
          "yref": "paper"
         }
        ],
        "showlegend": true,
        "template": {
         "data": {
          "bar": [
           {
            "error_x": {
             "color": "#2a3f5f"
            },
            "error_y": {
             "color": "#2a3f5f"
            },
            "marker": {
             "line": {
              "color": "#E5ECF6",
              "width": 0.5
             },
             "pattern": {
              "fillmode": "overlay",
              "size": 10,
              "solidity": 0.2
             }
            },
            "type": "bar"
           }
          ],
          "barpolar": [
           {
            "marker": {
             "line": {
              "color": "#E5ECF6",
              "width": 0.5
             },
             "pattern": {
              "fillmode": "overlay",
              "size": 10,
              "solidity": 0.2
             }
            },
            "type": "barpolar"
           }
          ],
          "carpet": [
           {
            "aaxis": {
             "endlinecolor": "#2a3f5f",
             "gridcolor": "white",
             "linecolor": "white",
             "minorgridcolor": "white",
             "startlinecolor": "#2a3f5f"
            },
            "baxis": {
             "endlinecolor": "#2a3f5f",
             "gridcolor": "white",
             "linecolor": "white",
             "minorgridcolor": "white",
             "startlinecolor": "#2a3f5f"
            },
            "type": "carpet"
           }
          ],
          "choropleth": [
           {
            "colorbar": {
             "outlinewidth": 0,
             "ticks": ""
            },
            "type": "choropleth"
           }
          ],
          "contour": [
           {
            "colorbar": {
             "outlinewidth": 0,
             "ticks": ""
            },
            "colorscale": [
             [
              0,
              "#0d0887"
             ],
             [
              0.1111111111111111,
              "#46039f"
             ],
             [
              0.2222222222222222,
              "#7201a8"
             ],
             [
              0.3333333333333333,
              "#9c179e"
             ],
             [
              0.4444444444444444,
              "#bd3786"
             ],
             [
              0.5555555555555556,
              "#d8576b"
             ],
             [
              0.6666666666666666,
              "#ed7953"
             ],
             [
              0.7777777777777778,
              "#fb9f3a"
             ],
             [
              0.8888888888888888,
              "#fdca26"
             ],
             [
              1,
              "#f0f921"
             ]
            ],
            "type": "contour"
           }
          ],
          "contourcarpet": [
           {
            "colorbar": {
             "outlinewidth": 0,
             "ticks": ""
            },
            "type": "contourcarpet"
           }
          ],
          "heatmap": [
           {
            "colorbar": {
             "outlinewidth": 0,
             "ticks": ""
            },
            "colorscale": [
             [
              0,
              "#0d0887"
             ],
             [
              0.1111111111111111,
              "#46039f"
             ],
             [
              0.2222222222222222,
              "#7201a8"
             ],
             [
              0.3333333333333333,
              "#9c179e"
             ],
             [
              0.4444444444444444,
              "#bd3786"
             ],
             [
              0.5555555555555556,
              "#d8576b"
             ],
             [
              0.6666666666666666,
              "#ed7953"
             ],
             [
              0.7777777777777778,
              "#fb9f3a"
             ],
             [
              0.8888888888888888,
              "#fdca26"
             ],
             [
              1,
              "#f0f921"
             ]
            ],
            "type": "heatmap"
           }
          ],
          "heatmapgl": [
           {
            "colorbar": {
             "outlinewidth": 0,
             "ticks": ""
            },
            "colorscale": [
             [
              0,
              "#0d0887"
             ],
             [
              0.1111111111111111,
              "#46039f"
             ],
             [
              0.2222222222222222,
              "#7201a8"
             ],
             [
              0.3333333333333333,
              "#9c179e"
             ],
             [
              0.4444444444444444,
              "#bd3786"
             ],
             [
              0.5555555555555556,
              "#d8576b"
             ],
             [
              0.6666666666666666,
              "#ed7953"
             ],
             [
              0.7777777777777778,
              "#fb9f3a"
             ],
             [
              0.8888888888888888,
              "#fdca26"
             ],
             [
              1,
              "#f0f921"
             ]
            ],
            "type": "heatmapgl"
           }
          ],
          "histogram": [
           {
            "marker": {
             "pattern": {
              "fillmode": "overlay",
              "size": 10,
              "solidity": 0.2
             }
            },
            "type": "histogram"
           }
          ],
          "histogram2d": [
           {
            "colorbar": {
             "outlinewidth": 0,
             "ticks": ""
            },
            "colorscale": [
             [
              0,
              "#0d0887"
             ],
             [
              0.1111111111111111,
              "#46039f"
             ],
             [
              0.2222222222222222,
              "#7201a8"
             ],
             [
              0.3333333333333333,
              "#9c179e"
             ],
             [
              0.4444444444444444,
              "#bd3786"
             ],
             [
              0.5555555555555556,
              "#d8576b"
             ],
             [
              0.6666666666666666,
              "#ed7953"
             ],
             [
              0.7777777777777778,
              "#fb9f3a"
             ],
             [
              0.8888888888888888,
              "#fdca26"
             ],
             [
              1,
              "#f0f921"
             ]
            ],
            "type": "histogram2d"
           }
          ],
          "histogram2dcontour": [
           {
            "colorbar": {
             "outlinewidth": 0,
             "ticks": ""
            },
            "colorscale": [
             [
              0,
              "#0d0887"
             ],
             [
              0.1111111111111111,
              "#46039f"
             ],
             [
              0.2222222222222222,
              "#7201a8"
             ],
             [
              0.3333333333333333,
              "#9c179e"
             ],
             [
              0.4444444444444444,
              "#bd3786"
             ],
             [
              0.5555555555555556,
              "#d8576b"
             ],
             [
              0.6666666666666666,
              "#ed7953"
             ],
             [
              0.7777777777777778,
              "#fb9f3a"
             ],
             [
              0.8888888888888888,
              "#fdca26"
             ],
             [
              1,
              "#f0f921"
             ]
            ],
            "type": "histogram2dcontour"
           }
          ],
          "mesh3d": [
           {
            "colorbar": {
             "outlinewidth": 0,
             "ticks": ""
            },
            "type": "mesh3d"
           }
          ],
          "parcoords": [
           {
            "line": {
             "colorbar": {
              "outlinewidth": 0,
              "ticks": ""
             }
            },
            "type": "parcoords"
           }
          ],
          "pie": [
           {
            "automargin": true,
            "type": "pie"
           }
          ],
          "scatter": [
           {
            "fillpattern": {
             "fillmode": "overlay",
             "size": 10,
             "solidity": 0.2
            },
            "type": "scatter"
           }
          ],
          "scatter3d": [
           {
            "line": {
             "colorbar": {
              "outlinewidth": 0,
              "ticks": ""
             }
            },
            "marker": {
             "colorbar": {
              "outlinewidth": 0,
              "ticks": ""
             }
            },
            "type": "scatter3d"
           }
          ],
          "scattercarpet": [
           {
            "marker": {
             "colorbar": {
              "outlinewidth": 0,
              "ticks": ""
             }
            },
            "type": "scattercarpet"
           }
          ],
          "scattergeo": [
           {
            "marker": {
             "colorbar": {
              "outlinewidth": 0,
              "ticks": ""
             }
            },
            "type": "scattergeo"
           }
          ],
          "scattergl": [
           {
            "marker": {
             "colorbar": {
              "outlinewidth": 0,
              "ticks": ""
             }
            },
            "type": "scattergl"
           }
          ],
          "scattermapbox": [
           {
            "marker": {
             "colorbar": {
              "outlinewidth": 0,
              "ticks": ""
             }
            },
            "type": "scattermapbox"
           }
          ],
          "scatterpolar": [
           {
            "marker": {
             "colorbar": {
              "outlinewidth": 0,
              "ticks": ""
             }
            },
            "type": "scatterpolar"
           }
          ],
          "scatterpolargl": [
           {
            "marker": {
             "colorbar": {
              "outlinewidth": 0,
              "ticks": ""
             }
            },
            "type": "scatterpolargl"
           }
          ],
          "scatterternary": [
           {
            "marker": {
             "colorbar": {
              "outlinewidth": 0,
              "ticks": ""
             }
            },
            "type": "scatterternary"
           }
          ],
          "surface": [
           {
            "colorbar": {
             "outlinewidth": 0,
             "ticks": ""
            },
            "colorscale": [
             [
              0,
              "#0d0887"
             ],
             [
              0.1111111111111111,
              "#46039f"
             ],
             [
              0.2222222222222222,
              "#7201a8"
             ],
             [
              0.3333333333333333,
              "#9c179e"
             ],
             [
              0.4444444444444444,
              "#bd3786"
             ],
             [
              0.5555555555555556,
              "#d8576b"
             ],
             [
              0.6666666666666666,
              "#ed7953"
             ],
             [
              0.7777777777777778,
              "#fb9f3a"
             ],
             [
              0.8888888888888888,
              "#fdca26"
             ],
             [
              1,
              "#f0f921"
             ]
            ],
            "type": "surface"
           }
          ],
          "table": [
           {
            "cells": {
             "fill": {
              "color": "#EBF0F8"
             },
             "line": {
              "color": "white"
             }
            },
            "header": {
             "fill": {
              "color": "#C8D4E3"
             },
             "line": {
              "color": "white"
             }
            },
            "type": "table"
           }
          ]
         },
         "layout": {
          "annotationdefaults": {
           "arrowcolor": "#2a3f5f",
           "arrowhead": 0,
           "arrowwidth": 1
          },
          "autotypenumbers": "strict",
          "coloraxis": {
           "colorbar": {
            "outlinewidth": 0,
            "ticks": ""
           }
          },
          "colorscale": {
           "diverging": [
            [
             0,
             "#8e0152"
            ],
            [
             0.1,
             "#c51b7d"
            ],
            [
             0.2,
             "#de77ae"
            ],
            [
             0.3,
             "#f1b6da"
            ],
            [
             0.4,
             "#fde0ef"
            ],
            [
             0.5,
             "#f7f7f7"
            ],
            [
             0.6,
             "#e6f5d0"
            ],
            [
             0.7,
             "#b8e186"
            ],
            [
             0.8,
             "#7fbc41"
            ],
            [
             0.9,
             "#4d9221"
            ],
            [
             1,
             "#276419"
            ]
           ],
           "sequential": [
            [
             0,
             "#0d0887"
            ],
            [
             0.1111111111111111,
             "#46039f"
            ],
            [
             0.2222222222222222,
             "#7201a8"
            ],
            [
             0.3333333333333333,
             "#9c179e"
            ],
            [
             0.4444444444444444,
             "#bd3786"
            ],
            [
             0.5555555555555556,
             "#d8576b"
            ],
            [
             0.6666666666666666,
             "#ed7953"
            ],
            [
             0.7777777777777778,
             "#fb9f3a"
            ],
            [
             0.8888888888888888,
             "#fdca26"
            ],
            [
             1,
             "#f0f921"
            ]
           ],
           "sequentialminus": [
            [
             0,
             "#0d0887"
            ],
            [
             0.1111111111111111,
             "#46039f"
            ],
            [
             0.2222222222222222,
             "#7201a8"
            ],
            [
             0.3333333333333333,
             "#9c179e"
            ],
            [
             0.4444444444444444,
             "#bd3786"
            ],
            [
             0.5555555555555556,
             "#d8576b"
            ],
            [
             0.6666666666666666,
             "#ed7953"
            ],
            [
             0.7777777777777778,
             "#fb9f3a"
            ],
            [
             0.8888888888888888,
             "#fdca26"
            ],
            [
             1,
             "#f0f921"
            ]
           ]
          },
          "colorway": [
           "#636efa",
           "#EF553B",
           "#00cc96",
           "#ab63fa",
           "#FFA15A",
           "#19d3f3",
           "#FF6692",
           "#B6E880",
           "#FF97FF",
           "#FECB52"
          ],
          "font": {
           "color": "#2a3f5f"
          },
          "geo": {
           "bgcolor": "white",
           "lakecolor": "white",
           "landcolor": "#E5ECF6",
           "showlakes": true,
           "showland": true,
           "subunitcolor": "white"
          },
          "hoverlabel": {
           "align": "left"
          },
          "hovermode": "closest",
          "mapbox": {
           "style": "light"
          },
          "paper_bgcolor": "white",
          "plot_bgcolor": "#E5ECF6",
          "polar": {
           "angularaxis": {
            "gridcolor": "white",
            "linecolor": "white",
            "ticks": ""
           },
           "bgcolor": "#E5ECF6",
           "radialaxis": {
            "gridcolor": "white",
            "linecolor": "white",
            "ticks": ""
           }
          },
          "scene": {
           "xaxis": {
            "backgroundcolor": "#E5ECF6",
            "gridcolor": "white",
            "gridwidth": 2,
            "linecolor": "white",
            "showbackground": true,
            "ticks": "",
            "zerolinecolor": "white"
           },
           "yaxis": {
            "backgroundcolor": "#E5ECF6",
            "gridcolor": "white",
            "gridwidth": 2,
            "linecolor": "white",
            "showbackground": true,
            "ticks": "",
            "zerolinecolor": "white"
           },
           "zaxis": {
            "backgroundcolor": "#E5ECF6",
            "gridcolor": "white",
            "gridwidth": 2,
            "linecolor": "white",
            "showbackground": true,
            "ticks": "",
            "zerolinecolor": "white"
           }
          },
          "shapedefaults": {
           "line": {
            "color": "#2a3f5f"
           }
          },
          "ternary": {
           "aaxis": {
            "gridcolor": "white",
            "linecolor": "white",
            "ticks": ""
           },
           "baxis": {
            "gridcolor": "white",
            "linecolor": "white",
            "ticks": ""
           },
           "bgcolor": "#E5ECF6",
           "caxis": {
            "gridcolor": "white",
            "linecolor": "white",
            "ticks": ""
           }
          },
          "title": {
           "x": 0.05
          },
          "xaxis": {
           "automargin": true,
           "gridcolor": "white",
           "linecolor": "white",
           "ticks": "",
           "title": {
            "standoff": 15
           },
           "zerolinecolor": "white",
           "zerolinewidth": 2
          },
          "yaxis": {
           "automargin": true,
           "gridcolor": "white",
           "linecolor": "white",
           "ticks": "",
           "title": {
            "standoff": 15
           },
           "zerolinecolor": "white",
           "zerolinewidth": 2
          }
         }
        },
        "title": {
         "text": "BHRS13-2B5L1A_01 - dX/dT",
         "x": 0.5,
         "xanchor": "center"
        },
        "width": 900,
        "xaxis": {
         "dtick": 100,
         "gridcolor": "lightgray",
         "gridwidth": 1,
         "linecolor": "black",
         "linewidth": 1,
         "showline": true,
         "tick0": 0,
         "title": {
          "text": "Temperature (&deg;C)"
         }
        },
        "yaxis": {
         "autorange": true,
         "gridcolor": "lightgray",
         "gridwidth": 1,
         "linecolor": "black",
         "linewidth": 1,
         "showline": true,
         "tickformat": ".1e",
         "title": {
          "text": "dX/dT"
         }
        }
       }
      }
     },
     "metadata": {},
     "output_type": "display_data"
    },
    {
     "data": {
      "application/vnd.plotly.v1+json": {
       "config": {
        "plotlyServerURL": "https://plot.ly"
       },
       "data": [
        {
         "line": {
          "color": "red"
         },
         "mode": "markers+lines",
         "name": "Heating - 1/X smoothed",
         "type": "scatter",
         "x": [
          27.450000000000017,
          27.450000000000017,
          36.70000000000002,
          39.05000000000001,
          43.85000000000002,
          48.38333333333335,
          52.616666666666696,
          56.48333333333335,
          60.28333333333336,
          63.88333333333335,
          67.15000000000002,
          70.11666666666667,
          73.08333333333336,
          76.0166666666667,
          80.10000000000002,
          82.70000000000002,
          82.70000000000002,
          85.30000000000001,
          90.40000000000002,
          92.92500000000003,
          92.92500000000003,
          95.42500000000003,
          100.50000000000003,
          103.05000000000003,
          103.05000000000003,
          105.62500000000003,
          110.67500000000003,
          113.05000000000003,
          114.15000000000002,
          116.39000000000001,
          118.55000000000003,
          120.83000000000001,
          123.09,
          125.45000000000002,
          127.81000000000003,
          130.27000000000004,
          131.45000000000002,
          135.19,
          138.9,
          138.9,
          141.4,
          145.21666666666667,
          147.98333333333335,
          150.78333333333336,
          153.7166666666667,
          156.58333333333337,
          159.48333333333338,
          163.47500000000002,
          164.8166666666667,
          166.175,
          171.375,
          173.925,
          175.15,
          176.375,
          178.9,
          182.7833333333334,
          185.55000000000004,
          188.18333333333337,
          190.95000000000002,
          193.75,
          196.6833333333333,
          199.58333333333334,
          202.65,
          205.8166666666667,
          209.01666666666668,
          212.11666666666667,
          215.45000000000002,
          219.08333333333334,
          223.08333333333334,
          227.1166666666667,
          231.25,
          235.41666666666666,
          239.75,
          244.01666666666665,
          248.25,
          252.3166666666667,
          256.25000000000006,
          259.95000000000005,
          263.3166666666667,
          266.45000000000005,
          269.55,
          272.7166666666667,
          275.98333333333335,
          279.0833333333333,
          282.34999999999997,
          285.65000000000003,
          289.15000000000003,
          292.45,
          295.81666666666666,
          299.18333333333334,
          302.78333333333336,
          306.25000000000006,
          309.75000000000006,
          313.15000000000003,
          316.68333333333334,
          320.01666666666665,
          323.34999999999997,
          326.51666666666665,
          329.75,
          332.78333333333336,
          335.95,
          338.98333333333335,
          342.0833333333333,
          344.95000000000005,
          347.65000000000003,
          350.45,
          353.31666666666666,
          356.45000000000005,
          359.4833333333334,
          362.5166666666667,
          365.25,
          368.15000000000003,
          371.1166666666666,
          374.2166666666667,
          377.3166666666668,
          380.4166666666667,
          383.7166666666667,
          386.8833333333334,
          390.05,
          393.15000000000003,
          396.34999999999997,
          399.68333333333334,
          403.05,
          406.3833333333334,
          409.48333333333335,
          412.3833333333334,
          415.4166666666667,
          418.81666666666666,
          422.7166666666667,
          426.48333333333335,
          430.0833333333333,
          433.3833333333334,
          436.5833333333333,
          439.7833333333333,
          441.35,
          449.8,
          451.1833333333334,
          454.0833333333333,
          456.9166666666667,
          459.8500000000001,
          462.6833333333334,
          465.6833333333334,
          468.61666666666673,
          471.5833333333333,
          474.3833333333334,
          477.2833333333333,
          480.18333333333334,
          483.18333333333334,
          486.18333333333334,
          489.2166666666667,
          492.2833333333333,
          495.5166666666667,
          498.9166666666667,
          502.55,
          506.1166666666666,
          509.55,
          512.6833333333333,
          515.6500000000001,
          518.4499999999999,
          521.2833333333333,
          524.1166666666667,
          527.0166666666668,
          529.7833333333334,
          532.5833333333334,
          535.35,
          538.2833333333333,
          541.2833333333334,
          544.4833333333333,
          547.5833333333334,
          550.7500000000001,
          553.6833333333334,
          556.5500000000001,
          559.15,
          561.95,
          564.75,
          567.65,
          570.4166666666666,
          573.4166666666666,
          576.3833333333333,
          580.6,
          581.9499999999999,
          583.3,
          588.425,
          589.7833333333333,
          592.15,
          595.625,
          597.95,
          601.6166666666667,
          604.5166666666667,
          607.5500000000001,
          611.525,
          612.8833333333333,
          614.4000000000001,
          618.5500000000001,
          622.0500000000001,
          625.15,
          628.3166666666666,
          631.8166666666666,
          635.4499999999999,
          640.1,
          642.65,
          643.65,
          646.0500000000001,
          646.8300000000002,
          647.725,
          647.725,
          595.625
         ],
         "y": [
          946073.7937559129,
          946073.7937559129,
          951474.7859181731,
          960307.2983354673,
          971188.0867594692,
          986258.1366296272,
          986258.1366296274,
          990164.3672849694,
          986193.2938856015,
          990099.0099009901,
          998037.1935194118,
          994068.7232844031,
          1010067.0011110738,
          1010067.0011110738,
          1023541.4534288639,
          1020460.2275626309,
          1020460.2275626309,
          1017371.6204186485,
          1020460.2275626309,
          1026667.69333436,
          1026667.69333436,
          1029813.0889243602,
          1042535.4462051709,
          1049042.748492001,
          1049042.748492001,
          1062275.9261718232,
          1062275.9261718232,
          1052299.273913501,
          1054941.3452612034,
          1054941.3452612034,
          1054941.3452612034,
          1054941.3452612034,
          1062947.766746742,
          1065643.6487638534,
          1062947.766746742,
          1065643.6487638534,
          1069032.7925809124,
          1079307.5162975437,
          1089769.7861326796,
          1089769.7861326796,
          1100442.928278632,
          1107665.0420912716,
          1122460.4332697273,
          1122460.4332697273,
          1122460.4332697273,
          1107665.0420912716,
          1112553.3098460967,
          1115013.6589173216,
          1122460.4332697273,
          1126221.246163809,
          1118724.6538945602,
          1122460.4332697273,
          1122460.4332697273,
          1118724.6538945602,
          1122460.4332697273,
          1137656.4277588169,
          1142813.6071006819,
          1132545.5849597945,
          1127480.4570054119,
          1142770.0746609783,
          1158480.0741427247,
          1158480.0741427247,
          1147973.8261967627,
          1137656.4277588169,
          1148017.7560079596,
          1153225.1864380718,
          1137613.287323196,
          1142726.545537653,
          1132502.831257078,
          1147973.8261967627,
          1142813.6071006819,
          1148017.7560079596,
          1169271.5438281952,
          1174674.0279572417,
          1174674.0279572417,
          1158524.811739718,
          1163873.370577281,
          1169225.972406267,
          1191279.8316324505,
          1191279.8316324505,
          1185723.8844314453,
          1153225.1864380718,
          1153225.1864380718,
          1153225.1864380718,
          1180173.0920535012,
          1180173.092053501,
          1196935.8442387485,
          1174674.0279572417,
          1163873.370577281,
          1163873.370577281,
          1196983.6013246619,
          1208410.5373398857,
          1214230.7847978305,
          1191279.8316324505,
          1202645.820805773,
          1158480.0741427247,
          1127480.4570054119,
          1056710.109193378,
          1022390.3486351089,
          956693.6666879264,
          889415.9501927068,
          791974.6568109822,
          719597.0256656272,
          649210.1276779918,
          595592.6146515782,
          533902.8296849973,
          479233.22683706076,
          428755.18079176795,
          388550.70586711564,
          358208.9552238806,
          332741.79236912157,
          309119.0108191654,
          287659.41125707165,
          267833.22917596647,
          248838.75248838752,
          228990.1534234028,
          208217.6568573015,
          187219.1712431353,
          166481.6870144284,
          147260.9463970155,
          130117.97362942403,
          114902.90704354821,
          102183.31687046561,
          91157.70282588879,
          81900.0819000819,
          73439.41248470012,
          65359.47712418301,
          58015.85766776252,
          51706.30816959669,
          46794.571829667766,
          42668.18375764472,
          39359.74809761218,
          36509.675063891926,
          34040.62180869171,
          32900.14805066623,
          27785.495971103086,
          27085.590465872156,
          25746.652935118433,
          24570.024570024576,
          23494.400501213873,
          22569.966897381884,
          21734.405564007822,
          21011.34612690853,
          20359.687818120125,
          19824.225203198308,
          19338.619222587506,
          18946.570670708603,
          18625.442354255913,
          18435.445216001965,
          18341.892883345557,
          18367.721790240616,
          18488.845063478366,
          18762.899493401717,
          19234.468166955183,
          19956.096587507483,
          20949.72067039106,
          22182.786157941435,
          23724.792408066427,
          25601.63850486431,
          28095.148904289188,
          31552.376945729913,
          36576.44476956839,
          43579.31435212086,
          53850.29617662897,
          68259.38566552901,
          91179.86748525925,
          125015.62695336915,
          181039.16480598637,
          257709.81874409414,
          360793.74624173174,
          472069.2368214004,
          601322.9104028863,
          721500.7215007215,
          886132.0336730172,
          1052262.3640827779,
          1295169.019557052,
          1443209.6983691729,
          1870790.7208780241,
          2405195.221678826,
          3961180.431768667,
          4591368.227731865,
          4810004.81000481,
          6121824.303642485,
          7215007.215007215,
          4951475.539710834,
          5180072.262008055,
          4810062.65106603,
          12626794.056988932,
          16835016.835016835,
          16835016.835016835,
          9620240.987036726,
          7215180.740277544,
          8417862.704659287,
          5611777.2498550275,
          7215354.273894847,
          6313264.168017003,
          12627325.532452226,
          10101350.213811914,
          8417744.605628666,
          6121824.303642486,
          6121824.303642486,
          6012506.012506013,
          5316321.105794789,
          4951475.539710834,
          5180005.18000518,
          5180005.18000518,
          5180072.262008055
         ]
        },
        {
         "line": {
          "color": "blue"
         },
         "mode": "markers+lines",
         "name": "Cooling - 1/X smoothed",
         "type": "scatter",
         "x": [
          631.0000000000001,
          646.9000000000001,
          646.9000000000001,
          645.97,
          645.97,
          644.4166666666666,
          635.7,
          635.7,
          634.1666666666666,
          633.3785714285714,
          631.0000000000001,
          629.0500000000001,
          628.23,
          625.025,
          619.9250000000001,
          617.375,
          616.15,
          614.9000000000001,
          612.375,
          608.5833333333334,
          605.8833333333333,
          604.6,
          594.0833333333334,
          594.0833333333334,
          592.9000000000001,
          589.1833333333334,
          585.175,
          583.7833333333333,
          582.475,
          578.4500000000002,
          575.6833333333334,
          572.9166666666666,
          570.2833333333333,
          567.5166666666668,
          564.8166666666666,
          561.8833333333333,
          559.0166666666668,
          556.0833333333334,
          553.3833333333333,
          550.6166666666667,
          547.85,
          544.9166666666667,
          542.0833333333334,
          539.0833333333334,
          537.6500000000001,
          529.7,
          528.3833333333333,
          525.7833333333334,
          522.9833333333335,
          520.25,
          517.4499999999999,
          514.7166666666667,
          511.7833333333333,
          508.7833333333333,
          505.65000000000003,
          502.55,
          499.55,
          496.75,
          493.84999999999997,
          490.7166666666667,
          487.25,
          483.6833333333334,
          480.11666666666673,
          476.6500000000001,
          473.3833333333334,
          470.3500000000001,
          467.25,
          464.05,
          460.6833333333334,
          457.3500000000001,
          454.0166666666667,
          450.81666666666666,
          447.51666666666665,
          444.0833333333333,
          440.45,
          436.98333333333335,
          433.65000000000003,
          430.5166666666667,
          427.25,
          423.9833333333334,
          420.5833333333333,
          417.4166666666667,
          414.31666666666666,
          411.4166666666667,
          408.4166666666667,
          405.4166666666667,
          402.2833333333333,
          399.25,
          396.15000000000003,
          392.9166666666667,
          389.5166666666667,
          386.2833333333333,
          383.25,
          380.31666666666666,
          377.4166666666667,
          374.4833333333334,
          371.6500000000001,
          368.7166666666667,
          365.6833333333334,
          362.6166666666666,
          359.5833333333333,
          356.55,
          353.3500000000001,
          350.1500000000001,
          346.95000000000005,
          343.9166666666667,
          340.85,
          337.98333333333335,
          335.05,
          332.15,
          329.18333333333334,
          326.05,
          322.75,
          319.31666666666666,
          316.15000000000003,
          313.18333333333334,
          310.3833333333334,
          307.3833333333334,
          304.18333333333334,
          300.85,
          297.45000000000005,
          294.0166666666667,
          290.45000000000005,
          286.95000000000005,
          283.68333333333334,
          280.45,
          277.1166666666667,
          273.6166666666667,
          270.35,
          267.1166666666667,
          264.05,
          260.78333333333336,
          257.4833333333334,
          254.01666666666674,
          250.75000000000003,
          247.58333333333337,
          244.61666666666667,
          241.68333333333337,
          238.91666666666666,
          236.2166666666667,
          233.51666666666668,
          230.75,
          227.95000000000005,
          225.15,
          222.45000000000005,
          219.65,
          216.88333333333335,
          213.95000000000005,
          211.08333333333337,
          208.01666666666674,
          205.01666666666674,
          201.95000000000005,
          198.85000000000005,
          195.65,
          192.58333333333334,
          189.68333333333337,
          187.01666666666668,
          184.2166666666667,
          181.2833333333334,
          178.2166666666667,
          175.08333333333337,
          172.05000000000004,
          169.2166666666667,
          166.48333333333335,
          163.78333333333336,
          160.98333333333335,
          158.1166666666667,
          155.18333333333337,
          152.1166666666667,
          149.08333333333334,
          146.21666666666667,
          143.41666666666669,
          140.65,
          137.78333333333336,
          133.82500000000005,
          132.5166666666667,
          130.01000000000005,
          127.48333333333336,
          126.20000000000003,
          122.45000000000003,
          119.85000000000002,
          116.07500000000002,
          114.78333333333335,
          113.47500000000001,
          109.55000000000001,
          105.65000000000002,
          103.20000000000002,
          102.01000000000002,
          99.59,
          97.17,
          94.85,
          92.49000000000001,
          90.21000000000001,
          87.99000000000002,
          85.79000000000002,
          83.59000000000002,
          81.47000000000001,
          79.37000000000002,
          77.31000000000002,
          75.31000000000002,
          73.25000000000003,
          71.21000000000002,
          69.15000000000002,
          67.07000000000002,
          64.99000000000004,
          63.03000000000003,
          60.2666666666667,
          58.4666666666667,
          57.57000000000003,
          56.733333333333356,
          54.25000000000002,
          52.59000000000002,
          51.750000000000014,
          51.750000000000014
         ],
         "y": [
          11223344.55667789,
          11223344.556677891,
          11223344.556677891,
          9352787.130564908,
          9352787.130564908,
          8417508.417508418,
          8417508.417508418,
          8417508.417508418,
          9182736.45546373,
          10713192.53137435,
          11223344.55667789,
          14430014.43001443,
          14029180.695847362,
          22446689.113355782,
          11223344.556677891,
          9620009.62000962,
          7652280.379553107,
          6121824.303642486,
          6734006.734006734,
          7215007.215007215,
          10101010.101010103,
          8417508.417508418,
          6313131.313131313,
          6313131.313131313,
          6734006.734006734,
          8417508.417508418,
          6121824.303642485,
          5611672.278338945,
          5611672.278338945,
          5050505.0505050495,
          3367381.2998091816,
          2104672.3726673215,
          1329198.050509526,
          952955.7510879579,
          682500.6825006825,
          500116.6938952422,
          371397.44478557986,
          288639.1625615763,
          234932.96579376017,
          195025.54834683338,
          166153.43716077006,
          143495.35553365923,
          126595.09823779622,
          111277.61539488717,
          104929.59224360455,
          69366.4072363036,
          63865.66071154861,
          54730.942685756825,
          46516.24347222049,
          40056.82728564256,
          34930.99963206014,
          31157.954210270498,
          28218.402913644168,
          26083.871820376033,
          24479.08506971644,
          23422.202374074433,
          22675.119951384546,
          22133.099607801476,
          21566.65966948375,
          20997.58107865974,
          20404.88737862493,
          19906.62465926494,
          19510.46931783595,
          19246.36372034777,
          19056.86313869077,
          18924.626995601917,
          18783.622684605445,
          18672.555575749582,
          18557.053041006144,
          18458.8576674403,
          18365.06817113305,
          18281.134600337835,
          18195.757234633078,
          18137.45287285162,
          18105.70836773418,
          18115.548212720016,
          18153.916162794638,
          18205.6952269522,
          18267.77637318875,
          18314.61579598983,
          18371.816164258733,
          18441.836905312233,
          18512.39343032182,
          18569.688326351134,
          18614.62513867896,
          18670.231436188882,
          18722.664909232524,
          18788.328189506596,
          18818.97153065987,
          18878.18286163047,
          18921.046258173894,
          18971.300217031672,
          18996.52743478492,
          19010.97313369277,
          19025.44081946379,
          19032.68292311558,
          19010.97313369277,
          18982.10367265742,
          18924.62699560192,
          18850.89943924858,
          18746.06332670139,
          18608.851858652124,
          18441.836905312233,
          18265.55189973917,
          18104.615711426908,
          17991.6950335725,
          17917.550599162892,
          17888.703641424512,
          17895.106046398432,
          17927.186937534512,
          17988.458604959058,
          18053.40920579442,
          18121.01941606827,
          18182.52344333356,
          18241.11839945131,
          18291.16609842111,
          18334.763444882035,
          18368.44154794531,
          18414.668879700654,
          18444.10452642917,
          18490.713963447557,
          18504.400346402377,
          18542.1425816596,
          18559.34908650884,
          18593.858076800076,
          18604.23581240977,
          18638.91208397948,
          18670.231436188882,
          18712.154667185616,
          18736.696945168933,
          18767.171962345546,
          18790.681826153625,
          18824.87594406753,
          18871.057836018055,
          18913.888846858026,
          18960.509051747023,
          18992.919439632904,
          19036.306042884993,
          19072.6132531775,
          19111.493907255743,
          19150.533406190472,
          19186.050973500223,
          19222.93218918441,
          19259.95547098295,
          19297.12164133598,
          19334.43152904418,
          19375.639396100072,
          19417.023292661142,
          19454.798720652438,
          19487.65651836127,
          19528.24956582192,
          19565.183364898498,
          19611.227035253145,
          19649.76263086742,
          19696.205722929535,
          19735.076335275266,
          19770.191296370984,
          19801.509667097023,
          19832.92741941882,
          19871.023808135993,
          19917.197570633023,
          19963.586418372888,
          20003.520619629053,
          20031.5697539322,
          20063.72238228614,
          20100.017688015567,
          20144.557343496937,
          20181.145966192547,
          20221.95619115411,
          20250.62169408601,
          20286.225112182827,
          20317.824963292464,
          20370.249657779805,
          20403.49960825281,
          20451.48702762178,
          20457.762902711063,
          20492.979105358503,
          20533.374947639895,
          20546.03132858857,
          20596.813261052255,
          20622.298478899265,
          20670.253644682474,
          20686.28830066279,
          20701.276440705336,
          20743.502443584588,
          20801.39452548899,
          20833.897584726255,
          20844.971775908216,
          20876.30372516764,
          20899.864568877594,
          20928.733476764923,
          20949.779189327346,
          20973.506266883673,
          20984.068894894997,
          21002.579116715533,
          21015.82070983036,
          21034.387015893582,
          21052.986155556304,
          21076.947720738874,
          21094.73222346916,
          21115.22154090441,
          21133.070719707855,
          21156.319815855393,
          21176.9290064632,
          21203.870978685874,
          21225.473964833633,
          21257.961106434363,
          21278.316119175593,
          21290.547848377235,
          21298.71015011331,
          21324.01412990102,
          21342.34834127269,
          21353.285843625617,
          21353.285843625617
         ]
        }
       ],
       "layout": {
        "font": {
         "color": "Black",
         "family": "Roboto, sans-serif",
         "size": 18
        },
        "height": 556,
        "margin": {
         "b": 50,
         "l": 50,
         "r": 50,
         "t": 80
        },
        "paper_bgcolor": "white",
        "plot_bgcolor": "white",
        "shapes": [
         {
          "line": {
           "color": "black",
           "width": 2
          },
          "type": "rect",
          "x0": 0,
          "x1": 1,
          "xref": "paper",
          "y0": 0,
          "y1": 1,
          "yref": "paper"
         }
        ],
        "showlegend": true,
        "template": {
         "data": {
          "bar": [
           {
            "error_x": {
             "color": "#2a3f5f"
            },
            "error_y": {
             "color": "#2a3f5f"
            },
            "marker": {
             "line": {
              "color": "#E5ECF6",
              "width": 0.5
             },
             "pattern": {
              "fillmode": "overlay",
              "size": 10,
              "solidity": 0.2
             }
            },
            "type": "bar"
           }
          ],
          "barpolar": [
           {
            "marker": {
             "line": {
              "color": "#E5ECF6",
              "width": 0.5
             },
             "pattern": {
              "fillmode": "overlay",
              "size": 10,
              "solidity": 0.2
             }
            },
            "type": "barpolar"
           }
          ],
          "carpet": [
           {
            "aaxis": {
             "endlinecolor": "#2a3f5f",
             "gridcolor": "white",
             "linecolor": "white",
             "minorgridcolor": "white",
             "startlinecolor": "#2a3f5f"
            },
            "baxis": {
             "endlinecolor": "#2a3f5f",
             "gridcolor": "white",
             "linecolor": "white",
             "minorgridcolor": "white",
             "startlinecolor": "#2a3f5f"
            },
            "type": "carpet"
           }
          ],
          "choropleth": [
           {
            "colorbar": {
             "outlinewidth": 0,
             "ticks": ""
            },
            "type": "choropleth"
           }
          ],
          "contour": [
           {
            "colorbar": {
             "outlinewidth": 0,
             "ticks": ""
            },
            "colorscale": [
             [
              0,
              "#0d0887"
             ],
             [
              0.1111111111111111,
              "#46039f"
             ],
             [
              0.2222222222222222,
              "#7201a8"
             ],
             [
              0.3333333333333333,
              "#9c179e"
             ],
             [
              0.4444444444444444,
              "#bd3786"
             ],
             [
              0.5555555555555556,
              "#d8576b"
             ],
             [
              0.6666666666666666,
              "#ed7953"
             ],
             [
              0.7777777777777778,
              "#fb9f3a"
             ],
             [
              0.8888888888888888,
              "#fdca26"
             ],
             [
              1,
              "#f0f921"
             ]
            ],
            "type": "contour"
           }
          ],
          "contourcarpet": [
           {
            "colorbar": {
             "outlinewidth": 0,
             "ticks": ""
            },
            "type": "contourcarpet"
           }
          ],
          "heatmap": [
           {
            "colorbar": {
             "outlinewidth": 0,
             "ticks": ""
            },
            "colorscale": [
             [
              0,
              "#0d0887"
             ],
             [
              0.1111111111111111,
              "#46039f"
             ],
             [
              0.2222222222222222,
              "#7201a8"
             ],
             [
              0.3333333333333333,
              "#9c179e"
             ],
             [
              0.4444444444444444,
              "#bd3786"
             ],
             [
              0.5555555555555556,
              "#d8576b"
             ],
             [
              0.6666666666666666,
              "#ed7953"
             ],
             [
              0.7777777777777778,
              "#fb9f3a"
             ],
             [
              0.8888888888888888,
              "#fdca26"
             ],
             [
              1,
              "#f0f921"
             ]
            ],
            "type": "heatmap"
           }
          ],
          "heatmapgl": [
           {
            "colorbar": {
             "outlinewidth": 0,
             "ticks": ""
            },
            "colorscale": [
             [
              0,
              "#0d0887"
             ],
             [
              0.1111111111111111,
              "#46039f"
             ],
             [
              0.2222222222222222,
              "#7201a8"
             ],
             [
              0.3333333333333333,
              "#9c179e"
             ],
             [
              0.4444444444444444,
              "#bd3786"
             ],
             [
              0.5555555555555556,
              "#d8576b"
             ],
             [
              0.6666666666666666,
              "#ed7953"
             ],
             [
              0.7777777777777778,
              "#fb9f3a"
             ],
             [
              0.8888888888888888,
              "#fdca26"
             ],
             [
              1,
              "#f0f921"
             ]
            ],
            "type": "heatmapgl"
           }
          ],
          "histogram": [
           {
            "marker": {
             "pattern": {
              "fillmode": "overlay",
              "size": 10,
              "solidity": 0.2
             }
            },
            "type": "histogram"
           }
          ],
          "histogram2d": [
           {
            "colorbar": {
             "outlinewidth": 0,
             "ticks": ""
            },
            "colorscale": [
             [
              0,
              "#0d0887"
             ],
             [
              0.1111111111111111,
              "#46039f"
             ],
             [
              0.2222222222222222,
              "#7201a8"
             ],
             [
              0.3333333333333333,
              "#9c179e"
             ],
             [
              0.4444444444444444,
              "#bd3786"
             ],
             [
              0.5555555555555556,
              "#d8576b"
             ],
             [
              0.6666666666666666,
              "#ed7953"
             ],
             [
              0.7777777777777778,
              "#fb9f3a"
             ],
             [
              0.8888888888888888,
              "#fdca26"
             ],
             [
              1,
              "#f0f921"
             ]
            ],
            "type": "histogram2d"
           }
          ],
          "histogram2dcontour": [
           {
            "colorbar": {
             "outlinewidth": 0,
             "ticks": ""
            },
            "colorscale": [
             [
              0,
              "#0d0887"
             ],
             [
              0.1111111111111111,
              "#46039f"
             ],
             [
              0.2222222222222222,
              "#7201a8"
             ],
             [
              0.3333333333333333,
              "#9c179e"
             ],
             [
              0.4444444444444444,
              "#bd3786"
             ],
             [
              0.5555555555555556,
              "#d8576b"
             ],
             [
              0.6666666666666666,
              "#ed7953"
             ],
             [
              0.7777777777777778,
              "#fb9f3a"
             ],
             [
              0.8888888888888888,
              "#fdca26"
             ],
             [
              1,
              "#f0f921"
             ]
            ],
            "type": "histogram2dcontour"
           }
          ],
          "mesh3d": [
           {
            "colorbar": {
             "outlinewidth": 0,
             "ticks": ""
            },
            "type": "mesh3d"
           }
          ],
          "parcoords": [
           {
            "line": {
             "colorbar": {
              "outlinewidth": 0,
              "ticks": ""
             }
            },
            "type": "parcoords"
           }
          ],
          "pie": [
           {
            "automargin": true,
            "type": "pie"
           }
          ],
          "scatter": [
           {
            "fillpattern": {
             "fillmode": "overlay",
             "size": 10,
             "solidity": 0.2
            },
            "type": "scatter"
           }
          ],
          "scatter3d": [
           {
            "line": {
             "colorbar": {
              "outlinewidth": 0,
              "ticks": ""
             }
            },
            "marker": {
             "colorbar": {
              "outlinewidth": 0,
              "ticks": ""
             }
            },
            "type": "scatter3d"
           }
          ],
          "scattercarpet": [
           {
            "marker": {
             "colorbar": {
              "outlinewidth": 0,
              "ticks": ""
             }
            },
            "type": "scattercarpet"
           }
          ],
          "scattergeo": [
           {
            "marker": {
             "colorbar": {
              "outlinewidth": 0,
              "ticks": ""
             }
            },
            "type": "scattergeo"
           }
          ],
          "scattergl": [
           {
            "marker": {
             "colorbar": {
              "outlinewidth": 0,
              "ticks": ""
             }
            },
            "type": "scattergl"
           }
          ],
          "scattermapbox": [
           {
            "marker": {
             "colorbar": {
              "outlinewidth": 0,
              "ticks": ""
             }
            },
            "type": "scattermapbox"
           }
          ],
          "scatterpolar": [
           {
            "marker": {
             "colorbar": {
              "outlinewidth": 0,
              "ticks": ""
             }
            },
            "type": "scatterpolar"
           }
          ],
          "scatterpolargl": [
           {
            "marker": {
             "colorbar": {
              "outlinewidth": 0,
              "ticks": ""
             }
            },
            "type": "scatterpolargl"
           }
          ],
          "scatterternary": [
           {
            "marker": {
             "colorbar": {
              "outlinewidth": 0,
              "ticks": ""
             }
            },
            "type": "scatterternary"
           }
          ],
          "surface": [
           {
            "colorbar": {
             "outlinewidth": 0,
             "ticks": ""
            },
            "colorscale": [
             [
              0,
              "#0d0887"
             ],
             [
              0.1111111111111111,
              "#46039f"
             ],
             [
              0.2222222222222222,
              "#7201a8"
             ],
             [
              0.3333333333333333,
              "#9c179e"
             ],
             [
              0.4444444444444444,
              "#bd3786"
             ],
             [
              0.5555555555555556,
              "#d8576b"
             ],
             [
              0.6666666666666666,
              "#ed7953"
             ],
             [
              0.7777777777777778,
              "#fb9f3a"
             ],
             [
              0.8888888888888888,
              "#fdca26"
             ],
             [
              1,
              "#f0f921"
             ]
            ],
            "type": "surface"
           }
          ],
          "table": [
           {
            "cells": {
             "fill": {
              "color": "#EBF0F8"
             },
             "line": {
              "color": "white"
             }
            },
            "header": {
             "fill": {
              "color": "#C8D4E3"
             },
             "line": {
              "color": "white"
             }
            },
            "type": "table"
           }
          ]
         },
         "layout": {
          "annotationdefaults": {
           "arrowcolor": "#2a3f5f",
           "arrowhead": 0,
           "arrowwidth": 1
          },
          "autotypenumbers": "strict",
          "coloraxis": {
           "colorbar": {
            "outlinewidth": 0,
            "ticks": ""
           }
          },
          "colorscale": {
           "diverging": [
            [
             0,
             "#8e0152"
            ],
            [
             0.1,
             "#c51b7d"
            ],
            [
             0.2,
             "#de77ae"
            ],
            [
             0.3,
             "#f1b6da"
            ],
            [
             0.4,
             "#fde0ef"
            ],
            [
             0.5,
             "#f7f7f7"
            ],
            [
             0.6,
             "#e6f5d0"
            ],
            [
             0.7,
             "#b8e186"
            ],
            [
             0.8,
             "#7fbc41"
            ],
            [
             0.9,
             "#4d9221"
            ],
            [
             1,
             "#276419"
            ]
           ],
           "sequential": [
            [
             0,
             "#0d0887"
            ],
            [
             0.1111111111111111,
             "#46039f"
            ],
            [
             0.2222222222222222,
             "#7201a8"
            ],
            [
             0.3333333333333333,
             "#9c179e"
            ],
            [
             0.4444444444444444,
             "#bd3786"
            ],
            [
             0.5555555555555556,
             "#d8576b"
            ],
            [
             0.6666666666666666,
             "#ed7953"
            ],
            [
             0.7777777777777778,
             "#fb9f3a"
            ],
            [
             0.8888888888888888,
             "#fdca26"
            ],
            [
             1,
             "#f0f921"
            ]
           ],
           "sequentialminus": [
            [
             0,
             "#0d0887"
            ],
            [
             0.1111111111111111,
             "#46039f"
            ],
            [
             0.2222222222222222,
             "#7201a8"
            ],
            [
             0.3333333333333333,
             "#9c179e"
            ],
            [
             0.4444444444444444,
             "#bd3786"
            ],
            [
             0.5555555555555556,
             "#d8576b"
            ],
            [
             0.6666666666666666,
             "#ed7953"
            ],
            [
             0.7777777777777778,
             "#fb9f3a"
            ],
            [
             0.8888888888888888,
             "#fdca26"
            ],
            [
             1,
             "#f0f921"
            ]
           ]
          },
          "colorway": [
           "#636efa",
           "#EF553B",
           "#00cc96",
           "#ab63fa",
           "#FFA15A",
           "#19d3f3",
           "#FF6692",
           "#B6E880",
           "#FF97FF",
           "#FECB52"
          ],
          "font": {
           "color": "#2a3f5f"
          },
          "geo": {
           "bgcolor": "white",
           "lakecolor": "white",
           "landcolor": "#E5ECF6",
           "showlakes": true,
           "showland": true,
           "subunitcolor": "white"
          },
          "hoverlabel": {
           "align": "left"
          },
          "hovermode": "closest",
          "mapbox": {
           "style": "light"
          },
          "paper_bgcolor": "white",
          "plot_bgcolor": "#E5ECF6",
          "polar": {
           "angularaxis": {
            "gridcolor": "white",
            "linecolor": "white",
            "ticks": ""
           },
           "bgcolor": "#E5ECF6",
           "radialaxis": {
            "gridcolor": "white",
            "linecolor": "white",
            "ticks": ""
           }
          },
          "scene": {
           "xaxis": {
            "backgroundcolor": "#E5ECF6",
            "gridcolor": "white",
            "gridwidth": 2,
            "linecolor": "white",
            "showbackground": true,
            "ticks": "",
            "zerolinecolor": "white"
           },
           "yaxis": {
            "backgroundcolor": "#E5ECF6",
            "gridcolor": "white",
            "gridwidth": 2,
            "linecolor": "white",
            "showbackground": true,
            "ticks": "",
            "zerolinecolor": "white"
           },
           "zaxis": {
            "backgroundcolor": "#E5ECF6",
            "gridcolor": "white",
            "gridwidth": 2,
            "linecolor": "white",
            "showbackground": true,
            "ticks": "",
            "zerolinecolor": "white"
           }
          },
          "shapedefaults": {
           "line": {
            "color": "#2a3f5f"
           }
          },
          "ternary": {
           "aaxis": {
            "gridcolor": "white",
            "linecolor": "white",
            "ticks": ""
           },
           "baxis": {
            "gridcolor": "white",
            "linecolor": "white",
            "ticks": ""
           },
           "bgcolor": "#E5ECF6",
           "caxis": {
            "gridcolor": "white",
            "linecolor": "white",
            "ticks": ""
           }
          },
          "title": {
           "x": 0.05
          },
          "xaxis": {
           "automargin": true,
           "gridcolor": "white",
           "linecolor": "white",
           "ticks": "",
           "title": {
            "standoff": 15
           },
           "zerolinecolor": "white",
           "zerolinewidth": 2
          },
          "yaxis": {
           "automargin": true,
           "gridcolor": "white",
           "linecolor": "white",
           "ticks": "",
           "title": {
            "standoff": 15
           },
           "zerolinecolor": "white",
           "zerolinewidth": 2
          }
         }
        },
        "title": {
         "text": "BHRS13-2B5L1A_01 - 1/X",
         "x": 0.5,
         "xanchor": "center"
        },
        "width": 900,
        "xaxis": {
         "dtick": 100,
         "gridcolor": "lightgray",
         "gridwidth": 1,
         "linecolor": "black",
         "linewidth": 1,
         "showline": true,
         "tick0": 0,
         "title": {
          "text": "Temperature (&deg;C)"
         }
        },
        "yaxis": {
         "autorange": true,
         "gridcolor": "lightgray",
         "gridwidth": 1,
         "linecolor": "black",
         "linewidth": 1,
         "showline": true,
         "tickformat": ".1e",
         "title": {
          "text": "1/X"
         }
        }
       }
      }
     },
     "metadata": {},
     "output_type": "display_data"
    }
   ],
   "source": [
    "fig, fig_dXdT, fig_inv = rmag.plot_X_T(selected_experiment, \n",
    "                                       temp_unit='C', \n",
    "                                       remove_holder=True, \n",
    "                                       smooth_window=10)"
   ]
  },
  {
   "cell_type": "markdown",
   "metadata": {},
   "source": [
    "## Save the figures"
   ]
  },
  {
   "cell_type": "code",
   "execution_count": null,
   "metadata": {},
   "outputs": [],
   "source": [
    "## code for saving the figures in png format\n",
    "# save the first figure\n",
    "fig.write_image(\"fig.png\")"
   ]
  },
  {
   "cell_type": "code",
   "execution_count": null,
   "metadata": {},
   "outputs": [],
   "source": [
    "# save the dX/dT figure\n",
    "fig_dXdT.write_image(\"fig_dXdT.png\")"
   ]
  },
  {
   "cell_type": "code",
   "execution_count": null,
   "metadata": {},
   "outputs": [],
   "source": [
    "# save the 1/X vs T figure\n",
    "fig_inv.write_image(\"fig_inv.png\")"
   ]
  },
  {
   "cell_type": "markdown",
   "metadata": {},
   "source": [
    "## Determining the best temperature window for smoothing\n",
    "\n",
    "The following function plots the **model roughness** against the **root mean square error** of the model **(note that the y-axis is inverted)** (a measure of the difference between the running average and the data). Each point on the graph is for a different temperature window size. The `knee` in the curve (the break of slope) is the optimal tempeature window. At this point (window) there is a decent trade off between the smoothness of the model (the running average) and error on the model.\n",
    "\n",
    "set values for `min_temp_window` and `max_temp_window` to set the temperature range for exploring the rms and variance tradeoff."
   ]
  },
  {
   "cell_type": "code",
   "execution_count": null,
   "metadata": {},
   "outputs": [
    {
     "data": {
      "image/png": "[encoded data removed]",
      "text/plain": [
       "<Figure size 1000x600 with 3 Axes>"
      ]
     },
     "metadata": {},
     "output_type": "display_data"
    }
   ],
   "source": [
    "min_temp_window = 0\n",
    "max_temp_window = 50\n",
    "steps = 50\n",
    "fig, ax = rmag.optimize_X_T_running_average_window(selected_experiment, min_temp_window, max_temp_window, steps=steps)"
   ]
  },
  {
   "cell_type": "code",
   "execution_count": null,
   "metadata": {},
   "outputs": [],
   "source": [
    "# save the figure\n",
    "fig.savefig(\"optimize_window_size.png\")"
   ]
  }
 ],
 "metadata": {
  "celltoolbar": "Tags",
  "kernelspec": {
   "display_name": "base",
   "language": "python",
   "name": "python3"
  },
  "language_info": {
   "codemirror_mode": {
    "name": "ipython",
    "version": 3
   },
   "file_extension": ".py",
   "mimetype": "text/x-python",
   "name": "python",
   "nbconvert_exporter": "python",
   "pygments_lexer": "ipython3",
   "version": "3.9.13"
  }
 },
 "nbformat": 4,
 "nbformat_minor": 4
}
