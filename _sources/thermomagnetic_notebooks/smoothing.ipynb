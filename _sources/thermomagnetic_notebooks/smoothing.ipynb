{
 "cells": [
  {
   "cell_type": "markdown",
   "id": "92645d30",
   "metadata": {},
   "source": [
    "## Determining the best temperature window for smoothing\n",
    "\n",
    "The following function plots the **model roughness** against the **root mean square error** of the model **(note that the y-axis is inverted)** (a measure of the difference between the running average and the data). Each point on the graph is for a different temperature window size. The `knee` in the curve (the break of slope) can be interpreted as the optimal temperature window for smoothing. At this point (window) there is a decent trade off between the smoothness of the model (the running average) and error on the model.\n",
    "\n",
    "Set values for `min_temp_window` and `max_temp_window` to set the temperature range for exploring the rms and variance tradeoff."
   ]
  },
  {
   "cell_type": "code",
   "execution_count": null,
   "id": "f279c227",
   "metadata": {
    "vscode": {
     "languageId": "plaintext"
    }
   },
   "outputs": [],
   "source": [
    "min_temp_window = 0\n",
    "max_temp_window = 50\n",
    "steps = 20\n",
    "fig, ax = rmag.optimize_moving_average_window(selected_experiment, min_temp_window, max_temp_window, steps=steps)"
   ]
  },
  {
   "cell_type": "code",
   "execution_count": null,
   "id": "ee35ba07",
   "metadata": {
    "vscode": {
     "languageId": "plaintext"
    }
   },
   "outputs": [],
   "source": [
    "min_temp_window = 0\n",
    "max_temp_window = 50\n",
    "steps = 20\n",
    "fig, ax = rmag.optimize_moving_average_window(selected_experiment, min_temp_window, max_temp_window, steps=steps)"
   ]
  },
  {
   "cell_type": "code",
   "execution_count": null,
   "id": "f01e3db5",
   "metadata": {
    "vscode": {
     "languageId": "plaintext"
    }
   },
   "outputs": [],
   "source": [
    "- upon inspecting the plot, a smoothing window size of about 10 K seems to be a good choice for this dataset."
   ]
  },
  {
   "cell_type": "code",
   "execution_count": null,
   "id": "fe4f0d20",
   "metadata": {
    "vscode": {
     "languageId": "plaintext"
    }
   },
   "outputs": [],
   "source": [
    "# save the figure\n",
    "fig.savefig(\"optimize_window_size.png\")"
   ]
  }
 ],
 "metadata": {
  "language_info": {
   "name": "python"
  }
 },
 "nbformat": 4,
 "nbformat_minor": 5
}
