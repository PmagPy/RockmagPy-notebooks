{
 "cells": [
  {
   "cell_type": "markdown",
   "metadata": {},
   "source": [
    "# Getting going with rockmag.py on JupyterHub\n",
    "\n",
    "## First step!\n",
    "\n",
    "**Change kernel in JupyterHub to Python 3.10**"
   ]
  },
  {
   "cell_type": "markdown",
   "metadata": {},
   "source": [
    "## Jupyter notebooks and JupyterHub\n",
    "\n",
    "The [Jupyter notebook](https://jupyter-notebook-beginner-guide.readthedocs.io/en/latest/what_is_jupyter.html) environment environment enables us to interactively run code and visualize the output complete with annotated notes (like this one!). Such a notebook can be run locally on one's computer with a Python installation or can be run on a JupyterHub such as the [EarthRef JupyterHub](https://jupyterhub.earthref.org/) server.\n",
    "\n",
    "### Upload and download from JupyterHub\n",
    "\n",
    "To upload data from a computer, click the 'Upload' button.  To download a particular image or data file, it can be opened and then downloaded using the File menu. You can upload this notebook (which you can [download here](https://github.com/PmagPy/RockmagPy-notebooks/blob/main/rockmag_set_up.ipynb)\n",
    "[click the download button]) to JupyterHub (if you haven't already) to get setup with RockmagPy notebooks.\n",
    "\n",
    "### Jupyter notebook anatomy\n",
    "\n",
    "Jupyter notebooks have two basic cell type:\n",
    "\n",
    "- Markdown: for typesetting notes. This cell is an example of a markdown cell.  Here is a \"cheatsheet\" for markdown typesetting: https://medium.com/ibm-data-science-experience/markdown-for-jupyter-notebooks-cheatsheet-386c05aeebed if you are hungry for more. \n",
    "\n",
    "- Code: for writing python code\n",
    "\n",
    "Insert a new cell by selecting 'Insert Cell Below' in the drop-down menu under 'Insert'. Cell types default to 'Code' but the cell type can be changed to 'Markdown' with the box labeled 'Markdown' on the menu bar.  \n",
    "\n",
    "To 'execute' a cell of either flavor, click on the Run key, select Run Cells under the _Cell_ drop-down menu, or type `Shift+Enter`. \n",
    "\n",
    "## What is `PmagPy`?  \n",
    "\n",
    "`PmagPy` (Tauxe et al., 2016; [doi:10.1002/2016GC006307](https://agupubs.onlinelibrary.wiley.com/doi/full/10.1002/2016GC006307)) is a software package including programs and functions for analyzing paleomagnetic and rock magnetic data using Python. In addition to providing tools for the working paleomagnetist, **PmagPy** serves  as an interface between paleomagnetic laboratory data and the [MagIC database](https://earthref.org/MagIC). \n",
    "\n",
    "The documentation for PmagPy is located here: https://pmagpy.github.io/PmagPy-docs/\n",
    "\n",
    "## What is `RockmagPy`?  \n",
    "\n",
    "`RockmagPy` is a module within `PmagPy` focused on functions for analyzing rock magnetic data in MagIC format using Python. \n",
    "\n",
    "The documentation for RockmagPy is located here: https://pmagpy.github.io/RockmagPy-notebooks/\n",
    "\n",
    "## Installing the latest release of `PmagPy`\n",
    "\n",
    "Running the cell (by selecting it and then pressing run), will install the latest version of `PmagPy`."
   ]
  },
  {
   "cell_type": "code",
   "execution_count": 2,
   "metadata": {},
   "outputs": [
    {
     "name": "stdout",
     "output_type": "stream",
     "text": [
      "Requirement already up-to-date: pmagpy in ./.local/lib/python3.6/site-packages (4.2.115)\r\n"
     ]
    }
   ],
   "source": [
    "%pip install pmagpy --user --upgrade # install or upgrade pmagpy in your user packages\n",
    "%pip install cartopy --user --upgrade # install or upgrade cartopy in your user packages"
   ]
  },
  {
   "cell_type": "markdown",
   "metadata": {},
   "source": [
    "## Get the RockmagPy-notebook materials from GitHub:\n",
    "\n",
    "Run the code block below to pull in the files and RockmagPy Jupyter Notebooks from Github (https://github.com/PmagPy/RockmagPy-notebooks)."
   ]
  },
  {
   "cell_type": "code",
   "execution_count": 3,
   "metadata": {},
   "outputs": [
    {
     "name": "stdout",
     "output_type": "stream",
     "text": [
      "--2024-02-07 16:42:21--  https://github.com/PmagPy/RockmagPy-notebooks/tarball/master\n",
      "Resolving github.com (github.com)... 192.30.255.112\n",
      "Connecting to github.com (github.com)|192.30.255.112|:443... connected.\n",
      "HTTP request sent, awaiting response... 302 Found\n",
      "Location: https://codeload.github.com/PmagPy/RockmagPy-notebooks/legacy.tar.gz/main [following]\n",
      "--2024-02-07 16:42:21--  https://codeload.github.com/PmagPy/RockmagPy-notebooks/legacy.tar.gz/main\n",
      "Resolving codeload.github.com (codeload.github.com)... 192.30.255.120\n",
      "Connecting to codeload.github.com (codeload.github.com)|192.30.255.120|:443... connected.\n",
      "HTTP request sent, awaiting response... 200 OK\n",
      "Length: unspecified [application/x-gzip]\n",
      "Saving to: ‘STDOUT’\n",
      "\n",
      "-                       [ <=>                ]   1.11M  --.-KB/s    in 0.08s   \n",
      "\n",
      "2024-02-07 16:42:22 (13.9 MB/s) - written to stdout [1162285]\n",
      "\n"
     ]
    }
   ],
   "source": [
    "!rm -Rf ~/rockmag # remove any existing downloaded files\n",
    "!mkdir ~/rockmag # make space for downloaded files\n",
    "!wget -O - https://github.com/PmagPy/RockmagPy-notebooks/tarball/master | tar xz -C ~/rockmag # download the latest files"
   ]
  },
  {
   "cell_type": "markdown",
   "metadata": {},
   "source": [
    "## Next step:\n",
    "\n",
    "- Click on 'Open' under the 'File' menu. You may need to refresh your browser to see the new **rockmag** directory). Open the  **rockmag** directory and navigate through to your notebook of choice. \n",
    "\n",
    "- You can return to this notebook and re-run the cells above to **upgrade the packages** or **reset and update the  notebook library and data files** in the future."
   ]
  }
 ],
 "metadata": {
  "kernelspec": {
   "display_name": "Python 3",
   "language": "python",
   "name": "python3"
  },
  "language_info": {
   "codemirror_mode": {
    "name": "ipython",
    "version": 3
   },
   "file_extension": ".py",
   "mimetype": "text/x-python",
   "name": "python",
   "nbconvert_exporter": "python",
   "pygments_lexer": "ipython3",
   "version": "3.6.8"
  }
 },
 "nbformat": 4,
 "nbformat_minor": 2
}
