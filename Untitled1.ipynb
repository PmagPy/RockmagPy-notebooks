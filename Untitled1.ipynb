{
 "cells": [
  {
   "cell_type": "code",
   "execution_count": 1,
   "id": "e21c054c",
   "metadata": {},
   "outputs": [
    {
     "name": "stdout",
     "output_type": "stream",
     "text": [
      "Collecting pmagpy\n",
      "  Obtaining dependency information for pmagpy from https://files.pythonhosted.org/packages/62/a5/2aebb507a625be2ad36ce71c22f4f871dd9ba21163d7cfa4ea12213f8e65/pmagpy-4.2.115-py3-none-any.whl.metadata\n",
      "  Downloading pmagpy-4.2.115-py3-none-any.whl.metadata (7.9 kB)\n",
      "Using cached pmagpy-4.2.115-py3-none-any.whl (41.4 MB)\n",
      "Installing collected packages: pmagpy\n",
      "Successfully installed pmagpy-4.2.115\n",
      "Note: you may need to restart the kernel to use updated packages.\n"
     ]
    }
   ],
   "source": [
    "pip install pmagpy"
   ]
  },
  {
   "cell_type": "code",
   "execution_count": null,
   "id": "156a9eab",
   "metadata": {},
   "outputs": [],
   "source": []
  }
 ],
 "metadata": {
  "kernelspec": {
   "display_name": "Python 3 (ipykernel)",
   "language": "python",
   "name": "python3"
  },
  "language_info": {
   "codemirror_mode": {
    "name": "ipython",
    "version": 3
   },
   "file_extension": ".py",
   "mimetype": "text/x-python",
   "name": "python",
   "nbconvert_exporter": "python",
   "pygments_lexer": "ipython3",
   "version": "3.11.5"
  }
 },
 "nbformat": 4,
 "nbformat_minor": 5
}
